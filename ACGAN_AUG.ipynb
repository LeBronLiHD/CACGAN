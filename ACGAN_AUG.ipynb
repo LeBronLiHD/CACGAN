{
 "cells": [
  {
   "cell_type": "code",
   "execution_count": 1,
   "id": "370513dc",
   "metadata": {},
   "outputs": [
    {
     "name": "stdout",
     "output_type": "stream",
     "text": [
      "Looking in indexes: http://mirrors.aliyun.com/pypi/simple\n",
      "Requirement already satisfied: opencv-python in /root/miniconda3/lib/python3.8/site-packages (4.5.5.64)\n",
      "Requirement already satisfied: torchsummary in /root/miniconda3/lib/python3.8/site-packages (1.5.1)\n",
      "Requirement already satisfied: scikit-learn in /root/miniconda3/lib/python3.8/site-packages (1.1.1)\n",
      "Requirement already satisfied: torchviz in /root/miniconda3/lib/python3.8/site-packages (0.0.2)\n",
      "Requirement already satisfied: utils in /root/miniconda3/lib/python3.8/site-packages (1.0.1)\n",
      "Requirement already satisfied: numpy>=1.17.3 in /root/miniconda3/lib/python3.8/site-packages (from opencv-python) (1.21.4)\n",
      "Requirement already satisfied: threadpoolctl>=2.0.0 in /root/miniconda3/lib/python3.8/site-packages (from scikit-learn) (3.1.0)\n",
      "Requirement already satisfied: joblib>=1.0.0 in /root/miniconda3/lib/python3.8/site-packages (from scikit-learn) (1.1.0)\n",
      "Requirement already satisfied: scipy>=1.3.2 in /root/miniconda3/lib/python3.8/site-packages (from scikit-learn) (1.8.1)\n",
      "Requirement already satisfied: graphviz in /root/miniconda3/lib/python3.8/site-packages (from torchviz) (0.20)\n",
      "Requirement already satisfied: torch in /root/miniconda3/lib/python3.8/site-packages (from torchviz) (1.10.0+cu113)\n",
      "Requirement already satisfied: typing-extensions in /root/miniconda3/lib/python3.8/site-packages (from torch->torchviz) (4.0.0)\n",
      "\u001b[33mWARNING: Running pip as the 'root' user can result in broken permissions and conflicting behaviour with the system package manager. It is recommended to use a virtual environment instead: https://pip.pypa.io/warnings/venv\u001b[0m\n"
     ]
    }
   ],
   "source": [
    "!pip install opencv-python torchsummary scikit-learn torchviz utils"
   ]
  },
  {
   "cell_type": "code",
   "execution_count": 2,
   "id": "6a6a2202",
   "metadata": {},
   "outputs": [],
   "source": [
    "import torch\n",
    "import torch.nn as nn\n",
    "import torch.nn.parallel\n",
    "import torch.nn.functional as F\n",
    "import torch.backends.cudnn as cudnn\n",
    "import torch.optim as optim\n",
    "import torch.utils.data\n",
    "import torchvision.datasets as datasets\n",
    "import torchvision.transforms as transforms\n",
    "import torchvision.utils as vutils\n",
    "import utils\n",
    "from torch.nn.functional import one_hot\n",
    "from torchvision.utils import save_image\n",
    "from torch.autograd import Variable\n",
    "from torch.utils.data import SubsetRandomSampler"
   ]
  },
  {
   "cell_type": "code",
   "execution_count": 3,
   "id": "6cf2ef10",
   "metadata": {},
   "outputs": [
    {
     "name": "stdout",
     "output_type": "stream",
     "text": [
      "['sm_37', 'sm_50', 'sm_60', 'sm_70', 'sm_75', 'sm_80', 'sm_86'] cuda\n"
     ]
    }
   ],
   "source": [
    "device = \"cuda\" if torch.cuda.is_available() else \"cpu\"\n",
    "print(torch.cuda.get_arch_list(), device)"
   ]
  },
  {
   "cell_type": "code",
   "execution_count": 4,
   "id": "b8079c45",
   "metadata": {},
   "outputs": [],
   "source": [
    "from __future__ import print_function\n",
    "import argparse\n",
    "import datetime\n",
    "import matplotlib.pyplot as plt\n",
    "from IPython.display import HTML\n",
    "from IPython.display import clear_output\n",
    "from tqdm import tqdm\n",
    "import os\n",
    "from tqdm import notebook\n",
    "from sklearn.metrics import classification_report, confusion_matrix\n",
    "import gc\n",
    "import matplotlib.colors as mat_color\n",
    "import numpy as np\n",
    "from PIL import Image\n",
    "import random\n",
    "import cv2\n",
    "from torchvision.datasets import ImageNet, ImageFolder\n",
    "from torch.utils.data import DataLoader\n",
    "from torchsummary import summary\n",
    "from torchviz import make_dot"
   ]
  },
  {
   "cell_type": "code",
   "execution_count": 5,
   "id": "3eb59879",
   "metadata": {},
   "outputs": [],
   "source": [
    "def initialize_weights(net):\n",
    "    for m in net.modules():\n",
    "        if isinstance(m, nn.Conv2d):\n",
    "            m.weight.data.normal_(0, 0.02)\n",
    "            m.bias.data.zero_()\n",
    "        elif isinstance(m, nn.ConvTranspose2d):\n",
    "            m.weight.data.normal_(0, 0.02)\n",
    "            m.bias.data.zero_()\n",
    "        elif isinstance(m, nn.Linear):\n",
    "            m.weight.data.normal_(0, 0.02)\n",
    "            m.bias.data.zero_()\n",
    "\n",
    "class Generator(nn.Module):\n",
    "    # Network Architecture is exactly same as in infoGAN (https://arxiv.org/abs/1606.03657)\n",
    "    # Architecture : FC1024_BR-FC7x7x128_BR-(64)4dc2s_BR-(1)4dc2s_S\n",
    "    def __init__(self, input_dim=100, output_dim=1, input_size=32, class_num=10):\n",
    "        super(Generator, self).__init__()\n",
    "        self.input_dim = input_dim\n",
    "        self.output_dim = output_dim\n",
    "        self.input_size = input_size\n",
    "        self.class_num = class_num\n",
    "\n",
    "        self.fc = nn.Sequential(\n",
    "            nn.Linear(self.input_dim + self.class_num, 1024),\n",
    "            nn.BatchNorm1d(1024),\n",
    "            nn.ReLU(),\n",
    "            nn.Linear(1024, 128 * (self.input_size // 4) * (self.input_size // 4)),\n",
    "            nn.BatchNorm1d(128 * (self.input_size // 4) * (self.input_size // 4)),\n",
    "            nn.ReLU(),\n",
    "        )\n",
    "        self.deconv = nn.Sequential(\n",
    "            nn.ConvTranspose2d(128, 64, 4, 2, 1),\n",
    "            nn.BatchNorm2d(64),\n",
    "            nn.ReLU(),\n",
    "            nn.ConvTranspose2d(64, self.output_dim, 4, 2, 1),\n",
    "            nn.Tanh(),\n",
    "        )\n",
    "        initialize_weights(self)\n",
    "\n",
    "    def forward(self, input, label):\n",
    "        x = torch.cat([input, label], 1)\n",
    "        x = self.fc(x)\n",
    "        x = x.view(-1, 128, (self.input_size // 4), (self.input_size // 4))\n",
    "        x = self.deconv(x)\n",
    "\n",
    "        return x\n",
    "\n",
    "    \n",
    "class Discriminator(nn.Module):\n",
    "    # Network Architecture is exactly same as in infoGAN (https://arxiv.org/abs/1606.03657)\n",
    "    # Architecture : (64)4c2s-(128)4c2s_BL-FC1024_BL-FC1_S\n",
    "    def __init__(self, input_dim=1, output_dim=1, input_size=32, class_num=10):\n",
    "        super(Discriminator, self).__init__()\n",
    "        self.input_dim = input_dim\n",
    "        self.output_dim = output_dim\n",
    "        self.input_size = input_size\n",
    "        self.class_num = class_num\n",
    "\n",
    "        self.conv = nn.Sequential(\n",
    "            nn.Conv2d(self.input_dim, 64, 4, 2, 1),\n",
    "            nn.LeakyReLU(0.2),\n",
    "            nn.Conv2d(64, 128, 4, 2, 1),\n",
    "            nn.BatchNorm2d(128),\n",
    "            nn.LeakyReLU(0.2),\n",
    "        )\n",
    "        self.fc1 = nn.Sequential(\n",
    "            nn.Linear(128 * (self.input_size // 4) * (self.input_size // 4), 1024),\n",
    "            nn.BatchNorm1d(1024),\n",
    "            nn.LeakyReLU(0.2),\n",
    "        )\n",
    "        self.dc = nn.Sequential(\n",
    "            nn.Linear(1024, self.output_dim),\n",
    "            nn.Sigmoid(),\n",
    "        )\n",
    "        self.cl = nn.Sequential(\n",
    "            nn.Linear(1024, self.class_num),\n",
    "        )\n",
    "        initialize_weights(self)\n",
    "\n",
    "    def forward(self, input):\n",
    "        x = self.conv(input)\n",
    "        x = x.view(-1, 128 * (self.input_size // 4) * (self.input_size // 4))\n",
    "        x = self.fc1(x)\n",
    "        d = self.dc(x)\n",
    "        c = self.cl(x)\n",
    "\n",
    "        return d, c\n"
   ]
  },
  {
   "cell_type": "code",
   "execution_count": 6,
   "id": "220b9685",
   "metadata": {},
   "outputs": [],
   "source": [
    "base_path = './data'\n",
    "base_folder = \"Covid-19 Image Dataset\"\n",
    "classic_folder = 'Coivd-19_Classic'\n",
    "synthetic_folder = 'Coivd-19_Synthetic'\n",
    "data_dir = os.path.join(base_path, classic_folder)"
   ]
  },
  {
   "cell_type": "code",
   "execution_count": 7,
   "id": "9b6ea5a3",
   "metadata": {},
   "outputs": [],
   "source": [
    "batch_size = 32\n",
    "train_path = os.path.join(data_dir, \"train\")\n",
    "test_path = os.path.join(data_dir, \"test\")"
   ]
  },
  {
   "cell_type": "code",
   "execution_count": 8,
   "id": "1bf35c4c",
   "metadata": {},
   "outputs": [
    {
     "name": "stdout",
     "output_type": "stream",
     "text": [
      "['Covid', 'Normal', 'Viral Pneumonia']\n"
     ]
    }
   ],
   "source": [
    "labels = os.listdir(train_path)\n",
    "print(labels)\n",
    "no_norm = mat_color.Normalize(vmin=0, vmax=255, clip=False)\n",
    "label_dict = {\n",
    "    0 : 'Covid', \n",
    "    1 : 'Normal', \n",
    "    2 : 'Viral Pneumonia'\n",
    "}"
   ]
  },
  {
   "cell_type": "code",
   "execution_count": 9,
   "id": "28c7ac6b",
   "metadata": {
    "scrolled": true
   },
   "outputs": [
    {
     "name": "stdout",
     "output_type": "stream",
     "text": [
      "torch.Size([32])\n",
      "torch.Size([32, 3])\n",
      "torch.Size([32, 256])\n",
      "torch.Size([3, 256])\n",
      "torch.Size([3, 3])\n"
     ]
    }
   ],
   "source": [
    "# Number of training epochs\n",
    "num_epochs = 200\n",
    "#All images will be resized to this size using a transformer.\n",
    "img_size = 128 * 2\n",
    "# Number of channels in the training images. For color images this is 3\n",
    "nc = 3\n",
    "# Size of z latent vector (i.e. size of generator input)\n",
    "nz = img_size\n",
    "# Size of feature maps in generator\n",
    "ngf = img_size\n",
    "# Size of feature maps in discriminator\n",
    "ndf = img_size\n",
    "# No of labels\n",
    "nb_label = len(labels)\n",
    "# Learning rate for optimizers\n",
    "lr = 0.00000010\n",
    "lr_d = 0.00000002\n",
    "# Beta1 hyperparam for Adam optimizers\n",
    "beta1 = 0.5\n",
    "# Beta2 hyperparam for Adam optimizers\n",
    "beta2 = 0.999\n",
    "\n",
    "real_label = 1.\n",
    "fake_label = 0.\n",
    "s_criterion = nn.BCELoss().to(device) #For synthesizing\n",
    "c_criterion = nn.CrossEntropyLoss().to(device) #For classification\n",
    "\n",
    "s_label = torch.FloatTensor(batch_size).to(device)\n",
    "c_label = torch.FloatTensor(batch_size, nb_label).to(device)\n",
    "noise = torch.FloatTensor(batch_size, nz).to(device)\n",
    "\n",
    "s_label = Variable(s_label)\n",
    "c_label = Variable(c_label)\n",
    "print(s_label.shape)\n",
    "print(c_label.shape)\n",
    "print(noise.shape)\n",
    "\n",
    "noise = Variable(noise)\n",
    "\n",
    "noise_fixed = torch.FloatTensor(3, nz).to(device)\n",
    "noise_data = np.random.normal(0, 1, (3, nz))\n",
    "noise_fixed.data.copy_(torch.tensor(noise_data))\n",
    "noise_fixed = Variable(noise_fixed)\n",
    "\n",
    "label_fixed = torch.FloatTensor(3, 3).to(device)\n",
    "label_onehot = np.zeros((3, nb_label))\n",
    "label_fixed_data = [0, 1, 2]\n",
    "label_onehot[np.arange(1), label_fixed_data] = 1\n",
    "label_fixed.data.copy_(torch.tensor(label_onehot))\n",
    "label_fixed = Variable(label_fixed)\n",
    "\n",
    "print(noise_fixed.shape)\n",
    "print(label_fixed.shape)"
   ]
  },
  {
   "cell_type": "code",
   "execution_count": 10,
   "id": "bd17020a",
   "metadata": {},
   "outputs": [
    {
     "name": "stdout",
     "output_type": "stream",
     "text": [
      "[Errno 17] File exists: './GANAug'\n",
      "[Errno 17] File exists: './GANAug/model'\n",
      "[Errno 17] File exists: './GANAug/plots'\n",
      "[Errno 17] File exists: './GANAug/model/ACGAN'\n",
      "[Errno 17] File exists: './GANAug/plots/ACGAN'\n",
      "[Errno 17] File exists: './GANAug/output_images'\n",
      "[Errno 17] File exists: './GANAug/output_images/ACGAN'\n",
      "[Errno 17] File exists: './GANAug/output_images/ACGAN/Covid'\n",
      "[Errno 17] File exists: './GANAug/output_images/ACGAN/Normal'\n",
      "[Errno 17] File exists: './GANAug/output_images/ACGAN/Viral Pneumonia'\n"
     ]
    }
   ],
   "source": [
    "for func in [\n",
    "    lambda: os.mkdir(os.path.join('.', 'GANAug')),\n",
    "    lambda: os.mkdir(os.path.join('.', 'GANAug/model')),\n",
    "    lambda: os.mkdir(os.path.join('.', 'GANAug/plots')),\n",
    "    lambda: os.mkdir(os.path.join('.', 'GANAug/model/ACGAN')),\n",
    "    lambda: os.mkdir(os.path.join('.', 'GANAug/plots/ACGAN')),\n",
    "    lambda: os.mkdir(os.path.join('.', 'GANAug/output_images')),\n",
    "    lambda: os.mkdir(os.path.join('.', 'GANAug/output_images/ACGAN')),\n",
    "    lambda: os.mkdir(os.path.join('.', 'GANAug/output_images/ACGAN/' + label_dict[0])),\n",
    "    lambda: os.mkdir(os.path.join('.', 'GANAug/output_images/ACGAN/' + label_dict[1])),\n",
    "    lambda: os.mkdir(os.path.join('.', 'GANAug/output_images/ACGAN/' + label_dict[2]))]:  # create directories\n",
    "    try:\n",
    "        func()\n",
    "    except Exception as error:\n",
    "        print(error)\n",
    "        continue"
   ]
  },
  {
   "cell_type": "code",
   "execution_count": 11,
   "id": "74dda24a",
   "metadata": {},
   "outputs": [],
   "source": [
    "matrix_fields = [\n",
    "    'G_losses',\n",
    "    'G_class_losses',\n",
    "    'G_syn_losses',\n",
    "    'D_losses',\n",
    "    'D_real_losses',\n",
    "    'D_fake_losses',\n",
    "    'D_class_losses',\n",
    "    'D_syn_losses',\n",
    "    'Accuracy',\n",
    "    'Losses'\n",
    "]\n",
    "metrics = {field: list() for field in matrix_fields}"
   ]
  },
  {
   "cell_type": "code",
   "execution_count": 12,
   "id": "a26a75d2",
   "metadata": {},
   "outputs": [],
   "source": [
    "def load_dataset(train_dir=train_path, test_dir=test_path):\n",
    "    transform = transforms.Compose([\n",
    "        transforms.Resize((img_size, img_size)),\n",
    "        transforms.ToTensor(),\n",
    "        transforms.Normalize(mean=[0.485, 0.456, 0.406], std=[0.229, 0.224, 0.225]),\n",
    "        ])\n",
    "    train_data = datasets.ImageFolder(train_dir, transform=transform)\n",
    "    train_loader = DataLoader(train_data, batch_size, shuffle=True, num_workers=1)\n",
    "\n",
    "    test_data = datasets.ImageFolder(test_dir ,transform=transform)\n",
    "    test_loader = DataLoader(test_data, batch_size, shuffle=True, num_workers=1)\n",
    "\n",
    "    return train_loader, test_loader, train_data, test_data"
   ]
  },
  {
   "cell_type": "code",
   "execution_count": 13,
   "id": "bbb0b552",
   "metadata": {},
   "outputs": [],
   "source": [
    "train_loader, test_loader, train_data, test_data = load_dataset()"
   ]
  },
  {
   "cell_type": "code",
   "execution_count": 14,
   "id": "0360680c",
   "metadata": {},
   "outputs": [],
   "source": [
    "generator = Generator(input_dim=nz, output_dim=nc, input_size=ngf, class_num=nb_label).to(device)\n",
    "discriminator = Discriminator(input_dim=nc, output_dim=1, input_size=ndf, class_num=nb_label).to(device)\n",
    "\n",
    "# setup optimizer\n",
    "optimizerD = optim.Adam(discriminator.parameters(), lr=lr_d, betas=(beta1, beta2))\n",
    "optimizerG = optim.Adam(generator.parameters(), lr=lr, betas=(beta1, beta2))"
   ]
  },
  {
   "cell_type": "code",
   "execution_count": 15,
   "id": "8d141b1c",
   "metadata": {},
   "outputs": [
    {
     "name": "stdout",
     "output_type": "stream",
     "text": [
      "torch.Size([32, 3, 256, 256])\n"
     ]
    }
   ],
   "source": [
    "g_output = generator(torch.rand((batch_size, nz)).to(device), torch.ones((batch_size, nb_label)).to(device))\n",
    "print(g_output.shape)"
   ]
  },
  {
   "cell_type": "code",
   "execution_count": 16,
   "id": "8244b33d",
   "metadata": {},
   "outputs": [
    {
     "name": "stdout",
     "output_type": "stream",
     "text": [
      "torch.Size([32, 1])\n",
      "torch.Size([32, 3])\n"
     ]
    }
   ],
   "source": [
    "s_output, c_output = discriminator(torch.rand(g_output.shape).to(device))\n",
    "print(s_output.shape)\n",
    "print(c_output.shape)\n",
    "del g_output, s_output, c_output"
   ]
  },
  {
   "cell_type": "code",
   "execution_count": 17,
   "id": "065eed00",
   "metadata": {},
   "outputs": [
    {
     "name": "stdout",
     "output_type": "stream",
     "text": [
      "Looking in indexes: http://mirrors.aliyun.com/pypi/simple\n",
      "Requirement already satisfied: torchviz in /root/miniconda3/lib/python3.8/site-packages (0.0.2)\n",
      "Requirement already satisfied: graphviz in /root/miniconda3/lib/python3.8/site-packages (from torchviz) (0.20)\n",
      "Requirement already satisfied: torch in /root/miniconda3/lib/python3.8/site-packages (from torchviz) (1.10.0+cu113)\n",
      "Requirement already satisfied: typing-extensions in /root/miniconda3/lib/python3.8/site-packages (from torch->torchviz) (4.0.0)\n",
      "\u001b[33mWARNING: Running pip as the 'root' user can result in broken permissions and conflicting behaviour with the system package manager. It is recommended to use a virtual environment instead: https://pip.pypa.io/warnings/venv\u001b[0m\n"
     ]
    }
   ],
   "source": [
    "!pip install torchviz"
   ]
  },
  {
   "cell_type": "code",
   "execution_count": 18,
   "id": "81981a02",
   "metadata": {
    "scrolled": false
   },
   "outputs": [
    {
     "name": "stdout",
     "output_type": "stream",
     "text": [
      "Generator(\n",
      "  (fc): Sequential(\n",
      "    (0): Linear(in_features=259, out_features=1024, bias=True)\n",
      "    (1): BatchNorm1d(1024, eps=1e-05, momentum=0.1, affine=True, track_running_stats=True)\n",
      "    (2): ReLU()\n",
      "    (3): Linear(in_features=1024, out_features=524288, bias=True)\n",
      "    (4): BatchNorm1d(524288, eps=1e-05, momentum=0.1, affine=True, track_running_stats=True)\n",
      "    (5): ReLU()\n",
      "  )\n",
      "  (deconv): Sequential(\n",
      "    (0): ConvTranspose2d(128, 64, kernel_size=(4, 4), stride=(2, 2), padding=(1, 1))\n",
      "    (1): BatchNorm2d(64, eps=1e-05, momentum=0.1, affine=True, track_running_stats=True)\n",
      "    (2): ReLU()\n",
      "    (3): ConvTranspose2d(64, 3, kernel_size=(4, 4), stride=(2, 2), padding=(1, 1))\n",
      "    (4): Tanh()\n",
      "  )\n",
      ")\n",
      "Discriminator(\n",
      "  (conv): Sequential(\n",
      "    (0): Conv2d(3, 64, kernel_size=(4, 4), stride=(2, 2), padding=(1, 1))\n",
      "    (1): LeakyReLU(negative_slope=0.2)\n",
      "    (2): Conv2d(64, 128, kernel_size=(4, 4), stride=(2, 2), padding=(1, 1))\n",
      "    (3): BatchNorm2d(128, eps=1e-05, momentum=0.1, affine=True, track_running_stats=True)\n",
      "    (4): LeakyReLU(negative_slope=0.2)\n",
      "  )\n",
      "  (fc1): Sequential(\n",
      "    (0): Linear(in_features=524288, out_features=1024, bias=True)\n",
      "    (1): BatchNorm1d(1024, eps=1e-05, momentum=0.1, affine=True, track_running_stats=True)\n",
      "    (2): LeakyReLU(negative_slope=0.2)\n",
      "  )\n",
      "  (dc): Sequential(\n",
      "    (0): Linear(in_features=1024, out_features=1, bias=True)\n",
      "    (1): Sigmoid()\n",
      "  )\n",
      "  (cl): Sequential(\n",
      "    (0): Linear(in_features=1024, out_features=3, bias=True)\n",
      "  )\n",
      ")\n"
     ]
    }
   ],
   "source": [
    "print(generator)\n",
    "print(discriminator)"
   ]
  },
  {
   "cell_type": "code",
   "execution_count": 19,
   "id": "5e2592f2",
   "metadata": {},
   "outputs": [
    {
     "name": "stdout",
     "output_type": "stream",
     "text": [
      "----------------------------------------------------------------\n",
      "        Layer (type)               Output Shape         Param #\n",
      "================================================================\n",
      "            Linear-1                 [16, 1024]         266,240\n",
      "       BatchNorm1d-2                 [16, 1024]           2,048\n",
      "              ReLU-3                 [16, 1024]               0\n",
      "            Linear-4               [16, 524288]     537,395,200\n",
      "       BatchNorm1d-5               [16, 524288]       1,048,576\n",
      "              ReLU-6               [16, 524288]               0\n",
      "   ConvTranspose2d-7         [16, 64, 128, 128]         131,136\n",
      "       BatchNorm2d-8         [16, 64, 128, 128]             128\n",
      "              ReLU-9         [16, 64, 128, 128]               0\n",
      "  ConvTranspose2d-10          [16, 3, 256, 256]           3,075\n",
      "             Tanh-11          [16, 3, 256, 256]               0\n",
      "================================================================\n",
      "Total params: 538,846,403\n",
      "Trainable params: 538,846,403\n",
      "Non-trainable params: 0\n",
      "----------------------------------------------------------------\n",
      "Input size (MB): 0.05\n",
      "Forward/backward pass size (MB): 624.38\n",
      "Params size (MB): 2055.54\n",
      "Estimated Total Size (MB): 2679.96\n",
      "----------------------------------------------------------------\n"
     ]
    }
   ],
   "source": [
    "SHOW = True\n",
    "if SHOW:\n",
    "    summary(generator, [[nz], [nc]], batch_size=16, device=device)"
   ]
  },
  {
   "cell_type": "code",
   "execution_count": 20,
   "id": "57c2031b",
   "metadata": {},
   "outputs": [
    {
     "name": "stdout",
     "output_type": "stream",
     "text": [
      "----------------------------------------------------------------\n",
      "        Layer (type)               Output Shape         Param #\n",
      "================================================================\n",
      "            Conv2d-1         [16, 64, 128, 128]           3,136\n",
      "         LeakyReLU-2         [16, 64, 128, 128]               0\n",
      "            Conv2d-3          [16, 128, 64, 64]         131,200\n",
      "       BatchNorm2d-4          [16, 128, 64, 64]             256\n",
      "         LeakyReLU-5          [16, 128, 64, 64]               0\n",
      "            Linear-6                 [16, 1024]     536,871,936\n",
      "       BatchNorm1d-7                 [16, 1024]           2,048\n",
      "         LeakyReLU-8                 [16, 1024]               0\n",
      "            Linear-9                    [16, 1]           1,025\n",
      "          Sigmoid-10                    [16, 1]               0\n",
      "           Linear-11                    [16, 3]           3,075\n",
      "================================================================\n",
      "Total params: 537,012,676\n",
      "Trainable params: 537,012,676\n",
      "Non-trainable params: 0\n",
      "----------------------------------------------------------------\n",
      "Input size (MB): 12.00\n",
      "Forward/backward pass size (MB): 448.38\n",
      "Params size (MB): 2048.54\n",
      "Estimated Total Size (MB): 2508.92\n",
      "----------------------------------------------------------------\n"
     ]
    }
   ],
   "source": [
    "if SHOW:\n",
    "    summary(discriminator, (nc, img_size, img_size), batch_size=16, device=device)"
   ]
  },
  {
   "cell_type": "code",
   "execution_count": 21,
   "id": "0580f119",
   "metadata": {},
   "outputs": [],
   "source": [
    "SHOW_IMG = False\n",
    "if SHOW_IMG:\n",
    "    def modeltorchviz(model, input_1, input_2):\n",
    "        if input_2 != None:\n",
    "            y = model(input_1.to(device), input_2.to(device))\n",
    "        else:\n",
    "            y = model(input_1to(device))\n",
    "        if input_2 != None:\n",
    "            MyConvNetVis = make_dot(y, params=dict(list(model.named_parameters()) + [('x', input_1)] + [('x', input_2)]))\n",
    "        else:\n",
    "            MyConvNetVis = make_dot(y, params=dict(list(model.named_parameters()) + [('x', input_1)]))\n",
    "        MyConvNetVis.format = \"png\"\n",
    "        MyConvNetVis.directory = \"images\"\n",
    "        MyConvNetVis.view() "
   ]
  },
  {
   "cell_type": "code",
   "execution_count": 22,
   "id": "f0cd9edc",
   "metadata": {
    "scrolled": false
   },
   "outputs": [],
   "source": [
    "if SHOW_IMG:\n",
    "    modeltorchviz(generator, torch.randn(16, nz).requires_grad_(True), torch.randn(16, nb_label).requires_grad_(True))"
   ]
  },
  {
   "cell_type": "code",
   "execution_count": 23,
   "id": "d02b9f92",
   "metadata": {},
   "outputs": [],
   "source": [
    "if SHOW_IMG:\n",
    "    modeltorchviz(discriminator, torch.randn(1, nc, ndf, ndf).requires_grad_(True))"
   ]
  },
  {
   "cell_type": "code",
   "execution_count": 24,
   "id": "0d1b6459",
   "metadata": {},
   "outputs": [],
   "source": [
    "def test(predict, labels):\n",
    "    correct = 0\n",
    "    predict = torch.argmax(predict, dim=1)\n",
    "    labels = torch.argmax(labels, dim=1)\n",
    "    correct = predict.eq(labels.data).cpu().sum()\n",
    "    return correct, len(labels.data)"
   ]
  },
  {
   "cell_type": "code",
   "execution_count": 25,
   "id": "c2f610db",
   "metadata": {},
   "outputs": [
    {
     "name": "stdout",
     "output_type": "stream",
     "text": [
      "7938\n"
     ]
    }
   ],
   "source": [
    "early_stop_count = 0\n",
    "early_stop_patient = len(train_loader) * 42\n",
    "early_stop = False\n",
    "best_batch_loss = -1\n",
    "save_model = False\n",
    "print(early_stop_patient)"
   ]
  },
  {
   "cell_type": "code",
   "execution_count": 26,
   "id": "80f7f8aa",
   "metadata": {},
   "outputs": [],
   "source": [
    "def get_file_list(file_path, length):\n",
    "    dir_list = os.listdir(file_path)\n",
    "    dir_list = only_pth_file(dir_list)\n",
    "    if not dir_list:\n",
    "        return\n",
    "    else:\n",
    "        dir_list = sorted(dir_list,  key=lambda x: os.path.getmtime(os.path.join(file_path, x)))\n",
    "        print(\"files to be deleted < length =\", length ,\"> ->\", dir_list[0:length])\n",
    "        return dir_list[0:length]"
   ]
  },
  {
   "cell_type": "code",
   "execution_count": 27,
   "id": "af23ca91",
   "metadata": {},
   "outputs": [],
   "source": [
    "def only_pth_file(file_list):\n",
    "    new_list = []\n",
    "    for file in file_list:\n",
    "        if file[-4:] == \".pth\":\n",
    "            new_list.append(file)\n",
    "    return new_list"
   ]
  },
  {
   "cell_type": "code",
   "execution_count": null,
   "id": "0714f81e",
   "metadata": {
    "scrolled": true
   },
   "outputs": [
    {
     "name": "stderr",
     "output_type": "stream",
     "text": [
      "  0%|                                                                                                | 0/189 [00:00<?, ?it/s]"
     ]
    },
    {
     "name": "stdout",
     "output_type": "stream",
     "text": [
      "[1/200][1/189] ========== Loss_D: 1.4401, Loss_G: 2.0264, Acc_G: 11/32 = 34.3750\n"
     ]
    },
    {
     "name": "stderr",
     "output_type": "stream",
     "text": [
      "  1%|▉                                                                                       | 2/189 [00:02<03:59,  1.28s/it]"
     ]
    },
    {
     "name": "stdout",
     "output_type": "stream",
     "text": [
      "[1/200][2/189] ========== Loss_D: 1.4712, Loss_G: 2.1055, Acc_G: 11/32 = 34.3750\n"
     ]
    },
    {
     "name": "stderr",
     "output_type": "stream",
     "text": [
      "  2%|█▍                                                                                      | 3/189 [00:03<03:38,  1.17s/it]"
     ]
    },
    {
     "name": "stdout",
     "output_type": "stream",
     "text": [
      "[1/200][3/189] ========== Loss_D: 1.4434, Loss_G: 2.0266, Acc_G: 14/32 = 43.7500\n"
     ]
    },
    {
     "name": "stderr",
     "output_type": "stream",
     "text": [
      "  2%|█▊                                                                                      | 4/189 [00:05<03:49,  1.24s/it]"
     ]
    },
    {
     "name": "stdout",
     "output_type": "stream",
     "text": [
      "[1/200][4/189] ========== Loss_D: 1.4433, Loss_G: 2.0569, Acc_G: 10/32 = 31.2500\n"
     ]
    },
    {
     "name": "stderr",
     "output_type": "stream",
     "text": [
      "  3%|██▎                                                                                     | 5/189 [00:06<04:04,  1.33s/it]"
     ]
    },
    {
     "name": "stdout",
     "output_type": "stream",
     "text": [
      "[1/200][5/189] ========== Loss_D: 1.4241, Loss_G: 2.0189, Acc_G: 9/32 = 28.1250\n",
      "---------------------< lowest loss update -> 3.442948341369629 >---------------------\n"
     ]
    },
    {
     "name": "stderr",
     "output_type": "stream",
     "text": [
      "  3%|██▊                                                                                     | 6/189 [00:07<03:51,  1.27s/it]"
     ]
    },
    {
     "name": "stdout",
     "output_type": "stream",
     "text": [
      "[1/200][6/189] ========== Loss_D: 1.4358, Loss_G: 2.1399, Acc_G: 15/32 = 46.8750\n"
     ]
    },
    {
     "name": "stderr",
     "output_type": "stream",
     "text": [
      "  4%|███▎                                                                                    | 7/189 [00:09<03:52,  1.28s/it]"
     ]
    },
    {
     "name": "stdout",
     "output_type": "stream",
     "text": [
      "[1/200][7/189] ========== Loss_D: 1.4593, Loss_G: 2.0168, Acc_G: 13/32 = 40.6250\n"
     ]
    },
    {
     "name": "stderr",
     "output_type": "stream",
     "text": [
      "  4%|███▋                                                                                    | 8/189 [00:10<04:10,  1.39s/it]"
     ]
    },
    {
     "name": "stdout",
     "output_type": "stream",
     "text": [
      "[1/200][8/189] ========== Loss_D: 1.4529, Loss_G: 2.0421, Acc_G: 13/32 = 40.6250\n"
     ]
    },
    {
     "name": "stderr",
     "output_type": "stream",
     "text": [
      "  5%|████▏                                                                                   | 9/189 [00:11<03:59,  1.33s/it]"
     ]
    },
    {
     "name": "stdout",
     "output_type": "stream",
     "text": [
      "[1/200][9/189] ========== Loss_D: 1.4745, Loss_G: 2.1497, Acc_G: 15/32 = 46.8750\n"
     ]
    },
    {
     "name": "stderr",
     "output_type": "stream",
     "text": [
      "  5%|████▌                                                                                  | 10/189 [00:13<03:49,  1.28s/it]"
     ]
    },
    {
     "name": "stdout",
     "output_type": "stream",
     "text": [
      "[1/200][10/189] ========== Loss_D: 1.4435, Loss_G: 2.0101, Acc_G: 9/32 = 28.1250\n"
     ]
    },
    {
     "name": "stderr",
     "output_type": "stream",
     "text": [
      "  6%|█████                                                                                  | 11/189 [00:14<03:40,  1.24s/it]"
     ]
    },
    {
     "name": "stdout",
     "output_type": "stream",
     "text": [
      "[1/200][11/189] ========== Loss_D: 1.4450, Loss_G: 1.9589, Acc_G: 14/32 = 43.7500\n",
      "---------------------< lowest loss update -> 3.403975486755371 >---------------------\n"
     ]
    },
    {
     "name": "stderr",
     "output_type": "stream",
     "text": [
      "  6%|█████▌                                                                                 | 12/189 [00:15<03:35,  1.21s/it]"
     ]
    },
    {
     "name": "stdout",
     "output_type": "stream",
     "text": [
      "[1/200][12/189] ========== Loss_D: 1.4380, Loss_G: 2.0440, Acc_G: 9/32 = 28.1250\n"
     ]
    },
    {
     "name": "stderr",
     "output_type": "stream",
     "text": [
      "  7%|█████▉                                                                                 | 13/189 [00:16<03:56,  1.34s/it]"
     ]
    },
    {
     "name": "stdout",
     "output_type": "stream",
     "text": [
      "[1/200][13/189] ========== Loss_D: 1.4613, Loss_G: 2.0778, Acc_G: 15/32 = 46.8750\n"
     ]
    },
    {
     "name": "stderr",
     "output_type": "stream",
     "text": [
      "  7%|██████▍                                                                                | 14/189 [00:18<03:54,  1.34s/it]"
     ]
    },
    {
     "name": "stdout",
     "output_type": "stream",
     "text": [
      "[1/200][14/189] ========== Loss_D: 1.4437, Loss_G: 2.0655, Acc_G: 15/32 = 46.8750\n"
     ]
    },
    {
     "name": "stderr",
     "output_type": "stream",
     "text": [
      "  8%|██████▉                                                                                | 15/189 [00:19<03:39,  1.26s/it]"
     ]
    },
    {
     "name": "stdout",
     "output_type": "stream",
     "text": [
      "[1/200][15/189] ========== Loss_D: 1.4435, Loss_G: 2.1410, Acc_G: 10/32 = 31.2500\n"
     ]
    },
    {
     "name": "stderr",
     "output_type": "stream",
     "text": [
      "  8%|███████▎                                                                               | 16/189 [00:20<03:23,  1.18s/it]"
     ]
    },
    {
     "name": "stdout",
     "output_type": "stream",
     "text": [
      "[1/200][16/189] ========== Loss_D: 1.4421, Loss_G: 2.0124, Acc_G: 17/32 = 53.1250\n"
     ]
    },
    {
     "name": "stderr",
     "output_type": "stream",
     "text": [
      "  9%|███████▊                                                                               | 17/189 [00:21<03:26,  1.20s/it]"
     ]
    },
    {
     "name": "stdout",
     "output_type": "stream",
     "text": [
      "[1/200][17/189] ========== Loss_D: 1.4443, Loss_G: 2.0724, Acc_G: 8/32 = 25.0000\n"
     ]
    },
    {
     "name": "stderr",
     "output_type": "stream",
     "text": [
      " 10%|████████▎                                                                              | 18/189 [00:22<03:25,  1.20s/it]"
     ]
    },
    {
     "name": "stdout",
     "output_type": "stream",
     "text": [
      "[1/200][18/189] ========== Loss_D: 1.4397, Loss_G: 1.9702, Acc_G: 10/32 = 31.2500\n"
     ]
    },
    {
     "name": "stderr",
     "output_type": "stream",
     "text": [
      " 10%|████████▋                                                                              | 19/189 [00:23<03:16,  1.16s/it]"
     ]
    },
    {
     "name": "stdout",
     "output_type": "stream",
     "text": [
      "[1/200][19/189] ========== Loss_D: 1.4540, Loss_G: 1.9936, Acc_G: 8/32 = 25.0000\n"
     ]
    },
    {
     "name": "stderr",
     "output_type": "stream",
     "text": [
      " 11%|█████████▏                                                                             | 20/189 [00:25<03:33,  1.26s/it]"
     ]
    },
    {
     "name": "stdout",
     "output_type": "stream",
     "text": [
      "[1/200][20/189] ========== Loss_D: 1.4572, Loss_G: 2.0816, Acc_G: 11/32 = 34.3750\n"
     ]
    },
    {
     "name": "stderr",
     "output_type": "stream",
     "text": [
      " 11%|█████████▋                                                                             | 21/189 [00:26<03:17,  1.17s/it]"
     ]
    },
    {
     "name": "stdout",
     "output_type": "stream",
     "text": [
      "[1/200][21/189] ========== Loss_D: 1.4537, Loss_G: 2.0725, Acc_G: 12/32 = 37.5000\n"
     ]
    },
    {
     "name": "stderr",
     "output_type": "stream",
     "text": [
      " 12%|██████████▏                                                                            | 22/189 [00:27<03:14,  1.17s/it]"
     ]
    },
    {
     "name": "stdout",
     "output_type": "stream",
     "text": [
      "[1/200][22/189] ========== Loss_D: 1.4546, Loss_G: 1.9894, Acc_G: 15/32 = 46.8750\n"
     ]
    },
    {
     "name": "stderr",
     "output_type": "stream",
     "text": [
      " 12%|██████████▌                                                                            | 23/189 [00:29<03:30,  1.27s/it]"
     ]
    },
    {
     "name": "stdout",
     "output_type": "stream",
     "text": [
      "[1/200][23/189] ========== Loss_D: 1.4431, Loss_G: 2.1114, Acc_G: 12/32 = 37.5000\n"
     ]
    },
    {
     "name": "stderr",
     "output_type": "stream",
     "text": [
      " 13%|███████████                                                                            | 24/189 [00:30<03:36,  1.31s/it]"
     ]
    },
    {
     "name": "stdout",
     "output_type": "stream",
     "text": [
      "[1/200][24/189] ========== Loss_D: 1.4311, Loss_G: 2.0724, Acc_G: 9/32 = 28.1250\n"
     ]
    },
    {
     "name": "stderr",
     "output_type": "stream",
     "text": [
      " 13%|███████████▌                                                                           | 25/189 [00:31<03:34,  1.31s/it]"
     ]
    },
    {
     "name": "stdout",
     "output_type": "stream",
     "text": [
      "[1/200][25/189] ========== Loss_D: 1.4550, Loss_G: 1.9849, Acc_G: 7/32 = 21.8750\n"
     ]
    },
    {
     "name": "stderr",
     "output_type": "stream",
     "text": [
      " 14%|███████████▉                                                                           | 26/189 [00:32<03:17,  1.21s/it]"
     ]
    },
    {
     "name": "stdout",
     "output_type": "stream",
     "text": [
      "[1/200][26/189] ========== Loss_D: 1.4453, Loss_G: 2.0629, Acc_G: 10/32 = 31.2500\n"
     ]
    },
    {
     "name": "stderr",
     "output_type": "stream",
     "text": [
      " 14%|████████████▍                                                                          | 27/189 [00:33<03:13,  1.19s/it]"
     ]
    },
    {
     "name": "stdout",
     "output_type": "stream",
     "text": [
      "[1/200][27/189] ========== Loss_D: 1.4541, Loss_G: 2.0520, Acc_G: 8/32 = 25.0000\n"
     ]
    },
    {
     "name": "stderr",
     "output_type": "stream",
     "text": [
      " 15%|████████████▉                                                                          | 28/189 [00:34<03:07,  1.16s/it]"
     ]
    },
    {
     "name": "stdout",
     "output_type": "stream",
     "text": [
      "[1/200][28/189] ========== Loss_D: 1.4645, Loss_G: 2.0374, Acc_G: 6/32 = 18.7500\n"
     ]
    },
    {
     "name": "stderr",
     "output_type": "stream",
     "text": [
      " 15%|█████████████▎                                                                         | 29/189 [00:36<03:03,  1.15s/it]"
     ]
    },
    {
     "name": "stdout",
     "output_type": "stream",
     "text": [
      "[1/200][29/189] ========== Loss_D: 1.4431, Loss_G: 2.0448, Acc_G: 13/32 = 40.6250\n"
     ]
    },
    {
     "name": "stderr",
     "output_type": "stream",
     "text": [
      " 16%|█████████████▊                                                                         | 30/189 [00:37<03:07,  1.18s/it]"
     ]
    },
    {
     "name": "stdout",
     "output_type": "stream",
     "text": [
      "[1/200][30/189] ========== Loss_D: 1.4533, Loss_G: 2.0738, Acc_G: 8/32 = 25.0000\n"
     ]
    },
    {
     "name": "stderr",
     "output_type": "stream",
     "text": [
      " 16%|██████████████▎                                                                        | 31/189 [00:38<03:04,  1.17s/it]"
     ]
    },
    {
     "name": "stdout",
     "output_type": "stream",
     "text": [
      "[1/200][31/189] ========== Loss_D: 1.4516, Loss_G: 2.0111, Acc_G: 10/32 = 31.2500\n"
     ]
    },
    {
     "name": "stderr",
     "output_type": "stream",
     "text": [
      " 17%|██████████████▋                                                                        | 32/189 [00:39<03:20,  1.27s/it]"
     ]
    },
    {
     "name": "stdout",
     "output_type": "stream",
     "text": [
      "[1/200][32/189] ========== Loss_D: 1.4457, Loss_G: 2.0870, Acc_G: 12/32 = 37.5000\n"
     ]
    },
    {
     "name": "stderr",
     "output_type": "stream",
     "text": [
      " 17%|███████████████▏                                                                       | 33/189 [00:41<03:18,  1.28s/it]"
     ]
    },
    {
     "name": "stdout",
     "output_type": "stream",
     "text": [
      "[1/200][33/189] ========== Loss_D: 1.4615, Loss_G: 1.8735, Acc_G: 13/32 = 40.6250\n",
      "---------------------< lowest loss update -> 3.3350632190704346 >---------------------\n"
     ]
    },
    {
     "name": "stderr",
     "output_type": "stream",
     "text": [
      " 18%|███████████████▋                                                                       | 34/189 [00:42<03:20,  1.29s/it]"
     ]
    },
    {
     "name": "stdout",
     "output_type": "stream",
     "text": [
      "[1/200][34/189] ========== Loss_D: 1.4449, Loss_G: 2.0834, Acc_G: 9/32 = 28.1250\n"
     ]
    },
    {
     "name": "stderr",
     "output_type": "stream",
     "text": [
      " 19%|████████████████                                                                       | 35/189 [00:43<03:12,  1.25s/it]"
     ]
    },
    {
     "name": "stdout",
     "output_type": "stream",
     "text": [
      "[1/200][35/189] ========== Loss_D: 1.4467, Loss_G: 2.0271, Acc_G: 15/32 = 46.8750\n"
     ]
    },
    {
     "name": "stderr",
     "output_type": "stream",
     "text": [
      " 19%|████████████████▌                                                                      | 36/189 [00:45<03:21,  1.32s/it]"
     ]
    },
    {
     "name": "stdout",
     "output_type": "stream",
     "text": [
      "[1/200][36/189] ========== Loss_D: 1.4265, Loss_G: 1.9769, Acc_G: 15/32 = 46.8750\n"
     ]
    },
    {
     "name": "stderr",
     "output_type": "stream",
     "text": [
      " 20%|█████████████████                                                                      | 37/189 [00:46<03:18,  1.31s/it]"
     ]
    },
    {
     "name": "stdout",
     "output_type": "stream",
     "text": [
      "[1/200][37/189] ========== Loss_D: 1.4519, Loss_G: 2.1080, Acc_G: 10/32 = 31.2500\n"
     ]
    },
    {
     "name": "stderr",
     "output_type": "stream",
     "text": [
      " 20%|█████████████████▍                                                                     | 38/189 [00:47<03:15,  1.29s/it]"
     ]
    },
    {
     "name": "stdout",
     "output_type": "stream",
     "text": [
      "[1/200][38/189] ========== Loss_D: 1.4370, Loss_G: 2.0408, Acc_G: 11/32 = 34.3750\n"
     ]
    },
    {
     "name": "stderr",
     "output_type": "stream",
     "text": [
      " 21%|█████████████████▉                                                                     | 39/189 [00:49<03:13,  1.29s/it]"
     ]
    },
    {
     "name": "stdout",
     "output_type": "stream",
     "text": [
      "[1/200][39/189] ========== Loss_D: 1.4431, Loss_G: 2.0083, Acc_G: 13/32 = 40.6250\n"
     ]
    },
    {
     "name": "stderr",
     "output_type": "stream",
     "text": [
      " 21%|██████████████████▍                                                                    | 40/189 [00:50<03:13,  1.30s/it]"
     ]
    },
    {
     "name": "stdout",
     "output_type": "stream",
     "text": [
      "[1/200][40/189] ========== Loss_D: 1.4359, Loss_G: 1.9434, Acc_G: 10/32 = 31.2500\n"
     ]
    },
    {
     "name": "stderr",
     "output_type": "stream",
     "text": [
      " 22%|██████████████████▊                                                                    | 41/189 [00:51<03:09,  1.28s/it]"
     ]
    },
    {
     "name": "stdout",
     "output_type": "stream",
     "text": [
      "[1/200][41/189] ========== Loss_D: 1.4425, Loss_G: 2.0364, Acc_G: 9/32 = 28.1250\n"
     ]
    },
    {
     "name": "stderr",
     "output_type": "stream",
     "text": [
      " 22%|███████████████████▎                                                                   | 42/189 [00:52<03:01,  1.23s/it]"
     ]
    },
    {
     "name": "stdout",
     "output_type": "stream",
     "text": [
      "[1/200][42/189] ========== Loss_D: 1.4431, Loss_G: 1.9992, Acc_G: 14/32 = 43.7500\n"
     ]
    },
    {
     "name": "stderr",
     "output_type": "stream",
     "text": [
      " 23%|███████████████████▊                                                                   | 43/189 [00:54<03:02,  1.25s/it]"
     ]
    },
    {
     "name": "stdout",
     "output_type": "stream",
     "text": [
      "[1/200][43/189] ========== Loss_D: 1.4499, Loss_G: 2.0949, Acc_G: 8/32 = 25.0000\n"
     ]
    },
    {
     "name": "stderr",
     "output_type": "stream",
     "text": [
      " 23%|████████████████████▎                                                                  | 44/189 [00:55<03:00,  1.24s/it]"
     ]
    },
    {
     "name": "stdout",
     "output_type": "stream",
     "text": [
      "[1/200][44/189] ========== Loss_D: 1.4401, Loss_G: 2.0551, Acc_G: 11/32 = 34.3750\n"
     ]
    },
    {
     "name": "stderr",
     "output_type": "stream",
     "text": [
      " 24%|████████████████████▋                                                                  | 45/189 [00:56<03:16,  1.36s/it]"
     ]
    },
    {
     "name": "stdout",
     "output_type": "stream",
     "text": [
      "[1/200][45/189] ========== Loss_D: 1.4468, Loss_G: 2.0677, Acc_G: 12/32 = 37.5000\n"
     ]
    },
    {
     "name": "stderr",
     "output_type": "stream",
     "text": [
      " 24%|█████████████████████▏                                                                 | 46/189 [00:57<03:03,  1.28s/it]"
     ]
    },
    {
     "name": "stdout",
     "output_type": "stream",
     "text": [
      "[1/200][46/189] ========== Loss_D: 1.4430, Loss_G: 2.0380, Acc_G: 14/32 = 43.7500\n"
     ]
    },
    {
     "name": "stderr",
     "output_type": "stream",
     "text": [
      " 25%|█████████████████████▋                                                                 | 47/189 [00:59<03:05,  1.30s/it]"
     ]
    },
    {
     "name": "stdout",
     "output_type": "stream",
     "text": [
      "[1/200][47/189] ========== Loss_D: 1.4480, Loss_G: 2.0453, Acc_G: 8/32 = 25.0000\n"
     ]
    },
    {
     "name": "stderr",
     "output_type": "stream",
     "text": [
      " 25%|██████████████████████                                                                 | 48/189 [01:00<03:00,  1.28s/it]"
     ]
    },
    {
     "name": "stdout",
     "output_type": "stream",
     "text": [
      "[1/200][48/189] ========== Loss_D: 1.4468, Loss_G: 2.1322, Acc_G: 14/32 = 43.7500\n"
     ]
    },
    {
     "name": "stderr",
     "output_type": "stream",
     "text": [
      " 26%|██████████████████████▌                                                                | 49/189 [01:01<03:04,  1.32s/it]"
     ]
    },
    {
     "name": "stdout",
     "output_type": "stream",
     "text": [
      "[1/200][49/189] ========== Loss_D: 1.4593, Loss_G: 2.0320, Acc_G: 12/32 = 37.5000\n"
     ]
    },
    {
     "name": "stderr",
     "output_type": "stream",
     "text": [
      " 26%|███████████████████████                                                                | 50/189 [01:03<03:04,  1.33s/it]"
     ]
    },
    {
     "name": "stdout",
     "output_type": "stream",
     "text": [
      "[1/200][50/189] ========== Loss_D: 1.4554, Loss_G: 2.0864, Acc_G: 12/32 = 37.5000\n"
     ]
    },
    {
     "name": "stderr",
     "output_type": "stream",
     "text": [
      " 27%|███████████████████████▍                                                               | 51/189 [01:04<02:55,  1.27s/it]"
     ]
    },
    {
     "name": "stdout",
     "output_type": "stream",
     "text": [
      "[1/200][51/189] ========== Loss_D: 1.4559, Loss_G: 2.1021, Acc_G: 11/32 = 34.3750\n"
     ]
    },
    {
     "name": "stderr",
     "output_type": "stream",
     "text": [
      " 28%|███████████████████████▉                                                               | 52/189 [01:05<02:47,  1.22s/it]"
     ]
    },
    {
     "name": "stdout",
     "output_type": "stream",
     "text": [
      "[1/200][52/189] ========== Loss_D: 1.4873, Loss_G: 2.0077, Acc_G: 16/32 = 50.0000\n"
     ]
    },
    {
     "name": "stderr",
     "output_type": "stream",
     "text": [
      " 28%|████████████████████████▍                                                              | 53/189 [01:07<02:55,  1.29s/it]"
     ]
    },
    {
     "name": "stdout",
     "output_type": "stream",
     "text": [
      "[1/200][53/189] ========== Loss_D: 1.4551, Loss_G: 1.9853, Acc_G: 13/32 = 40.6250\n"
     ]
    },
    {
     "name": "stderr",
     "output_type": "stream",
     "text": [
      " 29%|████████████████████████▊                                                              | 54/189 [01:08<02:50,  1.26s/it]"
     ]
    },
    {
     "name": "stdout",
     "output_type": "stream",
     "text": [
      "[1/200][54/189] ========== Loss_D: 1.4515, Loss_G: 1.9780, Acc_G: 14/32 = 43.7500\n"
     ]
    },
    {
     "name": "stderr",
     "output_type": "stream",
     "text": [
      " 29%|█████████████████████████▎                                                             | 55/189 [01:09<02:48,  1.26s/it]"
     ]
    },
    {
     "name": "stdout",
     "output_type": "stream",
     "text": [
      "[1/200][55/189] ========== Loss_D: 1.4587, Loss_G: 2.0763, Acc_G: 10/32 = 31.2500\n"
     ]
    },
    {
     "name": "stderr",
     "output_type": "stream",
     "text": [
      " 30%|█████████████████████████▊                                                             | 56/189 [01:10<02:51,  1.29s/it]"
     ]
    },
    {
     "name": "stdout",
     "output_type": "stream",
     "text": [
      "[1/200][56/189] ========== Loss_D: 1.4663, Loss_G: 2.0058, Acc_G: 11/32 = 34.3750\n"
     ]
    },
    {
     "name": "stderr",
     "output_type": "stream",
     "text": [
      " 30%|██████████████████████████▏                                                            | 57/189 [01:12<02:48,  1.27s/it]"
     ]
    },
    {
     "name": "stdout",
     "output_type": "stream",
     "text": [
      "[1/200][57/189] ========== Loss_D: 1.4429, Loss_G: 1.9699, Acc_G: 11/32 = 34.3750\n"
     ]
    },
    {
     "name": "stderr",
     "output_type": "stream",
     "text": [
      " 31%|██████████████████████████▋                                                            | 58/189 [01:13<02:41,  1.23s/it]"
     ]
    },
    {
     "name": "stdout",
     "output_type": "stream",
     "text": [
      "[1/200][58/189] ========== Loss_D: 1.4486, Loss_G: 1.9853, Acc_G: 14/32 = 43.7500\n"
     ]
    },
    {
     "name": "stderr",
     "output_type": "stream",
     "text": [
      " 31%|███████████████████████████▏                                                           | 59/189 [01:14<02:56,  1.36s/it]"
     ]
    },
    {
     "name": "stdout",
     "output_type": "stream",
     "text": [
      "[1/200][59/189] ========== Loss_D: 1.4417, Loss_G: 1.9695, Acc_G: 12/32 = 37.5000\n"
     ]
    },
    {
     "name": "stderr",
     "output_type": "stream",
     "text": [
      " 32%|███████████████████████████▌                                                           | 60/189 [01:16<02:48,  1.31s/it]"
     ]
    },
    {
     "name": "stdout",
     "output_type": "stream",
     "text": [
      "[1/200][60/189] ========== Loss_D: 1.4405, Loss_G: 2.0470, Acc_G: 15/32 = 46.8750\n"
     ]
    },
    {
     "name": "stderr",
     "output_type": "stream",
     "text": [
      " 32%|████████████████████████████                                                           | 61/189 [01:17<02:43,  1.27s/it]"
     ]
    },
    {
     "name": "stdout",
     "output_type": "stream",
     "text": [
      "[1/200][61/189] ========== Loss_D: 1.4471, Loss_G: 1.9764, Acc_G: 14/32 = 43.7500\n"
     ]
    },
    {
     "name": "stderr",
     "output_type": "stream",
     "text": [
      " 33%|████████████████████████████▌                                                          | 62/189 [01:18<02:32,  1.20s/it]"
     ]
    },
    {
     "name": "stdout",
     "output_type": "stream",
     "text": [
      "[1/200][62/189] ========== Loss_D: 1.4589, Loss_G: 2.0480, Acc_G: 15/32 = 46.8750\n"
     ]
    },
    {
     "name": "stderr",
     "output_type": "stream",
     "text": [
      " 33%|█████████████████████████████                                                          | 63/189 [01:19<02:27,  1.17s/it]"
     ]
    },
    {
     "name": "stdout",
     "output_type": "stream",
     "text": [
      "[1/200][63/189] ========== Loss_D: 1.4409, Loss_G: 2.1439, Acc_G: 16/32 = 50.0000\n"
     ]
    },
    {
     "name": "stderr",
     "output_type": "stream",
     "text": [
      " 34%|█████████████████████████████▍                                                         | 64/189 [01:20<02:33,  1.23s/it]"
     ]
    },
    {
     "name": "stdout",
     "output_type": "stream",
     "text": [
      "[1/200][64/189] ========== Loss_D: 1.4316, Loss_G: 2.0759, Acc_G: 11/32 = 34.3750\n"
     ]
    },
    {
     "name": "stderr",
     "output_type": "stream",
     "text": [
      " 34%|█████████████████████████████▉                                                         | 65/189 [01:21<02:28,  1.20s/it]"
     ]
    },
    {
     "name": "stdout",
     "output_type": "stream",
     "text": [
      "[1/200][65/189] ========== Loss_D: 1.4433, Loss_G: 2.0441, Acc_G: 7/32 = 21.8750\n"
     ]
    },
    {
     "name": "stderr",
     "output_type": "stream",
     "text": [
      " 35%|██████████████████████████████▍                                                        | 66/189 [01:23<02:28,  1.21s/it]"
     ]
    },
    {
     "name": "stdout",
     "output_type": "stream",
     "text": [
      "[1/200][66/189] ========== Loss_D: 1.4479, Loss_G: 1.9304, Acc_G: 15/32 = 46.8750\n"
     ]
    },
    {
     "name": "stderr",
     "output_type": "stream",
     "text": [
      " 35%|██████████████████████████████▊                                                        | 67/189 [01:24<02:37,  1.29s/it]"
     ]
    },
    {
     "name": "stdout",
     "output_type": "stream",
     "text": [
      "[1/200][67/189] ========== Loss_D: 1.4435, Loss_G: 1.9823, Acc_G: 11/32 = 34.3750\n"
     ]
    },
    {
     "name": "stderr",
     "output_type": "stream",
     "text": [
      " 36%|███████████████████████████████▎                                                       | 68/189 [01:25<02:30,  1.24s/it]"
     ]
    },
    {
     "name": "stdout",
     "output_type": "stream",
     "text": [
      "[1/200][68/189] ========== Loss_D: 1.4470, Loss_G: 2.0709, Acc_G: 13/32 = 40.6250\n"
     ]
    },
    {
     "name": "stderr",
     "output_type": "stream",
     "text": [
      " 37%|███████████████████████████████▊                                                       | 69/189 [01:26<02:28,  1.24s/it]"
     ]
    },
    {
     "name": "stdout",
     "output_type": "stream",
     "text": [
      "[1/200][69/189] ========== Loss_D: 1.4468, Loss_G: 2.1233, Acc_G: 12/32 = 37.5000\n"
     ]
    },
    {
     "name": "stderr",
     "output_type": "stream",
     "text": [
      " 37%|████████████████████████████████▏                                                      | 70/189 [01:27<02:17,  1.16s/it]"
     ]
    },
    {
     "name": "stdout",
     "output_type": "stream",
     "text": [
      "[1/200][70/189] ========== Loss_D: 1.4704, Loss_G: 1.9992, Acc_G: 11/32 = 34.3750\n"
     ]
    },
    {
     "name": "stderr",
     "output_type": "stream",
     "text": [
      " 38%|████████████████████████████████▋                                                      | 71/189 [01:29<02:16,  1.16s/it]"
     ]
    },
    {
     "name": "stdout",
     "output_type": "stream",
     "text": [
      "[1/200][71/189] ========== Loss_D: 1.4335, Loss_G: 2.0688, Acc_G: 13/32 = 40.6250\n"
     ]
    },
    {
     "name": "stderr",
     "output_type": "stream",
     "text": [
      " 38%|█████████████████████████████████▏                                                     | 72/189 [01:30<02:20,  1.20s/it]"
     ]
    },
    {
     "name": "stdout",
     "output_type": "stream",
     "text": [
      "[1/200][72/189] ========== Loss_D: 1.4508, Loss_G: 2.0178, Acc_G: 9/32 = 28.1250\n"
     ]
    },
    {
     "name": "stderr",
     "output_type": "stream",
     "text": [
      " 39%|█████████████████████████████████▌                                                     | 73/189 [01:31<02:13,  1.15s/it]"
     ]
    },
    {
     "name": "stdout",
     "output_type": "stream",
     "text": [
      "[1/200][73/189] ========== Loss_D: 1.4468, Loss_G: 2.0294, Acc_G: 12/32 = 37.5000\n"
     ]
    },
    {
     "name": "stderr",
     "output_type": "stream",
     "text": [
      " 39%|██████████████████████████████████                                                     | 74/189 [01:32<02:14,  1.17s/it]"
     ]
    },
    {
     "name": "stdout",
     "output_type": "stream",
     "text": [
      "[1/200][74/189] ========== Loss_D: 1.4543, Loss_G: 2.0833, Acc_G: 17/32 = 53.1250\n"
     ]
    },
    {
     "name": "stderr",
     "output_type": "stream",
     "text": [
      " 40%|██████████████████████████████████▌                                                    | 75/189 [01:33<02:18,  1.22s/it]"
     ]
    },
    {
     "name": "stdout",
     "output_type": "stream",
     "text": [
      "[1/200][75/189] ========== Loss_D: 1.4353, Loss_G: 2.0233, Acc_G: 9/32 = 28.1250\n"
     ]
    },
    {
     "name": "stderr",
     "output_type": "stream",
     "text": [
      " 40%|██████████████████████████████████▉                                                    | 76/189 [01:35<02:15,  1.20s/it]"
     ]
    },
    {
     "name": "stdout",
     "output_type": "stream",
     "text": [
      "[1/200][76/189] ========== Loss_D: 1.4522, Loss_G: 2.0940, Acc_G: 17/32 = 53.1250\n"
     ]
    },
    {
     "name": "stderr",
     "output_type": "stream",
     "text": [
      " 41%|███████████████████████████████████▍                                                   | 77/189 [01:36<02:23,  1.28s/it]"
     ]
    },
    {
     "name": "stdout",
     "output_type": "stream",
     "text": [
      "[1/200][77/189] ========== Loss_D: 1.4461, Loss_G: 1.9511, Acc_G: 11/32 = 34.3750\n"
     ]
    },
    {
     "name": "stderr",
     "output_type": "stream",
     "text": [
      " 41%|███████████████████████████████████▉                                                   | 78/189 [01:37<02:21,  1.28s/it]"
     ]
    },
    {
     "name": "stdout",
     "output_type": "stream",
     "text": [
      "[1/200][78/189] ========== Loss_D: 1.4433, Loss_G: 2.0012, Acc_G: 11/32 = 34.3750\n"
     ]
    },
    {
     "name": "stderr",
     "output_type": "stream",
     "text": [
      " 42%|████████████████████████████████████▎                                                  | 79/189 [01:39<02:25,  1.32s/it]"
     ]
    },
    {
     "name": "stdout",
     "output_type": "stream",
     "text": [
      "[1/200][79/189] ========== Loss_D: 1.4681, Loss_G: 1.9990, Acc_G: 17/32 = 53.1250\n"
     ]
    },
    {
     "name": "stderr",
     "output_type": "stream",
     "text": [
      " 42%|████████████████████████████████████▊                                                  | 80/189 [01:40<02:25,  1.34s/it]"
     ]
    },
    {
     "name": "stdout",
     "output_type": "stream",
     "text": [
      "[1/200][80/189] ========== Loss_D: 1.4538, Loss_G: 2.0729, Acc_G: 12/32 = 37.5000\n"
     ]
    },
    {
     "name": "stderr",
     "output_type": "stream",
     "text": [
      " 43%|█████████████████████████████████████▎                                                 | 81/189 [01:41<02:14,  1.25s/it]"
     ]
    },
    {
     "name": "stdout",
     "output_type": "stream",
     "text": [
      "[1/200][81/189] ========== Loss_D: 1.4408, Loss_G: 2.0067, Acc_G: 12/32 = 37.5000\n"
     ]
    },
    {
     "name": "stderr",
     "output_type": "stream",
     "text": [
      " 43%|█████████████████████████████████████▋                                                 | 82/189 [01:42<02:05,  1.18s/it]"
     ]
    },
    {
     "name": "stdout",
     "output_type": "stream",
     "text": [
      "[1/200][82/189] ========== Loss_D: 1.4659, Loss_G: 2.0710, Acc_G: 13/32 = 40.6250\n"
     ]
    },
    {
     "name": "stderr",
     "output_type": "stream",
     "text": [
      " 44%|██████████████████████████████████████▏                                                | 83/189 [01:43<02:05,  1.18s/it]"
     ]
    },
    {
     "name": "stdout",
     "output_type": "stream",
     "text": [
      "[1/200][83/189] ========== Loss_D: 1.4442, Loss_G: 1.9924, Acc_G: 13/32 = 40.6250\n"
     ]
    },
    {
     "name": "stderr",
     "output_type": "stream",
     "text": [
      " 44%|██████████████████████████████████████▋                                                | 84/189 [01:44<01:55,  1.10s/it]"
     ]
    },
    {
     "name": "stdout",
     "output_type": "stream",
     "text": [
      "[1/200][84/189] ========== Loss_D: 1.4645, Loss_G: 2.0246, Acc_G: 10/32 = 31.2500\n"
     ]
    },
    {
     "name": "stderr",
     "output_type": "stream",
     "text": [
      " 45%|███████████████████████████████████████▏                                               | 85/189 [01:45<01:54,  1.10s/it]"
     ]
    },
    {
     "name": "stdout",
     "output_type": "stream",
     "text": [
      "[1/200][85/189] ========== Loss_D: 1.4651, Loss_G: 2.1377, Acc_G: 13/32 = 40.6250\n"
     ]
    },
    {
     "name": "stderr",
     "output_type": "stream",
     "text": [
      " 46%|███████████████████████████████████████▌                                               | 86/189 [01:46<01:49,  1.07s/it]"
     ]
    },
    {
     "name": "stdout",
     "output_type": "stream",
     "text": [
      "[1/200][86/189] ========== Loss_D: 1.4465, Loss_G: 1.8795, Acc_G: 14/32 = 43.7500\n",
      "---------------------< lowest loss update -> 3.325985908508301 >---------------------\n"
     ]
    },
    {
     "name": "stderr",
     "output_type": "stream",
     "text": [
      " 46%|████████████████████████████████████████                                               | 87/189 [01:48<02:04,  1.23s/it]"
     ]
    },
    {
     "name": "stdout",
     "output_type": "stream",
     "text": [
      "[1/200][87/189] ========== Loss_D: 1.4448, Loss_G: 2.0831, Acc_G: 12/32 = 37.5000\n"
     ]
    },
    {
     "name": "stderr",
     "output_type": "stream",
     "text": [
      " 47%|████████████████████████████████████████▌                                              | 88/189 [01:49<02:00,  1.19s/it]"
     ]
    },
    {
     "name": "stdout",
     "output_type": "stream",
     "text": [
      "[1/200][88/189] ========== Loss_D: 1.4238, Loss_G: 2.0362, Acc_G: 13/32 = 40.6250\n"
     ]
    },
    {
     "name": "stderr",
     "output_type": "stream",
     "text": [
      " 47%|████████████████████████████████████████▉                                              | 89/189 [01:51<02:16,  1.36s/it]"
     ]
    },
    {
     "name": "stdout",
     "output_type": "stream",
     "text": [
      "[1/200][89/189] ========== Loss_D: 1.4449, Loss_G: 2.0346, Acc_G: 9/32 = 28.1250\n"
     ]
    },
    {
     "name": "stderr",
     "output_type": "stream",
     "text": [
      " 48%|█████████████████████████████████████████▍                                             | 90/189 [01:52<02:16,  1.38s/it]"
     ]
    },
    {
     "name": "stdout",
     "output_type": "stream",
     "text": [
      "[1/200][90/189] ========== Loss_D: 1.4532, Loss_G: 2.0093, Acc_G: 8/32 = 25.0000\n"
     ]
    },
    {
     "name": "stderr",
     "output_type": "stream",
     "text": [
      " 48%|█████████████████████████████████████████▉                                             | 91/189 [01:54<02:15,  1.39s/it]"
     ]
    },
    {
     "name": "stdout",
     "output_type": "stream",
     "text": [
      "[1/200][91/189] ========== Loss_D: 1.4514, Loss_G: 2.0888, Acc_G: 15/32 = 46.8750\n"
     ]
    },
    {
     "name": "stderr",
     "output_type": "stream",
     "text": [
      " 49%|██████████████████████████████████████████▎                                            | 92/189 [01:55<02:09,  1.34s/it]"
     ]
    },
    {
     "name": "stdout",
     "output_type": "stream",
     "text": [
      "[1/200][92/189] ========== Loss_D: 1.4449, Loss_G: 1.9251, Acc_G: 9/32 = 28.1250\n"
     ]
    },
    {
     "name": "stderr",
     "output_type": "stream",
     "text": [
      " 49%|██████████████████████████████████████████▊                                            | 93/189 [01:56<02:10,  1.36s/it]"
     ]
    },
    {
     "name": "stdout",
     "output_type": "stream",
     "text": [
      "[1/200][93/189] ========== Loss_D: 1.4534, Loss_G: 1.9823, Acc_G: 15/32 = 46.8750\n"
     ]
    },
    {
     "name": "stderr",
     "output_type": "stream",
     "text": [
      " 50%|███████████████████████████████████████████▎                                           | 94/189 [01:58<02:14,  1.41s/it]"
     ]
    },
    {
     "name": "stdout",
     "output_type": "stream",
     "text": [
      "[1/200][94/189] ========== Loss_D: 1.4384, Loss_G: 2.0992, Acc_G: 14/32 = 43.7500\n"
     ]
    },
    {
     "name": "stderr",
     "output_type": "stream",
     "text": [
      " 50%|███████████████████████████████████████████▋                                           | 95/189 [01:59<02:09,  1.38s/it]"
     ]
    },
    {
     "name": "stdout",
     "output_type": "stream",
     "text": [
      "[1/200][95/189] ========== Loss_D: 1.4692, Loss_G: 1.9575, Acc_G: 17/32 = 53.1250\n"
     ]
    },
    {
     "name": "stderr",
     "output_type": "stream",
     "text": [
      " 51%|████████████████████████████████████████████▏                                          | 96/189 [02:01<02:18,  1.49s/it]"
     ]
    },
    {
     "name": "stdout",
     "output_type": "stream",
     "text": [
      "[1/200][96/189] ========== Loss_D: 1.4627, Loss_G: 1.9985, Acc_G: 9/32 = 28.1250\n"
     ]
    },
    {
     "name": "stderr",
     "output_type": "stream",
     "text": [
      " 51%|████████████████████████████████████████████▋                                          | 97/189 [02:02<02:04,  1.36s/it]"
     ]
    },
    {
     "name": "stdout",
     "output_type": "stream",
     "text": [
      "[1/200][97/189] ========== Loss_D: 1.4333, Loss_G: 2.0762, Acc_G: 15/32 = 46.8750\n"
     ]
    },
    {
     "name": "stderr",
     "output_type": "stream",
     "text": [
      " 52%|█████████████████████████████████████████████                                          | 98/189 [02:03<02:05,  1.37s/it]"
     ]
    },
    {
     "name": "stdout",
     "output_type": "stream",
     "text": [
      "[1/200][98/189] ========== Loss_D: 1.4568, Loss_G: 1.9569, Acc_G: 16/32 = 50.0000\n"
     ]
    },
    {
     "name": "stderr",
     "output_type": "stream",
     "text": [
      " 52%|█████████████████████████████████████████████▌                                         | 99/189 [02:05<01:59,  1.33s/it]"
     ]
    },
    {
     "name": "stdout",
     "output_type": "stream",
     "text": [
      "[1/200][99/189] ========== Loss_D: 1.4452, Loss_G: 1.9689, Acc_G: 14/32 = 43.7500\n"
     ]
    },
    {
     "name": "stderr",
     "output_type": "stream",
     "text": [
      " 53%|█████████████████████████████████████████████▌                                        | 100/189 [02:06<02:01,  1.37s/it]"
     ]
    },
    {
     "name": "stdout",
     "output_type": "stream",
     "text": [
      "[1/200][100/189] ========== Loss_D: 1.4629, Loss_G: 2.0473, Acc_G: 13/32 = 40.6250\n"
     ]
    },
    {
     "name": "stderr",
     "output_type": "stream",
     "text": [
      " 53%|█████████████████████████████████████████████▉                                        | 101/189 [02:07<01:49,  1.25s/it]"
     ]
    },
    {
     "name": "stdout",
     "output_type": "stream",
     "text": [
      "[1/200][101/189] ========== Loss_D: 1.4469, Loss_G: 2.0311, Acc_G: 17/32 = 53.1250\n"
     ]
    },
    {
     "name": "stderr",
     "output_type": "stream",
     "text": [
      " 54%|██████████████████████████████████████████████▍                                       | 102/189 [02:08<01:43,  1.19s/it]"
     ]
    },
    {
     "name": "stdout",
     "output_type": "stream",
     "text": [
      "[1/200][102/189] ========== Loss_D: 1.4488, Loss_G: 2.0601, Acc_G: 10/32 = 31.2500\n"
     ]
    },
    {
     "name": "stderr",
     "output_type": "stream",
     "text": [
      " 54%|██████████████████████████████████████████████▊                                       | 103/189 [02:09<01:46,  1.24s/it]"
     ]
    },
    {
     "name": "stdout",
     "output_type": "stream",
     "text": [
      "[1/200][103/189] ========== Loss_D: 1.4505, Loss_G: 1.9738, Acc_G: 12/32 = 37.5000\n"
     ]
    },
    {
     "name": "stderr",
     "output_type": "stream",
     "text": [
      " 55%|███████████████████████████████████████████████▎                                      | 104/189 [02:11<01:48,  1.28s/it]"
     ]
    },
    {
     "name": "stdout",
     "output_type": "stream",
     "text": [
      "[1/200][104/189] ========== Loss_D: 1.4461, Loss_G: 2.0981, Acc_G: 11/32 = 34.3750\n"
     ]
    },
    {
     "name": "stderr",
     "output_type": "stream",
     "text": [
      " 56%|███████████████████████████████████████████████▊                                      | 105/189 [02:12<01:45,  1.26s/it]"
     ]
    },
    {
     "name": "stdout",
     "output_type": "stream",
     "text": [
      "[1/200][105/189] ========== Loss_D: 1.4438, Loss_G: 1.9814, Acc_G: 13/32 = 40.6250\n"
     ]
    },
    {
     "name": "stderr",
     "output_type": "stream",
     "text": [
      " 56%|████████████████████████████████████████████████▏                                     | 106/189 [02:13<01:39,  1.20s/it]"
     ]
    },
    {
     "name": "stdout",
     "output_type": "stream",
     "text": [
      "[1/200][106/189] ========== Loss_D: 1.4581, Loss_G: 2.0679, Acc_G: 10/32 = 31.2500\n"
     ]
    },
    {
     "name": "stderr",
     "output_type": "stream",
     "text": [
      " 57%|████████████████████████████████████████████████▋                                     | 107/189 [02:14<01:35,  1.17s/it]"
     ]
    },
    {
     "name": "stdout",
     "output_type": "stream",
     "text": [
      "[1/200][107/189] ========== Loss_D: 1.4361, Loss_G: 1.9383, Acc_G: 10/32 = 31.2500\n"
     ]
    },
    {
     "name": "stderr",
     "output_type": "stream",
     "text": [
      " 57%|█████████████████████████████████████████████████▏                                    | 108/189 [02:15<01:35,  1.18s/it]"
     ]
    },
    {
     "name": "stdout",
     "output_type": "stream",
     "text": [
      "[1/200][108/189] ========== Loss_D: 1.4483, Loss_G: 2.1301, Acc_G: 11/32 = 34.3750\n"
     ]
    },
    {
     "name": "stderr",
     "output_type": "stream",
     "text": [
      " 58%|█████████████████████████████████████████████████▌                                    | 109/189 [02:17<01:33,  1.17s/it]"
     ]
    },
    {
     "name": "stdout",
     "output_type": "stream",
     "text": [
      "[1/200][109/189] ========== Loss_D: 1.4474, Loss_G: 1.9347, Acc_G: 14/32 = 43.7500\n"
     ]
    },
    {
     "name": "stderr",
     "output_type": "stream",
     "text": [
      " 58%|██████████████████████████████████████████████████                                    | 110/189 [02:18<01:40,  1.27s/it]"
     ]
    },
    {
     "name": "stdout",
     "output_type": "stream",
     "text": [
      "[1/200][110/189] ========== Loss_D: 1.4470, Loss_G: 2.0207, Acc_G: 13/32 = 40.6250\n"
     ]
    },
    {
     "name": "stderr",
     "output_type": "stream",
     "text": [
      " 59%|██████████████████████████████████████████████████▌                                   | 111/189 [02:19<01:35,  1.23s/it]"
     ]
    },
    {
     "name": "stdout",
     "output_type": "stream",
     "text": [
      "[1/200][111/189] ========== Loss_D: 1.4316, Loss_G: 2.0205, Acc_G: 9/32 = 28.1250\n"
     ]
    },
    {
     "name": "stderr",
     "output_type": "stream",
     "text": [
      " 59%|██████████████████████████████████████████████████▉                                   | 112/189 [02:20<01:32,  1.20s/it]"
     ]
    },
    {
     "name": "stdout",
     "output_type": "stream",
     "text": [
      "[1/200][112/189] ========== Loss_D: 1.4380, Loss_G: 2.1068, Acc_G: 11/32 = 34.3750\n"
     ]
    },
    {
     "name": "stderr",
     "output_type": "stream",
     "text": [
      " 60%|███████████████████████████████████████████████████▍                                  | 113/189 [02:22<01:34,  1.24s/it]"
     ]
    },
    {
     "name": "stdout",
     "output_type": "stream",
     "text": [
      "[1/200][113/189] ========== Loss_D: 1.4236, Loss_G: 2.0022, Acc_G: 11/32 = 34.3750\n"
     ]
    },
    {
     "name": "stderr",
     "output_type": "stream",
     "text": [
      " 60%|███████████████████████████████████████████████████▊                                  | 114/189 [02:23<01:36,  1.28s/it]"
     ]
    },
    {
     "name": "stdout",
     "output_type": "stream",
     "text": [
      "[1/200][114/189] ========== Loss_D: 1.4632, Loss_G: 2.0709, Acc_G: 13/32 = 40.6250\n"
     ]
    },
    {
     "name": "stderr",
     "output_type": "stream",
     "text": [
      " 61%|████████████████████████████████████████████████████▎                                 | 115/189 [02:25<01:42,  1.39s/it]"
     ]
    },
    {
     "name": "stdout",
     "output_type": "stream",
     "text": [
      "[1/200][115/189] ========== Loss_D: 1.4371, Loss_G: 2.0259, Acc_G: 11/32 = 34.3750\n"
     ]
    },
    {
     "name": "stderr",
     "output_type": "stream",
     "text": [
      " 61%|████████████████████████████████████████████████████▊                                 | 116/189 [02:26<01:37,  1.33s/it]"
     ]
    },
    {
     "name": "stdout",
     "output_type": "stream",
     "text": [
      "[1/200][116/189] ========== Loss_D: 1.4369, Loss_G: 2.0118, Acc_G: 15/32 = 46.8750\n"
     ]
    },
    {
     "name": "stderr",
     "output_type": "stream",
     "text": [
      " 62%|█████████████████████████████████████████████████████▏                                | 117/189 [02:27<01:34,  1.31s/it]"
     ]
    },
    {
     "name": "stdout",
     "output_type": "stream",
     "text": [
      "[1/200][117/189] ========== Loss_D: 1.4576, Loss_G: 2.0961, Acc_G: 11/32 = 34.3750\n"
     ]
    },
    {
     "name": "stderr",
     "output_type": "stream",
     "text": [
      " 62%|█████████████████████████████████████████████████████▋                                | 118/189 [02:28<01:27,  1.24s/it]"
     ]
    },
    {
     "name": "stdout",
     "output_type": "stream",
     "text": [
      "[1/200][118/189] ========== Loss_D: 1.4468, Loss_G: 2.0166, Acc_G: 13/32 = 40.6250\n"
     ]
    },
    {
     "name": "stderr",
     "output_type": "stream",
     "text": [
      " 63%|██████████████████████████████████████████████████████▏                               | 119/189 [02:29<01:19,  1.14s/it]"
     ]
    },
    {
     "name": "stdout",
     "output_type": "stream",
     "text": [
      "[1/200][119/189] ========== Loss_D: 1.4421, Loss_G: 2.0881, Acc_G: 11/32 = 34.3750\n"
     ]
    },
    {
     "name": "stderr",
     "output_type": "stream",
     "text": [
      " 63%|██████████████████████████████████████████████████████▌                               | 120/189 [02:30<01:20,  1.17s/it]"
     ]
    },
    {
     "name": "stdout",
     "output_type": "stream",
     "text": [
      "[1/200][120/189] ========== Loss_D: 1.4339, Loss_G: 2.0747, Acc_G: 13/32 = 40.6250\n"
     ]
    },
    {
     "name": "stderr",
     "output_type": "stream",
     "text": [
      " 64%|███████████████████████████████████████████████████████                               | 121/189 [02:31<01:17,  1.14s/it]"
     ]
    },
    {
     "name": "stdout",
     "output_type": "stream",
     "text": [
      "[1/200][121/189] ========== Loss_D: 1.4496, Loss_G: 1.9705, Acc_G: 18/32 = 56.2500\n"
     ]
    },
    {
     "name": "stderr",
     "output_type": "stream",
     "text": [
      " 65%|███████████████████████████████████████████████████████▌                              | 122/189 [02:33<01:16,  1.14s/it]"
     ]
    },
    {
     "name": "stdout",
     "output_type": "stream",
     "text": [
      "[1/200][122/189] ========== Loss_D: 1.4571, Loss_G: 2.0666, Acc_G: 14/32 = 43.7500\n"
     ]
    },
    {
     "name": "stderr",
     "output_type": "stream",
     "text": [
      " 65%|███████████████████████████████████████████████████████▉                              | 123/189 [02:34<01:16,  1.16s/it]"
     ]
    },
    {
     "name": "stdout",
     "output_type": "stream",
     "text": [
      "[1/200][123/189] ========== Loss_D: 1.4584, Loss_G: 1.9693, Acc_G: 11/32 = 34.3750\n"
     ]
    },
    {
     "name": "stderr",
     "output_type": "stream",
     "text": [
      " 66%|████████████████████████████████████████████████████████▍                             | 124/189 [02:35<01:15,  1.16s/it]"
     ]
    },
    {
     "name": "stdout",
     "output_type": "stream",
     "text": [
      "[1/200][124/189] ========== Loss_D: 1.4686, Loss_G: 2.0075, Acc_G: 17/32 = 53.1250\n"
     ]
    },
    {
     "name": "stderr",
     "output_type": "stream",
     "text": [
      " 66%|████████████████████████████████████████████████████████▉                             | 125/189 [02:36<01:13,  1.15s/it]"
     ]
    },
    {
     "name": "stdout",
     "output_type": "stream",
     "text": [
      "[1/200][125/189] ========== Loss_D: 1.4457, Loss_G: 2.0522, Acc_G: 13/32 = 40.6250\n"
     ]
    },
    {
     "name": "stderr",
     "output_type": "stream",
     "text": [
      " 67%|█████████████████████████████████████████████████████████▎                            | 126/189 [02:37<01:15,  1.19s/it]"
     ]
    },
    {
     "name": "stdout",
     "output_type": "stream",
     "text": [
      "[1/200][126/189] ========== Loss_D: 1.4660, Loss_G: 1.9489, Acc_G: 13/32 = 40.6250\n"
     ]
    },
    {
     "name": "stderr",
     "output_type": "stream",
     "text": [
      " 67%|█████████████████████████████████████████████████████████▊                            | 127/189 [02:38<01:13,  1.19s/it]"
     ]
    },
    {
     "name": "stdout",
     "output_type": "stream",
     "text": [
      "[1/200][127/189] ========== Loss_D: 1.4393, Loss_G: 1.9369, Acc_G: 12/32 = 37.5000\n"
     ]
    },
    {
     "name": "stderr",
     "output_type": "stream",
     "text": [
      " 68%|██████████████████████████████████████████████████████████▏                           | 128/189 [02:39<01:08,  1.12s/it]"
     ]
    },
    {
     "name": "stdout",
     "output_type": "stream",
     "text": [
      "[1/200][128/189] ========== Loss_D: 1.4458, Loss_G: 2.1038, Acc_G: 11/32 = 34.3750\n"
     ]
    },
    {
     "name": "stderr",
     "output_type": "stream",
     "text": [
      " 68%|██████████████████████████████████████████████████████████▋                           | 129/189 [02:41<01:09,  1.16s/it]"
     ]
    },
    {
     "name": "stdout",
     "output_type": "stream",
     "text": [
      "[1/200][129/189] ========== Loss_D: 1.4331, Loss_G: 1.9640, Acc_G: 14/32 = 43.7500\n"
     ]
    },
    {
     "name": "stderr",
     "output_type": "stream",
     "text": [
      " 69%|███████████████████████████████████████████████████████████▏                          | 130/189 [02:42<01:08,  1.16s/it]"
     ]
    },
    {
     "name": "stdout",
     "output_type": "stream",
     "text": [
      "[1/200][130/189] ========== Loss_D: 1.4426, Loss_G: 2.0144, Acc_G: 15/32 = 46.8750\n"
     ]
    },
    {
     "name": "stderr",
     "output_type": "stream",
     "text": [
      " 69%|███████████████████████████████████████████████████████████▌                          | 131/189 [02:43<01:13,  1.27s/it]"
     ]
    },
    {
     "name": "stdout",
     "output_type": "stream",
     "text": [
      "[1/200][131/189] ========== Loss_D: 1.4630, Loss_G: 2.0183, Acc_G: 15/32 = 46.8750\n"
     ]
    },
    {
     "name": "stderr",
     "output_type": "stream",
     "text": [
      " 70%|████████████████████████████████████████████████████████████                          | 132/189 [02:45<01:16,  1.34s/it]"
     ]
    },
    {
     "name": "stdout",
     "output_type": "stream",
     "text": [
      "[1/200][132/189] ========== Loss_D: 1.4442, Loss_G: 1.9801, Acc_G: 13/32 = 40.6250\n"
     ]
    },
    {
     "name": "stderr",
     "output_type": "stream",
     "text": [
      " 70%|████████████████████████████████████████████████████████████▌                         | 133/189 [02:47<01:20,  1.45s/it]"
     ]
    },
    {
     "name": "stdout",
     "output_type": "stream",
     "text": [
      "[1/200][133/189] ========== Loss_D: 1.4594, Loss_G: 1.9853, Acc_G: 10/32 = 31.2500\n"
     ]
    },
    {
     "name": "stderr",
     "output_type": "stream",
     "text": [
      " 71%|████████████████████████████████████████████████████████████▉                         | 134/189 [02:48<01:18,  1.44s/it]"
     ]
    },
    {
     "name": "stdout",
     "output_type": "stream",
     "text": [
      "[1/200][134/189] ========== Loss_D: 1.4663, Loss_G: 1.9824, Acc_G: 13/32 = 40.6250\n"
     ]
    },
    {
     "name": "stderr",
     "output_type": "stream",
     "text": [
      " 71%|█████████████████████████████████████████████████████████████▍                        | 135/189 [02:49<01:11,  1.32s/it]"
     ]
    },
    {
     "name": "stdout",
     "output_type": "stream",
     "text": [
      "[1/200][135/189] ========== Loss_D: 1.4534, Loss_G: 2.1264, Acc_G: 14/32 = 43.7500\n"
     ]
    },
    {
     "name": "stderr",
     "output_type": "stream",
     "text": [
      " 72%|█████████████████████████████████████████████████████████████▉                        | 136/189 [02:50<01:06,  1.25s/it]"
     ]
    },
    {
     "name": "stdout",
     "output_type": "stream",
     "text": [
      "[1/200][136/189] ========== Loss_D: 1.4465, Loss_G: 2.0649, Acc_G: 18/32 = 56.2500\n"
     ]
    },
    {
     "name": "stderr",
     "output_type": "stream",
     "text": [
      " 72%|██████████████████████████████████████████████████████████████▎                       | 137/189 [02:51<01:04,  1.25s/it]"
     ]
    },
    {
     "name": "stdout",
     "output_type": "stream",
     "text": [
      "[1/200][137/189] ========== Loss_D: 1.4368, Loss_G: 2.0728, Acc_G: 11/32 = 34.3750\n"
     ]
    },
    {
     "name": "stderr",
     "output_type": "stream",
     "text": [
      " 73%|██████████████████████████████████████████████████████████████▊                       | 138/189 [02:53<01:03,  1.25s/it]"
     ]
    },
    {
     "name": "stdout",
     "output_type": "stream",
     "text": [
      "[1/200][138/189] ========== Loss_D: 1.4604, Loss_G: 2.0568, Acc_G: 15/32 = 46.8750\n"
     ]
    },
    {
     "name": "stderr",
     "output_type": "stream",
     "text": [
      " 74%|███████████████████████████████████████████████████████████████▏                      | 139/189 [02:54<00:57,  1.15s/it]"
     ]
    },
    {
     "name": "stdout",
     "output_type": "stream",
     "text": [
      "[1/200][139/189] ========== Loss_D: 1.4489, Loss_G: 2.0222, Acc_G: 11/32 = 34.3750\n"
     ]
    },
    {
     "name": "stderr",
     "output_type": "stream",
     "text": [
      " 74%|███████████████████████████████████████████████████████████████▋                      | 140/189 [02:55<00:55,  1.14s/it]"
     ]
    },
    {
     "name": "stdout",
     "output_type": "stream",
     "text": [
      "[1/200][140/189] ========== Loss_D: 1.4457, Loss_G: 2.0311, Acc_G: 15/32 = 46.8750\n"
     ]
    },
    {
     "name": "stderr",
     "output_type": "stream",
     "text": [
      " 75%|████████████████████████████████████████████████████████████████▏                     | 141/189 [02:56<00:58,  1.22s/it]"
     ]
    },
    {
     "name": "stdout",
     "output_type": "stream",
     "text": [
      "[1/200][141/189] ========== Loss_D: 1.4566, Loss_G: 2.0849, Acc_G: 11/32 = 34.3750\n"
     ]
    },
    {
     "name": "stderr",
     "output_type": "stream",
     "text": [
      " 75%|████████████████████████████████████████████████████████████████▌                     | 142/189 [02:57<00:57,  1.22s/it]"
     ]
    },
    {
     "name": "stdout",
     "output_type": "stream",
     "text": [
      "[1/200][142/189] ========== Loss_D: 1.4371, Loss_G: 1.9709, Acc_G: 16/32 = 50.0000\n"
     ]
    },
    {
     "name": "stderr",
     "output_type": "stream",
     "text": [
      " 76%|█████████████████████████████████████████████████████████████████                     | 143/189 [02:59<00:57,  1.24s/it]"
     ]
    },
    {
     "name": "stdout",
     "output_type": "stream",
     "text": [
      "[1/200][143/189] ========== Loss_D: 1.4377, Loss_G: 2.0829, Acc_G: 11/32 = 34.3750\n"
     ]
    },
    {
     "name": "stderr",
     "output_type": "stream",
     "text": [
      " 76%|█████████████████████████████████████████████████████████████████▌                    | 144/189 [03:00<00:59,  1.33s/it]"
     ]
    },
    {
     "name": "stdout",
     "output_type": "stream",
     "text": [
      "[1/200][144/189] ========== Loss_D: 1.4473, Loss_G: 2.0263, Acc_G: 12/32 = 37.5000\n"
     ]
    },
    {
     "name": "stderr",
     "output_type": "stream",
     "text": [
      " 77%|█████████████████████████████████████████████████████████████████▉                    | 145/189 [03:01<00:56,  1.29s/it]"
     ]
    },
    {
     "name": "stdout",
     "output_type": "stream",
     "text": [
      "[1/200][145/189] ========== Loss_D: 1.4363, Loss_G: 2.1481, Acc_G: 13/32 = 40.6250\n"
     ]
    },
    {
     "name": "stderr",
     "output_type": "stream",
     "text": [
      " 77%|██████████████████████████████████████████████████████████████████▍                   | 146/189 [03:03<00:54,  1.26s/it]"
     ]
    },
    {
     "name": "stdout",
     "output_type": "stream",
     "text": [
      "[1/200][146/189] ========== Loss_D: 1.4447, Loss_G: 1.9413, Acc_G: 14/32 = 43.7500\n"
     ]
    },
    {
     "name": "stderr",
     "output_type": "stream",
     "text": [
      " 78%|██████████████████████████████████████████████████████████████████▉                   | 147/189 [03:04<00:52,  1.25s/it]"
     ]
    },
    {
     "name": "stdout",
     "output_type": "stream",
     "text": [
      "[1/200][147/189] ========== Loss_D: 1.4488, Loss_G: 1.9747, Acc_G: 14/32 = 43.7500\n"
     ]
    },
    {
     "name": "stderr",
     "output_type": "stream",
     "text": [
      " 78%|███████████████████████████████████████████████████████████████████▎                  | 148/189 [03:05<00:47,  1.17s/it]"
     ]
    },
    {
     "name": "stdout",
     "output_type": "stream",
     "text": [
      "[1/200][148/189] ========== Loss_D: 1.4398, Loss_G: 2.1173, Acc_G: 19/32 = 59.3750\n"
     ]
    },
    {
     "name": "stderr",
     "output_type": "stream",
     "text": [
      " 79%|███████████████████████████████████████████████████████████████████▊                  | 149/189 [03:06<00:44,  1.10s/it]"
     ]
    },
    {
     "name": "stdout",
     "output_type": "stream",
     "text": [
      "[1/200][149/189] ========== Loss_D: 1.4348, Loss_G: 1.9317, Acc_G: 17/32 = 53.1250\n"
     ]
    },
    {
     "name": "stderr",
     "output_type": "stream",
     "text": [
      " 79%|████████████████████████████████████████████████████████████████████▎                 | 150/189 [03:07<00:43,  1.12s/it]"
     ]
    },
    {
     "name": "stdout",
     "output_type": "stream",
     "text": [
      "[1/200][150/189] ========== Loss_D: 1.4442, Loss_G: 2.0285, Acc_G: 13/32 = 40.6250\n"
     ]
    },
    {
     "name": "stderr",
     "output_type": "stream",
     "text": [
      " 80%|████████████████████████████████████████████████████████████████████▋                 | 151/189 [03:08<00:40,  1.06s/it]"
     ]
    },
    {
     "name": "stdout",
     "output_type": "stream",
     "text": [
      "[1/200][151/189] ========== Loss_D: 1.4532, Loss_G: 2.0323, Acc_G: 19/32 = 59.3750\n"
     ]
    },
    {
     "name": "stderr",
     "output_type": "stream",
     "text": [
      " 80%|█████████████████████████████████████████████████████████████████████▏                | 152/189 [03:09<00:38,  1.03s/it]"
     ]
    },
    {
     "name": "stdout",
     "output_type": "stream",
     "text": [
      "[1/200][152/189] ========== Loss_D: 1.4369, Loss_G: 1.9968, Acc_G: 13/32 = 40.6250\n"
     ]
    },
    {
     "name": "stderr",
     "output_type": "stream",
     "text": [
      " 81%|█████████████████████████████████████████████████████████████████████▌                | 153/189 [03:10<00:39,  1.10s/it]"
     ]
    },
    {
     "name": "stdout",
     "output_type": "stream",
     "text": [
      "[1/200][153/189] ========== Loss_D: 1.4356, Loss_G: 2.2432, Acc_G: 11/32 = 34.3750\n"
     ]
    },
    {
     "name": "stderr",
     "output_type": "stream",
     "text": [
      " 81%|██████████████████████████████████████████████████████████████████████                | 154/189 [03:11<00:37,  1.07s/it]"
     ]
    },
    {
     "name": "stdout",
     "output_type": "stream",
     "text": [
      "[1/200][154/189] ========== Loss_D: 1.4572, Loss_G: 2.1171, Acc_G: 14/32 = 43.7500\n"
     ]
    },
    {
     "name": "stderr",
     "output_type": "stream",
     "text": [
      " 82%|██████████████████████████████████████████████████████████████████████▌               | 155/189 [03:12<00:37,  1.11s/it]"
     ]
    },
    {
     "name": "stdout",
     "output_type": "stream",
     "text": [
      "[1/200][155/189] ========== Loss_D: 1.4486, Loss_G: 2.1092, Acc_G: 10/32 = 31.2500\n"
     ]
    },
    {
     "name": "stderr",
     "output_type": "stream",
     "text": [
      " 83%|██████████████████████████████████████████████████████████████████████▉               | 156/189 [03:13<00:37,  1.13s/it]"
     ]
    },
    {
     "name": "stdout",
     "output_type": "stream",
     "text": [
      "[1/200][156/189] ========== Loss_D: 1.4577, Loss_G: 2.0865, Acc_G: 12/32 = 37.5000\n"
     ]
    },
    {
     "name": "stderr",
     "output_type": "stream",
     "text": [
      " 83%|███████████████████████████████████████████████████████████████████████▍              | 157/189 [03:15<00:36,  1.15s/it]"
     ]
    },
    {
     "name": "stdout",
     "output_type": "stream",
     "text": [
      "[1/200][157/189] ========== Loss_D: 1.4684, Loss_G: 1.9991, Acc_G: 15/32 = 46.8750\n"
     ]
    }
   ],
   "source": [
    "for epoch in range(num_epochs):\n",
    "    epoch += 1\n",
    "    for i, data in enumerate(tqdm(train_loader, 0)):\n",
    "        ###########################\n",
    "        # (1) Update D network\n",
    "        ###########################\n",
    "        # train with real\n",
    "        discriminator.zero_grad()\n",
    "        img, label = data\n",
    "        batch_size = img.size(0)\n",
    "        with torch.no_grad():\n",
    "            img, label = img.to(device), label.to(device)\n",
    "            label = one_hot(label, num_classes=nb_label)\n",
    "            s_label.resize_(batch_size).fill_(real_label)\n",
    "            c_label.resize_(batch_size, 3).copy_(label)\n",
    "        s_output, c_output = discriminator(img)\n",
    "        s_errD_real = s_criterion(s_output[:,0], s_label.resize_(batch_size))\n",
    "        c_errD_real = c_criterion(c_output, c_label)\n",
    "        errD_real = s_errD_real + c_errD_real\n",
    "        errD_real.backward()\n",
    "        \n",
    "        correct, length = test(c_output, c_label)\n",
    "\n",
    "        # train with fake\n",
    "        noise_data = np.random.normal(0, 1, (batch_size, nz))\n",
    "        noise.resize_(batch_size, nz).data.copy_(torch.tensor(noise_data))\n",
    "        label = np.random.randint(0, nb_label, batch_size)\n",
    "        noise_ = np.random.normal(0, 1, (batch_size, nz))\n",
    "        label_onehot = np.zeros((batch_size, nb_label))\n",
    "        label_onehot[np.arange(batch_size), label] = 1\n",
    "        c_label.resize_(batch_size, nb_label).data.copy_(torch.tensor(label_onehot))\n",
    "        fake = generator(noise, c_label)\n",
    "        s_label.data.fill_(fake_label)\n",
    "        s_output,c_output = discriminator(fake)\n",
    "        s_errD_fake = s_criterion(s_output[:,0], s_label.resize_(batch_size))\n",
    "        c_errD_fake = c_criterion(c_output, c_label)\n",
    "        errD_fake = s_errD_fake + c_errD_fake\n",
    "        errD_fake.backward()\n",
    "\n",
    "        errD = s_errD_real + s_errD_fake\n",
    "        # errD.backward()\n",
    "        optimizerD.step()\n",
    "\n",
    "        ###########################\n",
    "        # (2) Update G network\n",
    "        ###########################\n",
    "        generator.zero_grad()\n",
    "        s_label.resize_(batch_size, 1).data.fill_(real_label)\n",
    "        fake = generator(noise, c_label)\n",
    "        s_output, c_output = discriminator(fake)\n",
    "        s_errG = s_criterion(s_output[:,0], s_label.resize_(batch_size))\n",
    "        c_errG = c_criterion(c_output, c_label)\n",
    "\n",
    "        errG = s_errG + c_errG\n",
    "        errG.backward()\n",
    "        optimizerG.step()\n",
    "        metrics['G_losses'].append(errG.item())\n",
    "        metrics['G_class_losses'].append(c_errG.item())\n",
    "        metrics['G_syn_losses'].append(s_errG.item())\n",
    "        metrics['D_losses'].append(errD.item())\n",
    "        metrics['D_real_losses'].append(errD_real.item())\n",
    "        metrics['D_fake_losses'].append(errD_fake.item())\n",
    "        metrics['D_class_losses'].append((c_errD_real + c_errD_fake).item())\n",
    "        metrics['D_syn_losses'].append((s_errD_real + s_errD_fake).item())\n",
    "        metrics['Losses'].append((errG + errD).item())\n",
    "        metrics['Accuracy'].append(correct/length)\n",
    "\n",
    "        print('[%d/%d][%d/%d] ========== Loss_D: %.4f, Loss_G: %.4f, Acc_G: %d/%d = %.4f'\n",
    "              % (epoch, num_epochs, i + 1, len(train_loader),\n",
    "                 errD.data, errG.data, correct, length, 100.0*correct/length))\n",
    "    \n",
    "        if best_batch_loss < 0:\n",
    "            best_batch_loss = (errG + errD).item()\n",
    "            early_stop_count = 0\n",
    "        else:\n",
    "            if best_batch_loss >= (errG + errD).item():\n",
    "                best_batch_loss = (errG + errD).item()\n",
    "                early_stop_count = 0\n",
    "                print(\"---------------------< lowest loss update ->\", best_batch_loss, \">---------------------\")\n",
    "                save_model = True\n",
    "            else:\n",
    "                early_stop_count += 1\n",
    "                if early_stop_count >= early_stop_patient:\n",
    "                    print(\"---------------------< early stopping ... >---------------------\")\n",
    "                    early_stop = True\n",
    "                    break\n",
    "        \n",
    "        if i % round(len(train_loader)/10) == 0:\n",
    "            vutils.save_image(img, './GANAug/output_images/ACGAN/real_samples_e' + str(epoch) + '_d' + str(i) + '.jpg', normalize=True)\n",
    "            fake = generator(noise_fixed, label_fixed)\n",
    "            for j in range(len(fake)):\n",
    "                vutils.save_image(fake[j].data,\n",
    "                        '%s/fake_samples_epoch_%03d.jpg' % ('./GANAug/output_images/ACGAN/' + label_dict[label_fixed_data[j]], epoch), \n",
    "                                  normalize=True)\n",
    "\n",
    "    # do checkpointing\n",
    "    if save_model == True:\n",
    "        save_model = False\n",
    "        torch.save(generator.state_dict(), '%s/G_epoch_%d_save_model.pth' % (os.path.join('.', 'GANAug/model/ACGAN'), epoch))\n",
    "        torch.save(discriminator.state_dict(), '%s/D_epoch_%d_save_model.pth' % (os.path.join('.', 'GANAug/model/ACGAN'), epoch))\n",
    "    elif early_stop:\n",
    "        torch.save(generator.state_dict(), '%s/G_epoch_%d_early_stop.pth' % (os.path.join('.', 'GANAug/model/ACGAN'), epoch))\n",
    "        torch.save(discriminator.state_dict(), '%s/D_epoch_%d_early_stop.pth' % (os.path.join('.', 'GANAug/model/ACGAN'), epoch))\n",
    "        break\n",
    "    elif epoch % round(num_epochs/10) == 0:\n",
    "        torch.save(generator.state_dict(), '%s/G_epoch_%d.pth' % (os.path.join('.', 'GANAug/model/ACGAN'), epoch))\n",
    "        torch.save(discriminator.state_dict(), '%s/D_epoch_%d.pth' % (os.path.join('.', 'GANAug/model/ACGAN'), epoch))\n",
    "    else:\n",
    "        print(\"---------------------< no model saved at epoch:\", epoch, \">---------------------\")\n",
    "    \n",
    "    if len(only_pth_file(os.listdir(os.path.join('.', 'GANAug/model/ACGAN')))) > 10:\n",
    "        delete_list = get_file_list(os.path.join('.', 'GANAug/model/ACGAN'), \n",
    "                                    len(only_pth_file(os.listdir(os.path.join('.', 'GANAug/model/ACGAN')))) - 10)\n",
    "        for file in delete_list:\n",
    "            if os.path.exists(os.path.join(os.path.join('.', 'GANAug/model/ACGAN'), file)):\n",
    "                os.remove(os.path.join(os.path.join('.', 'GANAug/model/ACGAN'), file))\n",
    "            else:\n",
    "                print(\"file ->\", os.path.join(os.path.join('.', 'GANAug/model/ACGAN'), file), \"does not exist\")"
   ]
  },
  {
   "cell_type": "code",
   "execution_count": null,
   "id": "7b6d9c4c",
   "metadata": {},
   "outputs": [],
   "source": [
    "def tr_plot(tr_data, start_epoch):\n",
    "    Epoch_count=len(metrics['G_losses']) + start_epoch\n",
    "    Epochs=[i + 1 for i in range (start_epoch ,Epoch_count)]  \n",
    "    plt.figure(figsize=(20, 20))\n",
    "    plt.style.use('fivethirtyeight')\n",
    "    \n",
    "    plt.subplot(2, 2, 1)\n",
    "    plt.plot(Epochs, metrics['G_losses'], 'r', label='G_losses')\n",
    "    plt.plot(Epochs, metrics['D_losses'], 'g',label='D_losses' )\n",
    "    plt.title('G&D_losses')\n",
    "    plt.xlabel('Epochs')\n",
    "    plt.ylabel('Loss')\n",
    "    plt.legend()\n",
    "    \n",
    "    plt.subplot(2, 2, 2)\n",
    "    plt.plot(Epochs, metrics['G_class_losses'], 'r', label='G_class_losses')\n",
    "    plt.plot(Epochs, metrics['G_syn_losses'], 'g',label='G_syn_losses' )\n",
    "    plt.title('G_class&syn_losses')\n",
    "    plt.xlabel('Epochs')\n",
    "    plt.ylabel('Loss')\n",
    "    plt.legend()\n",
    "\n",
    "    plt.subplot(2, 2, 3)\n",
    "    plt.plot(Epochs, metrics['D_class_losses'], 'r', label='D_class_losses')\n",
    "    plt.plot(Epochs, metrics['D_syn_losses'], 'g',label='D_syn_losses' )\n",
    "    plt.title('D_class&syn_losses')\n",
    "    plt.xlabel('Epochs')\n",
    "    plt.ylabel('Loss')\n",
    "    plt.legend()\n",
    "\n",
    "    plt.subplot(2, 2, 4)\n",
    "    plt.plot(Epochs, metrics['D_real_losses'], 'r', label='D_real_losses')\n",
    "    plt.plot(Epochs, metrics['D_fake_losses'], 'g',label='D_fake_losses' )\n",
    "    plt.title('D_real&fake_losses')\n",
    "    plt.xlabel('Epochs')\n",
    "    plt.ylabel('Loss')\n",
    "    plt.legend()\n",
    "    \n",
    "    plt.tight_layout\n",
    "    plt.show()"
   ]
  },
  {
   "cell_type": "code",
   "execution_count": null,
   "id": "235fede4",
   "metadata": {},
   "outputs": [],
   "source": [
    "tr_plot(metrics, 0)"
   ]
  },
  {
   "cell_type": "code",
   "execution_count": null,
   "id": "9ec852c4",
   "metadata": {},
   "outputs": [],
   "source": [
    "def tr_plot(tr_data, start_epoch):\n",
    "    Epoch_count=len(metrics['Losses']) + start_epoch\n",
    "    Epochs=[i + 1 for i in range (start_epoch ,Epoch_count)]  \n",
    "    plt.figure(figsize=(20, 10))\n",
    "    plt.style.use('fivethirtyeight')\n",
    "    \n",
    "    plt.subplot(2, 2, 1)\n",
    "    plt.plot(Epochs, metrics['Losses'], 'blue', label='Loss')\n",
    "    plt.title('Losses')\n",
    "    plt.xlabel('Epochs')\n",
    "    plt.ylabel('Loss')\n",
    "    plt.legend()\n",
    "    \n",
    "    plt.subplot(2, 2, 2)\n",
    "    plt.plot(Epochs, metrics['Accuracy'], 'orange', label='Accuracy')\n",
    "    plt.title('Accuracy')\n",
    "    plt.xlabel('Epochs')\n",
    "    plt.ylabel('Accuracy')\n",
    "    plt.legend()\n",
    "    \n",
    "    plt.tight_layout\n",
    "    plt.show()"
   ]
  },
  {
   "cell_type": "code",
   "execution_count": null,
   "id": "44c508b1",
   "metadata": {},
   "outputs": [],
   "source": [
    "tr_plot(metrics, 0)"
   ]
  },
  {
   "cell_type": "code",
   "execution_count": null,
   "id": "09e18531",
   "metadata": {},
   "outputs": [],
   "source": [
    "def test_gan(generator, discriminator, num_epochs, metrics, loader):\n",
    "    now = datetime.datetime.now()\n",
    "    g_losses = metrics['G_losses'][-1]\n",
    "    d_losses = metrics['D_losses'][-1]\n",
    "    path='GANAug/output_images/ACGAN'\n",
    "    try:\n",
    "        os.mkdir(os.path.join('.', path))\n",
    "    except Exception as error:\n",
    "        print(error)\n",
    "\n",
    "    real_batch = next(iter(loader))\n",
    "    \n",
    "    test_img_list = []\n",
    "    test_noise = torch.randn(batch_size, nz, device=device)\n",
    "    test_label = torch.randn(batch_size, nb_label, device=device)\n",
    "    test_fake = generator(test_noise, test_label).detach().cpu()\n",
    "    test_img_list.append(vutils.make_grid(test_fake, padding=2, normalize=True))\n",
    "\n",
    "    fig = plt.figure(figsize=(20, 20))\n",
    "    ax1 = plt.subplot(1,2,1)\n",
    "    ax1 = plt.axis(\"off\")\n",
    "    ax1 = plt.title(\"Real Images\")\n",
    "    ax1 = plt.imshow(np.transpose(vutils.make_grid(real_batch[0].to(device)[:64], padding=5, normalize=True).cpu(),(1,2,0)))\n",
    "\n",
    "    ax2 = plt.subplot(1,2,2)\n",
    "    ax2 = plt.axis(\"off\")\n",
    "    ax2 = plt.title(\"Fake Images\")\n",
    "    ax2 = plt.imshow(np.transpose(test_img_list[-1],(1,2,0)))\n",
    "    plt.show()\n",
    "    fig.savefig('%s/image_%.3f_%.3f_%d_%s.png' %\n",
    "                   (path, g_losses, d_losses, num_epochs, now.strftime(\"%Y-%m-%d_%H:%M:%S\")))"
   ]
  },
  {
   "cell_type": "code",
   "execution_count": null,
   "id": "03814c7f",
   "metadata": {},
   "outputs": [],
   "source": [
    "test_gan(generator, discriminator, num_epochs, metrics, train_loader)"
   ]
  },
  {
   "cell_type": "code",
   "execution_count": null,
   "id": "f9cca5ce",
   "metadata": {},
   "outputs": [],
   "source": [
    "def plot_gan(name, train_epoch, values, path, save):\n",
    "    clear_output(wait=True)\n",
    "    plt.close('all')\n",
    "    fig = plt.figure()\n",
    "    fig = plt.ion()\n",
    "    fig = plt.subplot(1, 1, 1)\n",
    "    fig = plt.title('epoch: %s -> %s: %s' % (train_epoch, name, values[-1]))\n",
    "    fig = plt.ylabel(name)\n",
    "    fig = plt.xlabel('train_set')\n",
    "    fig = plt.plot(values)\n",
    "    fig = plt.grid()\n",
    "    get_fig = plt.gcf()\n",
    "    fig = plt.draw()  # draw the plot\n",
    "    fig = plt.pause(1)  # show it for 1 second\n",
    "    plt.show()\n",
    "    if save:\n",
    "        now = datetime.datetime.now()\n",
    "        get_fig.savefig('%s/%s_%.3f_%d_%s.png' %\n",
    "                        (path, name, train_epoch, values[-1], now.strftime(\"%Y-%m-%d_%H:%M:%S\")))"
   ]
  },
  {
   "cell_type": "code",
   "execution_count": null,
   "id": "2d5e7892",
   "metadata": {},
   "outputs": [],
   "source": [
    "def save_model(generator, discriminator, gen_optimizer, dis_optimizer, metrics, num_epochs):\n",
    "    now = datetime.datetime.now()\n",
    "    g_losses = metrics['G_losses'][-1]\n",
    "    d_losses = metrics['D_losses'][-1]\n",
    "    path='GANAug/plots/ACGAN/train_%+.3f_%+.3f_%s'% (g_losses, d_losses, now.strftime(\"%Y-%m-%d_%H-%M-%S\"))\n",
    "    try:\n",
    "        os.mkdir(os.path.join('.', path))\n",
    "    except Exception as error:\n",
    "        print(error)\n",
    "    plot_gan('G_losses', num_epochs, metrics['G_losses'], path, True)\n",
    "    plot_gan('D_losses', num_epochs, metrics['D_losses'], path, True)\n",
    "    plot_gan('G_syn_losses', num_epochs, metrics['G_syn_losses'], path, True)\n",
    "    plot_gan('G_class_losses', num_epochs, metrics['G_class_losses'], path, True)\n",
    "    plot_gan('G_syn_losses', num_epochs, metrics['G_syn_losses'], path, True)\n",
    "    plot_gan('D_class_losses', num_epochs, metrics['D_class_losses'], path, True)\n",
    "    plot_gan('D_syn_losses', num_epochs, metrics['D_syn_losses'], path, True)\n",
    "    plot_gan('Losses', num_epochs, metrics['Losses'], path, True)\n",
    "    plot_gan('Accuracy', num_epochs, metrics['Accuracy'], path, True)"
   ]
  },
  {
   "cell_type": "code",
   "execution_count": null,
   "id": "f66ad873",
   "metadata": {},
   "outputs": [],
   "source": [
    "save_model(generator, discriminator, optimizerG, optimizerD, metrics, num_epochs)"
   ]
  },
  {
   "cell_type": "code",
   "execution_count": null,
   "id": "c56cd9c9",
   "metadata": {},
   "outputs": [],
   "source": [
    "test_img_list = []\n",
    "test_noise = torch.randn(batch_size, nz, device=device)\n",
    "test_label = torch.randn(batch_size, nb_label, device=device)\n",
    "test_img = generator(test_noise, test_label)\n",
    "\n",
    "s_output, c_label_op = discriminator(test_img.detach().to(device))\n",
    "print('Discriminator s', s_output)\n",
    "print('Discriminator c', c_label_op)\n",
    "\n",
    "test_img = test_img.detach().cpu()\n",
    "test_img_list.append(vutils.make_grid(test_img, padding=2, normalize=True))\n",
    "plt.imshow(np.transpose(test_img_list[-1],(1,2,0)))"
   ]
  },
  {
   "cell_type": "code",
   "execution_count": null,
   "id": "d45fe52a",
   "metadata": {},
   "outputs": [],
   "source": [
    "data = next(iter(test_loader))\n",
    "test_noise, test_class_lable = data\n",
    "test_img = test_noise\n",
    "print('class label for real', test_class_lable)\n",
    "\n",
    "s_output,c_label_op = discriminator(test_img.detach().to(device))\n",
    "print('Discriminator s', s_output)\n",
    "print('Discriminator c', c_label_op)\n",
    "\n",
    "test_img = test_img.detach().cpu()\n",
    "test_img_list.append(vutils.make_grid(test_img, padding=2, normalize=True))\n",
    "plt.imshow(np.transpose(test_img_list[-1],(1,2,0)))"
   ]
  }
 ],
 "metadata": {
  "kernelspec": {
   "display_name": "Python 3 (ipykernel)",
   "language": "python",
   "name": "python3"
  },
  "language_info": {
   "codemirror_mode": {
    "name": "ipython",
    "version": 3
   },
   "file_extension": ".py",
   "mimetype": "text/x-python",
   "name": "python",
   "nbconvert_exporter": "python",
   "pygments_lexer": "ipython3",
   "version": "3.8.10"
  }
 },
 "nbformat": 4,
 "nbformat_minor": 5
}
