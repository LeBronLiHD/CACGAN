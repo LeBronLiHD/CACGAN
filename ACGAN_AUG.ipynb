{
 "cells": [
  {
   "cell_type": "code",
   "execution_count": 1,
   "id": "370513dc",
   "metadata": {},
   "outputs": [
    {
     "name": "stdout",
     "output_type": "stream",
     "text": [
      "Looking in indexes: http://mirrors.aliyun.com/pypi/simple\n",
      "Requirement already satisfied: opencv-python in /root/miniconda3/lib/python3.8/site-packages (4.5.5.64)\n",
      "Requirement already satisfied: torchsummary in /root/miniconda3/lib/python3.8/site-packages (1.5.1)\n",
      "Requirement already satisfied: scikit-learn in /root/miniconda3/lib/python3.8/site-packages (1.1.1)\n",
      "Requirement already satisfied: torchviz in /root/miniconda3/lib/python3.8/site-packages (0.0.2)\n",
      "Requirement already satisfied: utils in /root/miniconda3/lib/python3.8/site-packages (1.0.1)\n",
      "Requirement already satisfied: numpy>=1.17.3 in /root/miniconda3/lib/python3.8/site-packages (from opencv-python) (1.21.4)\n",
      "Requirement already satisfied: threadpoolctl>=2.0.0 in /root/miniconda3/lib/python3.8/site-packages (from scikit-learn) (3.1.0)\n",
      "Requirement already satisfied: joblib>=1.0.0 in /root/miniconda3/lib/python3.8/site-packages (from scikit-learn) (1.1.0)\n",
      "Requirement already satisfied: scipy>=1.3.2 in /root/miniconda3/lib/python3.8/site-packages (from scikit-learn) (1.8.1)\n",
      "Requirement already satisfied: graphviz in /root/miniconda3/lib/python3.8/site-packages (from torchviz) (0.20)\n",
      "Requirement already satisfied: torch in /root/miniconda3/lib/python3.8/site-packages (from torchviz) (1.10.0+cu113)\n",
      "Requirement already satisfied: typing-extensions in /root/miniconda3/lib/python3.8/site-packages (from torch->torchviz) (4.0.0)\n",
      "\u001b[33mWARNING: Running pip as the 'root' user can result in broken permissions and conflicting behaviour with the system package manager. It is recommended to use a virtual environment instead: https://pip.pypa.io/warnings/venv\u001b[0m\n"
     ]
    }
   ],
   "source": [
    "!pip install opencv-python torchsummary scikit-learn torchviz utils"
   ]
  },
  {
   "cell_type": "code",
   "execution_count": 2,
   "id": "6a6a2202",
   "metadata": {},
   "outputs": [],
   "source": [
    "import torch\n",
    "import torch.nn as nn\n",
    "import torch.nn.parallel\n",
    "import torch.nn.functional as F\n",
    "import torch.backends.cudnn as cudnn\n",
    "import torch.optim as optim\n",
    "import torch.utils.data\n",
    "import torchvision.datasets as datasets\n",
    "import torchvision.transforms as transforms\n",
    "import torchvision.utils as vutils\n",
    "import utils\n",
    "from torch.nn.functional import one_hot\n",
    "from torchvision.utils import save_image\n",
    "from torch.autograd import Variable\n",
    "from torch.utils.data import SubsetRandomSampler"
   ]
  },
  {
   "cell_type": "code",
   "execution_count": 3,
   "id": "6cf2ef10",
   "metadata": {},
   "outputs": [
    {
     "name": "stdout",
     "output_type": "stream",
     "text": [
      "['sm_37', 'sm_50', 'sm_60', 'sm_70', 'sm_75', 'sm_80', 'sm_86'] cuda\n"
     ]
    }
   ],
   "source": [
    "device = \"cuda\" if torch.cuda.is_available() else \"cpu\"\n",
    "print(torch.cuda.get_arch_list(), device)"
   ]
  },
  {
   "cell_type": "code",
   "execution_count": 4,
   "id": "b8079c45",
   "metadata": {},
   "outputs": [],
   "source": [
    "from __future__ import print_function\n",
    "import argparse\n",
    "import datetime\n",
    "import matplotlib.pyplot as plt\n",
    "from IPython.display import HTML\n",
    "from IPython.display import clear_output\n",
    "from tqdm import tqdm\n",
    "import os\n",
    "from tqdm import notebook\n",
    "from sklearn.metrics import classification_report, confusion_matrix\n",
    "import gc\n",
    "import matplotlib.colors as mat_color\n",
    "import numpy as np\n",
    "from PIL import Image\n",
    "import random\n",
    "import cv2\n",
    "from torchvision.datasets import ImageNet, ImageFolder\n",
    "from torch.utils.data import DataLoader\n",
    "from torchsummary import summary\n",
    "from torchviz import make_dot"
   ]
  },
  {
   "cell_type": "code",
   "execution_count": 5,
   "id": "3eb59879",
   "metadata": {},
   "outputs": [],
   "source": [
    "def initialize_weights(net):\n",
    "    for m in net.modules():\n",
    "        if isinstance(m, nn.Conv2d):\n",
    "            m.weight.data.normal_(0, 0.02)\n",
    "            m.bias.data.zero_()\n",
    "        elif isinstance(m, nn.ConvTranspose2d):\n",
    "            m.weight.data.normal_(0, 0.02)\n",
    "            m.bias.data.zero_()\n",
    "        elif isinstance(m, nn.Linear):\n",
    "            m.weight.data.normal_(0, 0.02)\n",
    "            m.bias.data.zero_()\n",
    "\n",
    "class Generator(nn.Module):\n",
    "    # Network Architecture is exactly same as in infoGAN (https://arxiv.org/abs/1606.03657)\n",
    "    # Architecture : FC1024_BR-FC7x7x128_BR-(64)4dc2s_BR-(1)4dc2s_S\n",
    "    def __init__(self, input_dim=100, output_dim=1, input_size=32, class_num=10):\n",
    "        super(Generator, self).__init__()\n",
    "        self.input_dim = input_dim\n",
    "        self.output_dim = output_dim\n",
    "        self.input_size = input_size\n",
    "        self.class_num = class_num\n",
    "\n",
    "        self.fc = nn.Sequential(\n",
    "            nn.Linear(self.input_dim + self.class_num, 1024),\n",
    "            nn.BatchNorm1d(1024),\n",
    "            nn.ReLU(),\n",
    "            nn.Linear(1024, 128 * (self.input_size // 4) * (self.input_size // 4)),\n",
    "            nn.BatchNorm1d(128 * (self.input_size // 4) * (self.input_size // 4)),\n",
    "            nn.ReLU(),\n",
    "        )\n",
    "        self.deconv = nn.Sequential(\n",
    "            nn.ConvTranspose2d(128, 64, 4, 2, 1),\n",
    "            nn.BatchNorm2d(64),\n",
    "            nn.ReLU(),\n",
    "            nn.ConvTranspose2d(64, self.output_dim, 4, 2, 1),\n",
    "            nn.Tanh(),\n",
    "        )\n",
    "        initialize_weights(self)\n",
    "\n",
    "    def forward(self, input, label):\n",
    "        x = torch.cat([input, label], 1)\n",
    "        x = self.fc(x)\n",
    "        x = x.view(-1, 128, (self.input_size // 4), (self.input_size // 4))\n",
    "        x = self.deconv(x)\n",
    "\n",
    "        return x\n",
    "\n",
    "    \n",
    "class Discriminator(nn.Module):\n",
    "    # Network Architecture is exactly same as in infoGAN (https://arxiv.org/abs/1606.03657)\n",
    "    # Architecture : (64)4c2s-(128)4c2s_BL-FC1024_BL-FC1_S\n",
    "    def __init__(self, input_dim=1, output_dim=1, input_size=32, class_num=10):\n",
    "        super(Discriminator, self).__init__()\n",
    "        self.input_dim = input_dim\n",
    "        self.output_dim = output_dim\n",
    "        self.input_size = input_size\n",
    "        self.class_num = class_num\n",
    "\n",
    "        self.conv = nn.Sequential(\n",
    "            nn.Conv2d(self.input_dim, 64, 4, 2, 1),\n",
    "            nn.LeakyReLU(0.2),\n",
    "            nn.Conv2d(64, 128, 4, 2, 1),\n",
    "            nn.BatchNorm2d(128),\n",
    "            nn.LeakyReLU(0.2),\n",
    "        )\n",
    "        self.fc1 = nn.Sequential(\n",
    "            nn.Linear(128 * (self.input_size // 4) * (self.input_size // 4), 1024),\n",
    "            nn.BatchNorm1d(1024),\n",
    "            nn.LeakyReLU(0.2),\n",
    "        )\n",
    "        self.dc = nn.Sequential(\n",
    "            nn.Linear(1024, self.output_dim),\n",
    "            nn.Sigmoid(),\n",
    "        )\n",
    "        self.cl = nn.Sequential(\n",
    "            nn.Linear(1024, self.class_num),\n",
    "        )\n",
    "        initialize_weights(self)\n",
    "\n",
    "    def forward(self, input):\n",
    "        x = self.conv(input)\n",
    "        x = x.view(-1, 128 * (self.input_size // 4) * (self.input_size // 4))\n",
    "        x = self.fc1(x)\n",
    "        d = self.dc(x)\n",
    "        c = self.cl(x)\n",
    "\n",
    "        return d, c\n"
   ]
  },
  {
   "cell_type": "code",
   "execution_count": 6,
   "id": "220b9685",
   "metadata": {},
   "outputs": [],
   "source": [
    "base_path = './data'\n",
    "base_folder = \"Covid-19 Image Dataset\"\n",
    "classic_folder = 'Coivd-19_Classic'\n",
    "synthetic_folder = 'Coivd-19_Synthetic'\n",
    "data_dir = os.path.join(base_path, classic_folder)"
   ]
  },
  {
   "cell_type": "code",
   "execution_count": 7,
   "id": "9b6ea5a3",
   "metadata": {},
   "outputs": [],
   "source": [
    "batch_size = 32\n",
    "train_path = os.path.join(data_dir, \"train\")\n",
    "test_path = os.path.join(data_dir, \"test\")"
   ]
  },
  {
   "cell_type": "code",
   "execution_count": 8,
   "id": "1bf35c4c",
   "metadata": {},
   "outputs": [
    {
     "name": "stdout",
     "output_type": "stream",
     "text": [
      "['Covid', 'Normal', 'Viral Pneumonia']\n"
     ]
    }
   ],
   "source": [
    "labels = os.listdir(train_path)\n",
    "print(labels)\n",
    "no_norm = mat_color.Normalize(vmin=0, vmax=255, clip=False)\n",
    "label_dict = {\n",
    "    0 : 'Covid', \n",
    "    1 : 'Normal', \n",
    "    2 : 'Viral Pneumonia'\n",
    "}"
   ]
  },
  {
   "cell_type": "code",
   "execution_count": 9,
   "id": "28c7ac6b",
   "metadata": {
    "scrolled": true
   },
   "outputs": [
    {
     "name": "stdout",
     "output_type": "stream",
     "text": [
      "torch.Size([32])\n",
      "torch.Size([32, 3])\n",
      "torch.Size([32, 256])\n",
      "torch.Size([3, 256])\n",
      "torch.Size([3, 3])\n"
     ]
    }
   ],
   "source": [
    "# Number of training epochs\n",
    "num_epochs = 200\n",
    "#All images will be resized to this size using a transformer.\n",
    "img_size = 128 * 2\n",
    "# Number of channels in the training images. For color images this is 3\n",
    "nc = 3\n",
    "# Size of z latent vector (i.e. size of generator input)\n",
    "nz = img_size\n",
    "# Size of feature maps in generator\n",
    "ngf = img_size\n",
    "# Size of feature maps in discriminator\n",
    "ndf = img_size\n",
    "# No of labels\n",
    "nb_label = len(labels)\n",
    "# Learning rate for optimizers\n",
    "lr = 0.00000010\n",
    "lr_d = 0.00000002\n",
    "# Beta1 hyperparam for Adam optimizers\n",
    "beta1 = 0.5\n",
    "# Beta2 hyperparam for Adam optimizers\n",
    "beta2 = 0.999\n",
    "\n",
    "real_label = 1.\n",
    "fake_label = 0.\n",
    "s_criterion = nn.BCELoss().to(device) #For synthesizing\n",
    "c_criterion = nn.CrossEntropyLoss().to(device) #For classification\n",
    "\n",
    "s_label = torch.FloatTensor(batch_size).to(device)\n",
    "c_label = torch.FloatTensor(batch_size, nb_label).to(device)\n",
    "noise = torch.FloatTensor(batch_size, nz).to(device)\n",
    "\n",
    "s_label = Variable(s_label)\n",
    "c_label = Variable(c_label)\n",
    "print(s_label.shape)\n",
    "print(c_label.shape)\n",
    "print(noise.shape)\n",
    "\n",
    "noise = Variable(noise)\n",
    "\n",
    "noise_fixed = torch.FloatTensor(3, nz).to(device)\n",
    "noise_data = np.random.normal(0, 1, (3, nz))\n",
    "noise_fixed.data.copy_(torch.tensor(noise_data))\n",
    "noise_fixed = Variable(noise_fixed)\n",
    "\n",
    "label_fixed = torch.FloatTensor(3, 3).to(device)\n",
    "label_onehot = np.zeros((3, nb_label))\n",
    "label_fixed_data = [0, 1, 2]\n",
    "label_onehot[np.arange(1), label_fixed_data] = 1\n",
    "label_fixed.data.copy_(torch.tensor(label_onehot))\n",
    "label_fixed = Variable(label_fixed)\n",
    "\n",
    "print(noise_fixed.shape)\n",
    "print(label_fixed.shape)"
   ]
  },
  {
   "cell_type": "code",
   "execution_count": 10,
   "id": "bd17020a",
   "metadata": {},
   "outputs": [
    {
     "name": "stdout",
     "output_type": "stream",
     "text": [
      "[Errno 17] File exists: './GANAug'\n",
      "[Errno 17] File exists: './GANAug/model'\n",
      "[Errno 17] File exists: './GANAug/plots'\n",
      "[Errno 17] File exists: './GANAug/model/ACGAN'\n",
      "[Errno 17] File exists: './GANAug/plots/ACGAN'\n",
      "[Errno 17] File exists: './GANAug/output_images'\n",
      "[Errno 17] File exists: './GANAug/output_images/ACGAN'\n",
      "[Errno 17] File exists: './GANAug/output_images/ACGAN/Covid'\n",
      "[Errno 17] File exists: './GANAug/output_images/ACGAN/Normal'\n",
      "[Errno 17] File exists: './GANAug/output_images/ACGAN/Viral Pneumonia'\n"
     ]
    }
   ],
   "source": [
    "for func in [\n",
    "    lambda: os.mkdir(os.path.join('.', 'GANAug')),\n",
    "    lambda: os.mkdir(os.path.join('.', 'GANAug/model')),\n",
    "    lambda: os.mkdir(os.path.join('.', 'GANAug/plots')),\n",
    "    lambda: os.mkdir(os.path.join('.', 'GANAug/model/ACGAN')),\n",
    "    lambda: os.mkdir(os.path.join('.', 'GANAug/plots/ACGAN')),\n",
    "    lambda: os.mkdir(os.path.join('.', 'GANAug/output_images')),\n",
    "    lambda: os.mkdir(os.path.join('.', 'GANAug/output_images/ACGAN')),\n",
    "    lambda: os.mkdir(os.path.join('.', 'GANAug/output_images/ACGAN/' + label_dict[0])),\n",
    "    lambda: os.mkdir(os.path.join('.', 'GANAug/output_images/ACGAN/' + label_dict[1])),\n",
    "    lambda: os.mkdir(os.path.join('.', 'GANAug/output_images/ACGAN/' + label_dict[2]))]:  # create directories\n",
    "    try:\n",
    "        func()\n",
    "    except Exception as error:\n",
    "        print(error)\n",
    "        continue"
   ]
  },
  {
   "cell_type": "code",
   "execution_count": 11,
   "id": "74dda24a",
   "metadata": {},
   "outputs": [],
   "source": [
    "matrix_fields = [\n",
    "    'G_losses',\n",
    "    'G_class_losses',\n",
    "    'G_syn_losses',\n",
    "    'D_losses',\n",
    "    'D_real_losses',\n",
    "    'D_fake_losses',\n",
    "    'D_class_losses',\n",
    "    'D_syn_losses',\n",
    "    'Accuracy',\n",
    "    'Losses'\n",
    "]\n",
    "metrics = {field: list() for field in matrix_fields}"
   ]
  },
  {
   "cell_type": "code",
   "execution_count": 12,
   "id": "a26a75d2",
   "metadata": {},
   "outputs": [],
   "source": [
    "def load_dataset(train_dir=train_path, test_dir=test_path):\n",
    "    transform = transforms.Compose([\n",
    "        transforms.Resize((img_size, img_size)),\n",
    "        transforms.ToTensor(),\n",
    "        transforms.Normalize(mean=[0.485, 0.456, 0.406], std=[0.229, 0.224, 0.225]),\n",
    "        ])\n",
    "    train_data = datasets.ImageFolder(train_dir, transform=transform)\n",
    "    train_loader = DataLoader(train_data, batch_size, shuffle=True, num_workers=1)\n",
    "\n",
    "    test_data = datasets.ImageFolder(test_dir ,transform=transform)\n",
    "    test_loader = DataLoader(test_data, batch_size, shuffle=True, num_workers=1)\n",
    "\n",
    "    return train_loader, test_loader, train_data, test_data"
   ]
  },
  {
   "cell_type": "code",
   "execution_count": 13,
   "id": "bbb0b552",
   "metadata": {},
   "outputs": [],
   "source": [
    "train_loader, test_loader, train_data, test_data = load_dataset()"
   ]
  },
  {
   "cell_type": "code",
   "execution_count": 14,
   "id": "0360680c",
   "metadata": {},
   "outputs": [],
   "source": [
    "generator = Generator(input_dim=nz, output_dim=nc, input_size=ngf, class_num=nb_label).to(device)\n",
    "discriminator = Discriminator(input_dim=nc, output_dim=1, input_size=ndf, class_num=nb_label).to(device)\n",
    "\n",
    "# setup optimizer\n",
    "optimizerD = optim.Adam(discriminator.parameters(), lr=lr_d, betas=(beta1, beta2))\n",
    "optimizerG = optim.Adam(generator.parameters(), lr=lr, betas=(beta1, beta2))"
   ]
  },
  {
   "cell_type": "code",
   "execution_count": 15,
   "id": "8d141b1c",
   "metadata": {},
   "outputs": [
    {
     "name": "stdout",
     "output_type": "stream",
     "text": [
      "torch.Size([32, 3, 256, 256])\n"
     ]
    }
   ],
   "source": [
    "g_output = generator(torch.rand((batch_size, nz)).to(device), torch.ones((batch_size, nb_label)).to(device))\n",
    "print(g_output.shape)"
   ]
  },
  {
   "cell_type": "code",
   "execution_count": 16,
   "id": "8244b33d",
   "metadata": {},
   "outputs": [
    {
     "name": "stdout",
     "output_type": "stream",
     "text": [
      "torch.Size([32, 1])\n",
      "torch.Size([32, 3])\n"
     ]
    }
   ],
   "source": [
    "s_output, c_output = discriminator(torch.rand(g_output.shape).to(device))\n",
    "print(s_output.shape)\n",
    "print(c_output.shape)\n",
    "del g_output, s_output, c_output"
   ]
  },
  {
   "cell_type": "code",
   "execution_count": 17,
   "id": "065eed00",
   "metadata": {},
   "outputs": [
    {
     "name": "stdout",
     "output_type": "stream",
     "text": [
      "Looking in indexes: http://mirrors.aliyun.com/pypi/simple\n",
      "Requirement already satisfied: torchviz in /root/miniconda3/lib/python3.8/site-packages (0.0.2)\n",
      "Requirement already satisfied: graphviz in /root/miniconda3/lib/python3.8/site-packages (from torchviz) (0.20)\n",
      "Requirement already satisfied: torch in /root/miniconda3/lib/python3.8/site-packages (from torchviz) (1.10.0+cu113)\n",
      "Requirement already satisfied: typing-extensions in /root/miniconda3/lib/python3.8/site-packages (from torch->torchviz) (4.0.0)\n",
      "\u001b[33mWARNING: Running pip as the 'root' user can result in broken permissions and conflicting behaviour with the system package manager. It is recommended to use a virtual environment instead: https://pip.pypa.io/warnings/venv\u001b[0m\n"
     ]
    }
   ],
   "source": [
    "!pip install torchviz"
   ]
  },
  {
   "cell_type": "code",
   "execution_count": 18,
   "id": "81981a02",
   "metadata": {
    "scrolled": false
   },
   "outputs": [
    {
     "name": "stdout",
     "output_type": "stream",
     "text": [
      "Generator(\n",
      "  (fc): Sequential(\n",
      "    (0): Linear(in_features=259, out_features=1024, bias=True)\n",
      "    (1): BatchNorm1d(1024, eps=1e-05, momentum=0.1, affine=True, track_running_stats=True)\n",
      "    (2): ReLU()\n",
      "    (3): Linear(in_features=1024, out_features=524288, bias=True)\n",
      "    (4): BatchNorm1d(524288, eps=1e-05, momentum=0.1, affine=True, track_running_stats=True)\n",
      "    (5): ReLU()\n",
      "  )\n",
      "  (deconv): Sequential(\n",
      "    (0): ConvTranspose2d(128, 64, kernel_size=(4, 4), stride=(2, 2), padding=(1, 1))\n",
      "    (1): BatchNorm2d(64, eps=1e-05, momentum=0.1, affine=True, track_running_stats=True)\n",
      "    (2): ReLU()\n",
      "    (3): ConvTranspose2d(64, 3, kernel_size=(4, 4), stride=(2, 2), padding=(1, 1))\n",
      "    (4): Tanh()\n",
      "  )\n",
      ")\n",
      "Discriminator(\n",
      "  (conv): Sequential(\n",
      "    (0): Conv2d(3, 64, kernel_size=(4, 4), stride=(2, 2), padding=(1, 1))\n",
      "    (1): LeakyReLU(negative_slope=0.2)\n",
      "    (2): Conv2d(64, 128, kernel_size=(4, 4), stride=(2, 2), padding=(1, 1))\n",
      "    (3): BatchNorm2d(128, eps=1e-05, momentum=0.1, affine=True, track_running_stats=True)\n",
      "    (4): LeakyReLU(negative_slope=0.2)\n",
      "  )\n",
      "  (fc1): Sequential(\n",
      "    (0): Linear(in_features=524288, out_features=1024, bias=True)\n",
      "    (1): BatchNorm1d(1024, eps=1e-05, momentum=0.1, affine=True, track_running_stats=True)\n",
      "    (2): LeakyReLU(negative_slope=0.2)\n",
      "  )\n",
      "  (dc): Sequential(\n",
      "    (0): Linear(in_features=1024, out_features=1, bias=True)\n",
      "    (1): Sigmoid()\n",
      "  )\n",
      "  (cl): Sequential(\n",
      "    (0): Linear(in_features=1024, out_features=3, bias=True)\n",
      "  )\n",
      ")\n"
     ]
    }
   ],
   "source": [
    "print(generator)\n",
    "print(discriminator)"
   ]
  },
  {
   "cell_type": "code",
   "execution_count": 19,
   "id": "5e2592f2",
   "metadata": {},
   "outputs": [
    {
     "name": "stdout",
     "output_type": "stream",
     "text": [
      "----------------------------------------------------------------\n",
      "        Layer (type)               Output Shape         Param #\n",
      "================================================================\n",
      "            Linear-1                 [16, 1024]         266,240\n",
      "       BatchNorm1d-2                 [16, 1024]           2,048\n",
      "              ReLU-3                 [16, 1024]               0\n",
      "            Linear-4               [16, 524288]     537,395,200\n",
      "       BatchNorm1d-5               [16, 524288]       1,048,576\n",
      "              ReLU-6               [16, 524288]               0\n",
      "   ConvTranspose2d-7         [16, 64, 128, 128]         131,136\n",
      "       BatchNorm2d-8         [16, 64, 128, 128]             128\n",
      "              ReLU-9         [16, 64, 128, 128]               0\n",
      "  ConvTranspose2d-10          [16, 3, 256, 256]           3,075\n",
      "             Tanh-11          [16, 3, 256, 256]               0\n",
      "================================================================\n",
      "Total params: 538,846,403\n",
      "Trainable params: 538,846,403\n",
      "Non-trainable params: 0\n",
      "----------------------------------------------------------------\n",
      "Input size (MB): 0.05\n",
      "Forward/backward pass size (MB): 624.38\n",
      "Params size (MB): 2055.54\n",
      "Estimated Total Size (MB): 2679.96\n",
      "----------------------------------------------------------------\n"
     ]
    }
   ],
   "source": [
    "SHOW = True\n",
    "if SHOW:\n",
    "    summary(generator, [[nz], [nc]], batch_size=16, device=device)"
   ]
  },
  {
   "cell_type": "code",
   "execution_count": 20,
   "id": "57c2031b",
   "metadata": {},
   "outputs": [
    {
     "name": "stdout",
     "output_type": "stream",
     "text": [
      "----------------------------------------------------------------\n",
      "        Layer (type)               Output Shape         Param #\n",
      "================================================================\n",
      "            Conv2d-1         [16, 64, 128, 128]           3,136\n",
      "         LeakyReLU-2         [16, 64, 128, 128]               0\n",
      "            Conv2d-3          [16, 128, 64, 64]         131,200\n",
      "       BatchNorm2d-4          [16, 128, 64, 64]             256\n",
      "         LeakyReLU-5          [16, 128, 64, 64]               0\n",
      "            Linear-6                 [16, 1024]     536,871,936\n",
      "       BatchNorm1d-7                 [16, 1024]           2,048\n",
      "         LeakyReLU-8                 [16, 1024]               0\n",
      "            Linear-9                    [16, 1]           1,025\n",
      "          Sigmoid-10                    [16, 1]               0\n",
      "           Linear-11                    [16, 3]           3,075\n",
      "================================================================\n",
      "Total params: 537,012,676\n",
      "Trainable params: 537,012,676\n",
      "Non-trainable params: 0\n",
      "----------------------------------------------------------------\n",
      "Input size (MB): 12.00\n",
      "Forward/backward pass size (MB): 448.38\n",
      "Params size (MB): 2048.54\n",
      "Estimated Total Size (MB): 2508.92\n",
      "----------------------------------------------------------------\n"
     ]
    }
   ],
   "source": [
    "if SHOW:\n",
    "    summary(discriminator, (nc, img_size, img_size), batch_size=16, device=device)"
   ]
  },
  {
   "cell_type": "code",
   "execution_count": 21,
   "id": "0580f119",
   "metadata": {},
   "outputs": [],
   "source": [
    "SHOW_IMG = False\n",
    "if SHOW_IMG:\n",
    "    def modeltorchviz(model, input_1, input_2):\n",
    "        if input_2 != None:\n",
    "            y = model(input_1.to(device), input_2.to(device))\n",
    "        else:\n",
    "            y = model(input_1to(device))\n",
    "        if input_2 != None:\n",
    "            MyConvNetVis = make_dot(y, params=dict(list(model.named_parameters()) + [('x', input_1)] + [('x', input_2)]))\n",
    "        else:\n",
    "            MyConvNetVis = make_dot(y, params=dict(list(model.named_parameters()) + [('x', input_1)]))\n",
    "        MyConvNetVis.format = \"png\"\n",
    "        MyConvNetVis.directory = \"images\"\n",
    "        MyConvNetVis.view() "
   ]
  },
  {
   "cell_type": "code",
   "execution_count": 22,
   "id": "f0cd9edc",
   "metadata": {
    "scrolled": false
   },
   "outputs": [],
   "source": [
    "if SHOW_IMG:\n",
    "    modeltorchviz(generator, torch.randn(16, nz).requires_grad_(True), torch.randn(16, nb_label).requires_grad_(True))"
   ]
  },
  {
   "cell_type": "code",
   "execution_count": 23,
   "id": "d02b9f92",
   "metadata": {},
   "outputs": [],
   "source": [
    "if SHOW_IMG:\n",
    "    modeltorchviz(discriminator, torch.randn(1, nc, ndf, ndf).requires_grad_(True))"
   ]
  },
  {
   "cell_type": "code",
   "execution_count": 24,
   "id": "0d1b6459",
   "metadata": {},
   "outputs": [],
   "source": [
    "def test(predict, labels):\n",
    "    correct = 0\n",
    "    predict = torch.argmax(predict, dim=1)\n",
    "    labels = torch.argmax(labels, dim=1)\n",
    "    correct = predict.eq(labels.data).cpu().sum()\n",
    "    return correct, len(labels.data)"
   ]
  },
  {
   "cell_type": "code",
   "execution_count": 25,
   "id": "c2f610db",
   "metadata": {},
   "outputs": [
    {
     "name": "stdout",
     "output_type": "stream",
     "text": [
      "3780\n"
     ]
    }
   ],
   "source": [
    "early_stop_count = 0\n",
    "early_stop_patient = len(train_loader) * 20\n",
    "early_stop = False\n",
    "best_batch_loss = -1\n",
    "save_model = False\n",
    "print(early_stop_patient)"
   ]
  },
  {
   "cell_type": "code",
   "execution_count": 26,
   "id": "180b4385",
   "metadata": {},
   "outputs": [],
   "source": [
    "def get_file_list(file_path, length):\n",
    "    dir_list = os.listdir(file_path)\n",
    "    if not dir_list:\n",
    "        return\n",
    "    else:\n",
    "        dir_list = sorted(dir_list,  key=lambda x: os.path.getmtime(os.path.join(file_path, x)))\n",
    "        print(\"files to be deleted ->\", dir_list[0:length])\n",
    "        return dir_list[0:length]"
   ]
  },
  {
   "cell_type": "code",
   "execution_count": null,
   "id": "0714f81e",
   "metadata": {
    "scrolled": true
   },
   "outputs": [
    {
     "name": "stderr",
     "output_type": "stream",
     "text": [
      "  1%|▍                                                                                       | 1/189 [00:01<05:24,  1.72s/it]"
     ]
    },
    {
     "name": "stdout",
     "output_type": "stream",
     "text": [
      "[1/200][1/189] ========== Loss_D: 1.4541, Loss_G: 1.7165, Acc_G: 8/32 = 25.0000\n"
     ]
    },
    {
     "name": "stderr",
     "output_type": "stream",
     "text": [
      "  1%|▉                                                                                       | 2/189 [00:02<03:56,  1.26s/it]"
     ]
    },
    {
     "name": "stdout",
     "output_type": "stream",
     "text": [
      "[1/200][2/189] ========== Loss_D: 1.4410, Loss_G: 1.6653, Acc_G: 14/32 = 43.7500\n",
      "---------------------< lowest loss update -> 3.106326103210449 >---------------------\n"
     ]
    },
    {
     "name": "stderr",
     "output_type": "stream",
     "text": [
      "  2%|█▍                                                                                      | 3/189 [00:04<04:11,  1.35s/it]"
     ]
    },
    {
     "name": "stdout",
     "output_type": "stream",
     "text": [
      "[1/200][3/189] ========== Loss_D: 1.4604, Loss_G: 1.6999, Acc_G: 11/32 = 34.3750\n"
     ]
    },
    {
     "name": "stderr",
     "output_type": "stream",
     "text": [
      "  2%|█▊                                                                                      | 4/189 [00:05<03:49,  1.24s/it]"
     ]
    },
    {
     "name": "stdout",
     "output_type": "stream",
     "text": [
      "[1/200][4/189] ========== Loss_D: 1.4571, Loss_G: 1.8113, Acc_G: 10/32 = 31.2500\n"
     ]
    },
    {
     "name": "stderr",
     "output_type": "stream",
     "text": [
      "  3%|██▎                                                                                     | 5/189 [00:06<03:45,  1.23s/it]"
     ]
    },
    {
     "name": "stdout",
     "output_type": "stream",
     "text": [
      "[1/200][5/189] ========== Loss_D: 1.4560, Loss_G: 1.7688, Acc_G: 12/32 = 37.5000\n"
     ]
    },
    {
     "name": "stderr",
     "output_type": "stream",
     "text": [
      "  3%|██▊                                                                                     | 6/189 [00:07<03:49,  1.25s/it]"
     ]
    },
    {
     "name": "stdout",
     "output_type": "stream",
     "text": [
      "[1/200][6/189] ========== Loss_D: 1.4445, Loss_G: 1.7027, Acc_G: 12/32 = 37.5000\n"
     ]
    },
    {
     "name": "stderr",
     "output_type": "stream",
     "text": [
      "  4%|███▎                                                                                    | 7/189 [00:09<03:54,  1.29s/it]"
     ]
    },
    {
     "name": "stdout",
     "output_type": "stream",
     "text": [
      "[1/200][7/189] ========== Loss_D: 1.4456, Loss_G: 1.8241, Acc_G: 16/32 = 50.0000\n"
     ]
    },
    {
     "name": "stderr",
     "output_type": "stream",
     "text": [
      "  4%|███▋                                                                                    | 8/189 [00:10<03:58,  1.32s/it]"
     ]
    },
    {
     "name": "stdout",
     "output_type": "stream",
     "text": [
      "[1/200][8/189] ========== Loss_D: 1.4529, Loss_G: 1.7367, Acc_G: 7/32 = 21.8750\n"
     ]
    },
    {
     "name": "stderr",
     "output_type": "stream",
     "text": [
      "  5%|████▏                                                                                   | 9/189 [00:11<03:51,  1.29s/it]"
     ]
    },
    {
     "name": "stdout",
     "output_type": "stream",
     "text": [
      "[1/200][9/189] ========== Loss_D: 1.4737, Loss_G: 1.7746, Acc_G: 11/32 = 34.3750\n"
     ]
    },
    {
     "name": "stderr",
     "output_type": "stream",
     "text": [
      "  5%|████▌                                                                                  | 10/189 [00:12<03:47,  1.27s/it]"
     ]
    },
    {
     "name": "stdout",
     "output_type": "stream",
     "text": [
      "[1/200][10/189] ========== Loss_D: 1.4565, Loss_G: 1.6093, Acc_G: 9/32 = 28.1250\n",
      "---------------------< lowest loss update -> 3.0657191276550293 >---------------------\n"
     ]
    },
    {
     "name": "stderr",
     "output_type": "stream",
     "text": [
      "  6%|█████                                                                                  | 11/189 [00:13<03:36,  1.22s/it]"
     ]
    },
    {
     "name": "stdout",
     "output_type": "stream",
     "text": [
      "[1/200][11/189] ========== Loss_D: 1.4452, Loss_G: 1.6944, Acc_G: 11/32 = 34.3750\n"
     ]
    },
    {
     "name": "stderr",
     "output_type": "stream",
     "text": [
      "  6%|█████▌                                                                                 | 12/189 [00:15<03:48,  1.29s/it]"
     ]
    },
    {
     "name": "stdout",
     "output_type": "stream",
     "text": [
      "[1/200][12/189] ========== Loss_D: 1.4435, Loss_G: 1.7549, Acc_G: 14/32 = 43.7500\n"
     ]
    },
    {
     "name": "stderr",
     "output_type": "stream",
     "text": [
      "  7%|█████▉                                                                                 | 13/189 [00:16<03:52,  1.32s/it]"
     ]
    },
    {
     "name": "stdout",
     "output_type": "stream",
     "text": [
      "[1/200][13/189] ========== Loss_D: 1.4496, Loss_G: 1.6977, Acc_G: 10/32 = 31.2500\n"
     ]
    },
    {
     "name": "stderr",
     "output_type": "stream",
     "text": [
      "  7%|██████▍                                                                                | 14/189 [00:18<03:47,  1.30s/it]"
     ]
    },
    {
     "name": "stdout",
     "output_type": "stream",
     "text": [
      "[1/200][14/189] ========== Loss_D: 1.4495, Loss_G: 1.7467, Acc_G: 11/32 = 34.3750\n"
     ]
    },
    {
     "name": "stderr",
     "output_type": "stream",
     "text": [
      "  8%|██████▉                                                                                | 15/189 [00:19<03:29,  1.20s/it]"
     ]
    },
    {
     "name": "stdout",
     "output_type": "stream",
     "text": [
      "[1/200][15/189] ========== Loss_D: 1.4601, Loss_G: 1.7415, Acc_G: 13/32 = 40.6250\n"
     ]
    },
    {
     "name": "stderr",
     "output_type": "stream",
     "text": [
      "  8%|███████▎                                                                               | 16/189 [00:20<03:34,  1.24s/it]"
     ]
    },
    {
     "name": "stdout",
     "output_type": "stream",
     "text": [
      "[1/200][16/189] ========== Loss_D: 1.4497, Loss_G: 1.7552, Acc_G: 11/32 = 34.3750\n"
     ]
    },
    {
     "name": "stderr",
     "output_type": "stream",
     "text": [
      "  9%|███████▊                                                                               | 17/189 [00:21<03:25,  1.20s/it]"
     ]
    },
    {
     "name": "stdout",
     "output_type": "stream",
     "text": [
      "[1/200][17/189] ========== Loss_D: 1.4306, Loss_G: 1.7187, Acc_G: 8/32 = 25.0000\n"
     ]
    },
    {
     "name": "stderr",
     "output_type": "stream",
     "text": [
      " 10%|████████▎                                                                              | 18/189 [00:22<03:28,  1.22s/it]"
     ]
    },
    {
     "name": "stdout",
     "output_type": "stream",
     "text": [
      "[1/200][18/189] ========== Loss_D: 1.4465, Loss_G: 1.6650, Acc_G: 8/32 = 25.0000\n"
     ]
    },
    {
     "name": "stderr",
     "output_type": "stream",
     "text": [
      " 10%|████████▋                                                                              | 19/189 [00:24<03:41,  1.30s/it]"
     ]
    },
    {
     "name": "stdout",
     "output_type": "stream",
     "text": [
      "[1/200][19/189] ========== Loss_D: 1.4573, Loss_G: 1.7271, Acc_G: 11/32 = 34.3750\n"
     ]
    },
    {
     "name": "stderr",
     "output_type": "stream",
     "text": [
      " 11%|█████████▏                                                                             | 20/189 [00:25<04:02,  1.43s/it]"
     ]
    },
    {
     "name": "stdout",
     "output_type": "stream",
     "text": [
      "[1/200][20/189] ========== Loss_D: 1.4660, Loss_G: 1.7262, Acc_G: 13/32 = 40.6250\n"
     ]
    },
    {
     "name": "stderr",
     "output_type": "stream",
     "text": [
      " 11%|█████████▋                                                                             | 21/189 [00:26<03:35,  1.29s/it]"
     ]
    },
    {
     "name": "stdout",
     "output_type": "stream",
     "text": [
      "[1/200][21/189] ========== Loss_D: 1.4714, Loss_G: 1.7237, Acc_G: 14/32 = 43.7500\n"
     ]
    },
    {
     "name": "stderr",
     "output_type": "stream",
     "text": [
      " 12%|██████████▏                                                                            | 22/189 [00:28<03:27,  1.24s/it]"
     ]
    },
    {
     "name": "stdout",
     "output_type": "stream",
     "text": [
      "[1/200][22/189] ========== Loss_D: 1.4531, Loss_G: 1.7760, Acc_G: 13/32 = 40.6250\n"
     ]
    },
    {
     "name": "stderr",
     "output_type": "stream",
     "text": [
      " 12%|██████████▌                                                                            | 23/189 [00:29<03:22,  1.22s/it]"
     ]
    },
    {
     "name": "stdout",
     "output_type": "stream",
     "text": [
      "[1/200][23/189] ========== Loss_D: 1.4703, Loss_G: 1.7687, Acc_G: 11/32 = 34.3750\n"
     ]
    },
    {
     "name": "stderr",
     "output_type": "stream",
     "text": [
      " 13%|███████████                                                                            | 24/189 [00:30<03:15,  1.18s/it]"
     ]
    },
    {
     "name": "stdout",
     "output_type": "stream",
     "text": [
      "[1/200][24/189] ========== Loss_D: 1.4471, Loss_G: 1.7953, Acc_G: 9/32 = 28.1250\n"
     ]
    },
    {
     "name": "stderr",
     "output_type": "stream",
     "text": [
      " 13%|███████████▌                                                                           | 25/189 [00:31<03:21,  1.23s/it]"
     ]
    },
    {
     "name": "stdout",
     "output_type": "stream",
     "text": [
      "[1/200][25/189] ========== Loss_D: 1.4627, Loss_G: 1.7655, Acc_G: 5/32 = 15.6250\n"
     ]
    },
    {
     "name": "stderr",
     "output_type": "stream",
     "text": [
      " 14%|███████████▉                                                                           | 26/189 [00:32<03:22,  1.24s/it]"
     ]
    },
    {
     "name": "stdout",
     "output_type": "stream",
     "text": [
      "[1/200][26/189] ========== Loss_D: 1.4560, Loss_G: 1.6857, Acc_G: 11/32 = 34.3750\n"
     ]
    },
    {
     "name": "stderr",
     "output_type": "stream",
     "text": [
      " 14%|████████████▍                                                                          | 27/189 [00:34<03:16,  1.21s/it]"
     ]
    },
    {
     "name": "stdout",
     "output_type": "stream",
     "text": [
      "[1/200][27/189] ========== Loss_D: 1.4528, Loss_G: 1.7333, Acc_G: 11/32 = 34.3750\n"
     ]
    },
    {
     "name": "stderr",
     "output_type": "stream",
     "text": [
      " 15%|████████████▉                                                                          | 28/189 [00:35<03:28,  1.30s/it]"
     ]
    },
    {
     "name": "stdout",
     "output_type": "stream",
     "text": [
      "[1/200][28/189] ========== Loss_D: 1.4647, Loss_G: 1.7423, Acc_G: 10/32 = 31.2500\n"
     ]
    },
    {
     "name": "stderr",
     "output_type": "stream",
     "text": [
      " 15%|█████████████▎                                                                         | 29/189 [00:37<03:35,  1.35s/it]"
     ]
    },
    {
     "name": "stdout",
     "output_type": "stream",
     "text": [
      "[1/200][29/189] ========== Loss_D: 1.4613, Loss_G: 1.7832, Acc_G: 6/32 = 18.7500\n"
     ]
    },
    {
     "name": "stderr",
     "output_type": "stream",
     "text": [
      " 16%|█████████████▊                                                                         | 30/189 [00:38<03:21,  1.27s/it]"
     ]
    },
    {
     "name": "stdout",
     "output_type": "stream",
     "text": [
      "[1/200][30/189] ========== Loss_D: 1.4416, Loss_G: 1.6338, Acc_G: 14/32 = 43.7500\n"
     ]
    },
    {
     "name": "stderr",
     "output_type": "stream",
     "text": [
      " 16%|██████████████▎                                                                        | 31/189 [00:39<03:27,  1.32s/it]"
     ]
    },
    {
     "name": "stdout",
     "output_type": "stream",
     "text": [
      "[1/200][31/189] ========== Loss_D: 1.4494, Loss_G: 1.7082, Acc_G: 8/32 = 25.0000\n"
     ]
    },
    {
     "name": "stderr",
     "output_type": "stream",
     "text": [
      " 17%|██████████████▋                                                                        | 32/189 [00:40<03:28,  1.32s/it]"
     ]
    },
    {
     "name": "stdout",
     "output_type": "stream",
     "text": [
      "[1/200][32/189] ========== Loss_D: 1.4614, Loss_G: 1.7062, Acc_G: 13/32 = 40.6250\n"
     ]
    },
    {
     "name": "stderr",
     "output_type": "stream",
     "text": [
      " 17%|███████████████▏                                                                       | 33/189 [00:41<03:13,  1.24s/it]"
     ]
    },
    {
     "name": "stdout",
     "output_type": "stream",
     "text": [
      "[1/200][33/189] ========== Loss_D: 1.4607, Loss_G: 1.7256, Acc_G: 9/32 = 28.1250\n"
     ]
    },
    {
     "name": "stderr",
     "output_type": "stream",
     "text": [
      " 18%|███████████████▋                                                                       | 34/189 [00:43<03:11,  1.23s/it]"
     ]
    },
    {
     "name": "stdout",
     "output_type": "stream",
     "text": [
      "[1/200][34/189] ========== Loss_D: 1.4671, Loss_G: 1.6589, Acc_G: 9/32 = 28.1250\n"
     ]
    },
    {
     "name": "stderr",
     "output_type": "stream",
     "text": [
      " 19%|████████████████                                                                       | 35/189 [00:44<02:58,  1.16s/it]"
     ]
    },
    {
     "name": "stdout",
     "output_type": "stream",
     "text": [
      "[1/200][35/189] ========== Loss_D: 1.4536, Loss_G: 1.7006, Acc_G: 9/32 = 28.1250\n"
     ]
    },
    {
     "name": "stderr",
     "output_type": "stream",
     "text": [
      " 19%|████████████████▌                                                                      | 36/189 [00:45<03:05,  1.21s/it]"
     ]
    },
    {
     "name": "stdout",
     "output_type": "stream",
     "text": [
      "[1/200][36/189] ========== Loss_D: 1.4726, Loss_G: 1.7609, Acc_G: 9/32 = 28.1250\n"
     ]
    },
    {
     "name": "stderr",
     "output_type": "stream",
     "text": [
      " 20%|█████████████████                                                                      | 37/189 [00:46<02:59,  1.18s/it]"
     ]
    },
    {
     "name": "stdout",
     "output_type": "stream",
     "text": [
      "[1/200][37/189] ========== Loss_D: 1.4579, Loss_G: 1.7917, Acc_G: 12/32 = 37.5000\n"
     ]
    },
    {
     "name": "stderr",
     "output_type": "stream",
     "text": [
      " 20%|█████████████████▍                                                                     | 38/189 [00:47<02:56,  1.17s/it]"
     ]
    },
    {
     "name": "stdout",
     "output_type": "stream",
     "text": [
      "[1/200][38/189] ========== Loss_D: 1.4466, Loss_G: 1.6967, Acc_G: 9/32 = 28.1250\n"
     ]
    },
    {
     "name": "stderr",
     "output_type": "stream",
     "text": [
      " 21%|█████████████████▉                                                                     | 39/189 [00:48<02:59,  1.19s/it]"
     ]
    },
    {
     "name": "stdout",
     "output_type": "stream",
     "text": [
      "[1/200][39/189] ========== Loss_D: 1.4717, Loss_G: 1.6004, Acc_G: 11/32 = 34.3750\n"
     ]
    },
    {
     "name": "stderr",
     "output_type": "stream",
     "text": [
      " 21%|██████████████████▍                                                                    | 40/189 [00:50<02:51,  1.15s/it]"
     ]
    },
    {
     "name": "stdout",
     "output_type": "stream",
     "text": [
      "[1/200][40/189] ========== Loss_D: 1.4529, Loss_G: 1.7724, Acc_G: 10/32 = 31.2500\n"
     ]
    },
    {
     "name": "stderr",
     "output_type": "stream",
     "text": [
      " 22%|██████████████████▊                                                                    | 41/189 [00:51<02:42,  1.10s/it]"
     ]
    },
    {
     "name": "stdout",
     "output_type": "stream",
     "text": [
      "[1/200][41/189] ========== Loss_D: 1.4491, Loss_G: 1.6901, Acc_G: 8/32 = 25.0000\n"
     ]
    },
    {
     "name": "stderr",
     "output_type": "stream",
     "text": [
      " 22%|███████████████████▎                                                                   | 42/189 [00:52<02:40,  1.09s/it]"
     ]
    },
    {
     "name": "stdout",
     "output_type": "stream",
     "text": [
      "[1/200][42/189] ========== Loss_D: 1.4625, Loss_G: 1.7698, Acc_G: 13/32 = 40.6250\n"
     ]
    },
    {
     "name": "stderr",
     "output_type": "stream",
     "text": [
      " 23%|███████████████████▊                                                                   | 43/189 [00:53<02:48,  1.15s/it]"
     ]
    },
    {
     "name": "stdout",
     "output_type": "stream",
     "text": [
      "[1/200][43/189] ========== Loss_D: 1.4649, Loss_G: 1.7045, Acc_G: 13/32 = 40.6250\n"
     ]
    },
    {
     "name": "stderr",
     "output_type": "stream",
     "text": [
      " 23%|████████████████████▎                                                                  | 44/189 [00:54<02:50,  1.18s/it]"
     ]
    },
    {
     "name": "stdout",
     "output_type": "stream",
     "text": [
      "[1/200][44/189] ========== Loss_D: 1.4550, Loss_G: 1.7064, Acc_G: 11/32 = 34.3750\n"
     ]
    },
    {
     "name": "stderr",
     "output_type": "stream",
     "text": [
      " 24%|████████████████████▋                                                                  | 45/189 [00:56<02:58,  1.24s/it]"
     ]
    },
    {
     "name": "stdout",
     "output_type": "stream",
     "text": [
      "[1/200][45/189] ========== Loss_D: 1.4518, Loss_G: 1.7492, Acc_G: 13/32 = 40.6250\n"
     ]
    },
    {
     "name": "stderr",
     "output_type": "stream",
     "text": [
      " 24%|█████████████████████▏                                                                 | 46/189 [00:57<02:59,  1.25s/it]"
     ]
    },
    {
     "name": "stdout",
     "output_type": "stream",
     "text": [
      "[1/200][46/189] ========== Loss_D: 1.4418, Loss_G: 1.7276, Acc_G: 9/32 = 28.1250\n"
     ]
    },
    {
     "name": "stderr",
     "output_type": "stream",
     "text": [
      " 25%|█████████████████████▋                                                                 | 47/189 [00:58<03:06,  1.31s/it]"
     ]
    },
    {
     "name": "stdout",
     "output_type": "stream",
     "text": [
      "[1/200][47/189] ========== Loss_D: 1.4522, Loss_G: 1.7835, Acc_G: 11/32 = 34.3750\n"
     ]
    },
    {
     "name": "stderr",
     "output_type": "stream",
     "text": [
      " 25%|██████████████████████                                                                 | 48/189 [00:59<02:51,  1.22s/it]"
     ]
    },
    {
     "name": "stdout",
     "output_type": "stream",
     "text": [
      "[1/200][48/189] ========== Loss_D: 1.4644, Loss_G: 1.5674, Acc_G: 10/32 = 31.2500\n",
      "---------------------< lowest loss update -> 3.03171706199646 >---------------------\n"
     ]
    },
    {
     "name": "stderr",
     "output_type": "stream",
     "text": [
      " 26%|██████████████████████▌                                                                | 49/189 [01:01<02:56,  1.26s/it]"
     ]
    },
    {
     "name": "stdout",
     "output_type": "stream",
     "text": [
      "[1/200][49/189] ========== Loss_D: 1.4620, Loss_G: 1.7445, Acc_G: 13/32 = 40.6250\n"
     ]
    },
    {
     "name": "stderr",
     "output_type": "stream",
     "text": [
      " 26%|███████████████████████                                                                | 50/189 [01:02<02:56,  1.27s/it]"
     ]
    },
    {
     "name": "stdout",
     "output_type": "stream",
     "text": [
      "[1/200][50/189] ========== Loss_D: 1.4710, Loss_G: 1.7452, Acc_G: 13/32 = 40.6250\n"
     ]
    },
    {
     "name": "stderr",
     "output_type": "stream",
     "text": [
      " 27%|███████████████████████▍                                                               | 51/189 [01:03<02:51,  1.25s/it]"
     ]
    },
    {
     "name": "stdout",
     "output_type": "stream",
     "text": [
      "[1/200][51/189] ========== Loss_D: 1.4543, Loss_G: 1.8299, Acc_G: 13/32 = 40.6250\n"
     ]
    },
    {
     "name": "stderr",
     "output_type": "stream",
     "text": [
      " 28%|███████████████████████▉                                                               | 52/189 [01:04<02:47,  1.22s/it]"
     ]
    },
    {
     "name": "stdout",
     "output_type": "stream",
     "text": [
      "[1/200][52/189] ========== Loss_D: 1.4572, Loss_G: 1.6299, Acc_G: 12/32 = 37.5000\n"
     ]
    },
    {
     "name": "stderr",
     "output_type": "stream",
     "text": [
      " 28%|████████████████████████▍                                                              | 53/189 [01:05<02:38,  1.17s/it]"
     ]
    },
    {
     "name": "stdout",
     "output_type": "stream",
     "text": [
      "[1/200][53/189] ========== Loss_D: 1.4578, Loss_G: 1.7840, Acc_G: 16/32 = 50.0000\n"
     ]
    },
    {
     "name": "stderr",
     "output_type": "stream",
     "text": [
      " 29%|████████████████████████▊                                                              | 54/189 [01:06<02:38,  1.18s/it]"
     ]
    },
    {
     "name": "stdout",
     "output_type": "stream",
     "text": [
      "[1/200][54/189] ========== Loss_D: 1.4512, Loss_G: 1.6951, Acc_G: 11/32 = 34.3750\n"
     ]
    },
    {
     "name": "stderr",
     "output_type": "stream",
     "text": [
      " 29%|█████████████████████████▎                                                             | 55/189 [01:08<02:44,  1.23s/it]"
     ]
    },
    {
     "name": "stdout",
     "output_type": "stream",
     "text": [
      "[1/200][55/189] ========== Loss_D: 1.4567, Loss_G: 1.7606, Acc_G: 13/32 = 40.6250\n"
     ]
    },
    {
     "name": "stderr",
     "output_type": "stream",
     "text": [
      " 30%|█████████████████████████▊                                                             | 56/189 [01:09<02:56,  1.33s/it]"
     ]
    },
    {
     "name": "stdout",
     "output_type": "stream",
     "text": [
      "[1/200][56/189] ========== Loss_D: 1.4620, Loss_G: 1.8792, Acc_G: 10/32 = 31.2500\n"
     ]
    },
    {
     "name": "stderr",
     "output_type": "stream",
     "text": [
      " 30%|██████████████████████████▏                                                            | 57/189 [01:11<02:47,  1.27s/it]"
     ]
    },
    {
     "name": "stdout",
     "output_type": "stream",
     "text": [
      "[1/200][57/189] ========== Loss_D: 1.4666, Loss_G: 1.7331, Acc_G: 10/32 = 31.2500\n"
     ]
    },
    {
     "name": "stderr",
     "output_type": "stream",
     "text": [
      " 31%|██████████████████████████▋                                                            | 58/189 [01:12<03:06,  1.42s/it]"
     ]
    },
    {
     "name": "stdout",
     "output_type": "stream",
     "text": [
      "[1/200][58/189] ========== Loss_D: 1.4479, Loss_G: 1.8851, Acc_G: 13/32 = 40.6250\n"
     ]
    },
    {
     "name": "stderr",
     "output_type": "stream",
     "text": [
      " 31%|███████████████████████████▏                                                           | 59/189 [01:13<02:48,  1.30s/it]"
     ]
    },
    {
     "name": "stdout",
     "output_type": "stream",
     "text": [
      "[1/200][59/189] ========== Loss_D: 1.4550, Loss_G: 1.6011, Acc_G: 8/32 = 25.0000\n"
     ]
    },
    {
     "name": "stderr",
     "output_type": "stream",
     "text": [
      " 32%|███████████████████████████▌                                                           | 60/189 [01:14<02:36,  1.22s/it]"
     ]
    },
    {
     "name": "stdout",
     "output_type": "stream",
     "text": [
      "[1/200][60/189] ========== Loss_D: 1.4437, Loss_G: 1.7106, Acc_G: 12/32 = 37.5000\n"
     ]
    },
    {
     "name": "stderr",
     "output_type": "stream",
     "text": [
      " 32%|████████████████████████████                                                           | 61/189 [01:15<02:28,  1.16s/it]"
     ]
    },
    {
     "name": "stdout",
     "output_type": "stream",
     "text": [
      "[1/200][61/189] ========== Loss_D: 1.4559, Loss_G: 1.7232, Acc_G: 10/32 = 31.2500\n"
     ]
    },
    {
     "name": "stderr",
     "output_type": "stream",
     "text": [
      " 33%|████████████████████████████▌                                                          | 62/189 [01:17<02:35,  1.23s/it]"
     ]
    },
    {
     "name": "stdout",
     "output_type": "stream",
     "text": [
      "[1/200][62/189] ========== Loss_D: 1.4751, Loss_G: 1.6774, Acc_G: 13/32 = 40.6250\n"
     ]
    },
    {
     "name": "stderr",
     "output_type": "stream",
     "text": [
      " 33%|█████████████████████████████                                                          | 63/189 [01:18<02:33,  1.22s/it]"
     ]
    },
    {
     "name": "stdout",
     "output_type": "stream",
     "text": [
      "[1/200][63/189] ========== Loss_D: 1.4443, Loss_G: 1.6365, Acc_G: 13/32 = 40.6250\n"
     ]
    },
    {
     "name": "stderr",
     "output_type": "stream",
     "text": [
      " 34%|█████████████████████████████▍                                                         | 64/189 [01:19<02:28,  1.18s/it]"
     ]
    },
    {
     "name": "stdout",
     "output_type": "stream",
     "text": [
      "[1/200][64/189] ========== Loss_D: 1.4534, Loss_G: 1.7267, Acc_G: 16/32 = 50.0000\n"
     ]
    },
    {
     "name": "stderr",
     "output_type": "stream",
     "text": [
      " 34%|█████████████████████████████▉                                                         | 65/189 [01:20<02:19,  1.13s/it]"
     ]
    },
    {
     "name": "stdout",
     "output_type": "stream",
     "text": [
      "[1/200][65/189] ========== Loss_D: 1.4465, Loss_G: 1.7917, Acc_G: 19/32 = 59.3750\n"
     ]
    },
    {
     "name": "stderr",
     "output_type": "stream",
     "text": [
      " 35%|██████████████████████████████▍                                                        | 66/189 [01:21<02:22,  1.16s/it]"
     ]
    },
    {
     "name": "stdout",
     "output_type": "stream",
     "text": [
      "[1/200][66/189] ========== Loss_D: 1.4438, Loss_G: 1.7081, Acc_G: 13/32 = 40.6250\n"
     ]
    },
    {
     "name": "stderr",
     "output_type": "stream",
     "text": [
      " 35%|██████████████████████████████▊                                                        | 67/189 [01:22<02:18,  1.14s/it]"
     ]
    },
    {
     "name": "stdout",
     "output_type": "stream",
     "text": [
      "[1/200][67/189] ========== Loss_D: 1.4413, Loss_G: 1.6987, Acc_G: 16/32 = 50.0000\n"
     ]
    },
    {
     "name": "stderr",
     "output_type": "stream",
     "text": [
      " 36%|███████████████████████████████▎                                                       | 68/189 [01:24<02:18,  1.14s/it]"
     ]
    },
    {
     "name": "stdout",
     "output_type": "stream",
     "text": [
      "[1/200][68/189] ========== Loss_D: 1.4643, Loss_G: 1.7613, Acc_G: 14/32 = 43.7500\n"
     ]
    },
    {
     "name": "stderr",
     "output_type": "stream",
     "text": [
      " 37%|███████████████████████████████▊                                                       | 69/189 [01:25<02:15,  1.13s/it]"
     ]
    },
    {
     "name": "stdout",
     "output_type": "stream",
     "text": [
      "[1/200][69/189] ========== Loss_D: 1.4328, Loss_G: 1.6052, Acc_G: 11/32 = 34.3750\n"
     ]
    },
    {
     "name": "stderr",
     "output_type": "stream",
     "text": [
      " 37%|████████████████████████████████▏                                                      | 70/189 [01:26<02:17,  1.16s/it]"
     ]
    },
    {
     "name": "stdout",
     "output_type": "stream",
     "text": [
      "[1/200][70/189] ========== Loss_D: 1.4404, Loss_G: 1.6524, Acc_G: 10/32 = 31.2500\n"
     ]
    },
    {
     "name": "stderr",
     "output_type": "stream",
     "text": [
      " 38%|████████████████████████████████▋                                                      | 71/189 [01:27<02:32,  1.30s/it]"
     ]
    },
    {
     "name": "stdout",
     "output_type": "stream",
     "text": [
      "[1/200][71/189] ========== Loss_D: 1.4740, Loss_G: 1.5765, Acc_G: 10/32 = 31.2500\n"
     ]
    },
    {
     "name": "stderr",
     "output_type": "stream",
     "text": [
      " 38%|█████████████████████████████████▏                                                     | 72/189 [01:28<02:18,  1.18s/it]"
     ]
    },
    {
     "name": "stdout",
     "output_type": "stream",
     "text": [
      "[1/200][72/189] ========== Loss_D: 1.4563, Loss_G: 1.7986, Acc_G: 11/32 = 34.3750\n"
     ]
    },
    {
     "name": "stderr",
     "output_type": "stream",
     "text": [
      " 39%|█████████████████████████████████▌                                                     | 73/189 [01:30<02:21,  1.22s/it]"
     ]
    },
    {
     "name": "stdout",
     "output_type": "stream",
     "text": [
      "[1/200][73/189] ========== Loss_D: 1.4455, Loss_G: 1.6691, Acc_G: 12/32 = 37.5000\n"
     ]
    },
    {
     "name": "stderr",
     "output_type": "stream",
     "text": [
      " 39%|██████████████████████████████████                                                     | 74/189 [01:31<02:18,  1.21s/it]"
     ]
    },
    {
     "name": "stdout",
     "output_type": "stream",
     "text": [
      "[1/200][74/189] ========== Loss_D: 1.4518, Loss_G: 1.7442, Acc_G: 13/32 = 40.6250\n"
     ]
    },
    {
     "name": "stderr",
     "output_type": "stream",
     "text": [
      " 40%|██████████████████████████████████▌                                                    | 75/189 [01:32<02:20,  1.23s/it]"
     ]
    },
    {
     "name": "stdout",
     "output_type": "stream",
     "text": [
      "[1/200][75/189] ========== Loss_D: 1.4413, Loss_G: 1.6801, Acc_G: 11/32 = 34.3750\n"
     ]
    },
    {
     "name": "stderr",
     "output_type": "stream",
     "text": [
      " 40%|██████████████████████████████████▉                                                    | 76/189 [01:34<02:27,  1.31s/it]"
     ]
    },
    {
     "name": "stdout",
     "output_type": "stream",
     "text": [
      "[1/200][76/189] ========== Loss_D: 1.4644, Loss_G: 1.6682, Acc_G: 14/32 = 43.7500\n"
     ]
    },
    {
     "name": "stderr",
     "output_type": "stream",
     "text": [
      " 41%|███████████████████████████████████▍                                                   | 77/189 [01:35<02:28,  1.33s/it]"
     ]
    },
    {
     "name": "stdout",
     "output_type": "stream",
     "text": [
      "[1/200][77/189] ========== Loss_D: 1.4650, Loss_G: 1.7138, Acc_G: 12/32 = 37.5000\n"
     ]
    },
    {
     "name": "stderr",
     "output_type": "stream",
     "text": [
      " 41%|███████████████████████████████████▉                                                   | 78/189 [01:36<02:20,  1.26s/it]"
     ]
    },
    {
     "name": "stdout",
     "output_type": "stream",
     "text": [
      "[1/200][78/189] ========== Loss_D: 1.4412, Loss_G: 1.6918, Acc_G: 7/32 = 21.8750\n"
     ]
    },
    {
     "name": "stderr",
     "output_type": "stream",
     "text": [
      " 42%|████████████████████████████████████▎                                                  | 79/189 [01:38<02:23,  1.30s/it]"
     ]
    },
    {
     "name": "stdout",
     "output_type": "stream",
     "text": [
      "[1/200][79/189] ========== Loss_D: 1.4545, Loss_G: 1.7472, Acc_G: 13/32 = 40.6250\n"
     ]
    },
    {
     "name": "stderr",
     "output_type": "stream",
     "text": [
      " 42%|████████████████████████████████████▊                                                  | 80/189 [01:39<02:12,  1.21s/it]"
     ]
    },
    {
     "name": "stdout",
     "output_type": "stream",
     "text": [
      "[1/200][80/189] ========== Loss_D: 1.4580, Loss_G: 1.6767, Acc_G: 10/32 = 31.2500\n"
     ]
    },
    {
     "name": "stderr",
     "output_type": "stream",
     "text": [
      " 43%|█████████████████████████████████████▎                                                 | 81/189 [01:40<02:04,  1.15s/it]"
     ]
    },
    {
     "name": "stdout",
     "output_type": "stream",
     "text": [
      "[1/200][81/189] ========== Loss_D: 1.4435, Loss_G: 1.8291, Acc_G: 14/32 = 43.7500\n"
     ]
    },
    {
     "name": "stderr",
     "output_type": "stream",
     "text": [
      " 43%|█████████████████████████████████████▋                                                 | 82/189 [01:41<02:03,  1.15s/it]"
     ]
    },
    {
     "name": "stdout",
     "output_type": "stream",
     "text": [
      "[1/200][82/189] ========== Loss_D: 1.4468, Loss_G: 1.5977, Acc_G: 16/32 = 50.0000\n"
     ]
    },
    {
     "name": "stderr",
     "output_type": "stream",
     "text": [
      " 44%|██████████████████████████████████████▏                                                | 83/189 [01:42<02:01,  1.15s/it]"
     ]
    },
    {
     "name": "stdout",
     "output_type": "stream",
     "text": [
      "[1/200][83/189] ========== Loss_D: 1.4501, Loss_G: 1.7151, Acc_G: 10/32 = 31.2500\n"
     ]
    },
    {
     "name": "stderr",
     "output_type": "stream",
     "text": [
      " 44%|██████████████████████████████████████▋                                                | 84/189 [01:43<02:08,  1.23s/it]"
     ]
    },
    {
     "name": "stdout",
     "output_type": "stream",
     "text": [
      "[1/200][84/189] ========== Loss_D: 1.4515, Loss_G: 1.7717, Acc_G: 10/32 = 31.2500\n"
     ]
    },
    {
     "name": "stderr",
     "output_type": "stream",
     "text": [
      " 45%|███████████████████████████████████████▏                                               | 85/189 [01:44<02:05,  1.20s/it]"
     ]
    },
    {
     "name": "stdout",
     "output_type": "stream",
     "text": [
      "[1/200][85/189] ========== Loss_D: 1.4485, Loss_G: 1.6576, Acc_G: 14/32 = 43.7500\n"
     ]
    },
    {
     "name": "stderr",
     "output_type": "stream",
     "text": [
      " 46%|███████████████████████████████████████▌                                               | 86/189 [01:46<02:00,  1.17s/it]"
     ]
    },
    {
     "name": "stdout",
     "output_type": "stream",
     "text": [
      "[1/200][86/189] ========== Loss_D: 1.4464, Loss_G: 1.7395, Acc_G: 16/32 = 50.0000\n"
     ]
    },
    {
     "name": "stderr",
     "output_type": "stream",
     "text": [
      " 46%|████████████████████████████████████████                                               | 87/189 [01:47<02:19,  1.37s/it]"
     ]
    },
    {
     "name": "stdout",
     "output_type": "stream",
     "text": [
      "[1/200][87/189] ========== Loss_D: 1.4336, Loss_G: 1.6587, Acc_G: 8/32 = 25.0000\n"
     ]
    },
    {
     "name": "stderr",
     "output_type": "stream",
     "text": [
      " 47%|████████████████████████████████████████▌                                              | 88/189 [01:48<02:09,  1.28s/it]"
     ]
    },
    {
     "name": "stdout",
     "output_type": "stream",
     "text": [
      "[1/200][88/189] ========== Loss_D: 1.4639, Loss_G: 1.6766, Acc_G: 11/32 = 34.3750\n"
     ]
    },
    {
     "name": "stderr",
     "output_type": "stream",
     "text": [
      " 47%|████████████████████████████████████████▉                                              | 89/189 [01:50<02:04,  1.25s/it]"
     ]
    },
    {
     "name": "stdout",
     "output_type": "stream",
     "text": [
      "[1/200][89/189] ========== Loss_D: 1.4684, Loss_G: 1.6580, Acc_G: 12/32 = 37.5000\n"
     ]
    },
    {
     "name": "stderr",
     "output_type": "stream",
     "text": [
      " 48%|█████████████████████████████████████████▍                                             | 90/189 [01:51<01:59,  1.21s/it]"
     ]
    },
    {
     "name": "stdout",
     "output_type": "stream",
     "text": [
      "[1/200][90/189] ========== Loss_D: 1.4524, Loss_G: 1.6641, Acc_G: 16/32 = 50.0000\n"
     ]
    },
    {
     "name": "stderr",
     "output_type": "stream",
     "text": [
      " 48%|█████████████████████████████████████████▉                                             | 91/189 [01:52<02:00,  1.23s/it]"
     ]
    },
    {
     "name": "stdout",
     "output_type": "stream",
     "text": [
      "[1/200][91/189] ========== Loss_D: 1.4560, Loss_G: 1.6295, Acc_G: 9/32 = 28.1250\n"
     ]
    },
    {
     "name": "stderr",
     "output_type": "stream",
     "text": [
      " 49%|██████████████████████████████████████████▎                                            | 92/189 [01:53<02:07,  1.31s/it]"
     ]
    },
    {
     "name": "stdout",
     "output_type": "stream",
     "text": [
      "[1/200][92/189] ========== Loss_D: 1.4461, Loss_G: 1.7131, Acc_G: 10/32 = 31.2500\n"
     ]
    },
    {
     "name": "stderr",
     "output_type": "stream",
     "text": [
      " 49%|██████████████████████████████████████████▊                                            | 93/189 [01:55<02:04,  1.29s/it]"
     ]
    },
    {
     "name": "stdout",
     "output_type": "stream",
     "text": [
      "[1/200][93/189] ========== Loss_D: 1.4597, Loss_G: 1.7073, Acc_G: 12/32 = 37.5000\n"
     ]
    },
    {
     "name": "stderr",
     "output_type": "stream",
     "text": [
      " 50%|███████████████████████████████████████████▎                                           | 94/189 [01:56<01:56,  1.23s/it]"
     ]
    },
    {
     "name": "stdout",
     "output_type": "stream",
     "text": [
      "[1/200][94/189] ========== Loss_D: 1.4401, Loss_G: 1.7829, Acc_G: 9/32 = 28.1250\n"
     ]
    },
    {
     "name": "stderr",
     "output_type": "stream",
     "text": [
      " 50%|███████████████████████████████████████████▋                                           | 95/189 [01:57<02:02,  1.30s/it]"
     ]
    },
    {
     "name": "stdout",
     "output_type": "stream",
     "text": [
      "[1/200][95/189] ========== Loss_D: 1.4490, Loss_G: 1.7539, Acc_G: 9/32 = 28.1250\n"
     ]
    },
    {
     "name": "stderr",
     "output_type": "stream",
     "text": [
      " 51%|████████████████████████████████████████████▏                                          | 96/189 [01:59<02:01,  1.30s/it]"
     ]
    },
    {
     "name": "stdout",
     "output_type": "stream",
     "text": [
      "[1/200][96/189] ========== Loss_D: 1.4510, Loss_G: 1.6092, Acc_G: 16/32 = 50.0000\n"
     ]
    },
    {
     "name": "stderr",
     "output_type": "stream",
     "text": [
      " 51%|████████████████████████████████████████████▋                                          | 97/189 [02:00<01:52,  1.23s/it]"
     ]
    },
    {
     "name": "stdout",
     "output_type": "stream",
     "text": [
      "[1/200][97/189] ========== Loss_D: 1.4536, Loss_G: 1.7641, Acc_G: 17/32 = 53.1250\n"
     ]
    },
    {
     "name": "stderr",
     "output_type": "stream",
     "text": [
      " 52%|█████████████████████████████████████████████                                          | 98/189 [02:01<02:03,  1.36s/it]"
     ]
    },
    {
     "name": "stdout",
     "output_type": "stream",
     "text": [
      "[1/200][98/189] ========== Loss_D: 1.4551, Loss_G: 1.6743, Acc_G: 13/32 = 40.6250\n"
     ]
    },
    {
     "name": "stderr",
     "output_type": "stream",
     "text": [
      " 52%|█████████████████████████████████████████████▌                                         | 99/189 [02:03<02:00,  1.33s/it]"
     ]
    },
    {
     "name": "stdout",
     "output_type": "stream",
     "text": [
      "[1/200][99/189] ========== Loss_D: 1.4444, Loss_G: 1.8090, Acc_G: 14/32 = 43.7500\n"
     ]
    },
    {
     "name": "stderr",
     "output_type": "stream",
     "text": [
      " 53%|█████████████████████████████████████████████▌                                        | 100/189 [02:04<01:53,  1.28s/it]"
     ]
    },
    {
     "name": "stdout",
     "output_type": "stream",
     "text": [
      "[1/200][100/189] ========== Loss_D: 1.4615, Loss_G: 1.7833, Acc_G: 10/32 = 31.2500\n"
     ]
    },
    {
     "name": "stderr",
     "output_type": "stream",
     "text": [
      " 53%|█████████████████████████████████████████████▉                                        | 101/189 [02:05<01:57,  1.34s/it]"
     ]
    },
    {
     "name": "stdout",
     "output_type": "stream",
     "text": [
      "[1/200][101/189] ========== Loss_D: 1.4446, Loss_G: 1.7698, Acc_G: 16/32 = 50.0000\n"
     ]
    },
    {
     "name": "stderr",
     "output_type": "stream",
     "text": [
      " 54%|██████████████████████████████████████████████▍                                       | 102/189 [02:07<01:56,  1.34s/it]"
     ]
    },
    {
     "name": "stdout",
     "output_type": "stream",
     "text": [
      "[1/200][102/189] ========== Loss_D: 1.4662, Loss_G: 1.6912, Acc_G: 11/32 = 34.3750\n"
     ]
    },
    {
     "name": "stderr",
     "output_type": "stream",
     "text": [
      " 54%|██████████████████████████████████████████████▊                                       | 103/189 [02:08<01:55,  1.35s/it]"
     ]
    },
    {
     "name": "stdout",
     "output_type": "stream",
     "text": [
      "[1/200][103/189] ========== Loss_D: 1.4370, Loss_G: 1.6534, Acc_G: 10/32 = 31.2500\n"
     ]
    },
    {
     "name": "stderr",
     "output_type": "stream",
     "text": [
      " 55%|███████████████████████████████████████████████▎                                      | 104/189 [02:09<01:50,  1.30s/it]"
     ]
    },
    {
     "name": "stdout",
     "output_type": "stream",
     "text": [
      "[1/200][104/189] ========== Loss_D: 1.4491, Loss_G: 1.6658, Acc_G: 9/32 = 28.1250\n"
     ]
    },
    {
     "name": "stderr",
     "output_type": "stream",
     "text": [
      " 56%|███████████████████████████████████████████████▊                                      | 105/189 [02:10<01:50,  1.31s/it]"
     ]
    },
    {
     "name": "stdout",
     "output_type": "stream",
     "text": [
      "[1/200][105/189] ========== Loss_D: 1.4662, Loss_G: 1.6801, Acc_G: 14/32 = 43.7500\n"
     ]
    },
    {
     "name": "stderr",
     "output_type": "stream",
     "text": [
      " 56%|████████████████████████████████████████████████▏                                     | 106/189 [02:11<01:38,  1.19s/it]"
     ]
    },
    {
     "name": "stdout",
     "output_type": "stream",
     "text": [
      "[1/200][106/189] ========== Loss_D: 1.4507, Loss_G: 1.6319, Acc_G: 13/32 = 40.6250\n"
     ]
    },
    {
     "name": "stderr",
     "output_type": "stream",
     "text": [
      " 57%|████████████████████████████████████████████████▋                                     | 107/189 [02:12<01:35,  1.16s/it]"
     ]
    },
    {
     "name": "stdout",
     "output_type": "stream",
     "text": [
      "[1/200][107/189] ========== Loss_D: 1.4463, Loss_G: 1.7011, Acc_G: 14/32 = 43.7500\n"
     ]
    },
    {
     "name": "stderr",
     "output_type": "stream",
     "text": [
      " 57%|█████████████████████████████████████████████████▏                                    | 108/189 [02:14<01:32,  1.15s/it]"
     ]
    },
    {
     "name": "stdout",
     "output_type": "stream",
     "text": [
      "[1/200][108/189] ========== Loss_D: 1.4411, Loss_G: 1.6836, Acc_G: 16/32 = 50.0000\n"
     ]
    },
    {
     "name": "stderr",
     "output_type": "stream",
     "text": [
      " 58%|█████████████████████████████████████████████████▌                                    | 109/189 [02:15<01:32,  1.15s/it]"
     ]
    },
    {
     "name": "stdout",
     "output_type": "stream",
     "text": [
      "[1/200][109/189] ========== Loss_D: 1.4558, Loss_G: 1.6424, Acc_G: 12/32 = 37.5000\n"
     ]
    },
    {
     "name": "stderr",
     "output_type": "stream",
     "text": [
      " 58%|██████████████████████████████████████████████████                                    | 110/189 [02:16<01:39,  1.25s/it]"
     ]
    },
    {
     "name": "stdout",
     "output_type": "stream",
     "text": [
      "[1/200][110/189] ========== Loss_D: 1.4570, Loss_G: 1.7120, Acc_G: 12/32 = 37.5000\n"
     ]
    },
    {
     "name": "stderr",
     "output_type": "stream",
     "text": [
      " 59%|██████████████████████████████████████████████████▌                                   | 111/189 [02:18<01:41,  1.30s/it]"
     ]
    },
    {
     "name": "stdout",
     "output_type": "stream",
     "text": [
      "[1/200][111/189] ========== Loss_D: 1.4324, Loss_G: 1.6993, Acc_G: 14/32 = 43.7500\n"
     ]
    },
    {
     "name": "stderr",
     "output_type": "stream",
     "text": [
      " 59%|██████████████████████████████████████████████████▉                                   | 112/189 [02:19<01:36,  1.26s/it]"
     ]
    },
    {
     "name": "stdout",
     "output_type": "stream",
     "text": [
      "[1/200][112/189] ========== Loss_D: 1.4584, Loss_G: 1.7674, Acc_G: 11/32 = 34.3750\n"
     ]
    },
    {
     "name": "stderr",
     "output_type": "stream",
     "text": [
      " 60%|███████████████████████████████████████████████████▍                                  | 113/189 [02:20<01:39,  1.31s/it]"
     ]
    },
    {
     "name": "stdout",
     "output_type": "stream",
     "text": [
      "[1/200][113/189] ========== Loss_D: 1.4469, Loss_G: 1.6365, Acc_G: 15/32 = 46.8750\n"
     ]
    },
    {
     "name": "stderr",
     "output_type": "stream",
     "text": [
      " 60%|███████████████████████████████████████████████████▊                                  | 114/189 [02:22<01:46,  1.41s/it]"
     ]
    },
    {
     "name": "stdout",
     "output_type": "stream",
     "text": [
      "[1/200][114/189] ========== Loss_D: 1.4674, Loss_G: 1.7316, Acc_G: 12/32 = 37.5000\n"
     ]
    },
    {
     "name": "stderr",
     "output_type": "stream",
     "text": [
      " 61%|████████████████████████████████████████████████████▎                                 | 115/189 [02:23<01:43,  1.40s/it]"
     ]
    },
    {
     "name": "stdout",
     "output_type": "stream",
     "text": [
      "[1/200][115/189] ========== Loss_D: 1.4356, Loss_G: 1.6635, Acc_G: 15/32 = 46.8750\n"
     ]
    },
    {
     "name": "stderr",
     "output_type": "stream",
     "text": [
      " 61%|████████████████████████████████████████████████████▊                                 | 116/189 [02:24<01:34,  1.30s/it]"
     ]
    },
    {
     "name": "stdout",
     "output_type": "stream",
     "text": [
      "[1/200][116/189] ========== Loss_D: 1.4511, Loss_G: 1.7554, Acc_G: 10/32 = 31.2500\n"
     ]
    },
    {
     "name": "stderr",
     "output_type": "stream",
     "text": [
      " 62%|█████████████████████████████████████████████████████▏                                | 117/189 [02:25<01:28,  1.23s/it]"
     ]
    },
    {
     "name": "stdout",
     "output_type": "stream",
     "text": [
      "[1/200][117/189] ========== Loss_D: 1.4582, Loss_G: 1.7468, Acc_G: 12/32 = 37.5000\n"
     ]
    },
    {
     "name": "stderr",
     "output_type": "stream",
     "text": [
      " 62%|█████████████████████████████████████████████████████▋                                | 118/189 [02:27<01:31,  1.29s/it]"
     ]
    },
    {
     "name": "stdout",
     "output_type": "stream",
     "text": [
      "[1/200][118/189] ========== Loss_D: 1.4368, Loss_G: 1.8391, Acc_G: 16/32 = 50.0000\n"
     ]
    },
    {
     "name": "stderr",
     "output_type": "stream",
     "text": [
      " 63%|██████████████████████████████████████████████████████▏                               | 119/189 [02:28<01:33,  1.34s/it]"
     ]
    },
    {
     "name": "stdout",
     "output_type": "stream",
     "text": [
      "[1/200][119/189] ========== Loss_D: 1.4388, Loss_G: 1.8562, Acc_G: 13/32 = 40.6250\n"
     ]
    },
    {
     "name": "stderr",
     "output_type": "stream",
     "text": [
      " 63%|██████████████████████████████████████████████████████▌                               | 120/189 [02:29<01:27,  1.27s/it]"
     ]
    },
    {
     "name": "stdout",
     "output_type": "stream",
     "text": [
      "[1/200][120/189] ========== Loss_D: 1.4680, Loss_G: 1.6636, Acc_G: 15/32 = 46.8750\n"
     ]
    },
    {
     "name": "stderr",
     "output_type": "stream",
     "text": [
      " 64%|███████████████████████████████████████████████████████                               | 121/189 [02:31<01:29,  1.32s/it]"
     ]
    },
    {
     "name": "stdout",
     "output_type": "stream",
     "text": [
      "[1/200][121/189] ========== Loss_D: 1.4618, Loss_G: 1.6979, Acc_G: 11/32 = 34.3750\n"
     ]
    },
    {
     "name": "stderr",
     "output_type": "stream",
     "text": [
      " 65%|███████████████████████████████████████████████████████▌                              | 122/189 [02:32<01:25,  1.27s/it]"
     ]
    },
    {
     "name": "stdout",
     "output_type": "stream",
     "text": [
      "[1/200][122/189] ========== Loss_D: 1.4453, Loss_G: 1.7685, Acc_G: 10/32 = 31.2500\n"
     ]
    },
    {
     "name": "stderr",
     "output_type": "stream",
     "text": [
      " 65%|███████████████████████████████████████████████████████▉                              | 123/189 [02:33<01:18,  1.19s/it]"
     ]
    },
    {
     "name": "stdout",
     "output_type": "stream",
     "text": [
      "[1/200][123/189] ========== Loss_D: 1.4520, Loss_G: 1.8229, Acc_G: 13/32 = 40.6250\n"
     ]
    },
    {
     "name": "stderr",
     "output_type": "stream",
     "text": [
      " 66%|████████████████████████████████████████████████████████▍                             | 124/189 [02:34<01:17,  1.19s/it]"
     ]
    },
    {
     "name": "stdout",
     "output_type": "stream",
     "text": [
      "[1/200][124/189] ========== Loss_D: 1.4573, Loss_G: 1.6702, Acc_G: 16/32 = 50.0000\n"
     ]
    },
    {
     "name": "stderr",
     "output_type": "stream",
     "text": [
      " 66%|████████████████████████████████████████████████████████▉                             | 125/189 [02:35<01:13,  1.15s/it]"
     ]
    },
    {
     "name": "stdout",
     "output_type": "stream",
     "text": [
      "[1/200][125/189] ========== Loss_D: 1.4649, Loss_G: 1.7824, Acc_G: 17/32 = 53.1250\n"
     ]
    },
    {
     "name": "stderr",
     "output_type": "stream",
     "text": [
      " 67%|█████████████████████████████████████████████████████████▎                            | 126/189 [02:37<01:17,  1.23s/it]"
     ]
    },
    {
     "name": "stdout",
     "output_type": "stream",
     "text": [
      "[1/200][126/189] ========== Loss_D: 1.4527, Loss_G: 1.6056, Acc_G: 12/32 = 37.5000\n"
     ]
    },
    {
     "name": "stderr",
     "output_type": "stream",
     "text": [
      " 67%|█████████████████████████████████████████████████████████▊                            | 127/189 [02:38<01:21,  1.31s/it]"
     ]
    },
    {
     "name": "stdout",
     "output_type": "stream",
     "text": [
      "[1/200][127/189] ========== Loss_D: 1.4551, Loss_G: 1.7146, Acc_G: 11/32 = 34.3750\n"
     ]
    },
    {
     "name": "stderr",
     "output_type": "stream",
     "text": [
      " 68%|██████████████████████████████████████████████████████████▏                           | 128/189 [02:40<01:23,  1.37s/it]"
     ]
    },
    {
     "name": "stdout",
     "output_type": "stream",
     "text": [
      "[1/200][128/189] ========== Loss_D: 1.4630, Loss_G: 1.7131, Acc_G: 12/32 = 37.5000\n"
     ]
    },
    {
     "name": "stderr",
     "output_type": "stream",
     "text": [
      " 68%|██████████████████████████████████████████████████████████▋                           | 129/189 [02:41<01:19,  1.33s/it]"
     ]
    },
    {
     "name": "stdout",
     "output_type": "stream",
     "text": [
      "[1/200][129/189] ========== Loss_D: 1.4489, Loss_G: 1.8184, Acc_G: 14/32 = 43.7500\n"
     ]
    },
    {
     "name": "stderr",
     "output_type": "stream",
     "text": [
      " 69%|███████████████████████████████████████████████████████████▏                          | 130/189 [02:42<01:21,  1.38s/it]"
     ]
    },
    {
     "name": "stdout",
     "output_type": "stream",
     "text": [
      "[1/200][130/189] ========== Loss_D: 1.4563, Loss_G: 1.7860, Acc_G: 13/32 = 40.6250\n"
     ]
    },
    {
     "name": "stderr",
     "output_type": "stream",
     "text": [
      " 69%|███████████████████████████████████████████████████████████▌                          | 131/189 [02:44<01:18,  1.35s/it]"
     ]
    },
    {
     "name": "stdout",
     "output_type": "stream",
     "text": [
      "[1/200][131/189] ========== Loss_D: 1.4460, Loss_G: 1.6661, Acc_G: 18/32 = 56.2500\n"
     ]
    },
    {
     "name": "stderr",
     "output_type": "stream",
     "text": [
      " 70%|████████████████████████████████████████████████████████████                          | 132/189 [02:45<01:15,  1.33s/it]"
     ]
    },
    {
     "name": "stdout",
     "output_type": "stream",
     "text": [
      "[1/200][132/189] ========== Loss_D: 1.4463, Loss_G: 1.7253, Acc_G: 16/32 = 50.0000\n"
     ]
    },
    {
     "name": "stderr",
     "output_type": "stream",
     "text": [
      " 70%|████████████████████████████████████████████████████████████▌                         | 133/189 [02:46<01:11,  1.28s/it]"
     ]
    },
    {
     "name": "stdout",
     "output_type": "stream",
     "text": [
      "[1/200][133/189] ========== Loss_D: 1.4688, Loss_G: 1.8159, Acc_G: 11/32 = 34.3750\n"
     ]
    },
    {
     "name": "stderr",
     "output_type": "stream",
     "text": [
      " 71%|████████████████████████████████████████████████████████████▉                         | 134/189 [02:47<01:07,  1.22s/it]"
     ]
    },
    {
     "name": "stdout",
     "output_type": "stream",
     "text": [
      "[1/200][134/189] ========== Loss_D: 1.4443, Loss_G: 1.7168, Acc_G: 12/32 = 37.5000\n"
     ]
    },
    {
     "name": "stderr",
     "output_type": "stream",
     "text": [
      " 71%|█████████████████████████████████████████████████████████████▍                        | 135/189 [02:49<01:13,  1.36s/it]"
     ]
    },
    {
     "name": "stdout",
     "output_type": "stream",
     "text": [
      "[1/200][135/189] ========== Loss_D: 1.4744, Loss_G: 1.6357, Acc_G: 11/32 = 34.3750\n"
     ]
    },
    {
     "name": "stderr",
     "output_type": "stream",
     "text": [
      " 72%|█████████████████████████████████████████████████████████████▉                        | 136/189 [02:50<01:08,  1.30s/it]"
     ]
    },
    {
     "name": "stdout",
     "output_type": "stream",
     "text": [
      "[1/200][136/189] ========== Loss_D: 1.4339, Loss_G: 1.6727, Acc_G: 14/32 = 43.7500\n"
     ]
    },
    {
     "name": "stderr",
     "output_type": "stream",
     "text": [
      " 72%|██████████████████████████████████████████████████████████████▎                       | 137/189 [02:51<01:08,  1.31s/it]"
     ]
    },
    {
     "name": "stdout",
     "output_type": "stream",
     "text": [
      "[1/200][137/189] ========== Loss_D: 1.4568, Loss_G: 1.7942, Acc_G: 15/32 = 46.8750\n"
     ]
    },
    {
     "name": "stderr",
     "output_type": "stream",
     "text": [
      " 73%|██████████████████████████████████████████████████████████████▊                       | 138/189 [02:53<01:05,  1.29s/it]"
     ]
    },
    {
     "name": "stdout",
     "output_type": "stream",
     "text": [
      "[1/200][138/189] ========== Loss_D: 1.4673, Loss_G: 1.7351, Acc_G: 10/32 = 31.2500\n"
     ]
    },
    {
     "name": "stderr",
     "output_type": "stream",
     "text": [
      " 74%|███████████████████████████████████████████████████████████████▏                      | 139/189 [02:54<01:09,  1.39s/it]"
     ]
    },
    {
     "name": "stdout",
     "output_type": "stream",
     "text": [
      "[1/200][139/189] ========== Loss_D: 1.4486, Loss_G: 1.8112, Acc_G: 13/32 = 40.6250\n"
     ]
    },
    {
     "name": "stderr",
     "output_type": "stream",
     "text": [
      " 74%|███████████████████████████████████████████████████████████████▋                      | 140/189 [02:55<01:04,  1.31s/it]"
     ]
    },
    {
     "name": "stdout",
     "output_type": "stream",
     "text": [
      "[1/200][140/189] ========== Loss_D: 1.4438, Loss_G: 1.6747, Acc_G: 16/32 = 50.0000\n"
     ]
    },
    {
     "name": "stderr",
     "output_type": "stream",
     "text": [
      " 75%|████████████████████████████████████████████████████████████████▏                     | 141/189 [02:57<01:00,  1.27s/it]"
     ]
    },
    {
     "name": "stdout",
     "output_type": "stream",
     "text": [
      "[1/200][141/189] ========== Loss_D: 1.4431, Loss_G: 1.6347, Acc_G: 16/32 = 50.0000\n"
     ]
    },
    {
     "name": "stderr",
     "output_type": "stream",
     "text": [
      " 75%|████████████████████████████████████████████████████████████████▌                     | 142/189 [02:58<00:58,  1.25s/it]"
     ]
    },
    {
     "name": "stdout",
     "output_type": "stream",
     "text": [
      "[1/200][142/189] ========== Loss_D: 1.4601, Loss_G: 1.7309, Acc_G: 16/32 = 50.0000\n"
     ]
    },
    {
     "name": "stderr",
     "output_type": "stream",
     "text": [
      " 76%|█████████████████████████████████████████████████████████████████                     | 143/189 [02:59<00:55,  1.21s/it]"
     ]
    },
    {
     "name": "stdout",
     "output_type": "stream",
     "text": [
      "[1/200][143/189] ========== Loss_D: 1.4620, Loss_G: 1.6583, Acc_G: 11/32 = 34.3750\n"
     ]
    },
    {
     "name": "stderr",
     "output_type": "stream",
     "text": [
      " 76%|█████████████████████████████████████████████████████████████████▌                    | 144/189 [03:00<00:53,  1.19s/it]"
     ]
    },
    {
     "name": "stdout",
     "output_type": "stream",
     "text": [
      "[1/200][144/189] ========== Loss_D: 1.4535, Loss_G: 1.7191, Acc_G: 18/32 = 56.2500\n"
     ]
    },
    {
     "name": "stderr",
     "output_type": "stream",
     "text": [
      " 77%|█████████████████████████████████████████████████████████████████▉                    | 145/189 [03:01<00:50,  1.16s/it]"
     ]
    },
    {
     "name": "stdout",
     "output_type": "stream",
     "text": [
      "[1/200][145/189] ========== Loss_D: 1.4312, Loss_G: 1.7419, Acc_G: 14/32 = 43.7500\n"
     ]
    },
    {
     "name": "stderr",
     "output_type": "stream",
     "text": [
      " 77%|██████████████████████████████████████████████████████████████████▍                   | 146/189 [03:02<00:49,  1.14s/it]"
     ]
    },
    {
     "name": "stdout",
     "output_type": "stream",
     "text": [
      "[1/200][146/189] ========== Loss_D: 1.4620, Loss_G: 1.7866, Acc_G: 14/32 = 43.7500\n"
     ]
    },
    {
     "name": "stderr",
     "output_type": "stream",
     "text": [
      " 78%|██████████████████████████████████████████████████████████████████▉                   | 147/189 [03:03<00:46,  1.10s/it]"
     ]
    },
    {
     "name": "stdout",
     "output_type": "stream",
     "text": [
      "[1/200][147/189] ========== Loss_D: 1.4452, Loss_G: 1.7570, Acc_G: 15/32 = 46.8750\n"
     ]
    },
    {
     "name": "stderr",
     "output_type": "stream",
     "text": [
      " 78%|███████████████████████████████████████████████████████████████████▎                  | 148/189 [03:04<00:45,  1.11s/it]"
     ]
    },
    {
     "name": "stdout",
     "output_type": "stream",
     "text": [
      "[1/200][148/189] ========== Loss_D: 1.4697, Loss_G: 1.6301, Acc_G: 11/32 = 34.3750\n"
     ]
    },
    {
     "name": "stderr",
     "output_type": "stream",
     "text": [
      " 79%|███████████████████████████████████████████████████████████████████▊                  | 149/189 [03:05<00:43,  1.08s/it]"
     ]
    },
    {
     "name": "stdout",
     "output_type": "stream",
     "text": [
      "[1/200][149/189] ========== Loss_D: 1.4504, Loss_G: 1.7384, Acc_G: 16/32 = 50.0000\n"
     ]
    },
    {
     "name": "stderr",
     "output_type": "stream",
     "text": [
      " 79%|████████████████████████████████████████████████████████████████████▎                 | 150/189 [03:07<00:45,  1.17s/it]"
     ]
    },
    {
     "name": "stdout",
     "output_type": "stream",
     "text": [
      "[1/200][150/189] ========== Loss_D: 1.4528, Loss_G: 1.7457, Acc_G: 12/32 = 37.5000\n"
     ]
    },
    {
     "name": "stderr",
     "output_type": "stream",
     "text": [
      " 80%|████████████████████████████████████████████████████████████████████▋                 | 151/189 [03:08<00:42,  1.12s/it]"
     ]
    },
    {
     "name": "stdout",
     "output_type": "stream",
     "text": [
      "[1/200][151/189] ========== Loss_D: 1.4400, Loss_G: 1.6989, Acc_G: 12/32 = 37.5000\n"
     ]
    },
    {
     "name": "stderr",
     "output_type": "stream",
     "text": [
      " 80%|█████████████████████████████████████████████████████████████████████▏                | 152/189 [03:09<00:44,  1.19s/it]"
     ]
    },
    {
     "name": "stdout",
     "output_type": "stream",
     "text": [
      "[1/200][152/189] ========== Loss_D: 1.4505, Loss_G: 1.6837, Acc_G: 16/32 = 50.0000\n"
     ]
    },
    {
     "name": "stderr",
     "output_type": "stream",
     "text": [
      " 81%|█████████████████████████████████████████████████████████████████████▌                | 153/189 [03:10<00:44,  1.25s/it]"
     ]
    },
    {
     "name": "stdout",
     "output_type": "stream",
     "text": [
      "[1/200][153/189] ========== Loss_D: 1.4354, Loss_G: 1.6946, Acc_G: 20/32 = 62.5000\n"
     ]
    },
    {
     "name": "stderr",
     "output_type": "stream",
     "text": [
      " 81%|██████████████████████████████████████████████████████████████████████                | 154/189 [03:12<00:44,  1.27s/it]"
     ]
    },
    {
     "name": "stdout",
     "output_type": "stream",
     "text": [
      "[1/200][154/189] ========== Loss_D: 1.4650, Loss_G: 1.7214, Acc_G: 13/32 = 40.6250\n"
     ]
    },
    {
     "name": "stderr",
     "output_type": "stream",
     "text": [
      " 82%|██████████████████████████████████████████████████████████████████████▌               | 155/189 [03:13<00:41,  1.23s/it]"
     ]
    },
    {
     "name": "stdout",
     "output_type": "stream",
     "text": [
      "[1/200][155/189] ========== Loss_D: 1.4608, Loss_G: 1.7725, Acc_G: 14/32 = 43.7500\n"
     ]
    },
    {
     "name": "stderr",
     "output_type": "stream",
     "text": [
      " 83%|██████████████████████████████████████████████████████████████████████▉               | 156/189 [03:14<00:39,  1.21s/it]"
     ]
    },
    {
     "name": "stdout",
     "output_type": "stream",
     "text": [
      "[1/200][156/189] ========== Loss_D: 1.4487, Loss_G: 1.7256, Acc_G: 14/32 = 43.7500\n"
     ]
    },
    {
     "name": "stderr",
     "output_type": "stream",
     "text": [
      " 83%|███████████████████████████████████████████████████████████████████████▍              | 157/189 [03:16<00:40,  1.28s/it]"
     ]
    },
    {
     "name": "stdout",
     "output_type": "stream",
     "text": [
      "[1/200][157/189] ========== Loss_D: 1.4557, Loss_G: 1.6596, Acc_G: 14/32 = 43.7500\n"
     ]
    },
    {
     "name": "stderr",
     "output_type": "stream",
     "text": [
      " 84%|███████████████████████████████████████████████████████████████████████▉              | 158/189 [03:17<00:38,  1.26s/it]"
     ]
    },
    {
     "name": "stdout",
     "output_type": "stream",
     "text": [
      "[1/200][158/189] ========== Loss_D: 1.4540, Loss_G: 1.7968, Acc_G: 16/32 = 50.0000\n"
     ]
    },
    {
     "name": "stderr",
     "output_type": "stream",
     "text": [
      " 84%|████████████████████████████████████████████████████████████████████████▎             | 159/189 [03:18<00:37,  1.25s/it]"
     ]
    },
    {
     "name": "stdout",
     "output_type": "stream",
     "text": [
      "[1/200][159/189] ========== Loss_D: 1.4567, Loss_G: 1.7940, Acc_G: 9/32 = 28.1250\n"
     ]
    },
    {
     "name": "stderr",
     "output_type": "stream",
     "text": [
      " 85%|████████████████████████████████████████████████████████████████████████▊             | 160/189 [03:19<00:34,  1.20s/it]"
     ]
    },
    {
     "name": "stdout",
     "output_type": "stream",
     "text": [
      "[1/200][160/189] ========== Loss_D: 1.4562, Loss_G: 1.7428, Acc_G: 11/32 = 34.3750\n"
     ]
    },
    {
     "name": "stderr",
     "output_type": "stream",
     "text": [
      " 85%|█████████████████████████████████████████████████████████████████████████▎            | 161/189 [03:20<00:33,  1.21s/it]"
     ]
    },
    {
     "name": "stdout",
     "output_type": "stream",
     "text": [
      "[1/200][161/189] ========== Loss_D: 1.4501, Loss_G: 1.7532, Acc_G: 15/32 = 46.8750\n"
     ]
    },
    {
     "name": "stderr",
     "output_type": "stream",
     "text": [
      " 86%|█████████████████████████████████████████████████████████████████████████▋            | 162/189 [03:22<00:33,  1.23s/it]"
     ]
    },
    {
     "name": "stdout",
     "output_type": "stream",
     "text": [
      "[1/200][162/189] ========== Loss_D: 1.4650, Loss_G: 1.5851, Acc_G: 15/32 = 46.8750\n"
     ]
    },
    {
     "name": "stderr",
     "output_type": "stream",
     "text": [
      " 86%|██████████████████████████████████████████████████████████████████████████▏           | 163/189 [03:23<00:31,  1.20s/it]"
     ]
    },
    {
     "name": "stdout",
     "output_type": "stream",
     "text": [
      "[1/200][163/189] ========== Loss_D: 1.4681, Loss_G: 1.8235, Acc_G: 10/32 = 31.2500\n"
     ]
    },
    {
     "name": "stderr",
     "output_type": "stream",
     "text": [
      " 87%|██████████████████████████████████████████████████████████████████████████▌           | 164/189 [03:24<00:28,  1.13s/it]"
     ]
    },
    {
     "name": "stdout",
     "output_type": "stream",
     "text": [
      "[1/200][164/189] ========== Loss_D: 1.4631, Loss_G: 1.7255, Acc_G: 14/32 = 43.7500\n"
     ]
    },
    {
     "name": "stderr",
     "output_type": "stream",
     "text": [
      " 87%|███████████████████████████████████████████████████████████████████████████           | 165/189 [03:25<00:25,  1.06s/it]"
     ]
    },
    {
     "name": "stdout",
     "output_type": "stream",
     "text": [
      "[1/200][165/189] ========== Loss_D: 1.4518, Loss_G: 1.6983, Acc_G: 11/32 = 34.3750\n"
     ]
    },
    {
     "name": "stderr",
     "output_type": "stream",
     "text": [
      " 88%|███████████████████████████████████████████████████████████████████████████▌          | 166/189 [03:26<00:25,  1.10s/it]"
     ]
    },
    {
     "name": "stdout",
     "output_type": "stream",
     "text": [
      "[1/200][166/189] ========== Loss_D: 1.4559, Loss_G: 1.6628, Acc_G: 13/32 = 40.6250\n"
     ]
    },
    {
     "name": "stderr",
     "output_type": "stream",
     "text": [
      " 88%|███████████████████████████████████████████████████████████████████████████▉          | 167/189 [03:27<00:25,  1.15s/it]"
     ]
    },
    {
     "name": "stdout",
     "output_type": "stream",
     "text": [
      "[1/200][167/189] ========== Loss_D: 1.4470, Loss_G: 1.7098, Acc_G: 15/32 = 46.8750\n"
     ]
    },
    {
     "name": "stderr",
     "output_type": "stream",
     "text": [
      " 89%|████████████████████████████████████████████████████████████████████████████▍         | 168/189 [03:28<00:24,  1.15s/it]"
     ]
    },
    {
     "name": "stdout",
     "output_type": "stream",
     "text": [
      "[1/200][168/189] ========== Loss_D: 1.4611, Loss_G: 1.8160, Acc_G: 15/32 = 46.8750\n"
     ]
    },
    {
     "name": "stderr",
     "output_type": "stream",
     "text": [
      " 89%|████████████████████████████████████████████████████████████████████████████▉         | 169/189 [03:29<00:22,  1.14s/it]"
     ]
    },
    {
     "name": "stdout",
     "output_type": "stream",
     "text": [
      "[1/200][169/189] ========== Loss_D: 1.4667, Loss_G: 1.7751, Acc_G: 10/32 = 31.2500\n"
     ]
    },
    {
     "name": "stderr",
     "output_type": "stream",
     "text": [
      " 90%|█████████████████████████████████████████████████████████████████████████████▎        | 170/189 [03:31<00:23,  1.26s/it]"
     ]
    },
    {
     "name": "stdout",
     "output_type": "stream",
     "text": [
      "[1/200][170/189] ========== Loss_D: 1.4444, Loss_G: 1.6865, Acc_G: 10/32 = 31.2500\n"
     ]
    },
    {
     "name": "stderr",
     "output_type": "stream",
     "text": [
      " 90%|█████████████████████████████████████████████████████████████████████████████▊        | 171/189 [03:32<00:22,  1.23s/it]"
     ]
    },
    {
     "name": "stdout",
     "output_type": "stream",
     "text": [
      "[1/200][171/189] ========== Loss_D: 1.4553, Loss_G: 1.7292, Acc_G: 10/32 = 31.2500\n"
     ]
    },
    {
     "name": "stderr",
     "output_type": "stream",
     "text": [
      " 91%|██████████████████████████████████████████████████████████████████████████████▎       | 172/189 [03:34<00:24,  1.43s/it]"
     ]
    },
    {
     "name": "stdout",
     "output_type": "stream",
     "text": [
      "[1/200][172/189] ========== Loss_D: 1.4589, Loss_G: 1.9148, Acc_G: 16/32 = 50.0000\n"
     ]
    },
    {
     "name": "stderr",
     "output_type": "stream",
     "text": [
      " 92%|██████████████████████████████████████████████████████████████████████████████▋       | 173/189 [03:35<00:21,  1.36s/it]"
     ]
    },
    {
     "name": "stdout",
     "output_type": "stream",
     "text": [
      "[1/200][173/189] ========== Loss_D: 1.4473, Loss_G: 1.7588, Acc_G: 14/32 = 43.7500\n"
     ]
    },
    {
     "name": "stderr",
     "output_type": "stream",
     "text": [
      " 92%|███████████████████████████████████████████████████████████████████████████████▏      | 174/189 [03:36<00:20,  1.34s/it]"
     ]
    },
    {
     "name": "stdout",
     "output_type": "stream",
     "text": [
      "[1/200][174/189] ========== Loss_D: 1.4497, Loss_G: 1.6970, Acc_G: 11/32 = 34.3750\n"
     ]
    },
    {
     "name": "stderr",
     "output_type": "stream",
     "text": [
      " 93%|███████████████████████████████████████████████████████████████████████████████▋      | 175/189 [03:38<00:18,  1.30s/it]"
     ]
    },
    {
     "name": "stdout",
     "output_type": "stream",
     "text": [
      "[1/200][175/189] ========== Loss_D: 1.4524, Loss_G: 1.7679, Acc_G: 12/32 = 37.5000\n"
     ]
    },
    {
     "name": "stderr",
     "output_type": "stream",
     "text": [
      " 93%|████████████████████████████████████████████████████████████████████████████████      | 176/189 [03:39<00:15,  1.23s/it]"
     ]
    },
    {
     "name": "stdout",
     "output_type": "stream",
     "text": [
      "[1/200][176/189] ========== Loss_D: 1.4478, Loss_G: 1.6734, Acc_G: 15/32 = 46.8750\n"
     ]
    },
    {
     "name": "stderr",
     "output_type": "stream",
     "text": [
      " 94%|████████████████████████████████████████████████████████████████████████████████▌     | 177/189 [03:40<00:14,  1.22s/it]"
     ]
    },
    {
     "name": "stdout",
     "output_type": "stream",
     "text": [
      "[1/200][177/189] ========== Loss_D: 1.4614, Loss_G: 1.7210, Acc_G: 15/32 = 46.8750\n"
     ]
    },
    {
     "name": "stderr",
     "output_type": "stream",
     "text": [
      " 94%|████████████████████████████████████████████████████████████████████████████████▉     | 178/189 [03:41<00:13,  1.22s/it]"
     ]
    },
    {
     "name": "stdout",
     "output_type": "stream",
     "text": [
      "[1/200][178/189] ========== Loss_D: 1.4507, Loss_G: 1.6814, Acc_G: 19/32 = 59.3750\n"
     ]
    },
    {
     "name": "stderr",
     "output_type": "stream",
     "text": [
      " 95%|█████████████████████████████████████████████████████████████████████████████████▍    | 179/189 [03:42<00:12,  1.24s/it]"
     ]
    },
    {
     "name": "stdout",
     "output_type": "stream",
     "text": [
      "[1/200][179/189] ========== Loss_D: 1.4660, Loss_G: 1.7088, Acc_G: 14/32 = 43.7500\n"
     ]
    },
    {
     "name": "stderr",
     "output_type": "stream",
     "text": [
      " 95%|█████████████████████████████████████████████████████████████████████████████████▉    | 180/189 [03:44<00:11,  1.25s/it]"
     ]
    },
    {
     "name": "stdout",
     "output_type": "stream",
     "text": [
      "[1/200][180/189] ========== Loss_D: 1.4603, Loss_G: 1.6675, Acc_G: 9/32 = 28.1250\n"
     ]
    },
    {
     "name": "stderr",
     "output_type": "stream",
     "text": [
      " 96%|██████████████████████████████████████████████████████████████████████████████████▎   | 181/189 [03:45<00:09,  1.19s/it]"
     ]
    },
    {
     "name": "stdout",
     "output_type": "stream",
     "text": [
      "[1/200][181/189] ========== Loss_D: 1.4611, Loss_G: 1.8070, Acc_G: 13/32 = 40.6250\n"
     ]
    },
    {
     "name": "stderr",
     "output_type": "stream",
     "text": [
      " 96%|██████████████████████████████████████████████████████████████████████████████████▊   | 182/189 [03:46<00:09,  1.30s/it]"
     ]
    },
    {
     "name": "stdout",
     "output_type": "stream",
     "text": [
      "[1/200][182/189] ========== Loss_D: 1.4726, Loss_G: 1.6547, Acc_G: 16/32 = 50.0000\n"
     ]
    },
    {
     "name": "stderr",
     "output_type": "stream",
     "text": [
      " 97%|███████████████████████████████████████████████████████████████████████████████████▎  | 183/189 [03:47<00:07,  1.23s/it]"
     ]
    },
    {
     "name": "stdout",
     "output_type": "stream",
     "text": [
      "[1/200][183/189] ========== Loss_D: 1.4367, Loss_G: 1.7425, Acc_G: 15/32 = 46.8750\n"
     ]
    },
    {
     "name": "stderr",
     "output_type": "stream",
     "text": [
      " 97%|███████████████████████████████████████████████████████████████████████████████████▋  | 184/189 [03:48<00:05,  1.18s/it]"
     ]
    },
    {
     "name": "stdout",
     "output_type": "stream",
     "text": [
      "[1/200][184/189] ========== Loss_D: 1.4432, Loss_G: 1.8157, Acc_G: 13/32 = 40.6250\n"
     ]
    },
    {
     "name": "stderr",
     "output_type": "stream",
     "text": [
      " 98%|████████████████████████████████████████████████████████████████████████████████████▏ | 185/189 [03:50<00:04,  1.19s/it]"
     ]
    },
    {
     "name": "stdout",
     "output_type": "stream",
     "text": [
      "[1/200][185/189] ========== Loss_D: 1.4536, Loss_G: 1.7104, Acc_G: 12/32 = 37.5000\n"
     ]
    },
    {
     "name": "stderr",
     "output_type": "stream",
     "text": [
      " 98%|████████████████████████████████████████████████████████████████████████████████████▋ | 186/189 [03:51<00:03,  1.29s/it]"
     ]
    },
    {
     "name": "stdout",
     "output_type": "stream",
     "text": [
      "[1/200][186/189] ========== Loss_D: 1.4366, Loss_G: 1.6331, Acc_G: 12/32 = 37.5000\n"
     ]
    },
    {
     "name": "stderr",
     "output_type": "stream",
     "text": [
      " 99%|█████████████████████████████████████████████████████████████████████████████████████ | 187/189 [03:52<00:02,  1.29s/it]"
     ]
    },
    {
     "name": "stdout",
     "output_type": "stream",
     "text": [
      "[1/200][187/189] ========== Loss_D: 1.4566, Loss_G: 1.7861, Acc_G: 16/32 = 50.0000\n"
     ]
    },
    {
     "name": "stderr",
     "output_type": "stream",
     "text": [
      " 99%|█████████████████████████████████████████████████████████████████████████████████████▌| 188/189 [03:53<00:01,  1.21s/it]"
     ]
    },
    {
     "name": "stdout",
     "output_type": "stream",
     "text": [
      "[1/200][188/189] ========== Loss_D: 1.4703, Loss_G: 1.6657, Acc_G: 11/32 = 34.3750\n"
     ]
    },
    {
     "name": "stderr",
     "output_type": "stream",
     "text": [
      "100%|██████████████████████████████████████████████████████████████████████████████████████| 189/189 [03:54<00:00,  1.24s/it]"
     ]
    },
    {
     "name": "stdout",
     "output_type": "stream",
     "text": [
      "[1/200][189/189] ========== Loss_D: 1.4242, Loss_G: 1.5852, Acc_G: 5/8 = 62.5000\n",
      "---------------------< lowest loss update -> 3.009429454803467 >---------------------\n"
     ]
    },
    {
     "name": "stderr",
     "output_type": "stream",
     "text": [
      "\n",
      "  1%|▍                                                                                       | 1/189 [00:01<05:21,  1.71s/it]"
     ]
    },
    {
     "name": "stdout",
     "output_type": "stream",
     "text": [
      "[2/200][1/189] ========== Loss_D: 1.4495, Loss_G: 1.6931, Acc_G: 12/32 = 37.5000\n"
     ]
    },
    {
     "name": "stderr",
     "output_type": "stream",
     "text": [
      "  1%|▉                                                                                       | 2/189 [00:02<04:21,  1.40s/it]"
     ]
    },
    {
     "name": "stdout",
     "output_type": "stream",
     "text": [
      "[2/200][2/189] ========== Loss_D: 1.4559, Loss_G: 1.7223, Acc_G: 13/32 = 40.6250\n"
     ]
    },
    {
     "name": "stderr",
     "output_type": "stream",
     "text": [
      "  2%|█▍                                                                                      | 3/189 [00:03<03:54,  1.26s/it]"
     ]
    },
    {
     "name": "stdout",
     "output_type": "stream",
     "text": [
      "[2/200][3/189] ========== Loss_D: 1.4686, Loss_G: 1.7732, Acc_G: 11/32 = 34.3750\n"
     ]
    },
    {
     "name": "stderr",
     "output_type": "stream",
     "text": [
      "  2%|█▊                                                                                      | 4/189 [00:05<03:58,  1.29s/it]"
     ]
    },
    {
     "name": "stdout",
     "output_type": "stream",
     "text": [
      "[2/200][4/189] ========== Loss_D: 1.4419, Loss_G: 1.6243, Acc_G: 8/32 = 25.0000\n"
     ]
    },
    {
     "name": "stderr",
     "output_type": "stream",
     "text": [
      "  3%|██▎                                                                                     | 5/189 [00:06<04:10,  1.36s/it]"
     ]
    },
    {
     "name": "stdout",
     "output_type": "stream",
     "text": [
      "[2/200][5/189] ========== Loss_D: 1.4678, Loss_G: 1.7711, Acc_G: 17/32 = 53.1250\n"
     ]
    },
    {
     "name": "stderr",
     "output_type": "stream",
     "text": [
      "  3%|██▊                                                                                     | 6/189 [00:08<04:12,  1.38s/it]"
     ]
    },
    {
     "name": "stdout",
     "output_type": "stream",
     "text": [
      "[2/200][6/189] ========== Loss_D: 1.4519, Loss_G: 1.6566, Acc_G: 14/32 = 43.7500\n"
     ]
    },
    {
     "name": "stderr",
     "output_type": "stream",
     "text": [
      "  4%|███▎                                                                                    | 7/189 [00:09<04:05,  1.35s/it]"
     ]
    },
    {
     "name": "stdout",
     "output_type": "stream",
     "text": [
      "[2/200][7/189] ========== Loss_D: 1.4596, Loss_G: 1.7194, Acc_G: 13/32 = 40.6250\n"
     ]
    },
    {
     "name": "stderr",
     "output_type": "stream",
     "text": [
      "  4%|███▋                                                                                    | 8/189 [00:10<03:45,  1.25s/it]"
     ]
    },
    {
     "name": "stdout",
     "output_type": "stream",
     "text": [
      "[2/200][8/189] ========== Loss_D: 1.4627, Loss_G: 1.6903, Acc_G: 11/32 = 34.3750\n"
     ]
    },
    {
     "name": "stderr",
     "output_type": "stream",
     "text": [
      "  5%|████▏                                                                                   | 9/189 [00:12<04:33,  1.52s/it]"
     ]
    },
    {
     "name": "stdout",
     "output_type": "stream",
     "text": [
      "[2/200][9/189] ========== Loss_D: 1.4668, Loss_G: 1.6696, Acc_G: 18/32 = 56.2500\n"
     ]
    },
    {
     "name": "stderr",
     "output_type": "stream",
     "text": [
      "  5%|████▌                                                                                  | 10/189 [00:13<04:16,  1.44s/it]"
     ]
    },
    {
     "name": "stdout",
     "output_type": "stream",
     "text": [
      "[2/200][10/189] ========== Loss_D: 1.4498, Loss_G: 1.7686, Acc_G: 18/32 = 56.2500\n"
     ]
    },
    {
     "name": "stderr",
     "output_type": "stream",
     "text": [
      "  6%|█████                                                                                  | 11/189 [00:15<04:14,  1.43s/it]"
     ]
    },
    {
     "name": "stdout",
     "output_type": "stream",
     "text": [
      "[2/200][11/189] ========== Loss_D: 1.4548, Loss_G: 1.7217, Acc_G: 17/32 = 53.1250\n"
     ]
    },
    {
     "name": "stderr",
     "output_type": "stream",
     "text": [
      "  6%|█████▌                                                                                 | 12/189 [00:16<04:02,  1.37s/it]"
     ]
    },
    {
     "name": "stdout",
     "output_type": "stream",
     "text": [
      "[2/200][12/189] ========== Loss_D: 1.4607, Loss_G: 1.5943, Acc_G: 14/32 = 43.7500\n"
     ]
    },
    {
     "name": "stderr",
     "output_type": "stream",
     "text": [
      "  7%|█████▉                                                                                 | 13/189 [00:17<03:39,  1.25s/it]"
     ]
    },
    {
     "name": "stdout",
     "output_type": "stream",
     "text": [
      "[2/200][13/189] ========== Loss_D: 1.4476, Loss_G: 1.5594, Acc_G: 19/32 = 59.3750\n",
      "---------------------< lowest loss update -> 3.007038116455078 >---------------------\n"
     ]
    },
    {
     "name": "stderr",
     "output_type": "stream",
     "text": [
      "  7%|██████▍                                                                                | 14/189 [00:18<03:24,  1.17s/it]"
     ]
    },
    {
     "name": "stdout",
     "output_type": "stream",
     "text": [
      "[2/200][14/189] ========== Loss_D: 1.4388, Loss_G: 1.8420, Acc_G: 17/32 = 53.1250\n"
     ]
    },
    {
     "name": "stderr",
     "output_type": "stream",
     "text": [
      "  8%|██████▉                                                                                | 15/189 [00:19<03:06,  1.07s/it]"
     ]
    },
    {
     "name": "stdout",
     "output_type": "stream",
     "text": [
      "[2/200][15/189] ========== Loss_D: 1.4426, Loss_G: 1.6696, Acc_G: 10/32 = 31.2500\n"
     ]
    },
    {
     "name": "stderr",
     "output_type": "stream",
     "text": [
      "  8%|███████▎                                                                               | 16/189 [00:20<03:12,  1.11s/it]"
     ]
    },
    {
     "name": "stdout",
     "output_type": "stream",
     "text": [
      "[2/200][16/189] ========== Loss_D: 1.4644, Loss_G: 1.8110, Acc_G: 10/32 = 31.2500\n"
     ]
    },
    {
     "name": "stderr",
     "output_type": "stream",
     "text": [
      "  9%|███████▊                                                                               | 17/189 [00:21<03:09,  1.10s/it]"
     ]
    },
    {
     "name": "stdout",
     "output_type": "stream",
     "text": [
      "[2/200][17/189] ========== Loss_D: 1.4611, Loss_G: 1.7560, Acc_G: 17/32 = 53.1250\n"
     ]
    },
    {
     "name": "stderr",
     "output_type": "stream",
     "text": [
      " 10%|████████▎                                                                              | 18/189 [00:23<03:22,  1.18s/it]"
     ]
    },
    {
     "name": "stdout",
     "output_type": "stream",
     "text": [
      "[2/200][18/189] ========== Loss_D: 1.4721, Loss_G: 1.7178, Acc_G: 12/32 = 37.5000\n"
     ]
    },
    {
     "name": "stderr",
     "output_type": "stream",
     "text": [
      " 10%|████████▋                                                                              | 19/189 [00:24<03:22,  1.19s/it]"
     ]
    },
    {
     "name": "stdout",
     "output_type": "stream",
     "text": [
      "[2/200][19/189] ========== Loss_D: 1.4589, Loss_G: 1.7323, Acc_G: 12/32 = 37.5000\n"
     ]
    },
    {
     "name": "stderr",
     "output_type": "stream",
     "text": [
      " 11%|█████████▏                                                                             | 20/189 [00:25<03:35,  1.27s/it]"
     ]
    },
    {
     "name": "stdout",
     "output_type": "stream",
     "text": [
      "[2/200][20/189] ========== Loss_D: 1.4410, Loss_G: 1.6857, Acc_G: 15/32 = 46.8750\n"
     ]
    },
    {
     "name": "stderr",
     "output_type": "stream",
     "text": [
      " 11%|█████████▋                                                                             | 21/189 [00:26<03:22,  1.21s/it]"
     ]
    },
    {
     "name": "stdout",
     "output_type": "stream",
     "text": [
      "[2/200][21/189] ========== Loss_D: 1.4663, Loss_G: 1.7676, Acc_G: 14/32 = 43.7500\n"
     ]
    },
    {
     "name": "stderr",
     "output_type": "stream",
     "text": [
      " 12%|██████████▏                                                                            | 22/189 [00:27<03:20,  1.20s/it]"
     ]
    },
    {
     "name": "stdout",
     "output_type": "stream",
     "text": [
      "[2/200][22/189] ========== Loss_D: 1.4391, Loss_G: 1.8313, Acc_G: 14/32 = 43.7500\n"
     ]
    },
    {
     "name": "stderr",
     "output_type": "stream",
     "text": [
      " 12%|██████████▌                                                                            | 23/189 [00:29<03:26,  1.25s/it]"
     ]
    },
    {
     "name": "stdout",
     "output_type": "stream",
     "text": [
      "[2/200][23/189] ========== Loss_D: 1.4523, Loss_G: 1.7283, Acc_G: 9/32 = 28.1250\n"
     ]
    },
    {
     "name": "stderr",
     "output_type": "stream",
     "text": [
      " 13%|███████████                                                                            | 24/189 [00:30<03:19,  1.21s/it]"
     ]
    },
    {
     "name": "stdout",
     "output_type": "stream",
     "text": [
      "[2/200][24/189] ========== Loss_D: 1.4580, Loss_G: 1.7960, Acc_G: 11/32 = 34.3750\n"
     ]
    },
    {
     "name": "stderr",
     "output_type": "stream",
     "text": [
      " 13%|███████████▌                                                                           | 25/189 [00:31<03:25,  1.25s/it]"
     ]
    },
    {
     "name": "stdout",
     "output_type": "stream",
     "text": [
      "[2/200][25/189] ========== Loss_D: 1.4483, Loss_G: 1.8067, Acc_G: 18/32 = 56.2500\n"
     ]
    },
    {
     "name": "stderr",
     "output_type": "stream",
     "text": [
      " 14%|███████████▉                                                                           | 26/189 [00:33<03:34,  1.32s/it]"
     ]
    },
    {
     "name": "stdout",
     "output_type": "stream",
     "text": [
      "[2/200][26/189] ========== Loss_D: 1.4552, Loss_G: 1.5965, Acc_G: 11/32 = 34.3750\n"
     ]
    },
    {
     "name": "stderr",
     "output_type": "stream",
     "text": [
      " 14%|████████████▍                                                                          | 27/189 [00:35<03:55,  1.45s/it]"
     ]
    },
    {
     "name": "stdout",
     "output_type": "stream",
     "text": [
      "[2/200][27/189] ========== Loss_D: 1.4428, Loss_G: 1.6626, Acc_G: 9/32 = 28.1250\n"
     ]
    },
    {
     "name": "stderr",
     "output_type": "stream",
     "text": [
      " 15%|████████████▉                                                                          | 28/189 [00:36<03:51,  1.44s/it]"
     ]
    },
    {
     "name": "stdout",
     "output_type": "stream",
     "text": [
      "[2/200][28/189] ========== Loss_D: 1.4456, Loss_G: 1.8063, Acc_G: 10/32 = 31.2500\n"
     ]
    },
    {
     "name": "stderr",
     "output_type": "stream",
     "text": [
      " 15%|█████████████▎                                                                         | 29/189 [00:37<03:43,  1.40s/it]"
     ]
    },
    {
     "name": "stdout",
     "output_type": "stream",
     "text": [
      "[2/200][29/189] ========== Loss_D: 1.4495, Loss_G: 1.7631, Acc_G: 15/32 = 46.8750\n"
     ]
    },
    {
     "name": "stderr",
     "output_type": "stream",
     "text": [
      " 16%|█████████████▊                                                                         | 30/189 [00:38<03:27,  1.30s/it]"
     ]
    },
    {
     "name": "stdout",
     "output_type": "stream",
     "text": [
      "[2/200][30/189] ========== Loss_D: 1.4393, Loss_G: 1.6470, Acc_G: 14/32 = 43.7500\n"
     ]
    },
    {
     "name": "stderr",
     "output_type": "stream",
     "text": [
      " 16%|██████████████▎                                                                        | 31/189 [00:40<03:32,  1.35s/it]"
     ]
    },
    {
     "name": "stdout",
     "output_type": "stream",
     "text": [
      "[2/200][31/189] ========== Loss_D: 1.4440, Loss_G: 1.6093, Acc_G: 12/32 = 37.5000\n"
     ]
    },
    {
     "name": "stderr",
     "output_type": "stream",
     "text": [
      " 17%|██████████████▋                                                                        | 32/189 [00:41<03:31,  1.34s/it]"
     ]
    },
    {
     "name": "stdout",
     "output_type": "stream",
     "text": [
      "[2/200][32/189] ========== Loss_D: 1.4374, Loss_G: 1.5900, Acc_G: 17/32 = 53.1250\n"
     ]
    },
    {
     "name": "stderr",
     "output_type": "stream",
     "text": [
      " 17%|███████████████▏                                                                       | 33/189 [00:43<03:38,  1.40s/it]"
     ]
    },
    {
     "name": "stdout",
     "output_type": "stream",
     "text": [
      "[2/200][33/189] ========== Loss_D: 1.4531, Loss_G: 1.5868, Acc_G: 14/32 = 43.7500\n"
     ]
    },
    {
     "name": "stderr",
     "output_type": "stream",
     "text": [
      " 18%|███████████████▋                                                                       | 34/189 [00:43<03:11,  1.24s/it]"
     ]
    },
    {
     "name": "stdout",
     "output_type": "stream",
     "text": [
      "[2/200][34/189] ========== Loss_D: 1.4608, Loss_G: 1.6441, Acc_G: 18/32 = 56.2500\n"
     ]
    },
    {
     "name": "stderr",
     "output_type": "stream",
     "text": [
      " 19%|████████████████                                                                       | 35/189 [00:45<03:03,  1.19s/it]"
     ]
    },
    {
     "name": "stdout",
     "output_type": "stream",
     "text": [
      "[2/200][35/189] ========== Loss_D: 1.4438, Loss_G: 1.7523, Acc_G: 13/32 = 40.6250\n"
     ]
    },
    {
     "name": "stderr",
     "output_type": "stream",
     "text": [
      " 19%|████████████████▌                                                                      | 36/189 [00:46<02:58,  1.16s/it]"
     ]
    },
    {
     "name": "stdout",
     "output_type": "stream",
     "text": [
      "[2/200][36/189] ========== Loss_D: 1.4637, Loss_G: 1.6664, Acc_G: 17/32 = 53.1250\n"
     ]
    },
    {
     "name": "stderr",
     "output_type": "stream",
     "text": [
      " 20%|█████████████████                                                                      | 37/189 [00:47<03:04,  1.21s/it]"
     ]
    },
    {
     "name": "stdout",
     "output_type": "stream",
     "text": [
      "[2/200][37/189] ========== Loss_D: 1.4571, Loss_G: 1.7235, Acc_G: 13/32 = 40.6250\n"
     ]
    },
    {
     "name": "stderr",
     "output_type": "stream",
     "text": [
      " 20%|█████████████████▍                                                                     | 38/189 [00:48<03:05,  1.23s/it]"
     ]
    },
    {
     "name": "stdout",
     "output_type": "stream",
     "text": [
      "[2/200][38/189] ========== Loss_D: 1.4669, Loss_G: 1.7727, Acc_G: 17/32 = 53.1250\n"
     ]
    },
    {
     "name": "stderr",
     "output_type": "stream",
     "text": [
      " 21%|█████████████████▉                                                                     | 39/189 [00:49<03:00,  1.21s/it]"
     ]
    },
    {
     "name": "stdout",
     "output_type": "stream",
     "text": [
      "[2/200][39/189] ========== Loss_D: 1.4335, Loss_G: 1.7345, Acc_G: 12/32 = 37.5000\n"
     ]
    },
    {
     "name": "stderr",
     "output_type": "stream",
     "text": [
      " 21%|██████████████████▍                                                                    | 40/189 [00:50<02:45,  1.11s/it]"
     ]
    },
    {
     "name": "stdout",
     "output_type": "stream",
     "text": [
      "[2/200][40/189] ========== Loss_D: 1.4330, Loss_G: 1.7585, Acc_G: 13/32 = 40.6250\n"
     ]
    },
    {
     "name": "stderr",
     "output_type": "stream",
     "text": [
      " 22%|██████████████████▊                                                                    | 41/189 [00:51<02:44,  1.11s/it]"
     ]
    },
    {
     "name": "stdout",
     "output_type": "stream",
     "text": [
      "[2/200][41/189] ========== Loss_D: 1.4509, Loss_G: 1.7261, Acc_G: 11/32 = 34.3750\n"
     ]
    },
    {
     "name": "stderr",
     "output_type": "stream",
     "text": [
      " 22%|███████████████████▎                                                                   | 42/189 [00:52<02:42,  1.10s/it]"
     ]
    },
    {
     "name": "stdout",
     "output_type": "stream",
     "text": [
      "[2/200][42/189] ========== Loss_D: 1.4505, Loss_G: 1.7019, Acc_G: 10/32 = 31.2500\n"
     ]
    },
    {
     "name": "stderr",
     "output_type": "stream",
     "text": [
      " 23%|███████████████████▊                                                                   | 43/189 [00:54<03:03,  1.26s/it]"
     ]
    },
    {
     "name": "stdout",
     "output_type": "stream",
     "text": [
      "[2/200][43/189] ========== Loss_D: 1.4470, Loss_G: 1.8004, Acc_G: 11/32 = 34.3750\n"
     ]
    },
    {
     "name": "stderr",
     "output_type": "stream",
     "text": [
      " 23%|████████████████████▎                                                                  | 44/189 [00:55<03:02,  1.26s/it]"
     ]
    },
    {
     "name": "stdout",
     "output_type": "stream",
     "text": [
      "[2/200][44/189] ========== Loss_D: 1.4597, Loss_G: 1.7417, Acc_G: 18/32 = 56.2500\n"
     ]
    },
    {
     "name": "stderr",
     "output_type": "stream",
     "text": [
      " 24%|████████████████████▋                                                                  | 45/189 [00:57<02:56,  1.22s/it]"
     ]
    },
    {
     "name": "stdout",
     "output_type": "stream",
     "text": [
      "[2/200][45/189] ========== Loss_D: 1.4517, Loss_G: 1.7651, Acc_G: 14/32 = 43.7500\n"
     ]
    },
    {
     "name": "stderr",
     "output_type": "stream",
     "text": [
      " 24%|█████████████████████▏                                                                 | 46/189 [00:58<02:55,  1.23s/it]"
     ]
    },
    {
     "name": "stdout",
     "output_type": "stream",
     "text": [
      "[2/200][46/189] ========== Loss_D: 1.4388, Loss_G: 1.7624, Acc_G: 12/32 = 37.5000\n"
     ]
    },
    {
     "name": "stderr",
     "output_type": "stream",
     "text": [
      " 25%|█████████████████████▋                                                                 | 47/189 [00:59<03:04,  1.30s/it]"
     ]
    },
    {
     "name": "stdout",
     "output_type": "stream",
     "text": [
      "[2/200][47/189] ========== Loss_D: 1.4508, Loss_G: 1.6338, Acc_G: 16/32 = 50.0000\n"
     ]
    },
    {
     "name": "stderr",
     "output_type": "stream",
     "text": [
      " 25%|██████████████████████                                                                 | 48/189 [01:01<03:06,  1.32s/it]"
     ]
    },
    {
     "name": "stdout",
     "output_type": "stream",
     "text": [
      "[2/200][48/189] ========== Loss_D: 1.4900, Loss_G: 1.7971, Acc_G: 12/32 = 37.5000\n"
     ]
    },
    {
     "name": "stderr",
     "output_type": "stream",
     "text": [
      " 26%|██████████████████████▌                                                                | 49/189 [01:02<03:15,  1.40s/it]"
     ]
    },
    {
     "name": "stdout",
     "output_type": "stream",
     "text": [
      "[2/200][49/189] ========== Loss_D: 1.4366, Loss_G: 1.6166, Acc_G: 19/32 = 59.3750\n"
     ]
    },
    {
     "name": "stderr",
     "output_type": "stream",
     "text": [
      " 26%|███████████████████████                                                                | 50/189 [01:03<02:58,  1.28s/it]"
     ]
    },
    {
     "name": "stdout",
     "output_type": "stream",
     "text": [
      "[2/200][50/189] ========== Loss_D: 1.4548, Loss_G: 1.7844, Acc_G: 16/32 = 50.0000\n"
     ]
    },
    {
     "name": "stderr",
     "output_type": "stream",
     "text": [
      " 27%|███████████████████████▍                                                               | 51/189 [01:05<03:02,  1.32s/it]"
     ]
    },
    {
     "name": "stdout",
     "output_type": "stream",
     "text": [
      "[2/200][51/189] ========== Loss_D: 1.4737, Loss_G: 1.7153, Acc_G: 11/32 = 34.3750\n"
     ]
    },
    {
     "name": "stderr",
     "output_type": "stream",
     "text": [
      " 28%|███████████████████████▉                                                               | 52/189 [01:06<02:57,  1.30s/it]"
     ]
    },
    {
     "name": "stdout",
     "output_type": "stream",
     "text": [
      "[2/200][52/189] ========== Loss_D: 1.4705, Loss_G: 1.6344, Acc_G: 14/32 = 43.7500\n"
     ]
    },
    {
     "name": "stderr",
     "output_type": "stream",
     "text": [
      " 28%|████████████████████████▍                                                              | 53/189 [01:07<02:56,  1.30s/it]"
     ]
    },
    {
     "name": "stdout",
     "output_type": "stream",
     "text": [
      "[2/200][53/189] ========== Loss_D: 1.4656, Loss_G: 1.5777, Acc_G: 11/32 = 34.3750\n"
     ]
    },
    {
     "name": "stderr",
     "output_type": "stream",
     "text": [
      " 29%|████████████████████████▊                                                              | 54/189 [01:09<03:00,  1.33s/it]"
     ]
    },
    {
     "name": "stdout",
     "output_type": "stream",
     "text": [
      "[2/200][54/189] ========== Loss_D: 1.4437, Loss_G: 1.7237, Acc_G: 15/32 = 46.8750\n"
     ]
    },
    {
     "name": "stderr",
     "output_type": "stream",
     "text": [
      " 29%|█████████████████████████▎                                                             | 55/189 [01:10<02:52,  1.29s/it]"
     ]
    },
    {
     "name": "stdout",
     "output_type": "stream",
     "text": [
      "[2/200][55/189] ========== Loss_D: 1.4492, Loss_G: 1.7842, Acc_G: 17/32 = 53.1250\n"
     ]
    },
    {
     "name": "stderr",
     "output_type": "stream",
     "text": [
      " 30%|█████████████████████████▊                                                             | 56/189 [01:11<02:51,  1.29s/it]"
     ]
    },
    {
     "name": "stdout",
     "output_type": "stream",
     "text": [
      "[2/200][56/189] ========== Loss_D: 1.4435, Loss_G: 1.6013, Acc_G: 9/32 = 28.1250\n"
     ]
    },
    {
     "name": "stderr",
     "output_type": "stream",
     "text": [
      " 30%|██████████████████████████▏                                                            | 57/189 [01:12<02:42,  1.23s/it]"
     ]
    },
    {
     "name": "stdout",
     "output_type": "stream",
     "text": [
      "[2/200][57/189] ========== Loss_D: 1.4565, Loss_G: 1.7095, Acc_G: 13/32 = 40.6250\n"
     ]
    },
    {
     "name": "stderr",
     "output_type": "stream",
     "text": [
      " 31%|██████████████████████████▋                                                            | 58/189 [01:14<02:52,  1.31s/it]"
     ]
    },
    {
     "name": "stdout",
     "output_type": "stream",
     "text": [
      "[2/200][58/189] ========== Loss_D: 1.4642, Loss_G: 1.7276, Acc_G: 21/32 = 65.6250\n"
     ]
    },
    {
     "name": "stderr",
     "output_type": "stream",
     "text": [
      " 31%|███████████████████████████▏                                                           | 59/189 [01:15<02:44,  1.27s/it]"
     ]
    },
    {
     "name": "stdout",
     "output_type": "stream",
     "text": [
      "[2/200][59/189] ========== Loss_D: 1.4559, Loss_G: 1.6787, Acc_G: 15/32 = 46.8750\n"
     ]
    },
    {
     "name": "stderr",
     "output_type": "stream",
     "text": [
      " 32%|███████████████████████████▌                                                           | 60/189 [01:16<02:52,  1.33s/it]"
     ]
    },
    {
     "name": "stdout",
     "output_type": "stream",
     "text": [
      "[2/200][60/189] ========== Loss_D: 1.4360, Loss_G: 1.6723, Acc_G: 14/32 = 43.7500\n"
     ]
    },
    {
     "name": "stderr",
     "output_type": "stream",
     "text": [
      " 32%|████████████████████████████                                                           | 61/189 [01:17<02:35,  1.21s/it]"
     ]
    },
    {
     "name": "stdout",
     "output_type": "stream",
     "text": [
      "[2/200][61/189] ========== Loss_D: 1.4478, Loss_G: 1.6486, Acc_G: 12/32 = 37.5000\n"
     ]
    },
    {
     "name": "stderr",
     "output_type": "stream",
     "text": [
      " 33%|████████████████████████████▌                                                          | 62/189 [01:18<02:34,  1.22s/it]"
     ]
    },
    {
     "name": "stdout",
     "output_type": "stream",
     "text": [
      "[2/200][62/189] ========== Loss_D: 1.4699, Loss_G: 1.6775, Acc_G: 18/32 = 56.2500\n"
     ]
    },
    {
     "name": "stderr",
     "output_type": "stream",
     "text": [
      " 33%|█████████████████████████████                                                          | 63/189 [01:20<02:33,  1.22s/it]"
     ]
    },
    {
     "name": "stdout",
     "output_type": "stream",
     "text": [
      "[2/200][63/189] ========== Loss_D: 1.4514, Loss_G: 1.6497, Acc_G: 21/32 = 65.6250\n"
     ]
    },
    {
     "name": "stderr",
     "output_type": "stream",
     "text": [
      " 34%|█████████████████████████████▍                                                         | 64/189 [01:21<02:25,  1.17s/it]"
     ]
    },
    {
     "name": "stdout",
     "output_type": "stream",
     "text": [
      "[2/200][64/189] ========== Loss_D: 1.4355, Loss_G: 1.7569, Acc_G: 18/32 = 56.2500\n"
     ]
    },
    {
     "name": "stderr",
     "output_type": "stream",
     "text": [
      " 34%|█████████████████████████████▉                                                         | 65/189 [01:22<02:16,  1.10s/it]"
     ]
    },
    {
     "name": "stdout",
     "output_type": "stream",
     "text": [
      "[2/200][65/189] ========== Loss_D: 1.4469, Loss_G: 1.8108, Acc_G: 15/32 = 46.8750\n"
     ]
    },
    {
     "name": "stderr",
     "output_type": "stream",
     "text": [
      " 35%|██████████████████████████████▍                                                        | 66/189 [01:23<02:15,  1.10s/it]"
     ]
    },
    {
     "name": "stdout",
     "output_type": "stream",
     "text": [
      "[2/200][66/189] ========== Loss_D: 1.4444, Loss_G: 1.7553, Acc_G: 19/32 = 59.3750\n"
     ]
    },
    {
     "name": "stderr",
     "output_type": "stream",
     "text": [
      " 35%|██████████████████████████████▊                                                        | 67/189 [01:24<02:19,  1.14s/it]"
     ]
    },
    {
     "name": "stdout",
     "output_type": "stream",
     "text": [
      "[2/200][67/189] ========== Loss_D: 1.4387, Loss_G: 1.7022, Acc_G: 17/32 = 53.1250\n"
     ]
    },
    {
     "name": "stderr",
     "output_type": "stream",
     "text": [
      " 36%|███████████████████████████████▎                                                       | 68/189 [01:25<02:22,  1.18s/it]"
     ]
    },
    {
     "name": "stdout",
     "output_type": "stream",
     "text": [
      "[2/200][68/189] ========== Loss_D: 1.4406, Loss_G: 1.6987, Acc_G: 14/32 = 43.7500\n"
     ]
    },
    {
     "name": "stderr",
     "output_type": "stream",
     "text": [
      " 37%|███████████████████████████████▊                                                       | 69/189 [01:26<02:11,  1.10s/it]"
     ]
    },
    {
     "name": "stdout",
     "output_type": "stream",
     "text": [
      "[2/200][69/189] ========== Loss_D: 1.4614, Loss_G: 1.6939, Acc_G: 16/32 = 50.0000\n"
     ]
    },
    {
     "name": "stderr",
     "output_type": "stream",
     "text": [
      " 37%|████████████████████████████████▏                                                      | 70/189 [01:27<02:11,  1.11s/it]"
     ]
    },
    {
     "name": "stdout",
     "output_type": "stream",
     "text": [
      "[2/200][70/189] ========== Loss_D: 1.4467, Loss_G: 1.8002, Acc_G: 15/32 = 46.8750\n"
     ]
    },
    {
     "name": "stderr",
     "output_type": "stream",
     "text": [
      " 38%|████████████████████████████████▋                                                      | 71/189 [01:28<02:02,  1.03s/it]"
     ]
    },
    {
     "name": "stdout",
     "output_type": "stream",
     "text": [
      "[2/200][71/189] ========== Loss_D: 1.4328, Loss_G: 1.7482, Acc_G: 13/32 = 40.6250\n"
     ]
    },
    {
     "name": "stderr",
     "output_type": "stream",
     "text": [
      " 38%|█████████████████████████████████▏                                                     | 72/189 [01:29<02:02,  1.05s/it]"
     ]
    },
    {
     "name": "stdout",
     "output_type": "stream",
     "text": [
      "[2/200][72/189] ========== Loss_D: 1.4544, Loss_G: 1.6425, Acc_G: 17/32 = 53.1250\n"
     ]
    },
    {
     "name": "stderr",
     "output_type": "stream",
     "text": [
      " 39%|█████████████████████████████████▌                                                     | 73/189 [01:30<02:03,  1.07s/it]"
     ]
    },
    {
     "name": "stdout",
     "output_type": "stream",
     "text": [
      "[2/200][73/189] ========== Loss_D: 1.4381, Loss_G: 1.6798, Acc_G: 17/32 = 53.1250\n"
     ]
    },
    {
     "name": "stderr",
     "output_type": "stream",
     "text": [
      " 39%|██████████████████████████████████                                                     | 74/189 [01:32<02:06,  1.10s/it]"
     ]
    },
    {
     "name": "stdout",
     "output_type": "stream",
     "text": [
      "[2/200][74/189] ========== Loss_D: 1.4347, Loss_G: 1.6475, Acc_G: 21/32 = 65.6250\n"
     ]
    },
    {
     "name": "stderr",
     "output_type": "stream",
     "text": [
      " 40%|██████████████████████████████████▌                                                    | 75/189 [01:33<02:15,  1.19s/it]"
     ]
    },
    {
     "name": "stdout",
     "output_type": "stream",
     "text": [
      "[2/200][75/189] ========== Loss_D: 1.4658, Loss_G: 1.6251, Acc_G: 17/32 = 53.1250\n"
     ]
    },
    {
     "name": "stderr",
     "output_type": "stream",
     "text": [
      " 40%|██████████████████████████████████▉                                                    | 76/189 [01:34<02:21,  1.25s/it]"
     ]
    },
    {
     "name": "stdout",
     "output_type": "stream",
     "text": [
      "[2/200][76/189] ========== Loss_D: 1.4479, Loss_G: 1.6620, Acc_G: 13/32 = 40.6250\n"
     ]
    },
    {
     "name": "stderr",
     "output_type": "stream",
     "text": [
      " 41%|███████████████████████████████████▍                                                   | 77/189 [01:36<02:29,  1.33s/it]"
     ]
    },
    {
     "name": "stdout",
     "output_type": "stream",
     "text": [
      "[2/200][77/189] ========== Loss_D: 1.4480, Loss_G: 1.7346, Acc_G: 18/32 = 56.2500\n"
     ]
    },
    {
     "name": "stderr",
     "output_type": "stream",
     "text": [
      " 41%|███████████████████████████████████▉                                                   | 78/189 [01:37<02:24,  1.30s/it]"
     ]
    },
    {
     "name": "stdout",
     "output_type": "stream",
     "text": [
      "[2/200][78/189] ========== Loss_D: 1.4423, Loss_G: 1.6207, Acc_G: 17/32 = 53.1250\n"
     ]
    },
    {
     "name": "stderr",
     "output_type": "stream",
     "text": [
      " 42%|████████████████████████████████████▎                                                  | 79/189 [01:38<02:17,  1.25s/it]"
     ]
    },
    {
     "name": "stdout",
     "output_type": "stream",
     "text": [
      "[2/200][79/189] ========== Loss_D: 1.4580, Loss_G: 1.7450, Acc_G: 15/32 = 46.8750\n"
     ]
    },
    {
     "name": "stderr",
     "output_type": "stream",
     "text": [
      " 42%|████████████████████████████████████▊                                                  | 80/189 [01:39<02:16,  1.25s/it]"
     ]
    },
    {
     "name": "stdout",
     "output_type": "stream",
     "text": [
      "[2/200][80/189] ========== Loss_D: 1.4417, Loss_G: 1.7606, Acc_G: 15/32 = 46.8750\n"
     ]
    },
    {
     "name": "stderr",
     "output_type": "stream",
     "text": [
      " 43%|█████████████████████████████████████▎                                                 | 81/189 [01:41<02:11,  1.22s/it]"
     ]
    },
    {
     "name": "stdout",
     "output_type": "stream",
     "text": [
      "[2/200][81/189] ========== Loss_D: 1.4488, Loss_G: 1.7044, Acc_G: 15/32 = 46.8750\n"
     ]
    },
    {
     "name": "stderr",
     "output_type": "stream",
     "text": [
      " 43%|█████████████████████████████████████▋                                                 | 82/189 [01:42<02:05,  1.17s/it]"
     ]
    },
    {
     "name": "stdout",
     "output_type": "stream",
     "text": [
      "[2/200][82/189] ========== Loss_D: 1.4462, Loss_G: 1.7208, Acc_G: 14/32 = 43.7500\n"
     ]
    },
    {
     "name": "stderr",
     "output_type": "stream",
     "text": [
      " 44%|██████████████████████████████████████▏                                                | 83/189 [01:43<02:10,  1.23s/it]"
     ]
    },
    {
     "name": "stdout",
     "output_type": "stream",
     "text": [
      "[2/200][83/189] ========== Loss_D: 1.4690, Loss_G: 1.6534, Acc_G: 12/32 = 37.5000\n"
     ]
    },
    {
     "name": "stderr",
     "output_type": "stream",
     "text": [
      " 44%|██████████████████████████████████████▋                                                | 84/189 [01:45<02:22,  1.35s/it]"
     ]
    },
    {
     "name": "stdout",
     "output_type": "stream",
     "text": [
      "[2/200][84/189] ========== Loss_D: 1.4554, Loss_G: 1.7314, Acc_G: 18/32 = 56.2500\n"
     ]
    },
    {
     "name": "stderr",
     "output_type": "stream",
     "text": [
      " 45%|███████████████████████████████████████▏                                               | 85/189 [01:46<02:18,  1.33s/it]"
     ]
    },
    {
     "name": "stdout",
     "output_type": "stream",
     "text": [
      "[2/200][85/189] ========== Loss_D: 1.4472, Loss_G: 1.7858, Acc_G: 14/32 = 43.7500\n"
     ]
    },
    {
     "name": "stderr",
     "output_type": "stream",
     "text": [
      " 46%|███████████████████████████████████████▌                                               | 86/189 [01:47<02:09,  1.26s/it]"
     ]
    },
    {
     "name": "stdout",
     "output_type": "stream",
     "text": [
      "[2/200][86/189] ========== Loss_D: 1.4256, Loss_G: 1.7192, Acc_G: 12/32 = 37.5000\n"
     ]
    },
    {
     "name": "stderr",
     "output_type": "stream",
     "text": [
      " 46%|████████████████████████████████████████                                               | 87/189 [01:48<02:11,  1.29s/it]"
     ]
    },
    {
     "name": "stdout",
     "output_type": "stream",
     "text": [
      "[2/200][87/189] ========== Loss_D: 1.4675, Loss_G: 1.6492, Acc_G: 15/32 = 46.8750\n"
     ]
    },
    {
     "name": "stderr",
     "output_type": "stream",
     "text": [
      " 47%|████████████████████████████████████████▌                                              | 88/189 [01:50<02:09,  1.28s/it]"
     ]
    },
    {
     "name": "stdout",
     "output_type": "stream",
     "text": [
      "[2/200][88/189] ========== Loss_D: 1.4469, Loss_G: 1.8100, Acc_G: 14/32 = 43.7500\n"
     ]
    },
    {
     "name": "stderr",
     "output_type": "stream",
     "text": [
      " 47%|████████████████████████████████████████▉                                              | 89/189 [01:51<02:06,  1.26s/it]"
     ]
    },
    {
     "name": "stdout",
     "output_type": "stream",
     "text": [
      "[2/200][89/189] ========== Loss_D: 1.4384, Loss_G: 1.7177, Acc_G: 16/32 = 50.0000\n"
     ]
    },
    {
     "name": "stderr",
     "output_type": "stream",
     "text": [
      " 48%|█████████████████████████████████████████▍                                             | 90/189 [01:52<02:05,  1.26s/it]"
     ]
    },
    {
     "name": "stdout",
     "output_type": "stream",
     "text": [
      "[2/200][90/189] ========== Loss_D: 1.4446, Loss_G: 1.8357, Acc_G: 19/32 = 59.3750\n"
     ]
    },
    {
     "name": "stderr",
     "output_type": "stream",
     "text": [
      " 48%|█████████████████████████████████████████▉                                             | 91/189 [01:54<02:08,  1.31s/it]"
     ]
    },
    {
     "name": "stdout",
     "output_type": "stream",
     "text": [
      "[2/200][91/189] ========== Loss_D: 1.4511, Loss_G: 1.7276, Acc_G: 13/32 = 40.6250\n"
     ]
    },
    {
     "name": "stderr",
     "output_type": "stream",
     "text": [
      " 49%|██████████████████████████████████████████▎                                            | 92/189 [01:55<02:03,  1.27s/it]"
     ]
    },
    {
     "name": "stdout",
     "output_type": "stream",
     "text": [
      "[2/200][92/189] ========== Loss_D: 1.4595, Loss_G: 1.7382, Acc_G: 18/32 = 56.2500\n"
     ]
    },
    {
     "name": "stderr",
     "output_type": "stream",
     "text": [
      " 49%|██████████████████████████████████████████▊                                            | 93/189 [01:56<02:06,  1.32s/it]"
     ]
    },
    {
     "name": "stdout",
     "output_type": "stream",
     "text": [
      "[2/200][93/189] ========== Loss_D: 1.4570, Loss_G: 1.6980, Acc_G: 18/32 = 56.2500\n"
     ]
    },
    {
     "name": "stderr",
     "output_type": "stream",
     "text": [
      " 50%|███████████████████████████████████████████▎                                           | 94/189 [01:57<01:59,  1.26s/it]"
     ]
    },
    {
     "name": "stdout",
     "output_type": "stream",
     "text": [
      "[2/200][94/189] ========== Loss_D: 1.4272, Loss_G: 1.6704, Acc_G: 16/32 = 50.0000\n"
     ]
    },
    {
     "name": "stderr",
     "output_type": "stream",
     "text": [
      " 50%|███████████████████████████████████████████▋                                           | 95/189 [01:58<01:56,  1.24s/it]"
     ]
    },
    {
     "name": "stdout",
     "output_type": "stream",
     "text": [
      "[2/200][95/189] ========== Loss_D: 1.4359, Loss_G: 1.6248, Acc_G: 16/32 = 50.0000\n"
     ]
    },
    {
     "name": "stderr",
     "output_type": "stream",
     "text": [
      " 51%|████████████████████████████████████████████▏                                          | 96/189 [02:00<02:06,  1.36s/it]"
     ]
    },
    {
     "name": "stdout",
     "output_type": "stream",
     "text": [
      "[2/200][96/189] ========== Loss_D: 1.4469, Loss_G: 1.7101, Acc_G: 13/32 = 40.6250\n"
     ]
    },
    {
     "name": "stderr",
     "output_type": "stream",
     "text": [
      " 51%|████████████████████████████████████████████▋                                          | 97/189 [02:01<02:04,  1.35s/it]"
     ]
    },
    {
     "name": "stdout",
     "output_type": "stream",
     "text": [
      "[2/200][97/189] ========== Loss_D: 1.4662, Loss_G: 1.7100, Acc_G: 15/32 = 46.8750\n"
     ]
    },
    {
     "name": "stderr",
     "output_type": "stream",
     "text": [
      " 52%|█████████████████████████████████████████████                                          | 98/189 [02:03<01:58,  1.30s/it]"
     ]
    },
    {
     "name": "stdout",
     "output_type": "stream",
     "text": [
      "[2/200][98/189] ========== Loss_D: 1.4449, Loss_G: 1.6763, Acc_G: 18/32 = 56.2500\n"
     ]
    },
    {
     "name": "stderr",
     "output_type": "stream",
     "text": [
      " 52%|█████████████████████████████████████████████▌                                         | 99/189 [02:04<01:51,  1.24s/it]"
     ]
    },
    {
     "name": "stdout",
     "output_type": "stream",
     "text": [
      "[2/200][99/189] ========== Loss_D: 1.4487, Loss_G: 1.7388, Acc_G: 18/32 = 56.2500\n"
     ]
    },
    {
     "name": "stderr",
     "output_type": "stream",
     "text": [
      " 53%|█████████████████████████████████████████████▌                                        | 100/189 [02:05<01:44,  1.18s/it]"
     ]
    },
    {
     "name": "stdout",
     "output_type": "stream",
     "text": [
      "[2/200][100/189] ========== Loss_D: 1.4467, Loss_G: 1.7169, Acc_G: 9/32 = 28.1250\n"
     ]
    },
    {
     "name": "stderr",
     "output_type": "stream",
     "text": [
      " 53%|█████████████████████████████████████████████▉                                        | 101/189 [02:06<01:45,  1.20s/it]"
     ]
    },
    {
     "name": "stdout",
     "output_type": "stream",
     "text": [
      "[2/200][101/189] ========== Loss_D: 1.4506, Loss_G: 1.7762, Acc_G: 15/32 = 46.8750\n"
     ]
    },
    {
     "name": "stderr",
     "output_type": "stream",
     "text": [
      " 54%|██████████████████████████████████████████████▍                                       | 102/189 [02:07<01:40,  1.16s/it]"
     ]
    },
    {
     "name": "stdout",
     "output_type": "stream",
     "text": [
      "[2/200][102/189] ========== Loss_D: 1.4644, Loss_G: 1.6655, Acc_G: 13/32 = 40.6250\n"
     ]
    },
    {
     "name": "stderr",
     "output_type": "stream",
     "text": [
      " 54%|██████████████████████████████████████████████▊                                       | 103/189 [02:09<01:47,  1.25s/it]"
     ]
    },
    {
     "name": "stdout",
     "output_type": "stream",
     "text": [
      "[2/200][103/189] ========== Loss_D: 1.4551, Loss_G: 1.6832, Acc_G: 11/32 = 34.3750\n"
     ]
    },
    {
     "name": "stderr",
     "output_type": "stream",
     "text": [
      " 55%|███████████████████████████████████████████████▎                                      | 104/189 [02:10<01:47,  1.27s/it]"
     ]
    },
    {
     "name": "stdout",
     "output_type": "stream",
     "text": [
      "[2/200][104/189] ========== Loss_D: 1.4566, Loss_G: 1.8445, Acc_G: 16/32 = 50.0000\n"
     ]
    },
    {
     "name": "stderr",
     "output_type": "stream",
     "text": [
      " 56%|███████████████████████████████████████████████▊                                      | 105/189 [02:11<01:42,  1.22s/it]"
     ]
    },
    {
     "name": "stdout",
     "output_type": "stream",
     "text": [
      "[2/200][105/189] ========== Loss_D: 1.4499, Loss_G: 1.8054, Acc_G: 18/32 = 56.2500\n"
     ]
    },
    {
     "name": "stderr",
     "output_type": "stream",
     "text": [
      " 56%|████████████████████████████████████████████████▏                                     | 106/189 [02:13<01:53,  1.37s/it]"
     ]
    },
    {
     "name": "stdout",
     "output_type": "stream",
     "text": [
      "[2/200][106/189] ========== Loss_D: 1.4383, Loss_G: 1.6336, Acc_G: 15/32 = 46.8750\n"
     ]
    },
    {
     "name": "stderr",
     "output_type": "stream",
     "text": [
      " 57%|████████████████████████████████████████████████▋                                     | 107/189 [02:14<01:44,  1.28s/it]"
     ]
    },
    {
     "name": "stdout",
     "output_type": "stream",
     "text": [
      "[2/200][107/189] ========== Loss_D: 1.4584, Loss_G: 1.7927, Acc_G: 15/32 = 46.8750\n"
     ]
    },
    {
     "name": "stderr",
     "output_type": "stream",
     "text": [
      " 57%|█████████████████████████████████████████████████▏                                    | 108/189 [02:15<01:41,  1.25s/it]"
     ]
    },
    {
     "name": "stdout",
     "output_type": "stream",
     "text": [
      "[2/200][108/189] ========== Loss_D: 1.4576, Loss_G: 1.6567, Acc_G: 12/32 = 37.5000\n"
     ]
    },
    {
     "name": "stderr",
     "output_type": "stream",
     "text": [
      " 58%|█████████████████████████████████████████████████▌                                    | 109/189 [02:16<01:43,  1.29s/it]"
     ]
    },
    {
     "name": "stdout",
     "output_type": "stream",
     "text": [
      "[2/200][109/189] ========== Loss_D: 1.4359, Loss_G: 1.7222, Acc_G: 15/32 = 46.8750\n"
     ]
    },
    {
     "name": "stderr",
     "output_type": "stream",
     "text": [
      " 58%|██████████████████████████████████████████████████                                    | 110/189 [02:18<01:41,  1.29s/it]"
     ]
    },
    {
     "name": "stdout",
     "output_type": "stream",
     "text": [
      "[2/200][110/189] ========== Loss_D: 1.4646, Loss_G: 1.6908, Acc_G: 13/32 = 40.6250\n"
     ]
    },
    {
     "name": "stderr",
     "output_type": "stream",
     "text": [
      " 59%|██████████████████████████████████████████████████▌                                   | 111/189 [02:19<01:47,  1.38s/it]"
     ]
    },
    {
     "name": "stdout",
     "output_type": "stream",
     "text": [
      "[2/200][111/189] ========== Loss_D: 1.4652, Loss_G: 1.6230, Acc_G: 16/32 = 50.0000\n"
     ]
    },
    {
     "name": "stderr",
     "output_type": "stream",
     "text": [
      " 59%|██████████████████████████████████████████████████▉                                   | 112/189 [02:20<01:44,  1.36s/it]"
     ]
    },
    {
     "name": "stdout",
     "output_type": "stream",
     "text": [
      "[2/200][112/189] ========== Loss_D: 1.4399, Loss_G: 1.7822, Acc_G: 18/32 = 56.2500\n"
     ]
    },
    {
     "name": "stderr",
     "output_type": "stream",
     "text": [
      " 60%|███████████████████████████████████████████████████▍                                  | 113/189 [02:22<01:35,  1.26s/it]"
     ]
    },
    {
     "name": "stdout",
     "output_type": "stream",
     "text": [
      "[2/200][113/189] ========== Loss_D: 1.4334, Loss_G: 1.5935, Acc_G: 10/32 = 31.2500\n"
     ]
    },
    {
     "name": "stderr",
     "output_type": "stream",
     "text": [
      " 60%|███████████████████████████████████████████████████▊                                  | 114/189 [02:23<01:37,  1.30s/it]"
     ]
    },
    {
     "name": "stdout",
     "output_type": "stream",
     "text": [
      "[2/200][114/189] ========== Loss_D: 1.4433, Loss_G: 1.6524, Acc_G: 12/32 = 37.5000\n"
     ]
    },
    {
     "name": "stderr",
     "output_type": "stream",
     "text": [
      " 61%|████████████████████████████████████████████████████▎                                 | 115/189 [02:24<01:41,  1.38s/it]"
     ]
    },
    {
     "name": "stdout",
     "output_type": "stream",
     "text": [
      "[2/200][115/189] ========== Loss_D: 1.4685, Loss_G: 1.7343, Acc_G: 19/32 = 59.3750\n"
     ]
    },
    {
     "name": "stderr",
     "output_type": "stream",
     "text": [
      " 61%|████████████████████████████████████████████████████▊                                 | 116/189 [02:26<01:35,  1.30s/it]"
     ]
    },
    {
     "name": "stdout",
     "output_type": "stream",
     "text": [
      "[2/200][116/189] ========== Loss_D: 1.4564, Loss_G: 1.7568, Acc_G: 14/32 = 43.7500\n"
     ]
    },
    {
     "name": "stderr",
     "output_type": "stream",
     "text": [
      " 62%|█████████████████████████████████████████████████████▏                                | 117/189 [02:27<01:37,  1.35s/it]"
     ]
    },
    {
     "name": "stdout",
     "output_type": "stream",
     "text": [
      "[2/200][117/189] ========== Loss_D: 1.4651, Loss_G: 1.5770, Acc_G: 16/32 = 50.0000\n"
     ]
    },
    {
     "name": "stderr",
     "output_type": "stream",
     "text": [
      " 62%|█████████████████████████████████████████████████████▋                                | 118/189 [02:29<01:40,  1.42s/it]"
     ]
    },
    {
     "name": "stdout",
     "output_type": "stream",
     "text": [
      "[2/200][118/189] ========== Loss_D: 1.4651, Loss_G: 1.7516, Acc_G: 14/32 = 43.7500\n"
     ]
    },
    {
     "name": "stderr",
     "output_type": "stream",
     "text": [
      " 63%|██████████████████████████████████████████████████████▏                               | 119/189 [02:30<01:31,  1.31s/it]"
     ]
    },
    {
     "name": "stdout",
     "output_type": "stream",
     "text": [
      "[2/200][119/189] ========== Loss_D: 1.4581, Loss_G: 1.7971, Acc_G: 7/32 = 21.8750\n"
     ]
    },
    {
     "name": "stderr",
     "output_type": "stream",
     "text": [
      " 63%|██████████████████████████████████████████████████████▌                               | 120/189 [02:31<01:27,  1.26s/it]"
     ]
    },
    {
     "name": "stdout",
     "output_type": "stream",
     "text": [
      "[2/200][120/189] ========== Loss_D: 1.4501, Loss_G: 1.6946, Acc_G: 14/32 = 43.7500\n"
     ]
    },
    {
     "name": "stderr",
     "output_type": "stream",
     "text": [
      " 64%|███████████████████████████████████████████████████████                               | 121/189 [02:32<01:16,  1.13s/it]"
     ]
    },
    {
     "name": "stdout",
     "output_type": "stream",
     "text": [
      "[2/200][121/189] ========== Loss_D: 1.4704, Loss_G: 1.7230, Acc_G: 15/32 = 46.8750\n"
     ]
    },
    {
     "name": "stderr",
     "output_type": "stream",
     "text": [
      " 65%|███████████████████████████████████████████████████████▌                              | 122/189 [02:33<01:23,  1.25s/it]"
     ]
    },
    {
     "name": "stdout",
     "output_type": "stream",
     "text": [
      "[2/200][122/189] ========== Loss_D: 1.4650, Loss_G: 1.7523, Acc_G: 12/32 = 37.5000\n"
     ]
    },
    {
     "name": "stderr",
     "output_type": "stream",
     "text": [
      " 65%|███████████████████████████████████████████████████████▉                              | 123/189 [02:34<01:21,  1.24s/it]"
     ]
    },
    {
     "name": "stdout",
     "output_type": "stream",
     "text": [
      "[2/200][123/189] ========== Loss_D: 1.4587, Loss_G: 1.6838, Acc_G: 16/32 = 50.0000\n"
     ]
    },
    {
     "name": "stderr",
     "output_type": "stream",
     "text": [
      " 66%|████████████████████████████████████████████████████████▍                             | 124/189 [02:36<01:19,  1.22s/it]"
     ]
    },
    {
     "name": "stdout",
     "output_type": "stream",
     "text": [
      "[2/200][124/189] ========== Loss_D: 1.4449, Loss_G: 1.6908, Acc_G: 16/32 = 50.0000\n"
     ]
    },
    {
     "name": "stderr",
     "output_type": "stream",
     "text": [
      " 66%|████████████████████████████████████████████████████████▉                             | 125/189 [02:36<01:11,  1.12s/it]"
     ]
    },
    {
     "name": "stdout",
     "output_type": "stream",
     "text": [
      "[2/200][125/189] ========== Loss_D: 1.4498, Loss_G: 1.6453, Acc_G: 15/32 = 46.8750\n"
     ]
    },
    {
     "name": "stderr",
     "output_type": "stream",
     "text": [
      " 67%|█████████████████████████████████████████████████████████▎                            | 126/189 [02:38<01:13,  1.17s/it]"
     ]
    },
    {
     "name": "stdout",
     "output_type": "stream",
     "text": [
      "[2/200][126/189] ========== Loss_D: 1.4509, Loss_G: 1.6512, Acc_G: 17/32 = 53.1250\n"
     ]
    },
    {
     "name": "stderr",
     "output_type": "stream",
     "text": [
      " 67%|█████████████████████████████████████████████████████████▊                            | 127/189 [02:39<01:11,  1.16s/it]"
     ]
    },
    {
     "name": "stdout",
     "output_type": "stream",
     "text": [
      "[2/200][127/189] ========== Loss_D: 1.4629, Loss_G: 1.6305, Acc_G: 20/32 = 62.5000\n"
     ]
    },
    {
     "name": "stderr",
     "output_type": "stream",
     "text": [
      " 68%|██████████████████████████████████████████████████████████▏                           | 128/189 [02:40<01:14,  1.22s/it]"
     ]
    },
    {
     "name": "stdout",
     "output_type": "stream",
     "text": [
      "[2/200][128/189] ========== Loss_D: 1.4546, Loss_G: 1.6898, Acc_G: 14/32 = 43.7500\n"
     ]
    },
    {
     "name": "stderr",
     "output_type": "stream",
     "text": [
      " 68%|██████████████████████████████████████████████████████████▋                           | 129/189 [02:42<01:14,  1.24s/it]"
     ]
    },
    {
     "name": "stdout",
     "output_type": "stream",
     "text": [
      "[2/200][129/189] ========== Loss_D: 1.4548, Loss_G: 1.7074, Acc_G: 16/32 = 50.0000\n"
     ]
    },
    {
     "name": "stderr",
     "output_type": "stream",
     "text": [
      " 69%|███████████████████████████████████████████████████████████▏                          | 130/189 [02:43<01:14,  1.27s/it]"
     ]
    },
    {
     "name": "stdout",
     "output_type": "stream",
     "text": [
      "[2/200][130/189] ========== Loss_D: 1.4515, Loss_G: 1.8101, Acc_G: 18/32 = 56.2500\n"
     ]
    },
    {
     "name": "stderr",
     "output_type": "stream",
     "text": [
      " 69%|███████████████████████████████████████████████████████████▌                          | 131/189 [02:44<01:08,  1.18s/it]"
     ]
    },
    {
     "name": "stdout",
     "output_type": "stream",
     "text": [
      "[2/200][131/189] ========== Loss_D: 1.4624, Loss_G: 1.8370, Acc_G: 15/32 = 46.8750\n"
     ]
    },
    {
     "name": "stderr",
     "output_type": "stream",
     "text": [
      " 70%|████████████████████████████████████████████████████████████                          | 132/189 [02:45<01:07,  1.18s/it]"
     ]
    },
    {
     "name": "stdout",
     "output_type": "stream",
     "text": [
      "[2/200][132/189] ========== Loss_D: 1.4424, Loss_G: 1.7670, Acc_G: 15/32 = 46.8750\n"
     ]
    },
    {
     "name": "stderr",
     "output_type": "stream",
     "text": [
      " 70%|████████████████████████████████████████████████████████████▌                         | 133/189 [02:46<01:09,  1.24s/it]"
     ]
    },
    {
     "name": "stdout",
     "output_type": "stream",
     "text": [
      "[2/200][133/189] ========== Loss_D: 1.4537, Loss_G: 1.7352, Acc_G: 16/32 = 50.0000\n"
     ]
    },
    {
     "name": "stderr",
     "output_type": "stream",
     "text": [
      " 71%|████████████████████████████████████████████████████████████▉                         | 134/189 [02:47<01:04,  1.18s/it]"
     ]
    },
    {
     "name": "stdout",
     "output_type": "stream",
     "text": [
      "[2/200][134/189] ========== Loss_D: 1.4415, Loss_G: 1.6336, Acc_G: 18/32 = 56.2500\n"
     ]
    },
    {
     "name": "stderr",
     "output_type": "stream",
     "text": [
      " 71%|█████████████████████████████████████████████████████████████▍                        | 135/189 [02:49<01:07,  1.25s/it]"
     ]
    },
    {
     "name": "stdout",
     "output_type": "stream",
     "text": [
      "[2/200][135/189] ========== Loss_D: 1.4526, Loss_G: 1.7354, Acc_G: 18/32 = 56.2500\n"
     ]
    },
    {
     "name": "stderr",
     "output_type": "stream",
     "text": [
      " 72%|█████████████████████████████████████████████████████████████▉                        | 136/189 [02:50<01:05,  1.23s/it]"
     ]
    },
    {
     "name": "stdout",
     "output_type": "stream",
     "text": [
      "[2/200][136/189] ========== Loss_D: 1.4468, Loss_G: 1.6370, Acc_G: 15/32 = 46.8750\n"
     ]
    },
    {
     "name": "stderr",
     "output_type": "stream",
     "text": [
      " 72%|██████████████████████████████████████████████████████████████▎                       | 137/189 [02:51<01:00,  1.17s/it]"
     ]
    },
    {
     "name": "stdout",
     "output_type": "stream",
     "text": [
      "[2/200][137/189] ========== Loss_D: 1.4475, Loss_G: 1.7134, Acc_G: 16/32 = 50.0000\n"
     ]
    },
    {
     "name": "stderr",
     "output_type": "stream",
     "text": [
      " 73%|██████████████████████████████████████████████████████████████▊                       | 138/189 [02:52<00:57,  1.13s/it]"
     ]
    },
    {
     "name": "stdout",
     "output_type": "stream",
     "text": [
      "[2/200][138/189] ========== Loss_D: 1.4456, Loss_G: 1.6593, Acc_G: 17/32 = 53.1250\n"
     ]
    },
    {
     "name": "stderr",
     "output_type": "stream",
     "text": [
      " 74%|███████████████████████████████████████████████████████████████▏                      | 139/189 [02:53<00:53,  1.08s/it]"
     ]
    },
    {
     "name": "stdout",
     "output_type": "stream",
     "text": [
      "[2/200][139/189] ========== Loss_D: 1.4658, Loss_G: 1.6919, Acc_G: 14/32 = 43.7500\n"
     ]
    },
    {
     "name": "stderr",
     "output_type": "stream",
     "text": [
      " 74%|███████████████████████████████████████████████████████████████▋                      | 140/189 [02:54<00:54,  1.11s/it]"
     ]
    },
    {
     "name": "stdout",
     "output_type": "stream",
     "text": [
      "[2/200][140/189] ========== Loss_D: 1.4383, Loss_G: 1.7772, Acc_G: 21/32 = 65.6250\n"
     ]
    },
    {
     "name": "stderr",
     "output_type": "stream",
     "text": [
      " 75%|████████████████████████████████████████████████████████████████▏                     | 141/189 [02:56<01:01,  1.28s/it]"
     ]
    },
    {
     "name": "stdout",
     "output_type": "stream",
     "text": [
      "[2/200][141/189] ========== Loss_D: 1.4418, Loss_G: 1.5919, Acc_G: 17/32 = 53.1250\n"
     ]
    },
    {
     "name": "stderr",
     "output_type": "stream",
     "text": [
      " 75%|████████████████████████████████████████████████████████████████▌                     | 142/189 [02:57<01:02,  1.33s/it]"
     ]
    },
    {
     "name": "stdout",
     "output_type": "stream",
     "text": [
      "[2/200][142/189] ========== Loss_D: 1.4673, Loss_G: 1.6778, Acc_G: 15/32 = 46.8750\n"
     ]
    },
    {
     "name": "stderr",
     "output_type": "stream",
     "text": [
      " 76%|█████████████████████████████████████████████████████████████████                     | 143/189 [02:59<01:00,  1.31s/it]"
     ]
    },
    {
     "name": "stdout",
     "output_type": "stream",
     "text": [
      "[2/200][143/189] ========== Loss_D: 1.4635, Loss_G: 1.7589, Acc_G: 18/32 = 56.2500\n"
     ]
    },
    {
     "name": "stderr",
     "output_type": "stream",
     "text": [
      " 76%|█████████████████████████████████████████████████████████████████▌                    | 144/189 [03:00<00:56,  1.27s/it]"
     ]
    },
    {
     "name": "stdout",
     "output_type": "stream",
     "text": [
      "[2/200][144/189] ========== Loss_D: 1.4436, Loss_G: 1.7023, Acc_G: 12/32 = 37.5000\n"
     ]
    },
    {
     "name": "stderr",
     "output_type": "stream",
     "text": [
      " 77%|█████████████████████████████████████████████████████████████████▉                    | 145/189 [03:01<00:54,  1.24s/it]"
     ]
    },
    {
     "name": "stdout",
     "output_type": "stream",
     "text": [
      "[2/200][145/189] ========== Loss_D: 1.4520, Loss_G: 1.7858, Acc_G: 13/32 = 40.6250\n"
     ]
    },
    {
     "name": "stderr",
     "output_type": "stream",
     "text": [
      " 77%|██████████████████████████████████████████████████████████████████▍                   | 146/189 [03:02<00:55,  1.29s/it]"
     ]
    },
    {
     "name": "stdout",
     "output_type": "stream",
     "text": [
      "[2/200][146/189] ========== Loss_D: 1.4639, Loss_G: 1.7029, Acc_G: 17/32 = 53.1250\n"
     ]
    },
    {
     "name": "stderr",
     "output_type": "stream",
     "text": [
      " 78%|██████████████████████████████████████████████████████████████████▉                   | 147/189 [03:04<00:52,  1.26s/it]"
     ]
    },
    {
     "name": "stdout",
     "output_type": "stream",
     "text": [
      "[2/200][147/189] ========== Loss_D: 1.4477, Loss_G: 1.6367, Acc_G: 16/32 = 50.0000\n"
     ]
    },
    {
     "name": "stderr",
     "output_type": "stream",
     "text": [
      " 78%|███████████████████████████████████████████████████████████████████▎                  | 148/189 [03:05<00:52,  1.27s/it]"
     ]
    },
    {
     "name": "stdout",
     "output_type": "stream",
     "text": [
      "[2/200][148/189] ========== Loss_D: 1.4622, Loss_G: 1.6557, Acc_G: 18/32 = 56.2500\n"
     ]
    },
    {
     "name": "stderr",
     "output_type": "stream",
     "text": [
      " 79%|███████████████████████████████████████████████████████████████████▊                  | 149/189 [03:06<00:49,  1.24s/it]"
     ]
    },
    {
     "name": "stdout",
     "output_type": "stream",
     "text": [
      "[2/200][149/189] ========== Loss_D: 1.4376, Loss_G: 1.6609, Acc_G: 20/32 = 62.5000\n"
     ]
    },
    {
     "name": "stderr",
     "output_type": "stream",
     "text": [
      " 79%|████████████████████████████████████████████████████████████████████▎                 | 150/189 [03:07<00:46,  1.20s/it]"
     ]
    },
    {
     "name": "stdout",
     "output_type": "stream",
     "text": [
      "[2/200][150/189] ========== Loss_D: 1.4541, Loss_G: 1.7570, Acc_G: 19/32 = 59.3750\n"
     ]
    },
    {
     "name": "stderr",
     "output_type": "stream",
     "text": [
      " 80%|████████████████████████████████████████████████████████████████████▋                 | 151/189 [03:08<00:46,  1.23s/it]"
     ]
    },
    {
     "name": "stdout",
     "output_type": "stream",
     "text": [
      "[2/200][151/189] ========== Loss_D: 1.4552, Loss_G: 1.6323, Acc_G: 22/32 = 68.7500\n"
     ]
    },
    {
     "name": "stderr",
     "output_type": "stream",
     "text": [
      " 80%|█████████████████████████████████████████████████████████████████████▏                | 152/189 [03:10<00:47,  1.27s/it]"
     ]
    },
    {
     "name": "stdout",
     "output_type": "stream",
     "text": [
      "[2/200][152/189] ========== Loss_D: 1.4425, Loss_G: 1.6306, Acc_G: 16/32 = 50.0000\n"
     ]
    },
    {
     "name": "stderr",
     "output_type": "stream",
     "text": [
      " 81%|█████████████████████████████████████████████████████████████████████▌                | 153/189 [03:11<00:49,  1.37s/it]"
     ]
    },
    {
     "name": "stdout",
     "output_type": "stream",
     "text": [
      "[2/200][153/189] ========== Loss_D: 1.4497, Loss_G: 1.7352, Acc_G: 13/32 = 40.6250\n"
     ]
    },
    {
     "name": "stderr",
     "output_type": "stream",
     "text": [
      " 81%|██████████████████████████████████████████████████████████████████████                | 154/189 [03:13<00:47,  1.37s/it]"
     ]
    },
    {
     "name": "stdout",
     "output_type": "stream",
     "text": [
      "[2/200][154/189] ========== Loss_D: 1.4495, Loss_G: 1.6358, Acc_G: 15/32 = 46.8750\n"
     ]
    },
    {
     "name": "stderr",
     "output_type": "stream",
     "text": [
      " 82%|██████████████████████████████████████████████████████████████████████▌               | 155/189 [03:14<00:47,  1.41s/it]"
     ]
    },
    {
     "name": "stdout",
     "output_type": "stream",
     "text": [
      "[2/200][155/189] ========== Loss_D: 1.4552, Loss_G: 1.7143, Acc_G: 13/32 = 40.6250\n"
     ]
    },
    {
     "name": "stderr",
     "output_type": "stream",
     "text": [
      " 83%|██████████████████████████████████████████████████████████████████████▉               | 156/189 [03:15<00:42,  1.29s/it]"
     ]
    },
    {
     "name": "stdout",
     "output_type": "stream",
     "text": [
      "[2/200][156/189] ========== Loss_D: 1.4422, Loss_G: 1.6395, Acc_G: 13/32 = 40.6250\n"
     ]
    },
    {
     "name": "stderr",
     "output_type": "stream",
     "text": [
      " 83%|███████████████████████████████████████████████████████████████████████▍              | 157/189 [03:17<00:46,  1.46s/it]"
     ]
    },
    {
     "name": "stdout",
     "output_type": "stream",
     "text": [
      "[2/200][157/189] ========== Loss_D: 1.4594, Loss_G: 1.6058, Acc_G: 13/32 = 40.6250\n"
     ]
    },
    {
     "name": "stderr",
     "output_type": "stream",
     "text": [
      " 84%|███████████████████████████████████████████████████████████████████████▉              | 158/189 [03:18<00:42,  1.37s/it]"
     ]
    },
    {
     "name": "stdout",
     "output_type": "stream",
     "text": [
      "[2/200][158/189] ========== Loss_D: 1.4396, Loss_G: 1.7010, Acc_G: 19/32 = 59.3750\n"
     ]
    },
    {
     "name": "stderr",
     "output_type": "stream",
     "text": [
      " 84%|████████████████████████████████████████████████████████████████████████▎             | 159/189 [03:20<00:41,  1.39s/it]"
     ]
    },
    {
     "name": "stdout",
     "output_type": "stream",
     "text": [
      "[2/200][159/189] ========== Loss_D: 1.4556, Loss_G: 1.7281, Acc_G: 20/32 = 62.5000\n"
     ]
    },
    {
     "name": "stderr",
     "output_type": "stream",
     "text": [
      " 85%|████████████████████████████████████████████████████████████████████████▊             | 160/189 [03:21<00:37,  1.29s/it]"
     ]
    },
    {
     "name": "stdout",
     "output_type": "stream",
     "text": [
      "[2/200][160/189] ========== Loss_D: 1.4569, Loss_G: 1.7057, Acc_G: 15/32 = 46.8750\n"
     ]
    },
    {
     "name": "stderr",
     "output_type": "stream",
     "text": [
      " 85%|█████████████████████████████████████████████████████████████████████████▎            | 161/189 [03:22<00:35,  1.25s/it]"
     ]
    },
    {
     "name": "stdout",
     "output_type": "stream",
     "text": [
      "[2/200][161/189] ========== Loss_D: 1.4557, Loss_G: 1.6962, Acc_G: 14/32 = 43.7500\n"
     ]
    },
    {
     "name": "stderr",
     "output_type": "stream",
     "text": [
      " 86%|█████████████████████████████████████████████████████████████████████████▋            | 162/189 [03:23<00:34,  1.28s/it]"
     ]
    },
    {
     "name": "stdout",
     "output_type": "stream",
     "text": [
      "[2/200][162/189] ========== Loss_D: 1.4555, Loss_G: 1.6818, Acc_G: 21/32 = 65.6250\n"
     ]
    },
    {
     "name": "stderr",
     "output_type": "stream",
     "text": [
      " 86%|██████████████████████████████████████████████████████████████████████████▏           | 163/189 [03:25<00:33,  1.27s/it]"
     ]
    },
    {
     "name": "stdout",
     "output_type": "stream",
     "text": [
      "[2/200][163/189] ========== Loss_D: 1.4721, Loss_G: 1.6809, Acc_G: 16/32 = 50.0000\n"
     ]
    },
    {
     "name": "stderr",
     "output_type": "stream",
     "text": [
      " 87%|██████████████████████████████████████████████████████████████████████████▌           | 164/189 [03:26<00:30,  1.22s/it]"
     ]
    },
    {
     "name": "stdout",
     "output_type": "stream",
     "text": [
      "[2/200][164/189] ========== Loss_D: 1.4503, Loss_G: 1.7560, Acc_G: 11/32 = 34.3750\n"
     ]
    },
    {
     "name": "stderr",
     "output_type": "stream",
     "text": [
      " 87%|███████████████████████████████████████████████████████████████████████████           | 165/189 [03:27<00:28,  1.20s/it]"
     ]
    },
    {
     "name": "stdout",
     "output_type": "stream",
     "text": [
      "[2/200][165/189] ========== Loss_D: 1.4523, Loss_G: 1.6236, Acc_G: 16/32 = 50.0000\n"
     ]
    },
    {
     "name": "stderr",
     "output_type": "stream",
     "text": [
      " 88%|███████████████████████████████████████████████████████████████████████████▌          | 166/189 [03:28<00:28,  1.22s/it]"
     ]
    },
    {
     "name": "stdout",
     "output_type": "stream",
     "text": [
      "[2/200][166/189] ========== Loss_D: 1.4618, Loss_G: 1.7228, Acc_G: 13/32 = 40.6250\n"
     ]
    },
    {
     "name": "stderr",
     "output_type": "stream",
     "text": [
      " 88%|███████████████████████████████████████████████████████████████████████████▉          | 167/189 [03:29<00:25,  1.17s/it]"
     ]
    },
    {
     "name": "stdout",
     "output_type": "stream",
     "text": [
      "[2/200][167/189] ========== Loss_D: 1.4640, Loss_G: 1.7039, Acc_G: 20/32 = 62.5000\n"
     ]
    },
    {
     "name": "stderr",
     "output_type": "stream",
     "text": [
      " 89%|████████████████████████████████████████████████████████████████████████████▍         | 168/189 [03:30<00:23,  1.11s/it]"
     ]
    },
    {
     "name": "stdout",
     "output_type": "stream",
     "text": [
      "[2/200][168/189] ========== Loss_D: 1.4536, Loss_G: 1.6165, Acc_G: 14/32 = 43.7500\n"
     ]
    },
    {
     "name": "stderr",
     "output_type": "stream",
     "text": [
      " 89%|████████████████████████████████████████████████████████████████████████████▉         | 169/189 [03:31<00:22,  1.15s/it]"
     ]
    },
    {
     "name": "stdout",
     "output_type": "stream",
     "text": [
      "[2/200][169/189] ========== Loss_D: 1.4405, Loss_G: 1.7557, Acc_G: 17/32 = 53.1250\n"
     ]
    },
    {
     "name": "stderr",
     "output_type": "stream",
     "text": [
      " 90%|█████████████████████████████████████████████████████████████████████████████▎        | 170/189 [03:32<00:21,  1.12s/it]"
     ]
    },
    {
     "name": "stdout",
     "output_type": "stream",
     "text": [
      "[2/200][170/189] ========== Loss_D: 1.4471, Loss_G: 1.7099, Acc_G: 21/32 = 65.6250\n"
     ]
    },
    {
     "name": "stderr",
     "output_type": "stream",
     "text": [
      " 90%|█████████████████████████████████████████████████████████████████████████████▊        | 171/189 [03:33<00:19,  1.09s/it]"
     ]
    },
    {
     "name": "stdout",
     "output_type": "stream",
     "text": [
      "[2/200][171/189] ========== Loss_D: 1.4674, Loss_G: 1.7739, Acc_G: 19/32 = 59.3750\n"
     ]
    },
    {
     "name": "stderr",
     "output_type": "stream",
     "text": [
      " 91%|██████████████████████████████████████████████████████████████████████████████▎       | 172/189 [03:35<00:18,  1.11s/it]"
     ]
    },
    {
     "name": "stdout",
     "output_type": "stream",
     "text": [
      "[2/200][172/189] ========== Loss_D: 1.4541, Loss_G: 1.7157, Acc_G: 19/32 = 59.3750\n"
     ]
    },
    {
     "name": "stderr",
     "output_type": "stream",
     "text": [
      " 92%|██████████████████████████████████████████████████████████████████████████████▋       | 173/189 [03:35<00:16,  1.05s/it]"
     ]
    },
    {
     "name": "stdout",
     "output_type": "stream",
     "text": [
      "[2/200][173/189] ========== Loss_D: 1.4521, Loss_G: 1.5969, Acc_G: 16/32 = 50.0000\n"
     ]
    },
    {
     "name": "stderr",
     "output_type": "stream",
     "text": [
      " 92%|███████████████████████████████████████████████████████████████████████████████▏      | 174/189 [03:37<00:16,  1.11s/it]"
     ]
    },
    {
     "name": "stdout",
     "output_type": "stream",
     "text": [
      "[2/200][174/189] ========== Loss_D: 1.4434, Loss_G: 1.7887, Acc_G: 19/32 = 59.3750\n"
     ]
    },
    {
     "name": "stderr",
     "output_type": "stream",
     "text": [
      " 93%|███████████████████████████████████████████████████████████████████████████████▋      | 175/189 [03:38<00:15,  1.11s/it]"
     ]
    },
    {
     "name": "stdout",
     "output_type": "stream",
     "text": [
      "[2/200][175/189] ========== Loss_D: 1.4410, Loss_G: 1.7684, Acc_G: 17/32 = 53.1250\n"
     ]
    },
    {
     "name": "stderr",
     "output_type": "stream",
     "text": [
      " 93%|████████████████████████████████████████████████████████████████████████████████      | 176/189 [03:39<00:15,  1.17s/it]"
     ]
    },
    {
     "name": "stdout",
     "output_type": "stream",
     "text": [
      "[2/200][176/189] ========== Loss_D: 1.4537, Loss_G: 1.7182, Acc_G: 19/32 = 59.3750\n"
     ]
    },
    {
     "name": "stderr",
     "output_type": "stream",
     "text": [
      " 94%|████████████████████████████████████████████████████████████████████████████████▌     | 177/189 [03:40<00:13,  1.11s/it]"
     ]
    },
    {
     "name": "stdout",
     "output_type": "stream",
     "text": [
      "[2/200][177/189] ========== Loss_D: 1.4454, Loss_G: 1.5884, Acc_G: 17/32 = 53.1250\n"
     ]
    },
    {
     "name": "stderr",
     "output_type": "stream",
     "text": [
      " 94%|████████████████████████████████████████████████████████████████████████████████▉     | 178/189 [03:41<00:12,  1.13s/it]"
     ]
    },
    {
     "name": "stdout",
     "output_type": "stream",
     "text": [
      "[2/200][178/189] ========== Loss_D: 1.4378, Loss_G: 1.7022, Acc_G: 15/32 = 46.8750\n"
     ]
    },
    {
     "name": "stderr",
     "output_type": "stream",
     "text": [
      " 95%|█████████████████████████████████████████████████████████████████████████████████▍    | 179/189 [03:42<00:10,  1.08s/it]"
     ]
    },
    {
     "name": "stdout",
     "output_type": "stream",
     "text": [
      "[2/200][179/189] ========== Loss_D: 1.4468, Loss_G: 1.6676, Acc_G: 18/32 = 56.2500\n"
     ]
    },
    {
     "name": "stderr",
     "output_type": "stream",
     "text": [
      " 95%|█████████████████████████████████████████████████████████████████████████████████▉    | 180/189 [03:44<00:10,  1.14s/it]"
     ]
    },
    {
     "name": "stdout",
     "output_type": "stream",
     "text": [
      "[2/200][180/189] ========== Loss_D: 1.4567, Loss_G: 1.8007, Acc_G: 14/32 = 43.7500\n"
     ]
    },
    {
     "name": "stderr",
     "output_type": "stream",
     "text": [
      " 96%|██████████████████████████████████████████████████████████████████████████████████▎   | 181/189 [03:45<00:09,  1.20s/it]"
     ]
    },
    {
     "name": "stdout",
     "output_type": "stream",
     "text": [
      "[2/200][181/189] ========== Loss_D: 1.4431, Loss_G: 1.7577, Acc_G: 16/32 = 50.0000\n"
     ]
    },
    {
     "name": "stderr",
     "output_type": "stream",
     "text": [
      " 96%|██████████████████████████████████████████████████████████████████████████████████▊   | 182/189 [03:46<00:09,  1.31s/it]"
     ]
    },
    {
     "name": "stdout",
     "output_type": "stream",
     "text": [
      "[2/200][182/189] ========== Loss_D: 1.4580, Loss_G: 1.6689, Acc_G: 17/32 = 53.1250\n"
     ]
    },
    {
     "name": "stderr",
     "output_type": "stream",
     "text": [
      " 97%|███████████████████████████████████████████████████████████████████████████████████▎  | 183/189 [03:47<00:07,  1.22s/it]"
     ]
    },
    {
     "name": "stdout",
     "output_type": "stream",
     "text": [
      "[2/200][183/189] ========== Loss_D: 1.4497, Loss_G: 1.6513, Acc_G: 20/32 = 62.5000\n"
     ]
    },
    {
     "name": "stderr",
     "output_type": "stream",
     "text": [
      " 97%|███████████████████████████████████████████████████████████████████████████████████▋  | 184/189 [03:49<00:05,  1.17s/it]"
     ]
    },
    {
     "name": "stdout",
     "output_type": "stream",
     "text": [
      "[2/200][184/189] ========== Loss_D: 1.4595, Loss_G: 1.7790, Acc_G: 14/32 = 43.7500\n"
     ]
    },
    {
     "name": "stderr",
     "output_type": "stream",
     "text": [
      " 98%|████████████████████████████████████████████████████████████████████████████████████▏ | 185/189 [03:50<00:04,  1.22s/it]"
     ]
    },
    {
     "name": "stdout",
     "output_type": "stream",
     "text": [
      "[2/200][185/189] ========== Loss_D: 1.4469, Loss_G: 1.6966, Acc_G: 20/32 = 62.5000\n"
     ]
    },
    {
     "name": "stderr",
     "output_type": "stream",
     "text": [
      " 98%|████████████████████████████████████████████████████████████████████████████████████▋ | 186/189 [03:51<00:03,  1.19s/it]"
     ]
    },
    {
     "name": "stdout",
     "output_type": "stream",
     "text": [
      "[2/200][186/189] ========== Loss_D: 1.4545, Loss_G: 1.6853, Acc_G: 18/32 = 56.2500\n"
     ]
    },
    {
     "name": "stderr",
     "output_type": "stream",
     "text": [
      " 99%|█████████████████████████████████████████████████████████████████████████████████████ | 187/189 [03:52<00:02,  1.24s/it]"
     ]
    },
    {
     "name": "stdout",
     "output_type": "stream",
     "text": [
      "[2/200][187/189] ========== Loss_D: 1.4566, Loss_G: 1.6966, Acc_G: 20/32 = 62.5000\n"
     ]
    },
    {
     "name": "stderr",
     "output_type": "stream",
     "text": [
      " 99%|█████████████████████████████████████████████████████████████████████████████████████▌| 188/189 [03:54<00:01,  1.25s/it]"
     ]
    },
    {
     "name": "stdout",
     "output_type": "stream",
     "text": [
      "[2/200][188/189] ========== Loss_D: 1.4509, Loss_G: 1.6804, Acc_G: 22/32 = 68.7500\n"
     ]
    },
    {
     "name": "stderr",
     "output_type": "stream",
     "text": [
      "100%|██████████████████████████████████████████████████████████████████████████████████████| 189/189 [03:54<00:00,  1.24s/it]"
     ]
    },
    {
     "name": "stdout",
     "output_type": "stream",
     "text": [
      "[2/200][189/189] ========== Loss_D: 1.4357, Loss_G: 1.7297, Acc_G: 5/8 = 62.5000\n"
     ]
    },
    {
     "name": "stderr",
     "output_type": "stream",
     "text": [
      "\n",
      "  1%|▍                                                                                       | 1/189 [00:02<06:22,  2.03s/it]"
     ]
    },
    {
     "name": "stdout",
     "output_type": "stream",
     "text": [
      "[3/200][1/189] ========== Loss_D: 1.4368, Loss_G: 1.7319, Acc_G: 17/32 = 53.1250\n"
     ]
    },
    {
     "name": "stderr",
     "output_type": "stream",
     "text": [
      "  1%|▉                                                                                       | 2/189 [00:03<04:50,  1.55s/it]"
     ]
    },
    {
     "name": "stdout",
     "output_type": "stream",
     "text": [
      "[3/200][2/189] ========== Loss_D: 1.4519, Loss_G: 1.8015, Acc_G: 21/32 = 65.6250\n"
     ]
    },
    {
     "name": "stderr",
     "output_type": "stream",
     "text": [
      "  2%|█▍                                                                                      | 3/189 [00:04<04:12,  1.36s/it]"
     ]
    },
    {
     "name": "stdout",
     "output_type": "stream",
     "text": [
      "[3/200][3/189] ========== Loss_D: 1.4456, Loss_G: 1.8119, Acc_G: 16/32 = 50.0000\n"
     ]
    },
    {
     "name": "stderr",
     "output_type": "stream",
     "text": [
      "  2%|█▊                                                                                      | 4/189 [00:05<04:16,  1.39s/it]"
     ]
    },
    {
     "name": "stdout",
     "output_type": "stream",
     "text": [
      "[3/200][4/189] ========== Loss_D: 1.4522, Loss_G: 1.6912, Acc_G: 15/32 = 46.8750\n"
     ]
    },
    {
     "name": "stderr",
     "output_type": "stream",
     "text": [
      "  3%|██▎                                                                                     | 5/189 [00:06<03:53,  1.27s/it]"
     ]
    },
    {
     "name": "stdout",
     "output_type": "stream",
     "text": [
      "[3/200][5/189] ========== Loss_D: 1.4510, Loss_G: 1.6440, Acc_G: 17/32 = 53.1250\n"
     ]
    },
    {
     "name": "stderr",
     "output_type": "stream",
     "text": [
      "  3%|██▊                                                                                     | 6/189 [00:08<03:51,  1.26s/it]"
     ]
    },
    {
     "name": "stdout",
     "output_type": "stream",
     "text": [
      "[3/200][6/189] ========== Loss_D: 1.4464, Loss_G: 1.5757, Acc_G: 17/32 = 53.1250\n"
     ]
    },
    {
     "name": "stderr",
     "output_type": "stream",
     "text": [
      "  4%|███▎                                                                                    | 7/189 [00:09<03:53,  1.28s/it]"
     ]
    },
    {
     "name": "stdout",
     "output_type": "stream",
     "text": [
      "[3/200][7/189] ========== Loss_D: 1.4477, Loss_G: 1.7338, Acc_G: 13/32 = 40.6250\n"
     ]
    },
    {
     "name": "stderr",
     "output_type": "stream",
     "text": [
      "  4%|███▋                                                                                    | 8/189 [00:10<03:35,  1.19s/it]"
     ]
    },
    {
     "name": "stdout",
     "output_type": "stream",
     "text": [
      "[3/200][8/189] ========== Loss_D: 1.4472, Loss_G: 1.6723, Acc_G: 17/32 = 53.1250\n"
     ]
    },
    {
     "name": "stderr",
     "output_type": "stream",
     "text": [
      "  5%|████▏                                                                                   | 9/189 [00:11<03:38,  1.22s/it]"
     ]
    },
    {
     "name": "stdout",
     "output_type": "stream",
     "text": [
      "[3/200][9/189] ========== Loss_D: 1.4565, Loss_G: 1.7248, Acc_G: 20/32 = 62.5000\n"
     ]
    },
    {
     "name": "stderr",
     "output_type": "stream",
     "text": [
      "  5%|████▌                                                                                  | 10/189 [00:12<03:42,  1.24s/it]"
     ]
    },
    {
     "name": "stdout",
     "output_type": "stream",
     "text": [
      "[3/200][10/189] ========== Loss_D: 1.4636, Loss_G: 1.7011, Acc_G: 17/32 = 53.1250\n"
     ]
    },
    {
     "name": "stderr",
     "output_type": "stream",
     "text": [
      "  6%|█████                                                                                  | 11/189 [00:14<03:42,  1.25s/it]"
     ]
    },
    {
     "name": "stdout",
     "output_type": "stream",
     "text": [
      "[3/200][11/189] ========== Loss_D: 1.4405, Loss_G: 1.6440, Acc_G: 20/32 = 62.5000\n"
     ]
    },
    {
     "name": "stderr",
     "output_type": "stream",
     "text": [
      "  6%|█████▌                                                                                 | 12/189 [00:15<03:35,  1.22s/it]"
     ]
    },
    {
     "name": "stdout",
     "output_type": "stream",
     "text": [
      "[3/200][12/189] ========== Loss_D: 1.4477, Loss_G: 1.7419, Acc_G: 17/32 = 53.1250\n"
     ]
    },
    {
     "name": "stderr",
     "output_type": "stream",
     "text": [
      "  7%|█████▉                                                                                 | 13/189 [00:16<03:28,  1.19s/it]"
     ]
    },
    {
     "name": "stdout",
     "output_type": "stream",
     "text": [
      "[3/200][13/189] ========== Loss_D: 1.4689, Loss_G: 1.6934, Acc_G: 16/32 = 50.0000\n"
     ]
    },
    {
     "name": "stderr",
     "output_type": "stream",
     "text": [
      "  7%|██████▍                                                                                | 14/189 [00:17<03:33,  1.22s/it]"
     ]
    },
    {
     "name": "stdout",
     "output_type": "stream",
     "text": [
      "[3/200][14/189] ========== Loss_D: 1.4371, Loss_G: 1.7153, Acc_G: 19/32 = 59.3750\n"
     ]
    },
    {
     "name": "stderr",
     "output_type": "stream",
     "text": [
      "  8%|██████▉                                                                                | 15/189 [00:19<03:34,  1.23s/it]"
     ]
    },
    {
     "name": "stdout",
     "output_type": "stream",
     "text": [
      "[3/200][15/189] ========== Loss_D: 1.4457, Loss_G: 1.7252, Acc_G: 21/32 = 65.6250\n"
     ]
    },
    {
     "name": "stderr",
     "output_type": "stream",
     "text": [
      "  8%|███████▎                                                                               | 16/189 [00:20<03:35,  1.25s/it]"
     ]
    },
    {
     "name": "stdout",
     "output_type": "stream",
     "text": [
      "[3/200][16/189] ========== Loss_D: 1.4533, Loss_G: 1.7824, Acc_G: 18/32 = 56.2500\n"
     ]
    },
    {
     "name": "stderr",
     "output_type": "stream",
     "text": [
      "  9%|███████▊                                                                               | 17/189 [00:21<03:20,  1.17s/it]"
     ]
    },
    {
     "name": "stdout",
     "output_type": "stream",
     "text": [
      "[3/200][17/189] ========== Loss_D: 1.4557, Loss_G: 1.7313, Acc_G: 17/32 = 53.1250\n"
     ]
    },
    {
     "name": "stderr",
     "output_type": "stream",
     "text": [
      " 10%|████████▎                                                                              | 18/189 [00:22<03:38,  1.28s/it]"
     ]
    },
    {
     "name": "stdout",
     "output_type": "stream",
     "text": [
      "[3/200][18/189] ========== Loss_D: 1.4532, Loss_G: 1.7253, Acc_G: 19/32 = 59.3750\n"
     ]
    },
    {
     "name": "stderr",
     "output_type": "stream",
     "text": [
      " 10%|████████▋                                                                              | 19/189 [00:24<04:01,  1.42s/it]"
     ]
    },
    {
     "name": "stdout",
     "output_type": "stream",
     "text": [
      "[3/200][19/189] ========== Loss_D: 1.4490, Loss_G: 1.7190, Acc_G: 16/32 = 50.0000\n"
     ]
    },
    {
     "name": "stderr",
     "output_type": "stream",
     "text": [
      " 11%|█████████▏                                                                             | 20/189 [00:25<03:52,  1.38s/it]"
     ]
    },
    {
     "name": "stdout",
     "output_type": "stream",
     "text": [
      "[3/200][20/189] ========== Loss_D: 1.4610, Loss_G: 1.7164, Acc_G: 16/32 = 50.0000\n"
     ]
    },
    {
     "name": "stderr",
     "output_type": "stream",
     "text": [
      " 11%|█████████▋                                                                             | 21/189 [00:27<03:37,  1.29s/it]"
     ]
    },
    {
     "name": "stdout",
     "output_type": "stream",
     "text": [
      "[3/200][21/189] ========== Loss_D: 1.4613, Loss_G: 1.7566, Acc_G: 18/32 = 56.2500\n"
     ]
    },
    {
     "name": "stderr",
     "output_type": "stream",
     "text": [
      " 12%|██████████▏                                                                            | 22/189 [00:28<03:32,  1.27s/it]"
     ]
    },
    {
     "name": "stdout",
     "output_type": "stream",
     "text": [
      "[3/200][22/189] ========== Loss_D: 1.4465, Loss_G: 1.7865, Acc_G: 17/32 = 53.1250\n"
     ]
    },
    {
     "name": "stderr",
     "output_type": "stream",
     "text": [
      " 12%|██████████▌                                                                            | 23/189 [00:29<03:30,  1.27s/it]"
     ]
    },
    {
     "name": "stdout",
     "output_type": "stream",
     "text": [
      "[3/200][23/189] ========== Loss_D: 1.4463, Loss_G: 1.7883, Acc_G: 23/32 = 71.8750\n"
     ]
    },
    {
     "name": "stderr",
     "output_type": "stream",
     "text": [
      " 13%|███████████                                                                            | 24/189 [00:30<03:19,  1.21s/it]"
     ]
    },
    {
     "name": "stdout",
     "output_type": "stream",
     "text": [
      "[3/200][24/189] ========== Loss_D: 1.4520, Loss_G: 1.6406, Acc_G: 19/32 = 59.3750\n"
     ]
    },
    {
     "name": "stderr",
     "output_type": "stream",
     "text": [
      " 13%|███████████▌                                                                           | 25/189 [00:32<03:41,  1.35s/it]"
     ]
    },
    {
     "name": "stdout",
     "output_type": "stream",
     "text": [
      "[3/200][25/189] ========== Loss_D: 1.4395, Loss_G: 1.6648, Acc_G: 17/32 = 53.1250\n"
     ]
    },
    {
     "name": "stderr",
     "output_type": "stream",
     "text": [
      " 14%|███████████▉                                                                           | 26/189 [00:33<03:54,  1.44s/it]"
     ]
    },
    {
     "name": "stdout",
     "output_type": "stream",
     "text": [
      "[3/200][26/189] ========== Loss_D: 1.4522, Loss_G: 1.7249, Acc_G: 19/32 = 59.3750\n"
     ]
    },
    {
     "name": "stderr",
     "output_type": "stream",
     "text": [
      " 14%|████████████▍                                                                          | 27/189 [00:34<03:24,  1.26s/it]"
     ]
    },
    {
     "name": "stdout",
     "output_type": "stream",
     "text": [
      "[3/200][27/189] ========== Loss_D: 1.4638, Loss_G: 1.6854, Acc_G: 15/32 = 46.8750\n"
     ]
    },
    {
     "name": "stderr",
     "output_type": "stream",
     "text": [
      " 15%|████████████▉                                                                          | 28/189 [00:36<03:25,  1.28s/it]"
     ]
    },
    {
     "name": "stdout",
     "output_type": "stream",
     "text": [
      "[3/200][28/189] ========== Loss_D: 1.4438, Loss_G: 1.6960, Acc_G: 13/32 = 40.6250\n"
     ]
    },
    {
     "name": "stderr",
     "output_type": "stream",
     "text": [
      " 15%|█████████████▎                                                                         | 29/189 [00:37<03:26,  1.29s/it]"
     ]
    },
    {
     "name": "stdout",
     "output_type": "stream",
     "text": [
      "[3/200][29/189] ========== Loss_D: 1.4553, Loss_G: 1.6732, Acc_G: 23/32 = 71.8750\n"
     ]
    },
    {
     "name": "stderr",
     "output_type": "stream",
     "text": [
      " 16%|█████████████▊                                                                         | 30/189 [00:38<03:18,  1.25s/it]"
     ]
    },
    {
     "name": "stdout",
     "output_type": "stream",
     "text": [
      "[3/200][30/189] ========== Loss_D: 1.4401, Loss_G: 1.7596, Acc_G: 12/32 = 37.5000\n"
     ]
    },
    {
     "name": "stderr",
     "output_type": "stream",
     "text": [
      " 16%|██████████████▎                                                                        | 31/189 [00:40<03:35,  1.36s/it]"
     ]
    },
    {
     "name": "stdout",
     "output_type": "stream",
     "text": [
      "[3/200][31/189] ========== Loss_D: 1.4431, Loss_G: 1.6109, Acc_G: 15/32 = 46.8750\n"
     ]
    },
    {
     "name": "stderr",
     "output_type": "stream",
     "text": [
      " 17%|██████████████▋                                                                        | 32/189 [00:41<03:16,  1.25s/it]"
     ]
    },
    {
     "name": "stdout",
     "output_type": "stream",
     "text": [
      "[3/200][32/189] ========== Loss_D: 1.4588, Loss_G: 1.5583, Acc_G: 15/32 = 46.8750\n"
     ]
    },
    {
     "name": "stderr",
     "output_type": "stream",
     "text": [
      " 17%|███████████████▏                                                                       | 33/189 [00:42<03:18,  1.27s/it]"
     ]
    },
    {
     "name": "stdout",
     "output_type": "stream",
     "text": [
      "[3/200][33/189] ========== Loss_D: 1.4513, Loss_G: 1.8241, Acc_G: 19/32 = 59.3750\n"
     ]
    },
    {
     "name": "stderr",
     "output_type": "stream",
     "text": [
      " 18%|███████████████▋                                                                       | 34/189 [00:43<03:08,  1.22s/it]"
     ]
    },
    {
     "name": "stdout",
     "output_type": "stream",
     "text": [
      "[3/200][34/189] ========== Loss_D: 1.4282, Loss_G: 1.7057, Acc_G: 11/32 = 34.3750\n"
     ]
    },
    {
     "name": "stderr",
     "output_type": "stream",
     "text": [
      " 19%|████████████████                                                                       | 35/189 [00:44<03:09,  1.23s/it]"
     ]
    },
    {
     "name": "stdout",
     "output_type": "stream",
     "text": [
      "[3/200][35/189] ========== Loss_D: 1.4537, Loss_G: 1.7597, Acc_G: 15/32 = 46.8750\n"
     ]
    },
    {
     "name": "stderr",
     "output_type": "stream",
     "text": [
      " 19%|████████████████▌                                                                      | 36/189 [00:46<03:07,  1.23s/it]"
     ]
    },
    {
     "name": "stdout",
     "output_type": "stream",
     "text": [
      "[3/200][36/189] ========== Loss_D: 1.4587, Loss_G: 1.7198, Acc_G: 14/32 = 43.7500\n"
     ]
    },
    {
     "name": "stderr",
     "output_type": "stream",
     "text": [
      " 20%|█████████████████                                                                      | 37/189 [00:47<02:58,  1.17s/it]"
     ]
    },
    {
     "name": "stdout",
     "output_type": "stream",
     "text": [
      "[3/200][37/189] ========== Loss_D: 1.4580, Loss_G: 1.6410, Acc_G: 15/32 = 46.8750\n"
     ]
    },
    {
     "name": "stderr",
     "output_type": "stream",
     "text": [
      " 20%|█████████████████▍                                                                     | 38/189 [00:48<02:57,  1.18s/it]"
     ]
    },
    {
     "name": "stdout",
     "output_type": "stream",
     "text": [
      "[3/200][38/189] ========== Loss_D: 1.4440, Loss_G: 1.7287, Acc_G: 18/32 = 56.2500\n"
     ]
    },
    {
     "name": "stderr",
     "output_type": "stream",
     "text": [
      " 21%|█████████████████▉                                                                     | 39/189 [00:49<02:56,  1.17s/it]"
     ]
    },
    {
     "name": "stdout",
     "output_type": "stream",
     "text": [
      "[3/200][39/189] ========== Loss_D: 1.4558, Loss_G: 1.6535, Acc_G: 17/32 = 53.1250\n"
     ]
    },
    {
     "name": "stderr",
     "output_type": "stream",
     "text": [
      " 21%|██████████████████▍                                                                    | 40/189 [00:50<02:59,  1.21s/it]"
     ]
    },
    {
     "name": "stdout",
     "output_type": "stream",
     "text": [
      "[3/200][40/189] ========== Loss_D: 1.4601, Loss_G: 1.6371, Acc_G: 13/32 = 40.6250\n"
     ]
    },
    {
     "name": "stderr",
     "output_type": "stream",
     "text": [
      " 22%|██████████████████▊                                                                    | 41/189 [00:52<03:11,  1.29s/it]"
     ]
    },
    {
     "name": "stdout",
     "output_type": "stream",
     "text": [
      "[3/200][41/189] ========== Loss_D: 1.4560, Loss_G: 1.7518, Acc_G: 18/32 = 56.2500\n"
     ]
    },
    {
     "name": "stderr",
     "output_type": "stream",
     "text": [
      " 22%|███████████████████▎                                                                   | 42/189 [00:53<03:06,  1.27s/it]"
     ]
    },
    {
     "name": "stdout",
     "output_type": "stream",
     "text": [
      "[3/200][42/189] ========== Loss_D: 1.4482, Loss_G: 1.6353, Acc_G: 15/32 = 46.8750\n"
     ]
    },
    {
     "name": "stderr",
     "output_type": "stream",
     "text": [
      " 23%|███████████████████▊                                                                   | 43/189 [00:54<02:53,  1.19s/it]"
     ]
    },
    {
     "name": "stdout",
     "output_type": "stream",
     "text": [
      "[3/200][43/189] ========== Loss_D: 1.4476, Loss_G: 1.6820, Acc_G: 20/32 = 62.5000\n"
     ]
    },
    {
     "name": "stderr",
     "output_type": "stream",
     "text": [
      " 23%|████████████████████▎                                                                  | 44/189 [00:55<02:42,  1.12s/it]"
     ]
    },
    {
     "name": "stdout",
     "output_type": "stream",
     "text": [
      "[3/200][44/189] ========== Loss_D: 1.4531, Loss_G: 1.6549, Acc_G: 13/32 = 40.6250\n"
     ]
    },
    {
     "name": "stderr",
     "output_type": "stream",
     "text": [
      " 24%|████████████████████▋                                                                  | 45/189 [00:56<02:42,  1.13s/it]"
     ]
    },
    {
     "name": "stdout",
     "output_type": "stream",
     "text": [
      "[3/200][45/189] ========== Loss_D: 1.4655, Loss_G: 1.7759, Acc_G: 19/32 = 59.3750\n"
     ]
    },
    {
     "name": "stderr",
     "output_type": "stream",
     "text": [
      " 24%|█████████████████████▏                                                                 | 46/189 [00:57<02:35,  1.09s/it]"
     ]
    },
    {
     "name": "stdout",
     "output_type": "stream",
     "text": [
      "[3/200][46/189] ========== Loss_D: 1.4455, Loss_G: 1.6470, Acc_G: 9/32 = 28.1250\n"
     ]
    },
    {
     "name": "stderr",
     "output_type": "stream",
     "text": [
      " 25%|█████████████████████▋                                                                 | 47/189 [00:59<02:55,  1.24s/it]"
     ]
    },
    {
     "name": "stdout",
     "output_type": "stream",
     "text": [
      "[3/200][47/189] ========== Loss_D: 1.4497, Loss_G: 1.6821, Acc_G: 21/32 = 65.6250\n"
     ]
    },
    {
     "name": "stderr",
     "output_type": "stream",
     "text": [
      " 25%|██████████████████████                                                                 | 48/189 [01:00<02:45,  1.17s/it]"
     ]
    },
    {
     "name": "stdout",
     "output_type": "stream",
     "text": [
      "[3/200][48/189] ========== Loss_D: 1.4429, Loss_G: 1.6874, Acc_G: 17/32 = 53.1250\n"
     ]
    },
    {
     "name": "stderr",
     "output_type": "stream",
     "text": [
      " 26%|██████████████████████▌                                                                | 49/189 [01:01<02:52,  1.23s/it]"
     ]
    },
    {
     "name": "stdout",
     "output_type": "stream",
     "text": [
      "[3/200][49/189] ========== Loss_D: 1.4599, Loss_G: 1.6916, Acc_G: 19/32 = 59.3750\n"
     ]
    },
    {
     "name": "stderr",
     "output_type": "stream",
     "text": [
      " 26%|███████████████████████                                                                | 50/189 [01:02<02:48,  1.21s/it]"
     ]
    },
    {
     "name": "stdout",
     "output_type": "stream",
     "text": [
      "[3/200][50/189] ========== Loss_D: 1.4375, Loss_G: 1.5997, Acc_G: 21/32 = 65.6250\n"
     ]
    },
    {
     "name": "stderr",
     "output_type": "stream",
     "text": [
      " 27%|███████████████████████▍                                                               | 51/189 [01:03<02:43,  1.18s/it]"
     ]
    },
    {
     "name": "stdout",
     "output_type": "stream",
     "text": [
      "[3/200][51/189] ========== Loss_D: 1.4562, Loss_G: 1.8660, Acc_G: 22/32 = 68.7500\n"
     ]
    },
    {
     "name": "stderr",
     "output_type": "stream",
     "text": [
      " 28%|███████████████████████▉                                                               | 52/189 [01:04<02:43,  1.19s/it]"
     ]
    },
    {
     "name": "stdout",
     "output_type": "stream",
     "text": [
      "[3/200][52/189] ========== Loss_D: 1.4480, Loss_G: 1.6879, Acc_G: 18/32 = 56.2500\n"
     ]
    },
    {
     "name": "stderr",
     "output_type": "stream",
     "text": [
      " 28%|████████████████████████▍                                                              | 53/189 [01:06<02:47,  1.23s/it]"
     ]
    },
    {
     "name": "stdout",
     "output_type": "stream",
     "text": [
      "[3/200][53/189] ========== Loss_D: 1.4440, Loss_G: 1.5878, Acc_G: 12/32 = 37.5000\n"
     ]
    },
    {
     "name": "stderr",
     "output_type": "stream",
     "text": [
      " 29%|████████████████████████▊                                                              | 54/189 [01:07<02:57,  1.32s/it]"
     ]
    },
    {
     "name": "stdout",
     "output_type": "stream",
     "text": [
      "[3/200][54/189] ========== Loss_D: 1.4645, Loss_G: 1.7338, Acc_G: 16/32 = 50.0000\n"
     ]
    },
    {
     "name": "stderr",
     "output_type": "stream",
     "text": [
      " 29%|█████████████████████████▎                                                             | 55/189 [01:09<02:55,  1.31s/it]"
     ]
    },
    {
     "name": "stdout",
     "output_type": "stream",
     "text": [
      "[3/200][55/189] ========== Loss_D: 1.4454, Loss_G: 1.6820, Acc_G: 15/32 = 46.8750\n"
     ]
    },
    {
     "name": "stderr",
     "output_type": "stream",
     "text": [
      " 30%|█████████████████████████▊                                                             | 56/189 [01:10<02:42,  1.22s/it]"
     ]
    },
    {
     "name": "stdout",
     "output_type": "stream",
     "text": [
      "[3/200][56/189] ========== Loss_D: 1.4460, Loss_G: 1.5734, Acc_G: 15/32 = 46.8750\n"
     ]
    },
    {
     "name": "stderr",
     "output_type": "stream",
     "text": [
      " 30%|██████████████████████████▏                                                            | 57/189 [01:11<02:36,  1.19s/it]"
     ]
    },
    {
     "name": "stdout",
     "output_type": "stream",
     "text": [
      "[3/200][57/189] ========== Loss_D: 1.4423, Loss_G: 1.7693, Acc_G: 14/32 = 43.7500\n"
     ]
    },
    {
     "name": "stderr",
     "output_type": "stream",
     "text": [
      " 31%|██████████████████████████▋                                                            | 58/189 [01:12<02:33,  1.17s/it]"
     ]
    },
    {
     "name": "stdout",
     "output_type": "stream",
     "text": [
      "[3/200][58/189] ========== Loss_D: 1.4454, Loss_G: 1.6680, Acc_G: 15/32 = 46.8750\n"
     ]
    },
    {
     "name": "stderr",
     "output_type": "stream",
     "text": [
      " 31%|███████████████████████████▏                                                           | 59/189 [01:13<02:40,  1.23s/it]"
     ]
    },
    {
     "name": "stdout",
     "output_type": "stream",
     "text": [
      "[3/200][59/189] ========== Loss_D: 1.4509, Loss_G: 1.8038, Acc_G: 16/32 = 50.0000\n"
     ]
    },
    {
     "name": "stderr",
     "output_type": "stream",
     "text": [
      " 32%|███████████████████████████▌                                                           | 60/189 [01:15<02:43,  1.27s/it]"
     ]
    },
    {
     "name": "stdout",
     "output_type": "stream",
     "text": [
      "[3/200][60/189] ========== Loss_D: 1.4630, Loss_G: 1.7118, Acc_G: 15/32 = 46.8750\n"
     ]
    },
    {
     "name": "stderr",
     "output_type": "stream",
     "text": [
      " 32%|████████████████████████████                                                           | 61/189 [01:16<02:42,  1.27s/it]"
     ]
    },
    {
     "name": "stdout",
     "output_type": "stream",
     "text": [
      "[3/200][61/189] ========== Loss_D: 1.4329, Loss_G: 1.7129, Acc_G: 17/32 = 53.1250\n"
     ]
    },
    {
     "name": "stderr",
     "output_type": "stream",
     "text": [
      " 33%|████████████████████████████▌                                                          | 62/189 [01:17<02:36,  1.23s/it]"
     ]
    },
    {
     "name": "stdout",
     "output_type": "stream",
     "text": [
      "[3/200][62/189] ========== Loss_D: 1.4596, Loss_G: 1.6576, Acc_G: 17/32 = 53.1250\n"
     ]
    },
    {
     "name": "stderr",
     "output_type": "stream",
     "text": [
      " 33%|█████████████████████████████                                                          | 63/189 [01:18<02:30,  1.20s/it]"
     ]
    },
    {
     "name": "stdout",
     "output_type": "stream",
     "text": [
      "[3/200][63/189] ========== Loss_D: 1.4555, Loss_G: 1.7924, Acc_G: 18/32 = 56.2500\n"
     ]
    },
    {
     "name": "stderr",
     "output_type": "stream",
     "text": [
      " 34%|█████████████████████████████▍                                                         | 64/189 [01:19<02:21,  1.13s/it]"
     ]
    },
    {
     "name": "stdout",
     "output_type": "stream",
     "text": [
      "[3/200][64/189] ========== Loss_D: 1.4461, Loss_G: 1.6115, Acc_G: 16/32 = 50.0000\n"
     ]
    },
    {
     "name": "stderr",
     "output_type": "stream",
     "text": [
      " 34%|█████████████████████████████▉                                                         | 65/189 [01:21<02:31,  1.22s/it]"
     ]
    },
    {
     "name": "stdout",
     "output_type": "stream",
     "text": [
      "[3/200][65/189] ========== Loss_D: 1.4531, Loss_G: 1.6128, Acc_G: 19/32 = 59.3750\n"
     ]
    },
    {
     "name": "stderr",
     "output_type": "stream",
     "text": [
      " 35%|██████████████████████████████▍                                                        | 66/189 [01:22<02:33,  1.24s/it]"
     ]
    },
    {
     "name": "stdout",
     "output_type": "stream",
     "text": [
      "[3/200][66/189] ========== Loss_D: 1.4693, Loss_G: 1.6169, Acc_G: 19/32 = 59.3750\n"
     ]
    },
    {
     "name": "stderr",
     "output_type": "stream",
     "text": [
      " 35%|██████████████████████████████▊                                                        | 67/189 [01:23<02:28,  1.22s/it]"
     ]
    },
    {
     "name": "stdout",
     "output_type": "stream",
     "text": [
      "[3/200][67/189] ========== Loss_D: 1.4597, Loss_G: 1.7096, Acc_G: 18/32 = 56.2500\n"
     ]
    },
    {
     "name": "stderr",
     "output_type": "stream",
     "text": [
      " 36%|███████████████████████████████▎                                                       | 68/189 [01:24<02:25,  1.20s/it]"
     ]
    },
    {
     "name": "stdout",
     "output_type": "stream",
     "text": [
      "[3/200][68/189] ========== Loss_D: 1.4420, Loss_G: 1.6757, Acc_G: 19/32 = 59.3750\n"
     ]
    },
    {
     "name": "stderr",
     "output_type": "stream",
     "text": [
      " 37%|███████████████████████████████▊                                                       | 69/189 [01:25<02:24,  1.20s/it]"
     ]
    },
    {
     "name": "stdout",
     "output_type": "stream",
     "text": [
      "[3/200][69/189] ========== Loss_D: 1.4576, Loss_G: 1.6908, Acc_G: 17/32 = 53.1250\n"
     ]
    },
    {
     "name": "stderr",
     "output_type": "stream",
     "text": [
      " 37%|████████████████████████████████▏                                                      | 70/189 [01:27<02:24,  1.21s/it]"
     ]
    },
    {
     "name": "stdout",
     "output_type": "stream",
     "text": [
      "[3/200][70/189] ========== Loss_D: 1.4566, Loss_G: 1.6957, Acc_G: 16/32 = 50.0000\n"
     ]
    },
    {
     "name": "stderr",
     "output_type": "stream",
     "text": [
      " 38%|████████████████████████████████▋                                                      | 71/189 [01:28<02:20,  1.19s/it]"
     ]
    },
    {
     "name": "stdout",
     "output_type": "stream",
     "text": [
      "[3/200][71/189] ========== Loss_D: 1.4488, Loss_G: 1.6495, Acc_G: 19/32 = 59.3750\n"
     ]
    },
    {
     "name": "stderr",
     "output_type": "stream",
     "text": [
      " 38%|█████████████████████████████████▏                                                     | 72/189 [01:29<02:17,  1.18s/it]"
     ]
    },
    {
     "name": "stdout",
     "output_type": "stream",
     "text": [
      "[3/200][72/189] ========== Loss_D: 1.4519, Loss_G: 1.7382, Acc_G: 20/32 = 62.5000\n"
     ]
    },
    {
     "name": "stderr",
     "output_type": "stream",
     "text": [
      " 39%|█████████████████████████████████▌                                                     | 73/189 [01:30<02:07,  1.10s/it]"
     ]
    },
    {
     "name": "stdout",
     "output_type": "stream",
     "text": [
      "[3/200][73/189] ========== Loss_D: 1.4511, Loss_G: 1.5390, Acc_G: 24/32 = 75.0000\n",
      "---------------------< lowest loss update -> 2.990086793899536 >---------------------\n"
     ]
    },
    {
     "name": "stderr",
     "output_type": "stream",
     "text": [
      " 39%|██████████████████████████████████                                                     | 74/189 [01:31<02:13,  1.16s/it]"
     ]
    },
    {
     "name": "stdout",
     "output_type": "stream",
     "text": [
      "[3/200][74/189] ========== Loss_D: 1.4496, Loss_G: 1.7183, Acc_G: 14/32 = 43.7500\n"
     ]
    },
    {
     "name": "stderr",
     "output_type": "stream",
     "text": [
      " 40%|██████████████████████████████████▌                                                    | 75/189 [01:32<02:06,  1.11s/it]"
     ]
    },
    {
     "name": "stdout",
     "output_type": "stream",
     "text": [
      "[3/200][75/189] ========== Loss_D: 1.4610, Loss_G: 1.7022, Acc_G: 11/32 = 34.3750\n"
     ]
    },
    {
     "name": "stderr",
     "output_type": "stream",
     "text": [
      " 40%|██████████████████████████████████▉                                                    | 76/189 [01:33<02:13,  1.18s/it]"
     ]
    },
    {
     "name": "stdout",
     "output_type": "stream",
     "text": [
      "[3/200][76/189] ========== Loss_D: 1.4635, Loss_G: 1.6185, Acc_G: 22/32 = 68.7500\n"
     ]
    },
    {
     "name": "stderr",
     "output_type": "stream",
     "text": [
      " 41%|███████████████████████████████████▍                                                   | 77/189 [01:35<02:13,  1.20s/it]"
     ]
    },
    {
     "name": "stdout",
     "output_type": "stream",
     "text": [
      "[3/200][77/189] ========== Loss_D: 1.4521, Loss_G: 1.6836, Acc_G: 18/32 = 56.2500\n"
     ]
    },
    {
     "name": "stderr",
     "output_type": "stream",
     "text": [
      " 41%|███████████████████████████████████▉                                                   | 78/189 [01:36<02:19,  1.26s/it]"
     ]
    },
    {
     "name": "stdout",
     "output_type": "stream",
     "text": [
      "[3/200][78/189] ========== Loss_D: 1.4580, Loss_G: 1.5861, Acc_G: 17/32 = 53.1250\n"
     ]
    },
    {
     "name": "stderr",
     "output_type": "stream",
     "text": [
      " 42%|████████████████████████████████████▎                                                  | 79/189 [01:37<02:14,  1.22s/it]"
     ]
    },
    {
     "name": "stdout",
     "output_type": "stream",
     "text": [
      "[3/200][79/189] ========== Loss_D: 1.4605, Loss_G: 1.7789, Acc_G: 14/32 = 43.7500\n"
     ]
    },
    {
     "name": "stderr",
     "output_type": "stream",
     "text": [
      " 42%|████████████████████████████████████▊                                                  | 80/189 [01:38<02:14,  1.24s/it]"
     ]
    },
    {
     "name": "stdout",
     "output_type": "stream",
     "text": [
      "[3/200][80/189] ========== Loss_D: 1.4669, Loss_G: 1.7151, Acc_G: 18/32 = 56.2500\n"
     ]
    },
    {
     "name": "stderr",
     "output_type": "stream",
     "text": [
      " 43%|█████████████████████████████████████▎                                                 | 81/189 [01:40<02:17,  1.28s/it]"
     ]
    },
    {
     "name": "stdout",
     "output_type": "stream",
     "text": [
      "[3/200][81/189] ========== Loss_D: 1.4618, Loss_G: 1.7069, Acc_G: 12/32 = 37.5000\n"
     ]
    },
    {
     "name": "stderr",
     "output_type": "stream",
     "text": [
      " 43%|█████████████████████████████████████▋                                                 | 82/189 [01:41<02:17,  1.28s/it]"
     ]
    },
    {
     "name": "stdout",
     "output_type": "stream",
     "text": [
      "[3/200][82/189] ========== Loss_D: 1.4475, Loss_G: 1.7984, Acc_G: 18/32 = 56.2500\n"
     ]
    },
    {
     "name": "stderr",
     "output_type": "stream",
     "text": [
      " 44%|██████████████████████████████████████▏                                                | 83/189 [01:42<02:11,  1.24s/it]"
     ]
    },
    {
     "name": "stdout",
     "output_type": "stream",
     "text": [
      "[3/200][83/189] ========== Loss_D: 1.4394, Loss_G: 1.6607, Acc_G: 17/32 = 53.1250\n"
     ]
    },
    {
     "name": "stderr",
     "output_type": "stream",
     "text": [
      " 44%|██████████████████████████████████████▋                                                | 84/189 [01:44<02:09,  1.23s/it]"
     ]
    },
    {
     "name": "stdout",
     "output_type": "stream",
     "text": [
      "[3/200][84/189] ========== Loss_D: 1.4452, Loss_G: 1.7535, Acc_G: 19/32 = 59.3750\n"
     ]
    },
    {
     "name": "stderr",
     "output_type": "stream",
     "text": [
      " 45%|███████████████████████████████████████▏                                               | 85/189 [01:45<02:08,  1.24s/it]"
     ]
    },
    {
     "name": "stdout",
     "output_type": "stream",
     "text": [
      "[3/200][85/189] ========== Loss_D: 1.4407, Loss_G: 1.7309, Acc_G: 17/32 = 53.1250\n"
     ]
    },
    {
     "name": "stderr",
     "output_type": "stream",
     "text": [
      " 46%|███████████████████████████████████████▌                                               | 86/189 [01:46<02:08,  1.25s/it]"
     ]
    },
    {
     "name": "stdout",
     "output_type": "stream",
     "text": [
      "[3/200][86/189] ========== Loss_D: 1.4465, Loss_G: 1.6094, Acc_G: 17/32 = 53.1250\n"
     ]
    },
    {
     "name": "stderr",
     "output_type": "stream",
     "text": [
      " 46%|████████████████████████████████████████                                               | 87/189 [01:47<02:00,  1.19s/it]"
     ]
    },
    {
     "name": "stdout",
     "output_type": "stream",
     "text": [
      "[3/200][87/189] ========== Loss_D: 1.4447, Loss_G: 1.6686, Acc_G: 17/32 = 53.1250\n"
     ]
    },
    {
     "name": "stderr",
     "output_type": "stream",
     "text": [
      " 47%|████████████████████████████████████████▌                                              | 88/189 [01:49<02:07,  1.26s/it]"
     ]
    },
    {
     "name": "stdout",
     "output_type": "stream",
     "text": [
      "[3/200][88/189] ========== Loss_D: 1.4524, Loss_G: 1.6509, Acc_G: 20/32 = 62.5000\n"
     ]
    },
    {
     "name": "stderr",
     "output_type": "stream",
     "text": [
      " 47%|████████████████████████████████████████▉                                              | 89/189 [01:50<02:05,  1.26s/it]"
     ]
    },
    {
     "name": "stdout",
     "output_type": "stream",
     "text": [
      "[3/200][89/189] ========== Loss_D: 1.4571, Loss_G: 1.6702, Acc_G: 17/32 = 53.1250\n"
     ]
    },
    {
     "name": "stderr",
     "output_type": "stream",
     "text": [
      " 48%|█████████████████████████████████████████▍                                             | 90/189 [01:51<02:05,  1.27s/it]"
     ]
    },
    {
     "name": "stdout",
     "output_type": "stream",
     "text": [
      "[3/200][90/189] ========== Loss_D: 1.4514, Loss_G: 1.6577, Acc_G: 20/32 = 62.5000\n"
     ]
    },
    {
     "name": "stderr",
     "output_type": "stream",
     "text": [
      " 48%|█████████████████████████████████████████▉                                             | 91/189 [01:53<02:09,  1.32s/it]"
     ]
    },
    {
     "name": "stdout",
     "output_type": "stream",
     "text": [
      "[3/200][91/189] ========== Loss_D: 1.4426, Loss_G: 1.7255, Acc_G: 21/32 = 65.6250\n"
     ]
    },
    {
     "name": "stderr",
     "output_type": "stream",
     "text": [
      " 49%|██████████████████████████████████████████▎                                            | 92/189 [01:54<02:05,  1.30s/it]"
     ]
    },
    {
     "name": "stdout",
     "output_type": "stream",
     "text": [
      "[3/200][92/189] ========== Loss_D: 1.4477, Loss_G: 1.6797, Acc_G: 12/32 = 37.5000\n"
     ]
    },
    {
     "name": "stderr",
     "output_type": "stream",
     "text": [
      " 49%|██████████████████████████████████████████▊                                            | 93/189 [01:55<02:11,  1.36s/it]"
     ]
    },
    {
     "name": "stdout",
     "output_type": "stream",
     "text": [
      "[3/200][93/189] ========== Loss_D: 1.4570, Loss_G: 1.6323, Acc_G: 15/32 = 46.8750\n"
     ]
    },
    {
     "name": "stderr",
     "output_type": "stream",
     "text": [
      " 50%|███████████████████████████████████████████▎                                           | 94/189 [01:57<02:11,  1.39s/it]"
     ]
    },
    {
     "name": "stdout",
     "output_type": "stream",
     "text": [
      "[3/200][94/189] ========== Loss_D: 1.4534, Loss_G: 1.7339, Acc_G: 17/32 = 53.1250\n"
     ]
    },
    {
     "name": "stderr",
     "output_type": "stream",
     "text": [
      " 50%|███████████████████████████████████████████▋                                           | 95/189 [01:58<02:14,  1.43s/it]"
     ]
    },
    {
     "name": "stdout",
     "output_type": "stream",
     "text": [
      "[3/200][95/189] ========== Loss_D: 1.4469, Loss_G: 1.6496, Acc_G: 17/32 = 53.1250\n"
     ]
    },
    {
     "name": "stderr",
     "output_type": "stream",
     "text": [
      " 51%|████████████████████████████████████████████▏                                          | 96/189 [02:00<02:10,  1.40s/it]"
     ]
    },
    {
     "name": "stdout",
     "output_type": "stream",
     "text": [
      "[3/200][96/189] ========== Loss_D: 1.4383, Loss_G: 1.6701, Acc_G: 14/32 = 43.7500\n"
     ]
    },
    {
     "name": "stderr",
     "output_type": "stream",
     "text": [
      " 51%|████████████████████████████████████████████▋                                          | 97/189 [02:01<02:06,  1.37s/it]"
     ]
    },
    {
     "name": "stdout",
     "output_type": "stream",
     "text": [
      "[3/200][97/189] ========== Loss_D: 1.4351, Loss_G: 1.7920, Acc_G: 22/32 = 68.7500\n"
     ]
    },
    {
     "name": "stderr",
     "output_type": "stream",
     "text": [
      " 52%|█████████████████████████████████████████████                                          | 98/189 [02:02<01:54,  1.26s/it]"
     ]
    },
    {
     "name": "stdout",
     "output_type": "stream",
     "text": [
      "[3/200][98/189] ========== Loss_D: 1.4540, Loss_G: 1.7126, Acc_G: 19/32 = 59.3750\n"
     ]
    },
    {
     "name": "stderr",
     "output_type": "stream",
     "text": [
      " 52%|█████████████████████████████████████████████▌                                         | 99/189 [02:03<01:50,  1.23s/it]"
     ]
    },
    {
     "name": "stdout",
     "output_type": "stream",
     "text": [
      "[3/200][99/189] ========== Loss_D: 1.4539, Loss_G: 1.6314, Acc_G: 20/32 = 62.5000\n"
     ]
    },
    {
     "name": "stderr",
     "output_type": "stream",
     "text": [
      " 53%|█████████████████████████████████████████████▌                                        | 100/189 [02:04<01:39,  1.12s/it]"
     ]
    },
    {
     "name": "stdout",
     "output_type": "stream",
     "text": [
      "[3/200][100/189] ========== Loss_D: 1.4407, Loss_G: 1.6914, Acc_G: 19/32 = 59.3750\n"
     ]
    },
    {
     "name": "stderr",
     "output_type": "stream",
     "text": [
      " 53%|█████████████████████████████████████████████▉                                        | 101/189 [02:05<01:48,  1.24s/it]"
     ]
    },
    {
     "name": "stdout",
     "output_type": "stream",
     "text": [
      "[3/200][101/189] ========== Loss_D: 1.4412, Loss_G: 1.6255, Acc_G: 19/32 = 59.3750\n"
     ]
    },
    {
     "name": "stderr",
     "output_type": "stream",
     "text": [
      " 54%|██████████████████████████████████████████████▍                                       | 102/189 [02:07<01:47,  1.23s/it]"
     ]
    },
    {
     "name": "stdout",
     "output_type": "stream",
     "text": [
      "[3/200][102/189] ========== Loss_D: 1.4447, Loss_G: 1.7694, Acc_G: 18/32 = 56.2500\n"
     ]
    },
    {
     "name": "stderr",
     "output_type": "stream",
     "text": [
      " 54%|██████████████████████████████████████████████▊                                       | 103/189 [02:08<01:52,  1.31s/it]"
     ]
    },
    {
     "name": "stdout",
     "output_type": "stream",
     "text": [
      "[3/200][103/189] ========== Loss_D: 1.4430, Loss_G: 1.7879, Acc_G: 17/32 = 53.1250\n"
     ]
    },
    {
     "name": "stderr",
     "output_type": "stream",
     "text": [
      " 55%|███████████████████████████████████████████████▎                                      | 104/189 [02:09<01:41,  1.20s/it]"
     ]
    },
    {
     "name": "stdout",
     "output_type": "stream",
     "text": [
      "[3/200][104/189] ========== Loss_D: 1.4444, Loss_G: 1.6957, Acc_G: 16/32 = 50.0000\n"
     ]
    },
    {
     "name": "stderr",
     "output_type": "stream",
     "text": [
      " 56%|███████████████████████████████████████████████▊                                      | 105/189 [02:10<01:36,  1.14s/it]"
     ]
    },
    {
     "name": "stdout",
     "output_type": "stream",
     "text": [
      "[3/200][105/189] ========== Loss_D: 1.4426, Loss_G: 1.7245, Acc_G: 15/32 = 46.8750\n"
     ]
    },
    {
     "name": "stderr",
     "output_type": "stream",
     "text": [
      " 56%|████████████████████████████████████████████████▏                                     | 106/189 [02:11<01:41,  1.23s/it]"
     ]
    },
    {
     "name": "stdout",
     "output_type": "stream",
     "text": [
      "[3/200][106/189] ========== Loss_D: 1.4586, Loss_G: 1.7064, Acc_G: 20/32 = 62.5000\n"
     ]
    },
    {
     "name": "stderr",
     "output_type": "stream",
     "text": [
      " 57%|████████████████████████████████████████████████▋                                     | 107/189 [02:13<01:41,  1.24s/it]"
     ]
    },
    {
     "name": "stdout",
     "output_type": "stream",
     "text": [
      "[3/200][107/189] ========== Loss_D: 1.4422, Loss_G: 1.7108, Acc_G: 15/32 = 46.8750\n"
     ]
    },
    {
     "name": "stderr",
     "output_type": "stream",
     "text": [
      " 57%|█████████████████████████████████████████████████▏                                    | 108/189 [02:14<01:39,  1.23s/it]"
     ]
    },
    {
     "name": "stdout",
     "output_type": "stream",
     "text": [
      "[3/200][108/189] ========== Loss_D: 1.4534, Loss_G: 1.5543, Acc_G: 19/32 = 59.3750\n"
     ]
    },
    {
     "name": "stderr",
     "output_type": "stream",
     "text": [
      " 58%|█████████████████████████████████████████████████▌                                    | 109/189 [02:15<01:45,  1.31s/it]"
     ]
    },
    {
     "name": "stdout",
     "output_type": "stream",
     "text": [
      "[3/200][109/189] ========== Loss_D: 1.4500, Loss_G: 1.7244, Acc_G: 16/32 = 50.0000\n"
     ]
    },
    {
     "name": "stderr",
     "output_type": "stream",
     "text": [
      " 58%|██████████████████████████████████████████████████                                    | 110/189 [02:17<01:52,  1.43s/it]"
     ]
    },
    {
     "name": "stdout",
     "output_type": "stream",
     "text": [
      "[3/200][110/189] ========== Loss_D: 1.4492, Loss_G: 1.7942, Acc_G: 19/32 = 59.3750\n"
     ]
    },
    {
     "name": "stderr",
     "output_type": "stream",
     "text": [
      " 59%|██████████████████████████████████████████████████▌                                   | 111/189 [02:18<01:46,  1.36s/it]"
     ]
    },
    {
     "name": "stdout",
     "output_type": "stream",
     "text": [
      "[3/200][111/189] ========== Loss_D: 1.4527, Loss_G: 1.6751, Acc_G: 24/32 = 75.0000\n"
     ]
    },
    {
     "name": "stderr",
     "output_type": "stream",
     "text": [
      " 59%|██████████████████████████████████████████████████▉                                   | 112/189 [02:20<01:41,  1.32s/it]"
     ]
    },
    {
     "name": "stdout",
     "output_type": "stream",
     "text": [
      "[3/200][112/189] ========== Loss_D: 1.4346, Loss_G: 1.7590, Acc_G: 14/32 = 43.7500\n"
     ]
    },
    {
     "name": "stderr",
     "output_type": "stream",
     "text": [
      " 60%|███████████████████████████████████████████████████▍                                  | 113/189 [02:21<01:37,  1.29s/it]"
     ]
    },
    {
     "name": "stdout",
     "output_type": "stream",
     "text": [
      "[3/200][113/189] ========== Loss_D: 1.4543, Loss_G: 1.5853, Acc_G: 17/32 = 53.1250\n"
     ]
    },
    {
     "name": "stderr",
     "output_type": "stream",
     "text": [
      " 60%|███████████████████████████████████████████████████▊                                  | 114/189 [02:22<01:32,  1.23s/it]"
     ]
    },
    {
     "name": "stdout",
     "output_type": "stream",
     "text": [
      "[3/200][114/189] ========== Loss_D: 1.4387, Loss_G: 1.6644, Acc_G: 18/32 = 56.2500\n"
     ]
    },
    {
     "name": "stderr",
     "output_type": "stream",
     "text": [
      " 61%|████████████████████████████████████████████████████▎                                 | 115/189 [02:24<01:40,  1.35s/it]"
     ]
    },
    {
     "name": "stdout",
     "output_type": "stream",
     "text": [
      "[3/200][115/189] ========== Loss_D: 1.4426, Loss_G: 1.6041, Acc_G: 24/32 = 75.0000\n"
     ]
    },
    {
     "name": "stderr",
     "output_type": "stream",
     "text": [
      " 61%|████████████████████████████████████████████████████▊                                 | 116/189 [02:25<01:30,  1.25s/it]"
     ]
    },
    {
     "name": "stdout",
     "output_type": "stream",
     "text": [
      "[3/200][116/189] ========== Loss_D: 1.4411, Loss_G: 1.6073, Acc_G: 16/32 = 50.0000\n"
     ]
    },
    {
     "name": "stderr",
     "output_type": "stream",
     "text": [
      " 62%|█████████████████████████████████████████████████████▏                                | 117/189 [02:26<01:23,  1.16s/it]"
     ]
    },
    {
     "name": "stdout",
     "output_type": "stream",
     "text": [
      "[3/200][117/189] ========== Loss_D: 1.4305, Loss_G: 1.7212, Acc_G: 15/32 = 46.8750\n"
     ]
    },
    {
     "name": "stderr",
     "output_type": "stream",
     "text": [
      " 62%|█████████████████████████████████████████████████████▋                                | 118/189 [02:27<01:23,  1.17s/it]"
     ]
    },
    {
     "name": "stdout",
     "output_type": "stream",
     "text": [
      "[3/200][118/189] ========== Loss_D: 1.4408, Loss_G: 1.7352, Acc_G: 16/32 = 50.0000\n"
     ]
    },
    {
     "name": "stderr",
     "output_type": "stream",
     "text": [
      " 63%|██████████████████████████████████████████████████████▏                               | 119/189 [02:28<01:19,  1.14s/it]"
     ]
    },
    {
     "name": "stdout",
     "output_type": "stream",
     "text": [
      "[3/200][119/189] ========== Loss_D: 1.4477, Loss_G: 1.8094, Acc_G: 18/32 = 56.2500\n"
     ]
    },
    {
     "name": "stderr",
     "output_type": "stream",
     "text": [
      " 63%|██████████████████████████████████████████████████████▌                               | 120/189 [02:29<01:19,  1.16s/it]"
     ]
    },
    {
     "name": "stdout",
     "output_type": "stream",
     "text": [
      "[3/200][120/189] ========== Loss_D: 1.4626, Loss_G: 1.6248, Acc_G: 21/32 = 65.6250\n"
     ]
    },
    {
     "name": "stderr",
     "output_type": "stream",
     "text": [
      " 64%|███████████████████████████████████████████████████████                               | 121/189 [02:30<01:17,  1.14s/it]"
     ]
    },
    {
     "name": "stdout",
     "output_type": "stream",
     "text": [
      "[3/200][121/189] ========== Loss_D: 1.4392, Loss_G: 1.6259, Acc_G: 20/32 = 62.5000\n"
     ]
    },
    {
     "name": "stderr",
     "output_type": "stream",
     "text": [
      " 65%|███████████████████████████████████████████████████████▌                              | 122/189 [02:31<01:15,  1.12s/it]"
     ]
    },
    {
     "name": "stdout",
     "output_type": "stream",
     "text": [
      "[3/200][122/189] ========== Loss_D: 1.4557, Loss_G: 1.7423, Acc_G: 20/32 = 62.5000\n"
     ]
    },
    {
     "name": "stderr",
     "output_type": "stream",
     "text": [
      " 65%|███████████████████████████████████████████████████████▉                              | 123/189 [02:33<01:21,  1.23s/it]"
     ]
    },
    {
     "name": "stdout",
     "output_type": "stream",
     "text": [
      "[3/200][123/189] ========== Loss_D: 1.4664, Loss_G: 1.6984, Acc_G: 18/32 = 56.2500\n"
     ]
    },
    {
     "name": "stderr",
     "output_type": "stream",
     "text": [
      " 66%|████████████████████████████████████████████████████████▍                             | 124/189 [02:34<01:17,  1.19s/it]"
     ]
    },
    {
     "name": "stdout",
     "output_type": "stream",
     "text": [
      "[3/200][124/189] ========== Loss_D: 1.4627, Loss_G: 1.7095, Acc_G: 17/32 = 53.1250\n"
     ]
    },
    {
     "name": "stderr",
     "output_type": "stream",
     "text": [
      " 66%|████████████████████████████████████████████████████████▉                             | 125/189 [02:35<01:18,  1.23s/it]"
     ]
    },
    {
     "name": "stdout",
     "output_type": "stream",
     "text": [
      "[3/200][125/189] ========== Loss_D: 1.4543, Loss_G: 1.7416, Acc_G: 19/32 = 59.3750\n"
     ]
    },
    {
     "name": "stderr",
     "output_type": "stream",
     "text": [
      " 67%|█████████████████████████████████████████████████████████▎                            | 126/189 [02:36<01:19,  1.27s/it]"
     ]
    },
    {
     "name": "stdout",
     "output_type": "stream",
     "text": [
      "[3/200][126/189] ========== Loss_D: 1.4577, Loss_G: 1.7219, Acc_G: 19/32 = 59.3750\n"
     ]
    },
    {
     "name": "stderr",
     "output_type": "stream",
     "text": [
      " 67%|█████████████████████████████████████████████████████████▊                            | 127/189 [02:38<01:22,  1.33s/it]"
     ]
    },
    {
     "name": "stdout",
     "output_type": "stream",
     "text": [
      "[3/200][127/189] ========== Loss_D: 1.4431, Loss_G: 1.6461, Acc_G: 17/32 = 53.1250\n"
     ]
    },
    {
     "name": "stderr",
     "output_type": "stream",
     "text": [
      " 68%|██████████████████████████████████████████████████████████▏                           | 128/189 [02:39<01:12,  1.18s/it]"
     ]
    },
    {
     "name": "stdout",
     "output_type": "stream",
     "text": [
      "[3/200][128/189] ========== Loss_D: 1.4432, Loss_G: 1.6965, Acc_G: 18/32 = 56.2500\n"
     ]
    },
    {
     "name": "stderr",
     "output_type": "stream",
     "text": [
      " 68%|██████████████████████████████████████████████████████████▋                           | 129/189 [02:40<01:08,  1.14s/it]"
     ]
    },
    {
     "name": "stdout",
     "output_type": "stream",
     "text": [
      "[3/200][129/189] ========== Loss_D: 1.4404, Loss_G: 1.7581, Acc_G: 18/32 = 56.2500\n"
     ]
    },
    {
     "name": "stderr",
     "output_type": "stream",
     "text": [
      " 69%|███████████████████████████████████████████████████████████▏                          | 130/189 [02:41<01:04,  1.09s/it]"
     ]
    },
    {
     "name": "stdout",
     "output_type": "stream",
     "text": [
      "[3/200][130/189] ========== Loss_D: 1.4517, Loss_G: 1.7183, Acc_G: 16/32 = 50.0000\n"
     ]
    },
    {
     "name": "stderr",
     "output_type": "stream",
     "text": [
      " 69%|███████████████████████████████████████████████████████████▌                          | 131/189 [02:42<01:07,  1.16s/it]"
     ]
    },
    {
     "name": "stdout",
     "output_type": "stream",
     "text": [
      "[3/200][131/189] ========== Loss_D: 1.4218, Loss_G: 1.5881, Acc_G: 20/32 = 62.5000\n"
     ]
    },
    {
     "name": "stderr",
     "output_type": "stream",
     "text": [
      " 70%|████████████████████████████████████████████████████████████                          | 132/189 [02:43<01:04,  1.13s/it]"
     ]
    },
    {
     "name": "stdout",
     "output_type": "stream",
     "text": [
      "[3/200][132/189] ========== Loss_D: 1.4442, Loss_G: 1.6208, Acc_G: 19/32 = 59.3750\n"
     ]
    },
    {
     "name": "stderr",
     "output_type": "stream",
     "text": [
      " 70%|████████████████████████████████████████████████████████████▌                         | 133/189 [02:44<01:03,  1.13s/it]"
     ]
    },
    {
     "name": "stdout",
     "output_type": "stream",
     "text": [
      "[3/200][133/189] ========== Loss_D: 1.4561, Loss_G: 1.7083, Acc_G: 17/32 = 53.1250\n"
     ]
    },
    {
     "name": "stderr",
     "output_type": "stream",
     "text": [
      " 71%|████████████████████████████████████████████████████████████▉                         | 134/189 [02:46<01:07,  1.23s/it]"
     ]
    },
    {
     "name": "stdout",
     "output_type": "stream",
     "text": [
      "[3/200][134/189] ========== Loss_D: 1.4478, Loss_G: 1.7032, Acc_G: 16/32 = 50.0000\n"
     ]
    },
    {
     "name": "stderr",
     "output_type": "stream",
     "text": [
      " 71%|█████████████████████████████████████████████████████████████▍                        | 135/189 [02:47<01:03,  1.17s/it]"
     ]
    },
    {
     "name": "stdout",
     "output_type": "stream",
     "text": [
      "[3/200][135/189] ========== Loss_D: 1.4370, Loss_G: 1.5979, Acc_G: 24/32 = 75.0000\n"
     ]
    },
    {
     "name": "stderr",
     "output_type": "stream",
     "text": [
      " 72%|█████████████████████████████████████████████████████████████▉                        | 136/189 [02:48<01:00,  1.14s/it]"
     ]
    },
    {
     "name": "stdout",
     "output_type": "stream",
     "text": [
      "[3/200][136/189] ========== Loss_D: 1.4437, Loss_G: 1.7997, Acc_G: 17/32 = 53.1250\n"
     ]
    },
    {
     "name": "stderr",
     "output_type": "stream",
     "text": [
      " 72%|██████████████████████████████████████████████████████████████▎                       | 137/189 [02:49<01:00,  1.16s/it]"
     ]
    },
    {
     "name": "stdout",
     "output_type": "stream",
     "text": [
      "[3/200][137/189] ========== Loss_D: 1.4550, Loss_G: 1.6378, Acc_G: 19/32 = 59.3750\n"
     ]
    },
    {
     "name": "stderr",
     "output_type": "stream",
     "text": [
      " 73%|██████████████████████████████████████████████████████████████▊                       | 138/189 [02:50<00:58,  1.14s/it]"
     ]
    },
    {
     "name": "stdout",
     "output_type": "stream",
     "text": [
      "[3/200][138/189] ========== Loss_D: 1.4375, Loss_G: 1.6747, Acc_G: 21/32 = 65.6250\n"
     ]
    },
    {
     "name": "stderr",
     "output_type": "stream",
     "text": [
      " 74%|███████████████████████████████████████████████████████████████▏                      | 139/189 [02:51<00:55,  1.10s/it]"
     ]
    },
    {
     "name": "stdout",
     "output_type": "stream",
     "text": [
      "[3/200][139/189] ========== Loss_D: 1.4619, Loss_G: 1.6896, Acc_G: 17/32 = 53.1250\n"
     ]
    },
    {
     "name": "stderr",
     "output_type": "stream",
     "text": [
      " 74%|███████████████████████████████████████████████████████████████▋                      | 140/189 [02:52<00:54,  1.10s/it]"
     ]
    },
    {
     "name": "stdout",
     "output_type": "stream",
     "text": [
      "[3/200][140/189] ========== Loss_D: 1.4560, Loss_G: 1.7914, Acc_G: 21/32 = 65.6250\n"
     ]
    },
    {
     "name": "stderr",
     "output_type": "stream",
     "text": [
      " 75%|████████████████████████████████████████████████████████████████▏                     | 141/189 [02:53<00:53,  1.11s/it]"
     ]
    },
    {
     "name": "stdout",
     "output_type": "stream",
     "text": [
      "[3/200][141/189] ========== Loss_D: 1.4665, Loss_G: 1.6416, Acc_G: 21/32 = 65.6250\n"
     ]
    },
    {
     "name": "stderr",
     "output_type": "stream",
     "text": [
      " 75%|████████████████████████████████████████████████████████████████▌                     | 142/189 [02:55<00:54,  1.16s/it]"
     ]
    },
    {
     "name": "stdout",
     "output_type": "stream",
     "text": [
      "[3/200][142/189] ========== Loss_D: 1.4570, Loss_G: 1.7295, Acc_G: 18/32 = 56.2500\n"
     ]
    },
    {
     "name": "stderr",
     "output_type": "stream",
     "text": [
      " 76%|█████████████████████████████████████████████████████████████████                     | 143/189 [02:56<00:57,  1.24s/it]"
     ]
    },
    {
     "name": "stdout",
     "output_type": "stream",
     "text": [
      "[3/200][143/189] ========== Loss_D: 1.4473, Loss_G: 1.7352, Acc_G: 16/32 = 50.0000\n"
     ]
    },
    {
     "name": "stderr",
     "output_type": "stream",
     "text": [
      " 76%|█████████████████████████████████████████████████████████████████▌                    | 144/189 [02:57<00:56,  1.27s/it]"
     ]
    },
    {
     "name": "stdout",
     "output_type": "stream",
     "text": [
      "[3/200][144/189] ========== Loss_D: 1.4407, Loss_G: 1.7207, Acc_G: 14/32 = 43.7500\n"
     ]
    },
    {
     "name": "stderr",
     "output_type": "stream",
     "text": [
      " 77%|█████████████████████████████████████████████████████████████████▉                    | 145/189 [02:58<00:53,  1.21s/it]"
     ]
    },
    {
     "name": "stdout",
     "output_type": "stream",
     "text": [
      "[3/200][145/189] ========== Loss_D: 1.4629, Loss_G: 1.6862, Acc_G: 20/32 = 62.5000\n"
     ]
    },
    {
     "name": "stderr",
     "output_type": "stream",
     "text": [
      " 77%|██████████████████████████████████████████████████████████████████▍                   | 146/189 [03:00<00:51,  1.19s/it]"
     ]
    },
    {
     "name": "stdout",
     "output_type": "stream",
     "text": [
      "[3/200][146/189] ========== Loss_D: 1.4523, Loss_G: 1.6569, Acc_G: 15/32 = 46.8750\n"
     ]
    },
    {
     "name": "stderr",
     "output_type": "stream",
     "text": [
      " 78%|██████████████████████████████████████████████████████████████████▉                   | 147/189 [03:01<00:48,  1.15s/it]"
     ]
    },
    {
     "name": "stdout",
     "output_type": "stream",
     "text": [
      "[3/200][147/189] ========== Loss_D: 1.4454, Loss_G: 1.7520, Acc_G: 24/32 = 75.0000\n"
     ]
    },
    {
     "name": "stderr",
     "output_type": "stream",
     "text": [
      " 78%|███████████████████████████████████████████████████████████████████▎                  | 148/189 [03:02<00:47,  1.15s/it]"
     ]
    },
    {
     "name": "stdout",
     "output_type": "stream",
     "text": [
      "[3/200][148/189] ========== Loss_D: 1.4540, Loss_G: 1.7146, Acc_G: 16/32 = 50.0000\n"
     ]
    },
    {
     "name": "stderr",
     "output_type": "stream",
     "text": [
      " 79%|███████████████████████████████████████████████████████████████████▊                  | 149/189 [03:03<00:47,  1.19s/it]"
     ]
    },
    {
     "name": "stdout",
     "output_type": "stream",
     "text": [
      "[3/200][149/189] ========== Loss_D: 1.4410, Loss_G: 1.6668, Acc_G: 18/32 = 56.2500\n"
     ]
    },
    {
     "name": "stderr",
     "output_type": "stream",
     "text": [
      " 79%|████████████████████████████████████████████████████████████████████▎                 | 150/189 [03:05<00:50,  1.30s/it]"
     ]
    },
    {
     "name": "stdout",
     "output_type": "stream",
     "text": [
      "[3/200][150/189] ========== Loss_D: 1.4543, Loss_G: 1.7328, Acc_G: 19/32 = 59.3750\n"
     ]
    },
    {
     "name": "stderr",
     "output_type": "stream",
     "text": [
      " 80%|████████████████████████████████████████████████████████████████████▋                 | 151/189 [03:06<00:47,  1.25s/it]"
     ]
    },
    {
     "name": "stdout",
     "output_type": "stream",
     "text": [
      "[3/200][151/189] ========== Loss_D: 1.4355, Loss_G: 1.6486, Acc_G: 22/32 = 68.7500\n"
     ]
    },
    {
     "name": "stderr",
     "output_type": "stream",
     "text": [
      " 80%|█████████████████████████████████████████████████████████████████████▏                | 152/189 [03:07<00:44,  1.22s/it]"
     ]
    },
    {
     "name": "stdout",
     "output_type": "stream",
     "text": [
      "[3/200][152/189] ========== Loss_D: 1.4566, Loss_G: 1.6979, Acc_G: 16/32 = 50.0000\n"
     ]
    },
    {
     "name": "stderr",
     "output_type": "stream",
     "text": [
      " 81%|█████████████████████████████████████████████████████████████████████▌                | 153/189 [03:08<00:43,  1.20s/it]"
     ]
    },
    {
     "name": "stdout",
     "output_type": "stream",
     "text": [
      "[3/200][153/189] ========== Loss_D: 1.4582, Loss_G: 1.6476, Acc_G: 16/32 = 50.0000\n"
     ]
    },
    {
     "name": "stderr",
     "output_type": "stream",
     "text": [
      " 81%|██████████████████████████████████████████████████████████████████████                | 154/189 [03:09<00:38,  1.10s/it]"
     ]
    },
    {
     "name": "stdout",
     "output_type": "stream",
     "text": [
      "[3/200][154/189] ========== Loss_D: 1.4519, Loss_G: 1.9336, Acc_G: 19/32 = 59.3750\n"
     ]
    },
    {
     "name": "stderr",
     "output_type": "stream",
     "text": [
      " 82%|██████████████████████████████████████████████████████████████████████▌               | 155/189 [03:10<00:41,  1.23s/it]"
     ]
    },
    {
     "name": "stdout",
     "output_type": "stream",
     "text": [
      "[3/200][155/189] ========== Loss_D: 1.4280, Loss_G: 1.8245, Acc_G: 21/32 = 65.6250\n"
     ]
    },
    {
     "name": "stderr",
     "output_type": "stream",
     "text": [
      " 83%|██████████████████████████████████████████████████████████████████████▉               | 156/189 [03:12<00:41,  1.27s/it]"
     ]
    },
    {
     "name": "stdout",
     "output_type": "stream",
     "text": [
      "[3/200][156/189] ========== Loss_D: 1.4564, Loss_G: 1.6752, Acc_G: 26/32 = 81.2500\n"
     ]
    },
    {
     "name": "stderr",
     "output_type": "stream",
     "text": [
      " 83%|███████████████████████████████████████████████████████████████████████▍              | 157/189 [03:13<00:38,  1.19s/it]"
     ]
    },
    {
     "name": "stdout",
     "output_type": "stream",
     "text": [
      "[3/200][157/189] ========== Loss_D: 1.4490, Loss_G: 1.6280, Acc_G: 24/32 = 75.0000\n"
     ]
    },
    {
     "name": "stderr",
     "output_type": "stream",
     "text": [
      " 84%|███████████████████████████████████████████████████████████████████████▉              | 158/189 [03:14<00:36,  1.18s/it]"
     ]
    },
    {
     "name": "stdout",
     "output_type": "stream",
     "text": [
      "[3/200][158/189] ========== Loss_D: 1.4528, Loss_G: 1.6863, Acc_G: 20/32 = 62.5000\n"
     ]
    },
    {
     "name": "stderr",
     "output_type": "stream",
     "text": [
      " 84%|████████████████████████████████████████████████████████████████████████▎             | 159/189 [03:15<00:34,  1.14s/it]"
     ]
    },
    {
     "name": "stdout",
     "output_type": "stream",
     "text": [
      "[3/200][159/189] ========== Loss_D: 1.4455, Loss_G: 1.7024, Acc_G: 17/32 = 53.1250\n"
     ]
    },
    {
     "name": "stderr",
     "output_type": "stream",
     "text": [
      " 85%|████████████████████████████████████████████████████████████████████████▊             | 160/189 [03:16<00:35,  1.22s/it]"
     ]
    },
    {
     "name": "stdout",
     "output_type": "stream",
     "text": [
      "[3/200][160/189] ========== Loss_D: 1.4533, Loss_G: 1.6545, Acc_G: 23/32 = 71.8750\n"
     ]
    },
    {
     "name": "stderr",
     "output_type": "stream",
     "text": [
      " 85%|█████████████████████████████████████████████████████████████████████████▎            | 161/189 [03:18<00:35,  1.27s/it]"
     ]
    },
    {
     "name": "stdout",
     "output_type": "stream",
     "text": [
      "[3/200][161/189] ========== Loss_D: 1.4535, Loss_G: 1.6312, Acc_G: 15/32 = 46.8750\n"
     ]
    },
    {
     "name": "stderr",
     "output_type": "stream",
     "text": [
      " 86%|█████████████████████████████████████████████████████████████████████████▋            | 162/189 [03:19<00:32,  1.19s/it]"
     ]
    },
    {
     "name": "stdout",
     "output_type": "stream",
     "text": [
      "[3/200][162/189] ========== Loss_D: 1.4650, Loss_G: 1.6402, Acc_G: 19/32 = 59.3750\n"
     ]
    },
    {
     "name": "stderr",
     "output_type": "stream",
     "text": [
      " 86%|██████████████████████████████████████████████████████████████████████████▏           | 163/189 [03:20<00:30,  1.18s/it]"
     ]
    },
    {
     "name": "stdout",
     "output_type": "stream",
     "text": [
      "[3/200][163/189] ========== Loss_D: 1.4656, Loss_G: 1.6073, Acc_G: 14/32 = 43.7500\n"
     ]
    },
    {
     "name": "stderr",
     "output_type": "stream",
     "text": [
      " 87%|██████████████████████████████████████████████████████████████████████████▌           | 164/189 [03:21<00:29,  1.19s/it]"
     ]
    },
    {
     "name": "stdout",
     "output_type": "stream",
     "text": [
      "[3/200][164/189] ========== Loss_D: 1.4525, Loss_G: 1.6996, Acc_G: 19/32 = 59.3750\n"
     ]
    },
    {
     "name": "stderr",
     "output_type": "stream",
     "text": [
      " 87%|███████████████████████████████████████████████████████████████████████████           | 165/189 [03:22<00:28,  1.20s/it]"
     ]
    },
    {
     "name": "stdout",
     "output_type": "stream",
     "text": [
      "[3/200][165/189] ========== Loss_D: 1.4362, Loss_G: 1.7804, Acc_G: 15/32 = 46.8750\n"
     ]
    },
    {
     "name": "stderr",
     "output_type": "stream",
     "text": [
      " 88%|███████████████████████████████████████████████████████████████████████████▌          | 166/189 [03:24<00:27,  1.21s/it]"
     ]
    },
    {
     "name": "stdout",
     "output_type": "stream",
     "text": [
      "[3/200][166/189] ========== Loss_D: 1.4415, Loss_G: 1.6472, Acc_G: 16/32 = 50.0000\n"
     ]
    },
    {
     "name": "stderr",
     "output_type": "stream",
     "text": [
      " 88%|███████████████████████████████████████████████████████████████████████████▉          | 167/189 [03:25<00:25,  1.18s/it]"
     ]
    },
    {
     "name": "stdout",
     "output_type": "stream",
     "text": [
      "[3/200][167/189] ========== Loss_D: 1.4551, Loss_G: 1.7677, Acc_G: 18/32 = 56.2500\n"
     ]
    },
    {
     "name": "stderr",
     "output_type": "stream",
     "text": [
      " 89%|████████████████████████████████████████████████████████████████████████████▍         | 168/189 [03:27<00:28,  1.35s/it]"
     ]
    },
    {
     "name": "stdout",
     "output_type": "stream",
     "text": [
      "[3/200][168/189] ========== Loss_D: 1.4578, Loss_G: 1.6849, Acc_G: 16/32 = 50.0000\n"
     ]
    },
    {
     "name": "stderr",
     "output_type": "stream",
     "text": [
      " 89%|████████████████████████████████████████████████████████████████████████████▉         | 169/189 [03:28<00:27,  1.40s/it]"
     ]
    },
    {
     "name": "stdout",
     "output_type": "stream",
     "text": [
      "[3/200][169/189] ========== Loss_D: 1.4440, Loss_G: 1.7054, Acc_G: 19/32 = 59.3750\n"
     ]
    },
    {
     "name": "stderr",
     "output_type": "stream",
     "text": [
      " 90%|█████████████████████████████████████████████████████████████████████████████▎        | 170/189 [03:29<00:25,  1.32s/it]"
     ]
    },
    {
     "name": "stdout",
     "output_type": "stream",
     "text": [
      "[3/200][170/189] ========== Loss_D: 1.4540, Loss_G: 1.7425, Acc_G: 20/32 = 62.5000\n"
     ]
    },
    {
     "name": "stderr",
     "output_type": "stream",
     "text": [
      " 90%|█████████████████████████████████████████████████████████████████████████████▊        | 171/189 [03:31<00:23,  1.33s/it]"
     ]
    },
    {
     "name": "stdout",
     "output_type": "stream",
     "text": [
      "[3/200][171/189] ========== Loss_D: 1.4477, Loss_G: 1.6803, Acc_G: 20/32 = 62.5000\n"
     ]
    },
    {
     "name": "stderr",
     "output_type": "stream",
     "text": [
      " 91%|██████████████████████████████████████████████████████████████████████████████▎       | 172/189 [03:32<00:24,  1.45s/it]"
     ]
    },
    {
     "name": "stdout",
     "output_type": "stream",
     "text": [
      "[3/200][172/189] ========== Loss_D: 1.4433, Loss_G: 1.6944, Acc_G: 16/32 = 50.0000\n"
     ]
    },
    {
     "name": "stderr",
     "output_type": "stream",
     "text": [
      " 92%|██████████████████████████████████████████████████████████████████████████████▋       | 173/189 [03:33<00:20,  1.31s/it]"
     ]
    },
    {
     "name": "stdout",
     "output_type": "stream",
     "text": [
      "[3/200][173/189] ========== Loss_D: 1.4521, Loss_G: 1.7529, Acc_G: 20/32 = 62.5000\n"
     ]
    },
    {
     "name": "stderr",
     "output_type": "stream",
     "text": [
      " 92%|███████████████████████████████████████████████████████████████████████████████▏      | 174/189 [03:35<00:19,  1.31s/it]"
     ]
    },
    {
     "name": "stdout",
     "output_type": "stream",
     "text": [
      "[3/200][174/189] ========== Loss_D: 1.4591, Loss_G: 1.6682, Acc_G: 17/32 = 53.1250\n"
     ]
    },
    {
     "name": "stderr",
     "output_type": "stream",
     "text": [
      " 93%|███████████████████████████████████████████████████████████████████████████████▋      | 175/189 [03:36<00:18,  1.29s/it]"
     ]
    },
    {
     "name": "stdout",
     "output_type": "stream",
     "text": [
      "[3/200][175/189] ========== Loss_D: 1.4475, Loss_G: 1.6014, Acc_G: 19/32 = 59.3750\n"
     ]
    },
    {
     "name": "stderr",
     "output_type": "stream",
     "text": [
      " 93%|████████████████████████████████████████████████████████████████████████████████      | 176/189 [03:37<00:16,  1.30s/it]"
     ]
    },
    {
     "name": "stdout",
     "output_type": "stream",
     "text": [
      "[3/200][176/189] ========== Loss_D: 1.4417, Loss_G: 1.6976, Acc_G: 12/32 = 37.5000\n"
     ]
    },
    {
     "name": "stderr",
     "output_type": "stream",
     "text": [
      " 94%|████████████████████████████████████████████████████████████████████████████████▌     | 177/189 [03:38<00:14,  1.25s/it]"
     ]
    },
    {
     "name": "stdout",
     "output_type": "stream",
     "text": [
      "[3/200][177/189] ========== Loss_D: 1.4392, Loss_G: 1.6218, Acc_G: 23/32 = 71.8750\n"
     ]
    },
    {
     "name": "stderr",
     "output_type": "stream",
     "text": [
      " 94%|████████████████████████████████████████████████████████████████████████████████▉     | 178/189 [03:39<00:13,  1.24s/it]"
     ]
    },
    {
     "name": "stdout",
     "output_type": "stream",
     "text": [
      "[3/200][178/189] ========== Loss_D: 1.4413, Loss_G: 1.6999, Acc_G: 18/32 = 56.2500\n"
     ]
    },
    {
     "name": "stderr",
     "output_type": "stream",
     "text": [
      " 95%|█████████████████████████████████████████████████████████████████████████████████▍    | 179/189 [03:41<00:13,  1.33s/it]"
     ]
    },
    {
     "name": "stdout",
     "output_type": "stream",
     "text": [
      "[3/200][179/189] ========== Loss_D: 1.4612, Loss_G: 1.6607, Acc_G: 18/32 = 56.2500\n"
     ]
    },
    {
     "name": "stderr",
     "output_type": "stream",
     "text": [
      " 95%|█████████████████████████████████████████████████████████████████████████████████▉    | 180/189 [03:42<00:11,  1.23s/it]"
     ]
    },
    {
     "name": "stdout",
     "output_type": "stream",
     "text": [
      "[3/200][180/189] ========== Loss_D: 1.4344, Loss_G: 1.6690, Acc_G: 20/32 = 62.5000\n"
     ]
    },
    {
     "name": "stderr",
     "output_type": "stream",
     "text": [
      " 96%|██████████████████████████████████████████████████████████████████████████████████▎   | 181/189 [03:43<00:10,  1.26s/it]"
     ]
    },
    {
     "name": "stdout",
     "output_type": "stream",
     "text": [
      "[3/200][181/189] ========== Loss_D: 1.4586, Loss_G: 1.8195, Acc_G: 20/32 = 62.5000\n"
     ]
    },
    {
     "name": "stderr",
     "output_type": "stream",
     "text": [
      " 96%|██████████████████████████████████████████████████████████████████████████████████▊   | 182/189 [03:45<00:08,  1.25s/it]"
     ]
    },
    {
     "name": "stdout",
     "output_type": "stream",
     "text": [
      "[3/200][182/189] ========== Loss_D: 1.4597, Loss_G: 1.6780, Acc_G: 22/32 = 68.7500\n"
     ]
    },
    {
     "name": "stderr",
     "output_type": "stream",
     "text": [
      " 97%|███████████████████████████████████████████████████████████████████████████████████▎  | 183/189 [03:46<00:07,  1.33s/it]"
     ]
    },
    {
     "name": "stdout",
     "output_type": "stream",
     "text": [
      "[3/200][183/189] ========== Loss_D: 1.4595, Loss_G: 1.5670, Acc_G: 17/32 = 53.1250\n"
     ]
    },
    {
     "name": "stderr",
     "output_type": "stream",
     "text": [
      " 97%|███████████████████████████████████████████████████████████████████████████████████▋  | 184/189 [03:47<00:06,  1.23s/it]"
     ]
    },
    {
     "name": "stdout",
     "output_type": "stream",
     "text": [
      "[3/200][184/189] ========== Loss_D: 1.4383, Loss_G: 1.7081, Acc_G: 21/32 = 65.6250\n"
     ]
    },
    {
     "name": "stderr",
     "output_type": "stream",
     "text": [
      " 98%|████████████████████████████████████████████████████████████████████████████████████▏ | 185/189 [03:48<00:04,  1.16s/it]"
     ]
    },
    {
     "name": "stdout",
     "output_type": "stream",
     "text": [
      "[3/200][185/189] ========== Loss_D: 1.4336, Loss_G: 1.7103, Acc_G: 22/32 = 68.7500\n"
     ]
    },
    {
     "name": "stderr",
     "output_type": "stream",
     "text": [
      " 98%|████████████████████████████████████████████████████████████████████████████████████▋ | 186/189 [03:49<00:03,  1.11s/it]"
     ]
    },
    {
     "name": "stdout",
     "output_type": "stream",
     "text": [
      "[3/200][186/189] ========== Loss_D: 1.4451, Loss_G: 1.6521, Acc_G: 18/32 = 56.2500\n"
     ]
    },
    {
     "name": "stderr",
     "output_type": "stream",
     "text": [
      " 99%|█████████████████████████████████████████████████████████████████████████████████████ | 187/189 [03:51<00:02,  1.29s/it]"
     ]
    },
    {
     "name": "stdout",
     "output_type": "stream",
     "text": [
      "[3/200][187/189] ========== Loss_D: 1.4698, Loss_G: 1.6046, Acc_G: 17/32 = 53.1250\n"
     ]
    },
    {
     "name": "stderr",
     "output_type": "stream",
     "text": [
      " 99%|█████████████████████████████████████████████████████████████████████████████████████▌| 188/189 [03:52<00:01,  1.26s/it]"
     ]
    },
    {
     "name": "stdout",
     "output_type": "stream",
     "text": [
      "[3/200][188/189] ========== Loss_D: 1.4510, Loss_G: 1.7074, Acc_G: 22/32 = 68.7500\n"
     ]
    },
    {
     "name": "stderr",
     "output_type": "stream",
     "text": [
      "100%|██████████████████████████████████████████████████████████████████████████████████████| 189/189 [03:52<00:00,  1.23s/it]"
     ]
    },
    {
     "name": "stdout",
     "output_type": "stream",
     "text": [
      "[3/200][189/189] ========== Loss_D: 1.4461, Loss_G: 1.5349, Acc_G: 4/8 = 50.0000\n",
      "---------------------< lowest loss update -> 2.98106050491333 >---------------------\n"
     ]
    },
    {
     "name": "stderr",
     "output_type": "stream",
     "text": [
      "\n",
      "  1%|▍                                                                                       | 1/189 [00:02<06:18,  2.01s/it]"
     ]
    },
    {
     "name": "stdout",
     "output_type": "stream",
     "text": [
      "[4/200][1/189] ========== Loss_D: 1.4447, Loss_G: 1.6509, Acc_G: 20/32 = 62.5000\n"
     ]
    },
    {
     "name": "stderr",
     "output_type": "stream",
     "text": [
      "  1%|▉                                                                                       | 2/189 [00:03<04:27,  1.43s/it]"
     ]
    },
    {
     "name": "stdout",
     "output_type": "stream",
     "text": [
      "[4/200][2/189] ========== Loss_D: 1.4539, Loss_G: 1.6468, Acc_G: 18/32 = 56.2500\n"
     ]
    },
    {
     "name": "stderr",
     "output_type": "stream",
     "text": [
      "  2%|█▍                                                                                      | 3/189 [00:04<04:07,  1.33s/it]"
     ]
    },
    {
     "name": "stdout",
     "output_type": "stream",
     "text": [
      "[4/200][3/189] ========== Loss_D: 1.4511, Loss_G: 1.6883, Acc_G: 19/32 = 59.3750\n"
     ]
    },
    {
     "name": "stderr",
     "output_type": "stream",
     "text": [
      "  2%|█▊                                                                                      | 4/189 [00:05<03:55,  1.27s/it]"
     ]
    },
    {
     "name": "stdout",
     "output_type": "stream",
     "text": [
      "[4/200][4/189] ========== Loss_D: 1.4571, Loss_G: 1.7551, Acc_G: 21/32 = 65.6250\n"
     ]
    },
    {
     "name": "stderr",
     "output_type": "stream",
     "text": [
      "  3%|██▎                                                                                     | 5/189 [00:06<04:03,  1.32s/it]"
     ]
    },
    {
     "name": "stdout",
     "output_type": "stream",
     "text": [
      "[4/200][5/189] ========== Loss_D: 1.4455, Loss_G: 1.7805, Acc_G: 19/32 = 59.3750\n"
     ]
    },
    {
     "name": "stderr",
     "output_type": "stream",
     "text": [
      "  3%|██▊                                                                                     | 6/189 [00:08<04:06,  1.35s/it]"
     ]
    },
    {
     "name": "stdout",
     "output_type": "stream",
     "text": [
      "[4/200][6/189] ========== Loss_D: 1.4486, Loss_G: 1.7799, Acc_G: 20/32 = 62.5000\n"
     ]
    },
    {
     "name": "stderr",
     "output_type": "stream",
     "text": [
      "  4%|███▎                                                                                    | 7/189 [00:09<03:52,  1.28s/it]"
     ]
    },
    {
     "name": "stdout",
     "output_type": "stream",
     "text": [
      "[4/200][7/189] ========== Loss_D: 1.4491, Loss_G: 1.7287, Acc_G: 16/32 = 50.0000\n"
     ]
    },
    {
     "name": "stderr",
     "output_type": "stream",
     "text": [
      "  4%|███▋                                                                                    | 8/189 [00:10<03:52,  1.28s/it]"
     ]
    },
    {
     "name": "stdout",
     "output_type": "stream",
     "text": [
      "[4/200][8/189] ========== Loss_D: 1.4616, Loss_G: 1.6732, Acc_G: 18/32 = 56.2500\n"
     ]
    },
    {
     "name": "stderr",
     "output_type": "stream",
     "text": [
      "  5%|████▏                                                                                   | 9/189 [00:11<03:48,  1.27s/it]"
     ]
    },
    {
     "name": "stdout",
     "output_type": "stream",
     "text": [
      "[4/200][9/189] ========== Loss_D: 1.4508, Loss_G: 1.7892, Acc_G: 16/32 = 50.0000\n"
     ]
    },
    {
     "name": "stderr",
     "output_type": "stream",
     "text": [
      "  5%|████▌                                                                                  | 10/189 [00:13<03:53,  1.30s/it]"
     ]
    },
    {
     "name": "stdout",
     "output_type": "stream",
     "text": [
      "[4/200][10/189] ========== Loss_D: 1.4509, Loss_G: 1.6359, Acc_G: 17/32 = 53.1250\n"
     ]
    },
    {
     "name": "stderr",
     "output_type": "stream",
     "text": [
      "  6%|█████                                                                                  | 11/189 [00:14<03:57,  1.33s/it]"
     ]
    },
    {
     "name": "stdout",
     "output_type": "stream",
     "text": [
      "[4/200][11/189] ========== Loss_D: 1.4454, Loss_G: 1.7555, Acc_G: 18/32 = 56.2500\n"
     ]
    },
    {
     "name": "stderr",
     "output_type": "stream",
     "text": [
      "  6%|█████▌                                                                                 | 12/189 [00:16<04:02,  1.37s/it]"
     ]
    },
    {
     "name": "stdout",
     "output_type": "stream",
     "text": [
      "[4/200][12/189] ========== Loss_D: 1.4656, Loss_G: 1.6266, Acc_G: 18/32 = 56.2500\n"
     ]
    },
    {
     "name": "stderr",
     "output_type": "stream",
     "text": [
      "  7%|█████▉                                                                                 | 13/189 [00:17<03:52,  1.32s/it]"
     ]
    },
    {
     "name": "stdout",
     "output_type": "stream",
     "text": [
      "[4/200][13/189] ========== Loss_D: 1.4460, Loss_G: 1.7106, Acc_G: 17/32 = 53.1250\n"
     ]
    },
    {
     "name": "stderr",
     "output_type": "stream",
     "text": [
      "  7%|██████▍                                                                                | 14/189 [00:18<03:48,  1.30s/it]"
     ]
    },
    {
     "name": "stdout",
     "output_type": "stream",
     "text": [
      "[4/200][14/189] ========== Loss_D: 1.4522, Loss_G: 1.6758, Acc_G: 20/32 = 62.5000\n"
     ]
    },
    {
     "name": "stderr",
     "output_type": "stream",
     "text": [
      "  8%|██████▉                                                                                | 15/189 [00:19<03:36,  1.24s/it]"
     ]
    },
    {
     "name": "stdout",
     "output_type": "stream",
     "text": [
      "[4/200][15/189] ========== Loss_D: 1.4584, Loss_G: 1.7226, Acc_G: 21/32 = 65.6250\n"
     ]
    },
    {
     "name": "stderr",
     "output_type": "stream",
     "text": [
      "  8%|███████▎                                                                               | 16/189 [00:21<03:39,  1.27s/it]"
     ]
    },
    {
     "name": "stdout",
     "output_type": "stream",
     "text": [
      "[4/200][16/189] ========== Loss_D: 1.4405, Loss_G: 1.7059, Acc_G: 20/32 = 62.5000\n"
     ]
    },
    {
     "name": "stderr",
     "output_type": "stream",
     "text": [
      "  9%|███████▊                                                                               | 17/189 [00:22<03:28,  1.21s/it]"
     ]
    },
    {
     "name": "stdout",
     "output_type": "stream",
     "text": [
      "[4/200][17/189] ========== Loss_D: 1.4531, Loss_G: 1.7542, Acc_G: 24/32 = 75.0000\n"
     ]
    },
    {
     "name": "stderr",
     "output_type": "stream",
     "text": [
      " 10%|████████▎                                                                              | 18/189 [00:23<03:32,  1.24s/it]"
     ]
    },
    {
     "name": "stdout",
     "output_type": "stream",
     "text": [
      "[4/200][18/189] ========== Loss_D: 1.4508, Loss_G: 1.5872, Acc_G: 23/32 = 71.8750\n"
     ]
    },
    {
     "name": "stderr",
     "output_type": "stream",
     "text": [
      " 10%|████████▋                                                                              | 19/189 [00:24<03:24,  1.21s/it]"
     ]
    },
    {
     "name": "stdout",
     "output_type": "stream",
     "text": [
      "[4/200][19/189] ========== Loss_D: 1.4551, Loss_G: 1.6199, Acc_G: 19/32 = 59.3750\n"
     ]
    },
    {
     "name": "stderr",
     "output_type": "stream",
     "text": [
      " 11%|█████████▏                                                                             | 20/189 [00:25<03:27,  1.23s/it]"
     ]
    },
    {
     "name": "stdout",
     "output_type": "stream",
     "text": [
      "[4/200][20/189] ========== Loss_D: 1.4606, Loss_G: 1.7193, Acc_G: 23/32 = 71.8750\n"
     ]
    },
    {
     "name": "stderr",
     "output_type": "stream",
     "text": [
      " 11%|█████████▋                                                                             | 21/189 [00:27<03:32,  1.27s/it]"
     ]
    },
    {
     "name": "stdout",
     "output_type": "stream",
     "text": [
      "[4/200][21/189] ========== Loss_D: 1.4631, Loss_G: 1.7813, Acc_G: 21/32 = 65.6250\n"
     ]
    },
    {
     "name": "stderr",
     "output_type": "stream",
     "text": [
      " 12%|██████████▏                                                                            | 22/189 [00:28<03:45,  1.35s/it]"
     ]
    },
    {
     "name": "stdout",
     "output_type": "stream",
     "text": [
      "[4/200][22/189] ========== Loss_D: 1.4423, Loss_G: 1.7257, Acc_G: 19/32 = 59.3750\n"
     ]
    },
    {
     "name": "stderr",
     "output_type": "stream",
     "text": [
      " 12%|██████████▌                                                                            | 23/189 [00:30<03:41,  1.34s/it]"
     ]
    },
    {
     "name": "stdout",
     "output_type": "stream",
     "text": [
      "[4/200][23/189] ========== Loss_D: 1.4638, Loss_G: 1.7460, Acc_G: 21/32 = 65.6250\n"
     ]
    },
    {
     "name": "stderr",
     "output_type": "stream",
     "text": [
      " 13%|███████████                                                                            | 24/189 [00:31<03:46,  1.38s/it]"
     ]
    },
    {
     "name": "stdout",
     "output_type": "stream",
     "text": [
      "[4/200][24/189] ========== Loss_D: 1.4558, Loss_G: 1.8032, Acc_G: 19/32 = 59.3750\n"
     ]
    },
    {
     "name": "stderr",
     "output_type": "stream",
     "text": [
      " 13%|███████████▌                                                                           | 25/189 [00:32<03:38,  1.33s/it]"
     ]
    },
    {
     "name": "stdout",
     "output_type": "stream",
     "text": [
      "[4/200][25/189] ========== Loss_D: 1.4443, Loss_G: 1.7806, Acc_G: 19/32 = 59.3750\n"
     ]
    },
    {
     "name": "stderr",
     "output_type": "stream",
     "text": [
      " 14%|███████████▉                                                                           | 26/189 [00:34<03:33,  1.31s/it]"
     ]
    },
    {
     "name": "stdout",
     "output_type": "stream",
     "text": [
      "[4/200][26/189] ========== Loss_D: 1.4544, Loss_G: 1.8025, Acc_G: 22/32 = 68.7500\n"
     ]
    },
    {
     "name": "stderr",
     "output_type": "stream",
     "text": [
      " 14%|████████████▍                                                                          | 27/189 [00:35<03:25,  1.27s/it]"
     ]
    },
    {
     "name": "stdout",
     "output_type": "stream",
     "text": [
      "[4/200][27/189] ========== Loss_D: 1.4507, Loss_G: 1.6069, Acc_G: 19/32 = 59.3750\n"
     ]
    },
    {
     "name": "stderr",
     "output_type": "stream",
     "text": [
      " 15%|████████████▉                                                                          | 28/189 [00:36<03:09,  1.18s/it]"
     ]
    },
    {
     "name": "stdout",
     "output_type": "stream",
     "text": [
      "[4/200][28/189] ========== Loss_D: 1.4617, Loss_G: 1.7281, Acc_G: 20/32 = 62.5000\n"
     ]
    },
    {
     "name": "stderr",
     "output_type": "stream",
     "text": [
      " 15%|█████████████▎                                                                         | 29/189 [00:37<02:55,  1.10s/it]"
     ]
    },
    {
     "name": "stdout",
     "output_type": "stream",
     "text": [
      "[4/200][29/189] ========== Loss_D: 1.4577, Loss_G: 1.6560, Acc_G: 18/32 = 56.2500\n"
     ]
    },
    {
     "name": "stderr",
     "output_type": "stream",
     "text": [
      " 16%|█████████████▊                                                                         | 30/189 [00:38<03:18,  1.25s/it]"
     ]
    },
    {
     "name": "stdout",
     "output_type": "stream",
     "text": [
      "[4/200][30/189] ========== Loss_D: 1.4474, Loss_G: 1.6934, Acc_G: 18/32 = 56.2500\n"
     ]
    },
    {
     "name": "stderr",
     "output_type": "stream",
     "text": [
      " 16%|██████████████▎                                                                        | 31/189 [00:40<03:40,  1.39s/it]"
     ]
    },
    {
     "name": "stdout",
     "output_type": "stream",
     "text": [
      "[4/200][31/189] ========== Loss_D: 1.4393, Loss_G: 1.7242, Acc_G: 20/32 = 62.5000\n"
     ]
    },
    {
     "name": "stderr",
     "output_type": "stream",
     "text": [
      " 17%|██████████████▋                                                                        | 32/189 [00:41<03:23,  1.30s/it]"
     ]
    },
    {
     "name": "stdout",
     "output_type": "stream",
     "text": [
      "[4/200][32/189] ========== Loss_D: 1.4507, Loss_G: 1.6532, Acc_G: 17/32 = 53.1250\n"
     ]
    },
    {
     "name": "stderr",
     "output_type": "stream",
     "text": [
      " 17%|███████████████▏                                                                       | 33/189 [00:42<03:33,  1.37s/it]"
     ]
    },
    {
     "name": "stdout",
     "output_type": "stream",
     "text": [
      "[4/200][33/189] ========== Loss_D: 1.4474, Loss_G: 1.7407, Acc_G: 18/32 = 56.2500\n"
     ]
    },
    {
     "name": "stderr",
     "output_type": "stream",
     "text": [
      " 18%|███████████████▋                                                                       | 34/189 [00:44<03:37,  1.40s/it]"
     ]
    },
    {
     "name": "stdout",
     "output_type": "stream",
     "text": [
      "[4/200][34/189] ========== Loss_D: 1.4318, Loss_G: 1.6568, Acc_G: 18/32 = 56.2500\n"
     ]
    },
    {
     "name": "stderr",
     "output_type": "stream",
     "text": [
      " 19%|████████████████                                                                       | 35/189 [00:45<03:18,  1.29s/it]"
     ]
    },
    {
     "name": "stdout",
     "output_type": "stream",
     "text": [
      "[4/200][35/189] ========== Loss_D: 1.4430, Loss_G: 1.6451, Acc_G: 19/32 = 59.3750\n"
     ]
    },
    {
     "name": "stderr",
     "output_type": "stream",
     "text": [
      " 19%|████████████████▌                                                                      | 36/189 [00:46<03:21,  1.32s/it]"
     ]
    },
    {
     "name": "stdout",
     "output_type": "stream",
     "text": [
      "[4/200][36/189] ========== Loss_D: 1.4617, Loss_G: 1.7907, Acc_G: 20/32 = 62.5000\n"
     ]
    },
    {
     "name": "stderr",
     "output_type": "stream",
     "text": [
      " 20%|█████████████████                                                                      | 37/189 [00:47<03:09,  1.25s/it]"
     ]
    },
    {
     "name": "stdout",
     "output_type": "stream",
     "text": [
      "[4/200][37/189] ========== Loss_D: 1.4443, Loss_G: 1.7341, Acc_G: 14/32 = 43.7500\n"
     ]
    },
    {
     "name": "stderr",
     "output_type": "stream",
     "text": [
      " 20%|█████████████████▍                                                                     | 38/189 [00:49<03:04,  1.22s/it]"
     ]
    },
    {
     "name": "stdout",
     "output_type": "stream",
     "text": [
      "[4/200][38/189] ========== Loss_D: 1.4459, Loss_G: 1.7095, Acc_G: 18/32 = 56.2500\n"
     ]
    },
    {
     "name": "stderr",
     "output_type": "stream",
     "text": [
      " 21%|█████████████████▉                                                                     | 39/189 [00:50<03:01,  1.21s/it]"
     ]
    },
    {
     "name": "stdout",
     "output_type": "stream",
     "text": [
      "[4/200][39/189] ========== Loss_D: 1.4698, Loss_G: 1.6923, Acc_G: 17/32 = 53.1250\n"
     ]
    },
    {
     "name": "stderr",
     "output_type": "stream",
     "text": [
      " 21%|██████████████████▍                                                                    | 40/189 [00:51<03:00,  1.21s/it]"
     ]
    },
    {
     "name": "stdout",
     "output_type": "stream",
     "text": [
      "[4/200][40/189] ========== Loss_D: 1.4310, Loss_G: 1.6780, Acc_G: 21/32 = 65.6250\n"
     ]
    },
    {
     "name": "stderr",
     "output_type": "stream",
     "text": [
      " 22%|██████████████████▊                                                                    | 41/189 [00:52<03:00,  1.22s/it]"
     ]
    },
    {
     "name": "stdout",
     "output_type": "stream",
     "text": [
      "[4/200][41/189] ========== Loss_D: 1.4549, Loss_G: 1.7685, Acc_G: 22/32 = 68.7500\n"
     ]
    },
    {
     "name": "stderr",
     "output_type": "stream",
     "text": [
      " 22%|███████████████████▎                                                                   | 42/189 [00:53<02:57,  1.21s/it]"
     ]
    },
    {
     "name": "stdout",
     "output_type": "stream",
     "text": [
      "[4/200][42/189] ========== Loss_D: 1.4322, Loss_G: 1.7186, Acc_G: 20/32 = 62.5000\n"
     ]
    },
    {
     "name": "stderr",
     "output_type": "stream",
     "text": [
      " 23%|███████████████████▊                                                                   | 43/189 [00:54<02:46,  1.14s/it]"
     ]
    },
    {
     "name": "stdout",
     "output_type": "stream",
     "text": [
      "[4/200][43/189] ========== Loss_D: 1.4611, Loss_G: 1.6021, Acc_G: 20/32 = 62.5000\n"
     ]
    },
    {
     "name": "stderr",
     "output_type": "stream",
     "text": [
      " 23%|████████████████████▎                                                                  | 44/189 [00:56<02:44,  1.14s/it]"
     ]
    },
    {
     "name": "stdout",
     "output_type": "stream",
     "text": [
      "[4/200][44/189] ========== Loss_D: 1.4533, Loss_G: 1.8212, Acc_G: 19/32 = 59.3750\n"
     ]
    },
    {
     "name": "stderr",
     "output_type": "stream",
     "text": [
      " 24%|████████████████████▋                                                                  | 45/189 [00:57<02:38,  1.10s/it]"
     ]
    },
    {
     "name": "stdout",
     "output_type": "stream",
     "text": [
      "[4/200][45/189] ========== Loss_D: 1.4513, Loss_G: 1.6621, Acc_G: 21/32 = 65.6250\n"
     ]
    },
    {
     "name": "stderr",
     "output_type": "stream",
     "text": [
      " 24%|█████████████████████▏                                                                 | 46/189 [00:58<02:42,  1.14s/it]"
     ]
    },
    {
     "name": "stdout",
     "output_type": "stream",
     "text": [
      "[4/200][46/189] ========== Loss_D: 1.4370, Loss_G: 1.5863, Acc_G: 24/32 = 75.0000\n"
     ]
    },
    {
     "name": "stderr",
     "output_type": "stream",
     "text": [
      " 25%|█████████████████████▋                                                                 | 47/189 [00:59<02:47,  1.18s/it]"
     ]
    },
    {
     "name": "stdout",
     "output_type": "stream",
     "text": [
      "[4/200][47/189] ========== Loss_D: 1.4616, Loss_G: 1.7606, Acc_G: 19/32 = 59.3750\n"
     ]
    },
    {
     "name": "stderr",
     "output_type": "stream",
     "text": [
      " 25%|██████████████████████                                                                 | 48/189 [01:00<02:39,  1.13s/it]"
     ]
    },
    {
     "name": "stdout",
     "output_type": "stream",
     "text": [
      "[4/200][48/189] ========== Loss_D: 1.4582, Loss_G: 1.6739, Acc_G: 18/32 = 56.2500\n"
     ]
    },
    {
     "name": "stderr",
     "output_type": "stream",
     "text": [
      " 26%|██████████████████████▌                                                                | 49/189 [01:01<02:37,  1.13s/it]"
     ]
    },
    {
     "name": "stdout",
     "output_type": "stream",
     "text": [
      "[4/200][49/189] ========== Loss_D: 1.4489, Loss_G: 1.6591, Acc_G: 20/32 = 62.5000\n"
     ]
    },
    {
     "name": "stderr",
     "output_type": "stream",
     "text": [
      " 26%|███████████████████████                                                                | 50/189 [01:03<02:44,  1.18s/it]"
     ]
    },
    {
     "name": "stdout",
     "output_type": "stream",
     "text": [
      "[4/200][50/189] ========== Loss_D: 1.4584, Loss_G: 1.5943, Acc_G: 17/32 = 53.1250\n"
     ]
    },
    {
     "name": "stderr",
     "output_type": "stream",
     "text": [
      " 27%|███████████████████████▍                                                               | 51/189 [01:04<02:56,  1.28s/it]"
     ]
    },
    {
     "name": "stdout",
     "output_type": "stream",
     "text": [
      "[4/200][51/189] ========== Loss_D: 1.4418, Loss_G: 1.6023, Acc_G: 20/32 = 62.5000\n"
     ]
    },
    {
     "name": "stderr",
     "output_type": "stream",
     "text": [
      " 28%|███████████████████████▉                                                               | 52/189 [01:06<03:03,  1.34s/it]"
     ]
    },
    {
     "name": "stdout",
     "output_type": "stream",
     "text": [
      "[4/200][52/189] ========== Loss_D: 1.4539, Loss_G: 1.7124, Acc_G: 19/32 = 59.3750\n"
     ]
    },
    {
     "name": "stderr",
     "output_type": "stream",
     "text": [
      " 28%|████████████████████████▍                                                              | 53/189 [01:07<03:14,  1.43s/it]"
     ]
    },
    {
     "name": "stdout",
     "output_type": "stream",
     "text": [
      "[4/200][53/189] ========== Loss_D: 1.4384, Loss_G: 1.5744, Acc_G: 19/32 = 59.3750\n"
     ]
    },
    {
     "name": "stderr",
     "output_type": "stream",
     "text": [
      " 29%|████████████████████████▊                                                              | 54/189 [01:08<03:02,  1.35s/it]"
     ]
    },
    {
     "name": "stdout",
     "output_type": "stream",
     "text": [
      "[4/200][54/189] ========== Loss_D: 1.4571, Loss_G: 1.7262, Acc_G: 22/32 = 68.7500\n"
     ]
    },
    {
     "name": "stderr",
     "output_type": "stream",
     "text": [
      " 29%|█████████████████████████▎                                                             | 55/189 [01:09<02:52,  1.29s/it]"
     ]
    },
    {
     "name": "stdout",
     "output_type": "stream",
     "text": [
      "[4/200][55/189] ========== Loss_D: 1.4640, Loss_G: 1.6061, Acc_G: 19/32 = 59.3750\n"
     ]
    },
    {
     "name": "stderr",
     "output_type": "stream",
     "text": [
      " 30%|█████████████████████████▊                                                             | 56/189 [01:10<02:33,  1.15s/it]"
     ]
    },
    {
     "name": "stdout",
     "output_type": "stream",
     "text": [
      "[4/200][56/189] ========== Loss_D: 1.4503, Loss_G: 1.7233, Acc_G: 21/32 = 65.6250\n"
     ]
    },
    {
     "name": "stderr",
     "output_type": "stream",
     "text": [
      " 30%|██████████████████████████▏                                                            | 57/189 [01:12<02:36,  1.19s/it]"
     ]
    },
    {
     "name": "stdout",
     "output_type": "stream",
     "text": [
      "[4/200][57/189] ========== Loss_D: 1.4672, Loss_G: 1.6951, Acc_G: 17/32 = 53.1250\n"
     ]
    },
    {
     "name": "stderr",
     "output_type": "stream",
     "text": [
      " 31%|██████████████████████████▋                                                            | 58/189 [01:13<02:49,  1.29s/it]"
     ]
    },
    {
     "name": "stdout",
     "output_type": "stream",
     "text": [
      "[4/200][58/189] ========== Loss_D: 1.4517, Loss_G: 1.6949, Acc_G: 20/32 = 62.5000\n"
     ]
    },
    {
     "name": "stderr",
     "output_type": "stream",
     "text": [
      " 31%|███████████████████████████▏                                                           | 59/189 [01:15<02:53,  1.33s/it]"
     ]
    },
    {
     "name": "stdout",
     "output_type": "stream",
     "text": [
      "[4/200][59/189] ========== Loss_D: 1.4452, Loss_G: 1.5813, Acc_G: 22/32 = 68.7500\n"
     ]
    },
    {
     "name": "stderr",
     "output_type": "stream",
     "text": [
      " 32%|███████████████████████████▌                                                           | 60/189 [01:16<02:52,  1.34s/it]"
     ]
    },
    {
     "name": "stdout",
     "output_type": "stream",
     "text": [
      "[4/200][60/189] ========== Loss_D: 1.4246, Loss_G: 1.6176, Acc_G: 22/32 = 68.7500\n"
     ]
    },
    {
     "name": "stderr",
     "output_type": "stream",
     "text": [
      " 32%|████████████████████████████                                                           | 61/189 [01:17<02:47,  1.31s/it]"
     ]
    },
    {
     "name": "stdout",
     "output_type": "stream",
     "text": [
      "[4/200][61/189] ========== Loss_D: 1.4704, Loss_G: 1.7291, Acc_G: 20/32 = 62.5000\n"
     ]
    },
    {
     "name": "stderr",
     "output_type": "stream",
     "text": [
      " 33%|████████████████████████████▌                                                          | 62/189 [01:18<02:45,  1.30s/it]"
     ]
    },
    {
     "name": "stdout",
     "output_type": "stream",
     "text": [
      "[4/200][62/189] ========== Loss_D: 1.4468, Loss_G: 1.6838, Acc_G: 22/32 = 68.7500\n"
     ]
    },
    {
     "name": "stderr",
     "output_type": "stream",
     "text": [
      " 33%|█████████████████████████████                                                          | 63/189 [01:20<02:38,  1.26s/it]"
     ]
    },
    {
     "name": "stdout",
     "output_type": "stream",
     "text": [
      "[4/200][63/189] ========== Loss_D: 1.4551, Loss_G: 1.7786, Acc_G: 19/32 = 59.3750\n"
     ]
    },
    {
     "name": "stderr",
     "output_type": "stream",
     "text": [
      " 34%|█████████████████████████████▍                                                         | 64/189 [01:21<02:27,  1.18s/it]"
     ]
    },
    {
     "name": "stdout",
     "output_type": "stream",
     "text": [
      "[4/200][64/189] ========== Loss_D: 1.4487, Loss_G: 1.6248, Acc_G: 20/32 = 62.5000\n"
     ]
    },
    {
     "name": "stderr",
     "output_type": "stream",
     "text": [
      " 34%|█████████████████████████████▉                                                         | 65/189 [01:21<02:17,  1.11s/it]"
     ]
    },
    {
     "name": "stdout",
     "output_type": "stream",
     "text": [
      "[4/200][65/189] ========== Loss_D: 1.4429, Loss_G: 1.7320, Acc_G: 20/32 = 62.5000\n"
     ]
    },
    {
     "name": "stderr",
     "output_type": "stream",
     "text": [
      " 35%|██████████████████████████████▍                                                        | 66/189 [01:23<02:33,  1.24s/it]"
     ]
    },
    {
     "name": "stdout",
     "output_type": "stream",
     "text": [
      "[4/200][66/189] ========== Loss_D: 1.4456, Loss_G: 1.8321, Acc_G: 16/32 = 50.0000\n"
     ]
    },
    {
     "name": "stderr",
     "output_type": "stream",
     "text": [
      " 35%|██████████████████████████████▊                                                        | 67/189 [01:25<02:39,  1.31s/it]"
     ]
    },
    {
     "name": "stdout",
     "output_type": "stream",
     "text": [
      "[4/200][67/189] ========== Loss_D: 1.4473, Loss_G: 1.7138, Acc_G: 17/32 = 53.1250\n"
     ]
    },
    {
     "name": "stderr",
     "output_type": "stream",
     "text": [
      " 36%|███████████████████████████████▎                                                       | 68/189 [01:25<02:24,  1.19s/it]"
     ]
    },
    {
     "name": "stdout",
     "output_type": "stream",
     "text": [
      "[4/200][68/189] ========== Loss_D: 1.4635, Loss_G: 1.7264, Acc_G: 18/32 = 56.2500\n"
     ]
    },
    {
     "name": "stderr",
     "output_type": "stream",
     "text": [
      " 37%|███████████████████████████████▊                                                       | 69/189 [01:26<02:13,  1.11s/it]"
     ]
    },
    {
     "name": "stdout",
     "output_type": "stream",
     "text": [
      "[4/200][69/189] ========== Loss_D: 1.4651, Loss_G: 1.6038, Acc_G: 21/32 = 65.6250\n"
     ]
    },
    {
     "name": "stderr",
     "output_type": "stream",
     "text": [
      " 37%|████████████████████████████████▏                                                      | 70/189 [01:28<02:16,  1.14s/it]"
     ]
    },
    {
     "name": "stdout",
     "output_type": "stream",
     "text": [
      "[4/200][70/189] ========== Loss_D: 1.4405, Loss_G: 1.7871, Acc_G: 20/32 = 62.5000\n"
     ]
    },
    {
     "name": "stderr",
     "output_type": "stream",
     "text": [
      " 38%|████████████████████████████████▋                                                      | 71/189 [01:29<02:12,  1.12s/it]"
     ]
    },
    {
     "name": "stdout",
     "output_type": "stream",
     "text": [
      "[4/200][71/189] ========== Loss_D: 1.4439, Loss_G: 1.7279, Acc_G: 19/32 = 59.3750\n"
     ]
    },
    {
     "name": "stderr",
     "output_type": "stream",
     "text": [
      " 38%|█████████████████████████████████▏                                                     | 72/189 [01:30<02:30,  1.29s/it]"
     ]
    },
    {
     "name": "stdout",
     "output_type": "stream",
     "text": [
      "[4/200][72/189] ========== Loss_D: 1.4633, Loss_G: 1.6527, Acc_G: 17/32 = 53.1250\n"
     ]
    },
    {
     "name": "stderr",
     "output_type": "stream",
     "text": [
      " 39%|█████████████████████████████████▌                                                     | 73/189 [01:31<02:22,  1.22s/it]"
     ]
    },
    {
     "name": "stdout",
     "output_type": "stream",
     "text": [
      "[4/200][73/189] ========== Loss_D: 1.4499, Loss_G: 1.7540, Acc_G: 17/32 = 53.1250\n"
     ]
    },
    {
     "name": "stderr",
     "output_type": "stream",
     "text": [
      " 39%|██████████████████████████████████                                                     | 74/189 [01:33<02:30,  1.31s/it]"
     ]
    },
    {
     "name": "stdout",
     "output_type": "stream",
     "text": [
      "[4/200][74/189] ========== Loss_D: 1.4704, Loss_G: 1.7481, Acc_G: 17/32 = 53.1250\n"
     ]
    },
    {
     "name": "stderr",
     "output_type": "stream",
     "text": [
      " 40%|██████████████████████████████████▌                                                    | 75/189 [01:34<02:24,  1.27s/it]"
     ]
    },
    {
     "name": "stdout",
     "output_type": "stream",
     "text": [
      "[4/200][75/189] ========== Loss_D: 1.4640, Loss_G: 1.6443, Acc_G: 15/32 = 46.8750\n"
     ]
    },
    {
     "name": "stderr",
     "output_type": "stream",
     "text": [
      " 40%|██████████████████████████████████▉                                                    | 76/189 [01:35<02:15,  1.20s/it]"
     ]
    },
    {
     "name": "stdout",
     "output_type": "stream",
     "text": [
      "[4/200][76/189] ========== Loss_D: 1.4418, Loss_G: 1.7675, Acc_G: 17/32 = 53.1250\n"
     ]
    },
    {
     "name": "stderr",
     "output_type": "stream",
     "text": [
      " 41%|███████████████████████████████████▍                                                   | 77/189 [01:36<02:16,  1.22s/it]"
     ]
    },
    {
     "name": "stdout",
     "output_type": "stream",
     "text": [
      "[4/200][77/189] ========== Loss_D: 1.4156, Loss_G: 1.6368, Acc_G: 21/32 = 65.6250\n"
     ]
    },
    {
     "name": "stderr",
     "output_type": "stream",
     "text": [
      " 41%|███████████████████████████████████▉                                                   | 78/189 [01:37<02:05,  1.13s/it]"
     ]
    },
    {
     "name": "stdout",
     "output_type": "stream",
     "text": [
      "[4/200][78/189] ========== Loss_D: 1.4395, Loss_G: 1.6777, Acc_G: 16/32 = 50.0000\n"
     ]
    },
    {
     "name": "stderr",
     "output_type": "stream",
     "text": [
      " 42%|████████████████████████████████████▎                                                  | 79/189 [01:39<02:06,  1.15s/it]"
     ]
    },
    {
     "name": "stdout",
     "output_type": "stream",
     "text": [
      "[4/200][79/189] ========== Loss_D: 1.4544, Loss_G: 1.6522, Acc_G: 19/32 = 59.3750\n"
     ]
    },
    {
     "name": "stderr",
     "output_type": "stream",
     "text": [
      " 42%|████████████████████████████████████▊                                                  | 80/189 [01:40<02:14,  1.23s/it]"
     ]
    },
    {
     "name": "stdout",
     "output_type": "stream",
     "text": [
      "[4/200][80/189] ========== Loss_D: 1.4397, Loss_G: 1.6925, Acc_G: 20/32 = 62.5000\n"
     ]
    },
    {
     "name": "stderr",
     "output_type": "stream",
     "text": [
      " 43%|█████████████████████████████████████▎                                                 | 81/189 [01:41<02:05,  1.17s/it]"
     ]
    },
    {
     "name": "stdout",
     "output_type": "stream",
     "text": [
      "[4/200][81/189] ========== Loss_D: 1.4510, Loss_G: 1.5885, Acc_G: 21/32 = 65.6250\n"
     ]
    },
    {
     "name": "stderr",
     "output_type": "stream",
     "text": [
      " 43%|█████████████████████████████████████▋                                                 | 82/189 [01:42<02:07,  1.19s/it]"
     ]
    },
    {
     "name": "stdout",
     "output_type": "stream",
     "text": [
      "[4/200][82/189] ========== Loss_D: 1.4479, Loss_G: 1.6258, Acc_G: 23/32 = 71.8750\n"
     ]
    },
    {
     "name": "stderr",
     "output_type": "stream",
     "text": [
      " 44%|██████████████████████████████████████▏                                                | 83/189 [01:44<02:10,  1.23s/it]"
     ]
    },
    {
     "name": "stdout",
     "output_type": "stream",
     "text": [
      "[4/200][83/189] ========== Loss_D: 1.4629, Loss_G: 1.7525, Acc_G: 22/32 = 68.7500\n"
     ]
    },
    {
     "name": "stderr",
     "output_type": "stream",
     "text": [
      " 44%|██████████████████████████████████████▋                                                | 84/189 [01:45<02:07,  1.21s/it]"
     ]
    },
    {
     "name": "stdout",
     "output_type": "stream",
     "text": [
      "[4/200][84/189] ========== Loss_D: 1.4413, Loss_G: 1.6866, Acc_G: 19/32 = 59.3750\n"
     ]
    },
    {
     "name": "stderr",
     "output_type": "stream",
     "text": [
      " 45%|███████████████████████████████████████▏                                               | 85/189 [01:46<02:10,  1.26s/it]"
     ]
    },
    {
     "name": "stdout",
     "output_type": "stream",
     "text": [
      "[4/200][85/189] ========== Loss_D: 1.4505, Loss_G: 1.6286, Acc_G: 21/32 = 65.6250\n"
     ]
    },
    {
     "name": "stderr",
     "output_type": "stream",
     "text": [
      " 46%|███████████████████████████████████████▌                                               | 86/189 [01:47<02:13,  1.30s/it]"
     ]
    },
    {
     "name": "stdout",
     "output_type": "stream",
     "text": [
      "[4/200][86/189] ========== Loss_D: 1.4496, Loss_G: 1.7770, Acc_G: 23/32 = 71.8750\n"
     ]
    },
    {
     "name": "stderr",
     "output_type": "stream",
     "text": [
      " 46%|████████████████████████████████████████                                               | 87/189 [01:49<02:19,  1.36s/it]"
     ]
    },
    {
     "name": "stdout",
     "output_type": "stream",
     "text": [
      "[4/200][87/189] ========== Loss_D: 1.4476, Loss_G: 1.6541, Acc_G: 20/32 = 62.5000\n"
     ]
    },
    {
     "name": "stderr",
     "output_type": "stream",
     "text": [
      " 47%|████████████████████████████████████████▌                                              | 88/189 [01:50<02:09,  1.28s/it]"
     ]
    },
    {
     "name": "stdout",
     "output_type": "stream",
     "text": [
      "[4/200][88/189] ========== Loss_D: 1.4311, Loss_G: 1.7592, Acc_G: 17/32 = 53.1250\n"
     ]
    },
    {
     "name": "stderr",
     "output_type": "stream",
     "text": [
      " 47%|████████████████████████████████████████▉                                              | 89/189 [01:51<01:56,  1.17s/it]"
     ]
    },
    {
     "name": "stdout",
     "output_type": "stream",
     "text": [
      "[4/200][89/189] ========== Loss_D: 1.4452, Loss_G: 1.7644, Acc_G: 19/32 = 59.3750\n"
     ]
    },
    {
     "name": "stderr",
     "output_type": "stream",
     "text": [
      " 48%|█████████████████████████████████████████▍                                             | 90/189 [01:52<02:03,  1.25s/it]"
     ]
    },
    {
     "name": "stdout",
     "output_type": "stream",
     "text": [
      "[4/200][90/189] ========== Loss_D: 1.4283, Loss_G: 1.6292, Acc_G: 22/32 = 68.7500\n"
     ]
    },
    {
     "name": "stderr",
     "output_type": "stream",
     "text": [
      " 48%|█████████████████████████████████████████▉                                             | 91/189 [01:54<02:00,  1.23s/it]"
     ]
    },
    {
     "name": "stdout",
     "output_type": "stream",
     "text": [
      "[4/200][91/189] ========== Loss_D: 1.4394, Loss_G: 1.7732, Acc_G: 19/32 = 59.3750\n"
     ]
    },
    {
     "name": "stderr",
     "output_type": "stream",
     "text": [
      " 49%|██████████████████████████████████████████▎                                            | 92/189 [01:55<02:01,  1.25s/it]"
     ]
    },
    {
     "name": "stdout",
     "output_type": "stream",
     "text": [
      "[4/200][92/189] ========== Loss_D: 1.4507, Loss_G: 1.7185, Acc_G: 18/32 = 56.2500\n"
     ]
    },
    {
     "name": "stderr",
     "output_type": "stream",
     "text": [
      " 49%|██████████████████████████████████████████▊                                            | 93/189 [01:56<01:51,  1.16s/it]"
     ]
    },
    {
     "name": "stdout",
     "output_type": "stream",
     "text": [
      "[4/200][93/189] ========== Loss_D: 1.4319, Loss_G: 1.6248, Acc_G: 21/32 = 65.6250\n"
     ]
    },
    {
     "name": "stderr",
     "output_type": "stream",
     "text": [
      " 50%|███████████████████████████████████████████▎                                           | 94/189 [01:57<01:54,  1.21s/it]"
     ]
    },
    {
     "name": "stdout",
     "output_type": "stream",
     "text": [
      "[4/200][94/189] ========== Loss_D: 1.4506, Loss_G: 1.6204, Acc_G: 23/32 = 71.8750\n"
     ]
    },
    {
     "name": "stderr",
     "output_type": "stream",
     "text": [
      " 50%|███████████████████████████████████████████▋                                           | 95/189 [01:58<01:47,  1.15s/it]"
     ]
    },
    {
     "name": "stdout",
     "output_type": "stream",
     "text": [
      "[4/200][95/189] ========== Loss_D: 1.4335, Loss_G: 1.7297, Acc_G: 17/32 = 53.1250\n"
     ]
    },
    {
     "name": "stderr",
     "output_type": "stream",
     "text": [
      " 51%|████████████████████████████████████████████▏                                          | 96/189 [01:59<01:51,  1.20s/it]"
     ]
    },
    {
     "name": "stdout",
     "output_type": "stream",
     "text": [
      "[4/200][96/189] ========== Loss_D: 1.4583, Loss_G: 1.7348, Acc_G: 20/32 = 62.5000\n"
     ]
    },
    {
     "name": "stderr",
     "output_type": "stream",
     "text": [
      " 51%|████████████████████████████████████████████▋                                          | 97/189 [02:01<01:47,  1.17s/it]"
     ]
    },
    {
     "name": "stdout",
     "output_type": "stream",
     "text": [
      "[4/200][97/189] ========== Loss_D: 1.4374, Loss_G: 1.5514, Acc_G: 19/32 = 59.3750\n"
     ]
    },
    {
     "name": "stderr",
     "output_type": "stream",
     "text": [
      " 52%|█████████████████████████████████████████████                                          | 98/189 [02:02<01:54,  1.26s/it]"
     ]
    },
    {
     "name": "stdout",
     "output_type": "stream",
     "text": [
      "[4/200][98/189] ========== Loss_D: 1.4465, Loss_G: 1.7190, Acc_G: 27/32 = 84.3750\n"
     ]
    },
    {
     "name": "stderr",
     "output_type": "stream",
     "text": [
      " 52%|█████████████████████████████████████████████▌                                         | 99/189 [02:03<01:50,  1.22s/it]"
     ]
    },
    {
     "name": "stdout",
     "output_type": "stream",
     "text": [
      "[4/200][99/189] ========== Loss_D: 1.4528, Loss_G: 1.7604, Acc_G: 20/32 = 62.5000\n"
     ]
    },
    {
     "name": "stderr",
     "output_type": "stream",
     "text": [
      " 53%|█████████████████████████████████████████████▌                                        | 100/189 [02:05<01:55,  1.29s/it]"
     ]
    },
    {
     "name": "stdout",
     "output_type": "stream",
     "text": [
      "[4/200][100/189] ========== Loss_D: 1.4406, Loss_G: 1.7071, Acc_G: 21/32 = 65.6250\n"
     ]
    },
    {
     "name": "stderr",
     "output_type": "stream",
     "text": [
      " 53%|█████████████████████████████████████████████▉                                        | 101/189 [02:06<01:48,  1.23s/it]"
     ]
    },
    {
     "name": "stdout",
     "output_type": "stream",
     "text": [
      "[4/200][101/189] ========== Loss_D: 1.4475, Loss_G: 1.7152, Acc_G: 19/32 = 59.3750\n"
     ]
    },
    {
     "name": "stderr",
     "output_type": "stream",
     "text": [
      " 54%|██████████████████████████████████████████████▍                                       | 102/189 [02:07<01:44,  1.20s/it]"
     ]
    },
    {
     "name": "stdout",
     "output_type": "stream",
     "text": [
      "[4/200][102/189] ========== Loss_D: 1.4493, Loss_G: 1.8185, Acc_G: 23/32 = 71.8750\n"
     ]
    },
    {
     "name": "stderr",
     "output_type": "stream",
     "text": [
      " 54%|██████████████████████████████████████████████▊                                       | 103/189 [02:08<01:44,  1.21s/it]"
     ]
    },
    {
     "name": "stdout",
     "output_type": "stream",
     "text": [
      "[4/200][103/189] ========== Loss_D: 1.4519, Loss_G: 1.6719, Acc_G: 19/32 = 59.3750\n"
     ]
    },
    {
     "name": "stderr",
     "output_type": "stream",
     "text": [
      " 55%|███████████████████████████████████████████████▎                                      | 104/189 [02:09<01:38,  1.16s/it]"
     ]
    },
    {
     "name": "stdout",
     "output_type": "stream",
     "text": [
      "[4/200][104/189] ========== Loss_D: 1.4577, Loss_G: 1.6684, Acc_G: 18/32 = 56.2500\n"
     ]
    },
    {
     "name": "stderr",
     "output_type": "stream",
     "text": [
      " 56%|███████████████████████████████████████████████▊                                      | 105/189 [02:10<01:39,  1.18s/it]"
     ]
    },
    {
     "name": "stdout",
     "output_type": "stream",
     "text": [
      "[4/200][105/189] ========== Loss_D: 1.4417, Loss_G: 1.6939, Acc_G: 18/32 = 56.2500\n"
     ]
    },
    {
     "name": "stderr",
     "output_type": "stream",
     "text": [
      " 56%|████████████████████████████████████████████████▏                                     | 106/189 [02:12<01:43,  1.25s/it]"
     ]
    },
    {
     "name": "stdout",
     "output_type": "stream",
     "text": [
      "[4/200][106/189] ========== Loss_D: 1.4412, Loss_G: 1.6960, Acc_G: 20/32 = 62.5000\n"
     ]
    },
    {
     "name": "stderr",
     "output_type": "stream",
     "text": [
      " 57%|████████████████████████████████████████████████▋                                     | 107/189 [02:13<01:40,  1.22s/it]"
     ]
    },
    {
     "name": "stdout",
     "output_type": "stream",
     "text": [
      "[4/200][107/189] ========== Loss_D: 1.4480, Loss_G: 1.6662, Acc_G: 20/32 = 62.5000\n"
     ]
    },
    {
     "name": "stderr",
     "output_type": "stream",
     "text": [
      " 57%|█████████████████████████████████████████████████▏                                    | 108/189 [02:14<01:35,  1.18s/it]"
     ]
    },
    {
     "name": "stdout",
     "output_type": "stream",
     "text": [
      "[4/200][108/189] ========== Loss_D: 1.4673, Loss_G: 1.6905, Acc_G: 20/32 = 62.5000\n"
     ]
    },
    {
     "name": "stderr",
     "output_type": "stream",
     "text": [
      " 58%|█████████████████████████████████████████████████▌                                    | 109/189 [02:15<01:31,  1.14s/it]"
     ]
    },
    {
     "name": "stdout",
     "output_type": "stream",
     "text": [
      "[4/200][109/189] ========== Loss_D: 1.4406, Loss_G: 1.6870, Acc_G: 26/32 = 81.2500\n"
     ]
    },
    {
     "name": "stderr",
     "output_type": "stream",
     "text": [
      " 58%|██████████████████████████████████████████████████                                    | 110/189 [02:16<01:35,  1.21s/it]"
     ]
    },
    {
     "name": "stdout",
     "output_type": "stream",
     "text": [
      "[4/200][110/189] ========== Loss_D: 1.4335, Loss_G: 1.6584, Acc_G: 20/32 = 62.5000\n"
     ]
    },
    {
     "name": "stderr",
     "output_type": "stream",
     "text": [
      " 59%|██████████████████████████████████████████████████▌                                   | 111/189 [02:18<01:32,  1.19s/it]"
     ]
    },
    {
     "name": "stdout",
     "output_type": "stream",
     "text": [
      "[4/200][111/189] ========== Loss_D: 1.4561, Loss_G: 1.6596, Acc_G: 16/32 = 50.0000\n"
     ]
    },
    {
     "name": "stderr",
     "output_type": "stream",
     "text": [
      " 59%|██████████████████████████████████████████████████▉                                   | 112/189 [02:19<01:36,  1.25s/it]"
     ]
    },
    {
     "name": "stdout",
     "output_type": "stream",
     "text": [
      "[4/200][112/189] ========== Loss_D: 1.4503, Loss_G: 1.7702, Acc_G: 21/32 = 65.6250\n"
     ]
    },
    {
     "name": "stderr",
     "output_type": "stream",
     "text": [
      " 60%|███████████████████████████████████████████████████▍                                  | 113/189 [02:20<01:32,  1.22s/it]"
     ]
    },
    {
     "name": "stdout",
     "output_type": "stream",
     "text": [
      "[4/200][113/189] ========== Loss_D: 1.4458, Loss_G: 1.6704, Acc_G: 22/32 = 68.7500\n"
     ]
    },
    {
     "name": "stderr",
     "output_type": "stream",
     "text": [
      " 60%|███████████████████████████████████████████████████▊                                  | 114/189 [02:21<01:35,  1.27s/it]"
     ]
    },
    {
     "name": "stdout",
     "output_type": "stream",
     "text": [
      "[4/200][114/189] ========== Loss_D: 1.4262, Loss_G: 1.7477, Acc_G: 20/32 = 62.5000\n"
     ]
    },
    {
     "name": "stderr",
     "output_type": "stream",
     "text": [
      " 61%|████████████████████████████████████████████████████▎                                 | 115/189 [02:23<01:43,  1.40s/it]"
     ]
    },
    {
     "name": "stdout",
     "output_type": "stream",
     "text": [
      "[4/200][115/189] ========== Loss_D: 1.4619, Loss_G: 1.6316, Acc_G: 18/32 = 56.2500\n"
     ]
    },
    {
     "name": "stderr",
     "output_type": "stream",
     "text": [
      " 61%|████████████████████████████████████████████████████▊                                 | 116/189 [02:24<01:32,  1.26s/it]"
     ]
    },
    {
     "name": "stdout",
     "output_type": "stream",
     "text": [
      "[4/200][116/189] ========== Loss_D: 1.4393, Loss_G: 1.7135, Acc_G: 17/32 = 53.1250\n"
     ]
    },
    {
     "name": "stderr",
     "output_type": "stream",
     "text": [
      " 62%|█████████████████████████████████████████████████████▏                                | 117/189 [02:25<01:25,  1.19s/it]"
     ]
    },
    {
     "name": "stdout",
     "output_type": "stream",
     "text": [
      "[4/200][117/189] ========== Loss_D: 1.4520, Loss_G: 1.6851, Acc_G: 15/32 = 46.8750\n"
     ]
    },
    {
     "name": "stderr",
     "output_type": "stream",
     "text": [
      " 62%|█████████████████████████████████████████████████████▋                                | 118/189 [02:26<01:22,  1.16s/it]"
     ]
    },
    {
     "name": "stdout",
     "output_type": "stream",
     "text": [
      "[4/200][118/189] ========== Loss_D: 1.4439, Loss_G: 1.6630, Acc_G: 22/32 = 68.7500\n"
     ]
    },
    {
     "name": "stderr",
     "output_type": "stream",
     "text": [
      " 63%|██████████████████████████████████████████████████████▏                               | 119/189 [02:27<01:22,  1.17s/it]"
     ]
    },
    {
     "name": "stdout",
     "output_type": "stream",
     "text": [
      "[4/200][119/189] ========== Loss_D: 1.4405, Loss_G: 1.6908, Acc_G: 15/32 = 46.8750\n"
     ]
    },
    {
     "name": "stderr",
     "output_type": "stream",
     "text": [
      " 63%|██████████████████████████████████████████████████████▌                               | 120/189 [02:29<01:21,  1.18s/it]"
     ]
    },
    {
     "name": "stdout",
     "output_type": "stream",
     "text": [
      "[4/200][120/189] ========== Loss_D: 1.4530, Loss_G: 1.7054, Acc_G: 18/32 = 56.2500\n"
     ]
    },
    {
     "name": "stderr",
     "output_type": "stream",
     "text": [
      " 64%|███████████████████████████████████████████████████████                               | 121/189 [02:30<01:18,  1.15s/it]"
     ]
    },
    {
     "name": "stdout",
     "output_type": "stream",
     "text": [
      "[4/200][121/189] ========== Loss_D: 1.4446, Loss_G: 1.7588, Acc_G: 17/32 = 53.1250\n"
     ]
    },
    {
     "name": "stderr",
     "output_type": "stream",
     "text": [
      " 65%|███████████████████████████████████████████████████████▌                              | 122/189 [02:31<01:20,  1.20s/it]"
     ]
    },
    {
     "name": "stdout",
     "output_type": "stream",
     "text": [
      "[4/200][122/189] ========== Loss_D: 1.4589, Loss_G: 1.7252, Acc_G: 19/32 = 59.3750\n"
     ]
    },
    {
     "name": "stderr",
     "output_type": "stream",
     "text": [
      " 65%|███████████████████████████████████████████████████████▉                              | 123/189 [02:33<01:25,  1.30s/it]"
     ]
    },
    {
     "name": "stdout",
     "output_type": "stream",
     "text": [
      "[4/200][123/189] ========== Loss_D: 1.4520, Loss_G: 1.7876, Acc_G: 27/32 = 84.3750\n"
     ]
    },
    {
     "name": "stderr",
     "output_type": "stream",
     "text": [
      " 66%|████████████████████████████████████████████████████████▍                             | 124/189 [02:33<01:15,  1.16s/it]"
     ]
    },
    {
     "name": "stdout",
     "output_type": "stream",
     "text": [
      "[4/200][124/189] ========== Loss_D: 1.4433, Loss_G: 1.5873, Acc_G: 24/32 = 75.0000\n"
     ]
    },
    {
     "name": "stderr",
     "output_type": "stream",
     "text": [
      " 66%|████████████████████████████████████████████████████████▉                             | 125/189 [02:35<01:15,  1.17s/it]"
     ]
    },
    {
     "name": "stdout",
     "output_type": "stream",
     "text": [
      "[4/200][125/189] ========== Loss_D: 1.4537, Loss_G: 1.8019, Acc_G: 22/32 = 68.7500\n"
     ]
    },
    {
     "name": "stderr",
     "output_type": "stream",
     "text": [
      " 67%|█████████████████████████████████████████████████████████▎                            | 126/189 [02:36<01:12,  1.15s/it]"
     ]
    },
    {
     "name": "stdout",
     "output_type": "stream",
     "text": [
      "[4/200][126/189] ========== Loss_D: 1.4398, Loss_G: 1.7807, Acc_G: 20/32 = 62.5000\n"
     ]
    },
    {
     "name": "stderr",
     "output_type": "stream",
     "text": [
      " 67%|█████████████████████████████████████████████████████████▊                            | 127/189 [02:37<01:13,  1.18s/it]"
     ]
    },
    {
     "name": "stdout",
     "output_type": "stream",
     "text": [
      "[4/200][127/189] ========== Loss_D: 1.4337, Loss_G: 1.6775, Acc_G: 23/32 = 71.8750\n"
     ]
    },
    {
     "name": "stderr",
     "output_type": "stream",
     "text": [
      " 68%|██████████████████████████████████████████████████████████▏                           | 128/189 [02:38<01:16,  1.25s/it]"
     ]
    },
    {
     "name": "stdout",
     "output_type": "stream",
     "text": [
      "[4/200][128/189] ========== Loss_D: 1.4423, Loss_G: 1.5832, Acc_G: 19/32 = 59.3750\n"
     ]
    },
    {
     "name": "stderr",
     "output_type": "stream",
     "text": [
      " 68%|██████████████████████████████████████████████████████████▋                           | 129/189 [02:40<01:15,  1.27s/it]"
     ]
    },
    {
     "name": "stdout",
     "output_type": "stream",
     "text": [
      "[4/200][129/189] ========== Loss_D: 1.4416, Loss_G: 1.6566, Acc_G: 22/32 = 68.7500\n"
     ]
    },
    {
     "name": "stderr",
     "output_type": "stream",
     "text": [
      " 69%|███████████████████████████████████████████████████████████▏                          | 130/189 [02:41<01:09,  1.18s/it]"
     ]
    },
    {
     "name": "stdout",
     "output_type": "stream",
     "text": [
      "[4/200][130/189] ========== Loss_D: 1.4631, Loss_G: 1.6299, Acc_G: 21/32 = 65.6250\n"
     ]
    },
    {
     "name": "stderr",
     "output_type": "stream",
     "text": [
      " 69%|███████████████████████████████████████████████████████████▌                          | 131/189 [02:42<01:12,  1.25s/it]"
     ]
    },
    {
     "name": "stdout",
     "output_type": "stream",
     "text": [
      "[4/200][131/189] ========== Loss_D: 1.4354, Loss_G: 1.6520, Acc_G: 23/32 = 71.8750\n"
     ]
    },
    {
     "name": "stderr",
     "output_type": "stream",
     "text": [
      " 70%|████████████████████████████████████████████████████████████                          | 132/189 [02:44<01:16,  1.34s/it]"
     ]
    },
    {
     "name": "stdout",
     "output_type": "stream",
     "text": [
      "[4/200][132/189] ========== Loss_D: 1.4596, Loss_G: 1.7708, Acc_G: 22/32 = 68.7500\n"
     ]
    },
    {
     "name": "stderr",
     "output_type": "stream",
     "text": [
      " 70%|████████████████████████████████████████████████████████████▌                         | 133/189 [02:45<01:15,  1.34s/it]"
     ]
    },
    {
     "name": "stdout",
     "output_type": "stream",
     "text": [
      "[4/200][133/189] ========== Loss_D: 1.4467, Loss_G: 1.5645, Acc_G: 20/32 = 62.5000\n"
     ]
    },
    {
     "name": "stderr",
     "output_type": "stream",
     "text": [
      " 71%|████████████████████████████████████████████████████████████▉                         | 134/189 [02:46<01:16,  1.39s/it]"
     ]
    },
    {
     "name": "stdout",
     "output_type": "stream",
     "text": [
      "[4/200][134/189] ========== Loss_D: 1.4468, Loss_G: 1.6023, Acc_G: 21/32 = 65.6250\n"
     ]
    },
    {
     "name": "stderr",
     "output_type": "stream",
     "text": [
      " 71%|█████████████████████████████████████████████████████████████▍                        | 135/189 [02:48<01:09,  1.29s/it]"
     ]
    },
    {
     "name": "stdout",
     "output_type": "stream",
     "text": [
      "[4/200][135/189] ========== Loss_D: 1.4569, Loss_G: 1.7569, Acc_G: 17/32 = 53.1250\n"
     ]
    },
    {
     "name": "stderr",
     "output_type": "stream",
     "text": [
      " 72%|█████████████████████████████████████████████████████████████▉                        | 136/189 [02:49<01:06,  1.25s/it]"
     ]
    },
    {
     "name": "stdout",
     "output_type": "stream",
     "text": [
      "[4/200][136/189] ========== Loss_D: 1.4354, Loss_G: 1.6834, Acc_G: 21/32 = 65.6250\n"
     ]
    },
    {
     "name": "stderr",
     "output_type": "stream",
     "text": [
      " 72%|██████████████████████████████████████████████████████████████▎                       | 137/189 [02:50<01:04,  1.24s/it]"
     ]
    },
    {
     "name": "stdout",
     "output_type": "stream",
     "text": [
      "[4/200][137/189] ========== Loss_D: 1.4511, Loss_G: 1.7907, Acc_G: 27/32 = 84.3750\n"
     ]
    },
    {
     "name": "stderr",
     "output_type": "stream",
     "text": [
      " 73%|██████████████████████████████████████████████████████████████▊                       | 138/189 [02:51<01:00,  1.18s/it]"
     ]
    },
    {
     "name": "stdout",
     "output_type": "stream",
     "text": [
      "[4/200][138/189] ========== Loss_D: 1.4581, Loss_G: 1.6926, Acc_G: 17/32 = 53.1250\n"
     ]
    },
    {
     "name": "stderr",
     "output_type": "stream",
     "text": [
      " 74%|███████████████████████████████████████████████████████████████▏                      | 139/189 [02:52<00:58,  1.17s/it]"
     ]
    },
    {
     "name": "stdout",
     "output_type": "stream",
     "text": [
      "[4/200][139/189] ========== Loss_D: 1.4639, Loss_G: 1.6937, Acc_G: 12/32 = 37.5000\n"
     ]
    },
    {
     "name": "stderr",
     "output_type": "stream",
     "text": [
      " 74%|███████████████████████████████████████████████████████████████▋                      | 140/189 [02:53<00:56,  1.16s/it]"
     ]
    },
    {
     "name": "stdout",
     "output_type": "stream",
     "text": [
      "[4/200][140/189] ========== Loss_D: 1.4437, Loss_G: 1.8130, Acc_G: 19/32 = 59.3750\n"
     ]
    },
    {
     "name": "stderr",
     "output_type": "stream",
     "text": [
      " 75%|████████████████████████████████████████████████████████████████▏                     | 141/189 [02:54<00:51,  1.07s/it]"
     ]
    },
    {
     "name": "stdout",
     "output_type": "stream",
     "text": [
      "[4/200][141/189] ========== Loss_D: 1.4403, Loss_G: 1.5657, Acc_G: 16/32 = 50.0000\n"
     ]
    },
    {
     "name": "stderr",
     "output_type": "stream",
     "text": [
      " 75%|████████████████████████████████████████████████████████████████▌                     | 142/189 [02:56<00:57,  1.22s/it]"
     ]
    },
    {
     "name": "stdout",
     "output_type": "stream",
     "text": [
      "[4/200][142/189] ========== Loss_D: 1.4508, Loss_G: 1.7139, Acc_G: 27/32 = 84.3750\n"
     ]
    },
    {
     "name": "stderr",
     "output_type": "stream",
     "text": [
      " 76%|█████████████████████████████████████████████████████████████████                     | 143/189 [02:57<00:56,  1.23s/it]"
     ]
    },
    {
     "name": "stdout",
     "output_type": "stream",
     "text": [
      "[4/200][143/189] ========== Loss_D: 1.4207, Loss_G: 1.6088, Acc_G: 17/32 = 53.1250\n"
     ]
    },
    {
     "name": "stderr",
     "output_type": "stream",
     "text": [
      " 76%|█████████████████████████████████████████████████████████████████▌                    | 144/189 [02:58<00:53,  1.18s/it]"
     ]
    },
    {
     "name": "stdout",
     "output_type": "stream",
     "text": [
      "[4/200][144/189] ========== Loss_D: 1.4452, Loss_G: 1.6861, Acc_G: 24/32 = 75.0000\n"
     ]
    },
    {
     "name": "stderr",
     "output_type": "stream",
     "text": [
      " 77%|█████████████████████████████████████████████████████████████████▉                    | 145/189 [03:00<00:57,  1.32s/it]"
     ]
    },
    {
     "name": "stdout",
     "output_type": "stream",
     "text": [
      "[4/200][145/189] ========== Loss_D: 1.4547, Loss_G: 1.6930, Acc_G: 22/32 = 68.7500\n"
     ]
    },
    {
     "name": "stderr",
     "output_type": "stream",
     "text": [
      " 77%|██████████████████████████████████████████████████████████████████▍                   | 146/189 [03:01<01:00,  1.40s/it]"
     ]
    },
    {
     "name": "stdout",
     "output_type": "stream",
     "text": [
      "[4/200][146/189] ========== Loss_D: 1.4431, Loss_G: 1.6646, Acc_G: 18/32 = 56.2500\n"
     ]
    },
    {
     "name": "stderr",
     "output_type": "stream",
     "text": [
      " 78%|██████████████████████████████████████████████████████████████████▉                   | 147/189 [03:02<00:57,  1.36s/it]"
     ]
    },
    {
     "name": "stdout",
     "output_type": "stream",
     "text": [
      "[4/200][147/189] ========== Loss_D: 1.4436, Loss_G: 1.7222, Acc_G: 19/32 = 59.3750\n"
     ]
    },
    {
     "name": "stderr",
     "output_type": "stream",
     "text": [
      " 78%|███████████████████████████████████████████████████████████████████▎                  | 148/189 [03:04<00:53,  1.30s/it]"
     ]
    },
    {
     "name": "stdout",
     "output_type": "stream",
     "text": [
      "[4/200][148/189] ========== Loss_D: 1.4430, Loss_G: 1.7574, Acc_G: 22/32 = 68.7500\n"
     ]
    },
    {
     "name": "stderr",
     "output_type": "stream",
     "text": [
      " 79%|███████████████████████████████████████████████████████████████████▊                  | 149/189 [03:05<00:53,  1.34s/it]"
     ]
    },
    {
     "name": "stdout",
     "output_type": "stream",
     "text": [
      "[4/200][149/189] ========== Loss_D: 1.4640, Loss_G: 1.6492, Acc_G: 20/32 = 62.5000\n"
     ]
    },
    {
     "name": "stderr",
     "output_type": "stream",
     "text": [
      " 79%|████████████████████████████████████████████████████████████████████▎                 | 150/189 [03:06<00:48,  1.24s/it]"
     ]
    },
    {
     "name": "stdout",
     "output_type": "stream",
     "text": [
      "[4/200][150/189] ========== Loss_D: 1.4596, Loss_G: 1.7786, Acc_G: 18/32 = 56.2500\n"
     ]
    },
    {
     "name": "stderr",
     "output_type": "stream",
     "text": [
      " 80%|████████████████████████████████████████████████████████████████████▋                 | 151/189 [03:07<00:46,  1.21s/it]"
     ]
    },
    {
     "name": "stdout",
     "output_type": "stream",
     "text": [
      "[4/200][151/189] ========== Loss_D: 1.4525, Loss_G: 1.5833, Acc_G: 19/32 = 59.3750\n"
     ]
    },
    {
     "name": "stderr",
     "output_type": "stream",
     "text": [
      " 80%|█████████████████████████████████████████████████████████████████████▏                | 152/189 [03:08<00:44,  1.20s/it]"
     ]
    },
    {
     "name": "stdout",
     "output_type": "stream",
     "text": [
      "[4/200][152/189] ========== Loss_D: 1.4562, Loss_G: 1.6468, Acc_G: 23/32 = 71.8750\n"
     ]
    },
    {
     "name": "stderr",
     "output_type": "stream",
     "text": [
      " 81%|█████████████████████████████████████████████████████████████████████▌                | 153/189 [03:10<00:48,  1.35s/it]"
     ]
    },
    {
     "name": "stdout",
     "output_type": "stream",
     "text": [
      "[4/200][153/189] ========== Loss_D: 1.4544, Loss_G: 1.6757, Acc_G: 15/32 = 46.8750\n"
     ]
    },
    {
     "name": "stderr",
     "output_type": "stream",
     "text": [
      " 81%|██████████████████████████████████████████████████████████████████████                | 154/189 [03:11<00:42,  1.21s/it]"
     ]
    },
    {
     "name": "stdout",
     "output_type": "stream",
     "text": [
      "[4/200][154/189] ========== Loss_D: 1.4670, Loss_G: 1.8711, Acc_G: 22/32 = 68.7500\n"
     ]
    },
    {
     "name": "stderr",
     "output_type": "stream",
     "text": [
      " 82%|██████████████████████████████████████████████████████████████████████▌               | 155/189 [03:12<00:40,  1.18s/it]"
     ]
    },
    {
     "name": "stdout",
     "output_type": "stream",
     "text": [
      "[4/200][155/189] ========== Loss_D: 1.4541, Loss_G: 1.6611, Acc_G: 22/32 = 68.7500\n"
     ]
    },
    {
     "name": "stderr",
     "output_type": "stream",
     "text": [
      " 83%|██████████████████████████████████████████████████████████████████████▉               | 156/189 [03:13<00:40,  1.23s/it]"
     ]
    },
    {
     "name": "stdout",
     "output_type": "stream",
     "text": [
      "[4/200][156/189] ========== Loss_D: 1.4635, Loss_G: 1.6868, Acc_G: 21/32 = 65.6250\n"
     ]
    },
    {
     "name": "stderr",
     "output_type": "stream",
     "text": [
      " 83%|███████████████████████████████████████████████████████████████████████▍              | 157/189 [03:15<00:38,  1.19s/it]"
     ]
    },
    {
     "name": "stdout",
     "output_type": "stream",
     "text": [
      "[4/200][157/189] ========== Loss_D: 1.4543, Loss_G: 1.7198, Acc_G: 20/32 = 62.5000\n"
     ]
    },
    {
     "name": "stderr",
     "output_type": "stream",
     "text": [
      " 84%|███████████████████████████████████████████████████████████████████████▉              | 158/189 [03:16<00:35,  1.15s/it]"
     ]
    },
    {
     "name": "stdout",
     "output_type": "stream",
     "text": [
      "[4/200][158/189] ========== Loss_D: 1.4531, Loss_G: 1.7839, Acc_G: 25/32 = 78.1250\n"
     ]
    },
    {
     "name": "stderr",
     "output_type": "stream",
     "text": [
      " 84%|████████████████████████████████████████████████████████████████████████▎             | 159/189 [03:17<00:33,  1.13s/it]"
     ]
    },
    {
     "name": "stdout",
     "output_type": "stream",
     "text": [
      "[4/200][159/189] ========== Loss_D: 1.4575, Loss_G: 1.5988, Acc_G: 20/32 = 62.5000\n"
     ]
    },
    {
     "name": "stderr",
     "output_type": "stream",
     "text": [
      " 85%|████████████████████████████████████████████████████████████████████████▊             | 160/189 [03:18<00:35,  1.24s/it]"
     ]
    },
    {
     "name": "stdout",
     "output_type": "stream",
     "text": [
      "[4/200][160/189] ========== Loss_D: 1.4466, Loss_G: 1.6689, Acc_G: 24/32 = 75.0000\n"
     ]
    },
    {
     "name": "stderr",
     "output_type": "stream",
     "text": [
      " 85%|█████████████████████████████████████████████████████████████████████████▎            | 161/189 [03:20<00:37,  1.34s/it]"
     ]
    },
    {
     "name": "stdout",
     "output_type": "stream",
     "text": [
      "[4/200][161/189] ========== Loss_D: 1.4356, Loss_G: 1.6028, Acc_G: 23/32 = 71.8750\n"
     ]
    },
    {
     "name": "stderr",
     "output_type": "stream",
     "text": [
      " 86%|█████████████████████████████████████████████████████████████████████████▋            | 162/189 [03:21<00:37,  1.39s/it]"
     ]
    },
    {
     "name": "stdout",
     "output_type": "stream",
     "text": [
      "[4/200][162/189] ========== Loss_D: 1.4572, Loss_G: 1.6881, Acc_G: 22/32 = 68.7500\n"
     ]
    },
    {
     "name": "stderr",
     "output_type": "stream",
     "text": [
      " 86%|██████████████████████████████████████████████████████████████████████████▏           | 163/189 [03:23<00:35,  1.37s/it]"
     ]
    },
    {
     "name": "stdout",
     "output_type": "stream",
     "text": [
      "[4/200][163/189] ========== Loss_D: 1.4443, Loss_G: 1.6945, Acc_G: 20/32 = 62.5000\n"
     ]
    },
    {
     "name": "stderr",
     "output_type": "stream",
     "text": [
      " 87%|██████████████████████████████████████████████████████████████████████████▌           | 164/189 [03:24<00:32,  1.31s/it]"
     ]
    },
    {
     "name": "stdout",
     "output_type": "stream",
     "text": [
      "[4/200][164/189] ========== Loss_D: 1.4349, Loss_G: 1.7353, Acc_G: 21/32 = 65.6250\n"
     ]
    },
    {
     "name": "stderr",
     "output_type": "stream",
     "text": [
      " 87%|███████████████████████████████████████████████████████████████████████████           | 165/189 [03:25<00:32,  1.36s/it]"
     ]
    },
    {
     "name": "stdout",
     "output_type": "stream",
     "text": [
      "[4/200][165/189] ========== Loss_D: 1.4613, Loss_G: 1.7834, Acc_G: 21/32 = 65.6250\n"
     ]
    },
    {
     "name": "stderr",
     "output_type": "stream",
     "text": [
      " 88%|███████████████████████████████████████████████████████████████████████████▌          | 166/189 [03:27<00:30,  1.34s/it]"
     ]
    },
    {
     "name": "stdout",
     "output_type": "stream",
     "text": [
      "[4/200][166/189] ========== Loss_D: 1.4507, Loss_G: 1.6340, Acc_G: 23/32 = 71.8750\n"
     ]
    },
    {
     "name": "stderr",
     "output_type": "stream",
     "text": [
      " 88%|███████████████████████████████████████████████████████████████████████████▉          | 167/189 [03:28<00:27,  1.25s/it]"
     ]
    },
    {
     "name": "stdout",
     "output_type": "stream",
     "text": [
      "[4/200][167/189] ========== Loss_D: 1.4408, Loss_G: 1.7185, Acc_G: 22/32 = 68.7500\n"
     ]
    },
    {
     "name": "stderr",
     "output_type": "stream",
     "text": [
      " 89%|████████████████████████████████████████████████████████████████████████████▍         | 168/189 [03:29<00:24,  1.18s/it]"
     ]
    },
    {
     "name": "stdout",
     "output_type": "stream",
     "text": [
      "[4/200][168/189] ========== Loss_D: 1.4669, Loss_G: 1.6170, Acc_G: 21/32 = 65.6250\n"
     ]
    },
    {
     "name": "stderr",
     "output_type": "stream",
     "text": [
      " 89%|████████████████████████████████████████████████████████████████████████████▉         | 169/189 [03:30<00:25,  1.29s/it]"
     ]
    },
    {
     "name": "stdout",
     "output_type": "stream",
     "text": [
      "[4/200][169/189] ========== Loss_D: 1.4583, Loss_G: 1.6607, Acc_G: 19/32 = 59.3750\n"
     ]
    },
    {
     "name": "stderr",
     "output_type": "stream",
     "text": [
      " 90%|█████████████████████████████████████████████████████████████████████████████▎        | 170/189 [03:31<00:23,  1.26s/it]"
     ]
    },
    {
     "name": "stdout",
     "output_type": "stream",
     "text": [
      "[4/200][170/189] ========== Loss_D: 1.4352, Loss_G: 1.6953, Acc_G: 25/32 = 78.1250\n"
     ]
    },
    {
     "name": "stderr",
     "output_type": "stream",
     "text": [
      " 90%|█████████████████████████████████████████████████████████████████████████████▊        | 171/189 [03:33<00:23,  1.28s/it]"
     ]
    },
    {
     "name": "stdout",
     "output_type": "stream",
     "text": [
      "[4/200][171/189] ========== Loss_D: 1.4582, Loss_G: 1.6659, Acc_G: 22/32 = 68.7500\n"
     ]
    },
    {
     "name": "stderr",
     "output_type": "stream",
     "text": [
      " 91%|██████████████████████████████████████████████████████████████████████████████▎       | 172/189 [03:34<00:22,  1.32s/it]"
     ]
    },
    {
     "name": "stdout",
     "output_type": "stream",
     "text": [
      "[4/200][172/189] ========== Loss_D: 1.4476, Loss_G: 1.7571, Acc_G: 24/32 = 75.0000\n"
     ]
    },
    {
     "name": "stderr",
     "output_type": "stream",
     "text": [
      " 92%|██████████████████████████████████████████████████████████████████████████████▋       | 173/189 [03:35<00:19,  1.23s/it]"
     ]
    },
    {
     "name": "stdout",
     "output_type": "stream",
     "text": [
      "[4/200][173/189] ========== Loss_D: 1.4519, Loss_G: 1.7298, Acc_G: 15/32 = 46.8750\n"
     ]
    },
    {
     "name": "stderr",
     "output_type": "stream",
     "text": [
      " 92%|███████████████████████████████████████████████████████████████████████████████▏      | 174/189 [03:36<00:18,  1.24s/it]"
     ]
    },
    {
     "name": "stdout",
     "output_type": "stream",
     "text": [
      "[4/200][174/189] ========== Loss_D: 1.4642, Loss_G: 1.7427, Acc_G: 21/32 = 65.6250\n"
     ]
    },
    {
     "name": "stderr",
     "output_type": "stream",
     "text": [
      " 93%|███████████████████████████████████████████████████████████████████████████████▋      | 175/189 [03:37<00:16,  1.16s/it]"
     ]
    },
    {
     "name": "stdout",
     "output_type": "stream",
     "text": [
      "[4/200][175/189] ========== Loss_D: 1.4359, Loss_G: 1.7540, Acc_G: 19/32 = 59.3750\n"
     ]
    },
    {
     "name": "stderr",
     "output_type": "stream",
     "text": [
      " 93%|████████████████████████████████████████████████████████████████████████████████      | 176/189 [03:39<00:15,  1.23s/it]"
     ]
    },
    {
     "name": "stdout",
     "output_type": "stream",
     "text": [
      "[4/200][176/189] ========== Loss_D: 1.4555, Loss_G: 1.7378, Acc_G: 18/32 = 56.2500\n"
     ]
    },
    {
     "name": "stderr",
     "output_type": "stream",
     "text": [
      " 94%|████████████████████████████████████████████████████████████████████████████████▌     | 177/189 [03:40<00:14,  1.18s/it]"
     ]
    },
    {
     "name": "stdout",
     "output_type": "stream",
     "text": [
      "[4/200][177/189] ========== Loss_D: 1.4484, Loss_G: 1.7365, Acc_G: 23/32 = 71.8750\n"
     ]
    },
    {
     "name": "stderr",
     "output_type": "stream",
     "text": [
      " 94%|████████████████████████████████████████████████████████████████████████████████▉     | 178/189 [03:41<00:12,  1.14s/it]"
     ]
    },
    {
     "name": "stdout",
     "output_type": "stream",
     "text": [
      "[4/200][178/189] ========== Loss_D: 1.4463, Loss_G: 1.7251, Acc_G: 21/32 = 65.6250\n"
     ]
    },
    {
     "name": "stderr",
     "output_type": "stream",
     "text": [
      " 95%|█████████████████████████████████████████████████████████████████████████████████▍    | 179/189 [03:42<00:11,  1.17s/it]"
     ]
    },
    {
     "name": "stdout",
     "output_type": "stream",
     "text": [
      "[4/200][179/189] ========== Loss_D: 1.4380, Loss_G: 1.6598, Acc_G: 20/32 = 62.5000\n"
     ]
    },
    {
     "name": "stderr",
     "output_type": "stream",
     "text": [
      " 95%|█████████████████████████████████████████████████████████████████████████████████▉    | 180/189 [03:43<00:10,  1.13s/it]"
     ]
    },
    {
     "name": "stdout",
     "output_type": "stream",
     "text": [
      "[4/200][180/189] ========== Loss_D: 1.4513, Loss_G: 1.6451, Acc_G: 23/32 = 71.8750\n"
     ]
    },
    {
     "name": "stderr",
     "output_type": "stream",
     "text": [
      " 96%|██████████████████████████████████████████████████████████████████████████████████▎   | 181/189 [03:44<00:09,  1.18s/it]"
     ]
    },
    {
     "name": "stdout",
     "output_type": "stream",
     "text": [
      "[4/200][181/189] ========== Loss_D: 1.4530, Loss_G: 1.6705, Acc_G: 24/32 = 75.0000\n"
     ]
    },
    {
     "name": "stderr",
     "output_type": "stream",
     "text": [
      " 96%|██████████████████████████████████████████████████████████████████████████████████▊   | 182/189 [03:45<00:08,  1.15s/it]"
     ]
    },
    {
     "name": "stdout",
     "output_type": "stream",
     "text": [
      "[4/200][182/189] ========== Loss_D: 1.4420, Loss_G: 1.6118, Acc_G: 22/32 = 68.7500\n"
     ]
    },
    {
     "name": "stderr",
     "output_type": "stream",
     "text": [
      " 97%|███████████████████████████████████████████████████████████████████████████████████▎  | 183/189 [03:46<00:06,  1.09s/it]"
     ]
    },
    {
     "name": "stdout",
     "output_type": "stream",
     "text": [
      "[4/200][183/189] ========== Loss_D: 1.4465, Loss_G: 1.7003, Acc_G: 15/32 = 46.8750\n"
     ]
    },
    {
     "name": "stderr",
     "output_type": "stream",
     "text": [
      " 97%|███████████████████████████████████████████████████████████████████████████████████▋  | 184/189 [03:48<00:05,  1.19s/it]"
     ]
    },
    {
     "name": "stdout",
     "output_type": "stream",
     "text": [
      "[4/200][184/189] ========== Loss_D: 1.4609, Loss_G: 1.6393, Acc_G: 23/32 = 71.8750\n"
     ]
    },
    {
     "name": "stderr",
     "output_type": "stream",
     "text": [
      " 98%|████████████████████████████████████████████████████████████████████████████████████▏ | 185/189 [03:49<00:04,  1.24s/it]"
     ]
    },
    {
     "name": "stdout",
     "output_type": "stream",
     "text": [
      "[4/200][185/189] ========== Loss_D: 1.4336, Loss_G: 1.6561, Acc_G: 22/32 = 68.7500\n"
     ]
    },
    {
     "name": "stderr",
     "output_type": "stream",
     "text": [
      " 98%|████████████████████████████████████████████████████████████████████████████████████▋ | 186/189 [03:50<00:03,  1.23s/it]"
     ]
    },
    {
     "name": "stdout",
     "output_type": "stream",
     "text": [
      "[4/200][186/189] ========== Loss_D: 1.4489, Loss_G: 1.7546, Acc_G: 21/32 = 65.6250\n"
     ]
    },
    {
     "name": "stderr",
     "output_type": "stream",
     "text": [
      " 99%|█████████████████████████████████████████████████████████████████████████████████████ | 187/189 [03:52<00:02,  1.27s/it]"
     ]
    },
    {
     "name": "stdout",
     "output_type": "stream",
     "text": [
      "[4/200][187/189] ========== Loss_D: 1.4453, Loss_G: 1.7564, Acc_G: 20/32 = 62.5000\n"
     ]
    },
    {
     "name": "stderr",
     "output_type": "stream",
     "text": [
      " 99%|█████████████████████████████████████████████████████████████████████████████████████▌| 188/189 [03:53<00:01,  1.28s/it]"
     ]
    },
    {
     "name": "stdout",
     "output_type": "stream",
     "text": [
      "[4/200][188/189] ========== Loss_D: 1.4480, Loss_G: 1.6181, Acc_G: 27/32 = 84.3750\n"
     ]
    },
    {
     "name": "stderr",
     "output_type": "stream",
     "text": [
      "100%|██████████████████████████████████████████████████████████████████████████████████████| 189/189 [03:54<00:00,  1.24s/it]\n"
     ]
    },
    {
     "name": "stdout",
     "output_type": "stream",
     "text": [
      "[4/200][189/189] ========== Loss_D: 1.4395, Loss_G: 1.7987, Acc_G: 7/8 = 87.5000\n",
      "---------------------< no model saved at epoch: 4 >---------------------\n"
     ]
    },
    {
     "name": "stderr",
     "output_type": "stream",
     "text": [
      "  1%|▍                                                                                       | 1/189 [00:01<05:18,  1.69s/it]"
     ]
    },
    {
     "name": "stdout",
     "output_type": "stream",
     "text": [
      "[5/200][1/189] ========== Loss_D: 1.4448, Loss_G: 1.7144, Acc_G: 19/32 = 59.3750\n"
     ]
    },
    {
     "name": "stderr",
     "output_type": "stream",
     "text": [
      "  1%|▉                                                                                       | 2/189 [00:02<04:09,  1.33s/it]"
     ]
    },
    {
     "name": "stdout",
     "output_type": "stream",
     "text": [
      "[5/200][2/189] ========== Loss_D: 1.4538, Loss_G: 1.6396, Acc_G: 23/32 = 71.8750\n"
     ]
    },
    {
     "name": "stderr",
     "output_type": "stream",
     "text": [
      "  2%|█▍                                                                                      | 3/189 [00:04<04:16,  1.38s/it]"
     ]
    },
    {
     "name": "stdout",
     "output_type": "stream",
     "text": [
      "[5/200][3/189] ========== Loss_D: 1.4587, Loss_G: 1.7200, Acc_G: 26/32 = 81.2500\n"
     ]
    },
    {
     "name": "stderr",
     "output_type": "stream",
     "text": [
      "  2%|█▊                                                                                      | 4/189 [00:05<04:01,  1.31s/it]"
     ]
    },
    {
     "name": "stdout",
     "output_type": "stream",
     "text": [
      "[5/200][4/189] ========== Loss_D: 1.4490, Loss_G: 1.7786, Acc_G: 22/32 = 68.7500\n"
     ]
    },
    {
     "name": "stderr",
     "output_type": "stream",
     "text": [
      "  3%|██▎                                                                                     | 5/189 [00:07<04:20,  1.41s/it]"
     ]
    },
    {
     "name": "stdout",
     "output_type": "stream",
     "text": [
      "[5/200][5/189] ========== Loss_D: 1.4466, Loss_G: 1.6609, Acc_G: 24/32 = 75.0000\n"
     ]
    },
    {
     "name": "stderr",
     "output_type": "stream",
     "text": [
      "  3%|██▊                                                                                     | 6/189 [00:07<03:49,  1.25s/it]"
     ]
    },
    {
     "name": "stdout",
     "output_type": "stream",
     "text": [
      "[5/200][6/189] ========== Loss_D: 1.4305, Loss_G: 1.7598, Acc_G: 20/32 = 62.5000\n"
     ]
    },
    {
     "name": "stderr",
     "output_type": "stream",
     "text": [
      "  4%|███▎                                                                                    | 7/189 [00:09<03:40,  1.21s/it]"
     ]
    },
    {
     "name": "stdout",
     "output_type": "stream",
     "text": [
      "[5/200][7/189] ========== Loss_D: 1.4422, Loss_G: 1.6375, Acc_G: 25/32 = 78.1250\n"
     ]
    },
    {
     "name": "stderr",
     "output_type": "stream",
     "text": [
      "  4%|███▋                                                                                    | 8/189 [00:10<03:35,  1.19s/it]"
     ]
    },
    {
     "name": "stdout",
     "output_type": "stream",
     "text": [
      "[5/200][8/189] ========== Loss_D: 1.4404, Loss_G: 1.6677, Acc_G: 22/32 = 68.7500\n"
     ]
    },
    {
     "name": "stderr",
     "output_type": "stream",
     "text": [
      "  5%|████▏                                                                                   | 9/189 [00:11<03:35,  1.20s/it]"
     ]
    },
    {
     "name": "stdout",
     "output_type": "stream",
     "text": [
      "[5/200][9/189] ========== Loss_D: 1.4440, Loss_G: 1.6185, Acc_G: 19/32 = 59.3750\n"
     ]
    },
    {
     "name": "stderr",
     "output_type": "stream",
     "text": [
      "  5%|████▌                                                                                  | 10/189 [00:12<03:21,  1.13s/it]"
     ]
    },
    {
     "name": "stdout",
     "output_type": "stream",
     "text": [
      "[5/200][10/189] ========== Loss_D: 1.4576, Loss_G: 1.6909, Acc_G: 19/32 = 59.3750\n"
     ]
    },
    {
     "name": "stderr",
     "output_type": "stream",
     "text": [
      "  6%|█████                                                                                  | 11/189 [00:13<03:24,  1.15s/it]"
     ]
    },
    {
     "name": "stdout",
     "output_type": "stream",
     "text": [
      "[5/200][11/189] ========== Loss_D: 1.4583, Loss_G: 1.6375, Acc_G: 22/32 = 68.7500\n"
     ]
    },
    {
     "name": "stderr",
     "output_type": "stream",
     "text": [
      "  6%|█████▌                                                                                 | 12/189 [00:14<03:18,  1.12s/it]"
     ]
    },
    {
     "name": "stdout",
     "output_type": "stream",
     "text": [
      "[5/200][12/189] ========== Loss_D: 1.4705, Loss_G: 1.7049, Acc_G: 20/32 = 62.5000\n"
     ]
    },
    {
     "name": "stderr",
     "output_type": "stream",
     "text": [
      "  7%|█████▉                                                                                 | 13/189 [00:16<03:37,  1.24s/it]"
     ]
    },
    {
     "name": "stdout",
     "output_type": "stream",
     "text": [
      "[5/200][13/189] ========== Loss_D: 1.4515, Loss_G: 1.6631, Acc_G: 21/32 = 65.6250\n"
     ]
    },
    {
     "name": "stderr",
     "output_type": "stream",
     "text": [
      "  7%|██████▍                                                                                | 14/189 [00:17<03:52,  1.33s/it]"
     ]
    },
    {
     "name": "stdout",
     "output_type": "stream",
     "text": [
      "[5/200][14/189] ========== Loss_D: 1.4453, Loss_G: 1.6724, Acc_G: 22/32 = 68.7500\n"
     ]
    },
    {
     "name": "stderr",
     "output_type": "stream",
     "text": [
      "  8%|██████▉                                                                                | 15/189 [00:18<03:42,  1.28s/it]"
     ]
    },
    {
     "name": "stdout",
     "output_type": "stream",
     "text": [
      "[5/200][15/189] ========== Loss_D: 1.4705, Loss_G: 1.7120, Acc_G: 19/32 = 59.3750\n"
     ]
    },
    {
     "name": "stderr",
     "output_type": "stream",
     "text": [
      "  8%|███████▎                                                                               | 16/189 [00:20<03:58,  1.38s/it]"
     ]
    },
    {
     "name": "stdout",
     "output_type": "stream",
     "text": [
      "[5/200][16/189] ========== Loss_D: 1.4537, Loss_G: 1.6569, Acc_G: 23/32 = 71.8750\n"
     ]
    },
    {
     "name": "stderr",
     "output_type": "stream",
     "text": [
      "  9%|███████▊                                                                               | 17/189 [00:21<03:58,  1.39s/it]"
     ]
    },
    {
     "name": "stdout",
     "output_type": "stream",
     "text": [
      "[5/200][17/189] ========== Loss_D: 1.4557, Loss_G: 1.7525, Acc_G: 21/32 = 65.6250\n"
     ]
    },
    {
     "name": "stderr",
     "output_type": "stream",
     "text": [
      " 10%|████████▎                                                                              | 18/189 [00:23<03:49,  1.34s/it]"
     ]
    },
    {
     "name": "stdout",
     "output_type": "stream",
     "text": [
      "[5/200][18/189] ========== Loss_D: 1.4376, Loss_G: 1.7521, Acc_G: 21/32 = 65.6250\n"
     ]
    },
    {
     "name": "stderr",
     "output_type": "stream",
     "text": [
      " 10%|████████▋                                                                              | 19/189 [00:24<03:33,  1.25s/it]"
     ]
    },
    {
     "name": "stdout",
     "output_type": "stream",
     "text": [
      "[5/200][19/189] ========== Loss_D: 1.4422, Loss_G: 1.7455, Acc_G: 20/32 = 62.5000\n"
     ]
    },
    {
     "name": "stderr",
     "output_type": "stream",
     "text": [
      " 11%|█████████▏                                                                             | 20/189 [00:25<03:46,  1.34s/it]"
     ]
    },
    {
     "name": "stdout",
     "output_type": "stream",
     "text": [
      "[5/200][20/189] ========== Loss_D: 1.4388, Loss_G: 1.6999, Acc_G: 18/32 = 56.2500\n"
     ]
    },
    {
     "name": "stderr",
     "output_type": "stream",
     "text": [
      " 11%|█████████▋                                                                             | 21/189 [00:26<03:23,  1.21s/it]"
     ]
    },
    {
     "name": "stdout",
     "output_type": "stream",
     "text": [
      "[5/200][21/189] ========== Loss_D: 1.4563, Loss_G: 1.7124, Acc_G: 22/32 = 68.7500\n"
     ]
    },
    {
     "name": "stderr",
     "output_type": "stream",
     "text": [
      " 12%|██████████▏                                                                            | 22/189 [00:27<03:19,  1.19s/it]"
     ]
    },
    {
     "name": "stdout",
     "output_type": "stream",
     "text": [
      "[5/200][22/189] ========== Loss_D: 1.4440, Loss_G: 1.8234, Acc_G: 23/32 = 71.8750\n"
     ]
    },
    {
     "name": "stderr",
     "output_type": "stream",
     "text": [
      " 12%|██████████▌                                                                            | 23/189 [00:28<03:09,  1.14s/it]"
     ]
    },
    {
     "name": "stdout",
     "output_type": "stream",
     "text": [
      "[5/200][23/189] ========== Loss_D: 1.4549, Loss_G: 1.7610, Acc_G: 20/32 = 62.5000\n"
     ]
    },
    {
     "name": "stderr",
     "output_type": "stream",
     "text": [
      " 13%|███████████                                                                            | 24/189 [00:30<03:21,  1.22s/it]"
     ]
    },
    {
     "name": "stdout",
     "output_type": "stream",
     "text": [
      "[5/200][24/189] ========== Loss_D: 1.4467, Loss_G: 1.6338, Acc_G: 18/32 = 56.2500\n"
     ]
    },
    {
     "name": "stderr",
     "output_type": "stream",
     "text": [
      " 13%|███████████▌                                                                           | 25/189 [00:31<03:17,  1.20s/it]"
     ]
    },
    {
     "name": "stdout",
     "output_type": "stream",
     "text": [
      "[5/200][25/189] ========== Loss_D: 1.4477, Loss_G: 1.5703, Acc_G: 25/32 = 78.1250\n"
     ]
    },
    {
     "name": "stderr",
     "output_type": "stream",
     "text": [
      " 14%|███████████▉                                                                           | 26/189 [00:32<03:10,  1.17s/it]"
     ]
    },
    {
     "name": "stdout",
     "output_type": "stream",
     "text": [
      "[5/200][26/189] ========== Loss_D: 1.4439, Loss_G: 1.6225, Acc_G: 22/32 = 68.7500\n"
     ]
    },
    {
     "name": "stderr",
     "output_type": "stream",
     "text": [
      " 14%|████████████▍                                                                          | 27/189 [00:33<03:08,  1.16s/it]"
     ]
    },
    {
     "name": "stdout",
     "output_type": "stream",
     "text": [
      "[5/200][27/189] ========== Loss_D: 1.4510, Loss_G: 1.6155, Acc_G: 23/32 = 71.8750\n"
     ]
    },
    {
     "name": "stderr",
     "output_type": "stream",
     "text": [
      " 15%|████████████▉                                                                          | 28/189 [00:34<03:10,  1.18s/it]"
     ]
    },
    {
     "name": "stdout",
     "output_type": "stream",
     "text": [
      "[5/200][28/189] ========== Loss_D: 1.4441, Loss_G: 1.6596, Acc_G: 23/32 = 71.8750\n"
     ]
    },
    {
     "name": "stderr",
     "output_type": "stream",
     "text": [
      " 15%|█████████████▎                                                                         | 29/189 [00:36<03:21,  1.26s/it]"
     ]
    },
    {
     "name": "stdout",
     "output_type": "stream",
     "text": [
      "[5/200][29/189] ========== Loss_D: 1.4596, Loss_G: 1.6343, Acc_G: 22/32 = 68.7500\n"
     ]
    },
    {
     "name": "stderr",
     "output_type": "stream",
     "text": [
      " 16%|█████████████▊                                                                         | 30/189 [00:37<03:18,  1.25s/it]"
     ]
    },
    {
     "name": "stdout",
     "output_type": "stream",
     "text": [
      "[5/200][30/189] ========== Loss_D: 1.4513, Loss_G: 1.7326, Acc_G: 24/32 = 75.0000\n"
     ]
    },
    {
     "name": "stderr",
     "output_type": "stream",
     "text": [
      " 16%|██████████████▎                                                                        | 31/189 [00:38<03:26,  1.31s/it]"
     ]
    },
    {
     "name": "stdout",
     "output_type": "stream",
     "text": [
      "[5/200][31/189] ========== Loss_D: 1.4494, Loss_G: 1.7258, Acc_G: 19/32 = 59.3750\n"
     ]
    },
    {
     "name": "stderr",
     "output_type": "stream",
     "text": [
      " 17%|██████████████▋                                                                        | 32/189 [00:40<03:33,  1.36s/it]"
     ]
    },
    {
     "name": "stdout",
     "output_type": "stream",
     "text": [
      "[5/200][32/189] ========== Loss_D: 1.4479, Loss_G: 1.6008, Acc_G: 20/32 = 62.5000\n"
     ]
    },
    {
     "name": "stderr",
     "output_type": "stream",
     "text": [
      " 17%|███████████████▏                                                                       | 33/189 [00:41<03:24,  1.31s/it]"
     ]
    },
    {
     "name": "stdout",
     "output_type": "stream",
     "text": [
      "[5/200][33/189] ========== Loss_D: 1.4383, Loss_G: 1.7389, Acc_G: 22/32 = 68.7500\n"
     ]
    },
    {
     "name": "stderr",
     "output_type": "stream",
     "text": [
      " 18%|███████████████▋                                                                       | 34/189 [00:43<03:37,  1.41s/it]"
     ]
    },
    {
     "name": "stdout",
     "output_type": "stream",
     "text": [
      "[5/200][34/189] ========== Loss_D: 1.4506, Loss_G: 1.7788, Acc_G: 18/32 = 56.2500\n"
     ]
    },
    {
     "name": "stderr",
     "output_type": "stream",
     "text": [
      " 19%|████████████████                                                                       | 35/189 [00:44<03:40,  1.43s/it]"
     ]
    },
    {
     "name": "stdout",
     "output_type": "stream",
     "text": [
      "[5/200][35/189] ========== Loss_D: 1.4592, Loss_G: 1.6057, Acc_G: 18/32 = 56.2500\n"
     ]
    },
    {
     "name": "stderr",
     "output_type": "stream",
     "text": [
      " 19%|████████████████▌                                                                      | 36/189 [00:46<03:43,  1.46s/it]"
     ]
    },
    {
     "name": "stdout",
     "output_type": "stream",
     "text": [
      "[5/200][36/189] ========== Loss_D: 1.4634, Loss_G: 1.6461, Acc_G: 22/32 = 68.7500\n"
     ]
    },
    {
     "name": "stderr",
     "output_type": "stream",
     "text": [
      " 20%|█████████████████                                                                      | 37/189 [00:47<03:35,  1.41s/it]"
     ]
    },
    {
     "name": "stdout",
     "output_type": "stream",
     "text": [
      "[5/200][37/189] ========== Loss_D: 1.4448, Loss_G: 1.7792, Acc_G: 22/32 = 68.7500\n"
     ]
    },
    {
     "name": "stderr",
     "output_type": "stream",
     "text": [
      " 20%|█████████████████▍                                                                     | 38/189 [00:48<03:29,  1.39s/it]"
     ]
    },
    {
     "name": "stdout",
     "output_type": "stream",
     "text": [
      "[5/200][38/189] ========== Loss_D: 1.4450, Loss_G: 1.6573, Acc_G: 21/32 = 65.6250\n"
     ]
    },
    {
     "name": "stderr",
     "output_type": "stream",
     "text": [
      " 21%|█████████████████▉                                                                     | 39/189 [00:50<03:22,  1.35s/it]"
     ]
    },
    {
     "name": "stdout",
     "output_type": "stream",
     "text": [
      "[5/200][39/189] ========== Loss_D: 1.4696, Loss_G: 1.6326, Acc_G: 20/32 = 62.5000\n"
     ]
    },
    {
     "name": "stderr",
     "output_type": "stream",
     "text": [
      " 21%|██████████████████▍                                                                    | 40/189 [00:51<03:02,  1.22s/it]"
     ]
    },
    {
     "name": "stdout",
     "output_type": "stream",
     "text": [
      "[5/200][40/189] ========== Loss_D: 1.4555, Loss_G: 1.6807, Acc_G: 16/32 = 50.0000\n"
     ]
    },
    {
     "name": "stderr",
     "output_type": "stream",
     "text": [
      " 22%|██████████████████▊                                                                    | 41/189 [00:52<02:49,  1.15s/it]"
     ]
    },
    {
     "name": "stdout",
     "output_type": "stream",
     "text": [
      "[5/200][41/189] ========== Loss_D: 1.4608, Loss_G: 1.6477, Acc_G: 22/32 = 68.7500\n"
     ]
    },
    {
     "name": "stderr",
     "output_type": "stream",
     "text": [
      " 22%|███████████████████▎                                                                   | 42/189 [00:53<02:51,  1.17s/it]"
     ]
    },
    {
     "name": "stdout",
     "output_type": "stream",
     "text": [
      "[5/200][42/189] ========== Loss_D: 1.4397, Loss_G: 1.7023, Acc_G: 22/32 = 68.7500\n"
     ]
    },
    {
     "name": "stderr",
     "output_type": "stream",
     "text": [
      " 23%|███████████████████▊                                                                   | 43/189 [00:54<02:53,  1.19s/it]"
     ]
    },
    {
     "name": "stdout",
     "output_type": "stream",
     "text": [
      "[5/200][43/189] ========== Loss_D: 1.4669, Loss_G: 1.7411, Acc_G: 28/32 = 87.5000\n"
     ]
    },
    {
     "name": "stderr",
     "output_type": "stream",
     "text": [
      " 23%|████████████████████▎                                                                  | 44/189 [00:55<02:53,  1.20s/it]"
     ]
    },
    {
     "name": "stdout",
     "output_type": "stream",
     "text": [
      "[5/200][44/189] ========== Loss_D: 1.4369, Loss_G: 1.6925, Acc_G: 22/32 = 68.7500\n"
     ]
    },
    {
     "name": "stderr",
     "output_type": "stream",
     "text": [
      " 24%|████████████████████▋                                                                  | 45/189 [00:57<02:56,  1.22s/it]"
     ]
    },
    {
     "name": "stdout",
     "output_type": "stream",
     "text": [
      "[5/200][45/189] ========== Loss_D: 1.4414, Loss_G: 1.8153, Acc_G: 23/32 = 71.8750\n"
     ]
    },
    {
     "name": "stderr",
     "output_type": "stream",
     "text": [
      " 24%|█████████████████████▏                                                                 | 46/189 [00:58<02:49,  1.18s/it]"
     ]
    },
    {
     "name": "stdout",
     "output_type": "stream",
     "text": [
      "[5/200][46/189] ========== Loss_D: 1.4508, Loss_G: 1.7031, Acc_G: 26/32 = 81.2500\n"
     ]
    },
    {
     "name": "stderr",
     "output_type": "stream",
     "text": [
      " 25%|█████████████████████▋                                                                 | 47/189 [00:59<02:48,  1.19s/it]"
     ]
    },
    {
     "name": "stdout",
     "output_type": "stream",
     "text": [
      "[5/200][47/189] ========== Loss_D: 1.4535, Loss_G: 1.7517, Acc_G: 21/32 = 65.6250\n"
     ]
    },
    {
     "name": "stderr",
     "output_type": "stream",
     "text": [
      " 25%|██████████████████████                                                                 | 48/189 [01:00<02:54,  1.24s/it]"
     ]
    },
    {
     "name": "stdout",
     "output_type": "stream",
     "text": [
      "[5/200][48/189] ========== Loss_D: 1.4523, Loss_G: 1.6984, Acc_G: 20/32 = 62.5000\n"
     ]
    },
    {
     "name": "stderr",
     "output_type": "stream",
     "text": [
      " 26%|██████████████████████▌                                                                | 49/189 [01:01<02:49,  1.21s/it]"
     ]
    },
    {
     "name": "stdout",
     "output_type": "stream",
     "text": [
      "[5/200][49/189] ========== Loss_D: 1.4255, Loss_G: 1.6024, Acc_G: 17/32 = 53.1250\n"
     ]
    },
    {
     "name": "stderr",
     "output_type": "stream",
     "text": [
      " 26%|███████████████████████                                                                | 50/189 [01:03<02:58,  1.29s/it]"
     ]
    },
    {
     "name": "stdout",
     "output_type": "stream",
     "text": [
      "[5/200][50/189] ========== Loss_D: 1.4699, Loss_G: 1.6254, Acc_G: 24/32 = 75.0000\n"
     ]
    },
    {
     "name": "stderr",
     "output_type": "stream",
     "text": [
      " 27%|███████████████████████▍                                                               | 51/189 [01:04<02:52,  1.25s/it]"
     ]
    },
    {
     "name": "stdout",
     "output_type": "stream",
     "text": [
      "[5/200][51/189] ========== Loss_D: 1.4676, Loss_G: 1.6281, Acc_G: 19/32 = 59.3750\n"
     ]
    },
    {
     "name": "stderr",
     "output_type": "stream",
     "text": [
      " 28%|███████████████████████▉                                                               | 52/189 [01:05<02:56,  1.29s/it]"
     ]
    },
    {
     "name": "stdout",
     "output_type": "stream",
     "text": [
      "[5/200][52/189] ========== Loss_D: 1.4519, Loss_G: 1.6197, Acc_G: 18/32 = 56.2500\n"
     ]
    },
    {
     "name": "stderr",
     "output_type": "stream",
     "text": [
      " 28%|████████████████████████▍                                                              | 53/189 [01:06<02:42,  1.19s/it]"
     ]
    },
    {
     "name": "stdout",
     "output_type": "stream",
     "text": [
      "[5/200][53/189] ========== Loss_D: 1.4525, Loss_G: 1.7753, Acc_G: 23/32 = 71.8750\n"
     ]
    },
    {
     "name": "stderr",
     "output_type": "stream",
     "text": [
      " 29%|████████████████████████▊                                                              | 54/189 [01:08<02:48,  1.25s/it]"
     ]
    },
    {
     "name": "stdout",
     "output_type": "stream",
     "text": [
      "[5/200][54/189] ========== Loss_D: 1.4460, Loss_G: 1.6497, Acc_G: 22/32 = 68.7500\n"
     ]
    },
    {
     "name": "stderr",
     "output_type": "stream",
     "text": [
      " 29%|█████████████████████████▎                                                             | 55/189 [01:09<02:50,  1.27s/it]"
     ]
    },
    {
     "name": "stdout",
     "output_type": "stream",
     "text": [
      "[5/200][55/189] ========== Loss_D: 1.4475, Loss_G: 1.6772, Acc_G: 21/32 = 65.6250\n"
     ]
    },
    {
     "name": "stderr",
     "output_type": "stream",
     "text": [
      " 30%|█████████████████████████▊                                                             | 56/189 [01:10<02:50,  1.28s/it]"
     ]
    },
    {
     "name": "stdout",
     "output_type": "stream",
     "text": [
      "[5/200][56/189] ========== Loss_D: 1.4526, Loss_G: 1.7283, Acc_G: 20/32 = 62.5000\n"
     ]
    },
    {
     "name": "stderr",
     "output_type": "stream",
     "text": [
      " 30%|██████████████████████████▏                                                            | 57/189 [01:11<02:43,  1.24s/it]"
     ]
    },
    {
     "name": "stdout",
     "output_type": "stream",
     "text": [
      "[5/200][57/189] ========== Loss_D: 1.4508, Loss_G: 1.6543, Acc_G: 20/32 = 62.5000\n"
     ]
    },
    {
     "name": "stderr",
     "output_type": "stream",
     "text": [
      " 31%|██████████████████████████▋                                                            | 58/189 [01:13<02:47,  1.28s/it]"
     ]
    },
    {
     "name": "stdout",
     "output_type": "stream",
     "text": [
      "[5/200][58/189] ========== Loss_D: 1.4474, Loss_G: 1.6714, Acc_G: 25/32 = 78.1250\n"
     ]
    },
    {
     "name": "stderr",
     "output_type": "stream",
     "text": [
      " 31%|███████████████████████████▏                                                           | 59/189 [01:14<02:41,  1.24s/it]"
     ]
    },
    {
     "name": "stdout",
     "output_type": "stream",
     "text": [
      "[5/200][59/189] ========== Loss_D: 1.4526, Loss_G: 1.5914, Acc_G: 20/32 = 62.5000\n"
     ]
    },
    {
     "name": "stderr",
     "output_type": "stream",
     "text": [
      " 32%|███████████████████████████▌                                                           | 60/189 [01:15<02:40,  1.24s/it]"
     ]
    },
    {
     "name": "stdout",
     "output_type": "stream",
     "text": [
      "[5/200][60/189] ========== Loss_D: 1.4455, Loss_G: 1.6282, Acc_G: 22/32 = 68.7500\n"
     ]
    },
    {
     "name": "stderr",
     "output_type": "stream",
     "text": [
      " 32%|████████████████████████████                                                           | 61/189 [01:16<02:31,  1.18s/it]"
     ]
    },
    {
     "name": "stdout",
     "output_type": "stream",
     "text": [
      "[5/200][61/189] ========== Loss_D: 1.4441, Loss_G: 1.6397, Acc_G: 21/32 = 65.6250\n"
     ]
    },
    {
     "name": "stderr",
     "output_type": "stream",
     "text": [
      " 33%|████████████████████████████▌                                                          | 62/189 [01:18<02:45,  1.31s/it]"
     ]
    },
    {
     "name": "stdout",
     "output_type": "stream",
     "text": [
      "[5/200][62/189] ========== Loss_D: 1.4409, Loss_G: 1.7471, Acc_G: 21/32 = 65.6250\n"
     ]
    },
    {
     "name": "stderr",
     "output_type": "stream",
     "text": [
      " 33%|█████████████████████████████                                                          | 63/189 [01:19<02:52,  1.37s/it]"
     ]
    },
    {
     "name": "stdout",
     "output_type": "stream",
     "text": [
      "[5/200][63/189] ========== Loss_D: 1.4595, Loss_G: 1.6050, Acc_G: 21/32 = 65.6250\n"
     ]
    },
    {
     "name": "stderr",
     "output_type": "stream",
     "text": [
      " 34%|█████████████████████████████▍                                                         | 64/189 [01:21<02:55,  1.40s/it]"
     ]
    },
    {
     "name": "stdout",
     "output_type": "stream",
     "text": [
      "[5/200][64/189] ========== Loss_D: 1.4565, Loss_G: 1.7047, Acc_G: 20/32 = 62.5000\n"
     ]
    },
    {
     "name": "stderr",
     "output_type": "stream",
     "text": [
      " 34%|█████████████████████████████▉                                                         | 65/189 [01:22<02:45,  1.34s/it]"
     ]
    },
    {
     "name": "stdout",
     "output_type": "stream",
     "text": [
      "[5/200][65/189] ========== Loss_D: 1.4520, Loss_G: 1.7273, Acc_G: 21/32 = 65.6250\n"
     ]
    },
    {
     "name": "stderr",
     "output_type": "stream",
     "text": [
      " 35%|██████████████████████████████▍                                                        | 66/189 [01:24<02:51,  1.40s/it]"
     ]
    },
    {
     "name": "stdout",
     "output_type": "stream",
     "text": [
      "[5/200][66/189] ========== Loss_D: 1.4489, Loss_G: 1.6065, Acc_G: 19/32 = 59.3750\n"
     ]
    },
    {
     "name": "stderr",
     "output_type": "stream",
     "text": [
      " 35%|██████████████████████████████▊                                                        | 67/189 [01:25<02:39,  1.30s/it]"
     ]
    },
    {
     "name": "stdout",
     "output_type": "stream",
     "text": [
      "[5/200][67/189] ========== Loss_D: 1.4560, Loss_G: 1.7067, Acc_G: 19/32 = 59.3750\n"
     ]
    },
    {
     "name": "stderr",
     "output_type": "stream",
     "text": [
      " 36%|███████████████████████████████▎                                                       | 68/189 [01:26<02:33,  1.26s/it]"
     ]
    },
    {
     "name": "stdout",
     "output_type": "stream",
     "text": [
      "[5/200][68/189] ========== Loss_D: 1.4453, Loss_G: 1.6121, Acc_G: 23/32 = 71.8750\n"
     ]
    },
    {
     "name": "stderr",
     "output_type": "stream",
     "text": [
      " 37%|███████████████████████████████▊                                                       | 69/189 [01:27<02:30,  1.26s/it]"
     ]
    },
    {
     "name": "stdout",
     "output_type": "stream",
     "text": [
      "[5/200][69/189] ========== Loss_D: 1.4514, Loss_G: 1.6202, Acc_G: 23/32 = 71.8750\n"
     ]
    },
    {
     "name": "stderr",
     "output_type": "stream",
     "text": [
      " 37%|████████████████████████████████▏                                                      | 70/189 [01:28<02:32,  1.28s/it]"
     ]
    },
    {
     "name": "stdout",
     "output_type": "stream",
     "text": [
      "[5/200][70/189] ========== Loss_D: 1.4375, Loss_G: 1.7376, Acc_G: 19/32 = 59.3750\n"
     ]
    },
    {
     "name": "stderr",
     "output_type": "stream",
     "text": [
      " 38%|████████████████████████████████▋                                                      | 71/189 [01:30<02:28,  1.26s/it]"
     ]
    },
    {
     "name": "stdout",
     "output_type": "stream",
     "text": [
      "[5/200][71/189] ========== Loss_D: 1.4347, Loss_G: 1.6365, Acc_G: 21/32 = 65.6250\n"
     ]
    },
    {
     "name": "stderr",
     "output_type": "stream",
     "text": [
      " 38%|█████████████████████████████████▏                                                     | 72/189 [01:31<02:39,  1.36s/it]"
     ]
    },
    {
     "name": "stdout",
     "output_type": "stream",
     "text": [
      "[5/200][72/189] ========== Loss_D: 1.4660, Loss_G: 1.6511, Acc_G: 24/32 = 75.0000\n"
     ]
    },
    {
     "name": "stderr",
     "output_type": "stream",
     "text": [
      " 39%|█████████████████████████████████▌                                                     | 73/189 [01:32<02:28,  1.28s/it]"
     ]
    },
    {
     "name": "stdout",
     "output_type": "stream",
     "text": [
      "[5/200][73/189] ========== Loss_D: 1.4418, Loss_G: 1.7073, Acc_G: 19/32 = 59.3750\n"
     ]
    },
    {
     "name": "stderr",
     "output_type": "stream",
     "text": [
      " 39%|██████████████████████████████████                                                     | 74/189 [01:34<02:44,  1.43s/it]"
     ]
    },
    {
     "name": "stdout",
     "output_type": "stream",
     "text": [
      "[5/200][74/189] ========== Loss_D: 1.4612, Loss_G: 1.7742, Acc_G: 22/32 = 68.7500\n"
     ]
    },
    {
     "name": "stderr",
     "output_type": "stream",
     "text": [
      " 40%|██████████████████████████████████▌                                                    | 75/189 [01:35<02:25,  1.28s/it]"
     ]
    },
    {
     "name": "stdout",
     "output_type": "stream",
     "text": [
      "[5/200][75/189] ========== Loss_D: 1.4441, Loss_G: 1.6685, Acc_G: 24/32 = 75.0000\n"
     ]
    },
    {
     "name": "stderr",
     "output_type": "stream",
     "text": [
      " 40%|██████████████████████████████████▉                                                    | 76/189 [01:37<02:36,  1.39s/it]"
     ]
    },
    {
     "name": "stdout",
     "output_type": "stream",
     "text": [
      "[5/200][76/189] ========== Loss_D: 1.4547, Loss_G: 1.6812, Acc_G: 27/32 = 84.3750\n"
     ]
    },
    {
     "name": "stderr",
     "output_type": "stream",
     "text": [
      " 41%|███████████████████████████████████▍                                                   | 77/189 [01:38<02:30,  1.35s/it]"
     ]
    },
    {
     "name": "stdout",
     "output_type": "stream",
     "text": [
      "[5/200][77/189] ========== Loss_D: 1.4461, Loss_G: 1.7346, Acc_G: 20/32 = 62.5000\n"
     ]
    },
    {
     "name": "stderr",
     "output_type": "stream",
     "text": [
      " 41%|███████████████████████████████████▉                                                   | 78/189 [01:39<02:16,  1.23s/it]"
     ]
    },
    {
     "name": "stdout",
     "output_type": "stream",
     "text": [
      "[5/200][78/189] ========== Loss_D: 1.4462, Loss_G: 1.7184, Acc_G: 19/32 = 59.3750\n"
     ]
    },
    {
     "name": "stderr",
     "output_type": "stream",
     "text": [
      " 42%|████████████████████████████████████▎                                                  | 79/189 [01:40<02:04,  1.13s/it]"
     ]
    },
    {
     "name": "stdout",
     "output_type": "stream",
     "text": [
      "[5/200][79/189] ========== Loss_D: 1.4405, Loss_G: 1.7636, Acc_G: 22/32 = 68.7500\n"
     ]
    },
    {
     "name": "stderr",
     "output_type": "stream",
     "text": [
      " 42%|████████████████████████████████████▊                                                  | 80/189 [01:41<02:08,  1.18s/it]"
     ]
    },
    {
     "name": "stdout",
     "output_type": "stream",
     "text": [
      "[5/200][80/189] ========== Loss_D: 1.4395, Loss_G: 1.6106, Acc_G: 25/32 = 78.1250\n"
     ]
    },
    {
     "name": "stderr",
     "output_type": "stream",
     "text": [
      " 43%|█████████████████████████████████████▎                                                 | 81/189 [01:42<02:12,  1.22s/it]"
     ]
    },
    {
     "name": "stdout",
     "output_type": "stream",
     "text": [
      "[5/200][81/189] ========== Loss_D: 1.4379, Loss_G: 1.6375, Acc_G: 23/32 = 71.8750\n"
     ]
    },
    {
     "name": "stderr",
     "output_type": "stream",
     "text": [
      " 43%|█████████████████████████████████████▋                                                 | 82/189 [01:43<02:04,  1.16s/it]"
     ]
    },
    {
     "name": "stdout",
     "output_type": "stream",
     "text": [
      "[5/200][82/189] ========== Loss_D: 1.4642, Loss_G: 1.6344, Acc_G: 18/32 = 56.2500\n"
     ]
    },
    {
     "name": "stderr",
     "output_type": "stream",
     "text": [
      " 44%|██████████████████████████████████████▏                                                | 83/189 [01:45<02:16,  1.29s/it]"
     ]
    },
    {
     "name": "stdout",
     "output_type": "stream",
     "text": [
      "[5/200][83/189] ========== Loss_D: 1.4442, Loss_G: 1.6812, Acc_G: 22/32 = 68.7500\n"
     ]
    },
    {
     "name": "stderr",
     "output_type": "stream",
     "text": [
      " 44%|██████████████████████████████████████▋                                                | 84/189 [01:46<02:07,  1.21s/it]"
     ]
    },
    {
     "name": "stdout",
     "output_type": "stream",
     "text": [
      "[5/200][84/189] ========== Loss_D: 1.4465, Loss_G: 1.7502, Acc_G: 19/32 = 59.3750\n"
     ]
    },
    {
     "name": "stderr",
     "output_type": "stream",
     "text": [
      " 45%|███████████████████████████████████████▏                                               | 85/189 [01:47<01:57,  1.13s/it]"
     ]
    },
    {
     "name": "stdout",
     "output_type": "stream",
     "text": [
      "[5/200][85/189] ========== Loss_D: 1.4466, Loss_G: 1.5887, Acc_G: 25/32 = 78.1250\n"
     ]
    },
    {
     "name": "stderr",
     "output_type": "stream",
     "text": [
      " 46%|███████████████████████████████████████▌                                               | 86/189 [01:48<01:48,  1.05s/it]"
     ]
    },
    {
     "name": "stdout",
     "output_type": "stream",
     "text": [
      "[5/200][86/189] ========== Loss_D: 1.4297, Loss_G: 1.6385, Acc_G: 22/32 = 68.7500\n"
     ]
    },
    {
     "name": "stderr",
     "output_type": "stream",
     "text": [
      " 46%|████████████████████████████████████████                                               | 87/189 [01:49<01:55,  1.13s/it]"
     ]
    },
    {
     "name": "stdout",
     "output_type": "stream",
     "text": [
      "[5/200][87/189] ========== Loss_D: 1.4325, Loss_G: 1.8333, Acc_G: 22/32 = 68.7500\n"
     ]
    },
    {
     "name": "stderr",
     "output_type": "stream",
     "text": [
      " 47%|████████████████████████████████████████▌                                              | 88/189 [01:50<01:57,  1.16s/it]"
     ]
    },
    {
     "name": "stdout",
     "output_type": "stream",
     "text": [
      "[5/200][88/189] ========== Loss_D: 1.4457, Loss_G: 1.5725, Acc_G: 20/32 = 62.5000\n"
     ]
    },
    {
     "name": "stderr",
     "output_type": "stream",
     "text": [
      " 47%|████████████████████████████████████████▉                                              | 89/189 [01:52<02:00,  1.20s/it]"
     ]
    },
    {
     "name": "stdout",
     "output_type": "stream",
     "text": [
      "[5/200][89/189] ========== Loss_D: 1.4472, Loss_G: 1.7542, Acc_G: 19/32 = 59.3750\n"
     ]
    },
    {
     "name": "stderr",
     "output_type": "stream",
     "text": [
      " 48%|█████████████████████████████████████████▍                                             | 90/189 [01:53<02:07,  1.29s/it]"
     ]
    },
    {
     "name": "stdout",
     "output_type": "stream",
     "text": [
      "[5/200][90/189] ========== Loss_D: 1.4568, Loss_G: 1.5064, Acc_G: 18/32 = 56.2500\n",
      "---------------------< lowest loss update -> 2.9632349014282227 >---------------------\n"
     ]
    },
    {
     "name": "stderr",
     "output_type": "stream",
     "text": [
      " 48%|█████████████████████████████████████████▉                                             | 91/189 [01:54<02:07,  1.31s/it]"
     ]
    },
    {
     "name": "stdout",
     "output_type": "stream",
     "text": [
      "[5/200][91/189] ========== Loss_D: 1.4530, Loss_G: 1.7407, Acc_G: 25/32 = 78.1250\n"
     ]
    },
    {
     "name": "stderr",
     "output_type": "stream",
     "text": [
      " 49%|██████████████████████████████████████████▎                                            | 92/189 [01:56<02:05,  1.29s/it]"
     ]
    },
    {
     "name": "stdout",
     "output_type": "stream",
     "text": [
      "[5/200][92/189] ========== Loss_D: 1.4416, Loss_G: 1.6415, Acc_G: 23/32 = 71.8750\n"
     ]
    },
    {
     "name": "stderr",
     "output_type": "stream",
     "text": [
      " 49%|██████████████████████████████████████████▊                                            | 93/189 [01:57<02:03,  1.29s/it]"
     ]
    },
    {
     "name": "stdout",
     "output_type": "stream",
     "text": [
      "[5/200][93/189] ========== Loss_D: 1.4219, Loss_G: 1.7328, Acc_G: 25/32 = 78.1250\n"
     ]
    },
    {
     "name": "stderr",
     "output_type": "stream",
     "text": [
      " 50%|███████████████████████████████████████████▎                                           | 94/189 [01:58<01:54,  1.21s/it]"
     ]
    },
    {
     "name": "stdout",
     "output_type": "stream",
     "text": [
      "[5/200][94/189] ========== Loss_D: 1.4595, Loss_G: 1.7925, Acc_G: 18/32 = 56.2500\n"
     ]
    },
    {
     "name": "stderr",
     "output_type": "stream",
     "text": [
      " 50%|███████████████████████████████████████████▋                                           | 95/189 [02:00<02:01,  1.29s/it]"
     ]
    },
    {
     "name": "stdout",
     "output_type": "stream",
     "text": [
      "[5/200][95/189] ========== Loss_D: 1.4430, Loss_G: 1.7143, Acc_G: 25/32 = 78.1250\n"
     ]
    },
    {
     "name": "stderr",
     "output_type": "stream",
     "text": [
      " 51%|████████████████████████████████████████████▏                                          | 96/189 [02:01<01:58,  1.27s/it]"
     ]
    },
    {
     "name": "stdout",
     "output_type": "stream",
     "text": [
      "[5/200][96/189] ========== Loss_D: 1.4504, Loss_G: 1.7193, Acc_G: 19/32 = 59.3750\n"
     ]
    },
    {
     "name": "stderr",
     "output_type": "stream",
     "text": [
      " 51%|████████████████████████████████████████████▋                                          | 97/189 [02:02<01:51,  1.21s/it]"
     ]
    },
    {
     "name": "stdout",
     "output_type": "stream",
     "text": [
      "[5/200][97/189] ========== Loss_D: 1.4290, Loss_G: 1.6559, Acc_G: 22/32 = 68.7500\n"
     ]
    },
    {
     "name": "stderr",
     "output_type": "stream",
     "text": [
      " 52%|█████████████████████████████████████████████                                          | 98/189 [02:03<01:52,  1.23s/it]"
     ]
    },
    {
     "name": "stdout",
     "output_type": "stream",
     "text": [
      "[5/200][98/189] ========== Loss_D: 1.4438, Loss_G: 1.7227, Acc_G: 21/32 = 65.6250\n"
     ]
    },
    {
     "name": "stderr",
     "output_type": "stream",
     "text": [
      " 52%|█████████████████████████████████████████████▌                                         | 99/189 [02:04<01:54,  1.28s/it]"
     ]
    },
    {
     "name": "stdout",
     "output_type": "stream",
     "text": [
      "[5/200][99/189] ========== Loss_D: 1.4464, Loss_G: 1.6449, Acc_G: 27/32 = 84.3750\n"
     ]
    },
    {
     "name": "stderr",
     "output_type": "stream",
     "text": [
      " 53%|█████████████████████████████████████████████▌                                        | 100/189 [02:06<01:55,  1.30s/it]"
     ]
    },
    {
     "name": "stdout",
     "output_type": "stream",
     "text": [
      "[5/200][100/189] ========== Loss_D: 1.4610, Loss_G: 1.7055, Acc_G: 24/32 = 75.0000\n"
     ]
    },
    {
     "name": "stderr",
     "output_type": "stream",
     "text": [
      " 53%|█████████████████████████████████████████████▉                                        | 101/189 [02:07<01:51,  1.27s/it]"
     ]
    },
    {
     "name": "stdout",
     "output_type": "stream",
     "text": [
      "[5/200][101/189] ========== Loss_D: 1.4498, Loss_G: 1.5997, Acc_G: 17/32 = 53.1250\n"
     ]
    },
    {
     "name": "stderr",
     "output_type": "stream",
     "text": [
      " 54%|██████████████████████████████████████████████▍                                       | 102/189 [02:08<01:41,  1.17s/it]"
     ]
    },
    {
     "name": "stdout",
     "output_type": "stream",
     "text": [
      "[5/200][102/189] ========== Loss_D: 1.4615, Loss_G: 1.7074, Acc_G: 17/32 = 53.1250\n"
     ]
    },
    {
     "name": "stderr",
     "output_type": "stream",
     "text": [
      " 54%|██████████████████████████████████████████████▊                                       | 103/189 [02:09<01:40,  1.17s/it]"
     ]
    },
    {
     "name": "stdout",
     "output_type": "stream",
     "text": [
      "[5/200][103/189] ========== Loss_D: 1.4360, Loss_G: 1.6370, Acc_G: 24/32 = 75.0000\n"
     ]
    },
    {
     "name": "stderr",
     "output_type": "stream",
     "text": [
      " 55%|███████████████████████████████████████████████▎                                      | 104/189 [02:10<01:35,  1.12s/it]"
     ]
    },
    {
     "name": "stdout",
     "output_type": "stream",
     "text": [
      "[5/200][104/189] ========== Loss_D: 1.4470, Loss_G: 1.7695, Acc_G: 18/32 = 56.2500\n"
     ]
    },
    {
     "name": "stderr",
     "output_type": "stream",
     "text": [
      " 56%|███████████████████████████████████████████████▊                                      | 105/189 [02:11<01:32,  1.10s/it]"
     ]
    },
    {
     "name": "stdout",
     "output_type": "stream",
     "text": [
      "[5/200][105/189] ========== Loss_D: 1.4502, Loss_G: 1.6103, Acc_G: 21/32 = 65.6250\n"
     ]
    },
    {
     "name": "stderr",
     "output_type": "stream",
     "text": [
      " 56%|████████████████████████████████████████████████▏                                     | 106/189 [02:13<01:38,  1.18s/it]"
     ]
    },
    {
     "name": "stdout",
     "output_type": "stream",
     "text": [
      "[5/200][106/189] ========== Loss_D: 1.4254, Loss_G: 1.6122, Acc_G: 22/32 = 68.7500\n"
     ]
    },
    {
     "name": "stderr",
     "output_type": "stream",
     "text": [
      " 57%|████████████████████████████████████████████████▋                                     | 107/189 [02:14<01:38,  1.20s/it]"
     ]
    },
    {
     "name": "stdout",
     "output_type": "stream",
     "text": [
      "[5/200][107/189] ========== Loss_D: 1.4528, Loss_G: 1.5726, Acc_G: 24/32 = 75.0000\n"
     ]
    },
    {
     "name": "stderr",
     "output_type": "stream",
     "text": [
      " 57%|█████████████████████████████████████████████████▏                                    | 108/189 [02:15<01:33,  1.16s/it]"
     ]
    },
    {
     "name": "stdout",
     "output_type": "stream",
     "text": [
      "[5/200][108/189] ========== Loss_D: 1.4592, Loss_G: 1.6018, Acc_G: 23/32 = 71.8750\n"
     ]
    },
    {
     "name": "stderr",
     "output_type": "stream",
     "text": [
      " 58%|█████████████████████████████████████████████████▌                                    | 109/189 [02:16<01:35,  1.20s/it]"
     ]
    },
    {
     "name": "stdout",
     "output_type": "stream",
     "text": [
      "[5/200][109/189] ========== Loss_D: 1.4324, Loss_G: 1.6374, Acc_G: 25/32 = 78.1250\n"
     ]
    },
    {
     "name": "stderr",
     "output_type": "stream",
     "text": [
      " 58%|██████████████████████████████████████████████████                                    | 110/189 [02:18<01:37,  1.24s/it]"
     ]
    },
    {
     "name": "stdout",
     "output_type": "stream",
     "text": [
      "[5/200][110/189] ========== Loss_D: 1.4532, Loss_G: 1.6772, Acc_G: 17/32 = 53.1250\n"
     ]
    },
    {
     "name": "stderr",
     "output_type": "stream",
     "text": [
      " 59%|██████████████████████████████████████████████████▌                                   | 111/189 [02:19<01:32,  1.19s/it]"
     ]
    },
    {
     "name": "stdout",
     "output_type": "stream",
     "text": [
      "[5/200][111/189] ========== Loss_D: 1.4333, Loss_G: 1.7209, Acc_G: 19/32 = 59.3750\n"
     ]
    },
    {
     "name": "stderr",
     "output_type": "stream",
     "text": [
      " 59%|██████████████████████████████████████████████████▉                                   | 112/189 [02:20<01:33,  1.21s/it]"
     ]
    },
    {
     "name": "stdout",
     "output_type": "stream",
     "text": [
      "[5/200][112/189] ========== Loss_D: 1.4240, Loss_G: 1.6486, Acc_G: 21/32 = 65.6250\n"
     ]
    },
    {
     "name": "stderr",
     "output_type": "stream",
     "text": [
      " 60%|███████████████████████████████████████████████████▍                                  | 113/189 [02:21<01:28,  1.16s/it]"
     ]
    },
    {
     "name": "stdout",
     "output_type": "stream",
     "text": [
      "[5/200][113/189] ========== Loss_D: 1.4571, Loss_G: 1.6150, Acc_G: 20/32 = 62.5000\n"
     ]
    },
    {
     "name": "stderr",
     "output_type": "stream",
     "text": [
      " 60%|███████████████████████████████████████████████████▊                                  | 114/189 [02:22<01:25,  1.14s/it]"
     ]
    },
    {
     "name": "stdout",
     "output_type": "stream",
     "text": [
      "[5/200][114/189] ========== Loss_D: 1.4398, Loss_G: 1.6684, Acc_G: 25/32 = 78.1250\n"
     ]
    },
    {
     "name": "stderr",
     "output_type": "stream",
     "text": [
      " 61%|████████████████████████████████████████████████████▎                                 | 115/189 [02:23<01:28,  1.19s/it]"
     ]
    },
    {
     "name": "stdout",
     "output_type": "stream",
     "text": [
      "[5/200][115/189] ========== Loss_D: 1.4473, Loss_G: 1.6862, Acc_G: 21/32 = 65.6250\n"
     ]
    },
    {
     "name": "stderr",
     "output_type": "stream",
     "text": [
      " 61%|████████████████████████████████████████████████████▊                                 | 116/189 [02:24<01:25,  1.17s/it]"
     ]
    },
    {
     "name": "stdout",
     "output_type": "stream",
     "text": [
      "[5/200][116/189] ========== Loss_D: 1.4448, Loss_G: 1.6968, Acc_G: 22/32 = 68.7500\n"
     ]
    },
    {
     "name": "stderr",
     "output_type": "stream",
     "text": [
      " 62%|█████████████████████████████████████████████████████▏                                | 117/189 [02:26<01:25,  1.18s/it]"
     ]
    },
    {
     "name": "stdout",
     "output_type": "stream",
     "text": [
      "[5/200][117/189] ========== Loss_D: 1.4469, Loss_G: 1.6863, Acc_G: 22/32 = 68.7500\n"
     ]
    },
    {
     "name": "stderr",
     "output_type": "stream",
     "text": [
      " 62%|█████████████████████████████████████████████████████▋                                | 118/189 [02:27<01:22,  1.17s/it]"
     ]
    },
    {
     "name": "stdout",
     "output_type": "stream",
     "text": [
      "[5/200][118/189] ========== Loss_D: 1.4537, Loss_G: 1.6289, Acc_G: 19/32 = 59.3750\n"
     ]
    },
    {
     "name": "stderr",
     "output_type": "stream",
     "text": [
      " 63%|██████████████████████████████████████████████████████▏                               | 119/189 [02:28<01:17,  1.10s/it]"
     ]
    },
    {
     "name": "stdout",
     "output_type": "stream",
     "text": [
      "[5/200][119/189] ========== Loss_D: 1.4490, Loss_G: 1.6760, Acc_G: 26/32 = 81.2500\n"
     ]
    },
    {
     "name": "stderr",
     "output_type": "stream",
     "text": [
      " 63%|██████████████████████████████████████████████████████▌                               | 120/189 [02:29<01:16,  1.10s/it]"
     ]
    },
    {
     "name": "stdout",
     "output_type": "stream",
     "text": [
      "[5/200][120/189] ========== Loss_D: 1.4578, Loss_G: 1.6824, Acc_G: 17/32 = 53.1250\n"
     ]
    },
    {
     "name": "stderr",
     "output_type": "stream",
     "text": [
      " 64%|███████████████████████████████████████████████████████                               | 121/189 [02:30<01:17,  1.13s/it]"
     ]
    },
    {
     "name": "stdout",
     "output_type": "stream",
     "text": [
      "[5/200][121/189] ========== Loss_D: 1.4480, Loss_G: 1.6824, Acc_G: 21/32 = 65.6250\n"
     ]
    },
    {
     "name": "stderr",
     "output_type": "stream",
     "text": [
      " 65%|███████████████████████████████████████████████████████▌                              | 122/189 [02:31<01:13,  1.09s/it]"
     ]
    },
    {
     "name": "stdout",
     "output_type": "stream",
     "text": [
      "[5/200][122/189] ========== Loss_D: 1.4569, Loss_G: 1.5512, Acc_G: 23/32 = 71.8750\n"
     ]
    },
    {
     "name": "stderr",
     "output_type": "stream",
     "text": [
      " 65%|███████████████████████████████████████████████████████▉                              | 123/189 [02:32<01:11,  1.08s/it]"
     ]
    },
    {
     "name": "stdout",
     "output_type": "stream",
     "text": [
      "[5/200][123/189] ========== Loss_D: 1.4640, Loss_G: 1.8207, Acc_G: 20/32 = 62.5000\n"
     ]
    },
    {
     "name": "stderr",
     "output_type": "stream",
     "text": [
      " 66%|████████████████████████████████████████████████████████▍                             | 124/189 [02:33<01:13,  1.13s/it]"
     ]
    },
    {
     "name": "stdout",
     "output_type": "stream",
     "text": [
      "[5/200][124/189] ========== Loss_D: 1.4575, Loss_G: 1.5718, Acc_G: 25/32 = 78.1250\n"
     ]
    },
    {
     "name": "stderr",
     "output_type": "stream",
     "text": [
      " 66%|████████████████████████████████████████████████████████▉                             | 125/189 [02:34<01:11,  1.12s/it]"
     ]
    },
    {
     "name": "stdout",
     "output_type": "stream",
     "text": [
      "[5/200][125/189] ========== Loss_D: 1.4569, Loss_G: 1.7793, Acc_G: 25/32 = 78.1250\n"
     ]
    },
    {
     "name": "stderr",
     "output_type": "stream",
     "text": [
      " 67%|█████████████████████████████████████████████████████████▎                            | 126/189 [02:36<01:11,  1.14s/it]"
     ]
    },
    {
     "name": "stdout",
     "output_type": "stream",
     "text": [
      "[5/200][126/189] ========== Loss_D: 1.4453, Loss_G: 1.6055, Acc_G: 21/32 = 65.6250\n"
     ]
    },
    {
     "name": "stderr",
     "output_type": "stream",
     "text": [
      " 67%|█████████████████████████████████████████████████████████▊                            | 127/189 [02:37<01:10,  1.13s/it]"
     ]
    },
    {
     "name": "stdout",
     "output_type": "stream",
     "text": [
      "[5/200][127/189] ========== Loss_D: 1.4375, Loss_G: 1.7074, Acc_G: 20/32 = 62.5000\n"
     ]
    },
    {
     "name": "stderr",
     "output_type": "stream",
     "text": [
      " 68%|██████████████████████████████████████████████████████████▏                           | 128/189 [02:38<01:17,  1.28s/it]"
     ]
    },
    {
     "name": "stdout",
     "output_type": "stream",
     "text": [
      "[5/200][128/189] ========== Loss_D: 1.4375, Loss_G: 1.7155, Acc_G: 20/32 = 62.5000\n"
     ]
    },
    {
     "name": "stderr",
     "output_type": "stream",
     "text": [
      " 68%|██████████████████████████████████████████████████████████▋                           | 129/189 [02:40<01:15,  1.25s/it]"
     ]
    },
    {
     "name": "stdout",
     "output_type": "stream",
     "text": [
      "[5/200][129/189] ========== Loss_D: 1.4474, Loss_G: 1.7212, Acc_G: 23/32 = 71.8750\n"
     ]
    },
    {
     "name": "stderr",
     "output_type": "stream",
     "text": [
      " 69%|███████████████████████████████████████████████████████████▏                          | 130/189 [02:40<01:08,  1.16s/it]"
     ]
    },
    {
     "name": "stdout",
     "output_type": "stream",
     "text": [
      "[5/200][130/189] ========== Loss_D: 1.4521, Loss_G: 1.6750, Acc_G: 21/32 = 65.6250\n"
     ]
    },
    {
     "name": "stderr",
     "output_type": "stream",
     "text": [
      " 69%|███████████████████████████████████████████████████████████▌                          | 131/189 [02:42<01:07,  1.17s/it]"
     ]
    },
    {
     "name": "stdout",
     "output_type": "stream",
     "text": [
      "[5/200][131/189] ========== Loss_D: 1.4516, Loss_G: 1.6908, Acc_G: 22/32 = 68.7500\n"
     ]
    },
    {
     "name": "stderr",
     "output_type": "stream",
     "text": [
      " 70%|████████████████████████████████████████████████████████████                          | 132/189 [02:43<01:09,  1.22s/it]"
     ]
    },
    {
     "name": "stdout",
     "output_type": "stream",
     "text": [
      "[5/200][132/189] ========== Loss_D: 1.4374, Loss_G: 1.5987, Acc_G: 25/32 = 78.1250\n"
     ]
    },
    {
     "name": "stderr",
     "output_type": "stream",
     "text": [
      " 70%|████████████████████████████████████████████████████████████▌                         | 133/189 [02:44<01:05,  1.17s/it]"
     ]
    },
    {
     "name": "stdout",
     "output_type": "stream",
     "text": [
      "[5/200][133/189] ========== Loss_D: 1.4518, Loss_G: 1.6870, Acc_G: 23/32 = 71.8750\n"
     ]
    },
    {
     "name": "stderr",
     "output_type": "stream",
     "text": [
      " 71%|████████████████████████████████████████████████████████████▉                         | 134/189 [02:46<01:14,  1.35s/it]"
     ]
    },
    {
     "name": "stdout",
     "output_type": "stream",
     "text": [
      "[5/200][134/189] ========== Loss_D: 1.4508, Loss_G: 1.7861, Acc_G: 21/32 = 65.6250\n"
     ]
    },
    {
     "name": "stderr",
     "output_type": "stream",
     "text": [
      " 71%|█████████████████████████████████████████████████████████████▍                        | 135/189 [02:47<01:10,  1.31s/it]"
     ]
    },
    {
     "name": "stdout",
     "output_type": "stream",
     "text": [
      "[5/200][135/189] ========== Loss_D: 1.4418, Loss_G: 1.7025, Acc_G: 24/32 = 75.0000\n"
     ]
    },
    {
     "name": "stderr",
     "output_type": "stream",
     "text": [
      " 72%|█████████████████████████████████████████████████████████████▉                        | 136/189 [02:48<01:06,  1.25s/it]"
     ]
    },
    {
     "name": "stdout",
     "output_type": "stream",
     "text": [
      "[5/200][136/189] ========== Loss_D: 1.4629, Loss_G: 1.7053, Acc_G: 20/32 = 62.5000\n"
     ]
    },
    {
     "name": "stderr",
     "output_type": "stream",
     "text": [
      " 72%|██████████████████████████████████████████████████████████████▎                       | 137/189 [02:49<01:02,  1.20s/it]"
     ]
    },
    {
     "name": "stdout",
     "output_type": "stream",
     "text": [
      "[5/200][137/189] ========== Loss_D: 1.4644, Loss_G: 1.6046, Acc_G: 25/32 = 78.1250\n"
     ]
    },
    {
     "name": "stderr",
     "output_type": "stream",
     "text": [
      " 73%|██████████████████████████████████████████████████████████████▊                       | 138/189 [02:50<00:58,  1.15s/it]"
     ]
    },
    {
     "name": "stdout",
     "output_type": "stream",
     "text": [
      "[5/200][138/189] ========== Loss_D: 1.4486, Loss_G: 1.6950, Acc_G: 27/32 = 84.3750\n"
     ]
    },
    {
     "name": "stderr",
     "output_type": "stream",
     "text": [
      " 74%|███████████████████████████████████████████████████████████████▏                      | 139/189 [02:52<00:59,  1.19s/it]"
     ]
    },
    {
     "name": "stdout",
     "output_type": "stream",
     "text": [
      "[5/200][139/189] ========== Loss_D: 1.4590, Loss_G: 1.6926, Acc_G: 23/32 = 71.8750\n"
     ]
    },
    {
     "name": "stderr",
     "output_type": "stream",
     "text": [
      " 74%|███████████████████████████████████████████████████████████████▋                      | 140/189 [02:53<00:59,  1.22s/it]"
     ]
    },
    {
     "name": "stdout",
     "output_type": "stream",
     "text": [
      "[5/200][140/189] ========== Loss_D: 1.4666, Loss_G: 1.6827, Acc_G: 23/32 = 71.8750\n"
     ]
    },
    {
     "name": "stderr",
     "output_type": "stream",
     "text": [
      " 75%|████████████████████████████████████████████████████████████████▏                     | 141/189 [02:54<00:59,  1.24s/it]"
     ]
    },
    {
     "name": "stdout",
     "output_type": "stream",
     "text": [
      "[5/200][141/189] ========== Loss_D: 1.4540, Loss_G: 1.8180, Acc_G: 21/32 = 65.6250\n"
     ]
    },
    {
     "name": "stderr",
     "output_type": "stream",
     "text": [
      " 75%|████████████████████████████████████████████████████████████████▌                     | 142/189 [02:55<00:56,  1.20s/it]"
     ]
    },
    {
     "name": "stdout",
     "output_type": "stream",
     "text": [
      "[5/200][142/189] ========== Loss_D: 1.4568, Loss_G: 1.6786, Acc_G: 19/32 = 59.3750\n"
     ]
    },
    {
     "name": "stderr",
     "output_type": "stream",
     "text": [
      " 76%|█████████████████████████████████████████████████████████████████                     | 143/189 [02:56<00:54,  1.18s/it]"
     ]
    },
    {
     "name": "stdout",
     "output_type": "stream",
     "text": [
      "[5/200][143/189] ========== Loss_D: 1.4546, Loss_G: 1.7421, Acc_G: 25/32 = 78.1250\n"
     ]
    },
    {
     "name": "stderr",
     "output_type": "stream",
     "text": [
      " 76%|█████████████████████████████████████████████████████████████████▌                    | 144/189 [02:57<00:50,  1.13s/it]"
     ]
    },
    {
     "name": "stdout",
     "output_type": "stream",
     "text": [
      "[5/200][144/189] ========== Loss_D: 1.4619, Loss_G: 1.6229, Acc_G: 19/32 = 59.3750\n"
     ]
    },
    {
     "name": "stderr",
     "output_type": "stream",
     "text": [
      " 77%|█████████████████████████████████████████████████████████████████▉                    | 145/189 [02:58<00:49,  1.12s/it]"
     ]
    },
    {
     "name": "stdout",
     "output_type": "stream",
     "text": [
      "[5/200][145/189] ========== Loss_D: 1.4547, Loss_G: 1.6229, Acc_G: 24/32 = 75.0000\n"
     ]
    },
    {
     "name": "stderr",
     "output_type": "stream",
     "text": [
      " 77%|██████████████████████████████████████████████████████████████████▍                   | 146/189 [03:00<00:51,  1.20s/it]"
     ]
    },
    {
     "name": "stdout",
     "output_type": "stream",
     "text": [
      "[5/200][146/189] ========== Loss_D: 1.4489, Loss_G: 1.6525, Acc_G: 22/32 = 68.7500\n"
     ]
    },
    {
     "name": "stderr",
     "output_type": "stream",
     "text": [
      " 78%|██████████████████████████████████████████████████████████████████▉                   | 147/189 [03:01<00:52,  1.25s/it]"
     ]
    },
    {
     "name": "stdout",
     "output_type": "stream",
     "text": [
      "[5/200][147/189] ========== Loss_D: 1.4558, Loss_G: 1.7707, Acc_G: 19/32 = 59.3750\n"
     ]
    },
    {
     "name": "stderr",
     "output_type": "stream",
     "text": [
      " 78%|███████████████████████████████████████████████████████████████████▎                  | 148/189 [03:03<00:52,  1.27s/it]"
     ]
    },
    {
     "name": "stdout",
     "output_type": "stream",
     "text": [
      "[5/200][148/189] ========== Loss_D: 1.4618, Loss_G: 1.6810, Acc_G: 21/32 = 65.6250\n"
     ]
    },
    {
     "name": "stderr",
     "output_type": "stream",
     "text": [
      " 79%|███████████████████████████████████████████████████████████████████▊                  | 149/189 [03:04<00:48,  1.21s/it]"
     ]
    },
    {
     "name": "stdout",
     "output_type": "stream",
     "text": [
      "[5/200][149/189] ========== Loss_D: 1.4453, Loss_G: 1.5566, Acc_G: 21/32 = 65.6250\n"
     ]
    },
    {
     "name": "stderr",
     "output_type": "stream",
     "text": [
      " 79%|████████████████████████████████████████████████████████████████████▎                 | 150/189 [03:05<00:48,  1.24s/it]"
     ]
    },
    {
     "name": "stdout",
     "output_type": "stream",
     "text": [
      "[5/200][150/189] ========== Loss_D: 1.4435, Loss_G: 1.7409, Acc_G: 21/32 = 65.6250\n"
     ]
    },
    {
     "name": "stderr",
     "output_type": "stream",
     "text": [
      " 80%|████████████████████████████████████████████████████████████████████▋                 | 151/189 [03:06<00:47,  1.26s/it]"
     ]
    },
    {
     "name": "stdout",
     "output_type": "stream",
     "text": [
      "[5/200][151/189] ========== Loss_D: 1.4445, Loss_G: 1.6944, Acc_G: 25/32 = 78.1250\n"
     ]
    },
    {
     "name": "stderr",
     "output_type": "stream",
     "text": [
      " 80%|█████████████████████████████████████████████████████████████████████▏                | 152/189 [03:08<00:47,  1.29s/it]"
     ]
    },
    {
     "name": "stdout",
     "output_type": "stream",
     "text": [
      "[5/200][152/189] ========== Loss_D: 1.4480, Loss_G: 1.5813, Acc_G: 18/32 = 56.2500\n"
     ]
    },
    {
     "name": "stderr",
     "output_type": "stream",
     "text": [
      " 81%|█████████████████████████████████████████████████████████████████████▌                | 153/189 [03:09<00:45,  1.27s/it]"
     ]
    },
    {
     "name": "stdout",
     "output_type": "stream",
     "text": [
      "[5/200][153/189] ========== Loss_D: 1.4404, Loss_G: 1.6664, Acc_G: 18/32 = 56.2500\n"
     ]
    },
    {
     "name": "stderr",
     "output_type": "stream",
     "text": [
      " 81%|██████████████████████████████████████████████████████████████████████                | 154/189 [03:10<00:43,  1.25s/it]"
     ]
    },
    {
     "name": "stdout",
     "output_type": "stream",
     "text": [
      "[5/200][154/189] ========== Loss_D: 1.4426, Loss_G: 1.6765, Acc_G: 25/32 = 78.1250\n"
     ]
    },
    {
     "name": "stderr",
     "output_type": "stream",
     "text": [
      " 82%|██████████████████████████████████████████████████████████████████████▌               | 155/189 [03:11<00:41,  1.21s/it]"
     ]
    },
    {
     "name": "stdout",
     "output_type": "stream",
     "text": [
      "[5/200][155/189] ========== Loss_D: 1.4571, Loss_G: 1.7707, Acc_G: 25/32 = 78.1250\n"
     ]
    },
    {
     "name": "stderr",
     "output_type": "stream",
     "text": [
      " 83%|██████████████████████████████████████████████████████████████████████▉               | 156/189 [03:12<00:38,  1.17s/it]"
     ]
    },
    {
     "name": "stdout",
     "output_type": "stream",
     "text": [
      "[5/200][156/189] ========== Loss_D: 1.4521, Loss_G: 1.7050, Acc_G: 24/32 = 75.0000\n"
     ]
    },
    {
     "name": "stderr",
     "output_type": "stream",
     "text": [
      " 83%|███████████████████████████████████████████████████████████████████████▍              | 157/189 [03:14<00:41,  1.28s/it]"
     ]
    },
    {
     "name": "stdout",
     "output_type": "stream",
     "text": [
      "[5/200][157/189] ========== Loss_D: 1.4514, Loss_G: 1.6128, Acc_G: 21/32 = 65.6250\n"
     ]
    },
    {
     "name": "stderr",
     "output_type": "stream",
     "text": [
      " 84%|███████████████████████████████████████████████████████████████████████▉              | 158/189 [03:15<00:38,  1.24s/it]"
     ]
    },
    {
     "name": "stdout",
     "output_type": "stream",
     "text": [
      "[5/200][158/189] ========== Loss_D: 1.4364, Loss_G: 1.7868, Acc_G: 20/32 = 62.5000\n"
     ]
    },
    {
     "name": "stderr",
     "output_type": "stream",
     "text": [
      " 84%|████████████████████████████████████████████████████████████████████████▎             | 159/189 [03:16<00:38,  1.29s/it]"
     ]
    },
    {
     "name": "stdout",
     "output_type": "stream",
     "text": [
      "[5/200][159/189] ========== Loss_D: 1.4461, Loss_G: 1.8032, Acc_G: 25/32 = 78.1250\n"
     ]
    },
    {
     "name": "stderr",
     "output_type": "stream",
     "text": [
      " 85%|████████████████████████████████████████████████████████████████████████▊             | 160/189 [03:18<00:37,  1.30s/it]"
     ]
    },
    {
     "name": "stdout",
     "output_type": "stream",
     "text": [
      "[5/200][160/189] ========== Loss_D: 1.4484, Loss_G: 1.6682, Acc_G: 22/32 = 68.7500\n"
     ]
    },
    {
     "name": "stderr",
     "output_type": "stream",
     "text": [
      " 85%|█████████████████████████████████████████████████████████████████████████▎            | 161/189 [03:19<00:34,  1.23s/it]"
     ]
    },
    {
     "name": "stdout",
     "output_type": "stream",
     "text": [
      "[5/200][161/189] ========== Loss_D: 1.4554, Loss_G: 1.7011, Acc_G: 22/32 = 68.7500\n"
     ]
    },
    {
     "name": "stderr",
     "output_type": "stream",
     "text": [
      " 86%|█████████████████████████████████████████████████████████████████████████▋            | 162/189 [03:20<00:35,  1.30s/it]"
     ]
    },
    {
     "name": "stdout",
     "output_type": "stream",
     "text": [
      "[5/200][162/189] ========== Loss_D: 1.4606, Loss_G: 1.7471, Acc_G: 20/32 = 62.5000\n"
     ]
    },
    {
     "name": "stderr",
     "output_type": "stream",
     "text": [
      " 86%|██████████████████████████████████████████████████████████████████████████▏           | 163/189 [03:22<00:35,  1.37s/it]"
     ]
    },
    {
     "name": "stdout",
     "output_type": "stream",
     "text": [
      "[5/200][163/189] ========== Loss_D: 1.4480, Loss_G: 1.6084, Acc_G: 24/32 = 75.0000\n"
     ]
    },
    {
     "name": "stderr",
     "output_type": "stream",
     "text": [
      " 87%|██████████████████████████████████████████████████████████████████████████▌           | 164/189 [03:23<00:31,  1.27s/it]"
     ]
    },
    {
     "name": "stdout",
     "output_type": "stream",
     "text": [
      "[5/200][164/189] ========== Loss_D: 1.4289, Loss_G: 1.7107, Acc_G: 20/32 = 62.5000\n"
     ]
    },
    {
     "name": "stderr",
     "output_type": "stream",
     "text": [
      " 87%|███████████████████████████████████████████████████████████████████████████           | 165/189 [03:24<00:29,  1.21s/it]"
     ]
    },
    {
     "name": "stdout",
     "output_type": "stream",
     "text": [
      "[5/200][165/189] ========== Loss_D: 1.4397, Loss_G: 1.7021, Acc_G: 21/32 = 65.6250\n"
     ]
    },
    {
     "name": "stderr",
     "output_type": "stream",
     "text": [
      " 88%|███████████████████████████████████████████████████████████████████████████▌          | 166/189 [03:25<00:28,  1.24s/it]"
     ]
    },
    {
     "name": "stdout",
     "output_type": "stream",
     "text": [
      "[5/200][166/189] ========== Loss_D: 1.4564, Loss_G: 1.7325, Acc_G: 21/32 = 65.6250\n"
     ]
    },
    {
     "name": "stderr",
     "output_type": "stream",
     "text": [
      " 88%|███████████████████████████████████████████████████████████████████████████▉          | 167/189 [03:26<00:27,  1.24s/it]"
     ]
    },
    {
     "name": "stdout",
     "output_type": "stream",
     "text": [
      "[5/200][167/189] ========== Loss_D: 1.4480, Loss_G: 1.6820, Acc_G: 26/32 = 81.2500\n"
     ]
    },
    {
     "name": "stderr",
     "output_type": "stream",
     "text": [
      " 89%|████████████████████████████████████████████████████████████████████████████▍         | 168/189 [03:27<00:24,  1.17s/it]"
     ]
    },
    {
     "name": "stdout",
     "output_type": "stream",
     "text": [
      "[5/200][168/189] ========== Loss_D: 1.4600, Loss_G: 1.6318, Acc_G: 24/32 = 75.0000\n"
     ]
    },
    {
     "name": "stderr",
     "output_type": "stream",
     "text": [
      " 89%|████████████████████████████████████████████████████████████████████████████▉         | 169/189 [03:29<00:23,  1.19s/it]"
     ]
    },
    {
     "name": "stdout",
     "output_type": "stream",
     "text": [
      "[5/200][169/189] ========== Loss_D: 1.4506, Loss_G: 1.7426, Acc_G: 26/32 = 81.2500\n"
     ]
    },
    {
     "name": "stderr",
     "output_type": "stream",
     "text": [
      " 90%|█████████████████████████████████████████████████████████████████████████████▎        | 170/189 [03:30<00:22,  1.20s/it]"
     ]
    },
    {
     "name": "stdout",
     "output_type": "stream",
     "text": [
      "[5/200][170/189] ========== Loss_D: 1.4395, Loss_G: 1.6296, Acc_G: 22/32 = 68.7500\n"
     ]
    },
    {
     "name": "stderr",
     "output_type": "stream",
     "text": [
      " 90%|█████████████████████████████████████████████████████████████████████████████▊        | 171/189 [03:31<00:21,  1.20s/it]"
     ]
    },
    {
     "name": "stdout",
     "output_type": "stream",
     "text": [
      "[5/200][171/189] ========== Loss_D: 1.4557, Loss_G: 1.7126, Acc_G: 23/32 = 71.8750\n"
     ]
    },
    {
     "name": "stderr",
     "output_type": "stream",
     "text": [
      " 91%|██████████████████████████████████████████████████████████████████████████████▎       | 172/189 [03:32<00:19,  1.16s/it]"
     ]
    },
    {
     "name": "stdout",
     "output_type": "stream",
     "text": [
      "[5/200][172/189] ========== Loss_D: 1.4444, Loss_G: 1.5778, Acc_G: 26/32 = 81.2500\n"
     ]
    },
    {
     "name": "stderr",
     "output_type": "stream",
     "text": [
      " 92%|██████████████████████████████████████████████████████████████████████████████▋       | 173/189 [03:33<00:18,  1.13s/it]"
     ]
    },
    {
     "name": "stdout",
     "output_type": "stream",
     "text": [
      "[5/200][173/189] ========== Loss_D: 1.4680, Loss_G: 1.6963, Acc_G: 18/32 = 56.2500\n"
     ]
    },
    {
     "name": "stderr",
     "output_type": "stream",
     "text": [
      " 92%|███████████████████████████████████████████████████████████████████████████████▏      | 174/189 [03:34<00:16,  1.12s/it]"
     ]
    },
    {
     "name": "stdout",
     "output_type": "stream",
     "text": [
      "[5/200][174/189] ========== Loss_D: 1.4528, Loss_G: 1.6950, Acc_G: 19/32 = 59.3750\n"
     ]
    },
    {
     "name": "stderr",
     "output_type": "stream",
     "text": [
      " 93%|███████████████████████████████████████████████████████████████████████████████▋      | 175/189 [03:35<00:15,  1.13s/it]"
     ]
    },
    {
     "name": "stdout",
     "output_type": "stream",
     "text": [
      "[5/200][175/189] ========== Loss_D: 1.4428, Loss_G: 1.7598, Acc_G: 21/32 = 65.6250\n"
     ]
    },
    {
     "name": "stderr",
     "output_type": "stream",
     "text": [
      " 93%|████████████████████████████████████████████████████████████████████████████████      | 176/189 [03:36<00:13,  1.07s/it]"
     ]
    },
    {
     "name": "stdout",
     "output_type": "stream",
     "text": [
      "[5/200][176/189] ========== Loss_D: 1.4537, Loss_G: 1.7482, Acc_G: 24/32 = 75.0000\n"
     ]
    },
    {
     "name": "stderr",
     "output_type": "stream",
     "text": [
      " 94%|████████████████████████████████████████████████████████████████████████████████▌     | 177/189 [03:37<00:12,  1.05s/it]"
     ]
    },
    {
     "name": "stdout",
     "output_type": "stream",
     "text": [
      "[5/200][177/189] ========== Loss_D: 1.4537, Loss_G: 1.6488, Acc_G: 23/32 = 71.8750\n"
     ]
    },
    {
     "name": "stderr",
     "output_type": "stream",
     "text": [
      " 94%|████████████████████████████████████████████████████████████████████████████████▉     | 178/189 [03:39<00:13,  1.18s/it]"
     ]
    },
    {
     "name": "stdout",
     "output_type": "stream",
     "text": [
      "[5/200][178/189] ========== Loss_D: 1.4495, Loss_G: 1.6737, Acc_G: 26/32 = 81.2500\n"
     ]
    },
    {
     "name": "stderr",
     "output_type": "stream",
     "text": [
      " 95%|█████████████████████████████████████████████████████████████████████████████████▍    | 179/189 [03:40<00:11,  1.15s/it]"
     ]
    },
    {
     "name": "stdout",
     "output_type": "stream",
     "text": [
      "[5/200][179/189] ========== Loss_D: 1.4466, Loss_G: 1.7259, Acc_G: 19/32 = 59.3750\n"
     ]
    },
    {
     "name": "stderr",
     "output_type": "stream",
     "text": [
      " 95%|█████████████████████████████████████████████████████████████████████████████████▉    | 180/189 [03:41<00:10,  1.18s/it]"
     ]
    },
    {
     "name": "stdout",
     "output_type": "stream",
     "text": [
      "[5/200][180/189] ========== Loss_D: 1.4439, Loss_G: 1.6698, Acc_G: 21/32 = 65.6250\n"
     ]
    },
    {
     "name": "stderr",
     "output_type": "stream",
     "text": [
      " 96%|██████████████████████████████████████████████████████████████████████████████████▎   | 181/189 [03:42<00:08,  1.11s/it]"
     ]
    },
    {
     "name": "stdout",
     "output_type": "stream",
     "text": [
      "[5/200][181/189] ========== Loss_D: 1.4411, Loss_G: 1.6113, Acc_G: 18/32 = 56.2500\n"
     ]
    },
    {
     "name": "stderr",
     "output_type": "stream",
     "text": [
      " 96%|██████████████████████████████████████████████████████████████████████████████████▊   | 182/189 [03:43<00:08,  1.16s/it]"
     ]
    },
    {
     "name": "stdout",
     "output_type": "stream",
     "text": [
      "[5/200][182/189] ========== Loss_D: 1.4491, Loss_G: 1.6686, Acc_G: 17/32 = 53.1250\n"
     ]
    },
    {
     "name": "stderr",
     "output_type": "stream",
     "text": [
      " 97%|███████████████████████████████████████████████████████████████████████████████████▎  | 183/189 [03:45<00:07,  1.25s/it]"
     ]
    },
    {
     "name": "stdout",
     "output_type": "stream",
     "text": [
      "[5/200][183/189] ========== Loss_D: 1.4580, Loss_G: 1.6915, Acc_G: 23/32 = 71.8750\n"
     ]
    },
    {
     "name": "stderr",
     "output_type": "stream",
     "text": [
      " 97%|███████████████████████████████████████████████████████████████████████████████████▋  | 184/189 [03:46<00:06,  1.27s/it]"
     ]
    },
    {
     "name": "stdout",
     "output_type": "stream",
     "text": [
      "[5/200][184/189] ========== Loss_D: 1.4498, Loss_G: 1.6467, Acc_G: 24/32 = 75.0000\n"
     ]
    },
    {
     "name": "stderr",
     "output_type": "stream",
     "text": [
      " 98%|████████████████████████████████████████████████████████████████████████████████████▏ | 185/189 [03:47<00:05,  1.29s/it]"
     ]
    },
    {
     "name": "stdout",
     "output_type": "stream",
     "text": [
      "[5/200][185/189] ========== Loss_D: 1.4588, Loss_G: 1.6766, Acc_G: 17/32 = 53.1250\n"
     ]
    },
    {
     "name": "stderr",
     "output_type": "stream",
     "text": [
      " 98%|████████████████████████████████████████████████████████████████████████████████████▋ | 186/189 [03:49<00:04,  1.35s/it]"
     ]
    },
    {
     "name": "stdout",
     "output_type": "stream",
     "text": [
      "[5/200][186/189] ========== Loss_D: 1.4324, Loss_G: 1.6733, Acc_G: 21/32 = 65.6250\n"
     ]
    },
    {
     "name": "stderr",
     "output_type": "stream",
     "text": [
      " 99%|█████████████████████████████████████████████████████████████████████████████████████ | 187/189 [03:50<00:02,  1.34s/it]"
     ]
    },
    {
     "name": "stdout",
     "output_type": "stream",
     "text": [
      "[5/200][187/189] ========== Loss_D: 1.4595, Loss_G: 1.7637, Acc_G: 28/32 = 87.5000\n"
     ]
    },
    {
     "name": "stderr",
     "output_type": "stream",
     "text": [
      " 99%|█████████████████████████████████████████████████████████████████████████████████████▌| 188/189 [03:52<00:01,  1.34s/it]"
     ]
    },
    {
     "name": "stdout",
     "output_type": "stream",
     "text": [
      "[5/200][188/189] ========== Loss_D: 1.4443, Loss_G: 1.6447, Acc_G: 25/32 = 78.1250\n"
     ]
    },
    {
     "name": "stderr",
     "output_type": "stream",
     "text": [
      "100%|██████████████████████████████████████████████████████████████████████████████████████| 189/189 [03:52<00:00,  1.23s/it]"
     ]
    },
    {
     "name": "stdout",
     "output_type": "stream",
     "text": [
      "[5/200][189/189] ========== Loss_D: 1.4479, Loss_G: 1.5024, Acc_G: 5/8 = 62.5000\n",
      "---------------------< lowest loss update -> 2.9503204822540283 >---------------------\n"
     ]
    },
    {
     "name": "stderr",
     "output_type": "stream",
     "text": [
      "\n",
      "  1%|▍                                                                                       | 1/189 [00:01<05:42,  1.82s/it]"
     ]
    },
    {
     "name": "stdout",
     "output_type": "stream",
     "text": [
      "[6/200][1/189] ========== Loss_D: 1.4350, Loss_G: 1.6041, Acc_G: 22/32 = 68.7500\n"
     ]
    },
    {
     "name": "stderr",
     "output_type": "stream",
     "text": [
      "  1%|▉                                                                                       | 2/189 [00:03<04:34,  1.47s/it]"
     ]
    },
    {
     "name": "stdout",
     "output_type": "stream",
     "text": [
      "[6/200][2/189] ========== Loss_D: 1.4520, Loss_G: 1.7058, Acc_G: 20/32 = 62.5000\n"
     ]
    },
    {
     "name": "stderr",
     "output_type": "stream",
     "text": [
      "  2%|█▍                                                                                      | 3/189 [00:04<04:40,  1.51s/it]"
     ]
    },
    {
     "name": "stdout",
     "output_type": "stream",
     "text": [
      "[6/200][3/189] ========== Loss_D: 1.4474, Loss_G: 1.6335, Acc_G: 24/32 = 75.0000\n"
     ]
    },
    {
     "name": "stderr",
     "output_type": "stream",
     "text": [
      "  2%|█▊                                                                                      | 4/189 [00:05<04:17,  1.39s/it]"
     ]
    },
    {
     "name": "stdout",
     "output_type": "stream",
     "text": [
      "[6/200][4/189] ========== Loss_D: 1.4543, Loss_G: 1.6685, Acc_G: 27/32 = 84.3750\n"
     ]
    },
    {
     "name": "stderr",
     "output_type": "stream",
     "text": [
      "  3%|██▎                                                                                     | 5/189 [00:07<04:12,  1.37s/it]"
     ]
    },
    {
     "name": "stdout",
     "output_type": "stream",
     "text": [
      "[6/200][5/189] ========== Loss_D: 1.4548, Loss_G: 1.7863, Acc_G: 22/32 = 68.7500\n"
     ]
    },
    {
     "name": "stderr",
     "output_type": "stream",
     "text": [
      "  3%|██▊                                                                                     | 6/189 [00:08<04:31,  1.48s/it]"
     ]
    },
    {
     "name": "stdout",
     "output_type": "stream",
     "text": [
      "[6/200][6/189] ========== Loss_D: 1.4503, Loss_G: 1.6827, Acc_G: 22/32 = 68.7500\n"
     ]
    },
    {
     "name": "stderr",
     "output_type": "stream",
     "text": [
      "  4%|███▎                                                                                    | 7/189 [00:10<04:13,  1.39s/it]"
     ]
    },
    {
     "name": "stdout",
     "output_type": "stream",
     "text": [
      "[6/200][7/189] ========== Loss_D: 1.4265, Loss_G: 1.6755, Acc_G: 19/32 = 59.3750\n"
     ]
    },
    {
     "name": "stderr",
     "output_type": "stream",
     "text": [
      "  4%|███▋                                                                                    | 8/189 [00:11<04:01,  1.33s/it]"
     ]
    },
    {
     "name": "stdout",
     "output_type": "stream",
     "text": [
      "[6/200][8/189] ========== Loss_D: 1.4647, Loss_G: 1.7072, Acc_G: 20/32 = 62.5000\n"
     ]
    },
    {
     "name": "stderr",
     "output_type": "stream",
     "text": [
      "  5%|████▏                                                                                   | 9/189 [00:12<04:17,  1.43s/it]"
     ]
    },
    {
     "name": "stdout",
     "output_type": "stream",
     "text": [
      "[6/200][9/189] ========== Loss_D: 1.4583, Loss_G: 1.6752, Acc_G: 24/32 = 75.0000\n"
     ]
    },
    {
     "name": "stderr",
     "output_type": "stream",
     "text": [
      "  5%|████▌                                                                                  | 10/189 [00:14<04:10,  1.40s/it]"
     ]
    },
    {
     "name": "stdout",
     "output_type": "stream",
     "text": [
      "[6/200][10/189] ========== Loss_D: 1.4478, Loss_G: 1.7401, Acc_G: 27/32 = 84.3750\n"
     ]
    },
    {
     "name": "stderr",
     "output_type": "stream",
     "text": [
      "  6%|█████                                                                                  | 11/189 [00:15<03:59,  1.35s/it]"
     ]
    },
    {
     "name": "stdout",
     "output_type": "stream",
     "text": [
      "[6/200][11/189] ========== Loss_D: 1.4527, Loss_G: 1.7662, Acc_G: 24/32 = 75.0000\n"
     ]
    },
    {
     "name": "stderr",
     "output_type": "stream",
     "text": [
      "  6%|█████▌                                                                                 | 12/189 [00:16<03:51,  1.31s/it]"
     ]
    },
    {
     "name": "stdout",
     "output_type": "stream",
     "text": [
      "[6/200][12/189] ========== Loss_D: 1.4429, Loss_G: 1.6432, Acc_G: 26/32 = 81.2500\n"
     ]
    },
    {
     "name": "stderr",
     "output_type": "stream",
     "text": [
      "  7%|█████▉                                                                                 | 13/189 [00:17<03:49,  1.31s/it]"
     ]
    },
    {
     "name": "stdout",
     "output_type": "stream",
     "text": [
      "[6/200][13/189] ========== Loss_D: 1.4342, Loss_G: 1.7256, Acc_G: 24/32 = 75.0000\n"
     ]
    },
    {
     "name": "stderr",
     "output_type": "stream",
     "text": [
      "  7%|██████▍                                                                                | 14/189 [00:19<04:05,  1.41s/it]"
     ]
    },
    {
     "name": "stdout",
     "output_type": "stream",
     "text": [
      "[6/200][14/189] ========== Loss_D: 1.4388, Loss_G: 1.7971, Acc_G: 25/32 = 78.1250\n"
     ]
    },
    {
     "name": "stderr",
     "output_type": "stream",
     "text": [
      "  8%|██████▉                                                                                | 15/189 [00:20<03:48,  1.31s/it]"
     ]
    },
    {
     "name": "stdout",
     "output_type": "stream",
     "text": [
      "[6/200][15/189] ========== Loss_D: 1.4543, Loss_G: 1.6237, Acc_G: 20/32 = 62.5000\n"
     ]
    },
    {
     "name": "stderr",
     "output_type": "stream",
     "text": [
      "  8%|███████▎                                                                               | 16/189 [00:22<03:45,  1.31s/it]"
     ]
    },
    {
     "name": "stdout",
     "output_type": "stream",
     "text": [
      "[6/200][16/189] ========== Loss_D: 1.4522, Loss_G: 1.7173, Acc_G: 23/32 = 71.8750\n"
     ]
    },
    {
     "name": "stderr",
     "output_type": "stream",
     "text": [
      "  9%|███████▊                                                                               | 17/189 [00:23<03:42,  1.30s/it]"
     ]
    },
    {
     "name": "stdout",
     "output_type": "stream",
     "text": [
      "[6/200][17/189] ========== Loss_D: 1.4428, Loss_G: 1.6456, Acc_G: 21/32 = 65.6250\n"
     ]
    },
    {
     "name": "stderr",
     "output_type": "stream",
     "text": [
      " 10%|████████▎                                                                              | 18/189 [00:24<03:33,  1.25s/it]"
     ]
    },
    {
     "name": "stdout",
     "output_type": "stream",
     "text": [
      "[6/200][18/189] ========== Loss_D: 1.4525, Loss_G: 1.7875, Acc_G: 23/32 = 71.8750\n"
     ]
    },
    {
     "name": "stderr",
     "output_type": "stream",
     "text": [
      " 10%|████████▋                                                                              | 19/189 [00:25<03:38,  1.29s/it]"
     ]
    },
    {
     "name": "stdout",
     "output_type": "stream",
     "text": [
      "[6/200][19/189] ========== Loss_D: 1.4486, Loss_G: 1.6389, Acc_G: 21/32 = 65.6250\n"
     ]
    },
    {
     "name": "stderr",
     "output_type": "stream",
     "text": [
      " 11%|█████████▏                                                                             | 20/189 [00:27<03:46,  1.34s/it]"
     ]
    },
    {
     "name": "stdout",
     "output_type": "stream",
     "text": [
      "[6/200][20/189] ========== Loss_D: 1.4505, Loss_G: 1.5549, Acc_G: 20/32 = 62.5000\n"
     ]
    },
    {
     "name": "stderr",
     "output_type": "stream",
     "text": [
      " 11%|█████████▋                                                                             | 21/189 [00:28<03:25,  1.22s/it]"
     ]
    },
    {
     "name": "stdout",
     "output_type": "stream",
     "text": [
      "[6/200][21/189] ========== Loss_D: 1.4237, Loss_G: 1.6004, Acc_G: 22/32 = 68.7500\n"
     ]
    },
    {
     "name": "stderr",
     "output_type": "stream",
     "text": [
      " 12%|██████████▏                                                                            | 22/189 [00:29<03:19,  1.20s/it]"
     ]
    },
    {
     "name": "stdout",
     "output_type": "stream",
     "text": [
      "[6/200][22/189] ========== Loss_D: 1.4571, Loss_G: 1.5778, Acc_G: 21/32 = 65.6250\n"
     ]
    },
    {
     "name": "stderr",
     "output_type": "stream",
     "text": [
      " 12%|██████████▌                                                                            | 23/189 [00:30<03:28,  1.26s/it]"
     ]
    },
    {
     "name": "stdout",
     "output_type": "stream",
     "text": [
      "[6/200][23/189] ========== Loss_D: 1.4499, Loss_G: 1.6893, Acc_G: 26/32 = 81.2500\n"
     ]
    },
    {
     "name": "stderr",
     "output_type": "stream",
     "text": [
      " 13%|███████████                                                                            | 24/189 [00:31<03:20,  1.21s/it]"
     ]
    },
    {
     "name": "stdout",
     "output_type": "stream",
     "text": [
      "[6/200][24/189] ========== Loss_D: 1.4555, Loss_G: 1.6211, Acc_G: 27/32 = 84.3750\n"
     ]
    },
    {
     "name": "stderr",
     "output_type": "stream",
     "text": [
      " 13%|███████████▌                                                                           | 25/189 [00:33<03:34,  1.31s/it]"
     ]
    },
    {
     "name": "stdout",
     "output_type": "stream",
     "text": [
      "[6/200][25/189] ========== Loss_D: 1.4685, Loss_G: 1.5851, Acc_G: 23/32 = 71.8750\n"
     ]
    },
    {
     "name": "stderr",
     "output_type": "stream",
     "text": [
      " 14%|███████████▉                                                                           | 26/189 [00:34<03:15,  1.20s/it]"
     ]
    },
    {
     "name": "stdout",
     "output_type": "stream",
     "text": [
      "[6/200][26/189] ========== Loss_D: 1.4550, Loss_G: 1.6992, Acc_G: 22/32 = 68.7500\n"
     ]
    },
    {
     "name": "stderr",
     "output_type": "stream",
     "text": [
      " 14%|████████████▍                                                                          | 27/189 [00:35<03:16,  1.21s/it]"
     ]
    },
    {
     "name": "stdout",
     "output_type": "stream",
     "text": [
      "[6/200][27/189] ========== Loss_D: 1.4572, Loss_G: 1.7587, Acc_G: 21/32 = 65.6250\n"
     ]
    },
    {
     "name": "stderr",
     "output_type": "stream",
     "text": [
      " 15%|████████████▉                                                                          | 28/189 [00:37<03:28,  1.29s/it]"
     ]
    },
    {
     "name": "stdout",
     "output_type": "stream",
     "text": [
      "[6/200][28/189] ========== Loss_D: 1.4440, Loss_G: 1.6909, Acc_G: 22/32 = 68.7500\n"
     ]
    },
    {
     "name": "stderr",
     "output_type": "stream",
     "text": [
      " 15%|█████████████▎                                                                         | 29/189 [00:38<03:12,  1.20s/it]"
     ]
    },
    {
     "name": "stdout",
     "output_type": "stream",
     "text": [
      "[6/200][29/189] ========== Loss_D: 1.4606, Loss_G: 1.6754, Acc_G: 21/32 = 65.6250\n"
     ]
    },
    {
     "name": "stderr",
     "output_type": "stream",
     "text": [
      " 16%|█████████████▊                                                                         | 30/189 [00:39<03:08,  1.19s/it]"
     ]
    },
    {
     "name": "stdout",
     "output_type": "stream",
     "text": [
      "[6/200][30/189] ========== Loss_D: 1.4418, Loss_G: 1.7176, Acc_G: 20/32 = 62.5000\n"
     ]
    },
    {
     "name": "stderr",
     "output_type": "stream",
     "text": [
      " 16%|██████████████▎                                                                        | 31/189 [00:40<03:04,  1.17s/it]"
     ]
    },
    {
     "name": "stdout",
     "output_type": "stream",
     "text": [
      "[6/200][31/189] ========== Loss_D: 1.4421, Loss_G: 1.6069, Acc_G: 25/32 = 78.1250\n"
     ]
    },
    {
     "name": "stderr",
     "output_type": "stream",
     "text": [
      " 17%|██████████████▋                                                                        | 32/189 [00:41<03:10,  1.21s/it]"
     ]
    },
    {
     "name": "stdout",
     "output_type": "stream",
     "text": [
      "[6/200][32/189] ========== Loss_D: 1.4647, Loss_G: 1.8505, Acc_G: 24/32 = 75.0000\n"
     ]
    },
    {
     "name": "stderr",
     "output_type": "stream",
     "text": [
      " 17%|███████████████▏                                                                       | 33/189 [00:42<02:53,  1.11s/it]"
     ]
    },
    {
     "name": "stdout",
     "output_type": "stream",
     "text": [
      "[6/200][33/189] ========== Loss_D: 1.4488, Loss_G: 1.5897, Acc_G: 22/32 = 68.7500\n"
     ]
    },
    {
     "name": "stderr",
     "output_type": "stream",
     "text": [
      " 18%|███████████████▋                                                                       | 34/189 [00:43<02:53,  1.12s/it]"
     ]
    },
    {
     "name": "stdout",
     "output_type": "stream",
     "text": [
      "[6/200][34/189] ========== Loss_D: 1.4574, Loss_G: 1.6840, Acc_G: 29/32 = 90.6250\n"
     ]
    },
    {
     "name": "stderr",
     "output_type": "stream",
     "text": [
      " 19%|████████████████                                                                       | 35/189 [00:44<02:55,  1.14s/it]"
     ]
    },
    {
     "name": "stdout",
     "output_type": "stream",
     "text": [
      "[6/200][35/189] ========== Loss_D: 1.4542, Loss_G: 1.7045, Acc_G: 20/32 = 62.5000\n"
     ]
    },
    {
     "name": "stderr",
     "output_type": "stream",
     "text": [
      " 19%|████████████████▌                                                                      | 36/189 [00:46<03:00,  1.18s/it]"
     ]
    },
    {
     "name": "stdout",
     "output_type": "stream",
     "text": [
      "[6/200][36/189] ========== Loss_D: 1.4406, Loss_G: 1.7814, Acc_G: 27/32 = 84.3750\n"
     ]
    },
    {
     "name": "stderr",
     "output_type": "stream",
     "text": [
      " 20%|█████████████████                                                                      | 37/189 [00:47<02:55,  1.16s/it]"
     ]
    },
    {
     "name": "stdout",
     "output_type": "stream",
     "text": [
      "[6/200][37/189] ========== Loss_D: 1.4579, Loss_G: 1.6093, Acc_G: 29/32 = 90.6250\n"
     ]
    },
    {
     "name": "stderr",
     "output_type": "stream",
     "text": [
      " 20%|█████████████████▍                                                                     | 38/189 [00:48<03:21,  1.34s/it]"
     ]
    },
    {
     "name": "stdout",
     "output_type": "stream",
     "text": [
      "[6/200][38/189] ========== Loss_D: 1.4718, Loss_G: 1.6635, Acc_G: 24/32 = 75.0000\n"
     ]
    },
    {
     "name": "stderr",
     "output_type": "stream",
     "text": [
      " 21%|█████████████████▉                                                                     | 39/189 [00:50<03:11,  1.28s/it]"
     ]
    },
    {
     "name": "stdout",
     "output_type": "stream",
     "text": [
      "[6/200][39/189] ========== Loss_D: 1.4554, Loss_G: 1.6642, Acc_G: 21/32 = 65.6250\n"
     ]
    },
    {
     "name": "stderr",
     "output_type": "stream",
     "text": [
      " 21%|██████████████████▍                                                                    | 40/189 [00:51<03:03,  1.23s/it]"
     ]
    },
    {
     "name": "stdout",
     "output_type": "stream",
     "text": [
      "[6/200][40/189] ========== Loss_D: 1.4573, Loss_G: 1.7634, Acc_G: 19/32 = 59.3750\n"
     ]
    },
    {
     "name": "stderr",
     "output_type": "stream",
     "text": [
      " 22%|██████████████████▊                                                                    | 41/189 [00:52<03:11,  1.29s/it]"
     ]
    },
    {
     "name": "stdout",
     "output_type": "stream",
     "text": [
      "[6/200][41/189] ========== Loss_D: 1.4441, Loss_G: 1.8340, Acc_G: 20/32 = 62.5000\n"
     ]
    },
    {
     "name": "stderr",
     "output_type": "stream",
     "text": [
      " 22%|███████████████████▎                                                                   | 42/189 [00:54<03:18,  1.35s/it]"
     ]
    },
    {
     "name": "stdout",
     "output_type": "stream",
     "text": [
      "[6/200][42/189] ========== Loss_D: 1.4601, Loss_G: 1.7278, Acc_G: 21/32 = 65.6250\n"
     ]
    },
    {
     "name": "stderr",
     "output_type": "stream",
     "text": [
      " 23%|███████████████████▊                                                                   | 43/189 [00:55<03:16,  1.34s/it]"
     ]
    },
    {
     "name": "stdout",
     "output_type": "stream",
     "text": [
      "[6/200][43/189] ========== Loss_D: 1.4443, Loss_G: 1.5976, Acc_G: 25/32 = 78.1250\n"
     ]
    },
    {
     "name": "stderr",
     "output_type": "stream",
     "text": [
      " 23%|████████████████████▎                                                                  | 44/189 [00:56<03:15,  1.35s/it]"
     ]
    },
    {
     "name": "stdout",
     "output_type": "stream",
     "text": [
      "[6/200][44/189] ========== Loss_D: 1.4608, Loss_G: 1.6731, Acc_G: 24/32 = 75.0000\n"
     ]
    },
    {
     "name": "stderr",
     "output_type": "stream",
     "text": [
      " 24%|████████████████████▋                                                                  | 45/189 [00:57<03:04,  1.28s/it]"
     ]
    },
    {
     "name": "stdout",
     "output_type": "stream",
     "text": [
      "[6/200][45/189] ========== Loss_D: 1.4442, Loss_G: 1.6989, Acc_G: 22/32 = 68.7500\n"
     ]
    },
    {
     "name": "stderr",
     "output_type": "stream",
     "text": [
      " 24%|█████████████████████▏                                                                 | 46/189 [00:59<02:55,  1.23s/it]"
     ]
    },
    {
     "name": "stdout",
     "output_type": "stream",
     "text": [
      "[6/200][46/189] ========== Loss_D: 1.4358, Loss_G: 1.6551, Acc_G: 25/32 = 78.1250\n"
     ]
    },
    {
     "name": "stderr",
     "output_type": "stream",
     "text": [
      " 25%|█████████████████████▋                                                                 | 47/189 [01:00<03:08,  1.33s/it]"
     ]
    },
    {
     "name": "stdout",
     "output_type": "stream",
     "text": [
      "[6/200][47/189] ========== Loss_D: 1.4554, Loss_G: 1.7517, Acc_G: 27/32 = 84.3750\n"
     ]
    },
    {
     "name": "stderr",
     "output_type": "stream",
     "text": [
      " 25%|██████████████████████                                                                 | 48/189 [01:01<03:04,  1.31s/it]"
     ]
    },
    {
     "name": "stdout",
     "output_type": "stream",
     "text": [
      "[6/200][48/189] ========== Loss_D: 1.4539, Loss_G: 1.6209, Acc_G: 22/32 = 68.7500\n"
     ]
    },
    {
     "name": "stderr",
     "output_type": "stream",
     "text": [
      " 26%|██████████████████████▌                                                                | 49/189 [01:03<02:59,  1.28s/it]"
     ]
    },
    {
     "name": "stdout",
     "output_type": "stream",
     "text": [
      "[6/200][49/189] ========== Loss_D: 1.4428, Loss_G: 1.7570, Acc_G: 18/32 = 56.2500\n"
     ]
    },
    {
     "name": "stderr",
     "output_type": "stream",
     "text": [
      " 26%|███████████████████████                                                                | 50/189 [01:04<02:56,  1.27s/it]"
     ]
    },
    {
     "name": "stdout",
     "output_type": "stream",
     "text": [
      "[6/200][50/189] ========== Loss_D: 1.4225, Loss_G: 1.6773, Acc_G: 22/32 = 68.7500\n"
     ]
    },
    {
     "name": "stderr",
     "output_type": "stream",
     "text": [
      " 27%|███████████████████████▍                                                               | 51/189 [01:05<03:07,  1.36s/it]"
     ]
    },
    {
     "name": "stdout",
     "output_type": "stream",
     "text": [
      "[6/200][51/189] ========== Loss_D: 1.4590, Loss_G: 1.7121, Acc_G: 21/32 = 65.6250\n"
     ]
    },
    {
     "name": "stderr",
     "output_type": "stream",
     "text": [
      " 28%|███████████████████████▉                                                               | 52/189 [01:07<02:58,  1.30s/it]"
     ]
    },
    {
     "name": "stdout",
     "output_type": "stream",
     "text": [
      "[6/200][52/189] ========== Loss_D: 1.4612, Loss_G: 1.6277, Acc_G: 24/32 = 75.0000\n"
     ]
    },
    {
     "name": "stderr",
     "output_type": "stream",
     "text": [
      " 28%|████████████████████████▍                                                              | 53/189 [01:08<02:59,  1.32s/it]"
     ]
    },
    {
     "name": "stdout",
     "output_type": "stream",
     "text": [
      "[6/200][53/189] ========== Loss_D: 1.4406, Loss_G: 1.6281, Acc_G: 23/32 = 71.8750\n"
     ]
    },
    {
     "name": "stderr",
     "output_type": "stream",
     "text": [
      " 29%|████████████████████████▊                                                              | 54/189 [01:09<03:00,  1.34s/it]"
     ]
    },
    {
     "name": "stdout",
     "output_type": "stream",
     "text": [
      "[6/200][54/189] ========== Loss_D: 1.4556, Loss_G: 1.7484, Acc_G: 25/32 = 78.1250\n"
     ]
    },
    {
     "name": "stderr",
     "output_type": "stream",
     "text": [
      " 29%|█████████████████████████▎                                                             | 55/189 [01:11<03:03,  1.37s/it]"
     ]
    },
    {
     "name": "stdout",
     "output_type": "stream",
     "text": [
      "[6/200][55/189] ========== Loss_D: 1.4477, Loss_G: 1.7395, Acc_G: 21/32 = 65.6250\n"
     ]
    },
    {
     "name": "stderr",
     "output_type": "stream",
     "text": [
      " 30%|█████████████████████████▊                                                             | 56/189 [01:12<02:53,  1.30s/it]"
     ]
    },
    {
     "name": "stdout",
     "output_type": "stream",
     "text": [
      "[6/200][56/189] ========== Loss_D: 1.4397, Loss_G: 1.7446, Acc_G: 23/32 = 71.8750\n"
     ]
    },
    {
     "name": "stderr",
     "output_type": "stream",
     "text": [
      " 30%|██████████████████████████▏                                                            | 57/189 [01:13<02:44,  1.25s/it]"
     ]
    },
    {
     "name": "stdout",
     "output_type": "stream",
     "text": [
      "[6/200][57/189] ========== Loss_D: 1.4457, Loss_G: 1.6117, Acc_G: 24/32 = 75.0000\n"
     ]
    },
    {
     "name": "stderr",
     "output_type": "stream",
     "text": [
      " 31%|██████████████████████████▋                                                            | 58/189 [01:14<02:44,  1.26s/it]"
     ]
    },
    {
     "name": "stdout",
     "output_type": "stream",
     "text": [
      "[6/200][58/189] ========== Loss_D: 1.4478, Loss_G: 1.6082, Acc_G: 22/32 = 68.7500\n"
     ]
    },
    {
     "name": "stderr",
     "output_type": "stream",
     "text": [
      " 31%|███████████████████████████▏                                                           | 59/189 [01:16<02:51,  1.32s/it]"
     ]
    },
    {
     "name": "stdout",
     "output_type": "stream",
     "text": [
      "[6/200][59/189] ========== Loss_D: 1.4423, Loss_G: 1.6667, Acc_G: 25/32 = 78.1250\n"
     ]
    },
    {
     "name": "stderr",
     "output_type": "stream",
     "text": [
      " 32%|███████████████████████████▌                                                           | 60/189 [01:17<02:57,  1.38s/it]"
     ]
    },
    {
     "name": "stdout",
     "output_type": "stream",
     "text": [
      "[6/200][60/189] ========== Loss_D: 1.4514, Loss_G: 1.5569, Acc_G: 24/32 = 75.0000\n"
     ]
    },
    {
     "name": "stderr",
     "output_type": "stream",
     "text": [
      " 32%|████████████████████████████                                                           | 61/189 [01:19<02:54,  1.36s/it]"
     ]
    },
    {
     "name": "stdout",
     "output_type": "stream",
     "text": [
      "[6/200][61/189] ========== Loss_D: 1.4492, Loss_G: 1.7202, Acc_G: 21/32 = 65.6250\n"
     ]
    },
    {
     "name": "stderr",
     "output_type": "stream",
     "text": [
      " 33%|████████████████████████████▌                                                          | 62/189 [01:20<03:06,  1.47s/it]"
     ]
    },
    {
     "name": "stdout",
     "output_type": "stream",
     "text": [
      "[6/200][62/189] ========== Loss_D: 1.4625, Loss_G: 1.6936, Acc_G: 17/32 = 53.1250\n"
     ]
    },
    {
     "name": "stderr",
     "output_type": "stream",
     "text": [
      " 33%|█████████████████████████████                                                          | 63/189 [01:21<02:53,  1.37s/it]"
     ]
    },
    {
     "name": "stdout",
     "output_type": "stream",
     "text": [
      "[6/200][63/189] ========== Loss_D: 1.4481, Loss_G: 1.6199, Acc_G: 22/32 = 68.7500\n"
     ]
    },
    {
     "name": "stderr",
     "output_type": "stream",
     "text": [
      " 34%|█████████████████████████████▍                                                         | 64/189 [01:23<02:48,  1.35s/it]"
     ]
    },
    {
     "name": "stdout",
     "output_type": "stream",
     "text": [
      "[6/200][64/189] ========== Loss_D: 1.4345, Loss_G: 1.6987, Acc_G: 25/32 = 78.1250\n"
     ]
    },
    {
     "name": "stderr",
     "output_type": "stream",
     "text": [
      " 34%|█████████████████████████████▉                                                         | 65/189 [01:24<02:57,  1.43s/it]"
     ]
    },
    {
     "name": "stdout",
     "output_type": "stream",
     "text": [
      "[6/200][65/189] ========== Loss_D: 1.4441, Loss_G: 1.7448, Acc_G: 22/32 = 68.7500\n"
     ]
    },
    {
     "name": "stderr",
     "output_type": "stream",
     "text": [
      " 35%|██████████████████████████████▍                                                        | 66/189 [01:26<02:48,  1.37s/it]"
     ]
    },
    {
     "name": "stdout",
     "output_type": "stream",
     "text": [
      "[6/200][66/189] ========== Loss_D: 1.4635, Loss_G: 1.6858, Acc_G: 20/32 = 62.5000\n"
     ]
    },
    {
     "name": "stderr",
     "output_type": "stream",
     "text": [
      " 35%|██████████████████████████████▊                                                        | 67/189 [01:27<02:31,  1.24s/it]"
     ]
    },
    {
     "name": "stdout",
     "output_type": "stream",
     "text": [
      "[6/200][67/189] ========== Loss_D: 1.4488, Loss_G: 1.7763, Acc_G: 20/32 = 62.5000\n"
     ]
    },
    {
     "name": "stderr",
     "output_type": "stream",
     "text": [
      " 36%|███████████████████████████████▎                                                       | 68/189 [01:28<02:31,  1.25s/it]"
     ]
    },
    {
     "name": "stdout",
     "output_type": "stream",
     "text": [
      "[6/200][68/189] ========== Loss_D: 1.4365, Loss_G: 1.7349, Acc_G: 24/32 = 75.0000\n"
     ]
    },
    {
     "name": "stderr",
     "output_type": "stream",
     "text": [
      " 37%|███████████████████████████████▊                                                       | 69/189 [01:29<02:37,  1.31s/it]"
     ]
    },
    {
     "name": "stdout",
     "output_type": "stream",
     "text": [
      "[6/200][69/189] ========== Loss_D: 1.4381, Loss_G: 1.5520, Acc_G: 23/32 = 71.8750\n"
     ]
    },
    {
     "name": "stderr",
     "output_type": "stream",
     "text": [
      " 37%|████████████████████████████████▏                                                      | 70/189 [01:30<02:31,  1.28s/it]"
     ]
    },
    {
     "name": "stdout",
     "output_type": "stream",
     "text": [
      "[6/200][70/189] ========== Loss_D: 1.4518, Loss_G: 1.6652, Acc_G: 23/32 = 71.8750\n"
     ]
    }
   ],
   "source": [
    "for epoch in range(num_epochs):\n",
    "    epoch += 1\n",
    "    for i, data in enumerate(tqdm(train_loader, 0)):\n",
    "        ###########################\n",
    "        # (1) Update D network\n",
    "        ###########################\n",
    "        # train with real\n",
    "        discriminator.zero_grad()\n",
    "        img, label = data\n",
    "        batch_size = img.size(0)\n",
    "        with torch.no_grad():\n",
    "            img, label = img.to(device), label.to(device)\n",
    "            label = one_hot(label, num_classes=nb_label)\n",
    "            s_label.resize_(batch_size).fill_(real_label)\n",
    "            c_label.resize_(batch_size, 3).copy_(label)\n",
    "        s_output, c_output = discriminator(img)\n",
    "        s_errD_real = s_criterion(s_output[:,0], s_label.resize_(batch_size))\n",
    "        c_errD_real = c_criterion(c_output, c_label)\n",
    "        errD_real = s_errD_real + c_errD_real\n",
    "        errD_real.backward()\n",
    "        \n",
    "        correct, length = test(c_output, c_label)\n",
    "\n",
    "        # train with fake\n",
    "        noise_data = np.random.normal(0, 1, (batch_size, nz))\n",
    "        noise.resize_(batch_size, nz).data.copy_(torch.tensor(noise_data))\n",
    "        label = np.random.randint(0, nb_label, batch_size)\n",
    "        noise_ = np.random.normal(0, 1, (batch_size, nz))\n",
    "        label_onehot = np.zeros((batch_size, nb_label))\n",
    "        label_onehot[np.arange(batch_size), label] = 1\n",
    "        c_label.resize_(batch_size, nb_label).data.copy_(torch.tensor(label_onehot))\n",
    "        fake = generator(noise, c_label)\n",
    "        s_label.data.fill_(fake_label)\n",
    "        s_output,c_output = discriminator(fake)\n",
    "        s_errD_fake = s_criterion(s_output[:,0], s_label.resize_(batch_size))\n",
    "        c_errD_fake = c_criterion(c_output, c_label)\n",
    "        errD_fake = s_errD_fake + c_errD_fake\n",
    "        errD_fake.backward()\n",
    "\n",
    "        errD = s_errD_real + s_errD_fake\n",
    "        # errD.backward()\n",
    "        optimizerD.step()\n",
    "\n",
    "        ###########################\n",
    "        # (2) Update G network\n",
    "        ###########################\n",
    "        generator.zero_grad()\n",
    "        s_label.resize_(batch_size, 1).data.fill_(real_label)\n",
    "        fake = generator(noise, c_label)\n",
    "        s_output, c_output = discriminator(fake)\n",
    "        s_errG = s_criterion(s_output[:,0], s_label.resize_(batch_size))\n",
    "        c_errG = c_criterion(c_output, c_label)\n",
    "\n",
    "        errG = s_errG + c_errG\n",
    "        errG.backward()\n",
    "        optimizerG.step()\n",
    "        metrics['G_losses'].append(errG.item())\n",
    "        metrics['G_class_losses'].append(c_errG.item())\n",
    "        metrics['G_syn_losses'].append(s_errG.item())\n",
    "        metrics['D_losses'].append(errD.item())\n",
    "        metrics['D_real_losses'].append(errD_real.item())\n",
    "        metrics['D_fake_losses'].append(errD_fake.item())\n",
    "        metrics['D_class_losses'].append((c_errD_real + c_errD_fake).item())\n",
    "        metrics['D_syn_losses'].append((s_errD_real + s_errD_fake).item())\n",
    "        metrics['Losses'].append((errG + errD).item())\n",
    "        metrics['Accuracy'].append(correct/length)\n",
    "\n",
    "        print('[%d/%d][%d/%d] ========== Loss_D: %.4f, Loss_G: %.4f, Acc_G: %d/%d = %.4f'\n",
    "              % (epoch, num_epochs, i + 1, len(train_loader),\n",
    "                 errD.data, errG.data, correct, length, 100.0*correct/length))\n",
    "    \n",
    "        if best_batch_loss < 0:\n",
    "            best_batch_loss = (errG + errD).item()\n",
    "            early_stop_count = 0\n",
    "        else:\n",
    "            if best_batch_loss >= (errG + errD).item():\n",
    "                best_batch_loss = (errG + errD).item()\n",
    "                early_stop_count = 0\n",
    "                print(\"---------------------< lowest loss update ->\", best_batch_loss, \">---------------------\")\n",
    "                save_model = True\n",
    "            else:\n",
    "                early_stop_count += 1\n",
    "                if early_stop_count >= early_stop_patient:\n",
    "                    print(\"---------------------< early stopping ... >---------------------\")\n",
    "                    early_stop = True\n",
    "                    break\n",
    "        \n",
    "        if i % round(len(train_loader)/10) == 0:\n",
    "            vutils.save_image(img, './GANAug/output_images/ACGAN/real_samples_e' + str(epoch) + '_d' + str(i) + '.jpg', normalize=True)\n",
    "            fake = generator(noise_fixed, label_fixed)\n",
    "            for j in range(len(fake)):\n",
    "                vutils.save_image(fake[j].data,\n",
    "                        '%s/fake_samples_epoch_%03d.jpg' % ('./GANAug/output_images/ACGAN/' + label_dict[label_fixed_data[j]], epoch), \n",
    "                                  normalize=True)\n",
    "\n",
    "    # do checkpointing\n",
    "    if save_model == True:\n",
    "        save_model = False\n",
    "        torch.save(generator.state_dict(), '%s/G_epoch_%d_save_model.pth' % (os.path.join('.', 'GANAug/model/ACGAN'), epoch))\n",
    "        torch.save(discriminator.state_dict(), '%s/D_epoch_%d_save_model.pth' % (os.path.join('.', 'GANAug/model/ACGAN'), epoch))\n",
    "    elif early_stop:\n",
    "        torch.save(generator.state_dict(), '%s/G_epoch_%d_early_stop.pth' % (os.path.join('.', 'GANAug/model/ACGAN'), epoch))\n",
    "        torch.save(discriminator.state_dict(), '%s/D_epoch_%d_early_stop.pth' % (os.path.join('.', 'GANAug/model/ACGAN'), epoch))\n",
    "        break\n",
    "    elif epoch % round(num_epochs/10) == 0:\n",
    "        save_model = False\n",
    "        torch.save(generator.state_dict(), '%s/G_epoch_%d.pth' % (os.path.join('.', 'GANAug/model/ACGAN'), epoch))\n",
    "        torch.save(discriminator.state_dict(), '%s/D_epoch_%d.pth' % (os.path.join('.', 'GANAug/model/ACGAN'), epoch))\n",
    "    else:\n",
    "        print(\"---------------------< no model saved at epoch:\", epoch, \">---------------------\")\n",
    "    \n",
    "    if len(os.listdir(os.path.join('.', 'GANAug/model/ACGAN'))) > 10:\n",
    "        delete_list = get_file_list(os.path.join('.', 'GANAug/model/ACGAN'), len(os.listdir(os.path.join('.', 'GANAug/model/ACGAN'))) - 10)\n",
    "        for file in delete_list:\n",
    "            if os.path.exists(os.path.join(os.path.join('.', 'GANAug/model/ACGAN'), file)):\n",
    "                os.remove(os.path.join(os.path.join('.', 'GANAug/model/ACGAN'), file))\n",
    "            else:\n",
    "                print(\"file ->\", os.path.join(os.path.join('.', 'GANAug/model/ACGAN'), file), \"does not exist\")"
   ]
  },
  {
   "cell_type": "code",
   "execution_count": null,
   "id": "7b6d9c4c",
   "metadata": {},
   "outputs": [],
   "source": [
    "def tr_plot(tr_data, start_epoch):\n",
    "    Epoch_count=len(metrics['G_losses']) + start_epoch\n",
    "    Epochs=[i + 1 for i in range (start_epoch ,Epoch_count)]  \n",
    "    plt.figure(figsize=(20, 20))\n",
    "    plt.style.use('fivethirtyeight')\n",
    "    \n",
    "    plt.subplot(2, 2, 1)\n",
    "    plt.plot(Epochs, metrics['G_losses'], 'r', label='G_losses')\n",
    "    plt.plot(Epochs, metrics['D_losses'], 'g',label='D_losses' )\n",
    "    plt.title('G&D_losses')\n",
    "    plt.xlabel('Epochs')\n",
    "    plt.ylabel('Loss')\n",
    "    plt.legend()\n",
    "    \n",
    "    plt.subplot(2, 2, 2)\n",
    "    plt.plot(Epochs, metrics['G_class_losses'], 'r', label='G_class_losses')\n",
    "    plt.plot(Epochs, metrics['G_syn_losses'], 'g',label='G_syn_losses' )\n",
    "    plt.title('G_class&syn_losses')\n",
    "    plt.xlabel('Epochs')\n",
    "    plt.ylabel('Loss')\n",
    "    plt.legend()\n",
    "\n",
    "    plt.subplot(2, 2, 3)\n",
    "    plt.plot(Epochs, metrics['D_class_losses'], 'r', label='D_class_losses')\n",
    "    plt.plot(Epochs, metrics['D_syn_losses'], 'g',label='D_syn_losses' )\n",
    "    plt.title('D_class&syn_losses')\n",
    "    plt.xlabel('Epochs')\n",
    "    plt.ylabel('Loss')\n",
    "    plt.legend()\n",
    "\n",
    "    plt.subplot(2, 2, 4)\n",
    "    plt.plot(Epochs, metrics['D_real_losses'], 'r', label='D_real_losses')\n",
    "    plt.plot(Epochs, metrics['D_fake_losses'], 'g',label='D_fake_losses' )\n",
    "    plt.title('D_real&fake_losses')\n",
    "    plt.xlabel('Epochs')\n",
    "    plt.ylabel('Loss')\n",
    "    plt.legend()\n",
    "    \n",
    "    plt.tight_layout\n",
    "    plt.show()"
   ]
  },
  {
   "cell_type": "code",
   "execution_count": null,
   "id": "235fede4",
   "metadata": {},
   "outputs": [],
   "source": [
    "tr_plot(metrics, 0)"
   ]
  },
  {
   "cell_type": "code",
   "execution_count": null,
   "id": "9ec852c4",
   "metadata": {},
   "outputs": [],
   "source": [
    "def tr_plot(tr_data, start_epoch):\n",
    "    Epoch_count=len(metrics['Losses']) + start_epoch\n",
    "    Epochs=[i + 1 for i in range (start_epoch ,Epoch_count)]  \n",
    "    plt.figure(figsize=(20, 10))\n",
    "    plt.style.use('fivethirtyeight')\n",
    "    \n",
    "    plt.subplot(2, 2, 1)\n",
    "    plt.plot(Epochs, metrics['Losses'], 'blue', label='Loss')\n",
    "    plt.title('Losses')\n",
    "    plt.xlabel('Epochs')\n",
    "    plt.ylabel('Loss')\n",
    "    plt.legend()\n",
    "    \n",
    "    plt.subplot(2, 2, 2)\n",
    "    plt.plot(Epochs, metrics['Accuracy'], 'orange', label='Accuracy')\n",
    "    plt.title('Accuracy')\n",
    "    plt.xlabel('Epochs')\n",
    "    plt.ylabel('Accuracy')\n",
    "    plt.legend()\n",
    "    \n",
    "    plt.tight_layout\n",
    "    plt.show()"
   ]
  },
  {
   "cell_type": "code",
   "execution_count": null,
   "id": "44c508b1",
   "metadata": {},
   "outputs": [],
   "source": [
    "tr_plot(metrics, 0)"
   ]
  },
  {
   "cell_type": "code",
   "execution_count": null,
   "id": "09e18531",
   "metadata": {},
   "outputs": [],
   "source": [
    "def test_gan(generator, discriminator, num_epochs, metrics, loader):\n",
    "    now = datetime.datetime.now()\n",
    "    g_losses = metrics['G_losses'][-1]\n",
    "    d_losses = metrics['D_losses'][-1]\n",
    "    path='GANAug/output_images/ACGAN'\n",
    "    try:\n",
    "        os.mkdir(os.path.join('.', path))\n",
    "    except Exception as error:\n",
    "        print(error)\n",
    "\n",
    "    real_batch = next(iter(loader))\n",
    "    \n",
    "    test_img_list = []\n",
    "    test_noise = torch.randn(batch_size, nz, device=device)\n",
    "    test_label = torch.randn(batch_size, nb_label, device=device)\n",
    "    test_fake = generator(test_noise, test_label).detach().cpu()\n",
    "    test_img_list.append(vutils.make_grid(test_fake, padding=2, normalize=True))\n",
    "\n",
    "    fig = plt.figure(figsize=(20, 20))\n",
    "    ax1 = plt.subplot(1,2,1)\n",
    "    ax1 = plt.axis(\"off\")\n",
    "    ax1 = plt.title(\"Real Images\")\n",
    "    ax1 = plt.imshow(np.transpose(vutils.make_grid(real_batch[0].to(device)[:64], padding=5, normalize=True).cpu(),(1,2,0)))\n",
    "\n",
    "    ax2 = plt.subplot(1,2,2)\n",
    "    ax2 = plt.axis(\"off\")\n",
    "    ax2 = plt.title(\"Fake Images\")\n",
    "    ax2 = plt.imshow(np.transpose(test_img_list[-1],(1,2,0)))\n",
    "    plt.show()\n",
    "    fig.savefig('%s/image_%.3f_%.3f_%d_%s.png' %\n",
    "                   (path, g_losses, d_losses, num_epochs, now.strftime(\"%Y-%m-%d_%H:%M:%S\")))"
   ]
  },
  {
   "cell_type": "code",
   "execution_count": null,
   "id": "03814c7f",
   "metadata": {},
   "outputs": [],
   "source": [
    "test_gan(generator, discriminator, num_epochs, metrics, train_loader)"
   ]
  },
  {
   "cell_type": "code",
   "execution_count": null,
   "id": "f9cca5ce",
   "metadata": {},
   "outputs": [],
   "source": [
    "def plot_gan(name, train_epoch, values, path, save):\n",
    "    clear_output(wait=True)\n",
    "    plt.close('all')\n",
    "    fig = plt.figure()\n",
    "    fig = plt.ion()\n",
    "    fig = plt.subplot(1, 1, 1)\n",
    "    fig = plt.title('epoch: %s -> %s: %s' % (train_epoch, name, values[-1]))\n",
    "    fig = plt.ylabel(name)\n",
    "    fig = plt.xlabel('train_set')\n",
    "    fig = plt.plot(values)\n",
    "    fig = plt.grid()\n",
    "    get_fig = plt.gcf()\n",
    "    fig = plt.draw()  # draw the plot\n",
    "    fig = plt.pause(1)  # show it for 1 second\n",
    "    plt.show()\n",
    "    if save:\n",
    "        now = datetime.datetime.now()\n",
    "        get_fig.savefig('%s/%s_%.3f_%d_%s.png' %\n",
    "                        (path, name, train_epoch, values[-1], now.strftime(\"%Y-%m-%d_%H:%M:%S\")))"
   ]
  },
  {
   "cell_type": "code",
   "execution_count": null,
   "id": "2d5e7892",
   "metadata": {},
   "outputs": [],
   "source": [
    "def save_model(generator, discriminator, gen_optimizer, dis_optimizer, metrics, num_epochs):\n",
    "    now = datetime.datetime.now()\n",
    "    g_losses = metrics['G_losses'][-1]\n",
    "    d_losses = metrics['D_losses'][-1]\n",
    "    path='GANAug/plots/ACGAN/train_%+.3f_%+.3f_%s'% (g_losses, d_losses, now.strftime(\"%Y-%m-%d_%H-%M-%S\"))\n",
    "    try:\n",
    "        os.mkdir(os.path.join('.', path))\n",
    "    except Exception as error:\n",
    "        print(error)\n",
    "    plot_gan('G_losses', num_epochs, metrics['G_losses'], path, True)\n",
    "    plot_gan('D_losses', num_epochs, metrics['D_losses'], path, True)\n",
    "    plot_gan('G_syn_losses', num_epochs, metrics['G_syn_losses'], path, True)\n",
    "    plot_gan('G_class_losses', num_epochs, metrics['G_class_losses'], path, True)\n",
    "    plot_gan('G_syn_losses', num_epochs, metrics['G_syn_losses'], path, True)\n",
    "    plot_gan('D_class_losses', num_epochs, metrics['D_class_losses'], path, True)\n",
    "    plot_gan('D_syn_losses', num_epochs, metrics['D_syn_losses'], path, True)\n",
    "    plot_gan('Losses', num_epochs, metrics['Losses'], path, True)\n",
    "    plot_gan('Accuracy', num_epochs, metrics['Accuracy'], path, True)"
   ]
  },
  {
   "cell_type": "code",
   "execution_count": null,
   "id": "f66ad873",
   "metadata": {},
   "outputs": [],
   "source": [
    "save_model(generator, discriminator, optimizerG, optimizerD, metrics, num_epochs)"
   ]
  },
  {
   "cell_type": "code",
   "execution_count": null,
   "id": "c56cd9c9",
   "metadata": {},
   "outputs": [],
   "source": [
    "test_img_list = []\n",
    "test_noise = torch.randn(batch_size, nz, device=device)\n",
    "test_label = torch.randn(batch_size, nb_label, device=device)\n",
    "test_img = generator(test_noise, test_label)\n",
    "\n",
    "s_output, c_label_op = discriminator(test_img.detach().to(device))\n",
    "print('Discriminator s', s_output)\n",
    "print('Discriminator c', c_label_op)\n",
    "\n",
    "test_img = test_img.detach().cpu()\n",
    "test_img_list.append(vutils.make_grid(test_img, padding=2, normalize=True))\n",
    "plt.imshow(np.transpose(test_img_list[-1],(1,2,0)))"
   ]
  },
  {
   "cell_type": "code",
   "execution_count": null,
   "id": "d45fe52a",
   "metadata": {},
   "outputs": [],
   "source": [
    "data = next(iter(test_loader))\n",
    "test_noise, test_class_lable = data\n",
    "test_img = test_noise\n",
    "print('class label for real', test_class_lable)\n",
    "\n",
    "s_output,c_label_op = discriminator(test_img.detach().to(device))\n",
    "print('Discriminator s', s_output)\n",
    "print('Discriminator c', c_label_op)\n",
    "\n",
    "test_img = test_img.detach().cpu()\n",
    "test_img_list.append(vutils.make_grid(test_img, padding=2, normalize=True))\n",
    "plt.imshow(np.transpose(test_img_list[-1],(1,2,0)))"
   ]
  }
 ],
 "metadata": {
  "kernelspec": {
   "display_name": "Python 3 (ipykernel)",
   "language": "python",
   "name": "python3"
  },
  "language_info": {
   "codemirror_mode": {
    "name": "ipython",
    "version": 3
   },
   "file_extension": ".py",
   "mimetype": "text/x-python",
   "name": "python",
   "nbconvert_exporter": "python",
   "pygments_lexer": "ipython3",
   "version": "3.8.10"
  }
 },
 "nbformat": 4,
 "nbformat_minor": 5
}
