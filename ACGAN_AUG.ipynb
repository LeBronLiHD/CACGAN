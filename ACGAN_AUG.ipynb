{
 "cells": [
  {
   "cell_type": "code",
   "execution_count": 1,
   "id": "370513dc",
   "metadata": {},
   "outputs": [
    {
     "name": "stdout",
     "output_type": "stream",
     "text": [
      "Looking in indexes: http://mirrors.aliyun.com/pypi/simple\n",
      "Requirement already satisfied: opencv-python in /root/miniconda3/lib/python3.8/site-packages (4.5.5.64)\n",
      "Requirement already satisfied: torchsummary in /root/miniconda3/lib/python3.8/site-packages (1.5.1)\n",
      "Requirement already satisfied: scikit-learn in /root/miniconda3/lib/python3.8/site-packages (1.1.1)\n",
      "Requirement already satisfied: torchviz in /root/miniconda3/lib/python3.8/site-packages (0.0.2)\n",
      "Requirement already satisfied: utils in /root/miniconda3/lib/python3.8/site-packages (1.0.1)\n",
      "Requirement already satisfied: numpy>=1.14.5 in /root/miniconda3/lib/python3.8/site-packages (from opencv-python) (1.21.4)\n",
      "Requirement already satisfied: threadpoolctl>=2.0.0 in /root/miniconda3/lib/python3.8/site-packages (from scikit-learn) (3.1.0)\n",
      "Requirement already satisfied: joblib>=1.0.0 in /root/miniconda3/lib/python3.8/site-packages (from scikit-learn) (1.1.0)\n",
      "Requirement already satisfied: scipy>=1.3.2 in /root/miniconda3/lib/python3.8/site-packages (from scikit-learn) (1.8.1)\n",
      "Requirement already satisfied: torch in /root/miniconda3/lib/python3.8/site-packages (from torchviz) (1.10.0+cu113)\n",
      "Requirement already satisfied: graphviz in /root/miniconda3/lib/python3.8/site-packages (from torchviz) (0.20)\n",
      "Requirement already satisfied: typing-extensions in /root/miniconda3/lib/python3.8/site-packages (from torch->torchviz) (4.0.0)\n",
      "\u001b[33mWARNING: Running pip as the 'root' user can result in broken permissions and conflicting behaviour with the system package manager. It is recommended to use a virtual environment instead: https://pip.pypa.io/warnings/venv\u001b[0m\n"
     ]
    }
   ],
   "source": [
    "!pip install opencv-python torchsummary scikit-learn torchviz utils"
   ]
  },
  {
   "cell_type": "code",
   "execution_count": 2,
   "id": "6a6a2202",
   "metadata": {},
   "outputs": [],
   "source": [
    "import torch\n",
    "import torch.nn as nn\n",
    "import torch.nn.parallel\n",
    "import torch.nn.functional as F\n",
    "import torch.backends.cudnn as cudnn\n",
    "import torch.optim as optim\n",
    "import torch.utils.data\n",
    "import torchvision.datasets as datasets\n",
    "import torchvision.transforms as transforms\n",
    "import torchvision.utils as vutils\n",
    "import utils\n",
    "from torch.nn.functional import one_hot\n",
    "from torchvision.utils import save_image\n",
    "from torch.autograd import Variable\n",
    "from torch.utils.data import SubsetRandomSampler"
   ]
  },
  {
   "cell_type": "code",
   "execution_count": 3,
   "id": "6cf2ef10",
   "metadata": {},
   "outputs": [
    {
     "name": "stdout",
     "output_type": "stream",
     "text": [
      "['sm_37', 'sm_50', 'sm_60', 'sm_70', 'sm_75', 'sm_80', 'sm_86'] cuda\n"
     ]
    }
   ],
   "source": [
    "device = \"cuda\" if torch.cuda.is_available() else \"cpu\"\n",
    "print(torch.cuda.get_arch_list(), device)"
   ]
  },
  {
   "cell_type": "code",
   "execution_count": 4,
   "id": "b8079c45",
   "metadata": {},
   "outputs": [],
   "source": [
    "from __future__ import print_function\n",
    "import argparse\n",
    "import datetime\n",
    "import matplotlib.pyplot as plt\n",
    "from IPython.display import HTML\n",
    "from IPython.display import clear_output\n",
    "from tqdm import tqdm\n",
    "import os\n",
    "from tqdm import notebook\n",
    "from sklearn.metrics import classification_report, confusion_matrix\n",
    "import gc\n",
    "import matplotlib.colors as mat_color\n",
    "import numpy as np\n",
    "from PIL import Image\n",
    "import random\n",
    "import cv2\n",
    "from torchvision.datasets import ImageNet, ImageFolder\n",
    "from torch.utils.data import DataLoader\n",
    "from torchsummary import summary\n",
    "from torchviz import make_dot"
   ]
  },
  {
   "cell_type": "code",
   "execution_count": 5,
   "id": "3eb59879",
   "metadata": {},
   "outputs": [],
   "source": [
    "def initialize_weights(net):\n",
    "    for m in net.modules():\n",
    "        if isinstance(m, nn.Conv2d):\n",
    "            m.weight.data.normal_(0, 0.02)\n",
    "            m.bias.data.zero_()\n",
    "        elif isinstance(m, nn.ConvTranspose2d):\n",
    "            m.weight.data.normal_(0, 0.02)\n",
    "            m.bias.data.zero_()\n",
    "        elif isinstance(m, nn.Linear):\n",
    "            m.weight.data.normal_(0, 0.02)\n",
    "            m.bias.data.zero_()\n",
    "\n",
    "class Generator(nn.Module):\n",
    "    # Network Architecture is exactly same as in infoGAN (https://arxiv.org/abs/1606.03657)\n",
    "    # Architecture : FC1024_BR-FC7x7x128_BR-(64)4dc2s_BR-(1)4dc2s_S\n",
    "    def __init__(self, input_dim=100, output_dim=1, input_size=32, class_num=10):\n",
    "        super(Generator, self).__init__()\n",
    "        self.input_dim = input_dim\n",
    "        self.output_dim = output_dim\n",
    "        self.input_size = input_size\n",
    "        self.class_num = class_num\n",
    "\n",
    "        self.fc = nn.Sequential(\n",
    "            nn.Linear(self.input_dim + self.class_num, 1024),\n",
    "            nn.BatchNorm1d(1024),\n",
    "            nn.ReLU(),\n",
    "            nn.Linear(1024, 128 * (self.input_size // 4) * (self.input_size // 4)),\n",
    "            nn.BatchNorm1d(128 * (self.input_size // 4) * (self.input_size // 4)),\n",
    "            nn.ReLU(),\n",
    "        )\n",
    "        self.deconv = nn.Sequential(\n",
    "            nn.ConvTranspose2d(128, 64, 4, 2, 1),\n",
    "            nn.BatchNorm2d(64),\n",
    "            nn.ReLU(),\n",
    "            nn.ConvTranspose2d(64, self.output_dim, 4, 2, 1),\n",
    "            nn.Tanh(),\n",
    "        )\n",
    "        initialize_weights(self)\n",
    "\n",
    "    def forward(self, input, label):\n",
    "        x = torch.cat([input, label], 1)\n",
    "        x = self.fc(x)\n",
    "        x = x.view(-1, 128, (self.input_size // 4), (self.input_size // 4))\n",
    "        x = self.deconv(x)\n",
    "\n",
    "        return x\n",
    "\n",
    "    \n",
    "class Discriminator(nn.Module):\n",
    "    # Network Architecture is exactly same as in infoGAN (https://arxiv.org/abs/1606.03657)\n",
    "    # Architecture : (64)4c2s-(128)4c2s_BL-FC1024_BL-FC1_S\n",
    "    def __init__(self, input_dim=1, output_dim=1, input_size=32, class_num=10):\n",
    "        super(Discriminator, self).__init__()\n",
    "        self.input_dim = input_dim\n",
    "        self.output_dim = output_dim\n",
    "        self.input_size = input_size\n",
    "        self.class_num = class_num\n",
    "\n",
    "        self.conv = nn.Sequential(\n",
    "            nn.Conv2d(self.input_dim, 64, 4, 2, 1),\n",
    "            nn.LeakyReLU(0.2),\n",
    "            nn.Conv2d(64, 128, 4, 2, 1),\n",
    "            nn.BatchNorm2d(128),\n",
    "            nn.LeakyReLU(0.2),\n",
    "        )\n",
    "        self.fc1 = nn.Sequential(\n",
    "            nn.Linear(128 * (self.input_size // 4) * (self.input_size // 4), 1024),\n",
    "            nn.BatchNorm1d(1024),\n",
    "            nn.LeakyReLU(0.2),\n",
    "        )\n",
    "        self.dc = nn.Sequential(\n",
    "            nn.Linear(1024, self.output_dim),\n",
    "            nn.Sigmoid(),\n",
    "        )\n",
    "        self.cl = nn.Sequential(\n",
    "            nn.Linear(1024, self.class_num),\n",
    "        )\n",
    "        initialize_weights(self)\n",
    "\n",
    "    def forward(self, input):\n",
    "        x = self.conv(input)\n",
    "        x = x.view(-1, 128 * (self.input_size // 4) * (self.input_size // 4))\n",
    "        x = self.fc1(x)\n",
    "        d = self.dc(x)\n",
    "        c = self.cl(x)\n",
    "\n",
    "        return d, c\n"
   ]
  },
  {
   "cell_type": "code",
   "execution_count": 6,
   "id": "220b9685",
   "metadata": {},
   "outputs": [],
   "source": [
    "base_path = './data'\n",
    "base_folder = \"Covid-19 Image Dataset\"\n",
    "classic_folder = 'Coivd-19_Classic'\n",
    "synthetic_folder = 'Coivd-19_Synthetic'\n",
    "data_dir = os.path.join(base_path, classic_folder)"
   ]
  },
  {
   "cell_type": "code",
   "execution_count": 7,
   "id": "9b6ea5a3",
   "metadata": {},
   "outputs": [],
   "source": [
    "batch_size = 32\n",
    "train_path = os.path.join(data_dir, \"train\")\n",
    "test_path = os.path.join(data_dir, \"test\")"
   ]
  },
  {
   "cell_type": "code",
   "execution_count": 8,
   "id": "1bf35c4c",
   "metadata": {},
   "outputs": [
    {
     "name": "stdout",
     "output_type": "stream",
     "text": [
      "['Covid', 'Normal', 'Viral Pneumonia']\n"
     ]
    }
   ],
   "source": [
    "labels = os.listdir(train_path)\n",
    "print(labels)\n",
    "no_norm = mat_color.Normalize(vmin=0, vmax=255, clip=False)\n",
    "label_dict = {\n",
    "    0 : 'Covid', \n",
    "    1 : 'Normal', \n",
    "    2 : 'Viral Pneumonia'\n",
    "}"
   ]
  },
  {
   "cell_type": "code",
   "execution_count": 9,
   "id": "28c7ac6b",
   "metadata": {
    "scrolled": true
   },
   "outputs": [
    {
     "name": "stdout",
     "output_type": "stream",
     "text": [
      "torch.Size([32])\n",
      "torch.Size([32, 3])\n",
      "torch.Size([32, 256])\n",
      "torch.Size([3, 256])\n",
      "torch.Size([3, 3])\n"
     ]
    }
   ],
   "source": [
    "# Number of training epochs\n",
    "num_epochs = 200\n",
    "#All images will be resized to this size using a transformer.\n",
    "img_size = 128 * 2\n",
    "# Number of channels in the training images. For color images this is 3\n",
    "nc = 3\n",
    "# Size of z latent vector (i.e. size of generator input)\n",
    "nz = img_size\n",
    "# Size of feature maps in generator\n",
    "ngf = img_size\n",
    "# Size of feature maps in discriminator\n",
    "ndf = img_size\n",
    "# No of labels\n",
    "nb_label = len(labels)\n",
    "# Learning rate for optimizers\n",
    "lr = 0.00000010\n",
    "lr_d = 0.00000002\n",
    "# Beta1 hyperparam for Adam optimizers\n",
    "beta1 = 0.5\n",
    "# Beta2 hyperparam for Adam optimizers\n",
    "beta2 = 0.999\n",
    "\n",
    "real_label = 1.\n",
    "fake_label = 0.\n",
    "s_criterion = nn.BCELoss().to(device) #For synthesizing\n",
    "c_criterion = nn.CrossEntropyLoss().to(device) #For classification\n",
    "\n",
    "s_label = torch.FloatTensor(batch_size).to(device)\n",
    "c_label = torch.FloatTensor(batch_size, nb_label).to(device)\n",
    "noise = torch.FloatTensor(batch_size, nz).to(device)\n",
    "\n",
    "s_label = Variable(s_label)\n",
    "c_label = Variable(c_label)\n",
    "print(s_label.shape)\n",
    "print(c_label.shape)\n",
    "print(noise.shape)\n",
    "\n",
    "noise = Variable(noise)\n",
    "\n",
    "noise_fixed = torch.FloatTensor(3, nz).to(device)\n",
    "noise_data = np.random.normal(0, 1, (3, nz))\n",
    "noise_fixed.data.copy_(torch.tensor(noise_data))\n",
    "noise_fixed = Variable(noise_fixed)\n",
    "\n",
    "label_fixed = torch.FloatTensor(3, 3).to(device)\n",
    "label_onehot = np.zeros((3, nb_label))\n",
    "label_fixed_data = [0, 1, 2]\n",
    "label_onehot[np.arange(1), label_fixed_data] = 1\n",
    "label_fixed.data.copy_(torch.tensor(label_onehot))\n",
    "label_fixed = Variable(label_fixed)\n",
    "\n",
    "print(noise_fixed.shape)\n",
    "print(label_fixed.shape)"
   ]
  },
  {
   "cell_type": "code",
   "execution_count": 10,
   "id": "bd17020a",
   "metadata": {},
   "outputs": [
    {
     "name": "stdout",
     "output_type": "stream",
     "text": [
      "[Errno 17] File exists: './GANAug'\n",
      "[Errno 17] File exists: './GANAug/model'\n",
      "[Errno 17] File exists: './GANAug/plots'\n",
      "[Errno 17] File exists: './GANAug/model/ACGAN'\n",
      "[Errno 17] File exists: './GANAug/plots/ACGAN'\n",
      "[Errno 17] File exists: './GANAug/output_images'\n",
      "[Errno 17] File exists: './GANAug/output_images/ACGAN'\n",
      "[Errno 17] File exists: './GANAug/output_images/ACGAN/Covid'\n",
      "[Errno 17] File exists: './GANAug/output_images/ACGAN/Normal'\n",
      "[Errno 17] File exists: './GANAug/output_images/ACGAN/Viral Pneumonia'\n"
     ]
    }
   ],
   "source": [
    "for func in [\n",
    "    lambda: os.mkdir(os.path.join('.', 'GANAug')),\n",
    "    lambda: os.mkdir(os.path.join('.', 'GANAug/model')),\n",
    "    lambda: os.mkdir(os.path.join('.', 'GANAug/plots')),\n",
    "    lambda: os.mkdir(os.path.join('.', 'GANAug/model/ACGAN')),\n",
    "    lambda: os.mkdir(os.path.join('.', 'GANAug/plots/ACGAN')),\n",
    "    lambda: os.mkdir(os.path.join('.', 'GANAug/output_images')),\n",
    "    lambda: os.mkdir(os.path.join('.', 'GANAug/output_images/ACGAN')),\n",
    "    lambda: os.mkdir(os.path.join('.', 'GANAug/output_images/ACGAN/' + label_dict[0])),\n",
    "    lambda: os.mkdir(os.path.join('.', 'GANAug/output_images/ACGAN/' + label_dict[1])),\n",
    "    lambda: os.mkdir(os.path.join('.', 'GANAug/output_images/ACGAN/' + label_dict[2]))]:  # create directories\n",
    "    try:\n",
    "        func()\n",
    "    except Exception as error:\n",
    "        print(error)\n",
    "        continue"
   ]
  },
  {
   "cell_type": "code",
   "execution_count": 11,
   "id": "74dda24a",
   "metadata": {},
   "outputs": [],
   "source": [
    "matrix_fields = [\n",
    "    'G_losses',\n",
    "    'G_class_losses',\n",
    "    'G_syn_losses',\n",
    "    'D_losses',\n",
    "    'D_real_losses',\n",
    "    'D_fake_losses',\n",
    "    'D_class_losses',\n",
    "    'D_syn_losses',\n",
    "    'Accuracy',\n",
    "    'Losses'\n",
    "]\n",
    "metrics = {field: list() for field in matrix_fields}"
   ]
  },
  {
   "cell_type": "code",
   "execution_count": 12,
   "id": "a26a75d2",
   "metadata": {},
   "outputs": [],
   "source": [
    "def load_dataset(train_dir=train_path, test_dir=test_path):\n",
    "    transform = transforms.Compose([\n",
    "        transforms.Resize((img_size, img_size)),\n",
    "        transforms.ToTensor(),\n",
    "        transforms.Normalize(mean=[0.485, 0.456, 0.406], std=[0.229, 0.224, 0.225]),\n",
    "        ])\n",
    "    train_data = datasets.ImageFolder(train_dir, transform=transform)\n",
    "    train_loader = DataLoader(train_data, batch_size, shuffle=True, num_workers=1)\n",
    "\n",
    "    test_data = datasets.ImageFolder(test_dir ,transform=transform)\n",
    "    test_loader = DataLoader(test_data, batch_size, shuffle=True, num_workers=1)\n",
    "\n",
    "    return train_loader, test_loader, train_data, test_data"
   ]
  },
  {
   "cell_type": "code",
   "execution_count": 13,
   "id": "bbb0b552",
   "metadata": {},
   "outputs": [],
   "source": [
    "train_loader, test_loader, train_data, test_data = load_dataset()"
   ]
  },
  {
   "cell_type": "code",
   "execution_count": 14,
   "id": "0360680c",
   "metadata": {},
   "outputs": [],
   "source": [
    "generator = Generator(input_dim=nz, output_dim=nc, input_size=ngf, class_num=nb_label).to(device)\n",
    "discriminator = Discriminator(input_dim=nc, output_dim=1, input_size=ndf, class_num=nb_label).to(device)\n",
    "\n",
    "# setup optimizer\n",
    "optimizerD = optim.Adam(discriminator.parameters(), lr=lr_d, betas=(beta1, beta2))\n",
    "optimizerG = optim.Adam(generator.parameters(), lr=lr, betas=(beta1, beta2))"
   ]
  },
  {
   "cell_type": "code",
   "execution_count": 15,
   "id": "8d141b1c",
   "metadata": {},
   "outputs": [
    {
     "name": "stdout",
     "output_type": "stream",
     "text": [
      "torch.Size([32, 3, 256, 256])\n"
     ]
    }
   ],
   "source": [
    "g_output = generator(torch.rand((batch_size, nz)).to(device), torch.ones((batch_size, nb_label)).to(device))\n",
    "print(g_output.shape)"
   ]
  },
  {
   "cell_type": "code",
   "execution_count": 16,
   "id": "8244b33d",
   "metadata": {},
   "outputs": [
    {
     "name": "stdout",
     "output_type": "stream",
     "text": [
      "torch.Size([32, 1])\n",
      "torch.Size([32, 3])\n"
     ]
    }
   ],
   "source": [
    "s_output, c_output = discriminator(torch.rand(g_output.shape).to(device))\n",
    "print(s_output.shape)\n",
    "print(c_output.shape)\n",
    "del g_output, s_output, c_output"
   ]
  },
  {
   "cell_type": "code",
   "execution_count": 17,
   "id": "065eed00",
   "metadata": {},
   "outputs": [
    {
     "name": "stdout",
     "output_type": "stream",
     "text": [
      "Looking in indexes: http://mirrors.aliyun.com/pypi/simple\n",
      "Requirement already satisfied: torchviz in /root/miniconda3/lib/python3.8/site-packages (0.0.2)\n",
      "Requirement already satisfied: torch in /root/miniconda3/lib/python3.8/site-packages (from torchviz) (1.10.0+cu113)\n",
      "Requirement already satisfied: graphviz in /root/miniconda3/lib/python3.8/site-packages (from torchviz) (0.20)\n",
      "Requirement already satisfied: typing-extensions in /root/miniconda3/lib/python3.8/site-packages (from torch->torchviz) (4.0.0)\n",
      "\u001b[33mWARNING: Running pip as the 'root' user can result in broken permissions and conflicting behaviour with the system package manager. It is recommended to use a virtual environment instead: https://pip.pypa.io/warnings/venv\u001b[0m\n"
     ]
    }
   ],
   "source": [
    "!pip install torchviz"
   ]
  },
  {
   "cell_type": "code",
   "execution_count": 18,
   "id": "81981a02",
   "metadata": {
    "scrolled": false
   },
   "outputs": [
    {
     "name": "stdout",
     "output_type": "stream",
     "text": [
      "Generator(\n",
      "  (fc): Sequential(\n",
      "    (0): Linear(in_features=259, out_features=1024, bias=True)\n",
      "    (1): BatchNorm1d(1024, eps=1e-05, momentum=0.1, affine=True, track_running_stats=True)\n",
      "    (2): ReLU()\n",
      "    (3): Linear(in_features=1024, out_features=524288, bias=True)\n",
      "    (4): BatchNorm1d(524288, eps=1e-05, momentum=0.1, affine=True, track_running_stats=True)\n",
      "    (5): ReLU()\n",
      "  )\n",
      "  (deconv): Sequential(\n",
      "    (0): ConvTranspose2d(128, 64, kernel_size=(4, 4), stride=(2, 2), padding=(1, 1))\n",
      "    (1): BatchNorm2d(64, eps=1e-05, momentum=0.1, affine=True, track_running_stats=True)\n",
      "    (2): ReLU()\n",
      "    (3): ConvTranspose2d(64, 3, kernel_size=(4, 4), stride=(2, 2), padding=(1, 1))\n",
      "    (4): Tanh()\n",
      "  )\n",
      ")\n",
      "Discriminator(\n",
      "  (conv): Sequential(\n",
      "    (0): Conv2d(3, 64, kernel_size=(4, 4), stride=(2, 2), padding=(1, 1))\n",
      "    (1): LeakyReLU(negative_slope=0.2)\n",
      "    (2): Conv2d(64, 128, kernel_size=(4, 4), stride=(2, 2), padding=(1, 1))\n",
      "    (3): BatchNorm2d(128, eps=1e-05, momentum=0.1, affine=True, track_running_stats=True)\n",
      "    (4): LeakyReLU(negative_slope=0.2)\n",
      "  )\n",
      "  (fc1): Sequential(\n",
      "    (0): Linear(in_features=524288, out_features=1024, bias=True)\n",
      "    (1): BatchNorm1d(1024, eps=1e-05, momentum=0.1, affine=True, track_running_stats=True)\n",
      "    (2): LeakyReLU(negative_slope=0.2)\n",
      "  )\n",
      "  (dc): Sequential(\n",
      "    (0): Linear(in_features=1024, out_features=1, bias=True)\n",
      "    (1): Sigmoid()\n",
      "  )\n",
      "  (cl): Sequential(\n",
      "    (0): Linear(in_features=1024, out_features=3, bias=True)\n",
      "  )\n",
      ")\n"
     ]
    }
   ],
   "source": [
    "print(generator)\n",
    "print(discriminator)"
   ]
  },
  {
   "cell_type": "code",
   "execution_count": 19,
   "id": "5e2592f2",
   "metadata": {},
   "outputs": [
    {
     "name": "stdout",
     "output_type": "stream",
     "text": [
      "----------------------------------------------------------------\n",
      "        Layer (type)               Output Shape         Param #\n",
      "================================================================\n",
      "            Linear-1                 [16, 1024]         266,240\n",
      "       BatchNorm1d-2                 [16, 1024]           2,048\n",
      "              ReLU-3                 [16, 1024]               0\n",
      "            Linear-4               [16, 524288]     537,395,200\n",
      "       BatchNorm1d-5               [16, 524288]       1,048,576\n",
      "              ReLU-6               [16, 524288]               0\n",
      "   ConvTranspose2d-7         [16, 64, 128, 128]         131,136\n",
      "       BatchNorm2d-8         [16, 64, 128, 128]             128\n",
      "              ReLU-9         [16, 64, 128, 128]               0\n",
      "  ConvTranspose2d-10          [16, 3, 256, 256]           3,075\n",
      "             Tanh-11          [16, 3, 256, 256]               0\n",
      "================================================================\n",
      "Total params: 538,846,403\n",
      "Trainable params: 538,846,403\n",
      "Non-trainable params: 0\n",
      "----------------------------------------------------------------\n",
      "Input size (MB): 0.05\n",
      "Forward/backward pass size (MB): 624.38\n",
      "Params size (MB): 2055.54\n",
      "Estimated Total Size (MB): 2679.96\n",
      "----------------------------------------------------------------\n"
     ]
    }
   ],
   "source": [
    "SHOW = True\n",
    "if SHOW:\n",
    "    summary(generator, [[nz], [nc]], batch_size=16, device=device)"
   ]
  },
  {
   "cell_type": "code",
   "execution_count": 20,
   "id": "57c2031b",
   "metadata": {},
   "outputs": [
    {
     "name": "stdout",
     "output_type": "stream",
     "text": [
      "----------------------------------------------------------------\n",
      "        Layer (type)               Output Shape         Param #\n",
      "================================================================\n",
      "            Conv2d-1         [16, 64, 128, 128]           3,136\n",
      "         LeakyReLU-2         [16, 64, 128, 128]               0\n",
      "            Conv2d-3          [16, 128, 64, 64]         131,200\n",
      "       BatchNorm2d-4          [16, 128, 64, 64]             256\n",
      "         LeakyReLU-5          [16, 128, 64, 64]               0\n",
      "            Linear-6                 [16, 1024]     536,871,936\n",
      "       BatchNorm1d-7                 [16, 1024]           2,048\n",
      "         LeakyReLU-8                 [16, 1024]               0\n",
      "            Linear-9                    [16, 1]           1,025\n",
      "          Sigmoid-10                    [16, 1]               0\n",
      "           Linear-11                    [16, 3]           3,075\n",
      "================================================================\n",
      "Total params: 537,012,676\n",
      "Trainable params: 537,012,676\n",
      "Non-trainable params: 0\n",
      "----------------------------------------------------------------\n",
      "Input size (MB): 12.00\n",
      "Forward/backward pass size (MB): 448.38\n",
      "Params size (MB): 2048.54\n",
      "Estimated Total Size (MB): 2508.92\n",
      "----------------------------------------------------------------\n"
     ]
    }
   ],
   "source": [
    "if SHOW:\n",
    "    summary(discriminator, (nc, img_size, img_size), batch_size=16, device=device)"
   ]
  },
  {
   "cell_type": "code",
   "execution_count": 21,
   "id": "0580f119",
   "metadata": {},
   "outputs": [],
   "source": [
    "SHOW_IMG = False\n",
    "if SHOW_IMG:\n",
    "    def modeltorchviz(model, input_1, input_2):\n",
    "        if input_2 != None:\n",
    "            y = model(input_1.to(device), input_2.to(device))\n",
    "        else:\n",
    "            y = model(input_1to(device))\n",
    "        if input_2 != None:\n",
    "            MyConvNetVis = make_dot(y, params=dict(list(model.named_parameters()) + [('x', input_1)] + [('x', input_2)]))\n",
    "        else:\n",
    "            MyConvNetVis = make_dot(y, params=dict(list(model.named_parameters()) + [('x', input_1)]))\n",
    "        MyConvNetVis.format = \"png\"\n",
    "        MyConvNetVis.directory = \"images\"\n",
    "        MyConvNetVis.view() "
   ]
  },
  {
   "cell_type": "code",
   "execution_count": 22,
   "id": "f0cd9edc",
   "metadata": {
    "scrolled": false
   },
   "outputs": [],
   "source": [
    "if SHOW_IMG:\n",
    "    modeltorchviz(generator, torch.randn(16, nz).requires_grad_(True), torch.randn(16, nb_label).requires_grad_(True))"
   ]
  },
  {
   "cell_type": "code",
   "execution_count": 23,
   "id": "d02b9f92",
   "metadata": {},
   "outputs": [],
   "source": [
    "if SHOW_IMG:\n",
    "    modeltorchviz(discriminator, torch.randn(1, nc, ndf, ndf).requires_grad_(True))"
   ]
  },
  {
   "cell_type": "code",
   "execution_count": 24,
   "id": "0d1b6459",
   "metadata": {},
   "outputs": [],
   "source": [
    "def test(predict, labels):\n",
    "    correct = 0\n",
    "    predict = torch.argmax(predict, dim=1)\n",
    "    labels = torch.argmax(labels, dim=1)\n",
    "    correct = predict.eq(labels.data).cpu().sum()\n",
    "    return correct, len(labels.data)"
   ]
  },
  {
   "cell_type": "code",
   "execution_count": 25,
   "id": "c2f610db",
   "metadata": {},
   "outputs": [
    {
     "name": "stdout",
     "output_type": "stream",
     "text": [
      "3780\n"
     ]
    }
   ],
   "source": [
    "early_stop_count = 0\n",
    "early_stop_patient = len(train_loader) * 50\n",
    "early_stop = False\n",
    "best_batch_loss = -1\n",
    "save_model = False\n",
    "print(early_stop_patient)"
   ]
  },
  {
   "cell_type": "code",
   "execution_count": 26,
   "id": "5de7b24a",
   "metadata": {},
   "outputs": [],
   "source": [
    "def get_file_list(file_path, length):\n",
    "    dir_list = os.listdir(file_path)\n",
    "    if not dir_list:\n",
    "        return\n",
    "    else:\n",
    "        dir_list = sorted(dir_list,  key=lambda x: os.path.getmtime(os.path.join(file_path, x)))\n",
    "        print(\"files to be deleted < length =\", length ,\"> ->\", dir_list[0:length + 1])\n",
    "        return dir_list[0:length + 1]"
   ]
  },
  {
   "cell_type": "code",
   "execution_count": null,
   "id": "0714f81e",
   "metadata": {
    "scrolled": true
   },
   "outputs": [
    {
     "name": "stderr",
     "output_type": "stream",
     "text": [
      "  1%|▍                                                                                       | 1/189 [00:01<06:01,  1.92s/it]"
     ]
    },
    {
     "name": "stdout",
     "output_type": "stream",
     "text": [
      "[1/200][1/189] ========== Loss_D: 1.4310, Loss_G: 1.8739, Acc_G: 3/32 = 9.3750\n"
     ]
    },
    {
     "name": "stderr",
     "output_type": "stream",
     "text": [
      "  1%|▉                                                                                       | 2/189 [00:02<04:18,  1.38s/it]"
     ]
    },
    {
     "name": "stdout",
     "output_type": "stream",
     "text": [
      "[1/200][2/189] ========== Loss_D: 1.4181, Loss_G: 1.9240, Acc_G: 9/32 = 28.1250\n"
     ]
    },
    {
     "name": "stderr",
     "output_type": "stream",
     "text": [
      "  2%|█▍                                                                                      | 3/189 [00:03<03:44,  1.21s/it]"
     ]
    },
    {
     "name": "stdout",
     "output_type": "stream",
     "text": [
      "[1/200][3/189] ========== Loss_D: 1.4236, Loss_G: 1.8943, Acc_G: 9/32 = 28.1250\n"
     ]
    },
    {
     "name": "stderr",
     "output_type": "stream",
     "text": [
      "  2%|█▊                                                                                      | 4/189 [00:05<03:50,  1.25s/it]"
     ]
    },
    {
     "name": "stdout",
     "output_type": "stream",
     "text": [
      "[1/200][4/189] ========== Loss_D: 1.4294, Loss_G: 1.8504, Acc_G: 9/32 = 28.1250\n",
      "---------------------< lowest loss update -> 3.2798197269439697 >---------------------\n"
     ]
    },
    {
     "name": "stderr",
     "output_type": "stream",
     "text": [
      "  3%|██▎                                                                                     | 5/189 [00:06<03:32,  1.16s/it]"
     ]
    },
    {
     "name": "stdout",
     "output_type": "stream",
     "text": [
      "[1/200][5/189] ========== Loss_D: 1.4151, Loss_G: 1.8746, Acc_G: 7/32 = 21.8750\n"
     ]
    },
    {
     "name": "stderr",
     "output_type": "stream",
     "text": [
      "  3%|██▊                                                                                     | 6/189 [00:07<03:42,  1.22s/it]"
     ]
    },
    {
     "name": "stdout",
     "output_type": "stream",
     "text": [
      "[1/200][6/189] ========== Loss_D: 1.4226, Loss_G: 1.9791, Acc_G: 10/32 = 31.2500\n"
     ]
    },
    {
     "name": "stderr",
     "output_type": "stream",
     "text": [
      "  4%|███▎                                                                                    | 7/189 [00:08<03:42,  1.22s/it]"
     ]
    },
    {
     "name": "stdout",
     "output_type": "stream",
     "text": [
      "[1/200][7/189] ========== Loss_D: 1.4190, Loss_G: 1.7872, Acc_G: 7/32 = 21.8750\n",
      "---------------------< lowest loss update -> 3.2062153816223145 >---------------------\n"
     ]
    },
    {
     "name": "stderr",
     "output_type": "stream",
     "text": [
      "  4%|███▋                                                                                    | 8/189 [00:10<04:11,  1.39s/it]"
     ]
    },
    {
     "name": "stdout",
     "output_type": "stream",
     "text": [
      "[1/200][8/189] ========== Loss_D: 1.4087, Loss_G: 1.9830, Acc_G: 8/32 = 25.0000\n"
     ]
    },
    {
     "name": "stderr",
     "output_type": "stream",
     "text": [
      "  5%|████▏                                                                                   | 9/189 [00:12<04:14,  1.41s/it]"
     ]
    },
    {
     "name": "stdout",
     "output_type": "stream",
     "text": [
      "[1/200][9/189] ========== Loss_D: 1.4320, Loss_G: 1.9266, Acc_G: 6/32 = 18.7500\n"
     ]
    },
    {
     "name": "stderr",
     "output_type": "stream",
     "text": [
      "  5%|████▌                                                                                  | 10/189 [00:13<04:08,  1.39s/it]"
     ]
    },
    {
     "name": "stdout",
     "output_type": "stream",
     "text": [
      "[1/200][10/189] ========== Loss_D: 1.4505, Loss_G: 1.9615, Acc_G: 3/32 = 9.3750\n"
     ]
    },
    {
     "name": "stderr",
     "output_type": "stream",
     "text": [
      "  6%|█████                                                                                  | 11/189 [00:14<03:46,  1.27s/it]"
     ]
    },
    {
     "name": "stdout",
     "output_type": "stream",
     "text": [
      "[1/200][11/189] ========== Loss_D: 1.4361, Loss_G: 1.9287, Acc_G: 5/32 = 15.6250\n"
     ]
    },
    {
     "name": "stderr",
     "output_type": "stream",
     "text": [
      "  6%|█████▌                                                                                 | 12/189 [00:15<03:51,  1.31s/it]"
     ]
    },
    {
     "name": "stdout",
     "output_type": "stream",
     "text": [
      "[1/200][12/189] ========== Loss_D: 1.4336, Loss_G: 1.8639, Acc_G: 7/32 = 21.8750\n"
     ]
    },
    {
     "name": "stderr",
     "output_type": "stream",
     "text": [
      "  7%|█████▉                                                                                 | 13/189 [00:17<03:48,  1.30s/it]"
     ]
    },
    {
     "name": "stdout",
     "output_type": "stream",
     "text": [
      "[1/200][13/189] ========== Loss_D: 1.4142, Loss_G: 1.8333, Acc_G: 3/32 = 9.3750\n"
     ]
    },
    {
     "name": "stderr",
     "output_type": "stream",
     "text": [
      "  7%|██████▍                                                                                | 14/189 [00:18<03:56,  1.35s/it]"
     ]
    },
    {
     "name": "stdout",
     "output_type": "stream",
     "text": [
      "[1/200][14/189] ========== Loss_D: 1.4303, Loss_G: 1.8565, Acc_G: 10/32 = 31.2500\n"
     ]
    },
    {
     "name": "stderr",
     "output_type": "stream",
     "text": [
      "  8%|██████▉                                                                                | 15/189 [00:19<03:53,  1.34s/it]"
     ]
    },
    {
     "name": "stdout",
     "output_type": "stream",
     "text": [
      "[1/200][15/189] ========== Loss_D: 1.4281, Loss_G: 1.8635, Acc_G: 8/32 = 25.0000\n"
     ]
    },
    {
     "name": "stderr",
     "output_type": "stream",
     "text": [
      "  8%|███████▎                                                                               | 16/189 [00:21<03:49,  1.33s/it]"
     ]
    },
    {
     "name": "stdout",
     "output_type": "stream",
     "text": [
      "[1/200][16/189] ========== Loss_D: 1.4313, Loss_G: 1.9295, Acc_G: 7/32 = 21.8750\n"
     ]
    },
    {
     "name": "stderr",
     "output_type": "stream",
     "text": [
      "  9%|███████▊                                                                               | 17/189 [00:22<03:45,  1.31s/it]"
     ]
    },
    {
     "name": "stdout",
     "output_type": "stream",
     "text": [
      "[1/200][17/189] ========== Loss_D: 1.4217, Loss_G: 1.8619, Acc_G: 5/32 = 15.6250\n"
     ]
    },
    {
     "name": "stderr",
     "output_type": "stream",
     "text": [
      " 10%|████████▎                                                                              | 18/189 [00:23<03:36,  1.27s/it]"
     ]
    },
    {
     "name": "stdout",
     "output_type": "stream",
     "text": [
      "[1/200][18/189] ========== Loss_D: 1.4259, Loss_G: 1.9520, Acc_G: 9/32 = 28.1250\n"
     ]
    },
    {
     "name": "stderr",
     "output_type": "stream",
     "text": [
      " 10%|████████▋                                                                              | 19/189 [00:24<03:28,  1.23s/it]"
     ]
    },
    {
     "name": "stdout",
     "output_type": "stream",
     "text": [
      "[1/200][19/189] ========== Loss_D: 1.4295, Loss_G: 1.9422, Acc_G: 6/32 = 18.7500\n"
     ]
    },
    {
     "name": "stderr",
     "output_type": "stream",
     "text": [
      " 11%|█████████▏                                                                             | 20/189 [00:25<03:27,  1.23s/it]"
     ]
    },
    {
     "name": "stdout",
     "output_type": "stream",
     "text": [
      "[1/200][20/189] ========== Loss_D: 1.4432, Loss_G: 1.9312, Acc_G: 11/32 = 34.3750\n"
     ]
    },
    {
     "name": "stderr",
     "output_type": "stream",
     "text": [
      " 11%|█████████▋                                                                             | 21/189 [00:27<03:23,  1.21s/it]"
     ]
    },
    {
     "name": "stdout",
     "output_type": "stream",
     "text": [
      "[1/200][21/189] ========== Loss_D: 1.4233, Loss_G: 1.9479, Acc_G: 9/32 = 28.1250\n"
     ]
    },
    {
     "name": "stderr",
     "output_type": "stream",
     "text": [
      " 12%|██████████▏                                                                            | 22/189 [00:28<03:19,  1.19s/it]"
     ]
    },
    {
     "name": "stdout",
     "output_type": "stream",
     "text": [
      "[1/200][22/189] ========== Loss_D: 1.4277, Loss_G: 1.9241, Acc_G: 7/32 = 21.8750\n"
     ]
    },
    {
     "name": "stderr",
     "output_type": "stream",
     "text": [
      " 12%|██████████▌                                                                            | 23/189 [00:29<03:11,  1.15s/it]"
     ]
    },
    {
     "name": "stdout",
     "output_type": "stream",
     "text": [
      "[1/200][23/189] ========== Loss_D: 1.4361, Loss_G: 1.8076, Acc_G: 6/32 = 18.7500\n"
     ]
    },
    {
     "name": "stderr",
     "output_type": "stream",
     "text": [
      " 13%|███████████                                                                            | 24/189 [00:31<03:39,  1.33s/it]"
     ]
    },
    {
     "name": "stdout",
     "output_type": "stream",
     "text": [
      "[1/200][24/189] ========== Loss_D: 1.4201, Loss_G: 1.9586, Acc_G: 5/32 = 15.6250\n"
     ]
    },
    {
     "name": "stderr",
     "output_type": "stream",
     "text": [
      " 13%|███████████▌                                                                           | 25/189 [00:31<03:14,  1.18s/it]"
     ]
    },
    {
     "name": "stdout",
     "output_type": "stream",
     "text": [
      "[1/200][25/189] ========== Loss_D: 1.4307, Loss_G: 1.8287, Acc_G: 6/32 = 18.7500\n"
     ]
    },
    {
     "name": "stderr",
     "output_type": "stream",
     "text": [
      " 14%|███████████▉                                                                           | 26/189 [00:33<03:23,  1.25s/it]"
     ]
    },
    {
     "name": "stdout",
     "output_type": "stream",
     "text": [
      "[1/200][26/189] ========== Loss_D: 1.4428, Loss_G: 1.9484, Acc_G: 13/32 = 40.6250\n"
     ]
    },
    {
     "name": "stderr",
     "output_type": "stream",
     "text": [
      " 14%|████████████▍                                                                          | 27/189 [00:34<03:27,  1.28s/it]"
     ]
    },
    {
     "name": "stdout",
     "output_type": "stream",
     "text": [
      "[1/200][27/189] ========== Loss_D: 1.4245, Loss_G: 1.9039, Acc_G: 7/32 = 21.8750\n"
     ]
    },
    {
     "name": "stderr",
     "output_type": "stream",
     "text": [
      " 15%|████████████▉                                                                          | 28/189 [00:35<03:25,  1.28s/it]"
     ]
    },
    {
     "name": "stdout",
     "output_type": "stream",
     "text": [
      "[1/200][28/189] ========== Loss_D: 1.4355, Loss_G: 1.9273, Acc_G: 7/32 = 21.8750\n"
     ]
    },
    {
     "name": "stderr",
     "output_type": "stream",
     "text": [
      " 15%|█████████████▎                                                                         | 29/189 [00:37<03:24,  1.28s/it]"
     ]
    },
    {
     "name": "stdout",
     "output_type": "stream",
     "text": [
      "[1/200][29/189] ========== Loss_D: 1.4324, Loss_G: 1.8490, Acc_G: 10/32 = 31.2500\n"
     ]
    },
    {
     "name": "stderr",
     "output_type": "stream",
     "text": [
      " 16%|█████████████▊                                                                         | 30/189 [00:38<03:37,  1.37s/it]"
     ]
    },
    {
     "name": "stdout",
     "output_type": "stream",
     "text": [
      "[1/200][30/189] ========== Loss_D: 1.4205, Loss_G: 1.8309, Acc_G: 6/32 = 18.7500\n"
     ]
    },
    {
     "name": "stderr",
     "output_type": "stream",
     "text": [
      " 16%|██████████████▎                                                                        | 31/189 [00:40<03:47,  1.44s/it]"
     ]
    },
    {
     "name": "stdout",
     "output_type": "stream",
     "text": [
      "[1/200][31/189] ========== Loss_D: 1.4366, Loss_G: 1.9776, Acc_G: 10/32 = 31.2500\n"
     ]
    },
    {
     "name": "stderr",
     "output_type": "stream",
     "text": [
      " 17%|██████████████▋                                                                        | 32/189 [00:41<03:38,  1.39s/it]"
     ]
    },
    {
     "name": "stdout",
     "output_type": "stream",
     "text": [
      "[1/200][32/189] ========== Loss_D: 1.4217, Loss_G: 1.8888, Acc_G: 7/32 = 21.8750\n"
     ]
    },
    {
     "name": "stderr",
     "output_type": "stream",
     "text": [
      " 17%|███████████████▏                                                                       | 33/189 [00:43<03:38,  1.40s/it]"
     ]
    },
    {
     "name": "stdout",
     "output_type": "stream",
     "text": [
      "[1/200][33/189] ========== Loss_D: 1.4466, Loss_G: 1.8343, Acc_G: 10/32 = 31.2500\n"
     ]
    },
    {
     "name": "stderr",
     "output_type": "stream",
     "text": [
      " 18%|███████████████▋                                                                       | 34/189 [00:44<03:21,  1.30s/it]"
     ]
    },
    {
     "name": "stdout",
     "output_type": "stream",
     "text": [
      "[1/200][34/189] ========== Loss_D: 1.4192, Loss_G: 1.9629, Acc_G: 7/32 = 21.8750\n"
     ]
    },
    {
     "name": "stderr",
     "output_type": "stream",
     "text": [
      " 19%|████████████████                                                                       | 35/189 [00:45<03:20,  1.30s/it]"
     ]
    },
    {
     "name": "stdout",
     "output_type": "stream",
     "text": [
      "[1/200][35/189] ========== Loss_D: 1.4299, Loss_G: 1.8557, Acc_G: 9/32 = 28.1250\n"
     ]
    },
    {
     "name": "stderr",
     "output_type": "stream",
     "text": [
      " 19%|████████████████▌                                                                      | 36/189 [00:47<03:31,  1.38s/it]"
     ]
    },
    {
     "name": "stdout",
     "output_type": "stream",
     "text": [
      "[1/200][36/189] ========== Loss_D: 1.4209, Loss_G: 1.8573, Acc_G: 6/32 = 18.7500\n"
     ]
    },
    {
     "name": "stderr",
     "output_type": "stream",
     "text": [
      " 20%|█████████████████                                                                      | 37/189 [00:48<03:21,  1.33s/it]"
     ]
    },
    {
     "name": "stdout",
     "output_type": "stream",
     "text": [
      "[1/200][37/189] ========== Loss_D: 1.4218, Loss_G: 1.8631, Acc_G: 9/32 = 28.1250\n"
     ]
    },
    {
     "name": "stderr",
     "output_type": "stream",
     "text": [
      " 20%|█████████████████▍                                                                     | 38/189 [00:49<03:06,  1.23s/it]"
     ]
    },
    {
     "name": "stdout",
     "output_type": "stream",
     "text": [
      "[1/200][38/189] ========== Loss_D: 1.4216, Loss_G: 1.8988, Acc_G: 5/32 = 15.6250\n"
     ]
    },
    {
     "name": "stderr",
     "output_type": "stream",
     "text": [
      " 21%|█████████████████▉                                                                     | 39/189 [00:50<03:23,  1.36s/it]"
     ]
    },
    {
     "name": "stdout",
     "output_type": "stream",
     "text": [
      "[1/200][39/189] ========== Loss_D: 1.4377, Loss_G: 1.8494, Acc_G: 7/32 = 21.8750\n"
     ]
    },
    {
     "name": "stderr",
     "output_type": "stream",
     "text": [
      " 21%|██████████████████▍                                                                    | 40/189 [00:52<03:15,  1.31s/it]"
     ]
    },
    {
     "name": "stdout",
     "output_type": "stream",
     "text": [
      "[1/200][40/189] ========== Loss_D: 1.4330, Loss_G: 1.9281, Acc_G: 8/32 = 25.0000\n"
     ]
    },
    {
     "name": "stderr",
     "output_type": "stream",
     "text": [
      " 22%|██████████████████▊                                                                    | 41/189 [00:53<03:05,  1.25s/it]"
     ]
    },
    {
     "name": "stdout",
     "output_type": "stream",
     "text": [
      "[1/200][41/189] ========== Loss_D: 1.4397, Loss_G: 1.8307, Acc_G: 6/32 = 18.7500\n"
     ]
    },
    {
     "name": "stderr",
     "output_type": "stream",
     "text": [
      " 22%|███████████████████▎                                                                   | 42/189 [00:54<02:59,  1.22s/it]"
     ]
    },
    {
     "name": "stdout",
     "output_type": "stream",
     "text": [
      "[1/200][42/189] ========== Loss_D: 1.4193, Loss_G: 1.8867, Acc_G: 9/32 = 28.1250\n"
     ]
    },
    {
     "name": "stderr",
     "output_type": "stream",
     "text": [
      " 23%|███████████████████▊                                                                   | 43/189 [00:55<03:01,  1.24s/it]"
     ]
    },
    {
     "name": "stdout",
     "output_type": "stream",
     "text": [
      "[1/200][43/189] ========== Loss_D: 1.4135, Loss_G: 1.9295, Acc_G: 9/32 = 28.1250\n"
     ]
    },
    {
     "name": "stderr",
     "output_type": "stream",
     "text": [
      " 23%|████████████████████▎                                                                  | 44/189 [00:57<03:06,  1.29s/it]"
     ]
    },
    {
     "name": "stdout",
     "output_type": "stream",
     "text": [
      "[1/200][44/189] ========== Loss_D: 1.4262, Loss_G: 1.9508, Acc_G: 8/32 = 25.0000\n"
     ]
    },
    {
     "name": "stderr",
     "output_type": "stream",
     "text": [
      " 24%|████████████████████▋                                                                  | 45/189 [00:58<02:58,  1.24s/it]"
     ]
    },
    {
     "name": "stdout",
     "output_type": "stream",
     "text": [
      "[1/200][45/189] ========== Loss_D: 1.4125, Loss_G: 1.9303, Acc_G: 7/32 = 21.8750\n"
     ]
    },
    {
     "name": "stderr",
     "output_type": "stream",
     "text": [
      " 24%|█████████████████████▏                                                                 | 46/189 [00:59<02:51,  1.20s/it]"
     ]
    },
    {
     "name": "stdout",
     "output_type": "stream",
     "text": [
      "[1/200][46/189] ========== Loss_D: 1.4186, Loss_G: 1.8919, Acc_G: 10/32 = 31.2500\n"
     ]
    },
    {
     "name": "stderr",
     "output_type": "stream",
     "text": [
      " 25%|█████████████████████▋                                                                 | 47/189 [01:00<02:51,  1.21s/it]"
     ]
    },
    {
     "name": "stdout",
     "output_type": "stream",
     "text": [
      "[1/200][47/189] ========== Loss_D: 1.4204, Loss_G: 1.8284, Acc_G: 10/32 = 31.2500\n"
     ]
    },
    {
     "name": "stderr",
     "output_type": "stream",
     "text": [
      " 25%|██████████████████████                                                                 | 48/189 [01:01<02:58,  1.27s/it]"
     ]
    },
    {
     "name": "stdout",
     "output_type": "stream",
     "text": [
      "[1/200][48/189] ========== Loss_D: 1.4232, Loss_G: 1.9380, Acc_G: 10/32 = 31.2500\n"
     ]
    },
    {
     "name": "stderr",
     "output_type": "stream",
     "text": [
      " 26%|██████████████████████▌                                                                | 49/189 [01:03<03:12,  1.38s/it]"
     ]
    },
    {
     "name": "stdout",
     "output_type": "stream",
     "text": [
      "[1/200][49/189] ========== Loss_D: 1.4262, Loss_G: 1.8080, Acc_G: 10/32 = 31.2500\n"
     ]
    },
    {
     "name": "stderr",
     "output_type": "stream",
     "text": [
      " 26%|███████████████████████                                                                | 50/189 [01:04<03:05,  1.33s/it]"
     ]
    },
    {
     "name": "stdout",
     "output_type": "stream",
     "text": [
      "[1/200][50/189] ========== Loss_D: 1.4218, Loss_G: 1.8702, Acc_G: 5/32 = 15.6250\n"
     ]
    },
    {
     "name": "stderr",
     "output_type": "stream",
     "text": [
      " 27%|███████████████████████▍                                                               | 51/189 [01:05<02:52,  1.25s/it]"
     ]
    },
    {
     "name": "stdout",
     "output_type": "stream",
     "text": [
      "[1/200][51/189] ========== Loss_D: 1.4314, Loss_G: 1.8702, Acc_G: 7/32 = 21.8750\n"
     ]
    },
    {
     "name": "stderr",
     "output_type": "stream",
     "text": [
      " 28%|███████████████████████▉                                                               | 52/189 [01:06<02:41,  1.18s/it]"
     ]
    },
    {
     "name": "stdout",
     "output_type": "stream",
     "text": [
      "[1/200][52/189] ========== Loss_D: 1.4198, Loss_G: 1.7902, Acc_G: 8/32 = 25.0000\n"
     ]
    },
    {
     "name": "stderr",
     "output_type": "stream",
     "text": [
      " 28%|████████████████████████▍                                                              | 53/189 [01:08<02:50,  1.25s/it]"
     ]
    },
    {
     "name": "stdout",
     "output_type": "stream",
     "text": [
      "[1/200][53/189] ========== Loss_D: 1.4109, Loss_G: 1.7808, Acc_G: 8/32 = 25.0000\n",
      "---------------------< lowest loss update -> 3.191779136657715 >---------------------\n"
     ]
    },
    {
     "name": "stderr",
     "output_type": "stream",
     "text": [
      " 29%|████████████████████████▊                                                              | 54/189 [01:09<02:35,  1.15s/it]"
     ]
    },
    {
     "name": "stdout",
     "output_type": "stream",
     "text": [
      "[1/200][54/189] ========== Loss_D: 1.4347, Loss_G: 1.9292, Acc_G: 4/32 = 12.5000\n"
     ]
    },
    {
     "name": "stderr",
     "output_type": "stream",
     "text": [
      " 29%|█████████████████████████▎                                                             | 55/189 [01:10<02:48,  1.26s/it]"
     ]
    },
    {
     "name": "stdout",
     "output_type": "stream",
     "text": [
      "[1/200][55/189] ========== Loss_D: 1.4314, Loss_G: 1.9581, Acc_G: 8/32 = 25.0000\n"
     ]
    },
    {
     "name": "stderr",
     "output_type": "stream",
     "text": [
      " 30%|█████████████████████████▊                                                             | 56/189 [01:11<02:34,  1.16s/it]"
     ]
    },
    {
     "name": "stdout",
     "output_type": "stream",
     "text": [
      "[1/200][56/189] ========== Loss_D: 1.4295, Loss_G: 1.8235, Acc_G: 8/32 = 25.0000\n"
     ]
    },
    {
     "name": "stderr",
     "output_type": "stream",
     "text": [
      " 30%|██████████████████████████▏                                                            | 57/189 [01:12<02:34,  1.17s/it]"
     ]
    },
    {
     "name": "stdout",
     "output_type": "stream",
     "text": [
      "[1/200][57/189] ========== Loss_D: 1.4334, Loss_G: 1.9517, Acc_G: 7/32 = 21.8750\n"
     ]
    },
    {
     "name": "stderr",
     "output_type": "stream",
     "text": [
      " 31%|██████████████████████████▋                                                            | 58/189 [01:14<02:40,  1.22s/it]"
     ]
    },
    {
     "name": "stdout",
     "output_type": "stream",
     "text": [
      "[1/200][58/189] ========== Loss_D: 1.4328, Loss_G: 1.8647, Acc_G: 7/32 = 21.8750\n"
     ]
    },
    {
     "name": "stderr",
     "output_type": "stream",
     "text": [
      " 31%|███████████████████████████▏                                                           | 59/189 [01:15<02:55,  1.35s/it]"
     ]
    },
    {
     "name": "stdout",
     "output_type": "stream",
     "text": [
      "[1/200][59/189] ========== Loss_D: 1.4363, Loss_G: 1.8260, Acc_G: 9/32 = 28.1250\n"
     ]
    },
    {
     "name": "stderr",
     "output_type": "stream",
     "text": [
      " 32%|███████████████████████████▌                                                           | 60/189 [01:17<03:04,  1.43s/it]"
     ]
    },
    {
     "name": "stdout",
     "output_type": "stream",
     "text": [
      "[1/200][60/189] ========== Loss_D: 1.4179, Loss_G: 1.8686, Acc_G: 6/32 = 18.7500\n"
     ]
    },
    {
     "name": "stderr",
     "output_type": "stream",
     "text": [
      " 32%|████████████████████████████                                                           | 61/189 [01:18<02:51,  1.34s/it]"
     ]
    },
    {
     "name": "stdout",
     "output_type": "stream",
     "text": [
      "[1/200][61/189] ========== Loss_D: 1.4395, Loss_G: 1.9093, Acc_G: 9/32 = 28.1250\n"
     ]
    },
    {
     "name": "stderr",
     "output_type": "stream",
     "text": [
      " 33%|████████████████████████████▌                                                          | 62/189 [01:19<02:41,  1.27s/it]"
     ]
    },
    {
     "name": "stdout",
     "output_type": "stream",
     "text": [
      "[1/200][62/189] ========== Loss_D: 1.4427, Loss_G: 1.8753, Acc_G: 8/32 = 25.0000\n"
     ]
    },
    {
     "name": "stderr",
     "output_type": "stream",
     "text": [
      " 33%|█████████████████████████████                                                          | 63/189 [01:21<02:48,  1.34s/it]"
     ]
    },
    {
     "name": "stdout",
     "output_type": "stream",
     "text": [
      "[1/200][63/189] ========== Loss_D: 1.4257, Loss_G: 1.9395, Acc_G: 12/32 = 37.5000\n"
     ]
    },
    {
     "name": "stderr",
     "output_type": "stream",
     "text": [
      " 34%|█████████████████████████████▍                                                         | 64/189 [01:22<02:41,  1.29s/it]"
     ]
    },
    {
     "name": "stdout",
     "output_type": "stream",
     "text": [
      "[1/200][64/189] ========== Loss_D: 1.4246, Loss_G: 1.8796, Acc_G: 9/32 = 28.1250\n"
     ]
    },
    {
     "name": "stderr",
     "output_type": "stream",
     "text": [
      " 34%|█████████████████████████████▉                                                         | 65/189 [01:23<02:32,  1.23s/it]"
     ]
    },
    {
     "name": "stdout",
     "output_type": "stream",
     "text": [
      "[1/200][65/189] ========== Loss_D: 1.4336, Loss_G: 1.8124, Acc_G: 12/32 = 37.5000\n"
     ]
    },
    {
     "name": "stderr",
     "output_type": "stream",
     "text": [
      " 35%|██████████████████████████████▍                                                        | 66/189 [01:24<02:43,  1.33s/it]"
     ]
    },
    {
     "name": "stdout",
     "output_type": "stream",
     "text": [
      "[1/200][66/189] ========== Loss_D: 1.4151, Loss_G: 1.8606, Acc_G: 10/32 = 31.2500\n"
     ]
    },
    {
     "name": "stderr",
     "output_type": "stream",
     "text": [
      " 35%|██████████████████████████████▊                                                        | 67/189 [01:26<02:32,  1.25s/it]"
     ]
    },
    {
     "name": "stdout",
     "output_type": "stream",
     "text": [
      "[1/200][67/189] ========== Loss_D: 1.4283, Loss_G: 1.9055, Acc_G: 7/32 = 21.8750\n"
     ]
    },
    {
     "name": "stderr",
     "output_type": "stream",
     "text": [
      " 36%|███████████████████████████████▎                                                       | 68/189 [01:26<02:15,  1.12s/it]"
     ]
    },
    {
     "name": "stdout",
     "output_type": "stream",
     "text": [
      "[1/200][68/189] ========== Loss_D: 1.4247, Loss_G: 1.8873, Acc_G: 12/32 = 37.5000\n"
     ]
    },
    {
     "name": "stderr",
     "output_type": "stream",
     "text": [
      " 37%|███████████████████████████████▊                                                       | 69/189 [01:27<02:12,  1.11s/it]"
     ]
    },
    {
     "name": "stdout",
     "output_type": "stream",
     "text": [
      "[1/200][69/189] ========== Loss_D: 1.4302, Loss_G: 1.9068, Acc_G: 4/32 = 12.5000\n"
     ]
    },
    {
     "name": "stderr",
     "output_type": "stream",
     "text": [
      " 37%|████████████████████████████████▏                                                      | 70/189 [01:29<02:11,  1.10s/it]"
     ]
    },
    {
     "name": "stdout",
     "output_type": "stream",
     "text": [
      "[1/200][70/189] ========== Loss_D: 1.4124, Loss_G: 1.8925, Acc_G: 5/32 = 15.6250\n"
     ]
    },
    {
     "name": "stderr",
     "output_type": "stream",
     "text": [
      " 38%|████████████████████████████████▋                                                      | 71/189 [01:30<02:14,  1.14s/it]"
     ]
    },
    {
     "name": "stdout",
     "output_type": "stream",
     "text": [
      "[1/200][71/189] ========== Loss_D: 1.4173, Loss_G: 1.8725, Acc_G: 9/32 = 28.1250\n"
     ]
    },
    {
     "name": "stderr",
     "output_type": "stream",
     "text": [
      " 38%|█████████████████████████████████▏                                                     | 72/189 [01:31<02:15,  1.16s/it]"
     ]
    },
    {
     "name": "stdout",
     "output_type": "stream",
     "text": [
      "[1/200][72/189] ========== Loss_D: 1.4290, Loss_G: 1.9511, Acc_G: 7/32 = 21.8750\n"
     ]
    },
    {
     "name": "stderr",
     "output_type": "stream",
     "text": [
      " 39%|█████████████████████████████████▌                                                     | 73/189 [01:32<02:18,  1.19s/it]"
     ]
    },
    {
     "name": "stdout",
     "output_type": "stream",
     "text": [
      "[1/200][73/189] ========== Loss_D: 1.4241, Loss_G: 1.9564, Acc_G: 9/32 = 28.1250\n"
     ]
    },
    {
     "name": "stderr",
     "output_type": "stream",
     "text": [
      " 39%|██████████████████████████████████                                                     | 74/189 [01:33<02:16,  1.19s/it]"
     ]
    },
    {
     "name": "stdout",
     "output_type": "stream",
     "text": [
      "[1/200][74/189] ========== Loss_D: 1.4251, Loss_G: 1.9561, Acc_G: 8/32 = 25.0000\n"
     ]
    },
    {
     "name": "stderr",
     "output_type": "stream",
     "text": [
      " 40%|██████████████████████████████████▌                                                    | 75/189 [01:35<02:16,  1.20s/it]"
     ]
    },
    {
     "name": "stdout",
     "output_type": "stream",
     "text": [
      "[1/200][75/189] ========== Loss_D: 1.4319, Loss_G: 1.8605, Acc_G: 9/32 = 28.1250\n"
     ]
    },
    {
     "name": "stderr",
     "output_type": "stream",
     "text": [
      " 40%|██████████████████████████████████▉                                                    | 76/189 [01:36<02:20,  1.24s/it]"
     ]
    },
    {
     "name": "stdout",
     "output_type": "stream",
     "text": [
      "[1/200][76/189] ========== Loss_D: 1.4201, Loss_G: 1.9783, Acc_G: 10/32 = 31.2500\n"
     ]
    },
    {
     "name": "stderr",
     "output_type": "stream",
     "text": [
      " 41%|███████████████████████████████████▍                                                   | 77/189 [01:37<02:16,  1.22s/it]"
     ]
    },
    {
     "name": "stdout",
     "output_type": "stream",
     "text": [
      "[1/200][77/189] ========== Loss_D: 1.4191, Loss_G: 1.7997, Acc_G: 5/32 = 15.6250\n"
     ]
    },
    {
     "name": "stderr",
     "output_type": "stream",
     "text": [
      " 41%|███████████████████████████████████▉                                                   | 78/189 [01:38<02:15,  1.22s/it]"
     ]
    },
    {
     "name": "stdout",
     "output_type": "stream",
     "text": [
      "[1/200][78/189] ========== Loss_D: 1.4089, Loss_G: 1.9112, Acc_G: 10/32 = 31.2500\n"
     ]
    },
    {
     "name": "stderr",
     "output_type": "stream",
     "text": [
      " 42%|████████████████████████████████████▎                                                  | 79/189 [01:40<02:14,  1.22s/it]"
     ]
    },
    {
     "name": "stdout",
     "output_type": "stream",
     "text": [
      "[1/200][79/189] ========== Loss_D: 1.4429, Loss_G: 1.7910, Acc_G: 6/32 = 18.7500\n"
     ]
    },
    {
     "name": "stderr",
     "output_type": "stream",
     "text": [
      " 42%|████████████████████████████████████▊                                                  | 80/189 [01:41<02:09,  1.18s/it]"
     ]
    },
    {
     "name": "stdout",
     "output_type": "stream",
     "text": [
      "[1/200][80/189] ========== Loss_D: 1.4236, Loss_G: 1.8148, Acc_G: 10/32 = 31.2500\n"
     ]
    },
    {
     "name": "stderr",
     "output_type": "stream",
     "text": [
      " 43%|█████████████████████████████████████▎                                                 | 81/189 [01:42<02:11,  1.22s/it]"
     ]
    },
    {
     "name": "stdout",
     "output_type": "stream",
     "text": [
      "[1/200][81/189] ========== Loss_D: 1.4273, Loss_G: 1.9407, Acc_G: 10/32 = 31.2500\n"
     ]
    },
    {
     "name": "stderr",
     "output_type": "stream",
     "text": [
      " 43%|█████████████████████████████████████▋                                                 | 82/189 [01:43<02:10,  1.22s/it]"
     ]
    },
    {
     "name": "stdout",
     "output_type": "stream",
     "text": [
      "[1/200][82/189] ========== Loss_D: 1.4272, Loss_G: 1.8184, Acc_G: 11/32 = 34.3750\n"
     ]
    },
    {
     "name": "stderr",
     "output_type": "stream",
     "text": [
      " 44%|██████████████████████████████████████▏                                                | 83/189 [01:44<02:08,  1.21s/it]"
     ]
    },
    {
     "name": "stdout",
     "output_type": "stream",
     "text": [
      "[1/200][83/189] ========== Loss_D: 1.4294, Loss_G: 1.9972, Acc_G: 6/32 = 18.7500\n"
     ]
    },
    {
     "name": "stderr",
     "output_type": "stream",
     "text": [
      " 44%|██████████████████████████████████████▋                                                | 84/189 [01:45<01:59,  1.14s/it]"
     ]
    },
    {
     "name": "stdout",
     "output_type": "stream",
     "text": [
      "[1/200][84/189] ========== Loss_D: 1.4195, Loss_G: 1.8494, Acc_G: 9/32 = 28.1250\n"
     ]
    },
    {
     "name": "stderr",
     "output_type": "stream",
     "text": [
      " 45%|███████████████████████████████████████▏                                               | 85/189 [01:47<02:03,  1.18s/it]"
     ]
    },
    {
     "name": "stdout",
     "output_type": "stream",
     "text": [
      "[1/200][85/189] ========== Loss_D: 1.4242, Loss_G: 1.8618, Acc_G: 5/32 = 15.6250\n"
     ]
    },
    {
     "name": "stderr",
     "output_type": "stream",
     "text": [
      " 46%|███████████████████████████████████████▌                                               | 86/189 [01:48<01:58,  1.15s/it]"
     ]
    },
    {
     "name": "stdout",
     "output_type": "stream",
     "text": [
      "[1/200][86/189] ========== Loss_D: 1.4352, Loss_G: 1.9041, Acc_G: 6/32 = 18.7500\n"
     ]
    },
    {
     "name": "stderr",
     "output_type": "stream",
     "text": [
      " 46%|████████████████████████████████████████                                               | 87/189 [01:49<01:59,  1.17s/it]"
     ]
    },
    {
     "name": "stdout",
     "output_type": "stream",
     "text": [
      "[1/200][87/189] ========== Loss_D: 1.4273, Loss_G: 1.8514, Acc_G: 9/32 = 28.1250\n"
     ]
    },
    {
     "name": "stderr",
     "output_type": "stream",
     "text": [
      " 47%|████████████████████████████████████████▌                                              | 88/189 [01:50<02:03,  1.22s/it]"
     ]
    },
    {
     "name": "stdout",
     "output_type": "stream",
     "text": [
      "[1/200][88/189] ========== Loss_D: 1.4370, Loss_G: 1.8215, Acc_G: 8/32 = 25.0000\n"
     ]
    },
    {
     "name": "stderr",
     "output_type": "stream",
     "text": [
      " 47%|████████████████████████████████████████▉                                              | 89/189 [01:51<01:52,  1.12s/it]"
     ]
    },
    {
     "name": "stdout",
     "output_type": "stream",
     "text": [
      "[1/200][89/189] ========== Loss_D: 1.4383, Loss_G: 1.9067, Acc_G: 9/32 = 28.1250\n"
     ]
    },
    {
     "name": "stderr",
     "output_type": "stream",
     "text": [
      " 48%|█████████████████████████████████████████▍                                             | 90/189 [01:52<01:52,  1.14s/it]"
     ]
    },
    {
     "name": "stdout",
     "output_type": "stream",
     "text": [
      "[1/200][90/189] ========== Loss_D: 1.4302, Loss_G: 1.8674, Acc_G: 6/32 = 18.7500\n"
     ]
    },
    {
     "name": "stderr",
     "output_type": "stream",
     "text": [
      " 48%|█████████████████████████████████████████▉                                             | 91/189 [01:53<01:51,  1.14s/it]"
     ]
    },
    {
     "name": "stdout",
     "output_type": "stream",
     "text": [
      "[1/200][91/189] ========== Loss_D: 1.4306, Loss_G: 1.8696, Acc_G: 5/32 = 15.6250\n"
     ]
    },
    {
     "name": "stderr",
     "output_type": "stream",
     "text": [
      " 49%|██████████████████████████████████████████▎                                            | 92/189 [01:55<01:50,  1.14s/it]"
     ]
    },
    {
     "name": "stdout",
     "output_type": "stream",
     "text": [
      "[1/200][92/189] ========== Loss_D: 1.4413, Loss_G: 1.8988, Acc_G: 10/32 = 31.2500\n"
     ]
    },
    {
     "name": "stderr",
     "output_type": "stream",
     "text": [
      " 49%|██████████████████████████████████████████▊                                            | 93/189 [01:56<01:46,  1.11s/it]"
     ]
    },
    {
     "name": "stdout",
     "output_type": "stream",
     "text": [
      "[1/200][93/189] ========== Loss_D: 1.4398, Loss_G: 1.9630, Acc_G: 8/32 = 25.0000\n"
     ]
    },
    {
     "name": "stderr",
     "output_type": "stream",
     "text": [
      " 50%|███████████████████████████████████████████▎                                           | 94/189 [01:57<01:39,  1.04s/it]"
     ]
    },
    {
     "name": "stdout",
     "output_type": "stream",
     "text": [
      "[1/200][94/189] ========== Loss_D: 1.4112, Loss_G: 1.8100, Acc_G: 8/32 = 25.0000\n"
     ]
    },
    {
     "name": "stderr",
     "output_type": "stream",
     "text": [
      " 50%|███████████████████████████████████████████▋                                           | 95/189 [01:58<01:38,  1.05s/it]"
     ]
    },
    {
     "name": "stdout",
     "output_type": "stream",
     "text": [
      "[1/200][95/189] ========== Loss_D: 1.4251, Loss_G: 1.9152, Acc_G: 8/32 = 25.0000\n"
     ]
    },
    {
     "name": "stderr",
     "output_type": "stream",
     "text": [
      " 51%|████████████████████████████████████████████▏                                          | 96/189 [01:59<01:50,  1.19s/it]"
     ]
    },
    {
     "name": "stdout",
     "output_type": "stream",
     "text": [
      "[1/200][96/189] ========== Loss_D: 1.4347, Loss_G: 1.8420, Acc_G: 8/32 = 25.0000\n"
     ]
    },
    {
     "name": "stderr",
     "output_type": "stream",
     "text": [
      " 51%|████████████████████████████████████████████▋                                          | 97/189 [02:01<01:54,  1.24s/it]"
     ]
    },
    {
     "name": "stdout",
     "output_type": "stream",
     "text": [
      "[1/200][97/189] ========== Loss_D: 1.4218, Loss_G: 1.8138, Acc_G: 10/32 = 31.2500\n"
     ]
    },
    {
     "name": "stderr",
     "output_type": "stream",
     "text": [
      " 52%|█████████████████████████████████████████████                                          | 98/189 [02:01<01:45,  1.16s/it]"
     ]
    },
    {
     "name": "stdout",
     "output_type": "stream",
     "text": [
      "[1/200][98/189] ========== Loss_D: 1.4235, Loss_G: 1.8327, Acc_G: 11/32 = 34.3750\n"
     ]
    },
    {
     "name": "stderr",
     "output_type": "stream",
     "text": [
      " 52%|█████████████████████████████████████████████▌                                         | 99/189 [02:03<01:44,  1.17s/it]"
     ]
    },
    {
     "name": "stdout",
     "output_type": "stream",
     "text": [
      "[1/200][99/189] ========== Loss_D: 1.4161, Loss_G: 1.9833, Acc_G: 6/32 = 18.7500\n"
     ]
    },
    {
     "name": "stderr",
     "output_type": "stream",
     "text": [
      " 53%|█████████████████████████████████████████████▌                                        | 100/189 [02:04<01:40,  1.13s/it]"
     ]
    },
    {
     "name": "stdout",
     "output_type": "stream",
     "text": [
      "[1/200][100/189] ========== Loss_D: 1.4354, Loss_G: 1.9109, Acc_G: 10/32 = 31.2500\n"
     ]
    },
    {
     "name": "stderr",
     "output_type": "stream",
     "text": [
      " 53%|█████████████████████████████████████████████▉                                        | 101/189 [02:05<01:34,  1.08s/it]"
     ]
    },
    {
     "name": "stdout",
     "output_type": "stream",
     "text": [
      "[1/200][101/189] ========== Loss_D: 1.4205, Loss_G: 1.8456, Acc_G: 10/32 = 31.2500\n"
     ]
    },
    {
     "name": "stderr",
     "output_type": "stream",
     "text": [
      " 54%|██████████████████████████████████████████████▍                                       | 102/189 [02:06<01:34,  1.09s/it]"
     ]
    },
    {
     "name": "stdout",
     "output_type": "stream",
     "text": [
      "[1/200][102/189] ========== Loss_D: 1.4236, Loss_G: 1.8459, Acc_G: 10/32 = 31.2500\n"
     ]
    },
    {
     "name": "stderr",
     "output_type": "stream",
     "text": [
      " 54%|██████████████████████████████████████████████▊                                       | 103/189 [02:07<01:35,  1.12s/it]"
     ]
    },
    {
     "name": "stdout",
     "output_type": "stream",
     "text": [
      "[1/200][103/189] ========== Loss_D: 1.4264, Loss_G: 1.8090, Acc_G: 10/32 = 31.2500\n"
     ]
    },
    {
     "name": "stderr",
     "output_type": "stream",
     "text": [
      " 55%|███████████████████████████████████████████████▎                                      | 104/189 [02:08<01:40,  1.18s/it]"
     ]
    },
    {
     "name": "stdout",
     "output_type": "stream",
     "text": [
      "[1/200][104/189] ========== Loss_D: 1.4309, Loss_G: 1.8551, Acc_G: 4/32 = 12.5000\n"
     ]
    },
    {
     "name": "stderr",
     "output_type": "stream",
     "text": [
      " 56%|███████████████████████████████████████████████▊                                      | 105/189 [02:10<01:41,  1.20s/it]"
     ]
    },
    {
     "name": "stdout",
     "output_type": "stream",
     "text": [
      "[1/200][105/189] ========== Loss_D: 1.4279, Loss_G: 1.8514, Acc_G: 10/32 = 31.2500\n"
     ]
    },
    {
     "name": "stderr",
     "output_type": "stream",
     "text": [
      " 56%|████████████████████████████████████████████████▏                                     | 106/189 [02:11<01:39,  1.19s/it]"
     ]
    },
    {
     "name": "stdout",
     "output_type": "stream",
     "text": [
      "[1/200][106/189] ========== Loss_D: 1.4195, Loss_G: 1.8327, Acc_G: 10/32 = 31.2500\n"
     ]
    },
    {
     "name": "stderr",
     "output_type": "stream",
     "text": [
      " 57%|████████████████████████████████████████████████▋                                     | 107/189 [02:12<01:43,  1.27s/it]"
     ]
    },
    {
     "name": "stdout",
     "output_type": "stream",
     "text": [
      "[1/200][107/189] ========== Loss_D: 1.4146, Loss_G: 1.9515, Acc_G: 10/32 = 31.2500\n"
     ]
    },
    {
     "name": "stderr",
     "output_type": "stream",
     "text": [
      " 57%|█████████████████████████████████████████████████▏                                    | 108/189 [02:14<01:51,  1.38s/it]"
     ]
    },
    {
     "name": "stdout",
     "output_type": "stream",
     "text": [
      "[1/200][108/189] ========== Loss_D: 1.4090, Loss_G: 1.9377, Acc_G: 7/32 = 21.8750\n"
     ]
    },
    {
     "name": "stderr",
     "output_type": "stream",
     "text": [
      " 58%|█████████████████████████████████████████████████▌                                    | 109/189 [02:15<01:52,  1.40s/it]"
     ]
    },
    {
     "name": "stdout",
     "output_type": "stream",
     "text": [
      "[1/200][109/189] ========== Loss_D: 1.4316, Loss_G: 1.8572, Acc_G: 10/32 = 31.2500\n"
     ]
    },
    {
     "name": "stderr",
     "output_type": "stream",
     "text": [
      " 58%|██████████████████████████████████████████████████                                    | 110/189 [02:17<01:47,  1.37s/it]"
     ]
    },
    {
     "name": "stdout",
     "output_type": "stream",
     "text": [
      "[1/200][110/189] ========== Loss_D: 1.4187, Loss_G: 1.8627, Acc_G: 4/32 = 12.5000\n"
     ]
    },
    {
     "name": "stderr",
     "output_type": "stream",
     "text": [
      " 59%|██████████████████████████████████████████████████▌                                   | 111/189 [02:18<01:39,  1.27s/it]"
     ]
    },
    {
     "name": "stdout",
     "output_type": "stream",
     "text": [
      "[1/200][111/189] ========== Loss_D: 1.4205, Loss_G: 2.0168, Acc_G: 6/32 = 18.7500\n"
     ]
    },
    {
     "name": "stderr",
     "output_type": "stream",
     "text": [
      " 59%|██████████████████████████████████████████████████▉                                   | 112/189 [02:19<01:33,  1.21s/it]"
     ]
    },
    {
     "name": "stdout",
     "output_type": "stream",
     "text": [
      "[1/200][112/189] ========== Loss_D: 1.4373, Loss_G: 1.9370, Acc_G: 10/32 = 31.2500\n"
     ]
    },
    {
     "name": "stderr",
     "output_type": "stream",
     "text": [
      " 60%|███████████████████████████████████████████████████▍                                  | 113/189 [02:20<01:32,  1.22s/it]"
     ]
    },
    {
     "name": "stdout",
     "output_type": "stream",
     "text": [
      "[1/200][113/189] ========== Loss_D: 1.4260, Loss_G: 1.8980, Acc_G: 8/32 = 25.0000\n"
     ]
    },
    {
     "name": "stderr",
     "output_type": "stream",
     "text": [
      " 60%|███████████████████████████████████████████████████▊                                  | 114/189 [02:21<01:33,  1.24s/it]"
     ]
    },
    {
     "name": "stdout",
     "output_type": "stream",
     "text": [
      "[1/200][114/189] ========== Loss_D: 1.4225, Loss_G: 1.9635, Acc_G: 11/32 = 34.3750\n"
     ]
    },
    {
     "name": "stderr",
     "output_type": "stream",
     "text": [
      " 61%|████████████████████████████████████████████████████▎                                 | 115/189 [02:22<01:33,  1.27s/it]"
     ]
    },
    {
     "name": "stdout",
     "output_type": "stream",
     "text": [
      "[1/200][115/189] ========== Loss_D: 1.4486, Loss_G: 1.8911, Acc_G: 8/32 = 25.0000\n"
     ]
    },
    {
     "name": "stderr",
     "output_type": "stream",
     "text": [
      " 61%|████████████████████████████████████████████████████▊                                 | 116/189 [02:23<01:25,  1.18s/it]"
     ]
    },
    {
     "name": "stdout",
     "output_type": "stream",
     "text": [
      "[1/200][116/189] ========== Loss_D: 1.4401, Loss_G: 1.8429, Acc_G: 13/32 = 40.6250\n"
     ]
    },
    {
     "name": "stderr",
     "output_type": "stream",
     "text": [
      " 62%|█████████████████████████████████████████████████████▏                                | 117/189 [02:25<01:33,  1.30s/it]"
     ]
    },
    {
     "name": "stdout",
     "output_type": "stream",
     "text": [
      "[1/200][117/189] ========== Loss_D: 1.4135, Loss_G: 1.8768, Acc_G: 8/32 = 25.0000\n"
     ]
    },
    {
     "name": "stderr",
     "output_type": "stream",
     "text": [
      " 62%|█████████████████████████████████████████████████████▋                                | 118/189 [02:26<01:27,  1.24s/it]"
     ]
    },
    {
     "name": "stdout",
     "output_type": "stream",
     "text": [
      "[1/200][118/189] ========== Loss_D: 1.4405, Loss_G: 1.9594, Acc_G: 12/32 = 37.5000\n"
     ]
    },
    {
     "name": "stderr",
     "output_type": "stream",
     "text": [
      " 63%|██████████████████████████████████████████████████████▏                               | 119/189 [02:27<01:27,  1.25s/it]"
     ]
    },
    {
     "name": "stdout",
     "output_type": "stream",
     "text": [
      "[1/200][119/189] ========== Loss_D: 1.4143, Loss_G: 1.9140, Acc_G: 8/32 = 25.0000\n"
     ]
    },
    {
     "name": "stderr",
     "output_type": "stream",
     "text": [
      " 63%|██████████████████████████████████████████████████████▌                               | 120/189 [02:28<01:21,  1.18s/it]"
     ]
    },
    {
     "name": "stdout",
     "output_type": "stream",
     "text": [
      "[1/200][120/189] ========== Loss_D: 1.4332, Loss_G: 1.8786, Acc_G: 14/32 = 43.7500\n"
     ]
    },
    {
     "name": "stderr",
     "output_type": "stream",
     "text": [
      " 64%|███████████████████████████████████████████████████████                               | 121/189 [02:30<01:20,  1.18s/it]"
     ]
    },
    {
     "name": "stdout",
     "output_type": "stream",
     "text": [
      "[1/200][121/189] ========== Loss_D: 1.4311, Loss_G: 1.9442, Acc_G: 10/32 = 31.2500\n"
     ]
    },
    {
     "name": "stderr",
     "output_type": "stream",
     "text": [
      " 65%|███████████████████████████████████████████████████████▌                              | 122/189 [02:31<01:17,  1.15s/it]"
     ]
    },
    {
     "name": "stdout",
     "output_type": "stream",
     "text": [
      "[1/200][122/189] ========== Loss_D: 1.4470, Loss_G: 1.8982, Acc_G: 5/32 = 15.6250\n"
     ]
    },
    {
     "name": "stderr",
     "output_type": "stream",
     "text": [
      " 65%|███████████████████████████████████████████████████████▉                              | 123/189 [02:32<01:12,  1.11s/it]"
     ]
    },
    {
     "name": "stdout",
     "output_type": "stream",
     "text": [
      "[1/200][123/189] ========== Loss_D: 1.4329, Loss_G: 1.8020, Acc_G: 14/32 = 43.7500\n"
     ]
    },
    {
     "name": "stderr",
     "output_type": "stream",
     "text": [
      " 66%|████████████████████████████████████████████████████████▍                             | 124/189 [02:33<01:09,  1.08s/it]"
     ]
    },
    {
     "name": "stdout",
     "output_type": "stream",
     "text": [
      "[1/200][124/189] ========== Loss_D: 1.4202, Loss_G: 1.7515, Acc_G: 11/32 = 34.3750\n",
      "---------------------< lowest loss update -> 3.1717514991760254 >---------------------\n"
     ]
    },
    {
     "name": "stderr",
     "output_type": "stream",
     "text": [
      " 66%|████████████████████████████████████████████████████████▉                             | 125/189 [02:34<01:10,  1.11s/it]"
     ]
    },
    {
     "name": "stdout",
     "output_type": "stream",
     "text": [
      "[1/200][125/189] ========== Loss_D: 1.4269, Loss_G: 1.8173, Acc_G: 7/32 = 21.8750\n"
     ]
    },
    {
     "name": "stderr",
     "output_type": "stream",
     "text": [
      " 67%|█████████████████████████████████████████████████████████▎                            | 126/189 [02:35<01:12,  1.15s/it]"
     ]
    },
    {
     "name": "stdout",
     "output_type": "stream",
     "text": [
      "[1/200][126/189] ========== Loss_D: 1.4366, Loss_G: 1.8183, Acc_G: 8/32 = 25.0000\n"
     ]
    },
    {
     "name": "stderr",
     "output_type": "stream",
     "text": [
      " 67%|█████████████████████████████████████████████████████████▊                            | 127/189 [02:36<01:12,  1.17s/it]"
     ]
    },
    {
     "name": "stdout",
     "output_type": "stream",
     "text": [
      "[1/200][127/189] ========== Loss_D: 1.4331, Loss_G: 1.9302, Acc_G: 9/32 = 28.1250\n"
     ]
    },
    {
     "name": "stderr",
     "output_type": "stream",
     "text": [
      " 68%|██████████████████████████████████████████████████████████▏                           | 128/189 [02:38<01:16,  1.25s/it]"
     ]
    },
    {
     "name": "stdout",
     "output_type": "stream",
     "text": [
      "[1/200][128/189] ========== Loss_D: 1.4134, Loss_G: 1.9116, Acc_G: 6/32 = 18.7500\n"
     ]
    },
    {
     "name": "stderr",
     "output_type": "stream",
     "text": [
      " 68%|██████████████████████████████████████████████████████████▋                           | 129/189 [02:39<01:17,  1.28s/it]"
     ]
    },
    {
     "name": "stdout",
     "output_type": "stream",
     "text": [
      "[1/200][129/189] ========== Loss_D: 1.4340, Loss_G: 1.9588, Acc_G: 10/32 = 31.2500\n"
     ]
    },
    {
     "name": "stderr",
     "output_type": "stream",
     "text": [
      " 69%|███████████████████████████████████████████████████████████▏                          | 130/189 [02:40<01:14,  1.26s/it]"
     ]
    },
    {
     "name": "stdout",
     "output_type": "stream",
     "text": [
      "[1/200][130/189] ========== Loss_D: 1.4274, Loss_G: 2.0111, Acc_G: 11/32 = 34.3750\n"
     ]
    },
    {
     "name": "stderr",
     "output_type": "stream",
     "text": [
      " 69%|███████████████████████████████████████████████████████████▌                          | 131/189 [02:42<01:14,  1.28s/it]"
     ]
    },
    {
     "name": "stdout",
     "output_type": "stream",
     "text": [
      "[1/200][131/189] ========== Loss_D: 1.4303, Loss_G: 1.9155, Acc_G: 9/32 = 28.1250\n"
     ]
    },
    {
     "name": "stderr",
     "output_type": "stream",
     "text": [
      " 70%|████████████████████████████████████████████████████████████                          | 132/189 [02:43<01:11,  1.26s/it]"
     ]
    },
    {
     "name": "stdout",
     "output_type": "stream",
     "text": [
      "[1/200][132/189] ========== Loss_D: 1.4235, Loss_G: 1.9850, Acc_G: 8/32 = 25.0000\n"
     ]
    },
    {
     "name": "stderr",
     "output_type": "stream",
     "text": [
      " 70%|████████████████████████████████████████████████████████████▌                         | 133/189 [02:44<01:13,  1.31s/it]"
     ]
    },
    {
     "name": "stdout",
     "output_type": "stream",
     "text": [
      "[1/200][133/189] ========== Loss_D: 1.4380, Loss_G: 1.8391, Acc_G: 7/32 = 21.8750\n"
     ]
    },
    {
     "name": "stderr",
     "output_type": "stream",
     "text": [
      " 71%|████████████████████████████████████████████████████████████▉                         | 134/189 [02:46<01:16,  1.38s/it]"
     ]
    },
    {
     "name": "stdout",
     "output_type": "stream",
     "text": [
      "[1/200][134/189] ========== Loss_D: 1.4289, Loss_G: 1.8389, Acc_G: 7/32 = 21.8750\n"
     ]
    },
    {
     "name": "stderr",
     "output_type": "stream",
     "text": [
      " 71%|█████████████████████████████████████████████████████████████▍                        | 135/189 [02:47<01:11,  1.32s/it]"
     ]
    },
    {
     "name": "stdout",
     "output_type": "stream",
     "text": [
      "[1/200][135/189] ========== Loss_D: 1.4410, Loss_G: 1.8732, Acc_G: 7/32 = 21.8750\n"
     ]
    },
    {
     "name": "stderr",
     "output_type": "stream",
     "text": [
      " 72%|█████████████████████████████████████████████████████████████▉                        | 136/189 [02:48<01:09,  1.31s/it]"
     ]
    },
    {
     "name": "stdout",
     "output_type": "stream",
     "text": [
      "[1/200][136/189] ========== Loss_D: 1.4265, Loss_G: 1.9115, Acc_G: 15/32 = 46.8750\n"
     ]
    },
    {
     "name": "stderr",
     "output_type": "stream",
     "text": [
      " 72%|██████████████████████████████████████████████████████████████▎                       | 137/189 [02:50<01:06,  1.27s/it]"
     ]
    },
    {
     "name": "stdout",
     "output_type": "stream",
     "text": [
      "[1/200][137/189] ========== Loss_D: 1.4157, Loss_G: 1.8653, Acc_G: 8/32 = 25.0000\n"
     ]
    },
    {
     "name": "stderr",
     "output_type": "stream",
     "text": [
      " 73%|██████████████████████████████████████████████████████████████▊                       | 138/189 [02:51<01:04,  1.27s/it]"
     ]
    },
    {
     "name": "stdout",
     "output_type": "stream",
     "text": [
      "[1/200][138/189] ========== Loss_D: 1.4198, Loss_G: 1.8903, Acc_G: 11/32 = 34.3750\n"
     ]
    },
    {
     "name": "stderr",
     "output_type": "stream",
     "text": [
      " 74%|███████████████████████████████████████████████████████████████▏                      | 139/189 [02:52<01:10,  1.40s/it]"
     ]
    },
    {
     "name": "stdout",
     "output_type": "stream",
     "text": [
      "[1/200][139/189] ========== Loss_D: 1.4288, Loss_G: 1.7339, Acc_G: 9/32 = 28.1250\n",
      "---------------------< lowest loss update -> 3.1626687049865723 >---------------------\n"
     ]
    },
    {
     "name": "stderr",
     "output_type": "stream",
     "text": [
      " 74%|███████████████████████████████████████████████████████████████▋                      | 140/189 [02:54<01:09,  1.42s/it]"
     ]
    },
    {
     "name": "stdout",
     "output_type": "stream",
     "text": [
      "[1/200][140/189] ========== Loss_D: 1.4266, Loss_G: 1.7785, Acc_G: 11/32 = 34.3750\n"
     ]
    },
    {
     "name": "stderr",
     "output_type": "stream",
     "text": [
      " 75%|████████████████████████████████████████████████████████████████▏                     | 141/189 [02:55<01:03,  1.33s/it]"
     ]
    },
    {
     "name": "stdout",
     "output_type": "stream",
     "text": [
      "[1/200][141/189] ========== Loss_D: 1.4234, Loss_G: 1.9187, Acc_G: 10/32 = 31.2500\n"
     ]
    },
    {
     "name": "stderr",
     "output_type": "stream",
     "text": [
      " 75%|████████████████████████████████████████████████████████████████▌                     | 142/189 [02:56<01:02,  1.32s/it]"
     ]
    },
    {
     "name": "stdout",
     "output_type": "stream",
     "text": [
      "[1/200][142/189] ========== Loss_D: 1.4190, Loss_G: 2.0045, Acc_G: 8/32 = 25.0000\n"
     ]
    },
    {
     "name": "stderr",
     "output_type": "stream",
     "text": [
      " 76%|█████████████████████████████████████████████████████████████████                     | 143/189 [02:58<01:01,  1.34s/it]"
     ]
    },
    {
     "name": "stdout",
     "output_type": "stream",
     "text": [
      "[1/200][143/189] ========== Loss_D: 1.4246, Loss_G: 1.9555, Acc_G: 11/32 = 34.3750\n"
     ]
    },
    {
     "name": "stderr",
     "output_type": "stream",
     "text": [
      " 76%|█████████████████████████████████████████████████████████████████▌                    | 144/189 [02:59<00:58,  1.30s/it]"
     ]
    },
    {
     "name": "stdout",
     "output_type": "stream",
     "text": [
      "[1/200][144/189] ========== Loss_D: 1.4325, Loss_G: 1.7149, Acc_G: 8/32 = 25.0000\n",
      "---------------------< lowest loss update -> 3.147378921508789 >---------------------\n"
     ]
    },
    {
     "name": "stderr",
     "output_type": "stream",
     "text": [
      " 77%|█████████████████████████████████████████████████████████████████▉                    | 145/189 [03:00<00:57,  1.30s/it]"
     ]
    },
    {
     "name": "stdout",
     "output_type": "stream",
     "text": [
      "[1/200][145/189] ========== Loss_D: 1.4230, Loss_G: 1.9448, Acc_G: 6/32 = 18.7500\n"
     ]
    },
    {
     "name": "stderr",
     "output_type": "stream",
     "text": [
      " 77%|██████████████████████████████████████████████████████████████████▍                   | 146/189 [03:01<00:53,  1.25s/it]"
     ]
    },
    {
     "name": "stdout",
     "output_type": "stream",
     "text": [
      "[1/200][146/189] ========== Loss_D: 1.4297, Loss_G: 1.7578, Acc_G: 11/32 = 34.3750\n"
     ]
    },
    {
     "name": "stderr",
     "output_type": "stream",
     "text": [
      " 78%|██████████████████████████████████████████████████████████████████▉                   | 147/189 [03:03<00:50,  1.21s/it]"
     ]
    },
    {
     "name": "stdout",
     "output_type": "stream",
     "text": [
      "[1/200][147/189] ========== Loss_D: 1.4382, Loss_G: 1.9641, Acc_G: 10/32 = 31.2500\n"
     ]
    },
    {
     "name": "stderr",
     "output_type": "stream",
     "text": [
      " 78%|███████████████████████████████████████████████████████████████████▎                  | 148/189 [03:04<00:50,  1.22s/it]"
     ]
    },
    {
     "name": "stdout",
     "output_type": "stream",
     "text": [
      "[1/200][148/189] ========== Loss_D: 1.4242, Loss_G: 1.9284, Acc_G: 7/32 = 21.8750\n"
     ]
    },
    {
     "name": "stderr",
     "output_type": "stream",
     "text": [
      " 79%|███████████████████████████████████████████████████████████████████▊                  | 149/189 [03:05<00:47,  1.18s/it]"
     ]
    },
    {
     "name": "stdout",
     "output_type": "stream",
     "text": [
      "[1/200][149/189] ========== Loss_D: 1.4267, Loss_G: 1.8688, Acc_G: 10/32 = 31.2500\n"
     ]
    },
    {
     "name": "stderr",
     "output_type": "stream",
     "text": [
      " 79%|████████████████████████████████████████████████████████████████████▎                 | 150/189 [03:06<00:48,  1.23s/it]"
     ]
    },
    {
     "name": "stdout",
     "output_type": "stream",
     "text": [
      "[1/200][150/189] ========== Loss_D: 1.4227, Loss_G: 1.8901, Acc_G: 9/32 = 28.1250\n"
     ]
    },
    {
     "name": "stderr",
     "output_type": "stream",
     "text": [
      " 80%|████████████████████████████████████████████████████████████████████▋                 | 151/189 [03:08<00:51,  1.35s/it]"
     ]
    },
    {
     "name": "stdout",
     "output_type": "stream",
     "text": [
      "[1/200][151/189] ========== Loss_D: 1.4309, Loss_G: 1.8316, Acc_G: 10/32 = 31.2500\n"
     ]
    },
    {
     "name": "stderr",
     "output_type": "stream",
     "text": [
      " 80%|█████████████████████████████████████████████████████████████████████▏                | 152/189 [03:09<00:49,  1.33s/it]"
     ]
    },
    {
     "name": "stdout",
     "output_type": "stream",
     "text": [
      "[1/200][152/189] ========== Loss_D: 1.4315, Loss_G: 1.8302, Acc_G: 9/32 = 28.1250\n"
     ]
    },
    {
     "name": "stderr",
     "output_type": "stream",
     "text": [
      " 81%|█████████████████████████████████████████████████████████████████████▌                | 153/189 [03:11<00:52,  1.47s/it]"
     ]
    },
    {
     "name": "stdout",
     "output_type": "stream",
     "text": [
      "[1/200][153/189] ========== Loss_D: 1.4262, Loss_G: 1.7908, Acc_G: 5/32 = 15.6250\n"
     ]
    },
    {
     "name": "stderr",
     "output_type": "stream",
     "text": [
      " 81%|██████████████████████████████████████████████████████████████████████                | 154/189 [03:12<00:48,  1.39s/it]"
     ]
    },
    {
     "name": "stdout",
     "output_type": "stream",
     "text": [
      "[1/200][154/189] ========== Loss_D: 1.4099, Loss_G: 1.9181, Acc_G: 11/32 = 34.3750\n"
     ]
    },
    {
     "name": "stderr",
     "output_type": "stream",
     "text": [
      " 82%|██████████████████████████████████████████████████████████████████████▌               | 155/189 [03:13<00:42,  1.26s/it]"
     ]
    },
    {
     "name": "stdout",
     "output_type": "stream",
     "text": [
      "[1/200][155/189] ========== Loss_D: 1.4408, Loss_G: 1.7882, Acc_G: 11/32 = 34.3750\n"
     ]
    },
    {
     "name": "stderr",
     "output_type": "stream",
     "text": [
      " 83%|██████████████████████████████████████████████████████████████████████▉               | 156/189 [03:14<00:39,  1.19s/it]"
     ]
    },
    {
     "name": "stdout",
     "output_type": "stream",
     "text": [
      "[1/200][156/189] ========== Loss_D: 1.4219, Loss_G: 1.9255, Acc_G: 7/32 = 21.8750\n"
     ]
    },
    {
     "name": "stderr",
     "output_type": "stream",
     "text": [
      " 83%|███████████████████████████████████████████████████████████████████████▍              | 157/189 [03:16<00:40,  1.28s/it]"
     ]
    },
    {
     "name": "stdout",
     "output_type": "stream",
     "text": [
      "[1/200][157/189] ========== Loss_D: 1.4334, Loss_G: 1.8333, Acc_G: 7/32 = 21.8750\n"
     ]
    },
    {
     "name": "stderr",
     "output_type": "stream",
     "text": [
      " 84%|███████████████████████████████████████████████████████████████████████▉              | 158/189 [03:17<00:41,  1.35s/it]"
     ]
    },
    {
     "name": "stdout",
     "output_type": "stream",
     "text": [
      "[1/200][158/189] ========== Loss_D: 1.4329, Loss_G: 1.9197, Acc_G: 10/32 = 31.2500\n"
     ]
    },
    {
     "name": "stderr",
     "output_type": "stream",
     "text": [
      " 84%|████████████████████████████████████████████████████████████████████████▎             | 159/189 [03:18<00:40,  1.34s/it]"
     ]
    },
    {
     "name": "stdout",
     "output_type": "stream",
     "text": [
      "[1/200][159/189] ========== Loss_D: 1.4217, Loss_G: 1.8267, Acc_G: 14/32 = 43.7500\n"
     ]
    },
    {
     "name": "stderr",
     "output_type": "stream",
     "text": [
      " 85%|████████████████████████████████████████████████████████████████████████▊             | 160/189 [03:20<00:38,  1.33s/it]"
     ]
    },
    {
     "name": "stdout",
     "output_type": "stream",
     "text": [
      "[1/200][160/189] ========== Loss_D: 1.4312, Loss_G: 1.7740, Acc_G: 11/32 = 34.3750\n"
     ]
    },
    {
     "name": "stderr",
     "output_type": "stream",
     "text": [
      " 85%|█████████████████████████████████████████████████████████████████████████▎            | 161/189 [03:21<00:36,  1.30s/it]"
     ]
    },
    {
     "name": "stdout",
     "output_type": "stream",
     "text": [
      "[1/200][161/189] ========== Loss_D: 1.4198, Loss_G: 1.9818, Acc_G: 7/32 = 21.8750\n"
     ]
    },
    {
     "name": "stderr",
     "output_type": "stream",
     "text": [
      " 86%|█████████████████████████████████████████████████████████████████████████▋            | 162/189 [03:23<00:37,  1.37s/it]"
     ]
    },
    {
     "name": "stdout",
     "output_type": "stream",
     "text": [
      "[1/200][162/189] ========== Loss_D: 1.4447, Loss_G: 1.8134, Acc_G: 9/32 = 28.1250\n"
     ]
    },
    {
     "name": "stderr",
     "output_type": "stream",
     "text": [
      " 86%|██████████████████████████████████████████████████████████████████████████▏           | 163/189 [03:24<00:35,  1.37s/it]"
     ]
    },
    {
     "name": "stdout",
     "output_type": "stream",
     "text": [
      "[1/200][163/189] ========== Loss_D: 1.4162, Loss_G: 1.8191, Acc_G: 8/32 = 25.0000\n"
     ]
    },
    {
     "name": "stderr",
     "output_type": "stream",
     "text": [
      " 87%|██████████████████████████████████████████████████████████████████████████▌           | 164/189 [03:25<00:33,  1.32s/it]"
     ]
    },
    {
     "name": "stdout",
     "output_type": "stream",
     "text": [
      "[1/200][164/189] ========== Loss_D: 1.4293, Loss_G: 1.8943, Acc_G: 7/32 = 21.8750\n"
     ]
    },
    {
     "name": "stderr",
     "output_type": "stream",
     "text": [
      " 87%|███████████████████████████████████████████████████████████████████████████           | 165/189 [03:26<00:30,  1.27s/it]"
     ]
    },
    {
     "name": "stdout",
     "output_type": "stream",
     "text": [
      "[1/200][165/189] ========== Loss_D: 1.4431, Loss_G: 1.9315, Acc_G: 8/32 = 25.0000\n"
     ]
    },
    {
     "name": "stderr",
     "output_type": "stream",
     "text": [
      " 88%|███████████████████████████████████████████████████████████████████████████▌          | 166/189 [03:27<00:29,  1.27s/it]"
     ]
    },
    {
     "name": "stdout",
     "output_type": "stream",
     "text": [
      "[1/200][166/189] ========== Loss_D: 1.4301, Loss_G: 1.8732, Acc_G: 9/32 = 28.1250\n"
     ]
    },
    {
     "name": "stderr",
     "output_type": "stream",
     "text": [
      " 88%|███████████████████████████████████████████████████████████████████████████▉          | 167/189 [03:29<00:30,  1.37s/it]"
     ]
    },
    {
     "name": "stdout",
     "output_type": "stream",
     "text": [
      "[1/200][167/189] ========== Loss_D: 1.4406, Loss_G: 1.8509, Acc_G: 12/32 = 37.5000\n"
     ]
    },
    {
     "name": "stderr",
     "output_type": "stream",
     "text": [
      " 89%|████████████████████████████████████████████████████████████████████████████▍         | 168/189 [03:30<00:27,  1.32s/it]"
     ]
    },
    {
     "name": "stdout",
     "output_type": "stream",
     "text": [
      "[1/200][168/189] ========== Loss_D: 1.4229, Loss_G: 1.9711, Acc_G: 11/32 = 34.3750\n"
     ]
    },
    {
     "name": "stderr",
     "output_type": "stream",
     "text": [
      " 89%|████████████████████████████████████████████████████████████████████████████▉         | 169/189 [03:32<00:27,  1.35s/it]"
     ]
    },
    {
     "name": "stdout",
     "output_type": "stream",
     "text": [
      "[1/200][169/189] ========== Loss_D: 1.4194, Loss_G: 1.8876, Acc_G: 7/32 = 21.8750\n"
     ]
    },
    {
     "name": "stderr",
     "output_type": "stream",
     "text": [
      " 90%|█████████████████████████████████████████████████████████████████████████████▎        | 170/189 [03:33<00:24,  1.29s/it]"
     ]
    },
    {
     "name": "stdout",
     "output_type": "stream",
     "text": [
      "[1/200][170/189] ========== Loss_D: 1.4199, Loss_G: 1.9495, Acc_G: 8/32 = 25.0000\n"
     ]
    },
    {
     "name": "stderr",
     "output_type": "stream",
     "text": [
      " 90%|█████████████████████████████████████████████████████████████████████████████▊        | 171/189 [03:34<00:22,  1.25s/it]"
     ]
    },
    {
     "name": "stdout",
     "output_type": "stream",
     "text": [
      "[1/200][171/189] ========== Loss_D: 1.4276, Loss_G: 1.9408, Acc_G: 13/32 = 40.6250\n"
     ]
    },
    {
     "name": "stderr",
     "output_type": "stream",
     "text": [
      " 91%|██████████████████████████████████████████████████████████████████████████████▎       | 172/189 [03:35<00:21,  1.27s/it]"
     ]
    },
    {
     "name": "stdout",
     "output_type": "stream",
     "text": [
      "[1/200][172/189] ========== Loss_D: 1.4227, Loss_G: 1.9899, Acc_G: 8/32 = 25.0000\n"
     ]
    },
    {
     "name": "stderr",
     "output_type": "stream",
     "text": [
      " 92%|██████████████████████████████████████████████████████████████████████████████▋       | 173/189 [03:37<00:21,  1.34s/it]"
     ]
    },
    {
     "name": "stdout",
     "output_type": "stream",
     "text": [
      "[1/200][173/189] ========== Loss_D: 1.4155, Loss_G: 1.8983, Acc_G: 11/32 = 34.3750\n"
     ]
    },
    {
     "name": "stderr",
     "output_type": "stream",
     "text": [
      " 92%|███████████████████████████████████████████████████████████████████████████████▏      | 174/189 [03:38<00:20,  1.35s/it]"
     ]
    },
    {
     "name": "stdout",
     "output_type": "stream",
     "text": [
      "[1/200][174/189] ========== Loss_D: 1.4303, Loss_G: 1.8948, Acc_G: 11/32 = 34.3750\n"
     ]
    },
    {
     "name": "stderr",
     "output_type": "stream",
     "text": [
      " 93%|███████████████████████████████████████████████████████████████████████████████▋      | 175/189 [03:39<00:17,  1.25s/it]"
     ]
    },
    {
     "name": "stdout",
     "output_type": "stream",
     "text": [
      "[1/200][175/189] ========== Loss_D: 1.4284, Loss_G: 1.8351, Acc_G: 10/32 = 31.2500\n"
     ]
    },
    {
     "name": "stderr",
     "output_type": "stream",
     "text": [
      " 93%|████████████████████████████████████████████████████████████████████████████████      | 176/189 [03:40<00:15,  1.21s/it]"
     ]
    },
    {
     "name": "stdout",
     "output_type": "stream",
     "text": [
      "[1/200][176/189] ========== Loss_D: 1.4260, Loss_G: 1.8814, Acc_G: 7/32 = 21.8750\n"
     ]
    },
    {
     "name": "stderr",
     "output_type": "stream",
     "text": [
      " 94%|████████████████████████████████████████████████████████████████████████████████▌     | 177/189 [03:42<00:14,  1.19s/it]"
     ]
    },
    {
     "name": "stdout",
     "output_type": "stream",
     "text": [
      "[1/200][177/189] ========== Loss_D: 1.4340, Loss_G: 1.9580, Acc_G: 8/32 = 25.0000\n"
     ]
    },
    {
     "name": "stderr",
     "output_type": "stream",
     "text": [
      " 94%|████████████████████████████████████████████████████████████████████████████████▉     | 178/189 [03:43<00:13,  1.19s/it]"
     ]
    },
    {
     "name": "stdout",
     "output_type": "stream",
     "text": [
      "[1/200][178/189] ========== Loss_D: 1.4321, Loss_G: 1.8747, Acc_G: 5/32 = 15.6250\n"
     ]
    },
    {
     "name": "stderr",
     "output_type": "stream",
     "text": [
      " 95%|█████████████████████████████████████████████████████████████████████████████████▍    | 179/189 [03:44<00:11,  1.16s/it]"
     ]
    },
    {
     "name": "stdout",
     "output_type": "stream",
     "text": [
      "[1/200][179/189] ========== Loss_D: 1.4142, Loss_G: 1.8095, Acc_G: 14/32 = 43.7500\n"
     ]
    },
    {
     "name": "stderr",
     "output_type": "stream",
     "text": [
      " 95%|█████████████████████████████████████████████████████████████████████████████████▉    | 180/189 [03:45<00:09,  1.11s/it]"
     ]
    },
    {
     "name": "stdout",
     "output_type": "stream",
     "text": [
      "[1/200][180/189] ========== Loss_D: 1.4268, Loss_G: 1.9836, Acc_G: 10/32 = 31.2500\n"
     ]
    },
    {
     "name": "stderr",
     "output_type": "stream",
     "text": [
      " 96%|██████████████████████████████████████████████████████████████████████████████████▎   | 181/189 [03:46<00:08,  1.08s/it]"
     ]
    },
    {
     "name": "stdout",
     "output_type": "stream",
     "text": [
      "[1/200][181/189] ========== Loss_D: 1.4401, Loss_G: 1.7779, Acc_G: 9/32 = 28.1250\n"
     ]
    },
    {
     "name": "stderr",
     "output_type": "stream",
     "text": [
      " 96%|██████████████████████████████████████████████████████████████████████████████████▊   | 182/189 [03:47<00:07,  1.14s/it]"
     ]
    },
    {
     "name": "stdout",
     "output_type": "stream",
     "text": [
      "[1/200][182/189] ========== Loss_D: 1.4288, Loss_G: 1.8700, Acc_G: 5/32 = 15.6250\n"
     ]
    },
    {
     "name": "stderr",
     "output_type": "stream",
     "text": [
      " 97%|███████████████████████████████████████████████████████████████████████████████████▎  | 183/189 [03:48<00:07,  1.18s/it]"
     ]
    },
    {
     "name": "stdout",
     "output_type": "stream",
     "text": [
      "[1/200][183/189] ========== Loss_D: 1.4198, Loss_G: 2.0005, Acc_G: 10/32 = 31.2500\n"
     ]
    },
    {
     "name": "stderr",
     "output_type": "stream",
     "text": [
      " 97%|███████████████████████████████████████████████████████████████████████████████████▋  | 184/189 [03:49<00:05,  1.16s/it]"
     ]
    },
    {
     "name": "stdout",
     "output_type": "stream",
     "text": [
      "[1/200][184/189] ========== Loss_D: 1.4319, Loss_G: 1.9179, Acc_G: 12/32 = 37.5000\n"
     ]
    },
    {
     "name": "stderr",
     "output_type": "stream",
     "text": [
      " 98%|████████████████████████████████████████████████████████████████████████████████████▏ | 185/189 [03:51<00:04,  1.14s/it]"
     ]
    },
    {
     "name": "stdout",
     "output_type": "stream",
     "text": [
      "[1/200][185/189] ========== Loss_D: 1.4309, Loss_G: 1.8484, Acc_G: 7/32 = 21.8750\n"
     ]
    },
    {
     "name": "stderr",
     "output_type": "stream",
     "text": [
      " 98%|████████████████████████████████████████████████████████████████████████████████████▋ | 186/189 [03:52<00:03,  1.15s/it]"
     ]
    },
    {
     "name": "stdout",
     "output_type": "stream",
     "text": [
      "[1/200][186/189] ========== Loss_D: 1.4331, Loss_G: 1.8631, Acc_G: 13/32 = 40.6250\n"
     ]
    },
    {
     "name": "stderr",
     "output_type": "stream",
     "text": [
      " 99%|█████████████████████████████████████████████████████████████████████████████████████ | 187/189 [03:53<00:02,  1.14s/it]"
     ]
    },
    {
     "name": "stdout",
     "output_type": "stream",
     "text": [
      "[1/200][187/189] ========== Loss_D: 1.4353, Loss_G: 2.0414, Acc_G: 8/32 = 25.0000\n"
     ]
    },
    {
     "name": "stderr",
     "output_type": "stream",
     "text": [
      " 99%|█████████████████████████████████████████████████████████████████████████████████████▌| 188/189 [03:54<00:01,  1.14s/it]"
     ]
    },
    {
     "name": "stdout",
     "output_type": "stream",
     "text": [
      "[1/200][188/189] ========== Loss_D: 1.4350, Loss_G: 1.8663, Acc_G: 10/32 = 31.2500\n"
     ]
    },
    {
     "name": "stderr",
     "output_type": "stream",
     "text": [
      "100%|██████████████████████████████████████████████████████████████████████████████████████| 189/189 [03:54<00:00,  1.24s/it]"
     ]
    },
    {
     "name": "stdout",
     "output_type": "stream",
     "text": [
      "[1/200][189/189] ========== Loss_D: 1.4550, Loss_G: 1.9625, Acc_G: 5/8 = 62.5000\n"
     ]
    },
    {
     "name": "stderr",
     "output_type": "stream",
     "text": [
      "\n"
     ]
    },
    {
     "name": "stdout",
     "output_type": "stream",
     "text": [
      "files to be deleted < length = 1 > -> ['G_epoch_2_save_model.pth', 'D_epoch_2_save_model.pth']\n"
     ]
    },
    {
     "name": "stderr",
     "output_type": "stream",
     "text": [
      "  1%|▍                                                                                       | 1/189 [00:02<07:28,  2.39s/it]"
     ]
    },
    {
     "name": "stdout",
     "output_type": "stream",
     "text": [
      "[2/200][1/189] ========== Loss_D: 1.4413, Loss_G: 1.8260, Acc_G: 4/32 = 12.5000\n"
     ]
    },
    {
     "name": "stderr",
     "output_type": "stream",
     "text": [
      "  1%|▉                                                                                       | 2/189 [00:03<04:38,  1.49s/it]"
     ]
    },
    {
     "name": "stdout",
     "output_type": "stream",
     "text": [
      "[2/200][2/189] ========== Loss_D: 1.4467, Loss_G: 1.8526, Acc_G: 5/32 = 15.6250\n"
     ]
    },
    {
     "name": "stderr",
     "output_type": "stream",
     "text": [
      "  2%|█▍                                                                                      | 3/189 [00:04<03:53,  1.25s/it]"
     ]
    },
    {
     "name": "stdout",
     "output_type": "stream",
     "text": [
      "[2/200][3/189] ========== Loss_D: 1.4309, Loss_G: 1.8838, Acc_G: 8/32 = 25.0000\n"
     ]
    },
    {
     "name": "stderr",
     "output_type": "stream",
     "text": [
      "  2%|█▊                                                                                      | 4/189 [00:05<03:46,  1.23s/it]"
     ]
    },
    {
     "name": "stdout",
     "output_type": "stream",
     "text": [
      "[2/200][4/189] ========== Loss_D: 1.4296, Loss_G: 1.8487, Acc_G: 9/32 = 28.1250\n"
     ]
    },
    {
     "name": "stderr",
     "output_type": "stream",
     "text": [
      "  3%|██▎                                                                                     | 5/189 [00:07<04:29,  1.46s/it]"
     ]
    },
    {
     "name": "stdout",
     "output_type": "stream",
     "text": [
      "[2/200][5/189] ========== Loss_D: 1.4381, Loss_G: 1.8282, Acc_G: 12/32 = 37.5000\n"
     ]
    },
    {
     "name": "stderr",
     "output_type": "stream",
     "text": [
      "  3%|██▊                                                                                     | 6/189 [00:08<04:16,  1.40s/it]"
     ]
    },
    {
     "name": "stdout",
     "output_type": "stream",
     "text": [
      "[2/200][6/189] ========== Loss_D: 1.4428, Loss_G: 1.9476, Acc_G: 11/32 = 34.3750\n"
     ]
    },
    {
     "name": "stderr",
     "output_type": "stream",
     "text": [
      "  4%|███▎                                                                                    | 7/189 [00:09<04:05,  1.35s/it]"
     ]
    },
    {
     "name": "stdout",
     "output_type": "stream",
     "text": [
      "[2/200][7/189] ========== Loss_D: 1.4311, Loss_G: 1.9724, Acc_G: 8/32 = 25.0000\n"
     ]
    },
    {
     "name": "stderr",
     "output_type": "stream",
     "text": [
      "  4%|███▋                                                                                    | 8/189 [00:10<03:46,  1.25s/it]"
     ]
    },
    {
     "name": "stdout",
     "output_type": "stream",
     "text": [
      "[2/200][8/189] ========== Loss_D: 1.4220, Loss_G: 1.8563, Acc_G: 9/32 = 28.1250\n"
     ]
    },
    {
     "name": "stderr",
     "output_type": "stream",
     "text": [
      "  5%|████▏                                                                                   | 9/189 [00:12<03:41,  1.23s/it]"
     ]
    },
    {
     "name": "stdout",
     "output_type": "stream",
     "text": [
      "[2/200][9/189] ========== Loss_D: 1.3964, Loss_G: 1.9215, Acc_G: 6/32 = 18.7500\n"
     ]
    },
    {
     "name": "stderr",
     "output_type": "stream",
     "text": [
      "  5%|████▌                                                                                  | 10/189 [00:13<03:29,  1.17s/it]"
     ]
    },
    {
     "name": "stdout",
     "output_type": "stream",
     "text": [
      "[2/200][10/189] ========== Loss_D: 1.4317, Loss_G: 1.9749, Acc_G: 15/32 = 46.8750\n"
     ]
    },
    {
     "name": "stderr",
     "output_type": "stream",
     "text": [
      "  6%|█████                                                                                  | 11/189 [00:14<03:24,  1.15s/it]"
     ]
    },
    {
     "name": "stdout",
     "output_type": "stream",
     "text": [
      "[2/200][11/189] ========== Loss_D: 1.4282, Loss_G: 1.9061, Acc_G: 12/32 = 37.5000\n"
     ]
    },
    {
     "name": "stderr",
     "output_type": "stream",
     "text": [
      "  6%|█████▌                                                                                 | 12/189 [00:15<03:18,  1.12s/it]"
     ]
    },
    {
     "name": "stdout",
     "output_type": "stream",
     "text": [
      "[2/200][12/189] ========== Loss_D: 1.4308, Loss_G: 1.8952, Acc_G: 8/32 = 25.0000\n"
     ]
    },
    {
     "name": "stderr",
     "output_type": "stream",
     "text": [
      "  7%|█████▉                                                                                 | 13/189 [00:16<03:18,  1.13s/it]"
     ]
    },
    {
     "name": "stdout",
     "output_type": "stream",
     "text": [
      "[2/200][13/189] ========== Loss_D: 1.4117, Loss_G: 1.8722, Acc_G: 11/32 = 34.3750\n"
     ]
    },
    {
     "name": "stderr",
     "output_type": "stream",
     "text": [
      "  7%|██████▍                                                                                | 14/189 [00:17<03:06,  1.07s/it]"
     ]
    },
    {
     "name": "stdout",
     "output_type": "stream",
     "text": [
      "[2/200][14/189] ========== Loss_D: 1.4411, Loss_G: 1.8312, Acc_G: 5/32 = 15.6250\n"
     ]
    },
    {
     "name": "stderr",
     "output_type": "stream",
     "text": [
      "  8%|██████▉                                                                                | 15/189 [00:18<03:35,  1.24s/it]"
     ]
    },
    {
     "name": "stdout",
     "output_type": "stream",
     "text": [
      "[2/200][15/189] ========== Loss_D: 1.4236, Loss_G: 1.9235, Acc_G: 9/32 = 28.1250\n"
     ]
    },
    {
     "name": "stderr",
     "output_type": "stream",
     "text": [
      "  8%|███████▎                                                                               | 16/189 [00:20<03:35,  1.25s/it]"
     ]
    },
    {
     "name": "stdout",
     "output_type": "stream",
     "text": [
      "[2/200][16/189] ========== Loss_D: 1.4360, Loss_G: 1.8966, Acc_G: 9/32 = 28.1250\n"
     ]
    },
    {
     "name": "stderr",
     "output_type": "stream",
     "text": [
      "  9%|███████▊                                                                               | 17/189 [00:21<03:42,  1.29s/it]"
     ]
    },
    {
     "name": "stdout",
     "output_type": "stream",
     "text": [
      "[2/200][17/189] ========== Loss_D: 1.4284, Loss_G: 1.8804, Acc_G: 7/32 = 21.8750\n"
     ]
    },
    {
     "name": "stderr",
     "output_type": "stream",
     "text": [
      " 10%|████████▎                                                                              | 18/189 [00:22<03:38,  1.28s/it]"
     ]
    },
    {
     "name": "stdout",
     "output_type": "stream",
     "text": [
      "[2/200][18/189] ========== Loss_D: 1.4133, Loss_G: 1.8642, Acc_G: 10/32 = 31.2500\n"
     ]
    },
    {
     "name": "stderr",
     "output_type": "stream",
     "text": [
      " 10%|████████▋                                                                              | 19/189 [00:23<03:21,  1.19s/it]"
     ]
    },
    {
     "name": "stdout",
     "output_type": "stream",
     "text": [
      "[2/200][19/189] ========== Loss_D: 1.4067, Loss_G: 1.8519, Acc_G: 4/32 = 12.5000\n"
     ]
    },
    {
     "name": "stderr",
     "output_type": "stream",
     "text": [
      " 11%|█████████▏                                                                             | 20/189 [00:25<03:27,  1.23s/it]"
     ]
    },
    {
     "name": "stdout",
     "output_type": "stream",
     "text": [
      "[2/200][20/189] ========== Loss_D: 1.4317, Loss_G: 1.9402, Acc_G: 14/32 = 43.7500\n"
     ]
    },
    {
     "name": "stderr",
     "output_type": "stream",
     "text": [
      " 11%|█████████▋                                                                             | 21/189 [00:26<03:26,  1.23s/it]"
     ]
    },
    {
     "name": "stdout",
     "output_type": "stream",
     "text": [
      "[2/200][21/189] ========== Loss_D: 1.4362, Loss_G: 1.9687, Acc_G: 9/32 = 28.1250\n"
     ]
    },
    {
     "name": "stderr",
     "output_type": "stream",
     "text": [
      " 12%|██████████▏                                                                            | 22/189 [00:27<03:26,  1.23s/it]"
     ]
    },
    {
     "name": "stdout",
     "output_type": "stream",
     "text": [
      "[2/200][22/189] ========== Loss_D: 1.4412, Loss_G: 1.9669, Acc_G: 8/32 = 25.0000\n"
     ]
    },
    {
     "name": "stderr",
     "output_type": "stream",
     "text": [
      " 12%|██████████▌                                                                            | 23/189 [00:28<03:23,  1.23s/it]"
     ]
    },
    {
     "name": "stdout",
     "output_type": "stream",
     "text": [
      "[2/200][23/189] ========== Loss_D: 1.4230, Loss_G: 1.7921, Acc_G: 10/32 = 31.2500\n"
     ]
    },
    {
     "name": "stderr",
     "output_type": "stream",
     "text": [
      " 13%|███████████                                                                            | 24/189 [00:29<03:04,  1.12s/it]"
     ]
    },
    {
     "name": "stdout",
     "output_type": "stream",
     "text": [
      "[2/200][24/189] ========== Loss_D: 1.4243, Loss_G: 1.8467, Acc_G: 13/32 = 40.6250\n"
     ]
    },
    {
     "name": "stderr",
     "output_type": "stream",
     "text": [
      " 13%|███████████▌                                                                           | 25/189 [00:30<02:51,  1.05s/it]"
     ]
    },
    {
     "name": "stdout",
     "output_type": "stream",
     "text": [
      "[2/200][25/189] ========== Loss_D: 1.4369, Loss_G: 1.7475, Acc_G: 5/32 = 15.6250\n"
     ]
    },
    {
     "name": "stderr",
     "output_type": "stream",
     "text": [
      " 14%|███████████▉                                                                           | 26/189 [00:31<02:52,  1.06s/it]"
     ]
    },
    {
     "name": "stdout",
     "output_type": "stream",
     "text": [
      "[2/200][26/189] ========== Loss_D: 1.4289, Loss_G: 1.8877, Acc_G: 11/32 = 34.3750\n"
     ]
    },
    {
     "name": "stderr",
     "output_type": "stream",
     "text": [
      " 14%|████████████▍                                                                          | 27/189 [00:32<03:02,  1.12s/it]"
     ]
    },
    {
     "name": "stdout",
     "output_type": "stream",
     "text": [
      "[2/200][27/189] ========== Loss_D: 1.4119, Loss_G: 1.8264, Acc_G: 15/32 = 46.8750\n"
     ]
    },
    {
     "name": "stderr",
     "output_type": "stream",
     "text": [
      " 15%|████████████▉                                                                          | 28/189 [00:33<02:54,  1.09s/it]"
     ]
    },
    {
     "name": "stdout",
     "output_type": "stream",
     "text": [
      "[2/200][28/189] ========== Loss_D: 1.4361, Loss_G: 1.8177, Acc_G: 12/32 = 37.5000\n"
     ]
    },
    {
     "name": "stderr",
     "output_type": "stream",
     "text": [
      " 15%|█████████████▎                                                                         | 29/189 [00:35<02:58,  1.12s/it]"
     ]
    },
    {
     "name": "stdout",
     "output_type": "stream",
     "text": [
      "[2/200][29/189] ========== Loss_D: 1.4170, Loss_G: 1.9089, Acc_G: 8/32 = 25.0000\n"
     ]
    },
    {
     "name": "stderr",
     "output_type": "stream",
     "text": [
      " 16%|█████████████▊                                                                         | 30/189 [00:36<02:58,  1.12s/it]"
     ]
    },
    {
     "name": "stdout",
     "output_type": "stream",
     "text": [
      "[2/200][30/189] ========== Loss_D: 1.4432, Loss_G: 1.9103, Acc_G: 9/32 = 28.1250\n"
     ]
    },
    {
     "name": "stderr",
     "output_type": "stream",
     "text": [
      " 16%|██████████████▎                                                                        | 31/189 [00:37<03:02,  1.16s/it]"
     ]
    },
    {
     "name": "stdout",
     "output_type": "stream",
     "text": [
      "[2/200][31/189] ========== Loss_D: 1.4166, Loss_G: 1.9853, Acc_G: 12/32 = 37.5000\n"
     ]
    },
    {
     "name": "stderr",
     "output_type": "stream",
     "text": [
      " 17%|██████████████▋                                                                        | 32/189 [00:38<02:54,  1.11s/it]"
     ]
    },
    {
     "name": "stdout",
     "output_type": "stream",
     "text": [
      "[2/200][32/189] ========== Loss_D: 1.4353, Loss_G: 1.8416, Acc_G: 10/32 = 31.2500\n"
     ]
    },
    {
     "name": "stderr",
     "output_type": "stream",
     "text": [
      " 17%|███████████████▏                                                                       | 33/189 [00:39<02:46,  1.07s/it]"
     ]
    },
    {
     "name": "stdout",
     "output_type": "stream",
     "text": [
      "[2/200][33/189] ========== Loss_D: 1.4168, Loss_G: 1.8982, Acc_G: 12/32 = 37.5000\n"
     ]
    },
    {
     "name": "stderr",
     "output_type": "stream",
     "text": [
      " 18%|███████████████▋                                                                       | 34/189 [00:40<02:55,  1.13s/it]"
     ]
    },
    {
     "name": "stdout",
     "output_type": "stream",
     "text": [
      "[2/200][34/189] ========== Loss_D: 1.4391, Loss_G: 1.9345, Acc_G: 8/32 = 25.0000\n"
     ]
    },
    {
     "name": "stderr",
     "output_type": "stream",
     "text": [
      " 19%|████████████████                                                                       | 35/189 [00:41<02:54,  1.13s/it]"
     ]
    },
    {
     "name": "stdout",
     "output_type": "stream",
     "text": [
      "[2/200][35/189] ========== Loss_D: 1.4168, Loss_G: 1.8350, Acc_G: 11/32 = 34.3750\n"
     ]
    },
    {
     "name": "stderr",
     "output_type": "stream",
     "text": [
      " 19%|████████████████▌                                                                      | 36/189 [00:43<03:05,  1.21s/it]"
     ]
    },
    {
     "name": "stdout",
     "output_type": "stream",
     "text": [
      "[2/200][36/189] ========== Loss_D: 1.4321, Loss_G: 1.6947, Acc_G: 12/32 = 37.5000\n",
      "---------------------< lowest loss update -> 3.1267967224121094 >---------------------\n"
     ]
    },
    {
     "name": "stderr",
     "output_type": "stream",
     "text": [
      " 20%|█████████████████                                                                      | 37/189 [00:44<03:08,  1.24s/it]"
     ]
    },
    {
     "name": "stdout",
     "output_type": "stream",
     "text": [
      "[2/200][37/189] ========== Loss_D: 1.4346, Loss_G: 1.8745, Acc_G: 8/32 = 25.0000\n"
     ]
    },
    {
     "name": "stderr",
     "output_type": "stream",
     "text": [
      " 20%|█████████████████▍                                                                     | 38/189 [00:45<03:04,  1.22s/it]"
     ]
    },
    {
     "name": "stdout",
     "output_type": "stream",
     "text": [
      "[2/200][38/189] ========== Loss_D: 1.4191, Loss_G: 2.0795, Acc_G: 15/32 = 46.8750\n"
     ]
    },
    {
     "name": "stderr",
     "output_type": "stream",
     "text": [
      " 21%|█████████████████▉                                                                     | 39/189 [00:47<03:12,  1.28s/it]"
     ]
    },
    {
     "name": "stdout",
     "output_type": "stream",
     "text": [
      "[2/200][39/189] ========== Loss_D: 1.4293, Loss_G: 1.9062, Acc_G: 12/32 = 37.5000\n"
     ]
    },
    {
     "name": "stderr",
     "output_type": "stream",
     "text": [
      " 21%|██████████████████▍                                                                    | 40/189 [00:48<02:57,  1.19s/it]"
     ]
    },
    {
     "name": "stdout",
     "output_type": "stream",
     "text": [
      "[2/200][40/189] ========== Loss_D: 1.4301, Loss_G: 2.0499, Acc_G: 7/32 = 21.8750\n"
     ]
    },
    {
     "name": "stderr",
     "output_type": "stream",
     "text": [
      " 22%|██████████████████▊                                                                    | 41/189 [00:49<02:55,  1.19s/it]"
     ]
    },
    {
     "name": "stdout",
     "output_type": "stream",
     "text": [
      "[2/200][41/189] ========== Loss_D: 1.4373, Loss_G: 1.9335, Acc_G: 13/32 = 40.6250\n"
     ]
    },
    {
     "name": "stderr",
     "output_type": "stream",
     "text": [
      " 22%|███████████████████▎                                                                   | 42/189 [00:50<02:54,  1.19s/it]"
     ]
    },
    {
     "name": "stdout",
     "output_type": "stream",
     "text": [
      "[2/200][42/189] ========== Loss_D: 1.4235, Loss_G: 1.8764, Acc_G: 10/32 = 31.2500\n"
     ]
    },
    {
     "name": "stderr",
     "output_type": "stream",
     "text": [
      " 23%|███████████████████▊                                                                   | 43/189 [00:51<02:55,  1.20s/it]"
     ]
    },
    {
     "name": "stdout",
     "output_type": "stream",
     "text": [
      "[2/200][43/189] ========== Loss_D: 1.4138, Loss_G: 1.9820, Acc_G: 8/32 = 25.0000\n"
     ]
    },
    {
     "name": "stderr",
     "output_type": "stream",
     "text": [
      " 23%|████████████████████▎                                                                  | 44/189 [00:52<02:54,  1.20s/it]"
     ]
    },
    {
     "name": "stdout",
     "output_type": "stream",
     "text": [
      "[2/200][44/189] ========== Loss_D: 1.4088, Loss_G: 1.9283, Acc_G: 11/32 = 34.3750\n"
     ]
    },
    {
     "name": "stderr",
     "output_type": "stream",
     "text": [
      " 24%|████████████████████▋                                                                  | 45/189 [00:54<02:48,  1.17s/it]"
     ]
    },
    {
     "name": "stdout",
     "output_type": "stream",
     "text": [
      "[2/200][45/189] ========== Loss_D: 1.4323, Loss_G: 1.7987, Acc_G: 9/32 = 28.1250\n"
     ]
    },
    {
     "name": "stderr",
     "output_type": "stream",
     "text": [
      " 24%|█████████████████████▏                                                                 | 46/189 [00:55<02:55,  1.23s/it]"
     ]
    },
    {
     "name": "stdout",
     "output_type": "stream",
     "text": [
      "[2/200][46/189] ========== Loss_D: 1.4367, Loss_G: 1.8492, Acc_G: 10/32 = 31.2500\n"
     ]
    },
    {
     "name": "stderr",
     "output_type": "stream",
     "text": [
      " 25%|█████████████████████▋                                                                 | 47/189 [00:56<02:47,  1.18s/it]"
     ]
    },
    {
     "name": "stdout",
     "output_type": "stream",
     "text": [
      "[2/200][47/189] ========== Loss_D: 1.4289, Loss_G: 1.7912, Acc_G: 10/32 = 31.2500\n"
     ]
    },
    {
     "name": "stderr",
     "output_type": "stream",
     "text": [
      " 25%|██████████████████████                                                                 | 48/189 [00:57<02:43,  1.16s/it]"
     ]
    },
    {
     "name": "stdout",
     "output_type": "stream",
     "text": [
      "[2/200][48/189] ========== Loss_D: 1.4265, Loss_G: 1.8065, Acc_G: 15/32 = 46.8750\n"
     ]
    },
    {
     "name": "stderr",
     "output_type": "stream",
     "text": [
      " 26%|██████████████████████▌                                                                | 49/189 [00:58<02:40,  1.15s/it]"
     ]
    },
    {
     "name": "stdout",
     "output_type": "stream",
     "text": [
      "[2/200][49/189] ========== Loss_D: 1.4283, Loss_G: 1.9407, Acc_G: 10/32 = 31.2500\n"
     ]
    },
    {
     "name": "stderr",
     "output_type": "stream",
     "text": [
      " 26%|███████████████████████                                                                | 50/189 [00:59<02:43,  1.17s/it]"
     ]
    },
    {
     "name": "stdout",
     "output_type": "stream",
     "text": [
      "[2/200][50/189] ========== Loss_D: 1.4295, Loss_G: 1.8658, Acc_G: 8/32 = 25.0000\n"
     ]
    },
    {
     "name": "stderr",
     "output_type": "stream",
     "text": [
      " 27%|███████████████████████▍                                                               | 51/189 [01:00<02:36,  1.13s/it]"
     ]
    },
    {
     "name": "stdout",
     "output_type": "stream",
     "text": [
      "[2/200][51/189] ========== Loss_D: 1.4398, Loss_G: 1.9847, Acc_G: 10/32 = 31.2500\n"
     ]
    },
    {
     "name": "stderr",
     "output_type": "stream",
     "text": [
      " 28%|███████████████████████▉                                                               | 52/189 [01:02<02:47,  1.22s/it]"
     ]
    },
    {
     "name": "stdout",
     "output_type": "stream",
     "text": [
      "[2/200][52/189] ========== Loss_D: 1.4269, Loss_G: 1.8455, Acc_G: 9/32 = 28.1250\n"
     ]
    },
    {
     "name": "stderr",
     "output_type": "stream",
     "text": [
      " 28%|████████████████████████▍                                                              | 53/189 [01:04<03:02,  1.34s/it]"
     ]
    },
    {
     "name": "stdout",
     "output_type": "stream",
     "text": [
      "[2/200][53/189] ========== Loss_D: 1.4269, Loss_G: 1.9572, Acc_G: 9/32 = 28.1250\n"
     ]
    },
    {
     "name": "stderr",
     "output_type": "stream",
     "text": [
      " 29%|████████████████████████▊                                                              | 54/189 [01:05<03:01,  1.35s/it]"
     ]
    },
    {
     "name": "stdout",
     "output_type": "stream",
     "text": [
      "[2/200][54/189] ========== Loss_D: 1.4199, Loss_G: 1.9153, Acc_G: 11/32 = 34.3750\n"
     ]
    },
    {
     "name": "stderr",
     "output_type": "stream",
     "text": [
      " 29%|█████████████████████████▎                                                             | 55/189 [01:06<02:48,  1.25s/it]"
     ]
    },
    {
     "name": "stdout",
     "output_type": "stream",
     "text": [
      "[2/200][55/189] ========== Loss_D: 1.4194, Loss_G: 1.8997, Acc_G: 12/32 = 37.5000\n"
     ]
    },
    {
     "name": "stderr",
     "output_type": "stream",
     "text": [
      " 30%|█████████████████████████▊                                                             | 56/189 [01:07<02:46,  1.25s/it]"
     ]
    },
    {
     "name": "stdout",
     "output_type": "stream",
     "text": [
      "[2/200][56/189] ========== Loss_D: 1.4214, Loss_G: 1.9025, Acc_G: 12/32 = 37.5000\n"
     ]
    },
    {
     "name": "stderr",
     "output_type": "stream",
     "text": [
      " 30%|██████████████████████████▏                                                            | 57/189 [01:08<02:34,  1.17s/it]"
     ]
    },
    {
     "name": "stdout",
     "output_type": "stream",
     "text": [
      "[2/200][57/189] ========== Loss_D: 1.4225, Loss_G: 1.9773, Acc_G: 16/32 = 50.0000\n"
     ]
    },
    {
     "name": "stderr",
     "output_type": "stream",
     "text": [
      " 31%|██████████████████████████▋                                                            | 58/189 [01:10<02:42,  1.24s/it]"
     ]
    },
    {
     "name": "stdout",
     "output_type": "stream",
     "text": [
      "[2/200][58/189] ========== Loss_D: 1.4192, Loss_G: 1.7980, Acc_G: 10/32 = 31.2500\n"
     ]
    },
    {
     "name": "stderr",
     "output_type": "stream",
     "text": [
      " 31%|███████████████████████████▏                                                           | 59/189 [01:11<02:32,  1.18s/it]"
     ]
    },
    {
     "name": "stdout",
     "output_type": "stream",
     "text": [
      "[2/200][59/189] ========== Loss_D: 1.4304, Loss_G: 1.6921, Acc_G: 7/32 = 21.8750\n",
      "---------------------< lowest loss update -> 3.1224589347839355 >---------------------\n"
     ]
    },
    {
     "name": "stderr",
     "output_type": "stream",
     "text": [
      " 32%|███████████████████████████▌                                                           | 60/189 [01:12<02:28,  1.15s/it]"
     ]
    },
    {
     "name": "stdout",
     "output_type": "stream",
     "text": [
      "[2/200][60/189] ========== Loss_D: 1.4265, Loss_G: 1.8955, Acc_G: 7/32 = 21.8750\n"
     ]
    },
    {
     "name": "stderr",
     "output_type": "stream",
     "text": [
      " 32%|████████████████████████████                                                           | 61/189 [01:13<02:34,  1.21s/it]"
     ]
    },
    {
     "name": "stdout",
     "output_type": "stream",
     "text": [
      "[2/200][61/189] ========== Loss_D: 1.4380, Loss_G: 1.8444, Acc_G: 7/32 = 21.8750\n"
     ]
    },
    {
     "name": "stderr",
     "output_type": "stream",
     "text": [
      " 33%|████████████████████████████▌                                                          | 62/189 [01:14<02:29,  1.18s/it]"
     ]
    },
    {
     "name": "stdout",
     "output_type": "stream",
     "text": [
      "[2/200][62/189] ========== Loss_D: 1.4237, Loss_G: 1.8428, Acc_G: 10/32 = 31.2500\n"
     ]
    },
    {
     "name": "stderr",
     "output_type": "stream",
     "text": [
      " 33%|█████████████████████████████                                                          | 63/189 [01:15<02:31,  1.20s/it]"
     ]
    },
    {
     "name": "stdout",
     "output_type": "stream",
     "text": [
      "[2/200][63/189] ========== Loss_D: 1.4269, Loss_G: 1.9540, Acc_G: 13/32 = 40.6250\n"
     ]
    },
    {
     "name": "stderr",
     "output_type": "stream",
     "text": [
      " 34%|█████████████████████████████▍                                                         | 64/189 [01:17<02:48,  1.35s/it]"
     ]
    },
    {
     "name": "stdout",
     "output_type": "stream",
     "text": [
      "[2/200][64/189] ========== Loss_D: 1.4202, Loss_G: 1.9465, Acc_G: 10/32 = 31.2500\n"
     ]
    },
    {
     "name": "stderr",
     "output_type": "stream",
     "text": [
      " 34%|█████████████████████████████▉                                                         | 65/189 [01:18<02:34,  1.25s/it]"
     ]
    },
    {
     "name": "stdout",
     "output_type": "stream",
     "text": [
      "[2/200][65/189] ========== Loss_D: 1.4194, Loss_G: 1.8606, Acc_G: 10/32 = 31.2500\n"
     ]
    },
    {
     "name": "stderr",
     "output_type": "stream",
     "text": [
      " 35%|██████████████████████████████▍                                                        | 66/189 [01:19<02:36,  1.27s/it]"
     ]
    },
    {
     "name": "stdout",
     "output_type": "stream",
     "text": [
      "[2/200][66/189] ========== Loss_D: 1.4413, Loss_G: 1.9559, Acc_G: 9/32 = 28.1250\n"
     ]
    },
    {
     "name": "stderr",
     "output_type": "stream",
     "text": [
      " 35%|██████████████████████████████▊                                                        | 67/189 [01:20<02:24,  1.18s/it]"
     ]
    },
    {
     "name": "stdout",
     "output_type": "stream",
     "text": [
      "[2/200][67/189] ========== Loss_D: 1.4198, Loss_G: 1.9358, Acc_G: 10/32 = 31.2500\n"
     ]
    },
    {
     "name": "stderr",
     "output_type": "stream",
     "text": [
      " 36%|███████████████████████████████▎                                                       | 68/189 [01:22<02:36,  1.29s/it]"
     ]
    },
    {
     "name": "stdout",
     "output_type": "stream",
     "text": [
      "[2/200][68/189] ========== Loss_D: 1.4345, Loss_G: 1.8624, Acc_G: 10/32 = 31.2500\n"
     ]
    },
    {
     "name": "stderr",
     "output_type": "stream",
     "text": [
      " 37%|███████████████████████████████▊                                                       | 69/189 [01:24<02:53,  1.44s/it]"
     ]
    },
    {
     "name": "stdout",
     "output_type": "stream",
     "text": [
      "[2/200][69/189] ========== Loss_D: 1.4310, Loss_G: 1.9002, Acc_G: 11/32 = 34.3750\n"
     ]
    },
    {
     "name": "stderr",
     "output_type": "stream",
     "text": [
      " 37%|████████████████████████████████▏                                                      | 70/189 [01:25<02:47,  1.40s/it]"
     ]
    },
    {
     "name": "stdout",
     "output_type": "stream",
     "text": [
      "[2/200][70/189] ========== Loss_D: 1.4243, Loss_G: 1.8678, Acc_G: 10/32 = 31.2500\n"
     ]
    },
    {
     "name": "stderr",
     "output_type": "stream",
     "text": [
      " 38%|████████████████████████████████▋                                                      | 71/189 [01:27<02:47,  1.42s/it]"
     ]
    },
    {
     "name": "stdout",
     "output_type": "stream",
     "text": [
      "[2/200][71/189] ========== Loss_D: 1.4283, Loss_G: 1.9516, Acc_G: 9/32 = 28.1250\n"
     ]
    },
    {
     "name": "stderr",
     "output_type": "stream",
     "text": [
      " 38%|█████████████████████████████████▏                                                     | 72/189 [01:28<02:53,  1.48s/it]"
     ]
    },
    {
     "name": "stdout",
     "output_type": "stream",
     "text": [
      "[2/200][72/189] ========== Loss_D: 1.4105, Loss_G: 1.8191, Acc_G: 12/32 = 37.5000\n"
     ]
    },
    {
     "name": "stderr",
     "output_type": "stream",
     "text": [
      " 39%|█████████████████████████████████▌                                                     | 73/189 [01:29<02:43,  1.41s/it]"
     ]
    },
    {
     "name": "stdout",
     "output_type": "stream",
     "text": [
      "[2/200][73/189] ========== Loss_D: 1.4366, Loss_G: 1.9782, Acc_G: 8/32 = 25.0000\n"
     ]
    },
    {
     "name": "stderr",
     "output_type": "stream",
     "text": [
      " 39%|██████████████████████████████████                                                     | 74/189 [01:30<02:25,  1.27s/it]"
     ]
    },
    {
     "name": "stdout",
     "output_type": "stream",
     "text": [
      "[2/200][74/189] ========== Loss_D: 1.4330, Loss_G: 1.8099, Acc_G: 9/32 = 28.1250\n"
     ]
    },
    {
     "name": "stderr",
     "output_type": "stream",
     "text": [
      " 40%|██████████████████████████████████▌                                                    | 75/189 [01:32<02:32,  1.33s/it]"
     ]
    },
    {
     "name": "stdout",
     "output_type": "stream",
     "text": [
      "[2/200][75/189] ========== Loss_D: 1.4373, Loss_G: 1.8905, Acc_G: 9/32 = 28.1250\n"
     ]
    },
    {
     "name": "stderr",
     "output_type": "stream",
     "text": [
      " 40%|██████████████████████████████████▉                                                    | 76/189 [01:33<02:26,  1.30s/it]"
     ]
    },
    {
     "name": "stdout",
     "output_type": "stream",
     "text": [
      "[2/200][76/189] ========== Loss_D: 1.4219, Loss_G: 1.9284, Acc_G: 13/32 = 40.6250\n"
     ]
    },
    {
     "name": "stderr",
     "output_type": "stream",
     "text": [
      " 41%|███████████████████████████████████▍                                                   | 77/189 [01:34<02:22,  1.28s/it]"
     ]
    },
    {
     "name": "stdout",
     "output_type": "stream",
     "text": [
      "[2/200][77/189] ========== Loss_D: 1.4330, Loss_G: 1.9146, Acc_G: 11/32 = 34.3750\n"
     ]
    },
    {
     "name": "stderr",
     "output_type": "stream",
     "text": [
      " 41%|███████████████████████████████████▉                                                   | 78/189 [01:35<02:18,  1.25s/it]"
     ]
    },
    {
     "name": "stdout",
     "output_type": "stream",
     "text": [
      "[2/200][78/189] ========== Loss_D: 1.4276, Loss_G: 1.7782, Acc_G: 9/32 = 28.1250\n"
     ]
    },
    {
     "name": "stderr",
     "output_type": "stream",
     "text": [
      " 42%|████████████████████████████████████▎                                                  | 79/189 [01:37<02:17,  1.25s/it]"
     ]
    },
    {
     "name": "stdout",
     "output_type": "stream",
     "text": [
      "[2/200][79/189] ========== Loss_D: 1.4442, Loss_G: 1.7868, Acc_G: 10/32 = 31.2500\n"
     ]
    },
    {
     "name": "stderr",
     "output_type": "stream",
     "text": [
      " 42%|████████████████████████████████████▊                                                  | 80/189 [01:38<02:13,  1.22s/it]"
     ]
    },
    {
     "name": "stdout",
     "output_type": "stream",
     "text": [
      "[2/200][80/189] ========== Loss_D: 1.4290, Loss_G: 1.9112, Acc_G: 12/32 = 37.5000\n"
     ]
    },
    {
     "name": "stderr",
     "output_type": "stream",
     "text": [
      " 43%|█████████████████████████████████████▎                                                 | 81/189 [01:39<02:22,  1.32s/it]"
     ]
    },
    {
     "name": "stdout",
     "output_type": "stream",
     "text": [
      "[2/200][81/189] ========== Loss_D: 1.4242, Loss_G: 1.8215, Acc_G: 8/32 = 25.0000\n"
     ]
    },
    {
     "name": "stderr",
     "output_type": "stream",
     "text": [
      " 43%|█████████████████████████████████████▋                                                 | 82/189 [01:41<02:17,  1.28s/it]"
     ]
    },
    {
     "name": "stdout",
     "output_type": "stream",
     "text": [
      "[2/200][82/189] ========== Loss_D: 1.4263, Loss_G: 1.9017, Acc_G: 9/32 = 28.1250\n"
     ]
    },
    {
     "name": "stderr",
     "output_type": "stream",
     "text": [
      " 44%|██████████████████████████████████████▏                                                | 83/189 [01:42<02:16,  1.29s/it]"
     ]
    },
    {
     "name": "stdout",
     "output_type": "stream",
     "text": [
      "[2/200][83/189] ========== Loss_D: 1.4367, Loss_G: 1.7246, Acc_G: 7/32 = 21.8750\n"
     ]
    },
    {
     "name": "stderr",
     "output_type": "stream",
     "text": [
      " 44%|██████████████████████████████████████▋                                                | 84/189 [01:43<02:17,  1.31s/it]"
     ]
    },
    {
     "name": "stdout",
     "output_type": "stream",
     "text": [
      "[2/200][84/189] ========== Loss_D: 1.4235, Loss_G: 1.8499, Acc_G: 14/32 = 43.7500\n"
     ]
    },
    {
     "name": "stderr",
     "output_type": "stream",
     "text": [
      " 45%|███████████████████████████████████████▏                                               | 85/189 [01:44<02:05,  1.21s/it]"
     ]
    },
    {
     "name": "stdout",
     "output_type": "stream",
     "text": [
      "[2/200][85/189] ========== Loss_D: 1.4250, Loss_G: 1.8943, Acc_G: 12/32 = 37.5000\n"
     ]
    },
    {
     "name": "stderr",
     "output_type": "stream",
     "text": [
      " 46%|███████████████████████████████████████▌                                               | 86/189 [01:45<02:06,  1.23s/it]"
     ]
    },
    {
     "name": "stdout",
     "output_type": "stream",
     "text": [
      "[2/200][86/189] ========== Loss_D: 1.4323, Loss_G: 1.8279, Acc_G: 8/32 = 25.0000\n"
     ]
    },
    {
     "name": "stderr",
     "output_type": "stream",
     "text": [
      " 46%|████████████████████████████████████████                                               | 87/189 [01:47<02:07,  1.25s/it]"
     ]
    },
    {
     "name": "stdout",
     "output_type": "stream",
     "text": [
      "[2/200][87/189] ========== Loss_D: 1.4230, Loss_G: 1.8270, Acc_G: 12/32 = 37.5000\n"
     ]
    },
    {
     "name": "stderr",
     "output_type": "stream",
     "text": [
      " 47%|████████████████████████████████████████▌                                              | 88/189 [01:48<02:04,  1.24s/it]"
     ]
    },
    {
     "name": "stdout",
     "output_type": "stream",
     "text": [
      "[2/200][88/189] ========== Loss_D: 1.4335, Loss_G: 1.8713, Acc_G: 9/32 = 28.1250\n"
     ]
    },
    {
     "name": "stderr",
     "output_type": "stream",
     "text": [
      " 47%|████████████████████████████████████████▉                                              | 89/189 [01:49<01:57,  1.18s/it]"
     ]
    },
    {
     "name": "stdout",
     "output_type": "stream",
     "text": [
      "[2/200][89/189] ========== Loss_D: 1.4422, Loss_G: 1.9178, Acc_G: 10/32 = 31.2500\n"
     ]
    },
    {
     "name": "stderr",
     "output_type": "stream",
     "text": [
      " 48%|█████████████████████████████████████████▍                                             | 90/189 [01:50<01:53,  1.15s/it]"
     ]
    },
    {
     "name": "stdout",
     "output_type": "stream",
     "text": [
      "[2/200][90/189] ========== Loss_D: 1.4342, Loss_G: 1.8309, Acc_G: 12/32 = 37.5000\n"
     ]
    },
    {
     "name": "stderr",
     "output_type": "stream",
     "text": [
      " 48%|█████████████████████████████████████████▉                                             | 91/189 [01:52<02:08,  1.31s/it]"
     ]
    },
    {
     "name": "stdout",
     "output_type": "stream",
     "text": [
      "[2/200][91/189] ========== Loss_D: 1.4160, Loss_G: 1.7898, Acc_G: 10/32 = 31.2500\n"
     ]
    },
    {
     "name": "stderr",
     "output_type": "stream",
     "text": [
      " 49%|██████████████████████████████████████████▎                                            | 92/189 [01:53<02:02,  1.27s/it]"
     ]
    },
    {
     "name": "stdout",
     "output_type": "stream",
     "text": [
      "[2/200][92/189] ========== Loss_D: 1.4298, Loss_G: 1.9994, Acc_G: 15/32 = 46.8750\n"
     ]
    },
    {
     "name": "stderr",
     "output_type": "stream",
     "text": [
      " 49%|██████████████████████████████████████████▊                                            | 93/189 [01:54<02:04,  1.29s/it]"
     ]
    },
    {
     "name": "stdout",
     "output_type": "stream",
     "text": [
      "[2/200][93/189] ========== Loss_D: 1.4240, Loss_G: 1.9492, Acc_G: 13/32 = 40.6250\n"
     ]
    },
    {
     "name": "stderr",
     "output_type": "stream",
     "text": [
      " 50%|███████████████████████████████████████████▎                                           | 94/189 [01:55<01:57,  1.23s/it]"
     ]
    },
    {
     "name": "stdout",
     "output_type": "stream",
     "text": [
      "[2/200][94/189] ========== Loss_D: 1.4222, Loss_G: 1.8801, Acc_G: 12/32 = 37.5000\n"
     ]
    },
    {
     "name": "stderr",
     "output_type": "stream",
     "text": [
      " 50%|███████████████████████████████████████████▋                                           | 95/189 [01:57<01:55,  1.23s/it]"
     ]
    },
    {
     "name": "stdout",
     "output_type": "stream",
     "text": [
      "[2/200][95/189] ========== Loss_D: 1.4063, Loss_G: 2.0095, Acc_G: 10/32 = 31.2500\n"
     ]
    },
    {
     "name": "stderr",
     "output_type": "stream",
     "text": [
      " 51%|████████████████████████████████████████████▏                                          | 96/189 [01:58<02:03,  1.33s/it]"
     ]
    },
    {
     "name": "stdout",
     "output_type": "stream",
     "text": [
      "[2/200][96/189] ========== Loss_D: 1.4415, Loss_G: 1.8703, Acc_G: 11/32 = 34.3750\n"
     ]
    },
    {
     "name": "stderr",
     "output_type": "stream",
     "text": [
      " 51%|████████████████████████████████████████████▋                                          | 97/189 [01:59<02:00,  1.31s/it]"
     ]
    },
    {
     "name": "stdout",
     "output_type": "stream",
     "text": [
      "[2/200][97/189] ========== Loss_D: 1.4259, Loss_G: 1.8362, Acc_G: 7/32 = 21.8750\n"
     ]
    },
    {
     "name": "stderr",
     "output_type": "stream",
     "text": [
      " 52%|█████████████████████████████████████████████                                          | 98/189 [02:01<02:01,  1.34s/it]"
     ]
    },
    {
     "name": "stdout",
     "output_type": "stream",
     "text": [
      "[2/200][98/189] ========== Loss_D: 1.4217, Loss_G: 1.9256, Acc_G: 13/32 = 40.6250\n"
     ]
    },
    {
     "name": "stderr",
     "output_type": "stream",
     "text": [
      " 52%|█████████████████████████████████████████████▌                                         | 99/189 [02:02<02:01,  1.35s/it]"
     ]
    },
    {
     "name": "stdout",
     "output_type": "stream",
     "text": [
      "[2/200][99/189] ========== Loss_D: 1.4221, Loss_G: 1.9286, Acc_G: 16/32 = 50.0000\n"
     ]
    },
    {
     "name": "stderr",
     "output_type": "stream",
     "text": [
      " 53%|█████████████████████████████████████████████▌                                        | 100/189 [02:03<01:56,  1.31s/it]"
     ]
    },
    {
     "name": "stdout",
     "output_type": "stream",
     "text": [
      "[2/200][100/189] ========== Loss_D: 1.4111, Loss_G: 1.8648, Acc_G: 10/32 = 31.2500\n"
     ]
    },
    {
     "name": "stderr",
     "output_type": "stream",
     "text": [
      " 53%|█████████████████████████████████████████████▉                                        | 101/189 [02:05<01:51,  1.26s/it]"
     ]
    },
    {
     "name": "stdout",
     "output_type": "stream",
     "text": [
      "[2/200][101/189] ========== Loss_D: 1.4282, Loss_G: 1.7963, Acc_G: 16/32 = 50.0000\n"
     ]
    },
    {
     "name": "stderr",
     "output_type": "stream",
     "text": [
      " 54%|██████████████████████████████████████████████▍                                       | 102/189 [02:06<01:42,  1.18s/it]"
     ]
    },
    {
     "name": "stdout",
     "output_type": "stream",
     "text": [
      "[2/200][102/189] ========== Loss_D: 1.4320, Loss_G: 1.9906, Acc_G: 13/32 = 40.6250\n"
     ]
    },
    {
     "name": "stderr",
     "output_type": "stream",
     "text": [
      " 54%|██████████████████████████████████████████████▊                                       | 103/189 [02:07<01:37,  1.14s/it]"
     ]
    },
    {
     "name": "stdout",
     "output_type": "stream",
     "text": [
      "[2/200][103/189] ========== Loss_D: 1.4253, Loss_G: 1.8513, Acc_G: 14/32 = 43.7500\n"
     ]
    },
    {
     "name": "stderr",
     "output_type": "stream",
     "text": [
      " 55%|███████████████████████████████████████████████▎                                      | 104/189 [02:08<01:45,  1.24s/it]"
     ]
    },
    {
     "name": "stdout",
     "output_type": "stream",
     "text": [
      "[2/200][104/189] ========== Loss_D: 1.4303, Loss_G: 1.9101, Acc_G: 10/32 = 31.2500\n"
     ]
    },
    {
     "name": "stderr",
     "output_type": "stream",
     "text": [
      " 56%|███████████████████████████████████████████████▊                                      | 105/189 [02:09<01:37,  1.17s/it]"
     ]
    },
    {
     "name": "stdout",
     "output_type": "stream",
     "text": [
      "[2/200][105/189] ========== Loss_D: 1.4284, Loss_G: 1.8992, Acc_G: 11/32 = 34.3750\n"
     ]
    },
    {
     "name": "stderr",
     "output_type": "stream",
     "text": [
      " 56%|████████████████████████████████████████████████▏                                     | 106/189 [02:11<01:44,  1.25s/it]"
     ]
    },
    {
     "name": "stdout",
     "output_type": "stream",
     "text": [
      "[2/200][106/189] ========== Loss_D: 1.4307, Loss_G: 1.8640, Acc_G: 10/32 = 31.2500\n"
     ]
    },
    {
     "name": "stderr",
     "output_type": "stream",
     "text": [
      " 57%|████████████████████████████████████████████████▋                                     | 107/189 [02:12<01:42,  1.25s/it]"
     ]
    },
    {
     "name": "stdout",
     "output_type": "stream",
     "text": [
      "[2/200][107/189] ========== Loss_D: 1.4162, Loss_G: 1.8728, Acc_G: 17/32 = 53.1250\n"
     ]
    },
    {
     "name": "stderr",
     "output_type": "stream",
     "text": [
      " 57%|█████████████████████████████████████████████████▏                                    | 108/189 [02:13<01:40,  1.25s/it]"
     ]
    },
    {
     "name": "stdout",
     "output_type": "stream",
     "text": [
      "[2/200][108/189] ========== Loss_D: 1.4407, Loss_G: 1.8740, Acc_G: 11/32 = 34.3750\n"
     ]
    },
    {
     "name": "stderr",
     "output_type": "stream",
     "text": [
      " 58%|█████████████████████████████████████████████████▌                                    | 109/189 [02:14<01:36,  1.21s/it]"
     ]
    },
    {
     "name": "stdout",
     "output_type": "stream",
     "text": [
      "[2/200][109/189] ========== Loss_D: 1.4163, Loss_G: 1.9277, Acc_G: 14/32 = 43.7500\n"
     ]
    },
    {
     "name": "stderr",
     "output_type": "stream",
     "text": [
      " 58%|██████████████████████████████████████████████████                                    | 110/189 [02:15<01:35,  1.20s/it]"
     ]
    },
    {
     "name": "stdout",
     "output_type": "stream",
     "text": [
      "[2/200][110/189] ========== Loss_D: 1.4197, Loss_G: 1.8057, Acc_G: 12/32 = 37.5000\n"
     ]
    },
    {
     "name": "stderr",
     "output_type": "stream",
     "text": [
      " 59%|██████████████████████████████████████████████████▌                                   | 111/189 [02:16<01:31,  1.17s/it]"
     ]
    },
    {
     "name": "stdout",
     "output_type": "stream",
     "text": [
      "[2/200][111/189] ========== Loss_D: 1.4249, Loss_G: 1.8756, Acc_G: 14/32 = 43.7500\n"
     ]
    },
    {
     "name": "stderr",
     "output_type": "stream",
     "text": [
      " 59%|██████████████████████████████████████████████████▉                                   | 112/189 [02:18<01:32,  1.20s/it]"
     ]
    },
    {
     "name": "stdout",
     "output_type": "stream",
     "text": [
      "[2/200][112/189] ========== Loss_D: 1.4189, Loss_G: 2.0051, Acc_G: 9/32 = 28.1250\n"
     ]
    },
    {
     "name": "stderr",
     "output_type": "stream",
     "text": [
      " 60%|███████████████████████████████████████████████████▍                                  | 113/189 [02:19<01:34,  1.24s/it]"
     ]
    },
    {
     "name": "stdout",
     "output_type": "stream",
     "text": [
      "[2/200][113/189] ========== Loss_D: 1.4212, Loss_G: 1.8334, Acc_G: 9/32 = 28.1250\n"
     ]
    },
    {
     "name": "stderr",
     "output_type": "stream",
     "text": [
      " 60%|███████████████████████████████████████████████████▊                                  | 114/189 [02:20<01:29,  1.19s/it]"
     ]
    },
    {
     "name": "stdout",
     "output_type": "stream",
     "text": [
      "[2/200][114/189] ========== Loss_D: 1.4180, Loss_G: 1.9157, Acc_G: 14/32 = 43.7500\n"
     ]
    },
    {
     "name": "stderr",
     "output_type": "stream",
     "text": [
      " 61%|████████████████████████████████████████████████████▎                                 | 115/189 [02:21<01:28,  1.20s/it]"
     ]
    },
    {
     "name": "stdout",
     "output_type": "stream",
     "text": [
      "[2/200][115/189] ========== Loss_D: 1.4314, Loss_G: 1.7723, Acc_G: 10/32 = 31.2500\n"
     ]
    },
    {
     "name": "stderr",
     "output_type": "stream",
     "text": [
      " 61%|████████████████████████████████████████████████████▊                                 | 116/189 [02:22<01:22,  1.13s/it]"
     ]
    },
    {
     "name": "stdout",
     "output_type": "stream",
     "text": [
      "[2/200][116/189] ========== Loss_D: 1.4216, Loss_G: 1.9159, Acc_G: 14/32 = 43.7500\n"
     ]
    },
    {
     "name": "stderr",
     "output_type": "stream",
     "text": [
      " 62%|█████████████████████████████████████████████████████▏                                | 117/189 [02:23<01:18,  1.10s/it]"
     ]
    },
    {
     "name": "stdout",
     "output_type": "stream",
     "text": [
      "[2/200][117/189] ========== Loss_D: 1.4235, Loss_G: 1.9133, Acc_G: 15/32 = 46.8750\n"
     ]
    },
    {
     "name": "stderr",
     "output_type": "stream",
     "text": [
      " 62%|█████████████████████████████████████████████████████▋                                | 118/189 [02:25<01:21,  1.15s/it]"
     ]
    },
    {
     "name": "stdout",
     "output_type": "stream",
     "text": [
      "[2/200][118/189] ========== Loss_D: 1.4254, Loss_G: 1.8963, Acc_G: 9/32 = 28.1250\n"
     ]
    },
    {
     "name": "stderr",
     "output_type": "stream",
     "text": [
      " 63%|██████████████████████████████████████████████████████▏                               | 119/189 [02:26<01:20,  1.16s/it]"
     ]
    },
    {
     "name": "stdout",
     "output_type": "stream",
     "text": [
      "[2/200][119/189] ========== Loss_D: 1.4226, Loss_G: 1.8916, Acc_G: 13/32 = 40.6250\n"
     ]
    },
    {
     "name": "stderr",
     "output_type": "stream",
     "text": [
      " 63%|██████████████████████████████████████████████████████▌                               | 120/189 [02:27<01:18,  1.13s/it]"
     ]
    },
    {
     "name": "stdout",
     "output_type": "stream",
     "text": [
      "[2/200][120/189] ========== Loss_D: 1.4199, Loss_G: 1.9294, Acc_G: 12/32 = 37.5000\n"
     ]
    },
    {
     "name": "stderr",
     "output_type": "stream",
     "text": [
      " 64%|███████████████████████████████████████████████████████                               | 121/189 [02:28<01:15,  1.12s/it]"
     ]
    },
    {
     "name": "stdout",
     "output_type": "stream",
     "text": [
      "[2/200][121/189] ========== Loss_D: 1.4227, Loss_G: 2.0374, Acc_G: 8/32 = 25.0000\n"
     ]
    },
    {
     "name": "stderr",
     "output_type": "stream",
     "text": [
      " 65%|███████████████████████████████████████████████████████▌                              | 122/189 [02:29<01:18,  1.17s/it]"
     ]
    },
    {
     "name": "stdout",
     "output_type": "stream",
     "text": [
      "[2/200][122/189] ========== Loss_D: 1.4286, Loss_G: 1.8125, Acc_G: 10/32 = 31.2500\n"
     ]
    },
    {
     "name": "stderr",
     "output_type": "stream",
     "text": [
      " 65%|███████████████████████████████████████████████████████▉                              | 123/189 [02:30<01:12,  1.10s/it]"
     ]
    },
    {
     "name": "stdout",
     "output_type": "stream",
     "text": [
      "[2/200][123/189] ========== Loss_D: 1.4406, Loss_G: 1.8748, Acc_G: 13/32 = 40.6250\n"
     ]
    },
    {
     "name": "stderr",
     "output_type": "stream",
     "text": [
      " 66%|████████████████████████████████████████████████████████▍                             | 124/189 [02:31<01:09,  1.08s/it]"
     ]
    },
    {
     "name": "stdout",
     "output_type": "stream",
     "text": [
      "[2/200][124/189] ========== Loss_D: 1.4217, Loss_G: 1.7963, Acc_G: 15/32 = 46.8750\n"
     ]
    },
    {
     "name": "stderr",
     "output_type": "stream",
     "text": [
      " 66%|████████████████████████████████████████████████████████▉                             | 125/189 [02:32<01:09,  1.09s/it]"
     ]
    },
    {
     "name": "stdout",
     "output_type": "stream",
     "text": [
      "[2/200][125/189] ========== Loss_D: 1.4415, Loss_G: 1.8920, Acc_G: 7/32 = 21.8750\n"
     ]
    },
    {
     "name": "stderr",
     "output_type": "stream",
     "text": [
      " 67%|█████████████████████████████████████████████████████████▎                            | 126/189 [02:33<01:08,  1.09s/it]"
     ]
    },
    {
     "name": "stdout",
     "output_type": "stream",
     "text": [
      "[2/200][126/189] ========== Loss_D: 1.4261, Loss_G: 1.9389, Acc_G: 16/32 = 50.0000\n"
     ]
    },
    {
     "name": "stderr",
     "output_type": "stream",
     "text": [
      " 67%|█████████████████████████████████████████████████████████▊                            | 127/189 [02:35<01:08,  1.10s/it]"
     ]
    },
    {
     "name": "stdout",
     "output_type": "stream",
     "text": [
      "[2/200][127/189] ========== Loss_D: 1.4247, Loss_G: 1.8612, Acc_G: 10/32 = 31.2500\n"
     ]
    },
    {
     "name": "stderr",
     "output_type": "stream",
     "text": [
      " 68%|██████████████████████████████████████████████████████████▏                           | 128/189 [02:36<01:09,  1.15s/it]"
     ]
    },
    {
     "name": "stdout",
     "output_type": "stream",
     "text": [
      "[2/200][128/189] ========== Loss_D: 1.4151, Loss_G: 2.0167, Acc_G: 10/32 = 31.2500\n"
     ]
    },
    {
     "name": "stderr",
     "output_type": "stream",
     "text": [
      " 68%|██████████████████████████████████████████████████████████▋                           | 129/189 [02:37<01:07,  1.12s/it]"
     ]
    },
    {
     "name": "stdout",
     "output_type": "stream",
     "text": [
      "[2/200][129/189] ========== Loss_D: 1.4162, Loss_G: 1.8759, Acc_G: 10/32 = 31.2500\n"
     ]
    },
    {
     "name": "stderr",
     "output_type": "stream",
     "text": [
      " 69%|███████████████████████████████████████████████████████████▏                          | 130/189 [02:38<01:10,  1.20s/it]"
     ]
    },
    {
     "name": "stdout",
     "output_type": "stream",
     "text": [
      "[2/200][130/189] ========== Loss_D: 1.4216, Loss_G: 1.7853, Acc_G: 9/32 = 28.1250\n"
     ]
    },
    {
     "name": "stderr",
     "output_type": "stream",
     "text": [
      " 69%|███████████████████████████████████████████████████████████▌                          | 131/189 [02:39<01:09,  1.19s/it]"
     ]
    },
    {
     "name": "stdout",
     "output_type": "stream",
     "text": [
      "[2/200][131/189] ========== Loss_D: 1.4285, Loss_G: 1.8990, Acc_G: 9/32 = 28.1250\n"
     ]
    },
    {
     "name": "stderr",
     "output_type": "stream",
     "text": [
      " 70%|████████████████████████████████████████████████████████████                          | 132/189 [02:41<01:07,  1.19s/it]"
     ]
    },
    {
     "name": "stdout",
     "output_type": "stream",
     "text": [
      "[2/200][132/189] ========== Loss_D: 1.4225, Loss_G: 1.7424, Acc_G: 12/32 = 37.5000\n"
     ]
    },
    {
     "name": "stderr",
     "output_type": "stream",
     "text": [
      " 70%|████████████████████████████████████████████████████████████▌                         | 133/189 [02:42<01:04,  1.15s/it]"
     ]
    },
    {
     "name": "stdout",
     "output_type": "stream",
     "text": [
      "[2/200][133/189] ========== Loss_D: 1.4183, Loss_G: 1.9185, Acc_G: 10/32 = 31.2500\n"
     ]
    },
    {
     "name": "stderr",
     "output_type": "stream",
     "text": [
      " 71%|████████████████████████████████████████████████████████████▉                         | 134/189 [02:43<01:11,  1.30s/it]"
     ]
    },
    {
     "name": "stdout",
     "output_type": "stream",
     "text": [
      "[2/200][134/189] ========== Loss_D: 1.4325, Loss_G: 1.9047, Acc_G: 12/32 = 37.5000\n"
     ]
    },
    {
     "name": "stderr",
     "output_type": "stream",
     "text": [
      " 71%|█████████████████████████████████████████████████████████████▍                        | 135/189 [02:45<01:09,  1.28s/it]"
     ]
    },
    {
     "name": "stdout",
     "output_type": "stream",
     "text": [
      "[2/200][135/189] ========== Loss_D: 1.4333, Loss_G: 1.8188, Acc_G: 14/32 = 43.7500\n"
     ]
    },
    {
     "name": "stderr",
     "output_type": "stream",
     "text": [
      " 72%|█████████████████████████████████████████████████████████████▉                        | 136/189 [02:46<01:09,  1.31s/it]"
     ]
    },
    {
     "name": "stdout",
     "output_type": "stream",
     "text": [
      "[2/200][136/189] ========== Loss_D: 1.4360, Loss_G: 1.9222, Acc_G: 9/32 = 28.1250\n"
     ]
    },
    {
     "name": "stderr",
     "output_type": "stream",
     "text": [
      " 72%|██████████████████████████████████████████████████████████████▎                       | 137/189 [02:47<01:06,  1.27s/it]"
     ]
    },
    {
     "name": "stdout",
     "output_type": "stream",
     "text": [
      "[2/200][137/189] ========== Loss_D: 1.4301, Loss_G: 1.8225, Acc_G: 10/32 = 31.2500\n"
     ]
    },
    {
     "name": "stderr",
     "output_type": "stream",
     "text": [
      " 73%|██████████████████████████████████████████████████████████████▊                       | 138/189 [02:48<01:03,  1.25s/it]"
     ]
    },
    {
     "name": "stdout",
     "output_type": "stream",
     "text": [
      "[2/200][138/189] ========== Loss_D: 1.4368, Loss_G: 1.8336, Acc_G: 9/32 = 28.1250\n"
     ]
    },
    {
     "name": "stderr",
     "output_type": "stream",
     "text": [
      " 74%|███████████████████████████████████████████████████████████████▏                      | 139/189 [02:50<01:02,  1.25s/it]"
     ]
    },
    {
     "name": "stdout",
     "output_type": "stream",
     "text": [
      "[2/200][139/189] ========== Loss_D: 1.4250, Loss_G: 1.9606, Acc_G: 14/32 = 43.7500\n"
     ]
    },
    {
     "name": "stderr",
     "output_type": "stream",
     "text": [
      " 74%|███████████████████████████████████████████████████████████████▋                      | 140/189 [02:51<01:00,  1.23s/it]"
     ]
    },
    {
     "name": "stdout",
     "output_type": "stream",
     "text": [
      "[2/200][140/189] ========== Loss_D: 1.4189, Loss_G: 1.7972, Acc_G: 9/32 = 28.1250\n"
     ]
    },
    {
     "name": "stderr",
     "output_type": "stream",
     "text": [
      " 75%|████████████████████████████████████████████████████████████████▏                     | 141/189 [02:52<00:58,  1.22s/it]"
     ]
    },
    {
     "name": "stdout",
     "output_type": "stream",
     "text": [
      "[2/200][141/189] ========== Loss_D: 1.4445, Loss_G: 1.9242, Acc_G: 13/32 = 40.6250\n"
     ]
    },
    {
     "name": "stderr",
     "output_type": "stream",
     "text": [
      " 75%|████████████████████████████████████████████████████████████████▌                     | 142/189 [02:53<00:56,  1.20s/it]"
     ]
    },
    {
     "name": "stdout",
     "output_type": "stream",
     "text": [
      "[2/200][142/189] ========== Loss_D: 1.4207, Loss_G: 1.8548, Acc_G: 9/32 = 28.1250\n"
     ]
    },
    {
     "name": "stderr",
     "output_type": "stream",
     "text": [
      " 76%|█████████████████████████████████████████████████████████████████                     | 143/189 [02:54<00:51,  1.11s/it]"
     ]
    },
    {
     "name": "stdout",
     "output_type": "stream",
     "text": [
      "[2/200][143/189] ========== Loss_D: 1.4155, Loss_G: 1.7255, Acc_G: 8/32 = 25.0000\n"
     ]
    },
    {
     "name": "stderr",
     "output_type": "stream",
     "text": [
      " 76%|█████████████████████████████████████████████████████████████████▌                    | 144/189 [02:55<00:49,  1.09s/it]"
     ]
    },
    {
     "name": "stdout",
     "output_type": "stream",
     "text": [
      "[2/200][144/189] ========== Loss_D: 1.4091, Loss_G: 1.8802, Acc_G: 10/32 = 31.2500\n"
     ]
    },
    {
     "name": "stderr",
     "output_type": "stream",
     "text": [
      " 77%|█████████████████████████████████████████████████████████████████▉                    | 145/189 [02:57<00:56,  1.30s/it]"
     ]
    },
    {
     "name": "stdout",
     "output_type": "stream",
     "text": [
      "[2/200][145/189] ========== Loss_D: 1.4173, Loss_G: 1.9075, Acc_G: 13/32 = 40.6250\n"
     ]
    },
    {
     "name": "stderr",
     "output_type": "stream",
     "text": [
      " 77%|██████████████████████████████████████████████████████████████████▍                   | 146/189 [02:58<00:55,  1.30s/it]"
     ]
    },
    {
     "name": "stdout",
     "output_type": "stream",
     "text": [
      "[2/200][146/189] ========== Loss_D: 1.4336, Loss_G: 1.8946, Acc_G: 7/32 = 21.8750\n"
     ]
    },
    {
     "name": "stderr",
     "output_type": "stream",
     "text": [
      " 78%|██████████████████████████████████████████████████████████████████▉                   | 147/189 [02:59<00:53,  1.27s/it]"
     ]
    },
    {
     "name": "stdout",
     "output_type": "stream",
     "text": [
      "[2/200][147/189] ========== Loss_D: 1.4368, Loss_G: 1.7692, Acc_G: 11/32 = 34.3750\n"
     ]
    },
    {
     "name": "stderr",
     "output_type": "stream",
     "text": [
      " 78%|███████████████████████████████████████████████████████████████████▎                  | 148/189 [03:00<00:49,  1.20s/it]"
     ]
    },
    {
     "name": "stdout",
     "output_type": "stream",
     "text": [
      "[2/200][148/189] ========== Loss_D: 1.4338, Loss_G: 1.8218, Acc_G: 12/32 = 37.5000\n"
     ]
    },
    {
     "name": "stderr",
     "output_type": "stream",
     "text": [
      " 79%|███████████████████████████████████████████████████████████████████▊                  | 149/189 [03:01<00:45,  1.15s/it]"
     ]
    },
    {
     "name": "stdout",
     "output_type": "stream",
     "text": [
      "[2/200][149/189] ========== Loss_D: 1.4152, Loss_G: 1.7777, Acc_G: 9/32 = 28.1250\n"
     ]
    },
    {
     "name": "stderr",
     "output_type": "stream",
     "text": [
      " 79%|████████████████████████████████████████████████████████████████████▎                 | 150/189 [03:03<00:47,  1.22s/it]"
     ]
    },
    {
     "name": "stdout",
     "output_type": "stream",
     "text": [
      "[2/200][150/189] ========== Loss_D: 1.4125, Loss_G: 1.8283, Acc_G: 17/32 = 53.1250\n"
     ]
    },
    {
     "name": "stderr",
     "output_type": "stream",
     "text": [
      " 80%|████████████████████████████████████████████████████████████████████▋                 | 151/189 [03:04<00:47,  1.24s/it]"
     ]
    },
    {
     "name": "stdout",
     "output_type": "stream",
     "text": [
      "[2/200][151/189] ========== Loss_D: 1.4169, Loss_G: 1.8368, Acc_G: 15/32 = 46.8750\n"
     ]
    },
    {
     "name": "stderr",
     "output_type": "stream",
     "text": [
      " 80%|█████████████████████████████████████████████████████████████████████▏                | 152/189 [03:05<00:47,  1.29s/it]"
     ]
    },
    {
     "name": "stdout",
     "output_type": "stream",
     "text": [
      "[2/200][152/189] ========== Loss_D: 1.4358, Loss_G: 1.9077, Acc_G: 11/32 = 34.3750\n"
     ]
    },
    {
     "name": "stderr",
     "output_type": "stream",
     "text": [
      " 81%|█████████████████████████████████████████████████████████████████████▌                | 153/189 [03:07<00:47,  1.31s/it]"
     ]
    },
    {
     "name": "stdout",
     "output_type": "stream",
     "text": [
      "[2/200][153/189] ========== Loss_D: 1.4241, Loss_G: 1.8844, Acc_G: 11/32 = 34.3750\n"
     ]
    },
    {
     "name": "stderr",
     "output_type": "stream",
     "text": [
      " 81%|██████████████████████████████████████████████████████████████████████                | 154/189 [03:08<00:42,  1.21s/it]"
     ]
    },
    {
     "name": "stdout",
     "output_type": "stream",
     "text": [
      "[2/200][154/189] ========== Loss_D: 1.4229, Loss_G: 1.8666, Acc_G: 13/32 = 40.6250\n"
     ]
    },
    {
     "name": "stderr",
     "output_type": "stream",
     "text": [
      " 82%|██████████████████████████████████████████████████████████████████████▌               | 155/189 [03:09<00:41,  1.21s/it]"
     ]
    },
    {
     "name": "stdout",
     "output_type": "stream",
     "text": [
      "[2/200][155/189] ========== Loss_D: 1.4366, Loss_G: 1.8636, Acc_G: 10/32 = 31.2500\n"
     ]
    },
    {
     "name": "stderr",
     "output_type": "stream",
     "text": [
      " 83%|██████████████████████████████████████████████████████████████████████▉               | 156/189 [03:10<00:40,  1.22s/it]"
     ]
    },
    {
     "name": "stdout",
     "output_type": "stream",
     "text": [
      "[2/200][156/189] ========== Loss_D: 1.4090, Loss_G: 1.7253, Acc_G: 15/32 = 46.8750\n"
     ]
    },
    {
     "name": "stderr",
     "output_type": "stream",
     "text": [
      " 83%|███████████████████████████████████████████████████████████████████████▍              | 157/189 [03:12<00:43,  1.36s/it]"
     ]
    },
    {
     "name": "stdout",
     "output_type": "stream",
     "text": [
      "[2/200][157/189] ========== Loss_D: 1.4248, Loss_G: 1.8312, Acc_G: 10/32 = 31.2500\n"
     ]
    },
    {
     "name": "stderr",
     "output_type": "stream",
     "text": [
      " 84%|███████████████████████████████████████████████████████████████████████▉              | 158/189 [03:13<00:41,  1.34s/it]"
     ]
    },
    {
     "name": "stdout",
     "output_type": "stream",
     "text": [
      "[2/200][158/189] ========== Loss_D: 1.4069, Loss_G: 1.9405, Acc_G: 12/32 = 37.5000\n"
     ]
    },
    {
     "name": "stderr",
     "output_type": "stream",
     "text": [
      " 84%|████████████████████████████████████████████████████████████████████████▎             | 159/189 [03:15<00:44,  1.48s/it]"
     ]
    },
    {
     "name": "stdout",
     "output_type": "stream",
     "text": [
      "[2/200][159/189] ========== Loss_D: 1.4204, Loss_G: 1.8957, Acc_G: 17/32 = 53.1250\n"
     ]
    },
    {
     "name": "stderr",
     "output_type": "stream",
     "text": [
      " 85%|████████████████████████████████████████████████████████████████████████▊             | 160/189 [03:16<00:42,  1.48s/it]"
     ]
    },
    {
     "name": "stdout",
     "output_type": "stream",
     "text": [
      "[2/200][160/189] ========== Loss_D: 1.4343, Loss_G: 1.9089, Acc_G: 13/32 = 40.6250\n"
     ]
    },
    {
     "name": "stderr",
     "output_type": "stream",
     "text": [
      " 85%|█████████████████████████████████████████████████████████████████████████▎            | 161/189 [03:17<00:37,  1.32s/it]"
     ]
    },
    {
     "name": "stdout",
     "output_type": "stream",
     "text": [
      "[2/200][161/189] ========== Loss_D: 1.4234, Loss_G: 1.8462, Acc_G: 11/32 = 34.3750\n"
     ]
    },
    {
     "name": "stderr",
     "output_type": "stream",
     "text": [
      " 86%|█████████████████████████████████████████████████████████████████████████▋            | 162/189 [03:19<00:34,  1.28s/it]"
     ]
    },
    {
     "name": "stdout",
     "output_type": "stream",
     "text": [
      "[2/200][162/189] ========== Loss_D: 1.4257, Loss_G: 1.9791, Acc_G: 12/32 = 37.5000\n"
     ]
    },
    {
     "name": "stderr",
     "output_type": "stream",
     "text": [
      " 86%|██████████████████████████████████████████████████████████████████████████▏           | 163/189 [03:20<00:32,  1.26s/it]"
     ]
    },
    {
     "name": "stdout",
     "output_type": "stream",
     "text": [
      "[2/200][163/189] ========== Loss_D: 1.4173, Loss_G: 1.9276, Acc_G: 13/32 = 40.6250\n"
     ]
    },
    {
     "name": "stderr",
     "output_type": "stream",
     "text": [
      " 87%|██████████████████████████████████████████████████████████████████████████▌           | 164/189 [03:21<00:31,  1.24s/it]"
     ]
    },
    {
     "name": "stdout",
     "output_type": "stream",
     "text": [
      "[2/200][164/189] ========== Loss_D: 1.4218, Loss_G: 1.8873, Acc_G: 14/32 = 43.7500\n"
     ]
    },
    {
     "name": "stderr",
     "output_type": "stream",
     "text": [
      " 87%|███████████████████████████████████████████████████████████████████████████           | 165/189 [03:22<00:29,  1.24s/it]"
     ]
    },
    {
     "name": "stdout",
     "output_type": "stream",
     "text": [
      "[2/200][165/189] ========== Loss_D: 1.4239, Loss_G: 1.9870, Acc_G: 9/32 = 28.1250\n"
     ]
    },
    {
     "name": "stderr",
     "output_type": "stream",
     "text": [
      " 88%|███████████████████████████████████████████████████████████████████████████▌          | 166/189 [03:23<00:27,  1.22s/it]"
     ]
    },
    {
     "name": "stdout",
     "output_type": "stream",
     "text": [
      "[2/200][166/189] ========== Loss_D: 1.4215, Loss_G: 1.9873, Acc_G: 8/32 = 25.0000\n"
     ]
    },
    {
     "name": "stderr",
     "output_type": "stream",
     "text": [
      " 88%|███████████████████████████████████████████████████████████████████████████▉          | 167/189 [03:25<00:27,  1.27s/it]"
     ]
    },
    {
     "name": "stdout",
     "output_type": "stream",
     "text": [
      "[2/200][167/189] ========== Loss_D: 1.4323, Loss_G: 1.9452, Acc_G: 9/32 = 28.1250\n"
     ]
    },
    {
     "name": "stderr",
     "output_type": "stream",
     "text": [
      " 89%|████████████████████████████████████████████████████████████████████████████▍         | 168/189 [03:26<00:25,  1.21s/it]"
     ]
    },
    {
     "name": "stdout",
     "output_type": "stream",
     "text": [
      "[2/200][168/189] ========== Loss_D: 1.4204, Loss_G: 1.9517, Acc_G: 8/32 = 25.0000\n"
     ]
    },
    {
     "name": "stderr",
     "output_type": "stream",
     "text": [
      " 89%|████████████████████████████████████████████████████████████████████████████▉         | 169/189 [03:27<00:23,  1.20s/it]"
     ]
    },
    {
     "name": "stdout",
     "output_type": "stream",
     "text": [
      "[2/200][169/189] ========== Loss_D: 1.4346, Loss_G: 1.8682, Acc_G: 7/32 = 21.8750\n"
     ]
    },
    {
     "name": "stderr",
     "output_type": "stream",
     "text": [
      " 90%|█████████████████████████████████████████████████████████████████████████████▎        | 170/189 [03:29<00:24,  1.28s/it]"
     ]
    },
    {
     "name": "stdout",
     "output_type": "stream",
     "text": [
      "[2/200][170/189] ========== Loss_D: 1.4329, Loss_G: 1.9396, Acc_G: 11/32 = 34.3750\n"
     ]
    },
    {
     "name": "stderr",
     "output_type": "stream",
     "text": [
      " 90%|█████████████████████████████████████████████████████████████████████████████▊        | 171/189 [03:30<00:21,  1.20s/it]"
     ]
    },
    {
     "name": "stdout",
     "output_type": "stream",
     "text": [
      "[2/200][171/189] ========== Loss_D: 1.4172, Loss_G: 1.9698, Acc_G: 16/32 = 50.0000\n"
     ]
    },
    {
     "name": "stderr",
     "output_type": "stream",
     "text": [
      " 91%|██████████████████████████████████████████████████████████████████████████████▎       | 172/189 [03:31<00:20,  1.23s/it]"
     ]
    },
    {
     "name": "stdout",
     "output_type": "stream",
     "text": [
      "[2/200][172/189] ========== Loss_D: 1.4230, Loss_G: 1.7701, Acc_G: 12/32 = 37.5000\n"
     ]
    },
    {
     "name": "stderr",
     "output_type": "stream",
     "text": [
      " 92%|██████████████████████████████████████████████████████████████████████████████▋       | 173/189 [03:32<00:20,  1.27s/it]"
     ]
    },
    {
     "name": "stdout",
     "output_type": "stream",
     "text": [
      "[2/200][173/189] ========== Loss_D: 1.4075, Loss_G: 1.8000, Acc_G: 12/32 = 37.5000\n"
     ]
    },
    {
     "name": "stderr",
     "output_type": "stream",
     "text": [
      " 92%|███████████████████████████████████████████████████████████████████████████████▏      | 174/189 [03:33<00:19,  1.27s/it]"
     ]
    },
    {
     "name": "stdout",
     "output_type": "stream",
     "text": [
      "[2/200][174/189] ========== Loss_D: 1.4206, Loss_G: 1.8691, Acc_G: 12/32 = 37.5000\n"
     ]
    },
    {
     "name": "stderr",
     "output_type": "stream",
     "text": [
      " 93%|███████████████████████████████████████████████████████████████████████████████▋      | 175/189 [03:35<00:16,  1.21s/it]"
     ]
    },
    {
     "name": "stdout",
     "output_type": "stream",
     "text": [
      "[2/200][175/189] ========== Loss_D: 1.4198, Loss_G: 1.8313, Acc_G: 8/32 = 25.0000\n"
     ]
    },
    {
     "name": "stderr",
     "output_type": "stream",
     "text": [
      " 93%|████████████████████████████████████████████████████████████████████████████████      | 176/189 [03:36<00:15,  1.20s/it]"
     ]
    },
    {
     "name": "stdout",
     "output_type": "stream",
     "text": [
      "[2/200][176/189] ========== Loss_D: 1.4424, Loss_G: 1.8108, Acc_G: 12/32 = 37.5000\n"
     ]
    },
    {
     "name": "stderr",
     "output_type": "stream",
     "text": [
      " 94%|████████████████████████████████████████████████████████████████████████████████▌     | 177/189 [03:37<00:16,  1.36s/it]"
     ]
    },
    {
     "name": "stdout",
     "output_type": "stream",
     "text": [
      "[2/200][177/189] ========== Loss_D: 1.4266, Loss_G: 1.8757, Acc_G: 8/32 = 25.0000\n"
     ]
    },
    {
     "name": "stderr",
     "output_type": "stream",
     "text": [
      " 94%|████████████████████████████████████████████████████████████████████████████████▉     | 178/189 [03:39<00:14,  1.32s/it]"
     ]
    },
    {
     "name": "stdout",
     "output_type": "stream",
     "text": [
      "[2/200][178/189] ========== Loss_D: 1.4322, Loss_G: 1.9622, Acc_G: 8/32 = 25.0000\n"
     ]
    },
    {
     "name": "stderr",
     "output_type": "stream",
     "text": [
      " 95%|█████████████████████████████████████████████████████████████████████████████████▍    | 179/189 [03:40<00:13,  1.30s/it]"
     ]
    },
    {
     "name": "stdout",
     "output_type": "stream",
     "text": [
      "[2/200][179/189] ========== Loss_D: 1.4308, Loss_G: 2.0310, Acc_G: 13/32 = 40.6250\n"
     ]
    },
    {
     "name": "stderr",
     "output_type": "stream",
     "text": [
      " 95%|█████████████████████████████████████████████████████████████████████████████████▉    | 180/189 [03:41<00:11,  1.27s/it]"
     ]
    },
    {
     "name": "stdout",
     "output_type": "stream",
     "text": [
      "[2/200][180/189] ========== Loss_D: 1.4304, Loss_G: 1.8143, Acc_G: 11/32 = 34.3750\n"
     ]
    },
    {
     "name": "stderr",
     "output_type": "stream",
     "text": [
      " 96%|██████████████████████████████████████████████████████████████████████████████████▎   | 181/189 [03:42<00:10,  1.28s/it]"
     ]
    },
    {
     "name": "stdout",
     "output_type": "stream",
     "text": [
      "[2/200][181/189] ========== Loss_D: 1.4162, Loss_G: 1.8031, Acc_G: 13/32 = 40.6250\n"
     ]
    },
    {
     "name": "stderr",
     "output_type": "stream",
     "text": [
      " 96%|██████████████████████████████████████████████████████████████████████████████████▊   | 182/189 [03:44<00:08,  1.27s/it]"
     ]
    },
    {
     "name": "stdout",
     "output_type": "stream",
     "text": [
      "[2/200][182/189] ========== Loss_D: 1.4201, Loss_G: 1.8818, Acc_G: 14/32 = 43.7500\n"
     ]
    },
    {
     "name": "stderr",
     "output_type": "stream",
     "text": [
      " 97%|███████████████████████████████████████████████████████████████████████████████████▎  | 183/189 [03:45<00:07,  1.19s/it]"
     ]
    },
    {
     "name": "stdout",
     "output_type": "stream",
     "text": [
      "[2/200][183/189] ========== Loss_D: 1.4061, Loss_G: 1.8336, Acc_G: 11/32 = 34.3750\n"
     ]
    },
    {
     "name": "stderr",
     "output_type": "stream",
     "text": [
      " 97%|███████████████████████████████████████████████████████████████████████████████████▋  | 184/189 [03:46<00:06,  1.21s/it]"
     ]
    },
    {
     "name": "stdout",
     "output_type": "stream",
     "text": [
      "[2/200][184/189] ========== Loss_D: 1.4269, Loss_G: 1.9123, Acc_G: 13/32 = 40.6250\n"
     ]
    },
    {
     "name": "stderr",
     "output_type": "stream",
     "text": [
      " 98%|████████████████████████████████████████████████████████████████████████████████████▏ | 185/189 [03:47<00:04,  1.24s/it]"
     ]
    },
    {
     "name": "stdout",
     "output_type": "stream",
     "text": [
      "[2/200][185/189] ========== Loss_D: 1.4356, Loss_G: 1.9308, Acc_G: 13/32 = 40.6250\n"
     ]
    },
    {
     "name": "stderr",
     "output_type": "stream",
     "text": [
      " 98%|████████████████████████████████████████████████████████████████████████████████████▋ | 186/189 [03:49<00:03,  1.28s/it]"
     ]
    },
    {
     "name": "stdout",
     "output_type": "stream",
     "text": [
      "[2/200][186/189] ========== Loss_D: 1.4308, Loss_G: 1.7997, Acc_G: 15/32 = 46.8750\n"
     ]
    },
    {
     "name": "stderr",
     "output_type": "stream",
     "text": [
      " 99%|█████████████████████████████████████████████████████████████████████████████████████ | 187/189 [03:50<00:02,  1.34s/it]"
     ]
    },
    {
     "name": "stdout",
     "output_type": "stream",
     "text": [
      "[2/200][187/189] ========== Loss_D: 1.4108, Loss_G: 1.8727, Acc_G: 11/32 = 34.3750\n"
     ]
    },
    {
     "name": "stderr",
     "output_type": "stream",
     "text": [
      " 99%|█████████████████████████████████████████████████████████████████████████████████████▌| 188/189 [03:51<00:01,  1.26s/it]"
     ]
    },
    {
     "name": "stdout",
     "output_type": "stream",
     "text": [
      "[2/200][188/189] ========== Loss_D: 1.4115, Loss_G: 1.8483, Acc_G: 14/32 = 43.7500\n"
     ]
    },
    {
     "name": "stderr",
     "output_type": "stream",
     "text": [
      "100%|██████████████████████████████████████████████████████████████████████████████████████| 189/189 [03:52<00:00,  1.23s/it]"
     ]
    },
    {
     "name": "stdout",
     "output_type": "stream",
     "text": [
      "[2/200][189/189] ========== Loss_D: 1.4186, Loss_G: 1.9819, Acc_G: 2/8 = 25.0000\n"
     ]
    },
    {
     "name": "stderr",
     "output_type": "stream",
     "text": [
      "\n"
     ]
    },
    {
     "name": "stdout",
     "output_type": "stream",
     "text": [
      "files to be deleted < length = 1 > -> ['G_epoch_3_save_model.pth', 'D_epoch_3_save_model.pth']\n"
     ]
    },
    {
     "name": "stderr",
     "output_type": "stream",
     "text": [
      "  1%|▍                                                                                       | 1/189 [00:01<05:37,  1.79s/it]"
     ]
    },
    {
     "name": "stdout",
     "output_type": "stream",
     "text": [
      "[3/200][1/189] ========== Loss_D: 1.4382, Loss_G: 1.8612, Acc_G: 16/32 = 50.0000\n"
     ]
    },
    {
     "name": "stderr",
     "output_type": "stream",
     "text": [
      "  1%|▉                                                                                       | 2/189 [00:03<04:53,  1.57s/it]"
     ]
    },
    {
     "name": "stdout",
     "output_type": "stream",
     "text": [
      "[3/200][2/189] ========== Loss_D: 1.4156, Loss_G: 1.9186, Acc_G: 11/32 = 34.3750\n"
     ]
    },
    {
     "name": "stderr",
     "output_type": "stream",
     "text": [
      "  2%|█▍                                                                                      | 3/189 [00:05<05:13,  1.69s/it]"
     ]
    },
    {
     "name": "stdout",
     "output_type": "stream",
     "text": [
      "[3/200][3/189] ========== Loss_D: 1.4248, Loss_G: 1.8366, Acc_G: 12/32 = 37.5000\n"
     ]
    },
    {
     "name": "stderr",
     "output_type": "stream",
     "text": [
      "  2%|█▊                                                                                      | 4/189 [00:06<04:48,  1.56s/it]"
     ]
    },
    {
     "name": "stdout",
     "output_type": "stream",
     "text": [
      "[3/200][4/189] ========== Loss_D: 1.4246, Loss_G: 1.7605, Acc_G: 10/32 = 31.2500\n"
     ]
    },
    {
     "name": "stderr",
     "output_type": "stream",
     "text": [
      "  3%|██▎                                                                                     | 5/189 [00:07<04:26,  1.45s/it]"
     ]
    },
    {
     "name": "stdout",
     "output_type": "stream",
     "text": [
      "[3/200][5/189] ========== Loss_D: 1.4045, Loss_G: 1.8233, Acc_G: 9/32 = 28.1250\n"
     ]
    },
    {
     "name": "stderr",
     "output_type": "stream",
     "text": [
      "  3%|██▊                                                                                     | 6/189 [00:09<04:24,  1.45s/it]"
     ]
    },
    {
     "name": "stdout",
     "output_type": "stream",
     "text": [
      "[3/200][6/189] ========== Loss_D: 1.4205, Loss_G: 1.9348, Acc_G: 10/32 = 31.2500\n"
     ]
    },
    {
     "name": "stderr",
     "output_type": "stream",
     "text": [
      "  4%|███▎                                                                                    | 7/189 [00:10<04:06,  1.35s/it]"
     ]
    },
    {
     "name": "stdout",
     "output_type": "stream",
     "text": [
      "[3/200][7/189] ========== Loss_D: 1.4340, Loss_G: 1.9588, Acc_G: 10/32 = 31.2500\n"
     ]
    },
    {
     "name": "stderr",
     "output_type": "stream",
     "text": [
      "  4%|███▋                                                                                    | 8/189 [00:11<03:45,  1.24s/it]"
     ]
    },
    {
     "name": "stdout",
     "output_type": "stream",
     "text": [
      "[3/200][8/189] ========== Loss_D: 1.4254, Loss_G: 1.7741, Acc_G: 11/32 = 34.3750\n"
     ]
    },
    {
     "name": "stderr",
     "output_type": "stream",
     "text": [
      "  5%|████▏                                                                                   | 9/189 [00:12<03:53,  1.30s/it]"
     ]
    },
    {
     "name": "stdout",
     "output_type": "stream",
     "text": [
      "[3/200][9/189] ========== Loss_D: 1.4310, Loss_G: 1.8498, Acc_G: 12/32 = 37.5000\n"
     ]
    },
    {
     "name": "stderr",
     "output_type": "stream",
     "text": [
      "  5%|████▌                                                                                  | 10/189 [00:14<03:55,  1.32s/it]"
     ]
    },
    {
     "name": "stdout",
     "output_type": "stream",
     "text": [
      "[3/200][10/189] ========== Loss_D: 1.4204, Loss_G: 1.8704, Acc_G: 13/32 = 40.6250\n"
     ]
    },
    {
     "name": "stderr",
     "output_type": "stream",
     "text": [
      "  6%|█████                                                                                  | 11/189 [00:15<03:49,  1.29s/it]"
     ]
    },
    {
     "name": "stdout",
     "output_type": "stream",
     "text": [
      "[3/200][11/189] ========== Loss_D: 1.4249, Loss_G: 1.9362, Acc_G: 12/32 = 37.5000\n"
     ]
    },
    {
     "name": "stderr",
     "output_type": "stream",
     "text": [
      "  6%|█████▌                                                                                 | 12/189 [00:16<03:33,  1.20s/it]"
     ]
    },
    {
     "name": "stdout",
     "output_type": "stream",
     "text": [
      "[3/200][12/189] ========== Loss_D: 1.4401, Loss_G: 1.8431, Acc_G: 12/32 = 37.5000\n"
     ]
    },
    {
     "name": "stderr",
     "output_type": "stream",
     "text": [
      "  7%|█████▉                                                                                 | 13/189 [00:17<03:38,  1.24s/it]"
     ]
    },
    {
     "name": "stdout",
     "output_type": "stream",
     "text": [
      "[3/200][13/189] ========== Loss_D: 1.4195, Loss_G: 1.9316, Acc_G: 14/32 = 43.7500\n"
     ]
    },
    {
     "name": "stderr",
     "output_type": "stream",
     "text": [
      "  7%|██████▍                                                                                | 14/189 [00:19<03:53,  1.33s/it]"
     ]
    },
    {
     "name": "stdout",
     "output_type": "stream",
     "text": [
      "[3/200][14/189] ========== Loss_D: 1.4155, Loss_G: 1.8490, Acc_G: 12/32 = 37.5000\n"
     ]
    },
    {
     "name": "stderr",
     "output_type": "stream",
     "text": [
      "  8%|██████▉                                                                                | 15/189 [00:20<03:45,  1.30s/it]"
     ]
    },
    {
     "name": "stdout",
     "output_type": "stream",
     "text": [
      "[3/200][15/189] ========== Loss_D: 1.4212, Loss_G: 1.8381, Acc_G: 10/32 = 31.2500\n"
     ]
    },
    {
     "name": "stderr",
     "output_type": "stream",
     "text": [
      "  8%|███████▎                                                                               | 16/189 [00:21<03:32,  1.23s/it]"
     ]
    },
    {
     "name": "stdout",
     "output_type": "stream",
     "text": [
      "[3/200][16/189] ========== Loss_D: 1.4270, Loss_G: 1.8451, Acc_G: 9/32 = 28.1250\n"
     ]
    },
    {
     "name": "stderr",
     "output_type": "stream",
     "text": [
      "  9%|███████▊                                                                               | 17/189 [00:23<03:49,  1.33s/it]"
     ]
    },
    {
     "name": "stdout",
     "output_type": "stream",
     "text": [
      "[3/200][17/189] ========== Loss_D: 1.4315, Loss_G: 1.8927, Acc_G: 17/32 = 53.1250\n"
     ]
    },
    {
     "name": "stderr",
     "output_type": "stream",
     "text": [
      " 10%|████████▎                                                                              | 18/189 [00:24<03:36,  1.26s/it]"
     ]
    },
    {
     "name": "stdout",
     "output_type": "stream",
     "text": [
      "[3/200][18/189] ========== Loss_D: 1.4095, Loss_G: 1.8473, Acc_G: 12/32 = 37.5000\n"
     ]
    },
    {
     "name": "stderr",
     "output_type": "stream",
     "text": [
      " 10%|████████▋                                                                              | 19/189 [00:25<03:44,  1.32s/it]"
     ]
    },
    {
     "name": "stdout",
     "output_type": "stream",
     "text": [
      "[3/200][19/189] ========== Loss_D: 1.4183, Loss_G: 1.7928, Acc_G: 11/32 = 34.3750\n"
     ]
    },
    {
     "name": "stderr",
     "output_type": "stream",
     "text": [
      " 11%|█████████▏                                                                             | 20/189 [00:26<03:39,  1.30s/it]"
     ]
    },
    {
     "name": "stdout",
     "output_type": "stream",
     "text": [
      "[3/200][20/189] ========== Loss_D: 1.4383, Loss_G: 1.8430, Acc_G: 9/32 = 28.1250\n"
     ]
    },
    {
     "name": "stderr",
     "output_type": "stream",
     "text": [
      " 11%|█████████▋                                                                             | 21/189 [00:28<03:32,  1.27s/it]"
     ]
    },
    {
     "name": "stdout",
     "output_type": "stream",
     "text": [
      "[3/200][21/189] ========== Loss_D: 1.4118, Loss_G: 1.9279, Acc_G: 13/32 = 40.6250\n"
     ]
    },
    {
     "name": "stderr",
     "output_type": "stream",
     "text": [
      " 12%|██████████▏                                                                            | 22/189 [00:29<03:25,  1.23s/it]"
     ]
    },
    {
     "name": "stdout",
     "output_type": "stream",
     "text": [
      "[3/200][22/189] ========== Loss_D: 1.4192, Loss_G: 1.8877, Acc_G: 14/32 = 43.7500\n"
     ]
    },
    {
     "name": "stderr",
     "output_type": "stream",
     "text": [
      " 12%|██████████▌                                                                            | 23/189 [00:30<03:17,  1.19s/it]"
     ]
    },
    {
     "name": "stdout",
     "output_type": "stream",
     "text": [
      "[3/200][23/189] ========== Loss_D: 1.4178, Loss_G: 1.9054, Acc_G: 13/32 = 40.6250\n"
     ]
    },
    {
     "name": "stderr",
     "output_type": "stream",
     "text": [
      " 13%|███████████                                                                            | 24/189 [00:31<03:15,  1.18s/it]"
     ]
    },
    {
     "name": "stdout",
     "output_type": "stream",
     "text": [
      "[3/200][24/189] ========== Loss_D: 1.4325, Loss_G: 1.8574, Acc_G: 12/32 = 37.5000\n"
     ]
    },
    {
     "name": "stderr",
     "output_type": "stream",
     "text": [
      " 13%|███████████▌                                                                           | 25/189 [00:32<03:08,  1.15s/it]"
     ]
    },
    {
     "name": "stdout",
     "output_type": "stream",
     "text": [
      "[3/200][25/189] ========== Loss_D: 1.4268, Loss_G: 1.8992, Acc_G: 11/32 = 34.3750\n"
     ]
    },
    {
     "name": "stderr",
     "output_type": "stream",
     "text": [
      " 14%|███████████▉                                                                           | 26/189 [00:33<03:08,  1.16s/it]"
     ]
    },
    {
     "name": "stdout",
     "output_type": "stream",
     "text": [
      "[3/200][26/189] ========== Loss_D: 1.4210, Loss_G: 1.8146, Acc_G: 14/32 = 43.7500\n"
     ]
    },
    {
     "name": "stderr",
     "output_type": "stream",
     "text": [
      " 14%|████████████▍                                                                          | 27/189 [00:34<03:09,  1.17s/it]"
     ]
    },
    {
     "name": "stdout",
     "output_type": "stream",
     "text": [
      "[3/200][27/189] ========== Loss_D: 1.4293, Loss_G: 1.9317, Acc_G: 13/32 = 40.6250\n"
     ]
    },
    {
     "name": "stderr",
     "output_type": "stream",
     "text": [
      " 15%|████████████▉                                                                          | 28/189 [00:36<03:16,  1.22s/it]"
     ]
    },
    {
     "name": "stdout",
     "output_type": "stream",
     "text": [
      "[3/200][28/189] ========== Loss_D: 1.4443, Loss_G: 1.8749, Acc_G: 11/32 = 34.3750\n"
     ]
    },
    {
     "name": "stderr",
     "output_type": "stream",
     "text": [
      " 15%|█████████████▎                                                                         | 29/189 [00:37<03:28,  1.30s/it]"
     ]
    },
    {
     "name": "stdout",
     "output_type": "stream",
     "text": [
      "[3/200][29/189] ========== Loss_D: 1.4103, Loss_G: 2.0221, Acc_G: 17/32 = 53.1250\n"
     ]
    },
    {
     "name": "stderr",
     "output_type": "stream",
     "text": [
      " 16%|█████████████▊                                                                         | 30/189 [00:38<03:07,  1.18s/it]"
     ]
    },
    {
     "name": "stdout",
     "output_type": "stream",
     "text": [
      "[3/200][30/189] ========== Loss_D: 1.4304, Loss_G: 1.9432, Acc_G: 11/32 = 34.3750\n"
     ]
    },
    {
     "name": "stderr",
     "output_type": "stream",
     "text": [
      " 16%|██████████████▎                                                                        | 31/189 [00:39<03:06,  1.18s/it]"
     ]
    },
    {
     "name": "stdout",
     "output_type": "stream",
     "text": [
      "[3/200][31/189] ========== Loss_D: 1.4360, Loss_G: 1.7670, Acc_G: 12/32 = 37.5000\n"
     ]
    },
    {
     "name": "stderr",
     "output_type": "stream",
     "text": [
      " 17%|██████████████▋                                                                        | 32/189 [00:41<03:08,  1.20s/it]"
     ]
    },
    {
     "name": "stdout",
     "output_type": "stream",
     "text": [
      "[3/200][32/189] ========== Loss_D: 1.4403, Loss_G: 1.9300, Acc_G: 13/32 = 40.6250\n"
     ]
    },
    {
     "name": "stderr",
     "output_type": "stream",
     "text": [
      " 17%|███████████████▏                                                                       | 33/189 [00:41<02:55,  1.13s/it]"
     ]
    },
    {
     "name": "stdout",
     "output_type": "stream",
     "text": [
      "[3/200][33/189] ========== Loss_D: 1.4355, Loss_G: 1.8287, Acc_G: 10/32 = 31.2500\n"
     ]
    },
    {
     "name": "stderr",
     "output_type": "stream",
     "text": [
      " 18%|███████████████▋                                                                       | 34/189 [00:43<02:54,  1.13s/it]"
     ]
    },
    {
     "name": "stdout",
     "output_type": "stream",
     "text": [
      "[3/200][34/189] ========== Loss_D: 1.4205, Loss_G: 1.8112, Acc_G: 11/32 = 34.3750\n"
     ]
    },
    {
     "name": "stderr",
     "output_type": "stream",
     "text": [
      " 19%|████████████████                                                                       | 35/189 [00:44<03:18,  1.29s/it]"
     ]
    },
    {
     "name": "stdout",
     "output_type": "stream",
     "text": [
      "[3/200][35/189] ========== Loss_D: 1.4305, Loss_G: 1.8730, Acc_G: 14/32 = 43.7500\n"
     ]
    },
    {
     "name": "stderr",
     "output_type": "stream",
     "text": [
      " 19%|████████████████▌                                                                      | 36/189 [00:45<03:11,  1.25s/it]"
     ]
    },
    {
     "name": "stdout",
     "output_type": "stream",
     "text": [
      "[3/200][36/189] ========== Loss_D: 1.4144, Loss_G: 1.8907, Acc_G: 8/32 = 25.0000\n"
     ]
    },
    {
     "name": "stderr",
     "output_type": "stream",
     "text": [
      " 20%|█████████████████                                                                      | 37/189 [00:46<03:01,  1.19s/it]"
     ]
    },
    {
     "name": "stdout",
     "output_type": "stream",
     "text": [
      "[3/200][37/189] ========== Loss_D: 1.4318, Loss_G: 1.9526, Acc_G: 12/32 = 37.5000\n"
     ]
    },
    {
     "name": "stderr",
     "output_type": "stream",
     "text": [
      " 20%|█████████████████▍                                                                     | 38/189 [00:48<03:08,  1.25s/it]"
     ]
    },
    {
     "name": "stdout",
     "output_type": "stream",
     "text": [
      "[3/200][38/189] ========== Loss_D: 1.4087, Loss_G: 1.8341, Acc_G: 13/32 = 40.6250\n"
     ]
    },
    {
     "name": "stderr",
     "output_type": "stream",
     "text": [
      " 21%|█████████████████▉                                                                     | 39/189 [00:49<03:23,  1.35s/it]"
     ]
    },
    {
     "name": "stdout",
     "output_type": "stream",
     "text": [
      "[3/200][39/189] ========== Loss_D: 1.4403, Loss_G: 1.9445, Acc_G: 14/32 = 43.7500\n"
     ]
    },
    {
     "name": "stderr",
     "output_type": "stream",
     "text": [
      " 21%|██████████████████▍                                                                    | 40/189 [00:51<03:08,  1.27s/it]"
     ]
    },
    {
     "name": "stdout",
     "output_type": "stream",
     "text": [
      "[3/200][40/189] ========== Loss_D: 1.4253, Loss_G: 1.8644, Acc_G: 10/32 = 31.2500\n"
     ]
    },
    {
     "name": "stderr",
     "output_type": "stream",
     "text": [
      " 22%|██████████████████▊                                                                    | 41/189 [00:52<03:07,  1.27s/it]"
     ]
    },
    {
     "name": "stdout",
     "output_type": "stream",
     "text": [
      "[3/200][41/189] ========== Loss_D: 1.4266, Loss_G: 1.8864, Acc_G: 10/32 = 31.2500\n"
     ]
    },
    {
     "name": "stderr",
     "output_type": "stream",
     "text": [
      " 22%|███████████████████▎                                                                   | 42/189 [00:53<02:57,  1.20s/it]"
     ]
    },
    {
     "name": "stdout",
     "output_type": "stream",
     "text": [
      "[3/200][42/189] ========== Loss_D: 1.4303, Loss_G: 1.8923, Acc_G: 13/32 = 40.6250\n"
     ]
    },
    {
     "name": "stderr",
     "output_type": "stream",
     "text": [
      " 23%|███████████████████▊                                                                   | 43/189 [00:54<02:58,  1.22s/it]"
     ]
    },
    {
     "name": "stdout",
     "output_type": "stream",
     "text": [
      "[3/200][43/189] ========== Loss_D: 1.4292, Loss_G: 1.8490, Acc_G: 11/32 = 34.3750\n"
     ]
    },
    {
     "name": "stderr",
     "output_type": "stream",
     "text": [
      " 23%|████████████████████▎                                                                  | 44/189 [00:55<02:45,  1.14s/it]"
     ]
    },
    {
     "name": "stdout",
     "output_type": "stream",
     "text": [
      "[3/200][44/189] ========== Loss_D: 1.4176, Loss_G: 1.8592, Acc_G: 12/32 = 37.5000\n"
     ]
    },
    {
     "name": "stderr",
     "output_type": "stream",
     "text": [
      " 24%|████████████████████▋                                                                  | 45/189 [00:56<02:44,  1.15s/it]"
     ]
    },
    {
     "name": "stdout",
     "output_type": "stream",
     "text": [
      "[3/200][45/189] ========== Loss_D: 1.4141, Loss_G: 1.7977, Acc_G: 17/32 = 53.1250\n"
     ]
    },
    {
     "name": "stderr",
     "output_type": "stream",
     "text": [
      " 24%|█████████████████████▏                                                                 | 46/189 [00:57<02:39,  1.12s/it]"
     ]
    },
    {
     "name": "stdout",
     "output_type": "stream",
     "text": [
      "[3/200][46/189] ========== Loss_D: 1.4071, Loss_G: 1.9377, Acc_G: 13/32 = 40.6250\n"
     ]
    },
    {
     "name": "stderr",
     "output_type": "stream",
     "text": [
      " 25%|█████████████████████▋                                                                 | 47/189 [00:59<03:05,  1.30s/it]"
     ]
    },
    {
     "name": "stdout",
     "output_type": "stream",
     "text": [
      "[3/200][47/189] ========== Loss_D: 1.4081, Loss_G: 1.8490, Acc_G: 16/32 = 50.0000\n"
     ]
    },
    {
     "name": "stderr",
     "output_type": "stream",
     "text": [
      " 25%|██████████████████████                                                                 | 48/189 [01:00<02:55,  1.25s/it]"
     ]
    },
    {
     "name": "stdout",
     "output_type": "stream",
     "text": [
      "[3/200][48/189] ========== Loss_D: 1.4079, Loss_G: 1.8452, Acc_G: 12/32 = 37.5000\n"
     ]
    },
    {
     "name": "stderr",
     "output_type": "stream",
     "text": [
      " 26%|██████████████████████▌                                                                | 49/189 [01:01<02:48,  1.20s/it]"
     ]
    },
    {
     "name": "stdout",
     "output_type": "stream",
     "text": [
      "[3/200][49/189] ========== Loss_D: 1.4284, Loss_G: 1.9322, Acc_G: 10/32 = 31.2500\n"
     ]
    },
    {
     "name": "stderr",
     "output_type": "stream",
     "text": [
      " 26%|███████████████████████                                                                | 50/189 [01:02<02:42,  1.17s/it]"
     ]
    },
    {
     "name": "stdout",
     "output_type": "stream",
     "text": [
      "[3/200][50/189] ========== Loss_D: 1.4443, Loss_G: 1.8862, Acc_G: 12/32 = 37.5000\n"
     ]
    },
    {
     "name": "stderr",
     "output_type": "stream",
     "text": [
      " 27%|███████████████████████▍                                                               | 51/189 [01:04<02:50,  1.24s/it]"
     ]
    },
    {
     "name": "stdout",
     "output_type": "stream",
     "text": [
      "[3/200][51/189] ========== Loss_D: 1.4419, Loss_G: 1.8901, Acc_G: 10/32 = 31.2500\n"
     ]
    },
    {
     "name": "stderr",
     "output_type": "stream",
     "text": [
      " 28%|███████████████████████▉                                                               | 52/189 [01:05<02:42,  1.19s/it]"
     ]
    },
    {
     "name": "stdout",
     "output_type": "stream",
     "text": [
      "[3/200][52/189] ========== Loss_D: 1.4217, Loss_G: 1.9151, Acc_G: 11/32 = 34.3750\n"
     ]
    },
    {
     "name": "stderr",
     "output_type": "stream",
     "text": [
      " 28%|████████████████████████▍                                                              | 53/189 [01:06<02:52,  1.27s/it]"
     ]
    },
    {
     "name": "stdout",
     "output_type": "stream",
     "text": [
      "[3/200][53/189] ========== Loss_D: 1.4180, Loss_G: 1.7642, Acc_G: 13/32 = 40.6250\n"
     ]
    },
    {
     "name": "stderr",
     "output_type": "stream",
     "text": [
      " 29%|████████████████████████▊                                                              | 54/189 [01:08<02:53,  1.29s/it]"
     ]
    },
    {
     "name": "stdout",
     "output_type": "stream",
     "text": [
      "[3/200][54/189] ========== Loss_D: 1.4175, Loss_G: 1.9226, Acc_G: 18/32 = 56.2500\n"
     ]
    },
    {
     "name": "stderr",
     "output_type": "stream",
     "text": [
      " 29%|█████████████████████████▎                                                             | 55/189 [01:09<02:57,  1.32s/it]"
     ]
    },
    {
     "name": "stdout",
     "output_type": "stream",
     "text": [
      "[3/200][55/189] ========== Loss_D: 1.4346, Loss_G: 1.8617, Acc_G: 14/32 = 43.7500\n"
     ]
    },
    {
     "name": "stderr",
     "output_type": "stream",
     "text": [
      " 30%|█████████████████████████▊                                                             | 56/189 [01:10<02:52,  1.29s/it]"
     ]
    },
    {
     "name": "stdout",
     "output_type": "stream",
     "text": [
      "[3/200][56/189] ========== Loss_D: 1.4253, Loss_G: 1.8872, Acc_G: 11/32 = 34.3750\n"
     ]
    },
    {
     "name": "stderr",
     "output_type": "stream",
     "text": [
      " 30%|██████████████████████████▏                                                            | 57/189 [01:12<02:52,  1.30s/it]"
     ]
    },
    {
     "name": "stdout",
     "output_type": "stream",
     "text": [
      "[3/200][57/189] ========== Loss_D: 1.4084, Loss_G: 1.8220, Acc_G: 13/32 = 40.6250\n"
     ]
    },
    {
     "name": "stderr",
     "output_type": "stream",
     "text": [
      " 31%|██████████████████████████▋                                                            | 58/189 [01:13<02:58,  1.37s/it]"
     ]
    },
    {
     "name": "stdout",
     "output_type": "stream",
     "text": [
      "[3/200][58/189] ========== Loss_D: 1.4017, Loss_G: 1.8901, Acc_G: 16/32 = 50.0000\n"
     ]
    },
    {
     "name": "stderr",
     "output_type": "stream",
     "text": [
      " 31%|███████████████████████████▏                                                           | 59/189 [01:14<02:40,  1.23s/it]"
     ]
    },
    {
     "name": "stdout",
     "output_type": "stream",
     "text": [
      "[3/200][59/189] ========== Loss_D: 1.4298, Loss_G: 1.8795, Acc_G: 14/32 = 43.7500\n"
     ]
    },
    {
     "name": "stderr",
     "output_type": "stream",
     "text": [
      " 32%|███████████████████████████▌                                                           | 60/189 [01:15<02:46,  1.29s/it]"
     ]
    },
    {
     "name": "stdout",
     "output_type": "stream",
     "text": [
      "[3/200][60/189] ========== Loss_D: 1.4358, Loss_G: 1.9216, Acc_G: 12/32 = 37.5000\n"
     ]
    },
    {
     "name": "stderr",
     "output_type": "stream",
     "text": [
      " 32%|████████████████████████████                                                           | 61/189 [01:16<02:35,  1.22s/it]"
     ]
    },
    {
     "name": "stdout",
     "output_type": "stream",
     "text": [
      "[3/200][61/189] ========== Loss_D: 1.4319, Loss_G: 1.8866, Acc_G: 15/32 = 46.8750\n"
     ]
    },
    {
     "name": "stderr",
     "output_type": "stream",
     "text": [
      " 33%|████████████████████████████▌                                                          | 62/189 [01:18<02:29,  1.18s/it]"
     ]
    },
    {
     "name": "stdout",
     "output_type": "stream",
     "text": [
      "[3/200][62/189] ========== Loss_D: 1.4249, Loss_G: 1.8502, Acc_G: 11/32 = 34.3750\n"
     ]
    },
    {
     "name": "stderr",
     "output_type": "stream",
     "text": [
      " 33%|█████████████████████████████                                                          | 63/189 [01:19<02:31,  1.20s/it]"
     ]
    },
    {
     "name": "stdout",
     "output_type": "stream",
     "text": [
      "[3/200][63/189] ========== Loss_D: 1.4174, Loss_G: 1.9744, Acc_G: 8/32 = 25.0000\n"
     ]
    },
    {
     "name": "stderr",
     "output_type": "stream",
     "text": [
      " 34%|█████████████████████████████▍                                                         | 64/189 [01:20<02:20,  1.12s/it]"
     ]
    },
    {
     "name": "stdout",
     "output_type": "stream",
     "text": [
      "[3/200][64/189] ========== Loss_D: 1.4047, Loss_G: 1.9434, Acc_G: 9/32 = 28.1250\n"
     ]
    },
    {
     "name": "stderr",
     "output_type": "stream",
     "text": [
      " 34%|█████████████████████████████▉                                                         | 65/189 [01:21<02:16,  1.10s/it]"
     ]
    },
    {
     "name": "stdout",
     "output_type": "stream",
     "text": [
      "[3/200][65/189] ========== Loss_D: 1.4129, Loss_G: 1.8116, Acc_G: 14/32 = 43.7500\n"
     ]
    },
    {
     "name": "stderr",
     "output_type": "stream",
     "text": [
      " 35%|██████████████████████████████▍                                                        | 66/189 [01:22<02:20,  1.14s/it]"
     ]
    },
    {
     "name": "stdout",
     "output_type": "stream",
     "text": [
      "[3/200][66/189] ========== Loss_D: 1.4131, Loss_G: 1.9261, Acc_G: 12/32 = 37.5000\n"
     ]
    },
    {
     "name": "stderr",
     "output_type": "stream",
     "text": [
      " 35%|██████████████████████████████▊                                                        | 67/189 [01:23<02:23,  1.18s/it]"
     ]
    },
    {
     "name": "stdout",
     "output_type": "stream",
     "text": [
      "[3/200][67/189] ========== Loss_D: 1.4218, Loss_G: 1.8417, Acc_G: 11/32 = 34.3750\n"
     ]
    },
    {
     "name": "stderr",
     "output_type": "stream",
     "text": [
      " 36%|███████████████████████████████▎                                                       | 68/189 [01:24<02:21,  1.17s/it]"
     ]
    },
    {
     "name": "stdout",
     "output_type": "stream",
     "text": [
      "[3/200][68/189] ========== Loss_D: 1.4466, Loss_G: 1.8992, Acc_G: 17/32 = 53.1250\n"
     ]
    },
    {
     "name": "stderr",
     "output_type": "stream",
     "text": [
      " 37%|███████████████████████████████▊                                                       | 69/189 [01:26<02:21,  1.18s/it]"
     ]
    },
    {
     "name": "stdout",
     "output_type": "stream",
     "text": [
      "[3/200][69/189] ========== Loss_D: 1.4342, Loss_G: 1.7603, Acc_G: 13/32 = 40.6250\n"
     ]
    },
    {
     "name": "stderr",
     "output_type": "stream",
     "text": [
      " 37%|████████████████████████████████▏                                                      | 70/189 [01:27<02:29,  1.25s/it]"
     ]
    },
    {
     "name": "stdout",
     "output_type": "stream",
     "text": [
      "[3/200][70/189] ========== Loss_D: 1.4250, Loss_G: 1.8953, Acc_G: 9/32 = 28.1250\n"
     ]
    },
    {
     "name": "stderr",
     "output_type": "stream",
     "text": [
      " 38%|████████████████████████████████▋                                                      | 71/189 [01:28<02:20,  1.19s/it]"
     ]
    },
    {
     "name": "stdout",
     "output_type": "stream",
     "text": [
      "[3/200][71/189] ========== Loss_D: 1.4281, Loss_G: 1.7936, Acc_G: 12/32 = 37.5000\n"
     ]
    },
    {
     "name": "stderr",
     "output_type": "stream",
     "text": [
      " 38%|█████████████████████████████████▏                                                     | 72/189 [01:29<02:14,  1.15s/it]"
     ]
    },
    {
     "name": "stdout",
     "output_type": "stream",
     "text": [
      "[3/200][72/189] ========== Loss_D: 1.4176, Loss_G: 1.8721, Acc_G: 14/32 = 43.7500\n"
     ]
    },
    {
     "name": "stderr",
     "output_type": "stream",
     "text": [
      " 39%|█████████████████████████████████▌                                                     | 73/189 [01:30<02:17,  1.18s/it]"
     ]
    },
    {
     "name": "stdout",
     "output_type": "stream",
     "text": [
      "[3/200][73/189] ========== Loss_D: 1.4169, Loss_G: 1.8446, Acc_G: 16/32 = 50.0000\n"
     ]
    },
    {
     "name": "stderr",
     "output_type": "stream",
     "text": [
      " 39%|██████████████████████████████████                                                     | 74/189 [01:31<02:06,  1.10s/it]"
     ]
    },
    {
     "name": "stdout",
     "output_type": "stream",
     "text": [
      "[3/200][74/189] ========== Loss_D: 1.4205, Loss_G: 1.7342, Acc_G: 12/32 = 37.5000\n"
     ]
    },
    {
     "name": "stderr",
     "output_type": "stream",
     "text": [
      " 40%|██████████████████████████████████▌                                                    | 75/189 [01:33<02:09,  1.14s/it]"
     ]
    },
    {
     "name": "stdout",
     "output_type": "stream",
     "text": [
      "[3/200][75/189] ========== Loss_D: 1.4281, Loss_G: 2.0764, Acc_G: 11/32 = 34.3750\n"
     ]
    },
    {
     "name": "stderr",
     "output_type": "stream",
     "text": [
      " 40%|██████████████████████████████████▉                                                    | 76/189 [01:33<02:02,  1.08s/it]"
     ]
    },
    {
     "name": "stdout",
     "output_type": "stream",
     "text": [
      "[3/200][76/189] ========== Loss_D: 1.4010, Loss_G: 1.8414, Acc_G: 14/32 = 43.7500\n"
     ]
    },
    {
     "name": "stderr",
     "output_type": "stream",
     "text": [
      " 41%|███████████████████████████████████▍                                                   | 77/189 [01:35<02:16,  1.22s/it]"
     ]
    },
    {
     "name": "stdout",
     "output_type": "stream",
     "text": [
      "[3/200][77/189] ========== Loss_D: 1.4181, Loss_G: 1.8146, Acc_G: 14/32 = 43.7500\n"
     ]
    },
    {
     "name": "stderr",
     "output_type": "stream",
     "text": [
      " 41%|███████████████████████████████████▉                                                   | 78/189 [01:36<02:07,  1.15s/it]"
     ]
    },
    {
     "name": "stdout",
     "output_type": "stream",
     "text": [
      "[3/200][78/189] ========== Loss_D: 1.4345, Loss_G: 1.9376, Acc_G: 9/32 = 28.1250\n"
     ]
    },
    {
     "name": "stderr",
     "output_type": "stream",
     "text": [
      " 42%|████████████████████████████████████▎                                                  | 79/189 [01:37<02:11,  1.20s/it]"
     ]
    },
    {
     "name": "stdout",
     "output_type": "stream",
     "text": [
      "[3/200][79/189] ========== Loss_D: 1.4195, Loss_G: 1.9075, Acc_G: 17/32 = 53.1250\n"
     ]
    },
    {
     "name": "stderr",
     "output_type": "stream",
     "text": [
      " 42%|████████████████████████████████████▊                                                  | 80/189 [01:38<02:04,  1.14s/it]"
     ]
    },
    {
     "name": "stdout",
     "output_type": "stream",
     "text": [
      "[3/200][80/189] ========== Loss_D: 1.4269, Loss_G: 1.8633, Acc_G: 15/32 = 46.8750\n"
     ]
    },
    {
     "name": "stderr",
     "output_type": "stream",
     "text": [
      " 43%|█████████████████████████████████████▎                                                 | 81/189 [01:39<02:01,  1.13s/it]"
     ]
    },
    {
     "name": "stdout",
     "output_type": "stream",
     "text": [
      "[3/200][81/189] ========== Loss_D: 1.4377, Loss_G: 1.9216, Acc_G: 12/32 = 37.5000\n"
     ]
    },
    {
     "name": "stderr",
     "output_type": "stream",
     "text": [
      " 43%|█████████████████████████████████████▋                                                 | 82/189 [01:41<02:04,  1.16s/it]"
     ]
    },
    {
     "name": "stdout",
     "output_type": "stream",
     "text": [
      "[3/200][82/189] ========== Loss_D: 1.4269, Loss_G: 1.8003, Acc_G: 8/32 = 25.0000\n"
     ]
    },
    {
     "name": "stderr",
     "output_type": "stream",
     "text": [
      " 44%|██████████████████████████████████████▏                                                | 83/189 [01:42<02:07,  1.21s/it]"
     ]
    },
    {
     "name": "stdout",
     "output_type": "stream",
     "text": [
      "[3/200][83/189] ========== Loss_D: 1.4170, Loss_G: 1.8728, Acc_G: 13/32 = 40.6250\n"
     ]
    },
    {
     "name": "stderr",
     "output_type": "stream",
     "text": [
      " 44%|██████████████████████████████████████▋                                                | 84/189 [01:43<02:15,  1.29s/it]"
     ]
    },
    {
     "name": "stdout",
     "output_type": "stream",
     "text": [
      "[3/200][84/189] ========== Loss_D: 1.4171, Loss_G: 1.9842, Acc_G: 16/32 = 50.0000\n"
     ]
    },
    {
     "name": "stderr",
     "output_type": "stream",
     "text": [
      " 45%|███████████████████████████████████████▏                                               | 85/189 [01:45<02:13,  1.28s/it]"
     ]
    },
    {
     "name": "stdout",
     "output_type": "stream",
     "text": [
      "[3/200][85/189] ========== Loss_D: 1.4217, Loss_G: 1.9029, Acc_G: 12/32 = 37.5000\n"
     ]
    },
    {
     "name": "stderr",
     "output_type": "stream",
     "text": [
      " 46%|███████████████████████████████████████▌                                               | 86/189 [01:46<02:09,  1.26s/it]"
     ]
    },
    {
     "name": "stdout",
     "output_type": "stream",
     "text": [
      "[3/200][86/189] ========== Loss_D: 1.4290, Loss_G: 1.9239, Acc_G: 13/32 = 40.6250\n"
     ]
    },
    {
     "name": "stderr",
     "output_type": "stream",
     "text": [
      " 46%|████████████████████████████████████████                                               | 87/189 [01:47<02:16,  1.33s/it]"
     ]
    },
    {
     "name": "stdout",
     "output_type": "stream",
     "text": [
      "[3/200][87/189] ========== Loss_D: 1.4099, Loss_G: 1.8677, Acc_G: 18/32 = 56.2500\n"
     ]
    },
    {
     "name": "stderr",
     "output_type": "stream",
     "text": [
      " 47%|████████████████████████████████████████▌                                              | 88/189 [01:48<02:05,  1.24s/it]"
     ]
    },
    {
     "name": "stdout",
     "output_type": "stream",
     "text": [
      "[3/200][88/189] ========== Loss_D: 1.4272, Loss_G: 1.8584, Acc_G: 12/32 = 37.5000\n"
     ]
    },
    {
     "name": "stderr",
     "output_type": "stream",
     "text": [
      " 47%|████████████████████████████████████████▉                                              | 89/189 [01:50<02:00,  1.21s/it]"
     ]
    },
    {
     "name": "stdout",
     "output_type": "stream",
     "text": [
      "[3/200][89/189] ========== Loss_D: 1.4240, Loss_G: 1.8410, Acc_G: 15/32 = 46.8750\n"
     ]
    },
    {
     "name": "stderr",
     "output_type": "stream",
     "text": [
      " 48%|█████████████████████████████████████████▍                                             | 90/189 [01:51<02:00,  1.22s/it]"
     ]
    },
    {
     "name": "stdout",
     "output_type": "stream",
     "text": [
      "[3/200][90/189] ========== Loss_D: 1.4154, Loss_G: 1.8895, Acc_G: 17/32 = 53.1250\n"
     ]
    },
    {
     "name": "stderr",
     "output_type": "stream",
     "text": [
      " 48%|█████████████████████████████████████████▉                                             | 91/189 [01:52<02:01,  1.24s/it]"
     ]
    },
    {
     "name": "stdout",
     "output_type": "stream",
     "text": [
      "[3/200][91/189] ========== Loss_D: 1.4501, Loss_G: 1.9245, Acc_G: 17/32 = 53.1250\n"
     ]
    },
    {
     "name": "stderr",
     "output_type": "stream",
     "text": [
      " 49%|██████████████████████████████████████████▎                                            | 92/189 [01:53<01:57,  1.21s/it]"
     ]
    },
    {
     "name": "stdout",
     "output_type": "stream",
     "text": [
      "[3/200][92/189] ========== Loss_D: 1.4135, Loss_G: 1.9787, Acc_G: 11/32 = 34.3750\n"
     ]
    },
    {
     "name": "stderr",
     "output_type": "stream",
     "text": [
      " 49%|██████████████████████████████████████████▊                                            | 93/189 [01:55<01:58,  1.23s/it]"
     ]
    },
    {
     "name": "stdout",
     "output_type": "stream",
     "text": [
      "[3/200][93/189] ========== Loss_D: 1.4282, Loss_G: 1.9845, Acc_G: 16/32 = 50.0000\n"
     ]
    },
    {
     "name": "stderr",
     "output_type": "stream",
     "text": [
      " 50%|███████████████████████████████████████████▎                                           | 94/189 [01:56<01:56,  1.22s/it]"
     ]
    },
    {
     "name": "stdout",
     "output_type": "stream",
     "text": [
      "[3/200][94/189] ========== Loss_D: 1.4202, Loss_G: 1.8144, Acc_G: 14/32 = 43.7500\n"
     ]
    },
    {
     "name": "stderr",
     "output_type": "stream",
     "text": [
      " 50%|███████████████████████████████████████████▋                                           | 95/189 [01:57<01:48,  1.16s/it]"
     ]
    },
    {
     "name": "stdout",
     "output_type": "stream",
     "text": [
      "[3/200][95/189] ========== Loss_D: 1.4356, Loss_G: 1.8774, Acc_G: 13/32 = 40.6250\n"
     ]
    },
    {
     "name": "stderr",
     "output_type": "stream",
     "text": [
      " 51%|████████████████████████████████████████████▏                                          | 96/189 [01:58<01:56,  1.25s/it]"
     ]
    },
    {
     "name": "stdout",
     "output_type": "stream",
     "text": [
      "[3/200][96/189] ========== Loss_D: 1.4255, Loss_G: 1.7583, Acc_G: 13/32 = 40.6250\n"
     ]
    },
    {
     "name": "stderr",
     "output_type": "stream",
     "text": [
      " 51%|████████████████████████████████████████████▋                                          | 97/189 [01:59<01:48,  1.18s/it]"
     ]
    },
    {
     "name": "stdout",
     "output_type": "stream",
     "text": [
      "[3/200][97/189] ========== Loss_D: 1.4220, Loss_G: 1.8929, Acc_G: 13/32 = 40.6250\n"
     ]
    },
    {
     "name": "stderr",
     "output_type": "stream",
     "text": [
      " 52%|█████████████████████████████████████████████                                          | 98/189 [02:01<01:51,  1.23s/it]"
     ]
    },
    {
     "name": "stdout",
     "output_type": "stream",
     "text": [
      "[3/200][98/189] ========== Loss_D: 1.4118, Loss_G: 1.7714, Acc_G: 9/32 = 28.1250\n"
     ]
    },
    {
     "name": "stderr",
     "output_type": "stream",
     "text": [
      " 52%|█████████████████████████████████████████████▌                                         | 99/189 [02:02<01:55,  1.28s/it]"
     ]
    },
    {
     "name": "stdout",
     "output_type": "stream",
     "text": [
      "[3/200][99/189] ========== Loss_D: 1.4324, Loss_G: 1.8787, Acc_G: 18/32 = 56.2500\n"
     ]
    },
    {
     "name": "stderr",
     "output_type": "stream",
     "text": [
      " 53%|█████████████████████████████████████████████▌                                        | 100/189 [02:03<01:43,  1.16s/it]"
     ]
    },
    {
     "name": "stdout",
     "output_type": "stream",
     "text": [
      "[3/200][100/189] ========== Loss_D: 1.4102, Loss_G: 1.8161, Acc_G: 13/32 = 40.6250\n"
     ]
    },
    {
     "name": "stderr",
     "output_type": "stream",
     "text": [
      " 53%|█████████████████████████████████████████████▉                                        | 101/189 [02:04<01:41,  1.15s/it]"
     ]
    },
    {
     "name": "stdout",
     "output_type": "stream",
     "text": [
      "[3/200][101/189] ========== Loss_D: 1.4239, Loss_G: 1.7942, Acc_G: 14/32 = 43.7500\n"
     ]
    },
    {
     "name": "stderr",
     "output_type": "stream",
     "text": [
      " 54%|██████████████████████████████████████████████▍                                       | 102/189 [02:05<01:45,  1.21s/it]"
     ]
    },
    {
     "name": "stdout",
     "output_type": "stream",
     "text": [
      "[3/200][102/189] ========== Loss_D: 1.4322, Loss_G: 1.8246, Acc_G: 16/32 = 50.0000\n"
     ]
    },
    {
     "name": "stderr",
     "output_type": "stream",
     "text": [
      " 54%|██████████████████████████████████████████████▊                                       | 103/189 [02:07<01:48,  1.26s/it]"
     ]
    },
    {
     "name": "stdout",
     "output_type": "stream",
     "text": [
      "[3/200][103/189] ========== Loss_D: 1.4195, Loss_G: 1.9873, Acc_G: 14/32 = 43.7500\n"
     ]
    },
    {
     "name": "stderr",
     "output_type": "stream",
     "text": [
      " 55%|███████████████████████████████████████████████▎                                      | 104/189 [02:08<01:50,  1.31s/it]"
     ]
    },
    {
     "name": "stdout",
     "output_type": "stream",
     "text": [
      "[3/200][104/189] ========== Loss_D: 1.4327, Loss_G: 1.8566, Acc_G: 10/32 = 31.2500\n"
     ]
    },
    {
     "name": "stderr",
     "output_type": "stream",
     "text": [
      " 56%|███████████████████████████████████████████████▊                                      | 105/189 [02:09<01:46,  1.26s/it]"
     ]
    },
    {
     "name": "stdout",
     "output_type": "stream",
     "text": [
      "[3/200][105/189] ========== Loss_D: 1.4375, Loss_G: 1.8673, Acc_G: 12/32 = 37.5000\n"
     ]
    },
    {
     "name": "stderr",
     "output_type": "stream",
     "text": [
      " 56%|████████████████████████████████████████████████▏                                     | 106/189 [02:11<01:44,  1.26s/it]"
     ]
    },
    {
     "name": "stdout",
     "output_type": "stream",
     "text": [
      "[3/200][106/189] ========== Loss_D: 1.4299, Loss_G: 1.9686, Acc_G: 14/32 = 43.7500\n"
     ]
    },
    {
     "name": "stderr",
     "output_type": "stream",
     "text": [
      " 57%|████████████████████████████████████████████████▋                                     | 107/189 [02:12<01:36,  1.18s/it]"
     ]
    },
    {
     "name": "stdout",
     "output_type": "stream",
     "text": [
      "[3/200][107/189] ========== Loss_D: 1.4194, Loss_G: 1.8983, Acc_G: 10/32 = 31.2500\n"
     ]
    },
    {
     "name": "stderr",
     "output_type": "stream",
     "text": [
      " 57%|█████████████████████████████████████████████████▏                                    | 108/189 [02:13<01:34,  1.16s/it]"
     ]
    },
    {
     "name": "stdout",
     "output_type": "stream",
     "text": [
      "[3/200][108/189] ========== Loss_D: 1.4351, Loss_G: 1.8464, Acc_G: 20/32 = 62.5000\n"
     ]
    },
    {
     "name": "stderr",
     "output_type": "stream",
     "text": [
      " 58%|█████████████████████████████████████████████████▌                                    | 109/189 [02:14<01:35,  1.19s/it]"
     ]
    },
    {
     "name": "stdout",
     "output_type": "stream",
     "text": [
      "[3/200][109/189] ========== Loss_D: 1.4242, Loss_G: 1.8654, Acc_G: 10/32 = 31.2500\n"
     ]
    },
    {
     "name": "stderr",
     "output_type": "stream",
     "text": [
      " 58%|██████████████████████████████████████████████████                                    | 110/189 [02:15<01:30,  1.15s/it]"
     ]
    },
    {
     "name": "stdout",
     "output_type": "stream",
     "text": [
      "[3/200][110/189] ========== Loss_D: 1.4244, Loss_G: 1.8341, Acc_G: 16/32 = 50.0000\n"
     ]
    },
    {
     "name": "stderr",
     "output_type": "stream",
     "text": [
      " 59%|██████████████████████████████████████████████████▌                                   | 111/189 [02:16<01:28,  1.13s/it]"
     ]
    },
    {
     "name": "stdout",
     "output_type": "stream",
     "text": [
      "[3/200][111/189] ========== Loss_D: 1.4381, Loss_G: 1.8313, Acc_G: 13/32 = 40.6250\n"
     ]
    },
    {
     "name": "stderr",
     "output_type": "stream",
     "text": [
      " 59%|██████████████████████████████████████████████████▉                                   | 112/189 [02:18<01:37,  1.26s/it]"
     ]
    },
    {
     "name": "stdout",
     "output_type": "stream",
     "text": [
      "[3/200][112/189] ========== Loss_D: 1.4118, Loss_G: 1.8389, Acc_G: 17/32 = 53.1250\n"
     ]
    },
    {
     "name": "stderr",
     "output_type": "stream",
     "text": [
      " 60%|███████████████████████████████████████████████████▍                                  | 113/189 [02:19<01:29,  1.17s/it]"
     ]
    },
    {
     "name": "stdout",
     "output_type": "stream",
     "text": [
      "[3/200][113/189] ========== Loss_D: 1.4347, Loss_G: 1.7673, Acc_G: 16/32 = 50.0000\n"
     ]
    },
    {
     "name": "stderr",
     "output_type": "stream",
     "text": [
      " 60%|███████████████████████████████████████████████████▊                                  | 114/189 [02:20<01:24,  1.13s/it]"
     ]
    },
    {
     "name": "stdout",
     "output_type": "stream",
     "text": [
      "[3/200][114/189] ========== Loss_D: 1.4204, Loss_G: 1.8539, Acc_G: 19/32 = 59.3750\n"
     ]
    },
    {
     "name": "stderr",
     "output_type": "stream",
     "text": [
      " 61%|████████████████████████████████████████████████████▎                                 | 115/189 [02:21<01:26,  1.17s/it]"
     ]
    },
    {
     "name": "stdout",
     "output_type": "stream",
     "text": [
      "[3/200][115/189] ========== Loss_D: 1.4142, Loss_G: 1.7798, Acc_G: 16/32 = 50.0000\n"
     ]
    },
    {
     "name": "stderr",
     "output_type": "stream",
     "text": [
      " 61%|████████████████████████████████████████████████████▊                                 | 116/189 [02:22<01:25,  1.17s/it]"
     ]
    },
    {
     "name": "stdout",
     "output_type": "stream",
     "text": [
      "[3/200][116/189] ========== Loss_D: 1.4333, Loss_G: 1.8209, Acc_G: 17/32 = 53.1250\n"
     ]
    },
    {
     "name": "stderr",
     "output_type": "stream",
     "text": [
      " 62%|█████████████████████████████████████████████████████▏                                | 117/189 [02:23<01:25,  1.18s/it]"
     ]
    },
    {
     "name": "stdout",
     "output_type": "stream",
     "text": [
      "[3/200][117/189] ========== Loss_D: 1.4450, Loss_G: 1.8322, Acc_G: 13/32 = 40.6250\n"
     ]
    },
    {
     "name": "stderr",
     "output_type": "stream",
     "text": [
      " 62%|█████████████████████████████████████████████████████▋                                | 118/189 [02:24<01:23,  1.17s/it]"
     ]
    },
    {
     "name": "stdout",
     "output_type": "stream",
     "text": [
      "[3/200][118/189] ========== Loss_D: 1.4184, Loss_G: 1.8707, Acc_G: 14/32 = 43.7500\n"
     ]
    },
    {
     "name": "stderr",
     "output_type": "stream",
     "text": [
      " 63%|██████████████████████████████████████████████████████▏                               | 119/189 [02:26<01:20,  1.15s/it]"
     ]
    },
    {
     "name": "stdout",
     "output_type": "stream",
     "text": [
      "[3/200][119/189] ========== Loss_D: 1.4282, Loss_G: 1.9072, Acc_G: 10/32 = 31.2500\n"
     ]
    },
    {
     "name": "stderr",
     "output_type": "stream",
     "text": [
      " 63%|██████████████████████████████████████████████████████▌                               | 120/189 [02:27<01:17,  1.12s/it]"
     ]
    },
    {
     "name": "stdout",
     "output_type": "stream",
     "text": [
      "[3/200][120/189] ========== Loss_D: 1.4038, Loss_G: 1.7852, Acc_G: 13/32 = 40.6250\n"
     ]
    },
    {
     "name": "stderr",
     "output_type": "stream",
     "text": [
      " 64%|███████████████████████████████████████████████████████                               | 121/189 [02:28<01:17,  1.13s/it]"
     ]
    },
    {
     "name": "stdout",
     "output_type": "stream",
     "text": [
      "[3/200][121/189] ========== Loss_D: 1.4233, Loss_G: 1.7564, Acc_G: 12/32 = 37.5000\n"
     ]
    },
    {
     "name": "stderr",
     "output_type": "stream",
     "text": [
      " 65%|███████████████████████████████████████████████████████▌                              | 122/189 [02:29<01:11,  1.07s/it]"
     ]
    },
    {
     "name": "stdout",
     "output_type": "stream",
     "text": [
      "[3/200][122/189] ========== Loss_D: 1.4203, Loss_G: 1.8524, Acc_G: 17/32 = 53.1250\n"
     ]
    },
    {
     "name": "stderr",
     "output_type": "stream",
     "text": [
      " 65%|███████████████████████████████████████████████████████▉                              | 123/189 [02:30<01:17,  1.17s/it]"
     ]
    },
    {
     "name": "stdout",
     "output_type": "stream",
     "text": [
      "[3/200][123/189] ========== Loss_D: 1.4224, Loss_G: 1.9246, Acc_G: 9/32 = 28.1250\n"
     ]
    },
    {
     "name": "stderr",
     "output_type": "stream",
     "text": [
      " 66%|████████████████████████████████████████████████████████▍                             | 124/189 [02:31<01:12,  1.12s/it]"
     ]
    },
    {
     "name": "stdout",
     "output_type": "stream",
     "text": [
      "[3/200][124/189] ========== Loss_D: 1.4201, Loss_G: 1.8755, Acc_G: 13/32 = 40.6250\n"
     ]
    },
    {
     "name": "stderr",
     "output_type": "stream",
     "text": [
      " 66%|████████████████████████████████████████████████████████▉                             | 125/189 [02:32<01:10,  1.10s/it]"
     ]
    },
    {
     "name": "stdout",
     "output_type": "stream",
     "text": [
      "[3/200][125/189] ========== Loss_D: 1.4275, Loss_G: 1.8760, Acc_G: 10/32 = 31.2500\n"
     ]
    },
    {
     "name": "stderr",
     "output_type": "stream",
     "text": [
      " 67%|█████████████████████████████████████████████████████████▎                            | 126/189 [02:33<01:08,  1.09s/it]"
     ]
    },
    {
     "name": "stdout",
     "output_type": "stream",
     "text": [
      "[3/200][126/189] ========== Loss_D: 1.4190, Loss_G: 1.8630, Acc_G: 13/32 = 40.6250\n"
     ]
    },
    {
     "name": "stderr",
     "output_type": "stream",
     "text": [
      " 67%|█████████████████████████████████████████████████████████▊                            | 127/189 [02:34<01:06,  1.08s/it]"
     ]
    },
    {
     "name": "stdout",
     "output_type": "stream",
     "text": [
      "[3/200][127/189] ========== Loss_D: 1.4180, Loss_G: 1.8447, Acc_G: 12/32 = 37.5000\n"
     ]
    },
    {
     "name": "stderr",
     "output_type": "stream",
     "text": [
      " 68%|██████████████████████████████████████████████████████████▏                           | 128/189 [02:36<01:09,  1.14s/it]"
     ]
    },
    {
     "name": "stdout",
     "output_type": "stream",
     "text": [
      "[3/200][128/189] ========== Loss_D: 1.4191, Loss_G: 1.7920, Acc_G: 12/32 = 37.5000\n"
     ]
    },
    {
     "name": "stderr",
     "output_type": "stream",
     "text": [
      " 68%|██████████████████████████████████████████████████████████▋                           | 129/189 [02:37<01:13,  1.22s/it]"
     ]
    },
    {
     "name": "stdout",
     "output_type": "stream",
     "text": [
      "[3/200][129/189] ========== Loss_D: 1.4163, Loss_G: 1.8305, Acc_G: 15/32 = 46.8750\n"
     ]
    },
    {
     "name": "stderr",
     "output_type": "stream",
     "text": [
      " 69%|███████████████████████████████████████████████████████████▏                          | 130/189 [02:38<01:08,  1.16s/it]"
     ]
    },
    {
     "name": "stdout",
     "output_type": "stream",
     "text": [
      "[3/200][130/189] ========== Loss_D: 1.4275, Loss_G: 1.8748, Acc_G: 14/32 = 43.7500\n"
     ]
    },
    {
     "name": "stderr",
     "output_type": "stream",
     "text": [
      " 69%|███████████████████████████████████████████████████████████▌                          | 131/189 [02:39<01:05,  1.13s/it]"
     ]
    },
    {
     "name": "stdout",
     "output_type": "stream",
     "text": [
      "[3/200][131/189] ========== Loss_D: 1.4204, Loss_G: 1.8893, Acc_G: 14/32 = 43.7500\n"
     ]
    },
    {
     "name": "stderr",
     "output_type": "stream",
     "text": [
      " 70%|████████████████████████████████████████████████████████████                          | 132/189 [02:40<01:06,  1.16s/it]"
     ]
    },
    {
     "name": "stdout",
     "output_type": "stream",
     "text": [
      "[3/200][132/189] ========== Loss_D: 1.4147, Loss_G: 1.8638, Acc_G: 15/32 = 46.8750\n"
     ]
    },
    {
     "name": "stderr",
     "output_type": "stream",
     "text": [
      " 70%|████████████████████████████████████████████████████████████▌                         | 133/189 [02:41<01:03,  1.13s/it]"
     ]
    },
    {
     "name": "stdout",
     "output_type": "stream",
     "text": [
      "[3/200][133/189] ========== Loss_D: 1.4229, Loss_G: 1.8311, Acc_G: 17/32 = 53.1250\n"
     ]
    },
    {
     "name": "stderr",
     "output_type": "stream",
     "text": [
      " 71%|████████████████████████████████████████████████████████████▉                         | 134/189 [02:42<01:03,  1.15s/it]"
     ]
    },
    {
     "name": "stdout",
     "output_type": "stream",
     "text": [
      "[3/200][134/189] ========== Loss_D: 1.4196, Loss_G: 1.9038, Acc_G: 15/32 = 46.8750\n"
     ]
    },
    {
     "name": "stderr",
     "output_type": "stream",
     "text": [
      " 71%|█████████████████████████████████████████████████████████████▍                        | 135/189 [02:44<01:00,  1.11s/it]"
     ]
    },
    {
     "name": "stdout",
     "output_type": "stream",
     "text": [
      "[3/200][135/189] ========== Loss_D: 1.4350, Loss_G: 1.8190, Acc_G: 12/32 = 37.5000\n"
     ]
    },
    {
     "name": "stderr",
     "output_type": "stream",
     "text": [
      " 72%|█████████████████████████████████████████████████████████████▉                        | 136/189 [02:45<00:59,  1.11s/it]"
     ]
    },
    {
     "name": "stdout",
     "output_type": "stream",
     "text": [
      "[3/200][136/189] ========== Loss_D: 1.4128, Loss_G: 1.8423, Acc_G: 14/32 = 43.7500\n"
     ]
    },
    {
     "name": "stderr",
     "output_type": "stream",
     "text": [
      " 72%|██████████████████████████████████████████████████████████████▎                       | 137/189 [02:46<01:01,  1.19s/it]"
     ]
    },
    {
     "name": "stdout",
     "output_type": "stream",
     "text": [
      "[3/200][137/189] ========== Loss_D: 1.4282, Loss_G: 1.8648, Acc_G: 10/32 = 31.2500\n"
     ]
    },
    {
     "name": "stderr",
     "output_type": "stream",
     "text": [
      " 73%|██████████████████████████████████████████████████████████████▊                       | 138/189 [02:47<00:58,  1.14s/it]"
     ]
    },
    {
     "name": "stdout",
     "output_type": "stream",
     "text": [
      "[3/200][138/189] ========== Loss_D: 1.4359, Loss_G: 1.7521, Acc_G: 9/32 = 28.1250\n"
     ]
    },
    {
     "name": "stderr",
     "output_type": "stream",
     "text": [
      " 74%|███████████████████████████████████████████████████████████████▏                      | 139/189 [02:49<01:06,  1.33s/it]"
     ]
    },
    {
     "name": "stdout",
     "output_type": "stream",
     "text": [
      "[3/200][139/189] ========== Loss_D: 1.4447, Loss_G: 1.9277, Acc_G: 18/32 = 56.2500\n"
     ]
    },
    {
     "name": "stderr",
     "output_type": "stream",
     "text": [
      " 74%|███████████████████████████████████████████████████████████████▋                      | 140/189 [02:50<01:06,  1.37s/it]"
     ]
    },
    {
     "name": "stdout",
     "output_type": "stream",
     "text": [
      "[3/200][140/189] ========== Loss_D: 1.4143, Loss_G: 1.8205, Acc_G: 9/32 = 28.1250\n"
     ]
    },
    {
     "name": "stderr",
     "output_type": "stream",
     "text": [
      " 75%|████████████████████████████████████████████████████████████████▏                     | 141/189 [02:52<01:10,  1.47s/it]"
     ]
    },
    {
     "name": "stdout",
     "output_type": "stream",
     "text": [
      "[3/200][141/189] ========== Loss_D: 1.4116, Loss_G: 1.9195, Acc_G: 11/32 = 34.3750\n"
     ]
    },
    {
     "name": "stderr",
     "output_type": "stream",
     "text": [
      " 75%|████████████████████████████████████████████████████████████████▌                     | 142/189 [02:53<01:07,  1.43s/it]"
     ]
    },
    {
     "name": "stdout",
     "output_type": "stream",
     "text": [
      "[3/200][142/189] ========== Loss_D: 1.4225, Loss_G: 1.8424, Acc_G: 20/32 = 62.5000\n"
     ]
    },
    {
     "name": "stderr",
     "output_type": "stream",
     "text": [
      " 76%|█████████████████████████████████████████████████████████████████                     | 143/189 [02:55<01:07,  1.47s/it]"
     ]
    },
    {
     "name": "stdout",
     "output_type": "stream",
     "text": [
      "[3/200][143/189] ========== Loss_D: 1.4129, Loss_G: 1.8968, Acc_G: 15/32 = 46.8750\n"
     ]
    },
    {
     "name": "stderr",
     "output_type": "stream",
     "text": [
      " 76%|█████████████████████████████████████████████████████████████████▌                    | 144/189 [02:56<01:03,  1.42s/it]"
     ]
    },
    {
     "name": "stdout",
     "output_type": "stream",
     "text": [
      "[3/200][144/189] ========== Loss_D: 1.4325, Loss_G: 1.8198, Acc_G: 10/32 = 31.2500\n"
     ]
    },
    {
     "name": "stderr",
     "output_type": "stream",
     "text": [
      " 77%|█████████████████████████████████████████████████████████████████▉                    | 145/189 [02:57<01:00,  1.37s/it]"
     ]
    },
    {
     "name": "stdout",
     "output_type": "stream",
     "text": [
      "[3/200][145/189] ========== Loss_D: 1.4193, Loss_G: 1.8936, Acc_G: 20/32 = 62.5000\n"
     ]
    },
    {
     "name": "stderr",
     "output_type": "stream",
     "text": [
      " 77%|██████████████████████████████████████████████████████████████████▍                   | 146/189 [02:58<00:53,  1.25s/it]"
     ]
    },
    {
     "name": "stdout",
     "output_type": "stream",
     "text": [
      "[3/200][146/189] ========== Loss_D: 1.4280, Loss_G: 1.8530, Acc_G: 13/32 = 40.6250\n"
     ]
    },
    {
     "name": "stderr",
     "output_type": "stream",
     "text": [
      " 78%|██████████████████████████████████████████████████████████████████▉                   | 147/189 [02:59<00:50,  1.20s/it]"
     ]
    },
    {
     "name": "stdout",
     "output_type": "stream",
     "text": [
      "[3/200][147/189] ========== Loss_D: 1.4143, Loss_G: 1.8191, Acc_G: 14/32 = 43.7500\n"
     ]
    },
    {
     "name": "stderr",
     "output_type": "stream",
     "text": [
      " 78%|███████████████████████████████████████████████████████████████████▎                  | 148/189 [03:01<00:49,  1.22s/it]"
     ]
    },
    {
     "name": "stdout",
     "output_type": "stream",
     "text": [
      "[3/200][148/189] ========== Loss_D: 1.4435, Loss_G: 1.8880, Acc_G: 14/32 = 43.7500\n"
     ]
    },
    {
     "name": "stderr",
     "output_type": "stream",
     "text": [
      " 79%|███████████████████████████████████████████████████████████████████▊                  | 149/189 [03:02<00:47,  1.18s/it]"
     ]
    },
    {
     "name": "stdout",
     "output_type": "stream",
     "text": [
      "[3/200][149/189] ========== Loss_D: 1.4449, Loss_G: 1.9519, Acc_G: 18/32 = 56.2500\n"
     ]
    },
    {
     "name": "stderr",
     "output_type": "stream",
     "text": [
      " 79%|████████████████████████████████████████████████████████████████████▎                 | 150/189 [03:03<00:46,  1.20s/it]"
     ]
    },
    {
     "name": "stdout",
     "output_type": "stream",
     "text": [
      "[3/200][150/189] ========== Loss_D: 1.4204, Loss_G: 1.8006, Acc_G: 14/32 = 43.7500\n"
     ]
    },
    {
     "name": "stderr",
     "output_type": "stream",
     "text": [
      " 80%|████████████████████████████████████████████████████████████████████▋                 | 151/189 [03:04<00:44,  1.18s/it]"
     ]
    },
    {
     "name": "stdout",
     "output_type": "stream",
     "text": [
      "[3/200][151/189] ========== Loss_D: 1.4290, Loss_G: 1.7488, Acc_G: 16/32 = 50.0000\n"
     ]
    },
    {
     "name": "stderr",
     "output_type": "stream",
     "text": [
      " 80%|█████████████████████████████████████████████████████████████████████▏                | 152/189 [03:05<00:42,  1.15s/it]"
     ]
    },
    {
     "name": "stdout",
     "output_type": "stream",
     "text": [
      "[3/200][152/189] ========== Loss_D: 1.4204, Loss_G: 1.8768, Acc_G: 13/32 = 40.6250\n"
     ]
    },
    {
     "name": "stderr",
     "output_type": "stream",
     "text": [
      " 81%|█████████████████████████████████████████████████████████████████████▌                | 153/189 [03:07<00:45,  1.26s/it]"
     ]
    },
    {
     "name": "stdout",
     "output_type": "stream",
     "text": [
      "[3/200][153/189] ========== Loss_D: 1.4301, Loss_G: 1.9474, Acc_G: 15/32 = 46.8750\n"
     ]
    },
    {
     "name": "stderr",
     "output_type": "stream",
     "text": [
      " 81%|██████████████████████████████████████████████████████████████████████                | 154/189 [03:08<00:41,  1.19s/it]"
     ]
    },
    {
     "name": "stdout",
     "output_type": "stream",
     "text": [
      "[3/200][154/189] ========== Loss_D: 1.4221, Loss_G: 1.9685, Acc_G: 13/32 = 40.6250\n"
     ]
    },
    {
     "name": "stderr",
     "output_type": "stream",
     "text": [
      " 82%|██████████████████████████████████████████████████████████████████████▌               | 155/189 [03:09<00:41,  1.23s/it]"
     ]
    },
    {
     "name": "stdout",
     "output_type": "stream",
     "text": [
      "[3/200][155/189] ========== Loss_D: 1.4370, Loss_G: 1.8913, Acc_G: 18/32 = 56.2500\n"
     ]
    },
    {
     "name": "stderr",
     "output_type": "stream",
     "text": [
      " 83%|██████████████████████████████████████████████████████████████████████▉               | 156/189 [03:11<00:44,  1.35s/it]"
     ]
    },
    {
     "name": "stdout",
     "output_type": "stream",
     "text": [
      "[3/200][156/189] ========== Loss_D: 1.4206, Loss_G: 1.8436, Acc_G: 20/32 = 62.5000\n"
     ]
    },
    {
     "name": "stderr",
     "output_type": "stream",
     "text": [
      " 83%|███████████████████████████████████████████████████████████████████████▍              | 157/189 [03:12<00:41,  1.30s/it]"
     ]
    },
    {
     "name": "stdout",
     "output_type": "stream",
     "text": [
      "[3/200][157/189] ========== Loss_D: 1.4236, Loss_G: 1.8227, Acc_G: 20/32 = 62.5000\n"
     ]
    },
    {
     "name": "stderr",
     "output_type": "stream",
     "text": [
      " 84%|███████████████████████████████████████████████████████████████████████▉              | 158/189 [03:13<00:40,  1.32s/it]"
     ]
    },
    {
     "name": "stdout",
     "output_type": "stream",
     "text": [
      "[3/200][158/189] ========== Loss_D: 1.4180, Loss_G: 1.9546, Acc_G: 14/32 = 43.7500\n"
     ]
    },
    {
     "name": "stderr",
     "output_type": "stream",
     "text": [
      " 84%|████████████████████████████████████████████████████████████████████████▎             | 159/189 [03:14<00:37,  1.26s/it]"
     ]
    },
    {
     "name": "stdout",
     "output_type": "stream",
     "text": [
      "[3/200][159/189] ========== Loss_D: 1.4286, Loss_G: 1.8784, Acc_G: 17/32 = 53.1250\n"
     ]
    },
    {
     "name": "stderr",
     "output_type": "stream",
     "text": [
      " 85%|████████████████████████████████████████████████████████████████████████▊             | 160/189 [03:16<00:38,  1.31s/it]"
     ]
    },
    {
     "name": "stdout",
     "output_type": "stream",
     "text": [
      "[3/200][160/189] ========== Loss_D: 1.4334, Loss_G: 1.8272, Acc_G: 16/32 = 50.0000\n"
     ]
    },
    {
     "name": "stderr",
     "output_type": "stream",
     "text": [
      " 85%|█████████████████████████████████████████████████████████████████████████▎            | 161/189 [03:17<00:33,  1.21s/it]"
     ]
    },
    {
     "name": "stdout",
     "output_type": "stream",
     "text": [
      "[3/200][161/189] ========== Loss_D: 1.4118, Loss_G: 1.9182, Acc_G: 14/32 = 43.7500\n"
     ]
    },
    {
     "name": "stderr",
     "output_type": "stream",
     "text": [
      " 86%|█████████████████████████████████████████████████████████████████████████▋            | 162/189 [03:18<00:32,  1.21s/it]"
     ]
    },
    {
     "name": "stdout",
     "output_type": "stream",
     "text": [
      "[3/200][162/189] ========== Loss_D: 1.4231, Loss_G: 1.9379, Acc_G: 13/32 = 40.6250\n"
     ]
    },
    {
     "name": "stderr",
     "output_type": "stream",
     "text": [
      " 86%|██████████████████████████████████████████████████████████████████████████▏           | 163/189 [03:20<00:35,  1.37s/it]"
     ]
    },
    {
     "name": "stdout",
     "output_type": "stream",
     "text": [
      "[3/200][163/189] ========== Loss_D: 1.4312, Loss_G: 1.8173, Acc_G: 16/32 = 50.0000\n"
     ]
    },
    {
     "name": "stderr",
     "output_type": "stream",
     "text": [
      " 87%|██████████████████████████████████████████████████████████████████████████▌           | 164/189 [03:21<00:33,  1.34s/it]"
     ]
    },
    {
     "name": "stdout",
     "output_type": "stream",
     "text": [
      "[3/200][164/189] ========== Loss_D: 1.4285, Loss_G: 1.9294, Acc_G: 17/32 = 53.1250\n"
     ]
    },
    {
     "name": "stderr",
     "output_type": "stream",
     "text": [
      " 87%|███████████████████████████████████████████████████████████████████████████           | 165/189 [03:22<00:29,  1.25s/it]"
     ]
    },
    {
     "name": "stdout",
     "output_type": "stream",
     "text": [
      "[3/200][165/189] ========== Loss_D: 1.4404, Loss_G: 1.8076, Acc_G: 18/32 = 56.2500\n"
     ]
    },
    {
     "name": "stderr",
     "output_type": "stream",
     "text": [
      " 88%|███████████████████████████████████████████████████████████████████████████▌          | 166/189 [03:23<00:26,  1.15s/it]"
     ]
    },
    {
     "name": "stdout",
     "output_type": "stream",
     "text": [
      "[3/200][166/189] ========== Loss_D: 1.4141, Loss_G: 1.8667, Acc_G: 18/32 = 56.2500\n"
     ]
    },
    {
     "name": "stderr",
     "output_type": "stream",
     "text": [
      " 88%|███████████████████████████████████████████████████████████████████████████▉          | 167/189 [03:25<00:27,  1.26s/it]"
     ]
    },
    {
     "name": "stdout",
     "output_type": "stream",
     "text": [
      "[3/200][167/189] ========== Loss_D: 1.4319, Loss_G: 1.7955, Acc_G: 19/32 = 59.3750\n"
     ]
    },
    {
     "name": "stderr",
     "output_type": "stream",
     "text": [
      " 89%|████████████████████████████████████████████████████████████████████████████▍         | 168/189 [03:26<00:25,  1.22s/it]"
     ]
    },
    {
     "name": "stdout",
     "output_type": "stream",
     "text": [
      "[3/200][168/189] ========== Loss_D: 1.4174, Loss_G: 1.8604, Acc_G: 20/32 = 62.5000\n"
     ]
    },
    {
     "name": "stderr",
     "output_type": "stream",
     "text": [
      " 89%|████████████████████████████████████████████████████████████████████████████▉         | 169/189 [03:27<00:23,  1.15s/it]"
     ]
    },
    {
     "name": "stdout",
     "output_type": "stream",
     "text": [
      "[3/200][169/189] ========== Loss_D: 1.4329, Loss_G: 1.8431, Acc_G: 17/32 = 53.1250\n"
     ]
    },
    {
     "name": "stderr",
     "output_type": "stream",
     "text": [
      " 90%|█████████████████████████████████████████████████████████████████████████████▎        | 170/189 [03:28<00:23,  1.25s/it]"
     ]
    },
    {
     "name": "stdout",
     "output_type": "stream",
     "text": [
      "[3/200][170/189] ========== Loss_D: 1.4323, Loss_G: 1.8113, Acc_G: 17/32 = 53.1250\n"
     ]
    },
    {
     "name": "stderr",
     "output_type": "stream",
     "text": [
      " 90%|█████████████████████████████████████████████████████████████████████████████▊        | 171/189 [03:30<00:23,  1.30s/it]"
     ]
    },
    {
     "name": "stdout",
     "output_type": "stream",
     "text": [
      "[3/200][171/189] ========== Loss_D: 1.4328, Loss_G: 1.9789, Acc_G: 14/32 = 43.7500\n"
     ]
    },
    {
     "name": "stderr",
     "output_type": "stream",
     "text": [
      " 91%|██████████████████████████████████████████████████████████████████████████████▎       | 172/189 [03:31<00:23,  1.36s/it]"
     ]
    },
    {
     "name": "stdout",
     "output_type": "stream",
     "text": [
      "[3/200][172/189] ========== Loss_D: 1.4331, Loss_G: 1.8267, Acc_G: 8/32 = 25.0000\n"
     ]
    },
    {
     "name": "stderr",
     "output_type": "stream",
     "text": [
      " 92%|██████████████████████████████████████████████████████████████████████████████▋       | 173/189 [03:32<00:20,  1.26s/it]"
     ]
    },
    {
     "name": "stdout",
     "output_type": "stream",
     "text": [
      "[3/200][173/189] ========== Loss_D: 1.4294, Loss_G: 1.8884, Acc_G: 14/32 = 43.7500\n"
     ]
    },
    {
     "name": "stderr",
     "output_type": "stream",
     "text": [
      " 92%|███████████████████████████████████████████████████████████████████████████████▏      | 174/189 [03:33<00:17,  1.16s/it]"
     ]
    },
    {
     "name": "stdout",
     "output_type": "stream",
     "text": [
      "[3/200][174/189] ========== Loss_D: 1.4110, Loss_G: 1.8394, Acc_G: 20/32 = 62.5000\n"
     ]
    },
    {
     "name": "stderr",
     "output_type": "stream",
     "text": [
      " 93%|███████████████████████████████████████████████████████████████████████████████▋      | 175/189 [03:34<00:17,  1.26s/it]"
     ]
    },
    {
     "name": "stdout",
     "output_type": "stream",
     "text": [
      "[3/200][175/189] ========== Loss_D: 1.4294, Loss_G: 1.7953, Acc_G: 21/32 = 65.6250\n"
     ]
    },
    {
     "name": "stderr",
     "output_type": "stream",
     "text": [
      " 93%|████████████████████████████████████████████████████████████████████████████████      | 176/189 [03:36<00:16,  1.24s/it]"
     ]
    },
    {
     "name": "stdout",
     "output_type": "stream",
     "text": [
      "[3/200][176/189] ========== Loss_D: 1.4493, Loss_G: 1.9762, Acc_G: 16/32 = 50.0000\n"
     ]
    },
    {
     "name": "stderr",
     "output_type": "stream",
     "text": [
      " 94%|████████████████████████████████████████████████████████████████████████████████▌     | 177/189 [03:37<00:14,  1.24s/it]"
     ]
    },
    {
     "name": "stdout",
     "output_type": "stream",
     "text": [
      "[3/200][177/189] ========== Loss_D: 1.4117, Loss_G: 1.9028, Acc_G: 15/32 = 46.8750\n"
     ]
    },
    {
     "name": "stderr",
     "output_type": "stream",
     "text": [
      " 94%|████████████████████████████████████████████████████████████████████████████████▉     | 178/189 [03:38<00:14,  1.28s/it]"
     ]
    },
    {
     "name": "stdout",
     "output_type": "stream",
     "text": [
      "[3/200][178/189] ========== Loss_D: 1.4174, Loss_G: 1.9355, Acc_G: 16/32 = 50.0000\n"
     ]
    },
    {
     "name": "stderr",
     "output_type": "stream",
     "text": [
      " 95%|█████████████████████████████████████████████████████████████████████████████████▍    | 179/189 [03:40<00:12,  1.26s/it]"
     ]
    },
    {
     "name": "stdout",
     "output_type": "stream",
     "text": [
      "[3/200][179/189] ========== Loss_D: 1.4161, Loss_G: 1.9347, Acc_G: 15/32 = 46.8750\n"
     ]
    },
    {
     "name": "stderr",
     "output_type": "stream",
     "text": [
      " 95%|█████████████████████████████████████████████████████████████████████████████████▉    | 180/189 [03:41<00:10,  1.19s/it]"
     ]
    },
    {
     "name": "stdout",
     "output_type": "stream",
     "text": [
      "[3/200][180/189] ========== Loss_D: 1.4209, Loss_G: 1.8384, Acc_G: 15/32 = 46.8750\n"
     ]
    },
    {
     "name": "stderr",
     "output_type": "stream",
     "text": [
      " 96%|██████████████████████████████████████████████████████████████████████████████████▎   | 181/189 [03:42<00:10,  1.31s/it]"
     ]
    },
    {
     "name": "stdout",
     "output_type": "stream",
     "text": [
      "[3/200][181/189] ========== Loss_D: 1.4292, Loss_G: 1.7715, Acc_G: 15/32 = 46.8750\n"
     ]
    },
    {
     "name": "stderr",
     "output_type": "stream",
     "text": [
      " 96%|██████████████████████████████████████████████████████████████████████████████████▊   | 182/189 [03:43<00:09,  1.32s/it]"
     ]
    },
    {
     "name": "stdout",
     "output_type": "stream",
     "text": [
      "[3/200][182/189] ========== Loss_D: 1.4104, Loss_G: 1.8308, Acc_G: 16/32 = 50.0000\n"
     ]
    },
    {
     "name": "stderr",
     "output_type": "stream",
     "text": [
      " 97%|███████████████████████████████████████████████████████████████████████████████████▎  | 183/189 [03:45<00:07,  1.30s/it]"
     ]
    },
    {
     "name": "stdout",
     "output_type": "stream",
     "text": [
      "[3/200][183/189] ========== Loss_D: 1.4272, Loss_G: 1.8861, Acc_G: 16/32 = 50.0000\n"
     ]
    },
    {
     "name": "stderr",
     "output_type": "stream",
     "text": [
      " 97%|███████████████████████████████████████████████████████████████████████████████████▋  | 184/189 [03:46<00:06,  1.34s/it]"
     ]
    },
    {
     "name": "stdout",
     "output_type": "stream",
     "text": [
      "[3/200][184/189] ========== Loss_D: 1.4190, Loss_G: 1.8160, Acc_G: 25/32 = 78.1250\n"
     ]
    },
    {
     "name": "stderr",
     "output_type": "stream",
     "text": [
      " 98%|████████████████████████████████████████████████████████████████████████████████████▏ | 185/189 [03:47<00:05,  1.30s/it]"
     ]
    },
    {
     "name": "stdout",
     "output_type": "stream",
     "text": [
      "[3/200][185/189] ========== Loss_D: 1.4161, Loss_G: 1.9467, Acc_G: 12/32 = 37.5000\n"
     ]
    },
    {
     "name": "stderr",
     "output_type": "stream",
     "text": [
      " 98%|████████████████████████████████████████████████████████████████████████████████████▋ | 186/189 [03:49<00:03,  1.29s/it]"
     ]
    },
    {
     "name": "stdout",
     "output_type": "stream",
     "text": [
      "[3/200][186/189] ========== Loss_D: 1.4406, Loss_G: 1.9237, Acc_G: 20/32 = 62.5000\n"
     ]
    },
    {
     "name": "stderr",
     "output_type": "stream",
     "text": [
      " 99%|█████████████████████████████████████████████████████████████████████████████████████ | 187/189 [03:50<00:02,  1.32s/it]"
     ]
    },
    {
     "name": "stdout",
     "output_type": "stream",
     "text": [
      "[3/200][187/189] ========== Loss_D: 1.4362, Loss_G: 1.8255, Acc_G: 15/32 = 46.8750\n"
     ]
    },
    {
     "name": "stderr",
     "output_type": "stream",
     "text": [
      " 99%|█████████████████████████████████████████████████████████████████████████████████████▌| 188/189 [03:52<00:01,  1.37s/it]"
     ]
    },
    {
     "name": "stdout",
     "output_type": "stream",
     "text": [
      "[3/200][188/189] ========== Loss_D: 1.4530, Loss_G: 1.8598, Acc_G: 13/32 = 40.6250\n"
     ]
    },
    {
     "name": "stderr",
     "output_type": "stream",
     "text": [
      "100%|██████████████████████████████████████████████████████████████████████████████████████| 189/189 [03:52<00:00,  1.23s/it]\n"
     ]
    },
    {
     "name": "stdout",
     "output_type": "stream",
     "text": [
      "[3/200][189/189] ========== Loss_D: 1.4253, Loss_G: 2.0252, Acc_G: 4/8 = 50.0000\n",
      "---------------------< no model saved at epoch: 3 >---------------------\n"
     ]
    },
    {
     "name": "stderr",
     "output_type": "stream",
     "text": [
      "  1%|▍                                                                                       | 1/189 [00:02<06:21,  2.03s/it]"
     ]
    },
    {
     "name": "stdout",
     "output_type": "stream",
     "text": [
      "[4/200][1/189] ========== Loss_D: 1.4042, Loss_G: 1.9017, Acc_G: 18/32 = 56.2500\n"
     ]
    },
    {
     "name": "stderr",
     "output_type": "stream",
     "text": [
      "  1%|▉                                                                                       | 2/189 [00:02<04:18,  1.38s/it]"
     ]
    },
    {
     "name": "stdout",
     "output_type": "stream",
     "text": [
      "[4/200][2/189] ========== Loss_D: 1.4460, Loss_G: 1.8766, Acc_G: 15/32 = 46.8750\n"
     ]
    },
    {
     "name": "stderr",
     "output_type": "stream",
     "text": [
      "  2%|█▍                                                                                      | 3/189 [00:04<04:19,  1.40s/it]"
     ]
    },
    {
     "name": "stdout",
     "output_type": "stream",
     "text": [
      "[4/200][3/189] ========== Loss_D: 1.4295, Loss_G: 1.9092, Acc_G: 16/32 = 50.0000\n"
     ]
    },
    {
     "name": "stderr",
     "output_type": "stream",
     "text": [
      "  2%|█▊                                                                                      | 4/189 [00:05<04:07,  1.34s/it]"
     ]
    },
    {
     "name": "stdout",
     "output_type": "stream",
     "text": [
      "[4/200][4/189] ========== Loss_D: 1.4162, Loss_G: 1.8088, Acc_G: 15/32 = 46.8750\n"
     ]
    },
    {
     "name": "stderr",
     "output_type": "stream",
     "text": [
      "  3%|██▎                                                                                     | 5/189 [00:06<04:08,  1.35s/it]"
     ]
    },
    {
     "name": "stdout",
     "output_type": "stream",
     "text": [
      "[4/200][5/189] ========== Loss_D: 1.4340, Loss_G: 1.8416, Acc_G: 15/32 = 46.8750\n"
     ]
    },
    {
     "name": "stderr",
     "output_type": "stream",
     "text": [
      "  3%|██▊                                                                                     | 6/189 [00:08<04:17,  1.41s/it]"
     ]
    },
    {
     "name": "stdout",
     "output_type": "stream",
     "text": [
      "[4/200][6/189] ========== Loss_D: 1.4307, Loss_G: 1.9106, Acc_G: 13/32 = 40.6250\n"
     ]
    },
    {
     "name": "stderr",
     "output_type": "stream",
     "text": [
      "  4%|███▎                                                                                    | 7/189 [00:09<04:07,  1.36s/it]"
     ]
    },
    {
     "name": "stdout",
     "output_type": "stream",
     "text": [
      "[4/200][7/189] ========== Loss_D: 1.4144, Loss_G: 1.9067, Acc_G: 14/32 = 43.7500\n"
     ]
    },
    {
     "name": "stderr",
     "output_type": "stream",
     "text": [
      "  4%|███▋                                                                                    | 8/189 [00:11<04:06,  1.36s/it]"
     ]
    },
    {
     "name": "stdout",
     "output_type": "stream",
     "text": [
      "[4/200][8/189] ========== Loss_D: 1.4099, Loss_G: 1.9781, Acc_G: 18/32 = 56.2500\n"
     ]
    },
    {
     "name": "stderr",
     "output_type": "stream",
     "text": [
      "  5%|████▏                                                                                   | 9/189 [00:12<03:58,  1.32s/it]"
     ]
    },
    {
     "name": "stdout",
     "output_type": "stream",
     "text": [
      "[4/200][9/189] ========== Loss_D: 1.4208, Loss_G: 1.8787, Acc_G: 12/32 = 37.5000\n"
     ]
    },
    {
     "name": "stderr",
     "output_type": "stream",
     "text": [
      "  5%|████▌                                                                                  | 10/189 [00:13<03:38,  1.22s/it]"
     ]
    },
    {
     "name": "stdout",
     "output_type": "stream",
     "text": [
      "[4/200][10/189] ========== Loss_D: 1.4298, Loss_G: 1.8018, Acc_G: 12/32 = 37.5000\n"
     ]
    },
    {
     "name": "stderr",
     "output_type": "stream",
     "text": [
      "  6%|█████                                                                                  | 11/189 [00:14<03:43,  1.26s/it]"
     ]
    },
    {
     "name": "stdout",
     "output_type": "stream",
     "text": [
      "[4/200][11/189] ========== Loss_D: 1.4154, Loss_G: 1.7890, Acc_G: 15/32 = 46.8750\n"
     ]
    },
    {
     "name": "stderr",
     "output_type": "stream",
     "text": [
      "  6%|█████▌                                                                                 | 12/189 [00:15<03:31,  1.20s/it]"
     ]
    },
    {
     "name": "stdout",
     "output_type": "stream",
     "text": [
      "[4/200][12/189] ========== Loss_D: 1.4429, Loss_G: 1.8113, Acc_G: 18/32 = 56.2500\n"
     ]
    },
    {
     "name": "stderr",
     "output_type": "stream",
     "text": [
      "  7%|█████▉                                                                                 | 13/189 [00:17<03:45,  1.28s/it]"
     ]
    },
    {
     "name": "stdout",
     "output_type": "stream",
     "text": [
      "[4/200][13/189] ========== Loss_D: 1.4132, Loss_G: 1.8981, Acc_G: 17/32 = 53.1250\n"
     ]
    },
    {
     "name": "stderr",
     "output_type": "stream",
     "text": [
      "  7%|██████▍                                                                                | 14/189 [00:18<03:34,  1.22s/it]"
     ]
    },
    {
     "name": "stdout",
     "output_type": "stream",
     "text": [
      "[4/200][14/189] ========== Loss_D: 1.4237, Loss_G: 1.8311, Acc_G: 18/32 = 56.2500\n"
     ]
    },
    {
     "name": "stderr",
     "output_type": "stream",
     "text": [
      "  8%|██████▉                                                                                | 15/189 [00:19<03:24,  1.18s/it]"
     ]
    },
    {
     "name": "stdout",
     "output_type": "stream",
     "text": [
      "[4/200][15/189] ========== Loss_D: 1.4132, Loss_G: 1.9595, Acc_G: 18/32 = 56.2500\n"
     ]
    },
    {
     "name": "stderr",
     "output_type": "stream",
     "text": [
      "  8%|███████▎                                                                               | 16/189 [00:20<03:13,  1.12s/it]"
     ]
    },
    {
     "name": "stdout",
     "output_type": "stream",
     "text": [
      "[4/200][16/189] ========== Loss_D: 1.4314, Loss_G: 1.8725, Acc_G: 18/32 = 56.2500\n"
     ]
    },
    {
     "name": "stderr",
     "output_type": "stream",
     "text": [
      "  9%|███████▊                                                                               | 17/189 [00:21<03:15,  1.14s/it]"
     ]
    },
    {
     "name": "stdout",
     "output_type": "stream",
     "text": [
      "[4/200][17/189] ========== Loss_D: 1.4177, Loss_G: 1.9098, Acc_G: 17/32 = 53.1250\n"
     ]
    },
    {
     "name": "stderr",
     "output_type": "stream",
     "text": [
      " 10%|████████▎                                                                              | 18/189 [00:22<03:14,  1.14s/it]"
     ]
    },
    {
     "name": "stdout",
     "output_type": "stream",
     "text": [
      "[4/200][18/189] ========== Loss_D: 1.4165, Loss_G: 1.8278, Acc_G: 15/32 = 46.8750\n"
     ]
    },
    {
     "name": "stderr",
     "output_type": "stream",
     "text": [
      " 10%|████████▋                                                                              | 19/189 [00:23<03:08,  1.11s/it]"
     ]
    },
    {
     "name": "stdout",
     "output_type": "stream",
     "text": [
      "[4/200][19/189] ========== Loss_D: 1.4307, Loss_G: 1.8367, Acc_G: 13/32 = 40.6250\n"
     ]
    },
    {
     "name": "stderr",
     "output_type": "stream",
     "text": [
      " 11%|█████████▏                                                                             | 20/189 [00:24<03:09,  1.12s/it]"
     ]
    },
    {
     "name": "stdout",
     "output_type": "stream",
     "text": [
      "[4/200][20/189] ========== Loss_D: 1.4403, Loss_G: 1.9210, Acc_G: 18/32 = 56.2500\n"
     ]
    },
    {
     "name": "stderr",
     "output_type": "stream",
     "text": [
      " 11%|█████████▋                                                                             | 21/189 [00:25<03:03,  1.09s/it]"
     ]
    },
    {
     "name": "stdout",
     "output_type": "stream",
     "text": [
      "[4/200][21/189] ========== Loss_D: 1.4365, Loss_G: 1.8832, Acc_G: 16/32 = 50.0000\n"
     ]
    },
    {
     "name": "stderr",
     "output_type": "stream",
     "text": [
      " 12%|██████████▏                                                                            | 22/189 [00:26<02:58,  1.07s/it]"
     ]
    },
    {
     "name": "stdout",
     "output_type": "stream",
     "text": [
      "[4/200][22/189] ========== Loss_D: 1.4232, Loss_G: 1.9029, Acc_G: 12/32 = 37.5000\n"
     ]
    },
    {
     "name": "stderr",
     "output_type": "stream",
     "text": [
      " 12%|██████████▌                                                                            | 23/189 [00:28<03:00,  1.09s/it]"
     ]
    },
    {
     "name": "stdout",
     "output_type": "stream",
     "text": [
      "[4/200][23/189] ========== Loss_D: 1.4111, Loss_G: 1.8121, Acc_G: 11/32 = 34.3750\n"
     ]
    },
    {
     "name": "stderr",
     "output_type": "stream",
     "text": [
      " 13%|███████████                                                                            | 24/189 [00:29<03:08,  1.14s/it]"
     ]
    },
    {
     "name": "stdout",
     "output_type": "stream",
     "text": [
      "[4/200][24/189] ========== Loss_D: 1.4261, Loss_G: 1.9914, Acc_G: 19/32 = 59.3750\n"
     ]
    },
    {
     "name": "stderr",
     "output_type": "stream",
     "text": [
      " 13%|███████████▌                                                                           | 25/189 [00:30<02:59,  1.10s/it]"
     ]
    },
    {
     "name": "stdout",
     "output_type": "stream",
     "text": [
      "[4/200][25/189] ========== Loss_D: 1.4210, Loss_G: 1.8331, Acc_G: 14/32 = 43.7500\n"
     ]
    },
    {
     "name": "stderr",
     "output_type": "stream",
     "text": [
      " 14%|███████████▉                                                                           | 26/189 [00:32<03:33,  1.31s/it]"
     ]
    },
    {
     "name": "stdout",
     "output_type": "stream",
     "text": [
      "[4/200][26/189] ========== Loss_D: 1.4132, Loss_G: 1.9495, Acc_G: 18/32 = 56.2500\n"
     ]
    },
    {
     "name": "stderr",
     "output_type": "stream",
     "text": [
      " 14%|████████████▍                                                                          | 27/189 [00:33<03:15,  1.20s/it]"
     ]
    },
    {
     "name": "stdout",
     "output_type": "stream",
     "text": [
      "[4/200][27/189] ========== Loss_D: 1.4234, Loss_G: 1.8249, Acc_G: 17/32 = 53.1250\n"
     ]
    },
    {
     "name": "stderr",
     "output_type": "stream",
     "text": [
      " 15%|████████████▉                                                                          | 28/189 [00:34<03:30,  1.31s/it]"
     ]
    },
    {
     "name": "stdout",
     "output_type": "stream",
     "text": [
      "[4/200][28/189] ========== Loss_D: 1.4042, Loss_G: 1.8524, Acc_G: 15/32 = 46.8750\n"
     ]
    },
    {
     "name": "stderr",
     "output_type": "stream",
     "text": [
      " 15%|█████████████▎                                                                         | 29/189 [00:35<03:14,  1.22s/it]"
     ]
    },
    {
     "name": "stdout",
     "output_type": "stream",
     "text": [
      "[4/200][29/189] ========== Loss_D: 1.4259, Loss_G: 1.8144, Acc_G: 16/32 = 50.0000\n"
     ]
    },
    {
     "name": "stderr",
     "output_type": "stream",
     "text": [
      " 16%|█████████████▊                                                                         | 30/189 [00:37<03:30,  1.33s/it]"
     ]
    },
    {
     "name": "stdout",
     "output_type": "stream",
     "text": [
      "[4/200][30/189] ========== Loss_D: 1.4470, Loss_G: 1.9331, Acc_G: 18/32 = 56.2500\n"
     ]
    },
    {
     "name": "stderr",
     "output_type": "stream",
     "text": [
      " 16%|██████████████▎                                                                        | 31/189 [00:38<03:10,  1.21s/it]"
     ]
    },
    {
     "name": "stdout",
     "output_type": "stream",
     "text": [
      "[4/200][31/189] ========== Loss_D: 1.4185, Loss_G: 1.8317, Acc_G: 17/32 = 53.1250\n"
     ]
    },
    {
     "name": "stderr",
     "output_type": "stream",
     "text": [
      " 17%|██████████████▋                                                                        | 32/189 [00:39<03:07,  1.20s/it]"
     ]
    },
    {
     "name": "stdout",
     "output_type": "stream",
     "text": [
      "[4/200][32/189] ========== Loss_D: 1.4336, Loss_G: 1.8212, Acc_G: 19/32 = 59.3750\n"
     ]
    },
    {
     "name": "stderr",
     "output_type": "stream",
     "text": [
      " 17%|███████████████▏                                                                       | 33/189 [00:40<03:14,  1.24s/it]"
     ]
    },
    {
     "name": "stdout",
     "output_type": "stream",
     "text": [
      "[4/200][33/189] ========== Loss_D: 1.4452, Loss_G: 1.8115, Acc_G: 17/32 = 53.1250\n"
     ]
    },
    {
     "name": "stderr",
     "output_type": "stream",
     "text": [
      " 18%|███████████████▋                                                                       | 34/189 [00:41<03:08,  1.22s/it]"
     ]
    },
    {
     "name": "stdout",
     "output_type": "stream",
     "text": [
      "[4/200][34/189] ========== Loss_D: 1.4430, Loss_G: 1.8654, Acc_G: 16/32 = 50.0000\n"
     ]
    },
    {
     "name": "stderr",
     "output_type": "stream",
     "text": [
      " 19%|████████████████                                                                       | 35/189 [00:42<02:57,  1.16s/it]"
     ]
    },
    {
     "name": "stdout",
     "output_type": "stream",
     "text": [
      "[4/200][35/189] ========== Loss_D: 1.4428, Loss_G: 1.9234, Acc_G: 20/32 = 62.5000\n"
     ]
    },
    {
     "name": "stderr",
     "output_type": "stream",
     "text": [
      " 19%|████████████████▌                                                                      | 36/189 [00:43<02:50,  1.11s/it]"
     ]
    },
    {
     "name": "stdout",
     "output_type": "stream",
     "text": [
      "[4/200][36/189] ========== Loss_D: 1.4138, Loss_G: 1.9374, Acc_G: 18/32 = 56.2500\n"
     ]
    },
    {
     "name": "stderr",
     "output_type": "stream",
     "text": [
      " 20%|█████████████████                                                                      | 37/189 [00:44<02:48,  1.11s/it]"
     ]
    },
    {
     "name": "stdout",
     "output_type": "stream",
     "text": [
      "[4/200][37/189] ========== Loss_D: 1.4189, Loss_G: 1.8978, Acc_G: 16/32 = 50.0000\n"
     ]
    },
    {
     "name": "stderr",
     "output_type": "stream",
     "text": [
      " 20%|█████████████████▍                                                                     | 38/189 [00:46<02:59,  1.19s/it]"
     ]
    },
    {
     "name": "stdout",
     "output_type": "stream",
     "text": [
      "[4/200][38/189] ========== Loss_D: 1.4007, Loss_G: 1.9040, Acc_G: 17/32 = 53.1250\n"
     ]
    },
    {
     "name": "stderr",
     "output_type": "stream",
     "text": [
      " 21%|█████████████████▉                                                                     | 39/189 [00:47<03:04,  1.23s/it]"
     ]
    },
    {
     "name": "stdout",
     "output_type": "stream",
     "text": [
      "[4/200][39/189] ========== Loss_D: 1.4138, Loss_G: 1.7990, Acc_G: 15/32 = 46.8750\n"
     ]
    },
    {
     "name": "stderr",
     "output_type": "stream",
     "text": [
      " 21%|██████████████████▍                                                                    | 40/189 [00:48<02:59,  1.20s/it]"
     ]
    },
    {
     "name": "stdout",
     "output_type": "stream",
     "text": [
      "[4/200][40/189] ========== Loss_D: 1.4266, Loss_G: 2.0064, Acc_G: 15/32 = 46.8750\n"
     ]
    },
    {
     "name": "stderr",
     "output_type": "stream",
     "text": [
      " 22%|██████████████████▊                                                                    | 41/189 [00:50<03:00,  1.22s/it]"
     ]
    },
    {
     "name": "stdout",
     "output_type": "stream",
     "text": [
      "[4/200][41/189] ========== Loss_D: 1.4233, Loss_G: 1.7971, Acc_G: 14/32 = 43.7500\n"
     ]
    },
    {
     "name": "stderr",
     "output_type": "stream",
     "text": [
      " 22%|███████████████████▎                                                                   | 42/189 [00:51<03:05,  1.26s/it]"
     ]
    },
    {
     "name": "stdout",
     "output_type": "stream",
     "text": [
      "[4/200][42/189] ========== Loss_D: 1.4304, Loss_G: 1.8622, Acc_G: 13/32 = 40.6250\n"
     ]
    },
    {
     "name": "stderr",
     "output_type": "stream",
     "text": [
      " 23%|███████████████████▊                                                                   | 43/189 [00:52<03:11,  1.31s/it]"
     ]
    },
    {
     "name": "stdout",
     "output_type": "stream",
     "text": [
      "[4/200][43/189] ========== Loss_D: 1.4345, Loss_G: 2.0025, Acc_G: 14/32 = 43.7500\n"
     ]
    },
    {
     "name": "stderr",
     "output_type": "stream",
     "text": [
      " 23%|████████████████████▎                                                                  | 44/189 [00:53<02:52,  1.19s/it]"
     ]
    },
    {
     "name": "stdout",
     "output_type": "stream",
     "text": [
      "[4/200][44/189] ========== Loss_D: 1.4299, Loss_G: 1.8659, Acc_G: 23/32 = 71.8750\n"
     ]
    },
    {
     "name": "stderr",
     "output_type": "stream",
     "text": [
      " 24%|████████████████████▋                                                                  | 45/189 [00:54<02:50,  1.18s/it]"
     ]
    },
    {
     "name": "stdout",
     "output_type": "stream",
     "text": [
      "[4/200][45/189] ========== Loss_D: 1.4064, Loss_G: 1.9139, Acc_G: 21/32 = 65.6250\n"
     ]
    },
    {
     "name": "stderr",
     "output_type": "stream",
     "text": [
      " 24%|█████████████████████▏                                                                 | 46/189 [00:56<02:56,  1.24s/it]"
     ]
    },
    {
     "name": "stdout",
     "output_type": "stream",
     "text": [
      "[4/200][46/189] ========== Loss_D: 1.4211, Loss_G: 1.8903, Acc_G: 17/32 = 53.1250\n"
     ]
    },
    {
     "name": "stderr",
     "output_type": "stream",
     "text": [
      " 25%|█████████████████████▋                                                                 | 47/189 [00:57<03:06,  1.32s/it]"
     ]
    },
    {
     "name": "stdout",
     "output_type": "stream",
     "text": [
      "[4/200][47/189] ========== Loss_D: 1.4231, Loss_G: 1.8854, Acc_G: 17/32 = 53.1250\n"
     ]
    },
    {
     "name": "stderr",
     "output_type": "stream",
     "text": [
      " 25%|██████████████████████                                                                 | 48/189 [00:58<02:54,  1.23s/it]"
     ]
    },
    {
     "name": "stdout",
     "output_type": "stream",
     "text": [
      "[4/200][48/189] ========== Loss_D: 1.4433, Loss_G: 1.9403, Acc_G: 17/32 = 53.1250\n"
     ]
    },
    {
     "name": "stderr",
     "output_type": "stream",
     "text": [
      " 26%|██████████████████████▌                                                                | 49/189 [01:00<02:54,  1.24s/it]"
     ]
    },
    {
     "name": "stdout",
     "output_type": "stream",
     "text": [
      "[4/200][49/189] ========== Loss_D: 1.4394, Loss_G: 1.7960, Acc_G: 17/32 = 53.1250\n"
     ]
    },
    {
     "name": "stderr",
     "output_type": "stream",
     "text": [
      " 26%|███████████████████████                                                                | 50/189 [01:01<02:50,  1.23s/it]"
     ]
    },
    {
     "name": "stdout",
     "output_type": "stream",
     "text": [
      "[4/200][50/189] ========== Loss_D: 1.4313, Loss_G: 1.8326, Acc_G: 18/32 = 56.2500\n"
     ]
    },
    {
     "name": "stderr",
     "output_type": "stream",
     "text": [
      " 27%|███████████████████████▍                                                               | 51/189 [01:02<03:00,  1.31s/it]"
     ]
    },
    {
     "name": "stdout",
     "output_type": "stream",
     "text": [
      "[4/200][51/189] ========== Loss_D: 1.4143, Loss_G: 1.8930, Acc_G: 14/32 = 43.7500\n"
     ]
    },
    {
     "name": "stderr",
     "output_type": "stream",
     "text": [
      " 28%|███████████████████████▉                                                               | 52/189 [01:03<02:52,  1.26s/it]"
     ]
    },
    {
     "name": "stdout",
     "output_type": "stream",
     "text": [
      "[4/200][52/189] ========== Loss_D: 1.4300, Loss_G: 1.9159, Acc_G: 16/32 = 50.0000\n"
     ]
    },
    {
     "name": "stderr",
     "output_type": "stream",
     "text": [
      " 28%|████████████████████████▍                                                              | 53/189 [01:05<02:49,  1.25s/it]"
     ]
    },
    {
     "name": "stdout",
     "output_type": "stream",
     "text": [
      "[4/200][53/189] ========== Loss_D: 1.4329, Loss_G: 1.9183, Acc_G: 21/32 = 65.6250\n"
     ]
    },
    {
     "name": "stderr",
     "output_type": "stream",
     "text": [
      " 29%|████████████████████████▊                                                              | 54/189 [01:06<02:43,  1.21s/it]"
     ]
    },
    {
     "name": "stdout",
     "output_type": "stream",
     "text": [
      "[4/200][54/189] ========== Loss_D: 1.4233, Loss_G: 1.8978, Acc_G: 21/32 = 65.6250\n"
     ]
    },
    {
     "name": "stderr",
     "output_type": "stream",
     "text": [
      " 29%|█████████████████████████▎                                                             | 55/189 [01:07<02:42,  1.22s/it]"
     ]
    },
    {
     "name": "stdout",
     "output_type": "stream",
     "text": [
      "[4/200][55/189] ========== Loss_D: 1.4324, Loss_G: 1.7647, Acc_G: 12/32 = 37.5000\n"
     ]
    },
    {
     "name": "stderr",
     "output_type": "stream",
     "text": [
      " 30%|█████████████████████████▊                                                             | 56/189 [01:08<02:47,  1.26s/it]"
     ]
    },
    {
     "name": "stdout",
     "output_type": "stream",
     "text": [
      "[4/200][56/189] ========== Loss_D: 1.4270, Loss_G: 1.8127, Acc_G: 18/32 = 56.2500\n"
     ]
    },
    {
     "name": "stderr",
     "output_type": "stream",
     "text": [
      " 30%|██████████████████████████▏                                                            | 57/189 [01:09<02:39,  1.21s/it]"
     ]
    },
    {
     "name": "stdout",
     "output_type": "stream",
     "text": [
      "[4/200][57/189] ========== Loss_D: 1.4179, Loss_G: 1.8050, Acc_G: 12/32 = 37.5000\n"
     ]
    },
    {
     "name": "stderr",
     "output_type": "stream",
     "text": [
      " 31%|██████████████████████████▋                                                            | 58/189 [01:11<02:44,  1.26s/it]"
     ]
    },
    {
     "name": "stdout",
     "output_type": "stream",
     "text": [
      "[4/200][58/189] ========== Loss_D: 1.4144, Loss_G: 1.8548, Acc_G: 16/32 = 50.0000\n"
     ]
    },
    {
     "name": "stderr",
     "output_type": "stream",
     "text": [
      " 31%|███████████████████████████▏                                                           | 59/189 [01:12<02:37,  1.21s/it]"
     ]
    },
    {
     "name": "stdout",
     "output_type": "stream",
     "text": [
      "[4/200][59/189] ========== Loss_D: 1.4367, Loss_G: 1.9402, Acc_G: 20/32 = 62.5000\n"
     ]
    },
    {
     "name": "stderr",
     "output_type": "stream",
     "text": [
      " 32%|███████████████████████████▌                                                           | 60/189 [01:13<02:35,  1.21s/it]"
     ]
    },
    {
     "name": "stdout",
     "output_type": "stream",
     "text": [
      "[4/200][60/189] ========== Loss_D: 1.4067, Loss_G: 1.9273, Acc_G: 12/32 = 37.5000\n"
     ]
    },
    {
     "name": "stderr",
     "output_type": "stream",
     "text": [
      " 32%|████████████████████████████                                                           | 61/189 [01:14<02:35,  1.22s/it]"
     ]
    },
    {
     "name": "stdout",
     "output_type": "stream",
     "text": [
      "[4/200][61/189] ========== Loss_D: 1.4197, Loss_G: 1.9002, Acc_G: 18/32 = 56.2500\n"
     ]
    },
    {
     "name": "stderr",
     "output_type": "stream",
     "text": [
      " 33%|████████████████████████████▌                                                          | 62/189 [01:15<02:21,  1.12s/it]"
     ]
    },
    {
     "name": "stdout",
     "output_type": "stream",
     "text": [
      "[4/200][62/189] ========== Loss_D: 1.4095, Loss_G: 1.8918, Acc_G: 15/32 = 46.8750\n"
     ]
    },
    {
     "name": "stderr",
     "output_type": "stream",
     "text": [
      " 33%|█████████████████████████████                                                          | 63/189 [01:16<02:19,  1.10s/it]"
     ]
    },
    {
     "name": "stdout",
     "output_type": "stream",
     "text": [
      "[4/200][63/189] ========== Loss_D: 1.4194, Loss_G: 1.8258, Acc_G: 17/32 = 53.1250\n"
     ]
    },
    {
     "name": "stderr",
     "output_type": "stream",
     "text": [
      " 34%|█████████████████████████████▍                                                         | 64/189 [01:18<02:36,  1.25s/it]"
     ]
    },
    {
     "name": "stdout",
     "output_type": "stream",
     "text": [
      "[4/200][64/189] ========== Loss_D: 1.4355, Loss_G: 1.9098, Acc_G: 18/32 = 56.2500\n"
     ]
    },
    {
     "name": "stderr",
     "output_type": "stream",
     "text": [
      " 34%|█████████████████████████████▉                                                         | 65/189 [01:19<02:35,  1.25s/it]"
     ]
    },
    {
     "name": "stdout",
     "output_type": "stream",
     "text": [
      "[4/200][65/189] ========== Loss_D: 1.4313, Loss_G: 1.9237, Acc_G: 19/32 = 59.3750\n"
     ]
    },
    {
     "name": "stderr",
     "output_type": "stream",
     "text": [
      " 35%|██████████████████████████████▍                                                        | 66/189 [01:20<02:25,  1.18s/it]"
     ]
    },
    {
     "name": "stdout",
     "output_type": "stream",
     "text": [
      "[4/200][66/189] ========== Loss_D: 1.4212, Loss_G: 1.8666, Acc_G: 18/32 = 56.2500\n"
     ]
    },
    {
     "name": "stderr",
     "output_type": "stream",
     "text": [
      " 35%|██████████████████████████████▊                                                        | 67/189 [01:22<02:31,  1.24s/it]"
     ]
    },
    {
     "name": "stdout",
     "output_type": "stream",
     "text": [
      "[4/200][67/189] ========== Loss_D: 1.4291, Loss_G: 1.7600, Acc_G: 20/32 = 62.5000\n"
     ]
    },
    {
     "name": "stderr",
     "output_type": "stream",
     "text": [
      " 36%|███████████████████████████████▎                                                       | 68/189 [01:23<02:27,  1.22s/it]"
     ]
    },
    {
     "name": "stdout",
     "output_type": "stream",
     "text": [
      "[4/200][68/189] ========== Loss_D: 1.4322, Loss_G: 1.7739, Acc_G: 12/32 = 37.5000\n"
     ]
    },
    {
     "name": "stderr",
     "output_type": "stream",
     "text": [
      " 37%|███████████████████████████████▊                                                       | 69/189 [01:24<02:33,  1.28s/it]"
     ]
    },
    {
     "name": "stdout",
     "output_type": "stream",
     "text": [
      "[4/200][69/189] ========== Loss_D: 1.4254, Loss_G: 1.8677, Acc_G: 12/32 = 37.5000\n"
     ]
    },
    {
     "name": "stderr",
     "output_type": "stream",
     "text": [
      " 37%|████████████████████████████████▏                                                      | 70/189 [01:26<02:37,  1.32s/it]"
     ]
    },
    {
     "name": "stdout",
     "output_type": "stream",
     "text": [
      "[4/200][70/189] ========== Loss_D: 1.4334, Loss_G: 1.7638, Acc_G: 22/32 = 68.7500\n"
     ]
    },
    {
     "name": "stderr",
     "output_type": "stream",
     "text": [
      " 38%|████████████████████████████████▋                                                      | 71/189 [01:27<02:44,  1.39s/it]"
     ]
    },
    {
     "name": "stdout",
     "output_type": "stream",
     "text": [
      "[4/200][71/189] ========== Loss_D: 1.4186, Loss_G: 1.8217, Acc_G: 10/32 = 31.2500\n"
     ]
    },
    {
     "name": "stderr",
     "output_type": "stream",
     "text": [
      " 38%|█████████████████████████████████▏                                                     | 72/189 [01:28<02:34,  1.32s/it]"
     ]
    },
    {
     "name": "stdout",
     "output_type": "stream",
     "text": [
      "[4/200][72/189] ========== Loss_D: 1.4164, Loss_G: 1.9061, Acc_G: 13/32 = 40.6250\n"
     ]
    },
    {
     "name": "stderr",
     "output_type": "stream",
     "text": [
      " 39%|█████████████████████████████████▌                                                     | 73/189 [01:29<02:28,  1.28s/it]"
     ]
    },
    {
     "name": "stdout",
     "output_type": "stream",
     "text": [
      "[4/200][73/189] ========== Loss_D: 1.4402, Loss_G: 1.8771, Acc_G: 17/32 = 53.1250\n"
     ]
    },
    {
     "name": "stderr",
     "output_type": "stream",
     "text": [
      " 39%|██████████████████████████████████                                                     | 74/189 [01:30<02:12,  1.15s/it]"
     ]
    },
    {
     "name": "stdout",
     "output_type": "stream",
     "text": [
      "[4/200][74/189] ========== Loss_D: 1.4328, Loss_G: 1.9419, Acc_G: 17/32 = 53.1250\n"
     ]
    },
    {
     "name": "stderr",
     "output_type": "stream",
     "text": [
      " 40%|██████████████████████████████████▌                                                    | 75/189 [01:32<02:19,  1.22s/it]"
     ]
    },
    {
     "name": "stdout",
     "output_type": "stream",
     "text": [
      "[4/200][75/189] ========== Loss_D: 1.4470, Loss_G: 1.8514, Acc_G: 21/32 = 65.6250\n"
     ]
    },
    {
     "name": "stderr",
     "output_type": "stream",
     "text": [
      " 40%|██████████████████████████████████▉                                                    | 76/189 [01:33<02:21,  1.25s/it]"
     ]
    },
    {
     "name": "stdout",
     "output_type": "stream",
     "text": [
      "[4/200][76/189] ========== Loss_D: 1.4180, Loss_G: 1.9002, Acc_G: 13/32 = 40.6250\n"
     ]
    },
    {
     "name": "stderr",
     "output_type": "stream",
     "text": [
      " 41%|███████████████████████████████████▍                                                   | 77/189 [01:34<02:21,  1.26s/it]"
     ]
    },
    {
     "name": "stdout",
     "output_type": "stream",
     "text": [
      "[4/200][77/189] ========== Loss_D: 1.4260, Loss_G: 1.8873, Acc_G: 15/32 = 46.8750\n"
     ]
    },
    {
     "name": "stderr",
     "output_type": "stream",
     "text": [
      " 41%|███████████████████████████████████▉                                                   | 78/189 [01:35<02:14,  1.21s/it]"
     ]
    },
    {
     "name": "stdout",
     "output_type": "stream",
     "text": [
      "[4/200][78/189] ========== Loss_D: 1.4194, Loss_G: 1.8044, Acc_G: 14/32 = 43.7500\n"
     ]
    },
    {
     "name": "stderr",
     "output_type": "stream",
     "text": [
      " 42%|████████████████████████████████████▎                                                  | 79/189 [01:37<02:16,  1.24s/it]"
     ]
    },
    {
     "name": "stdout",
     "output_type": "stream",
     "text": [
      "[4/200][79/189] ========== Loss_D: 1.4205, Loss_G: 1.8883, Acc_G: 14/32 = 43.7500\n"
     ]
    },
    {
     "name": "stderr",
     "output_type": "stream",
     "text": [
      " 42%|████████████████████████████████████▊                                                  | 80/189 [01:38<02:16,  1.26s/it]"
     ]
    },
    {
     "name": "stdout",
     "output_type": "stream",
     "text": [
      "[4/200][80/189] ========== Loss_D: 1.4332, Loss_G: 1.8049, Acc_G: 20/32 = 62.5000\n"
     ]
    },
    {
     "name": "stderr",
     "output_type": "stream",
     "text": [
      " 43%|█████████████████████████████████████▎                                                 | 81/189 [01:39<02:11,  1.22s/it]"
     ]
    },
    {
     "name": "stdout",
     "output_type": "stream",
     "text": [
      "[4/200][81/189] ========== Loss_D: 1.4376, Loss_G: 1.8417, Acc_G: 16/32 = 50.0000\n"
     ]
    },
    {
     "name": "stderr",
     "output_type": "stream",
     "text": [
      " 43%|█████████████████████████████████████▋                                                 | 82/189 [01:40<02:04,  1.17s/it]"
     ]
    },
    {
     "name": "stdout",
     "output_type": "stream",
     "text": [
      "[4/200][82/189] ========== Loss_D: 1.4215, Loss_G: 1.8445, Acc_G: 21/32 = 65.6250\n"
     ]
    },
    {
     "name": "stderr",
     "output_type": "stream",
     "text": [
      " 44%|██████████████████████████████████████▏                                                | 83/189 [01:41<02:00,  1.13s/it]"
     ]
    },
    {
     "name": "stdout",
     "output_type": "stream",
     "text": [
      "[4/200][83/189] ========== Loss_D: 1.4153, Loss_G: 1.9239, Acc_G: 13/32 = 40.6250\n"
     ]
    },
    {
     "name": "stderr",
     "output_type": "stream",
     "text": [
      " 44%|██████████████████████████████████████▋                                                | 84/189 [01:43<02:03,  1.18s/it]"
     ]
    },
    {
     "name": "stdout",
     "output_type": "stream",
     "text": [
      "[4/200][84/189] ========== Loss_D: 1.4328, Loss_G: 1.8016, Acc_G: 23/32 = 71.8750\n"
     ]
    },
    {
     "name": "stderr",
     "output_type": "stream",
     "text": [
      " 45%|███████████████████████████████████████▏                                               | 85/189 [01:44<02:01,  1.16s/it]"
     ]
    },
    {
     "name": "stdout",
     "output_type": "stream",
     "text": [
      "[4/200][85/189] ========== Loss_D: 1.4320, Loss_G: 1.9001, Acc_G: 15/32 = 46.8750\n"
     ]
    },
    {
     "name": "stderr",
     "output_type": "stream",
     "text": [
      " 46%|███████████████████████████████████████▌                                               | 86/189 [01:45<02:09,  1.25s/it]"
     ]
    },
    {
     "name": "stdout",
     "output_type": "stream",
     "text": [
      "[4/200][86/189] ========== Loss_D: 1.4167, Loss_G: 1.8288, Acc_G: 14/32 = 43.7500\n"
     ]
    },
    {
     "name": "stderr",
     "output_type": "stream",
     "text": [
      " 46%|████████████████████████████████████████                                               | 87/189 [01:46<02:09,  1.27s/it]"
     ]
    },
    {
     "name": "stdout",
     "output_type": "stream",
     "text": [
      "[4/200][87/189] ========== Loss_D: 1.4249, Loss_G: 1.8046, Acc_G: 18/32 = 56.2500\n"
     ]
    },
    {
     "name": "stderr",
     "output_type": "stream",
     "text": [
      " 47%|████████████████████████████████████████▌                                              | 88/189 [01:47<02:00,  1.19s/it]"
     ]
    },
    {
     "name": "stdout",
     "output_type": "stream",
     "text": [
      "[4/200][88/189] ========== Loss_D: 1.4448, Loss_G: 1.9265, Acc_G: 16/32 = 50.0000\n"
     ]
    },
    {
     "name": "stderr",
     "output_type": "stream",
     "text": [
      " 47%|████████████████████████████████████████▉                                              | 89/189 [01:49<02:05,  1.26s/it]"
     ]
    },
    {
     "name": "stdout",
     "output_type": "stream",
     "text": [
      "[4/200][89/189] ========== Loss_D: 1.4082, Loss_G: 1.8688, Acc_G: 14/32 = 43.7500\n"
     ]
    },
    {
     "name": "stderr",
     "output_type": "stream",
     "text": [
      " 48%|█████████████████████████████████████████▍                                             | 90/189 [01:50<02:07,  1.29s/it]"
     ]
    },
    {
     "name": "stdout",
     "output_type": "stream",
     "text": [
      "[4/200][90/189] ========== Loss_D: 1.4382, Loss_G: 1.8340, Acc_G: 13/32 = 40.6250\n"
     ]
    },
    {
     "name": "stderr",
     "output_type": "stream",
     "text": [
      " 48%|█████████████████████████████████████████▉                                             | 91/189 [01:51<02:04,  1.27s/it]"
     ]
    },
    {
     "name": "stdout",
     "output_type": "stream",
     "text": [
      "[4/200][91/189] ========== Loss_D: 1.4226, Loss_G: 1.8636, Acc_G: 14/32 = 43.7500\n"
     ]
    },
    {
     "name": "stderr",
     "output_type": "stream",
     "text": [
      " 49%|██████████████████████████████████████████▎                                            | 92/189 [01:52<01:56,  1.20s/it]"
     ]
    },
    {
     "name": "stdout",
     "output_type": "stream",
     "text": [
      "[4/200][92/189] ========== Loss_D: 1.4397, Loss_G: 1.8831, Acc_G: 18/32 = 56.2500\n"
     ]
    },
    {
     "name": "stderr",
     "output_type": "stream",
     "text": [
      " 49%|██████████████████████████████████████████▊                                            | 93/189 [01:54<01:59,  1.24s/it]"
     ]
    },
    {
     "name": "stdout",
     "output_type": "stream",
     "text": [
      "[4/200][93/189] ========== Loss_D: 1.4189, Loss_G: 1.9033, Acc_G: 19/32 = 59.3750\n"
     ]
    },
    {
     "name": "stderr",
     "output_type": "stream",
     "text": [
      " 50%|███████████████████████████████████████████▎                                           | 94/189 [01:55<02:07,  1.34s/it]"
     ]
    },
    {
     "name": "stdout",
     "output_type": "stream",
     "text": [
      "[4/200][94/189] ========== Loss_D: 1.4213, Loss_G: 1.8465, Acc_G: 12/32 = 37.5000\n"
     ]
    },
    {
     "name": "stderr",
     "output_type": "stream",
     "text": [
      " 50%|███████████████████████████████████████████▋                                           | 95/189 [01:57<02:02,  1.31s/it]"
     ]
    },
    {
     "name": "stdout",
     "output_type": "stream",
     "text": [
      "[4/200][95/189] ========== Loss_D: 1.4127, Loss_G: 1.8636, Acc_G: 18/32 = 56.2500\n"
     ]
    },
    {
     "name": "stderr",
     "output_type": "stream",
     "text": [
      " 51%|████████████████████████████████████████████▏                                          | 96/189 [01:58<02:07,  1.37s/it]"
     ]
    },
    {
     "name": "stdout",
     "output_type": "stream",
     "text": [
      "[4/200][96/189] ========== Loss_D: 1.4240, Loss_G: 1.8541, Acc_G: 16/32 = 50.0000\n"
     ]
    },
    {
     "name": "stderr",
     "output_type": "stream",
     "text": [
      " 51%|████████████████████████████████████████████▋                                          | 97/189 [01:59<01:56,  1.27s/it]"
     ]
    },
    {
     "name": "stdout",
     "output_type": "stream",
     "text": [
      "[4/200][97/189] ========== Loss_D: 1.4368, Loss_G: 1.9277, Acc_G: 19/32 = 59.3750\n"
     ]
    },
    {
     "name": "stderr",
     "output_type": "stream",
     "text": [
      " 52%|█████████████████████████████████████████████                                          | 98/189 [02:00<01:47,  1.18s/it]"
     ]
    },
    {
     "name": "stdout",
     "output_type": "stream",
     "text": [
      "[4/200][98/189] ========== Loss_D: 1.4193, Loss_G: 1.8897, Acc_G: 15/32 = 46.8750\n"
     ]
    },
    {
     "name": "stderr",
     "output_type": "stream",
     "text": [
      " 52%|█████████████████████████████████████████████▌                                         | 99/189 [02:01<01:46,  1.18s/it]"
     ]
    },
    {
     "name": "stdout",
     "output_type": "stream",
     "text": [
      "[4/200][99/189] ========== Loss_D: 1.4376, Loss_G: 1.8419, Acc_G: 17/32 = 53.1250\n"
     ]
    },
    {
     "name": "stderr",
     "output_type": "stream",
     "text": [
      " 53%|█████████████████████████████████████████████▌                                        | 100/189 [02:02<01:41,  1.14s/it]"
     ]
    },
    {
     "name": "stdout",
     "output_type": "stream",
     "text": [
      "[4/200][100/189] ========== Loss_D: 1.4330, Loss_G: 1.7719, Acc_G: 13/32 = 40.6250\n"
     ]
    },
    {
     "name": "stderr",
     "output_type": "stream",
     "text": [
      " 53%|█████████████████████████████████████████████▉                                        | 101/189 [02:04<01:42,  1.17s/it]"
     ]
    },
    {
     "name": "stdout",
     "output_type": "stream",
     "text": [
      "[4/200][101/189] ========== Loss_D: 1.4138, Loss_G: 1.8527, Acc_G: 17/32 = 53.1250\n"
     ]
    },
    {
     "name": "stderr",
     "output_type": "stream",
     "text": [
      " 54%|██████████████████████████████████████████████▍                                       | 102/189 [02:05<01:35,  1.10s/it]"
     ]
    },
    {
     "name": "stdout",
     "output_type": "stream",
     "text": [
      "[4/200][102/189] ========== Loss_D: 1.4284, Loss_G: 1.9245, Acc_G: 16/32 = 50.0000\n"
     ]
    },
    {
     "name": "stderr",
     "output_type": "stream",
     "text": [
      " 54%|██████████████████████████████████████████████▊                                       | 103/189 [02:06<01:38,  1.15s/it]"
     ]
    },
    {
     "name": "stdout",
     "output_type": "stream",
     "text": [
      "[4/200][103/189] ========== Loss_D: 1.4168, Loss_G: 1.8469, Acc_G: 15/32 = 46.8750\n"
     ]
    },
    {
     "name": "stderr",
     "output_type": "stream",
     "text": [
      " 55%|███████████████████████████████████████████████▎                                      | 104/189 [02:07<01:36,  1.14s/it]"
     ]
    },
    {
     "name": "stdout",
     "output_type": "stream",
     "text": [
      "[4/200][104/189] ========== Loss_D: 1.4466, Loss_G: 1.9219, Acc_G: 20/32 = 62.5000\n"
     ]
    },
    {
     "name": "stderr",
     "output_type": "stream",
     "text": [
      " 56%|███████████████████████████████████████████████▊                                      | 105/189 [02:08<01:37,  1.16s/it]"
     ]
    },
    {
     "name": "stdout",
     "output_type": "stream",
     "text": [
      "[4/200][105/189] ========== Loss_D: 1.4173, Loss_G: 1.8860, Acc_G: 20/32 = 62.5000\n"
     ]
    },
    {
     "name": "stderr",
     "output_type": "stream",
     "text": [
      " 56%|████████████████████████████████████████████████▏                                     | 106/189 [02:09<01:38,  1.19s/it]"
     ]
    },
    {
     "name": "stdout",
     "output_type": "stream",
     "text": [
      "[4/200][106/189] ========== Loss_D: 1.4199, Loss_G: 1.9374, Acc_G: 20/32 = 62.5000\n"
     ]
    },
    {
     "name": "stderr",
     "output_type": "stream",
     "text": [
      " 57%|████████████████████████████████████████████████▋                                     | 107/189 [02:10<01:33,  1.14s/it]"
     ]
    },
    {
     "name": "stdout",
     "output_type": "stream",
     "text": [
      "[4/200][107/189] ========== Loss_D: 1.4221, Loss_G: 1.9263, Acc_G: 20/32 = 62.5000\n"
     ]
    },
    {
     "name": "stderr",
     "output_type": "stream",
     "text": [
      " 57%|█████████████████████████████████████████████████▏                                    | 108/189 [02:12<01:35,  1.18s/it]"
     ]
    },
    {
     "name": "stdout",
     "output_type": "stream",
     "text": [
      "[4/200][108/189] ========== Loss_D: 1.4123, Loss_G: 1.7829, Acc_G: 18/32 = 56.2500\n"
     ]
    },
    {
     "name": "stderr",
     "output_type": "stream",
     "text": [
      " 58%|█████████████████████████████████████████████████▌                                    | 109/189 [02:13<01:34,  1.18s/it]"
     ]
    },
    {
     "name": "stdout",
     "output_type": "stream",
     "text": [
      "[4/200][109/189] ========== Loss_D: 1.4221, Loss_G: 1.8434, Acc_G: 21/32 = 65.6250\n"
     ]
    },
    {
     "name": "stderr",
     "output_type": "stream",
     "text": [
      " 58%|██████████████████████████████████████████████████                                    | 110/189 [02:14<01:26,  1.09s/it]"
     ]
    },
    {
     "name": "stdout",
     "output_type": "stream",
     "text": [
      "[4/200][110/189] ========== Loss_D: 1.4137, Loss_G: 1.8318, Acc_G: 14/32 = 43.7500\n"
     ]
    },
    {
     "name": "stderr",
     "output_type": "stream",
     "text": [
      " 59%|██████████████████████████████████████████████████▌                                   | 111/189 [02:15<01:29,  1.14s/it]"
     ]
    },
    {
     "name": "stdout",
     "output_type": "stream",
     "text": [
      "[4/200][111/189] ========== Loss_D: 1.4306, Loss_G: 1.9797, Acc_G: 16/32 = 50.0000\n"
     ]
    },
    {
     "name": "stderr",
     "output_type": "stream",
     "text": [
      " 59%|██████████████████████████████████████████████████▉                                   | 112/189 [02:16<01:34,  1.23s/it]"
     ]
    },
    {
     "name": "stdout",
     "output_type": "stream",
     "text": [
      "[4/200][112/189] ========== Loss_D: 1.4301, Loss_G: 1.9432, Acc_G: 18/32 = 56.2500\n"
     ]
    },
    {
     "name": "stderr",
     "output_type": "stream",
     "text": [
      " 60%|███████████████████████████████████████████████████▍                                  | 113/189 [02:18<01:31,  1.20s/it]"
     ]
    },
    {
     "name": "stdout",
     "output_type": "stream",
     "text": [
      "[4/200][113/189] ========== Loss_D: 1.4198, Loss_G: 1.8726, Acc_G: 18/32 = 56.2500\n"
     ]
    },
    {
     "name": "stderr",
     "output_type": "stream",
     "text": [
      " 60%|███████████████████████████████████████████████████▊                                  | 114/189 [02:19<01:27,  1.16s/it]"
     ]
    },
    {
     "name": "stdout",
     "output_type": "stream",
     "text": [
      "[4/200][114/189] ========== Loss_D: 1.4250, Loss_G: 2.0544, Acc_G: 21/32 = 65.6250\n"
     ]
    },
    {
     "name": "stderr",
     "output_type": "stream",
     "text": [
      " 61%|████████████████████████████████████████████████████▎                                 | 115/189 [02:20<01:23,  1.13s/it]"
     ]
    },
    {
     "name": "stdout",
     "output_type": "stream",
     "text": [
      "[4/200][115/189] ========== Loss_D: 1.4321, Loss_G: 1.9191, Acc_G: 20/32 = 62.5000\n"
     ]
    },
    {
     "name": "stderr",
     "output_type": "stream",
     "text": [
      " 61%|████████████████████████████████████████████████████▊                                 | 116/189 [02:21<01:23,  1.15s/it]"
     ]
    },
    {
     "name": "stdout",
     "output_type": "stream",
     "text": [
      "[4/200][116/189] ========== Loss_D: 1.4257, Loss_G: 1.7838, Acc_G: 12/32 = 37.5000\n"
     ]
    },
    {
     "name": "stderr",
     "output_type": "stream",
     "text": [
      " 62%|█████████████████████████████████████████████████████▏                                | 117/189 [02:22<01:21,  1.13s/it]"
     ]
    },
    {
     "name": "stdout",
     "output_type": "stream",
     "text": [
      "[4/200][117/189] ========== Loss_D: 1.4286, Loss_G: 1.7894, Acc_G: 19/32 = 59.3750\n"
     ]
    },
    {
     "name": "stderr",
     "output_type": "stream",
     "text": [
      " 62%|█████████████████████████████████████████████████████▋                                | 118/189 [02:23<01:18,  1.10s/it]"
     ]
    },
    {
     "name": "stdout",
     "output_type": "stream",
     "text": [
      "[4/200][118/189] ========== Loss_D: 1.4111, Loss_G: 1.8537, Acc_G: 15/32 = 46.8750\n"
     ]
    },
    {
     "name": "stderr",
     "output_type": "stream",
     "text": [
      " 63%|██████████████████████████████████████████████████████▏                               | 119/189 [02:24<01:19,  1.13s/it]"
     ]
    },
    {
     "name": "stdout",
     "output_type": "stream",
     "text": [
      "[4/200][119/189] ========== Loss_D: 1.4298, Loss_G: 1.8381, Acc_G: 18/32 = 56.2500\n"
     ]
    },
    {
     "name": "stderr",
     "output_type": "stream",
     "text": [
      " 63%|██████████████████████████████████████████████████████▌                               | 120/189 [02:26<01:22,  1.20s/it]"
     ]
    },
    {
     "name": "stdout",
     "output_type": "stream",
     "text": [
      "[4/200][120/189] ========== Loss_D: 1.4161, Loss_G: 1.9050, Acc_G: 15/32 = 46.8750\n"
     ]
    },
    {
     "name": "stderr",
     "output_type": "stream",
     "text": [
      " 64%|███████████████████████████████████████████████████████                               | 121/189 [02:27<01:33,  1.37s/it]"
     ]
    },
    {
     "name": "stdout",
     "output_type": "stream",
     "text": [
      "[4/200][121/189] ========== Loss_D: 1.4391, Loss_G: 1.8257, Acc_G: 21/32 = 65.6250\n"
     ]
    },
    {
     "name": "stderr",
     "output_type": "stream",
     "text": [
      " 65%|███████████████████████████████████████████████████████▌                              | 122/189 [02:29<01:27,  1.31s/it]"
     ]
    },
    {
     "name": "stdout",
     "output_type": "stream",
     "text": [
      "[4/200][122/189] ========== Loss_D: 1.4392, Loss_G: 2.0246, Acc_G: 18/32 = 56.2500\n"
     ]
    },
    {
     "name": "stderr",
     "output_type": "stream",
     "text": [
      " 65%|███████████████████████████████████████████████████████▉                              | 123/189 [02:30<01:22,  1.25s/it]"
     ]
    },
    {
     "name": "stdout",
     "output_type": "stream",
     "text": [
      "[4/200][123/189] ========== Loss_D: 1.4344, Loss_G: 1.8296, Acc_G: 15/32 = 46.8750\n"
     ]
    },
    {
     "name": "stderr",
     "output_type": "stream",
     "text": [
      " 66%|████████████████████████████████████████████████████████▍                             | 124/189 [02:31<01:17,  1.20s/it]"
     ]
    },
    {
     "name": "stdout",
     "output_type": "stream",
     "text": [
      "[4/200][124/189] ========== Loss_D: 1.4154, Loss_G: 1.8721, Acc_G: 19/32 = 59.3750\n"
     ]
    },
    {
     "name": "stderr",
     "output_type": "stream",
     "text": [
      " 66%|████████████████████████████████████████████████████████▉                             | 125/189 [02:32<01:12,  1.13s/it]"
     ]
    },
    {
     "name": "stdout",
     "output_type": "stream",
     "text": [
      "[4/200][125/189] ========== Loss_D: 1.4211, Loss_G: 1.8894, Acc_G: 18/32 = 56.2500\n"
     ]
    },
    {
     "name": "stderr",
     "output_type": "stream",
     "text": [
      " 67%|█████████████████████████████████████████████████████████▎                            | 126/189 [02:33<01:13,  1.17s/it]"
     ]
    },
    {
     "name": "stdout",
     "output_type": "stream",
     "text": [
      "[4/200][126/189] ========== Loss_D: 1.4309, Loss_G: 1.8416, Acc_G: 16/32 = 50.0000\n"
     ]
    },
    {
     "name": "stderr",
     "output_type": "stream",
     "text": [
      " 67%|█████████████████████████████████████████████████████████▊                            | 127/189 [02:34<01:06,  1.08s/it]"
     ]
    },
    {
     "name": "stdout",
     "output_type": "stream",
     "text": [
      "[4/200][127/189] ========== Loss_D: 1.4324, Loss_G: 1.8707, Acc_G: 15/32 = 46.8750\n"
     ]
    },
    {
     "name": "stderr",
     "output_type": "stream",
     "text": [
      " 68%|██████████████████████████████████████████████████████████▏                           | 128/189 [02:35<01:09,  1.14s/it]"
     ]
    },
    {
     "name": "stdout",
     "output_type": "stream",
     "text": [
      "[4/200][128/189] ========== Loss_D: 1.4245, Loss_G: 1.8504, Acc_G: 17/32 = 53.1250\n"
     ]
    },
    {
     "name": "stderr",
     "output_type": "stream",
     "text": [
      " 68%|██████████████████████████████████████████████████████████▋                           | 129/189 [02:36<01:10,  1.17s/it]"
     ]
    },
    {
     "name": "stdout",
     "output_type": "stream",
     "text": [
      "[4/200][129/189] ========== Loss_D: 1.4396, Loss_G: 1.8353, Acc_G: 17/32 = 53.1250\n"
     ]
    },
    {
     "name": "stderr",
     "output_type": "stream",
     "text": [
      " 69%|███████████████████████████████████████████████████████████▏                          | 130/189 [02:38<01:14,  1.26s/it]"
     ]
    },
    {
     "name": "stdout",
     "output_type": "stream",
     "text": [
      "[4/200][130/189] ========== Loss_D: 1.4214, Loss_G: 1.7547, Acc_G: 13/32 = 40.6250\n"
     ]
    },
    {
     "name": "stderr",
     "output_type": "stream",
     "text": [
      " 69%|███████████████████████████████████████████████████████████▌                          | 131/189 [02:39<01:11,  1.24s/it]"
     ]
    },
    {
     "name": "stdout",
     "output_type": "stream",
     "text": [
      "[4/200][131/189] ========== Loss_D: 1.4242, Loss_G: 1.7244, Acc_G: 15/32 = 46.8750\n"
     ]
    },
    {
     "name": "stderr",
     "output_type": "stream",
     "text": [
      " 70%|████████████████████████████████████████████████████████████                          | 132/189 [02:40<01:09,  1.22s/it]"
     ]
    },
    {
     "name": "stdout",
     "output_type": "stream",
     "text": [
      "[4/200][132/189] ========== Loss_D: 1.4257, Loss_G: 1.9123, Acc_G: 19/32 = 59.3750\n"
     ]
    },
    {
     "name": "stderr",
     "output_type": "stream",
     "text": [
      " 70%|████████████████████████████████████████████████████████████▌                         | 133/189 [02:41<01:09,  1.23s/it]"
     ]
    },
    {
     "name": "stdout",
     "output_type": "stream",
     "text": [
      "[4/200][133/189] ========== Loss_D: 1.4282, Loss_G: 1.8658, Acc_G: 16/32 = 50.0000\n"
     ]
    },
    {
     "name": "stderr",
     "output_type": "stream",
     "text": [
      " 71%|████████████████████████████████████████████████████████████▉                         | 134/189 [02:43<01:12,  1.32s/it]"
     ]
    },
    {
     "name": "stdout",
     "output_type": "stream",
     "text": [
      "[4/200][134/189] ========== Loss_D: 1.4113, Loss_G: 1.8666, Acc_G: 18/32 = 56.2500\n"
     ]
    },
    {
     "name": "stderr",
     "output_type": "stream",
     "text": [
      " 71%|█████████████████████████████████████████████████████████████▍                        | 135/189 [02:44<01:02,  1.16s/it]"
     ]
    },
    {
     "name": "stdout",
     "output_type": "stream",
     "text": [
      "[4/200][135/189] ========== Loss_D: 1.4366, Loss_G: 1.8760, Acc_G: 11/32 = 34.3750\n"
     ]
    },
    {
     "name": "stderr",
     "output_type": "stream",
     "text": [
      " 72%|█████████████████████████████████████████████████████████████▉                        | 136/189 [02:45<01:04,  1.22s/it]"
     ]
    },
    {
     "name": "stdout",
     "output_type": "stream",
     "text": [
      "[4/200][136/189] ========== Loss_D: 1.4310, Loss_G: 2.0141, Acc_G: 16/32 = 50.0000\n"
     ]
    },
    {
     "name": "stderr",
     "output_type": "stream",
     "text": [
      " 72%|██████████████████████████████████████████████████████████████▎                       | 137/189 [02:47<01:07,  1.29s/it]"
     ]
    },
    {
     "name": "stdout",
     "output_type": "stream",
     "text": [
      "[4/200][137/189] ========== Loss_D: 1.4440, Loss_G: 1.7581, Acc_G: 18/32 = 56.2500\n"
     ]
    },
    {
     "name": "stderr",
     "output_type": "stream",
     "text": [
      " 73%|██████████████████████████████████████████████████████████████▊                       | 138/189 [02:48<01:08,  1.34s/it]"
     ]
    },
    {
     "name": "stdout",
     "output_type": "stream",
     "text": [
      "[4/200][138/189] ========== Loss_D: 1.4251, Loss_G: 1.9711, Acc_G: 18/32 = 56.2500\n"
     ]
    },
    {
     "name": "stderr",
     "output_type": "stream",
     "text": [
      " 74%|███████████████████████████████████████████████████████████████▏                      | 139/189 [02:49<01:03,  1.26s/it]"
     ]
    },
    {
     "name": "stdout",
     "output_type": "stream",
     "text": [
      "[4/200][139/189] ========== Loss_D: 1.4233, Loss_G: 1.8295, Acc_G: 23/32 = 71.8750\n"
     ]
    },
    {
     "name": "stderr",
     "output_type": "stream",
     "text": [
      " 74%|███████████████████████████████████████████████████████████████▋                      | 140/189 [02:50<01:02,  1.27s/it]"
     ]
    },
    {
     "name": "stdout",
     "output_type": "stream",
     "text": [
      "[4/200][140/189] ========== Loss_D: 1.4081, Loss_G: 1.8515, Acc_G: 20/32 = 62.5000\n"
     ]
    },
    {
     "name": "stderr",
     "output_type": "stream",
     "text": [
      " 75%|████████████████████████████████████████████████████████████████▏                     | 141/189 [02:51<00:57,  1.20s/it]"
     ]
    },
    {
     "name": "stdout",
     "output_type": "stream",
     "text": [
      "[4/200][141/189] ========== Loss_D: 1.4304, Loss_G: 1.8171, Acc_G: 12/32 = 37.5000\n"
     ]
    },
    {
     "name": "stderr",
     "output_type": "stream",
     "text": [
      " 75%|████████████████████████████████████████████████████████████████▌                     | 142/189 [02:53<00:58,  1.25s/it]"
     ]
    },
    {
     "name": "stdout",
     "output_type": "stream",
     "text": [
      "[4/200][142/189] ========== Loss_D: 1.4041, Loss_G: 1.8823, Acc_G: 15/32 = 46.8750\n"
     ]
    },
    {
     "name": "stderr",
     "output_type": "stream",
     "text": [
      " 76%|█████████████████████████████████████████████████████████████████                     | 143/189 [02:54<00:54,  1.18s/it]"
     ]
    },
    {
     "name": "stdout",
     "output_type": "stream",
     "text": [
      "[4/200][143/189] ========== Loss_D: 1.4249, Loss_G: 1.9474, Acc_G: 17/32 = 53.1250\n"
     ]
    },
    {
     "name": "stderr",
     "output_type": "stream",
     "text": [
      " 76%|█████████████████████████████████████████████████████████████████▌                    | 144/189 [02:55<00:55,  1.24s/it]"
     ]
    },
    {
     "name": "stdout",
     "output_type": "stream",
     "text": [
      "[4/200][144/189] ========== Loss_D: 1.4295, Loss_G: 1.9316, Acc_G: 17/32 = 53.1250\n"
     ]
    },
    {
     "name": "stderr",
     "output_type": "stream",
     "text": [
      " 77%|█████████████████████████████████████████████████████████████████▉                    | 145/189 [02:57<01:04,  1.46s/it]"
     ]
    },
    {
     "name": "stdout",
     "output_type": "stream",
     "text": [
      "[4/200][145/189] ========== Loss_D: 1.4446, Loss_G: 1.9068, Acc_G: 13/32 = 40.6250\n"
     ]
    },
    {
     "name": "stderr",
     "output_type": "stream",
     "text": [
      " 77%|██████████████████████████████████████████████████████████████████▍                   | 146/189 [02:58<00:57,  1.33s/it]"
     ]
    },
    {
     "name": "stdout",
     "output_type": "stream",
     "text": [
      "[4/200][146/189] ========== Loss_D: 1.4297, Loss_G: 1.8504, Acc_G: 18/32 = 56.2500\n"
     ]
    },
    {
     "name": "stderr",
     "output_type": "stream",
     "text": [
      " 78%|██████████████████████████████████████████████████████████████████▉                   | 147/189 [03:00<00:56,  1.33s/it]"
     ]
    },
    {
     "name": "stdout",
     "output_type": "stream",
     "text": [
      "[4/200][147/189] ========== Loss_D: 1.4213, Loss_G: 1.9051, Acc_G: 19/32 = 59.3750\n"
     ]
    },
    {
     "name": "stderr",
     "output_type": "stream",
     "text": [
      " 78%|███████████████████████████████████████████████████████████████████▎                  | 148/189 [03:01<00:56,  1.38s/it]"
     ]
    },
    {
     "name": "stdout",
     "output_type": "stream",
     "text": [
      "[4/200][148/189] ========== Loss_D: 1.4356, Loss_G: 1.9325, Acc_G: 19/32 = 59.3750\n"
     ]
    },
    {
     "name": "stderr",
     "output_type": "stream",
     "text": [
      " 79%|███████████████████████████████████████████████████████████████████▊                  | 149/189 [03:02<00:51,  1.29s/it]"
     ]
    },
    {
     "name": "stdout",
     "output_type": "stream",
     "text": [
      "[4/200][149/189] ========== Loss_D: 1.4315, Loss_G: 1.7915, Acc_G: 15/32 = 46.8750\n"
     ]
    },
    {
     "name": "stderr",
     "output_type": "stream",
     "text": [
      " 79%|████████████████████████████████████████████████████████████████████▎                 | 150/189 [03:03<00:50,  1.28s/it]"
     ]
    },
    {
     "name": "stdout",
     "output_type": "stream",
     "text": [
      "[4/200][150/189] ========== Loss_D: 1.4375, Loss_G: 1.8313, Acc_G: 22/32 = 68.7500\n"
     ]
    },
    {
     "name": "stderr",
     "output_type": "stream",
     "text": [
      " 80%|████████████████████████████████████████████████████████████████████▋                 | 151/189 [03:04<00:46,  1.22s/it]"
     ]
    },
    {
     "name": "stdout",
     "output_type": "stream",
     "text": [
      "[4/200][151/189] ========== Loss_D: 1.4352, Loss_G: 1.8046, Acc_G: 14/32 = 43.7500\n"
     ]
    },
    {
     "name": "stderr",
     "output_type": "stream",
     "text": [
      " 80%|█████████████████████████████████████████████████████████████████████▏                | 152/189 [03:05<00:42,  1.16s/it]"
     ]
    },
    {
     "name": "stdout",
     "output_type": "stream",
     "text": [
      "[4/200][152/189] ========== Loss_D: 1.4191, Loss_G: 1.7963, Acc_G: 18/32 = 56.2500\n"
     ]
    },
    {
     "name": "stderr",
     "output_type": "stream",
     "text": [
      " 81%|█████████████████████████████████████████████████████████████████████▌                | 153/189 [03:07<00:43,  1.20s/it]"
     ]
    },
    {
     "name": "stdout",
     "output_type": "stream",
     "text": [
      "[4/200][153/189] ========== Loss_D: 1.4260, Loss_G: 1.7654, Acc_G: 21/32 = 65.6250\n"
     ]
    },
    {
     "name": "stderr",
     "output_type": "stream",
     "text": [
      " 81%|██████████████████████████████████████████████████████████████████████                | 154/189 [03:08<00:45,  1.30s/it]"
     ]
    },
    {
     "name": "stdout",
     "output_type": "stream",
     "text": [
      "[4/200][154/189] ========== Loss_D: 1.4311, Loss_G: 1.7870, Acc_G: 18/32 = 56.2500\n"
     ]
    },
    {
     "name": "stderr",
     "output_type": "stream",
     "text": [
      " 82%|██████████████████████████████████████████████████████████████████████▌               | 155/189 [03:10<00:43,  1.29s/it]"
     ]
    },
    {
     "name": "stdout",
     "output_type": "stream",
     "text": [
      "[4/200][155/189] ========== Loss_D: 1.4310, Loss_G: 1.8608, Acc_G: 15/32 = 46.8750\n"
     ]
    },
    {
     "name": "stderr",
     "output_type": "stream",
     "text": [
      " 83%|██████████████████████████████████████████████████████████████████████▉               | 156/189 [03:10<00:38,  1.17s/it]"
     ]
    },
    {
     "name": "stdout",
     "output_type": "stream",
     "text": [
      "[4/200][156/189] ========== Loss_D: 1.4276, Loss_G: 1.8524, Acc_G: 18/32 = 56.2500\n"
     ]
    },
    {
     "name": "stderr",
     "output_type": "stream",
     "text": [
      " 83%|███████████████████████████████████████████████████████████████████████▍              | 157/189 [03:12<00:36,  1.16s/it]"
     ]
    },
    {
     "name": "stdout",
     "output_type": "stream",
     "text": [
      "[4/200][157/189] ========== Loss_D: 1.4276, Loss_G: 1.8508, Acc_G: 17/32 = 53.1250\n"
     ]
    },
    {
     "name": "stderr",
     "output_type": "stream",
     "text": [
      " 84%|███████████████████████████████████████████████████████████████████████▉              | 158/189 [03:13<00:37,  1.22s/it]"
     ]
    },
    {
     "name": "stdout",
     "output_type": "stream",
     "text": [
      "[4/200][158/189] ========== Loss_D: 1.4222, Loss_G: 1.7693, Acc_G: 18/32 = 56.2500\n"
     ]
    },
    {
     "name": "stderr",
     "output_type": "stream",
     "text": [
      " 84%|████████████████████████████████████████████████████████████████████████▎             | 159/189 [03:14<00:35,  1.19s/it]"
     ]
    },
    {
     "name": "stdout",
     "output_type": "stream",
     "text": [
      "[4/200][159/189] ========== Loss_D: 1.4124, Loss_G: 1.8783, Acc_G: 14/32 = 43.7500\n"
     ]
    },
    {
     "name": "stderr",
     "output_type": "stream",
     "text": [
      " 85%|████████████████████████████████████████████████████████████████████████▊             | 160/189 [03:15<00:32,  1.13s/it]"
     ]
    },
    {
     "name": "stdout",
     "output_type": "stream",
     "text": [
      "[4/200][160/189] ========== Loss_D: 1.4137, Loss_G: 1.8750, Acc_G: 14/32 = 43.7500\n"
     ]
    },
    {
     "name": "stderr",
     "output_type": "stream",
     "text": [
      " 85%|█████████████████████████████████████████████████████████████████████████▎            | 161/189 [03:17<00:37,  1.32s/it]"
     ]
    },
    {
     "name": "stdout",
     "output_type": "stream",
     "text": [
      "[4/200][161/189] ========== Loss_D: 1.4382, Loss_G: 1.7743, Acc_G: 12/32 = 37.5000\n"
     ]
    },
    {
     "name": "stderr",
     "output_type": "stream",
     "text": [
      " 86%|█████████████████████████████████████████████████████████████████████████▋            | 162/189 [03:18<00:34,  1.27s/it]"
     ]
    },
    {
     "name": "stdout",
     "output_type": "stream",
     "text": [
      "[4/200][162/189] ========== Loss_D: 1.4234, Loss_G: 1.8798, Acc_G: 18/32 = 56.2500\n"
     ]
    },
    {
     "name": "stderr",
     "output_type": "stream",
     "text": [
      " 86%|██████████████████████████████████████████████████████████████████████████▏           | 163/189 [03:19<00:32,  1.25s/it]"
     ]
    },
    {
     "name": "stdout",
     "output_type": "stream",
     "text": [
      "[4/200][163/189] ========== Loss_D: 1.4121, Loss_G: 1.8615, Acc_G: 18/32 = 56.2500\n"
     ]
    },
    {
     "name": "stderr",
     "output_type": "stream",
     "text": [
      " 87%|██████████████████████████████████████████████████████████████████████████▌           | 164/189 [03:21<00:33,  1.34s/it]"
     ]
    },
    {
     "name": "stdout",
     "output_type": "stream",
     "text": [
      "[4/200][164/189] ========== Loss_D: 1.4224, Loss_G: 1.8397, Acc_G: 16/32 = 50.0000\n"
     ]
    },
    {
     "name": "stderr",
     "output_type": "stream",
     "text": [
      " 87%|███████████████████████████████████████████████████████████████████████████           | 165/189 [03:22<00:29,  1.23s/it]"
     ]
    },
    {
     "name": "stdout",
     "output_type": "stream",
     "text": [
      "[4/200][165/189] ========== Loss_D: 1.4116, Loss_G: 1.8303, Acc_G: 15/32 = 46.8750\n"
     ]
    },
    {
     "name": "stderr",
     "output_type": "stream",
     "text": [
      " 88%|███████████████████████████████████████████████████████████████████████████▌          | 166/189 [03:23<00:29,  1.28s/it]"
     ]
    },
    {
     "name": "stdout",
     "output_type": "stream",
     "text": [
      "[4/200][166/189] ========== Loss_D: 1.4091, Loss_G: 1.9568, Acc_G: 22/32 = 68.7500\n"
     ]
    },
    {
     "name": "stderr",
     "output_type": "stream",
     "text": [
      " 88%|███████████████████████████████████████████████████████████████████████████▉          | 167/189 [03:24<00:26,  1.22s/it]"
     ]
    },
    {
     "name": "stdout",
     "output_type": "stream",
     "text": [
      "[4/200][167/189] ========== Loss_D: 1.4103, Loss_G: 1.8030, Acc_G: 18/32 = 56.2500\n"
     ]
    },
    {
     "name": "stderr",
     "output_type": "stream",
     "text": [
      " 89%|████████████████████████████████████████████████████████████████████████████▍         | 168/189 [03:25<00:26,  1.24s/it]"
     ]
    },
    {
     "name": "stdout",
     "output_type": "stream",
     "text": [
      "[4/200][168/189] ========== Loss_D: 1.4175, Loss_G: 1.9035, Acc_G: 21/32 = 65.6250\n"
     ]
    },
    {
     "name": "stderr",
     "output_type": "stream",
     "text": [
      " 89%|████████████████████████████████████████████████████████████████████████████▉         | 169/189 [03:27<00:23,  1.20s/it]"
     ]
    },
    {
     "name": "stdout",
     "output_type": "stream",
     "text": [
      "[4/200][169/189] ========== Loss_D: 1.4199, Loss_G: 1.8696, Acc_G: 18/32 = 56.2500\n"
     ]
    },
    {
     "name": "stderr",
     "output_type": "stream",
     "text": [
      " 90%|█████████████████████████████████████████████████████████████████████████████▎        | 170/189 [03:28<00:21,  1.15s/it]"
     ]
    },
    {
     "name": "stdout",
     "output_type": "stream",
     "text": [
      "[4/200][170/189] ========== Loss_D: 1.4348, Loss_G: 1.7886, Acc_G: 18/32 = 56.2500\n"
     ]
    },
    {
     "name": "stderr",
     "output_type": "stream",
     "text": [
      " 90%|█████████████████████████████████████████████████████████████████████████████▊        | 171/189 [03:29<00:20,  1.14s/it]"
     ]
    },
    {
     "name": "stdout",
     "output_type": "stream",
     "text": [
      "[4/200][171/189] ========== Loss_D: 1.4271, Loss_G: 1.8412, Acc_G: 17/32 = 53.1250\n"
     ]
    },
    {
     "name": "stderr",
     "output_type": "stream",
     "text": [
      " 91%|██████████████████████████████████████████████████████████████████████████████▎       | 172/189 [03:30<00:19,  1.13s/it]"
     ]
    },
    {
     "name": "stdout",
     "output_type": "stream",
     "text": [
      "[4/200][172/189] ========== Loss_D: 1.4280, Loss_G: 1.8054, Acc_G: 18/32 = 56.2500\n"
     ]
    },
    {
     "name": "stderr",
     "output_type": "stream",
     "text": [
      " 92%|██████████████████████████████████████████████████████████████████████████████▋       | 173/189 [03:31<00:16,  1.03s/it]"
     ]
    },
    {
     "name": "stdout",
     "output_type": "stream",
     "text": [
      "[4/200][173/189] ========== Loss_D: 1.4281, Loss_G: 1.9604, Acc_G: 17/32 = 53.1250\n"
     ]
    },
    {
     "name": "stderr",
     "output_type": "stream",
     "text": [
      " 92%|███████████████████████████████████████████████████████████████████████████████▏      | 174/189 [03:32<00:16,  1.08s/it]"
     ]
    },
    {
     "name": "stdout",
     "output_type": "stream",
     "text": [
      "[4/200][174/189] ========== Loss_D: 1.4052, Loss_G: 1.9334, Acc_G: 17/32 = 53.1250\n"
     ]
    },
    {
     "name": "stderr",
     "output_type": "stream",
     "text": [
      " 93%|███████████████████████████████████████████████████████████████████████████████▋      | 175/189 [03:33<00:15,  1.14s/it]"
     ]
    },
    {
     "name": "stdout",
     "output_type": "stream",
     "text": [
      "[4/200][175/189] ========== Loss_D: 1.4260, Loss_G: 1.8602, Acc_G: 14/32 = 43.7500\n"
     ]
    },
    {
     "name": "stderr",
     "output_type": "stream",
     "text": [
      " 93%|████████████████████████████████████████████████████████████████████████████████      | 176/189 [03:34<00:15,  1.21s/it]"
     ]
    },
    {
     "name": "stdout",
     "output_type": "stream",
     "text": [
      "[4/200][176/189] ========== Loss_D: 1.4229, Loss_G: 2.0368, Acc_G: 18/32 = 56.2500\n"
     ]
    },
    {
     "name": "stderr",
     "output_type": "stream",
     "text": [
      " 94%|████████████████████████████████████████████████████████████████████████████████▌     | 177/189 [03:36<00:16,  1.34s/it]"
     ]
    },
    {
     "name": "stdout",
     "output_type": "stream",
     "text": [
      "[4/200][177/189] ========== Loss_D: 1.4165, Loss_G: 1.8723, Acc_G: 15/32 = 46.8750\n"
     ]
    },
    {
     "name": "stderr",
     "output_type": "stream",
     "text": [
      " 94%|████████████████████████████████████████████████████████████████████████████████▉     | 178/189 [03:37<00:14,  1.31s/it]"
     ]
    },
    {
     "name": "stdout",
     "output_type": "stream",
     "text": [
      "[4/200][178/189] ========== Loss_D: 1.4254, Loss_G: 1.9080, Acc_G: 19/32 = 59.3750\n"
     ]
    },
    {
     "name": "stderr",
     "output_type": "stream",
     "text": [
      " 95%|█████████████████████████████████████████████████████████████████████████████████▍    | 179/189 [03:39<00:13,  1.33s/it]"
     ]
    },
    {
     "name": "stdout",
     "output_type": "stream",
     "text": [
      "[4/200][179/189] ========== Loss_D: 1.4206, Loss_G: 1.9254, Acc_G: 19/32 = 59.3750\n"
     ]
    },
    {
     "name": "stderr",
     "output_type": "stream",
     "text": [
      " 95%|█████████████████████████████████████████████████████████████████████████████████▉    | 180/189 [03:40<00:11,  1.30s/it]"
     ]
    },
    {
     "name": "stdout",
     "output_type": "stream",
     "text": [
      "[4/200][180/189] ========== Loss_D: 1.4089, Loss_G: 1.7729, Acc_G: 22/32 = 68.7500\n"
     ]
    },
    {
     "name": "stderr",
     "output_type": "stream",
     "text": [
      " 96%|██████████████████████████████████████████████████████████████████████████████████▎   | 181/189 [03:41<00:10,  1.29s/it]"
     ]
    },
    {
     "name": "stdout",
     "output_type": "stream",
     "text": [
      "[4/200][181/189] ========== Loss_D: 1.4195, Loss_G: 1.8239, Acc_G: 21/32 = 65.6250\n"
     ]
    },
    {
     "name": "stderr",
     "output_type": "stream",
     "text": [
      " 96%|██████████████████████████████████████████████████████████████████████████████████▊   | 182/189 [03:43<00:09,  1.30s/it]"
     ]
    },
    {
     "name": "stdout",
     "output_type": "stream",
     "text": [
      "[4/200][182/189] ========== Loss_D: 1.4250, Loss_G: 1.8159, Acc_G: 23/32 = 71.8750\n"
     ]
    },
    {
     "name": "stderr",
     "output_type": "stream",
     "text": [
      " 97%|███████████████████████████████████████████████████████████████████████████████████▎  | 183/189 [03:44<00:07,  1.25s/it]"
     ]
    },
    {
     "name": "stdout",
     "output_type": "stream",
     "text": [
      "[4/200][183/189] ========== Loss_D: 1.4194, Loss_G: 1.8208, Acc_G: 15/32 = 46.8750\n"
     ]
    },
    {
     "name": "stderr",
     "output_type": "stream",
     "text": [
      " 97%|███████████████████████████████████████████████████████████████████████████████████▋  | 184/189 [03:45<00:06,  1.23s/it]"
     ]
    },
    {
     "name": "stdout",
     "output_type": "stream",
     "text": [
      "[4/200][184/189] ========== Loss_D: 1.4137, Loss_G: 1.8710, Acc_G: 20/32 = 62.5000\n"
     ]
    },
    {
     "name": "stderr",
     "output_type": "stream",
     "text": [
      " 98%|████████████████████████████████████████████████████████████████████████████████████▏ | 185/189 [03:46<00:05,  1.25s/it]"
     ]
    },
    {
     "name": "stdout",
     "output_type": "stream",
     "text": [
      "[4/200][185/189] ========== Loss_D: 1.4223, Loss_G: 1.8000, Acc_G: 18/32 = 56.2500\n"
     ]
    },
    {
     "name": "stderr",
     "output_type": "stream",
     "text": [
      " 98%|████████████████████████████████████████████████████████████████████████████████████▋ | 186/189 [03:48<00:03,  1.27s/it]"
     ]
    },
    {
     "name": "stdout",
     "output_type": "stream",
     "text": [
      "[4/200][186/189] ========== Loss_D: 1.4255, Loss_G: 1.8349, Acc_G: 22/32 = 68.7500\n"
     ]
    },
    {
     "name": "stderr",
     "output_type": "stream",
     "text": [
      " 99%|█████████████████████████████████████████████████████████████████████████████████████ | 187/189 [03:49<00:02,  1.37s/it]"
     ]
    },
    {
     "name": "stdout",
     "output_type": "stream",
     "text": [
      "[4/200][187/189] ========== Loss_D: 1.4360, Loss_G: 2.0045, Acc_G: 19/32 = 59.3750\n"
     ]
    },
    {
     "name": "stderr",
     "output_type": "stream",
     "text": [
      " 99%|█████████████████████████████████████████████████████████████████████████████████████▌| 188/189 [03:50<00:01,  1.30s/it]"
     ]
    },
    {
     "name": "stdout",
     "output_type": "stream",
     "text": [
      "[4/200][188/189] ========== Loss_D: 1.4246, Loss_G: 1.9246, Acc_G: 21/32 = 65.6250\n"
     ]
    },
    {
     "name": "stderr",
     "output_type": "stream",
     "text": [
      "100%|██████████████████████████████████████████████████████████████████████████████████████| 189/189 [03:51<00:00,  1.22s/it]\n"
     ]
    },
    {
     "name": "stdout",
     "output_type": "stream",
     "text": [
      "[4/200][189/189] ========== Loss_D: 1.4013, Loss_G: 1.8833, Acc_G: 6/8 = 75.0000\n",
      "---------------------< no model saved at epoch: 4 >---------------------\n"
     ]
    },
    {
     "name": "stderr",
     "output_type": "stream",
     "text": [
      "  1%|▍                                                                                       | 1/189 [00:01<05:37,  1.79s/it]"
     ]
    },
    {
     "name": "stdout",
     "output_type": "stream",
     "text": [
      "[5/200][1/189] ========== Loss_D: 1.4325, Loss_G: 1.8288, Acc_G: 19/32 = 59.3750\n"
     ]
    },
    {
     "name": "stderr",
     "output_type": "stream",
     "text": [
      "  1%|▉                                                                                       | 2/189 [00:03<05:16,  1.69s/it]"
     ]
    },
    {
     "name": "stdout",
     "output_type": "stream",
     "text": [
      "[5/200][2/189] ========== Loss_D: 1.4185, Loss_G: 1.8678, Acc_G: 15/32 = 46.8750\n"
     ]
    },
    {
     "name": "stderr",
     "output_type": "stream",
     "text": [
      "  2%|█▍                                                                                      | 3/189 [00:04<04:44,  1.53s/it]"
     ]
    },
    {
     "name": "stdout",
     "output_type": "stream",
     "text": [
      "[5/200][3/189] ========== Loss_D: 1.4114, Loss_G: 1.8078, Acc_G: 16/32 = 50.0000\n"
     ]
    },
    {
     "name": "stderr",
     "output_type": "stream",
     "text": [
      "  2%|█▊                                                                                      | 4/189 [00:06<04:41,  1.52s/it]"
     ]
    },
    {
     "name": "stdout",
     "output_type": "stream",
     "text": [
      "[5/200][4/189] ========== Loss_D: 1.4075, Loss_G: 1.8665, Acc_G: 15/32 = 46.8750\n"
     ]
    },
    {
     "name": "stderr",
     "output_type": "stream",
     "text": [
      "  3%|██▎                                                                                     | 5/189 [00:07<04:07,  1.35s/it]"
     ]
    },
    {
     "name": "stdout",
     "output_type": "stream",
     "text": [
      "[5/200][5/189] ========== Loss_D: 1.4260, Loss_G: 1.8076, Acc_G: 17/32 = 53.1250\n"
     ]
    },
    {
     "name": "stderr",
     "output_type": "stream",
     "text": [
      "  3%|██▊                                                                                     | 6/189 [00:08<03:49,  1.25s/it]"
     ]
    },
    {
     "name": "stdout",
     "output_type": "stream",
     "text": [
      "[5/200][6/189] ========== Loss_D: 1.4309, Loss_G: 1.8572, Acc_G: 21/32 = 65.6250\n"
     ]
    },
    {
     "name": "stderr",
     "output_type": "stream",
     "text": [
      "  4%|███▎                                                                                    | 7/189 [00:09<03:28,  1.14s/it]"
     ]
    },
    {
     "name": "stdout",
     "output_type": "stream",
     "text": [
      "[5/200][7/189] ========== Loss_D: 1.4295, Loss_G: 1.9127, Acc_G: 23/32 = 71.8750\n"
     ]
    },
    {
     "name": "stderr",
     "output_type": "stream",
     "text": [
      "  4%|███▋                                                                                    | 8/189 [00:10<03:35,  1.19s/it]"
     ]
    },
    {
     "name": "stdout",
     "output_type": "stream",
     "text": [
      "[5/200][8/189] ========== Loss_D: 1.4214, Loss_G: 1.8389, Acc_G: 19/32 = 59.3750\n"
     ]
    },
    {
     "name": "stderr",
     "output_type": "stream",
     "text": [
      "  5%|████▏                                                                                   | 9/189 [00:11<03:33,  1.18s/it]"
     ]
    },
    {
     "name": "stdout",
     "output_type": "stream",
     "text": [
      "[5/200][9/189] ========== Loss_D: 1.4459, Loss_G: 1.8486, Acc_G: 19/32 = 59.3750\n"
     ]
    },
    {
     "name": "stderr",
     "output_type": "stream",
     "text": [
      "  5%|████▌                                                                                  | 10/189 [00:13<03:46,  1.27s/it]"
     ]
    },
    {
     "name": "stdout",
     "output_type": "stream",
     "text": [
      "[5/200][10/189] ========== Loss_D: 1.4317, Loss_G: 1.7801, Acc_G: 19/32 = 59.3750\n"
     ]
    },
    {
     "name": "stderr",
     "output_type": "stream",
     "text": [
      "  6%|█████                                                                                  | 11/189 [00:14<03:39,  1.24s/it]"
     ]
    },
    {
     "name": "stdout",
     "output_type": "stream",
     "text": [
      "[5/200][11/189] ========== Loss_D: 1.4250, Loss_G: 2.0511, Acc_G: 19/32 = 59.3750\n"
     ]
    },
    {
     "name": "stderr",
     "output_type": "stream",
     "text": [
      "  6%|█████▌                                                                                 | 12/189 [00:15<03:28,  1.18s/it]"
     ]
    },
    {
     "name": "stdout",
     "output_type": "stream",
     "text": [
      "[5/200][12/189] ========== Loss_D: 1.4330, Loss_G: 1.9128, Acc_G: 23/32 = 71.8750\n"
     ]
    },
    {
     "name": "stderr",
     "output_type": "stream",
     "text": [
      "  7%|█████▉                                                                                 | 13/189 [00:16<03:30,  1.19s/it]"
     ]
    },
    {
     "name": "stdout",
     "output_type": "stream",
     "text": [
      "[5/200][13/189] ========== Loss_D: 1.4311, Loss_G: 1.8264, Acc_G: 18/32 = 56.2500\n"
     ]
    },
    {
     "name": "stderr",
     "output_type": "stream",
     "text": [
      "  7%|██████▍                                                                                | 14/189 [00:17<03:32,  1.21s/it]"
     ]
    },
    {
     "name": "stdout",
     "output_type": "stream",
     "text": [
      "[5/200][14/189] ========== Loss_D: 1.4074, Loss_G: 1.9435, Acc_G: 15/32 = 46.8750\n"
     ]
    },
    {
     "name": "stderr",
     "output_type": "stream",
     "text": [
      "  8%|██████▉                                                                                | 15/189 [00:19<03:31,  1.21s/it]"
     ]
    },
    {
     "name": "stdout",
     "output_type": "stream",
     "text": [
      "[5/200][15/189] ========== Loss_D: 1.4144, Loss_G: 1.8733, Acc_G: 20/32 = 62.5000\n"
     ]
    },
    {
     "name": "stderr",
     "output_type": "stream",
     "text": [
      "  8%|███████▎                                                                               | 16/189 [00:20<03:26,  1.19s/it]"
     ]
    },
    {
     "name": "stdout",
     "output_type": "stream",
     "text": [
      "[5/200][16/189] ========== Loss_D: 1.4225, Loss_G: 1.9903, Acc_G: 18/32 = 56.2500\n"
     ]
    },
    {
     "name": "stderr",
     "output_type": "stream",
     "text": [
      "  9%|███████▊                                                                               | 17/189 [00:21<03:25,  1.19s/it]"
     ]
    },
    {
     "name": "stdout",
     "output_type": "stream",
     "text": [
      "[5/200][17/189] ========== Loss_D: 1.4406, Loss_G: 1.8760, Acc_G: 21/32 = 65.6250\n"
     ]
    },
    {
     "name": "stderr",
     "output_type": "stream",
     "text": [
      " 10%|████████▎                                                                              | 18/189 [00:22<03:16,  1.15s/it]"
     ]
    },
    {
     "name": "stdout",
     "output_type": "stream",
     "text": [
      "[5/200][18/189] ========== Loss_D: 1.4217, Loss_G: 1.8390, Acc_G: 16/32 = 50.0000\n"
     ]
    },
    {
     "name": "stderr",
     "output_type": "stream",
     "text": [
      " 10%|████████▋                                                                              | 19/189 [00:23<03:32,  1.25s/it]"
     ]
    },
    {
     "name": "stdout",
     "output_type": "stream",
     "text": [
      "[5/200][19/189] ========== Loss_D: 1.4153, Loss_G: 1.9328, Acc_G: 14/32 = 43.7500\n"
     ]
    },
    {
     "name": "stderr",
     "output_type": "stream",
     "text": [
      " 11%|█████████▏                                                                             | 20/189 [00:25<03:24,  1.21s/it]"
     ]
    },
    {
     "name": "stdout",
     "output_type": "stream",
     "text": [
      "[5/200][20/189] ========== Loss_D: 1.4376, Loss_G: 1.8489, Acc_G: 19/32 = 59.3750\n"
     ]
    },
    {
     "name": "stderr",
     "output_type": "stream",
     "text": [
      " 11%|█████████▋                                                                             | 21/189 [00:26<03:15,  1.16s/it]"
     ]
    },
    {
     "name": "stdout",
     "output_type": "stream",
     "text": [
      "[5/200][21/189] ========== Loss_D: 1.4180, Loss_G: 1.9265, Acc_G: 19/32 = 59.3750\n"
     ]
    },
    {
     "name": "stderr",
     "output_type": "stream",
     "text": [
      " 12%|██████████▏                                                                            | 22/189 [00:27<03:16,  1.18s/it]"
     ]
    },
    {
     "name": "stdout",
     "output_type": "stream",
     "text": [
      "[5/200][22/189] ========== Loss_D: 1.4241, Loss_G: 1.7678, Acc_G: 16/32 = 50.0000\n"
     ]
    },
    {
     "name": "stderr",
     "output_type": "stream",
     "text": [
      " 12%|██████████▌                                                                            | 23/189 [00:28<03:21,  1.21s/it]"
     ]
    },
    {
     "name": "stdout",
     "output_type": "stream",
     "text": [
      "[5/200][23/189] ========== Loss_D: 1.4051, Loss_G: 1.8801, Acc_G: 16/32 = 50.0000\n"
     ]
    },
    {
     "name": "stderr",
     "output_type": "stream",
     "text": [
      " 13%|███████████                                                                            | 24/189 [00:30<03:31,  1.28s/it]"
     ]
    },
    {
     "name": "stdout",
     "output_type": "stream",
     "text": [
      "[5/200][24/189] ========== Loss_D: 1.4108, Loss_G: 1.8296, Acc_G: 16/32 = 50.0000\n"
     ]
    },
    {
     "name": "stderr",
     "output_type": "stream",
     "text": [
      " 13%|███████████▌                                                                           | 25/189 [00:31<03:36,  1.32s/it]"
     ]
    },
    {
     "name": "stdout",
     "output_type": "stream",
     "text": [
      "[5/200][25/189] ========== Loss_D: 1.4454, Loss_G: 1.7344, Acc_G: 17/32 = 53.1250\n"
     ]
    },
    {
     "name": "stderr",
     "output_type": "stream",
     "text": [
      " 14%|███████████▉                                                                           | 26/189 [00:32<03:36,  1.33s/it]"
     ]
    },
    {
     "name": "stdout",
     "output_type": "stream",
     "text": [
      "[5/200][26/189] ========== Loss_D: 1.4080, Loss_G: 1.8858, Acc_G: 16/32 = 50.0000\n"
     ]
    },
    {
     "name": "stderr",
     "output_type": "stream",
     "text": [
      " 14%|████████████▍                                                                          | 27/189 [00:34<03:28,  1.29s/it]"
     ]
    },
    {
     "name": "stdout",
     "output_type": "stream",
     "text": [
      "[5/200][27/189] ========== Loss_D: 1.4282, Loss_G: 1.9408, Acc_G: 22/32 = 68.7500\n"
     ]
    },
    {
     "name": "stderr",
     "output_type": "stream",
     "text": [
      " 15%|████████████▉                                                                          | 28/189 [00:35<03:30,  1.31s/it]"
     ]
    },
    {
     "name": "stdout",
     "output_type": "stream",
     "text": [
      "[5/200][28/189] ========== Loss_D: 1.4147, Loss_G: 1.8490, Acc_G: 21/32 = 65.6250\n"
     ]
    },
    {
     "name": "stderr",
     "output_type": "stream",
     "text": [
      " 15%|█████████████▎                                                                         | 29/189 [00:36<03:26,  1.29s/it]"
     ]
    },
    {
     "name": "stdout",
     "output_type": "stream",
     "text": [
      "[5/200][29/189] ========== Loss_D: 1.4306, Loss_G: 1.8725, Acc_G: 20/32 = 62.5000\n"
     ]
    },
    {
     "name": "stderr",
     "output_type": "stream",
     "text": [
      " 16%|█████████████▊                                                                         | 30/189 [00:37<03:12,  1.21s/it]"
     ]
    },
    {
     "name": "stdout",
     "output_type": "stream",
     "text": [
      "[5/200][30/189] ========== Loss_D: 1.4300, Loss_G: 1.9164, Acc_G: 20/32 = 62.5000\n"
     ]
    },
    {
     "name": "stderr",
     "output_type": "stream",
     "text": [
      " 16%|██████████████▎                                                                        | 31/189 [00:39<03:23,  1.29s/it]"
     ]
    },
    {
     "name": "stdout",
     "output_type": "stream",
     "text": [
      "[5/200][31/189] ========== Loss_D: 1.4113, Loss_G: 1.9467, Acc_G: 19/32 = 59.3750\n"
     ]
    },
    {
     "name": "stderr",
     "output_type": "stream",
     "text": [
      " 17%|██████████████▋                                                                        | 32/189 [00:40<03:29,  1.34s/it]"
     ]
    },
    {
     "name": "stdout",
     "output_type": "stream",
     "text": [
      "[5/200][32/189] ========== Loss_D: 1.4149, Loss_G: 1.9932, Acc_G: 20/32 = 62.5000\n"
     ]
    },
    {
     "name": "stderr",
     "output_type": "stream",
     "text": [
      " 17%|███████████████▏                                                                       | 33/189 [00:41<03:14,  1.25s/it]"
     ]
    },
    {
     "name": "stdout",
     "output_type": "stream",
     "text": [
      "[5/200][33/189] ========== Loss_D: 1.4225, Loss_G: 1.8217, Acc_G: 19/32 = 59.3750\n"
     ]
    },
    {
     "name": "stderr",
     "output_type": "stream",
     "text": [
      " 18%|███████████████▋                                                                       | 34/189 [00:42<03:08,  1.22s/it]"
     ]
    },
    {
     "name": "stdout",
     "output_type": "stream",
     "text": [
      "[5/200][34/189] ========== Loss_D: 1.4397, Loss_G: 1.7812, Acc_G: 14/32 = 43.7500\n"
     ]
    },
    {
     "name": "stderr",
     "output_type": "stream",
     "text": [
      " 19%|████████████████                                                                       | 35/189 [00:44<03:15,  1.27s/it]"
     ]
    },
    {
     "name": "stdout",
     "output_type": "stream",
     "text": [
      "[5/200][35/189] ========== Loss_D: 1.4202, Loss_G: 1.7984, Acc_G: 20/32 = 62.5000\n"
     ]
    },
    {
     "name": "stderr",
     "output_type": "stream",
     "text": [
      " 19%|████████████████▌                                                                      | 36/189 [00:45<03:11,  1.25s/it]"
     ]
    },
    {
     "name": "stdout",
     "output_type": "stream",
     "text": [
      "[5/200][36/189] ========== Loss_D: 1.4197, Loss_G: 1.9184, Acc_G: 24/32 = 75.0000\n"
     ]
    },
    {
     "name": "stderr",
     "output_type": "stream",
     "text": [
      " 20%|█████████████████                                                                      | 37/189 [00:46<02:58,  1.18s/it]"
     ]
    },
    {
     "name": "stdout",
     "output_type": "stream",
     "text": [
      "[5/200][37/189] ========== Loss_D: 1.4316, Loss_G: 1.8269, Acc_G: 17/32 = 53.1250\n"
     ]
    },
    {
     "name": "stderr",
     "output_type": "stream",
     "text": [
      " 20%|█████████████████▍                                                                     | 38/189 [00:47<02:54,  1.16s/it]"
     ]
    },
    {
     "name": "stdout",
     "output_type": "stream",
     "text": [
      "[5/200][38/189] ========== Loss_D: 1.4276, Loss_G: 1.8934, Acc_G: 18/32 = 56.2500\n"
     ]
    },
    {
     "name": "stderr",
     "output_type": "stream",
     "text": [
      " 21%|█████████████████▉                                                                     | 39/189 [00:48<02:51,  1.14s/it]"
     ]
    },
    {
     "name": "stdout",
     "output_type": "stream",
     "text": [
      "[5/200][39/189] ========== Loss_D: 1.4271, Loss_G: 1.8180, Acc_G: 19/32 = 59.3750\n"
     ]
    },
    {
     "name": "stderr",
     "output_type": "stream",
     "text": [
      " 21%|██████████████████▍                                                                    | 40/189 [00:50<03:01,  1.22s/it]"
     ]
    },
    {
     "name": "stdout",
     "output_type": "stream",
     "text": [
      "[5/200][40/189] ========== Loss_D: 1.4139, Loss_G: 1.8635, Acc_G: 18/32 = 56.2500\n"
     ]
    },
    {
     "name": "stderr",
     "output_type": "stream",
     "text": [
      " 22%|██████████████████▊                                                                    | 41/189 [00:50<02:49,  1.15s/it]"
     ]
    },
    {
     "name": "stdout",
     "output_type": "stream",
     "text": [
      "[5/200][41/189] ========== Loss_D: 1.4310, Loss_G: 2.0101, Acc_G: 22/32 = 68.7500\n"
     ]
    },
    {
     "name": "stderr",
     "output_type": "stream",
     "text": [
      " 22%|███████████████████▎                                                                   | 42/189 [00:52<02:51,  1.16s/it]"
     ]
    },
    {
     "name": "stdout",
     "output_type": "stream",
     "text": [
      "[5/200][42/189] ========== Loss_D: 1.4139, Loss_G: 1.8648, Acc_G: 16/32 = 50.0000\n"
     ]
    },
    {
     "name": "stderr",
     "output_type": "stream",
     "text": [
      " 23%|███████████████████▊                                                                   | 43/189 [00:53<03:05,  1.27s/it]"
     ]
    },
    {
     "name": "stdout",
     "output_type": "stream",
     "text": [
      "[5/200][43/189] ========== Loss_D: 1.4192, Loss_G: 1.8438, Acc_G: 19/32 = 59.3750\n"
     ]
    },
    {
     "name": "stderr",
     "output_type": "stream",
     "text": [
      " 23%|████████████████████▎                                                                  | 44/189 [00:55<03:05,  1.28s/it]"
     ]
    },
    {
     "name": "stdout",
     "output_type": "stream",
     "text": [
      "[5/200][44/189] ========== Loss_D: 1.4229, Loss_G: 1.8613, Acc_G: 15/32 = 46.8750\n"
     ]
    },
    {
     "name": "stderr",
     "output_type": "stream",
     "text": [
      " 24%|████████████████████▋                                                                  | 45/189 [00:55<02:50,  1.18s/it]"
     ]
    },
    {
     "name": "stdout",
     "output_type": "stream",
     "text": [
      "[5/200][45/189] ========== Loss_D: 1.4316, Loss_G: 1.8051, Acc_G: 20/32 = 62.5000\n"
     ]
    },
    {
     "name": "stderr",
     "output_type": "stream",
     "text": [
      " 24%|█████████████████████▏                                                                 | 46/189 [00:57<02:43,  1.14s/it]"
     ]
    },
    {
     "name": "stdout",
     "output_type": "stream",
     "text": [
      "[5/200][46/189] ========== Loss_D: 1.4170, Loss_G: 1.8320, Acc_G: 19/32 = 59.3750\n"
     ]
    },
    {
     "name": "stderr",
     "output_type": "stream",
     "text": [
      " 25%|█████████████████████▋                                                                 | 47/189 [00:58<02:40,  1.13s/it]"
     ]
    },
    {
     "name": "stdout",
     "output_type": "stream",
     "text": [
      "[5/200][47/189] ========== Loss_D: 1.4294, Loss_G: 1.8247, Acc_G: 19/32 = 59.3750\n"
     ]
    },
    {
     "name": "stderr",
     "output_type": "stream",
     "text": [
      " 25%|██████████████████████                                                                 | 48/189 [00:59<02:53,  1.23s/it]"
     ]
    },
    {
     "name": "stdout",
     "output_type": "stream",
     "text": [
      "[5/200][48/189] ========== Loss_D: 1.4363, Loss_G: 1.9918, Acc_G: 18/32 = 56.2500\n"
     ]
    },
    {
     "name": "stderr",
     "output_type": "stream",
     "text": [
      " 26%|██████████████████████▌                                                                | 49/189 [01:00<02:46,  1.19s/it]"
     ]
    },
    {
     "name": "stdout",
     "output_type": "stream",
     "text": [
      "[5/200][49/189] ========== Loss_D: 1.4217, Loss_G: 1.8746, Acc_G: 20/32 = 62.5000\n"
     ]
    },
    {
     "name": "stderr",
     "output_type": "stream",
     "text": [
      " 26%|███████████████████████                                                                | 50/189 [01:01<02:50,  1.23s/it]"
     ]
    },
    {
     "name": "stdout",
     "output_type": "stream",
     "text": [
      "[5/200][50/189] ========== Loss_D: 1.4222, Loss_G: 1.9076, Acc_G: 17/32 = 53.1250\n"
     ]
    },
    {
     "name": "stderr",
     "output_type": "stream",
     "text": [
      " 27%|███████████████████████▍                                                               | 51/189 [01:02<02:36,  1.13s/it]"
     ]
    },
    {
     "name": "stdout",
     "output_type": "stream",
     "text": [
      "[5/200][51/189] ========== Loss_D: 1.4396, Loss_G: 1.8632, Acc_G: 14/32 = 43.7500\n"
     ]
    },
    {
     "name": "stderr",
     "output_type": "stream",
     "text": [
      " 28%|███████████████████████▉                                                               | 52/189 [01:04<02:35,  1.14s/it]"
     ]
    },
    {
     "name": "stdout",
     "output_type": "stream",
     "text": [
      "[5/200][52/189] ========== Loss_D: 1.4192, Loss_G: 1.9397, Acc_G: 25/32 = 78.1250\n"
     ]
    },
    {
     "name": "stderr",
     "output_type": "stream",
     "text": [
      " 28%|████████████████████████▍                                                              | 53/189 [01:04<02:26,  1.08s/it]"
     ]
    },
    {
     "name": "stdout",
     "output_type": "stream",
     "text": [
      "[5/200][53/189] ========== Loss_D: 1.4172, Loss_G: 1.8521, Acc_G: 18/32 = 56.2500\n"
     ]
    },
    {
     "name": "stderr",
     "output_type": "stream",
     "text": [
      " 29%|████████████████████████▊                                                              | 54/189 [01:06<02:34,  1.15s/it]"
     ]
    },
    {
     "name": "stdout",
     "output_type": "stream",
     "text": [
      "[5/200][54/189] ========== Loss_D: 1.4061, Loss_G: 1.8319, Acc_G: 20/32 = 62.5000\n"
     ]
    },
    {
     "name": "stderr",
     "output_type": "stream",
     "text": [
      " 29%|█████████████████████████▎                                                             | 55/189 [01:07<02:37,  1.17s/it]"
     ]
    },
    {
     "name": "stdout",
     "output_type": "stream",
     "text": [
      "[5/200][55/189] ========== Loss_D: 1.4295, Loss_G: 1.9379, Acc_G: 20/32 = 62.5000\n"
     ]
    },
    {
     "name": "stderr",
     "output_type": "stream",
     "text": [
      " 30%|█████████████████████████▊                                                             | 56/189 [01:08<02:41,  1.21s/it]"
     ]
    },
    {
     "name": "stdout",
     "output_type": "stream",
     "text": [
      "[5/200][56/189] ========== Loss_D: 1.4286, Loss_G: 1.8049, Acc_G: 19/32 = 59.3750\n"
     ]
    },
    {
     "name": "stderr",
     "output_type": "stream",
     "text": [
      " 30%|██████████████████████████▏                                                            | 57/189 [01:09<02:33,  1.16s/it]"
     ]
    },
    {
     "name": "stdout",
     "output_type": "stream",
     "text": [
      "[5/200][57/189] ========== Loss_D: 1.4130, Loss_G: 1.9295, Acc_G: 20/32 = 62.5000\n"
     ]
    },
    {
     "name": "stderr",
     "output_type": "stream",
     "text": [
      " 31%|██████████████████████████▋                                                            | 58/189 [01:11<02:39,  1.21s/it]"
     ]
    },
    {
     "name": "stdout",
     "output_type": "stream",
     "text": [
      "[5/200][58/189] ========== Loss_D: 1.4354, Loss_G: 1.8264, Acc_G: 21/32 = 65.6250\n"
     ]
    },
    {
     "name": "stderr",
     "output_type": "stream",
     "text": [
      " 31%|███████████████████████████▏                                                           | 59/189 [01:12<02:27,  1.13s/it]"
     ]
    },
    {
     "name": "stdout",
     "output_type": "stream",
     "text": [
      "[5/200][59/189] ========== Loss_D: 1.4213, Loss_G: 1.8316, Acc_G: 20/32 = 62.5000\n"
     ]
    },
    {
     "name": "stderr",
     "output_type": "stream",
     "text": [
      " 32%|███████████████████████████▌                                                           | 60/189 [01:13<02:20,  1.09s/it]"
     ]
    },
    {
     "name": "stdout",
     "output_type": "stream",
     "text": [
      "[5/200][60/189] ========== Loss_D: 1.4193, Loss_G: 1.9174, Acc_G: 17/32 = 53.1250\n"
     ]
    },
    {
     "name": "stderr",
     "output_type": "stream",
     "text": [
      " 32%|████████████████████████████                                                           | 61/189 [01:14<02:35,  1.22s/it]"
     ]
    },
    {
     "name": "stdout",
     "output_type": "stream",
     "text": [
      "[5/200][61/189] ========== Loss_D: 1.4371, Loss_G: 1.8899, Acc_G: 25/32 = 78.1250\n"
     ]
    },
    {
     "name": "stderr",
     "output_type": "stream",
     "text": [
      " 33%|████████████████████████████▌                                                          | 62/189 [01:15<02:35,  1.22s/it]"
     ]
    },
    {
     "name": "stdout",
     "output_type": "stream",
     "text": [
      "[5/200][62/189] ========== Loss_D: 1.4294, Loss_G: 1.8954, Acc_G: 22/32 = 68.7500\n"
     ]
    },
    {
     "name": "stderr",
     "output_type": "stream",
     "text": [
      " 33%|█████████████████████████████                                                          | 63/189 [01:17<02:34,  1.23s/it]"
     ]
    },
    {
     "name": "stdout",
     "output_type": "stream",
     "text": [
      "[5/200][63/189] ========== Loss_D: 1.4229, Loss_G: 1.8219, Acc_G: 13/32 = 40.6250\n"
     ]
    },
    {
     "name": "stderr",
     "output_type": "stream",
     "text": [
      " 34%|█████████████████████████████▍                                                         | 64/189 [01:18<02:31,  1.21s/it]"
     ]
    },
    {
     "name": "stdout",
     "output_type": "stream",
     "text": [
      "[5/200][64/189] ========== Loss_D: 1.4193, Loss_G: 1.8501, Acc_G: 21/32 = 65.6250\n"
     ]
    },
    {
     "name": "stderr",
     "output_type": "stream",
     "text": [
      " 34%|█████████████████████████████▉                                                         | 65/189 [01:19<02:30,  1.21s/it]"
     ]
    },
    {
     "name": "stdout",
     "output_type": "stream",
     "text": [
      "[5/200][65/189] ========== Loss_D: 1.4297, Loss_G: 1.8469, Acc_G: 16/32 = 50.0000\n"
     ]
    },
    {
     "name": "stderr",
     "output_type": "stream",
     "text": [
      " 35%|██████████████████████████████▍                                                        | 66/189 [01:20<02:32,  1.24s/it]"
     ]
    },
    {
     "name": "stdout",
     "output_type": "stream",
     "text": [
      "[5/200][66/189] ========== Loss_D: 1.4118, Loss_G: 1.8702, Acc_G: 16/32 = 50.0000\n"
     ]
    },
    {
     "name": "stderr",
     "output_type": "stream",
     "text": [
      " 35%|██████████████████████████████▊                                                        | 67/189 [01:21<02:28,  1.21s/it]"
     ]
    },
    {
     "name": "stdout",
     "output_type": "stream",
     "text": [
      "[5/200][67/189] ========== Loss_D: 1.4164, Loss_G: 1.8054, Acc_G: 19/32 = 59.3750\n"
     ]
    },
    {
     "name": "stderr",
     "output_type": "stream",
     "text": [
      " 36%|███████████████████████████████▎                                                       | 68/189 [01:23<02:28,  1.23s/it]"
     ]
    },
    {
     "name": "stdout",
     "output_type": "stream",
     "text": [
      "[5/200][68/189] ========== Loss_D: 1.4327, Loss_G: 1.8113, Acc_G: 17/32 = 53.1250\n"
     ]
    },
    {
     "name": "stderr",
     "output_type": "stream",
     "text": [
      " 37%|███████████████████████████████▊                                                       | 69/189 [01:24<02:26,  1.22s/it]"
     ]
    },
    {
     "name": "stdout",
     "output_type": "stream",
     "text": [
      "[5/200][69/189] ========== Loss_D: 1.4238, Loss_G: 1.8725, Acc_G: 17/32 = 53.1250\n"
     ]
    },
    {
     "name": "stderr",
     "output_type": "stream",
     "text": [
      " 37%|████████████████████████████████▏                                                      | 70/189 [01:26<02:45,  1.39s/it]"
     ]
    },
    {
     "name": "stdout",
     "output_type": "stream",
     "text": [
      "[5/200][70/189] ========== Loss_D: 1.4155, Loss_G: 1.9108, Acc_G: 21/32 = 65.6250\n"
     ]
    },
    {
     "name": "stderr",
     "output_type": "stream",
     "text": [
      " 38%|████████████████████████████████▋                                                      | 71/189 [01:27<02:36,  1.33s/it]"
     ]
    },
    {
     "name": "stdout",
     "output_type": "stream",
     "text": [
      "[5/200][71/189] ========== Loss_D: 1.4390, Loss_G: 1.8742, Acc_G: 16/32 = 50.0000\n"
     ]
    },
    {
     "name": "stderr",
     "output_type": "stream",
     "text": [
      " 38%|█████████████████████████████████▏                                                     | 72/189 [01:28<02:32,  1.31s/it]"
     ]
    },
    {
     "name": "stdout",
     "output_type": "stream",
     "text": [
      "[5/200][72/189] ========== Loss_D: 1.4153, Loss_G: 1.8383, Acc_G: 27/32 = 84.3750\n"
     ]
    },
    {
     "name": "stderr",
     "output_type": "stream",
     "text": [
      " 39%|█████████████████████████████████▌                                                     | 73/189 [01:29<02:21,  1.22s/it]"
     ]
    },
    {
     "name": "stdout",
     "output_type": "stream",
     "text": [
      "[5/200][73/189] ========== Loss_D: 1.4253, Loss_G: 1.7806, Acc_G: 20/32 = 62.5000\n"
     ]
    },
    {
     "name": "stderr",
     "output_type": "stream",
     "text": [
      " 39%|██████████████████████████████████                                                     | 74/189 [01:30<02:21,  1.23s/it]"
     ]
    },
    {
     "name": "stdout",
     "output_type": "stream",
     "text": [
      "[5/200][74/189] ========== Loss_D: 1.4235, Loss_G: 1.8327, Acc_G: 22/32 = 68.7500\n"
     ]
    },
    {
     "name": "stderr",
     "output_type": "stream",
     "text": [
      " 40%|██████████████████████████████████▌                                                    | 75/189 [01:32<02:18,  1.21s/it]"
     ]
    },
    {
     "name": "stdout",
     "output_type": "stream",
     "text": [
      "[5/200][75/189] ========== Loss_D: 1.4310, Loss_G: 1.8529, Acc_G: 15/32 = 46.8750\n"
     ]
    },
    {
     "name": "stderr",
     "output_type": "stream",
     "text": [
      " 40%|██████████████████████████████████▉                                                    | 76/189 [01:33<02:20,  1.24s/it]"
     ]
    },
    {
     "name": "stdout",
     "output_type": "stream",
     "text": [
      "[5/200][76/189] ========== Loss_D: 1.4351, Loss_G: 1.8041, Acc_G: 18/32 = 56.2500\n",
      "[5/200][77/189] ========== Loss_D: 1.4212, Loss_G: 1.9428, Acc_G: 19/32 = 59.3750\n"
     ]
    },
    {
     "name": "stderr",
     "output_type": "stream",
     "text": [
      " 41%|███████████████████████████████████▉                                                   | 78/189 [01:35<02:09,  1.17s/it]"
     ]
    },
    {
     "name": "stdout",
     "output_type": "stream",
     "text": [
      "[5/200][78/189] ========== Loss_D: 1.4125, Loss_G: 1.8434, Acc_G: 18/32 = 56.2500\n"
     ]
    },
    {
     "name": "stderr",
     "output_type": "stream",
     "text": [
      " 42%|████████████████████████████████████▎                                                  | 79/189 [01:36<02:03,  1.12s/it]"
     ]
    },
    {
     "name": "stdout",
     "output_type": "stream",
     "text": [
      "[5/200][79/189] ========== Loss_D: 1.4164, Loss_G: 1.8206, Acc_G: 14/32 = 43.7500\n"
     ]
    },
    {
     "name": "stderr",
     "output_type": "stream",
     "text": [
      " 42%|████████████████████████████████████▊                                                  | 80/189 [01:38<02:13,  1.23s/it]"
     ]
    },
    {
     "name": "stdout",
     "output_type": "stream",
     "text": [
      "[5/200][80/189] ========== Loss_D: 1.4200, Loss_G: 1.8341, Acc_G: 19/32 = 59.3750\n"
     ]
    },
    {
     "name": "stderr",
     "output_type": "stream",
     "text": [
      " 43%|█████████████████████████████████████▎                                                 | 81/189 [01:39<02:06,  1.17s/it]"
     ]
    },
    {
     "name": "stdout",
     "output_type": "stream",
     "text": [
      "[5/200][81/189] ========== Loss_D: 1.4306, Loss_G: 1.9186, Acc_G: 21/32 = 65.6250\n"
     ]
    },
    {
     "name": "stderr",
     "output_type": "stream",
     "text": [
      " 43%|█████████████████████████████████████▋                                                 | 82/189 [01:40<02:06,  1.18s/it]"
     ]
    },
    {
     "name": "stdout",
     "output_type": "stream",
     "text": [
      "[5/200][82/189] ========== Loss_D: 1.4306, Loss_G: 1.8641, Acc_G: 21/32 = 65.6250\n"
     ]
    },
    {
     "name": "stderr",
     "output_type": "stream",
     "text": [
      " 44%|██████████████████████████████████████▏                                                | 83/189 [01:41<02:00,  1.14s/it]"
     ]
    },
    {
     "name": "stdout",
     "output_type": "stream",
     "text": [
      "[5/200][83/189] ========== Loss_D: 1.4300, Loss_G: 1.9091, Acc_G: 20/32 = 62.5000\n"
     ]
    },
    {
     "name": "stderr",
     "output_type": "stream",
     "text": [
      " 44%|██████████████████████████████████████▋                                                | 84/189 [01:42<02:08,  1.22s/it]"
     ]
    },
    {
     "name": "stdout",
     "output_type": "stream",
     "text": [
      "[5/200][84/189] ========== Loss_D: 1.4321, Loss_G: 1.8725, Acc_G: 19/32 = 59.3750\n"
     ]
    },
    {
     "name": "stderr",
     "output_type": "stream",
     "text": [
      " 45%|███████████████████████████████████████▏                                               | 85/189 [01:44<02:26,  1.40s/it]"
     ]
    },
    {
     "name": "stdout",
     "output_type": "stream",
     "text": [
      "[5/200][85/189] ========== Loss_D: 1.4066, Loss_G: 1.7951, Acc_G: 19/32 = 59.3750\n"
     ]
    },
    {
     "name": "stderr",
     "output_type": "stream",
     "text": [
      " 46%|███████████████████████████████████████▌                                               | 86/189 [01:45<02:16,  1.33s/it]"
     ]
    },
    {
     "name": "stdout",
     "output_type": "stream",
     "text": [
      "[5/200][86/189] ========== Loss_D: 1.4261, Loss_G: 1.8419, Acc_G: 22/32 = 68.7500\n"
     ]
    },
    {
     "name": "stderr",
     "output_type": "stream",
     "text": [
      " 46%|████████████████████████████████████████                                               | 87/189 [01:46<02:07,  1.25s/it]"
     ]
    },
    {
     "name": "stdout",
     "output_type": "stream",
     "text": [
      "[5/200][87/189] ========== Loss_D: 1.4280, Loss_G: 2.0087, Acc_G: 19/32 = 59.3750\n"
     ]
    },
    {
     "name": "stderr",
     "output_type": "stream",
     "text": [
      " 47%|████████████████████████████████████████▌                                              | 88/189 [01:48<02:10,  1.29s/it]"
     ]
    },
    {
     "name": "stdout",
     "output_type": "stream",
     "text": [
      "[5/200][88/189] ========== Loss_D: 1.4352, Loss_G: 1.8758, Acc_G: 21/32 = 65.6250\n"
     ]
    },
    {
     "name": "stderr",
     "output_type": "stream",
     "text": [
      " 47%|████████████████████████████████████████▉                                              | 89/189 [01:49<02:14,  1.35s/it]"
     ]
    },
    {
     "name": "stdout",
     "output_type": "stream",
     "text": [
      "[5/200][89/189] ========== Loss_D: 1.4040, Loss_G: 1.8207, Acc_G: 17/32 = 53.1250\n"
     ]
    },
    {
     "name": "stderr",
     "output_type": "stream",
     "text": [
      " 48%|█████████████████████████████████████████▍                                             | 90/189 [01:51<02:11,  1.33s/it]"
     ]
    },
    {
     "name": "stdout",
     "output_type": "stream",
     "text": [
      "[5/200][90/189] ========== Loss_D: 1.4226, Loss_G: 1.9338, Acc_G: 20/32 = 62.5000\n"
     ]
    },
    {
     "name": "stderr",
     "output_type": "stream",
     "text": [
      " 48%|█████████████████████████████████████████▉                                             | 91/189 [01:52<02:12,  1.35s/it]"
     ]
    },
    {
     "name": "stdout",
     "output_type": "stream",
     "text": [
      "[5/200][91/189] ========== Loss_D: 1.4433, Loss_G: 1.8370, Acc_G: 17/32 = 53.1250\n"
     ]
    },
    {
     "name": "stderr",
     "output_type": "stream",
     "text": [
      " 49%|██████████████████████████████████████████▎                                            | 92/189 [01:53<02:03,  1.27s/it]"
     ]
    },
    {
     "name": "stdout",
     "output_type": "stream",
     "text": [
      "[5/200][92/189] ========== Loss_D: 1.4085, Loss_G: 1.8164, Acc_G: 22/32 = 68.7500\n"
     ]
    },
    {
     "name": "stderr",
     "output_type": "stream",
     "text": [
      " 49%|██████████████████████████████████████████▊                                            | 93/189 [01:54<01:56,  1.21s/it]"
     ]
    },
    {
     "name": "stdout",
     "output_type": "stream",
     "text": [
      "[5/200][93/189] ========== Loss_D: 1.4299, Loss_G: 1.7845, Acc_G: 15/32 = 46.8750\n"
     ]
    },
    {
     "name": "stderr",
     "output_type": "stream",
     "text": [
      " 50%|███████████████████████████████████████████▎                                           | 94/189 [01:55<01:55,  1.21s/it]"
     ]
    },
    {
     "name": "stdout",
     "output_type": "stream",
     "text": [
      "[5/200][94/189] ========== Loss_D: 1.4347, Loss_G: 1.8531, Acc_G: 17/32 = 53.1250\n"
     ]
    },
    {
     "name": "stderr",
     "output_type": "stream",
     "text": [
      " 50%|███████████████████████████████████████████▋                                           | 95/189 [01:57<02:01,  1.30s/it]"
     ]
    },
    {
     "name": "stdout",
     "output_type": "stream",
     "text": [
      "[5/200][95/189] ========== Loss_D: 1.4286, Loss_G: 1.8119, Acc_G: 20/32 = 62.5000\n"
     ]
    },
    {
     "name": "stderr",
     "output_type": "stream",
     "text": [
      " 51%|████████████████████████████████████████████▏                                          | 96/189 [01:58<01:58,  1.28s/it]"
     ]
    },
    {
     "name": "stdout",
     "output_type": "stream",
     "text": [
      "[5/200][96/189] ========== Loss_D: 1.4208, Loss_G: 1.8713, Acc_G: 19/32 = 59.3750\n"
     ]
    },
    {
     "name": "stderr",
     "output_type": "stream",
     "text": [
      " 51%|████████████████████████████████████████████▋                                          | 97/189 [01:59<01:59,  1.30s/it]"
     ]
    },
    {
     "name": "stdout",
     "output_type": "stream",
     "text": [
      "[5/200][97/189] ========== Loss_D: 1.4268, Loss_G: 1.8387, Acc_G: 13/32 = 40.6250\n"
     ]
    },
    {
     "name": "stderr",
     "output_type": "stream",
     "text": [
      " 52%|█████████████████████████████████████████████                                          | 98/189 [02:01<02:03,  1.36s/it]"
     ]
    },
    {
     "name": "stdout",
     "output_type": "stream",
     "text": [
      "[5/200][98/189] ========== Loss_D: 1.4349, Loss_G: 1.8316, Acc_G: 20/32 = 62.5000\n"
     ]
    },
    {
     "name": "stderr",
     "output_type": "stream",
     "text": [
      " 52%|█████████████████████████████████████████████▌                                         | 99/189 [02:02<01:58,  1.32s/it]"
     ]
    },
    {
     "name": "stdout",
     "output_type": "stream",
     "text": [
      "[5/200][99/189] ========== Loss_D: 1.4028, Loss_G: 1.9265, Acc_G: 14/32 = 43.7500\n"
     ]
    },
    {
     "name": "stderr",
     "output_type": "stream",
     "text": [
      " 53%|█████████████████████████████████████████████▌                                        | 100/189 [02:03<01:54,  1.28s/it]"
     ]
    },
    {
     "name": "stdout",
     "output_type": "stream",
     "text": [
      "[5/200][100/189] ========== Loss_D: 1.4272, Loss_G: 1.7640, Acc_G: 21/32 = 65.6250\n"
     ]
    },
    {
     "name": "stderr",
     "output_type": "stream",
     "text": [
      " 53%|█████████████████████████████████████████████▉                                        | 101/189 [02:05<01:52,  1.28s/it]"
     ]
    },
    {
     "name": "stdout",
     "output_type": "stream",
     "text": [
      "[5/200][101/189] ========== Loss_D: 1.4127, Loss_G: 1.7830, Acc_G: 19/32 = 59.3750\n"
     ]
    },
    {
     "name": "stderr",
     "output_type": "stream",
     "text": [
      " 54%|██████████████████████████████████████████████▍                                       | 102/189 [02:06<01:47,  1.24s/it]"
     ]
    },
    {
     "name": "stdout",
     "output_type": "stream",
     "text": [
      "[5/200][102/189] ========== Loss_D: 1.4171, Loss_G: 1.8897, Acc_G: 13/32 = 40.6250\n"
     ]
    },
    {
     "name": "stderr",
     "output_type": "stream",
     "text": [
      " 54%|██████████████████████████████████████████████▊                                       | 103/189 [02:07<01:51,  1.29s/it]"
     ]
    },
    {
     "name": "stdout",
     "output_type": "stream",
     "text": [
      "[5/200][103/189] ========== Loss_D: 1.4278, Loss_G: 1.8838, Acc_G: 20/32 = 62.5000\n"
     ]
    },
    {
     "name": "stderr",
     "output_type": "stream",
     "text": [
      " 55%|███████████████████████████████████████████████▎                                      | 104/189 [02:08<01:49,  1.28s/it]"
     ]
    },
    {
     "name": "stdout",
     "output_type": "stream",
     "text": [
      "[5/200][104/189] ========== Loss_D: 1.4212, Loss_G: 1.8842, Acc_G: 17/32 = 53.1250\n"
     ]
    },
    {
     "name": "stderr",
     "output_type": "stream",
     "text": [
      " 56%|███████████████████████████████████████████████▊                                      | 105/189 [02:10<01:53,  1.35s/it]"
     ]
    },
    {
     "name": "stdout",
     "output_type": "stream",
     "text": [
      "[5/200][105/189] ========== Loss_D: 1.4282, Loss_G: 1.8701, Acc_G: 17/32 = 53.1250\n"
     ]
    },
    {
     "name": "stderr",
     "output_type": "stream",
     "text": [
      " 56%|████████████████████████████████████████████████▏                                     | 106/189 [02:11<01:50,  1.33s/it]"
     ]
    },
    {
     "name": "stdout",
     "output_type": "stream",
     "text": [
      "[5/200][106/189] ========== Loss_D: 1.4235, Loss_G: 1.8879, Acc_G: 22/32 = 68.7500\n"
     ]
    },
    {
     "name": "stderr",
     "output_type": "stream",
     "text": [
      " 57%|████████████████████████████████████████████████▋                                     | 107/189 [02:12<01:42,  1.25s/it]"
     ]
    },
    {
     "name": "stdout",
     "output_type": "stream",
     "text": [
      "[5/200][107/189] ========== Loss_D: 1.4392, Loss_G: 1.9292, Acc_G: 18/32 = 56.2500\n"
     ]
    },
    {
     "name": "stderr",
     "output_type": "stream",
     "text": [
      " 57%|█████████████████████████████████████████████████▏                                    | 108/189 [02:14<01:43,  1.28s/it]"
     ]
    },
    {
     "name": "stdout",
     "output_type": "stream",
     "text": [
      "[5/200][108/189] ========== Loss_D: 1.4296, Loss_G: 1.9444, Acc_G: 21/32 = 65.6250\n"
     ]
    },
    {
     "name": "stderr",
     "output_type": "stream",
     "text": [
      " 58%|█████████████████████████████████████████████████▌                                    | 109/189 [02:15<01:35,  1.20s/it]"
     ]
    },
    {
     "name": "stdout",
     "output_type": "stream",
     "text": [
      "[5/200][109/189] ========== Loss_D: 1.4200, Loss_G: 1.8828, Acc_G: 23/32 = 71.8750\n"
     ]
    },
    {
     "name": "stderr",
     "output_type": "stream",
     "text": [
      " 58%|██████████████████████████████████████████████████                                    | 110/189 [02:16<01:38,  1.25s/it]"
     ]
    },
    {
     "name": "stdout",
     "output_type": "stream",
     "text": [
      "[5/200][110/189] ========== Loss_D: 1.4156, Loss_G: 1.8791, Acc_G: 21/32 = 65.6250\n"
     ]
    },
    {
     "name": "stderr",
     "output_type": "stream",
     "text": [
      " 59%|██████████████████████████████████████████████████▌                                   | 111/189 [02:17<01:39,  1.28s/it]"
     ]
    },
    {
     "name": "stdout",
     "output_type": "stream",
     "text": [
      "[5/200][111/189] ========== Loss_D: 1.4363, Loss_G: 1.8254, Acc_G: 21/32 = 65.6250\n"
     ]
    },
    {
     "name": "stderr",
     "output_type": "stream",
     "text": [
      " 59%|██████████████████████████████████████████████████▉                                   | 112/189 [02:18<01:32,  1.20s/it]"
     ]
    },
    {
     "name": "stdout",
     "output_type": "stream",
     "text": [
      "[5/200][112/189] ========== Loss_D: 1.4257, Loss_G: 1.8264, Acc_G: 22/32 = 68.7500\n"
     ]
    },
    {
     "name": "stderr",
     "output_type": "stream",
     "text": [
      " 60%|███████████████████████████████████████████████████▍                                  | 113/189 [02:20<01:30,  1.19s/it]"
     ]
    },
    {
     "name": "stdout",
     "output_type": "stream",
     "text": [
      "[5/200][113/189] ========== Loss_D: 1.4203, Loss_G: 1.8090, Acc_G: 25/32 = 78.1250\n"
     ]
    },
    {
     "name": "stderr",
     "output_type": "stream",
     "text": [
      " 60%|███████████████████████████████████████████████████▊                                  | 114/189 [02:21<01:30,  1.21s/it]"
     ]
    },
    {
     "name": "stdout",
     "output_type": "stream",
     "text": [
      "[5/200][114/189] ========== Loss_D: 1.4337, Loss_G: 1.8422, Acc_G: 18/32 = 56.2500\n"
     ]
    },
    {
     "name": "stderr",
     "output_type": "stream",
     "text": [
      " 61%|████████████████████████████████████████████████████▎                                 | 115/189 [02:22<01:29,  1.21s/it]"
     ]
    },
    {
     "name": "stdout",
     "output_type": "stream",
     "text": [
      "[5/200][115/189] ========== Loss_D: 1.4250, Loss_G: 1.8336, Acc_G: 18/32 = 56.2500\n"
     ]
    },
    {
     "name": "stderr",
     "output_type": "stream",
     "text": [
      " 61%|████████████████████████████████████████████████████▊                                 | 116/189 [02:23<01:32,  1.27s/it]"
     ]
    },
    {
     "name": "stdout",
     "output_type": "stream",
     "text": [
      "[5/200][116/189] ========== Loss_D: 1.4228, Loss_G: 1.7446, Acc_G: 18/32 = 56.2500\n"
     ]
    },
    {
     "name": "stderr",
     "output_type": "stream",
     "text": [
      " 62%|█████████████████████████████████████████████████████▏                                | 117/189 [02:25<01:32,  1.29s/it]"
     ]
    },
    {
     "name": "stdout",
     "output_type": "stream",
     "text": [
      "[5/200][117/189] ========== Loss_D: 1.4247, Loss_G: 1.8624, Acc_G: 16/32 = 50.0000\n"
     ]
    },
    {
     "name": "stderr",
     "output_type": "stream",
     "text": [
      " 62%|█████████████████████████████████████████████████████▋                                | 118/189 [02:26<01:30,  1.28s/it]"
     ]
    },
    {
     "name": "stdout",
     "output_type": "stream",
     "text": [
      "[5/200][118/189] ========== Loss_D: 1.4346, Loss_G: 1.8425, Acc_G: 18/32 = 56.2500\n"
     ]
    },
    {
     "name": "stderr",
     "output_type": "stream",
     "text": [
      " 63%|██████████████████████████████████████████████████████▏                               | 119/189 [02:27<01:30,  1.30s/it]"
     ]
    },
    {
     "name": "stdout",
     "output_type": "stream",
     "text": [
      "[5/200][119/189] ========== Loss_D: 1.4210, Loss_G: 1.8117, Acc_G: 15/32 = 46.8750\n"
     ]
    },
    {
     "name": "stderr",
     "output_type": "stream",
     "text": [
      " 63%|██████████████████████████████████████████████████████▌                               | 120/189 [02:29<01:27,  1.27s/it]"
     ]
    },
    {
     "name": "stdout",
     "output_type": "stream",
     "text": [
      "[5/200][120/189] ========== Loss_D: 1.4194, Loss_G: 1.8130, Acc_G: 20/32 = 62.5000\n"
     ]
    },
    {
     "name": "stderr",
     "output_type": "stream",
     "text": [
      " 64%|███████████████████████████████████████████████████████                               | 121/189 [02:30<01:26,  1.27s/it]"
     ]
    },
    {
     "name": "stdout",
     "output_type": "stream",
     "text": [
      "[5/200][121/189] ========== Loss_D: 1.4178, Loss_G: 1.8550, Acc_G: 23/32 = 71.8750\n"
     ]
    },
    {
     "name": "stderr",
     "output_type": "stream",
     "text": [
      " 65%|███████████████████████████████████████████████████████▌                              | 122/189 [02:32<01:33,  1.40s/it]"
     ]
    },
    {
     "name": "stdout",
     "output_type": "stream",
     "text": [
      "[5/200][122/189] ========== Loss_D: 1.4336, Loss_G: 1.9558, Acc_G: 17/32 = 53.1250\n"
     ]
    },
    {
     "name": "stderr",
     "output_type": "stream",
     "text": [
      " 65%|███████████████████████████████████████████████████████▉                              | 123/189 [02:33<01:25,  1.29s/it]"
     ]
    },
    {
     "name": "stdout",
     "output_type": "stream",
     "text": [
      "[5/200][123/189] ========== Loss_D: 1.4245, Loss_G: 1.7781, Acc_G: 21/32 = 65.6250\n"
     ]
    },
    {
     "name": "stderr",
     "output_type": "stream",
     "text": [
      " 66%|████████████████████████████████████████████████████████▍                             | 124/189 [02:34<01:23,  1.28s/it]"
     ]
    },
    {
     "name": "stdout",
     "output_type": "stream",
     "text": [
      "[5/200][124/189] ========== Loss_D: 1.4462, Loss_G: 1.8000, Acc_G: 16/32 = 50.0000\n"
     ]
    },
    {
     "name": "stderr",
     "output_type": "stream",
     "text": [
      " 66%|████████████████████████████████████████████████████████▉                             | 125/189 [02:35<01:17,  1.21s/it]"
     ]
    },
    {
     "name": "stdout",
     "output_type": "stream",
     "text": [
      "[5/200][125/189] ========== Loss_D: 1.4112, Loss_G: 1.8276, Acc_G: 17/32 = 53.1250\n"
     ]
    },
    {
     "name": "stderr",
     "output_type": "stream",
     "text": [
      " 67%|█████████████████████████████████████████████████████████▎                            | 126/189 [02:36<01:16,  1.22s/it]"
     ]
    },
    {
     "name": "stdout",
     "output_type": "stream",
     "text": [
      "[5/200][126/189] ========== Loss_D: 1.4154, Loss_G: 1.9309, Acc_G: 16/32 = 50.0000\n"
     ]
    },
    {
     "name": "stderr",
     "output_type": "stream",
     "text": [
      " 67%|█████████████████████████████████████████████████████████▊                            | 127/189 [02:37<01:14,  1.21s/it]"
     ]
    },
    {
     "name": "stdout",
     "output_type": "stream",
     "text": [
      "[5/200][127/189] ========== Loss_D: 1.4279, Loss_G: 1.9373, Acc_G: 19/32 = 59.3750\n"
     ]
    },
    {
     "name": "stderr",
     "output_type": "stream",
     "text": [
      " 68%|██████████████████████████████████████████████████████████▏                           | 128/189 [02:39<01:17,  1.27s/it]"
     ]
    },
    {
     "name": "stdout",
     "output_type": "stream",
     "text": [
      "[5/200][128/189] ========== Loss_D: 1.4215, Loss_G: 1.8938, Acc_G: 18/32 = 56.2500\n"
     ]
    },
    {
     "name": "stderr",
     "output_type": "stream",
     "text": [
      " 68%|██████████████████████████████████████████████████████████▋                           | 129/189 [02:40<01:08,  1.14s/it]"
     ]
    },
    {
     "name": "stdout",
     "output_type": "stream",
     "text": [
      "[5/200][129/189] ========== Loss_D: 1.4342, Loss_G: 1.9015, Acc_G: 19/32 = 59.3750\n"
     ]
    },
    {
     "name": "stderr",
     "output_type": "stream",
     "text": [
      " 69%|███████████████████████████████████████████████████████████▏                          | 130/189 [02:40<01:02,  1.07s/it]"
     ]
    },
    {
     "name": "stdout",
     "output_type": "stream",
     "text": [
      "[5/200][130/189] ========== Loss_D: 1.4287, Loss_G: 1.8737, Acc_G: 25/32 = 78.1250\n"
     ]
    },
    {
     "name": "stderr",
     "output_type": "stream",
     "text": [
      " 69%|███████████████████████████████████████████████████████████▌                          | 131/189 [02:41<01:02,  1.07s/it]"
     ]
    },
    {
     "name": "stdout",
     "output_type": "stream",
     "text": [
      "[5/200][131/189] ========== Loss_D: 1.4252, Loss_G: 1.8543, Acc_G: 16/32 = 50.0000\n"
     ]
    },
    {
     "name": "stderr",
     "output_type": "stream",
     "text": [
      " 70%|████████████████████████████████████████████████████████████                          | 132/189 [02:43<01:00,  1.07s/it]"
     ]
    },
    {
     "name": "stdout",
     "output_type": "stream",
     "text": [
      "[5/200][132/189] ========== Loss_D: 1.4211, Loss_G: 1.8940, Acc_G: 23/32 = 71.8750\n"
     ]
    },
    {
     "name": "stderr",
     "output_type": "stream",
     "text": [
      " 70%|████████████████████████████████████████████████████████████▌                         | 133/189 [02:44<00:59,  1.06s/it]"
     ]
    },
    {
     "name": "stdout",
     "output_type": "stream",
     "text": [
      "[5/200][133/189] ========== Loss_D: 1.4175, Loss_G: 1.7758, Acc_G: 19/32 = 59.3750\n"
     ]
    },
    {
     "name": "stderr",
     "output_type": "stream",
     "text": [
      " 71%|████████████████████████████████████████████████████████████▉                         | 134/189 [02:45<01:07,  1.23s/it]"
     ]
    },
    {
     "name": "stdout",
     "output_type": "stream",
     "text": [
      "[5/200][134/189] ========== Loss_D: 1.4079, Loss_G: 1.9055, Acc_G: 22/32 = 68.7500\n"
     ]
    },
    {
     "name": "stderr",
     "output_type": "stream",
     "text": [
      " 71%|█████████████████████████████████████████████████████████████▍                        | 135/189 [02:47<01:09,  1.29s/it]"
     ]
    },
    {
     "name": "stdout",
     "output_type": "stream",
     "text": [
      "[5/200][135/189] ========== Loss_D: 1.4251, Loss_G: 1.9295, Acc_G: 16/32 = 50.0000\n"
     ]
    },
    {
     "name": "stderr",
     "output_type": "stream",
     "text": [
      " 72%|█████████████████████████████████████████████████████████████▉                        | 136/189 [02:48<01:03,  1.20s/it]"
     ]
    },
    {
     "name": "stdout",
     "output_type": "stream",
     "text": [
      "[5/200][136/189] ========== Loss_D: 1.4315, Loss_G: 1.8706, Acc_G: 17/32 = 53.1250\n"
     ]
    },
    {
     "name": "stderr",
     "output_type": "stream",
     "text": [
      " 72%|██████████████████████████████████████████████████████████████▎                       | 137/189 [02:49<00:59,  1.14s/it]"
     ]
    },
    {
     "name": "stdout",
     "output_type": "stream",
     "text": [
      "[5/200][137/189] ========== Loss_D: 1.4139, Loss_G: 1.9012, Acc_G: 21/32 = 65.6250\n"
     ]
    },
    {
     "name": "stderr",
     "output_type": "stream",
     "text": [
      " 73%|██████████████████████████████████████████████████████████████▊                       | 138/189 [02:50<01:01,  1.20s/it]"
     ]
    },
    {
     "name": "stdout",
     "output_type": "stream",
     "text": [
      "[5/200][138/189] ========== Loss_D: 1.4229, Loss_G: 1.7839, Acc_G: 21/32 = 65.6250\n"
     ]
    },
    {
     "name": "stderr",
     "output_type": "stream",
     "text": [
      " 74%|███████████████████████████████████████████████████████████████▏                      | 139/189 [02:51<01:02,  1.26s/it]"
     ]
    },
    {
     "name": "stdout",
     "output_type": "stream",
     "text": [
      "[5/200][139/189] ========== Loss_D: 1.4267, Loss_G: 1.8287, Acc_G: 21/32 = 65.6250\n"
     ]
    },
    {
     "name": "stderr",
     "output_type": "stream",
     "text": [
      " 74%|███████████████████████████████████████████████████████████████▋                      | 140/189 [02:53<01:03,  1.31s/it]"
     ]
    },
    {
     "name": "stdout",
     "output_type": "stream",
     "text": [
      "[5/200][140/189] ========== Loss_D: 1.4245, Loss_G: 1.7021, Acc_G: 19/32 = 59.3750\n"
     ]
    },
    {
     "name": "stderr",
     "output_type": "stream",
     "text": [
      " 75%|████████████████████████████████████████████████████████████████▏                     | 141/189 [02:54<01:04,  1.34s/it]"
     ]
    },
    {
     "name": "stdout",
     "output_type": "stream",
     "text": [
      "[5/200][141/189] ========== Loss_D: 1.4205, Loss_G: 1.8083, Acc_G: 19/32 = 59.3750\n"
     ]
    },
    {
     "name": "stderr",
     "output_type": "stream",
     "text": [
      " 75%|████████████████████████████████████████████████████████████████▌                     | 142/189 [02:55<01:00,  1.29s/it]"
     ]
    },
    {
     "name": "stdout",
     "output_type": "stream",
     "text": [
      "[5/200][142/189] ========== Loss_D: 1.4237, Loss_G: 1.8549, Acc_G: 17/32 = 53.1250\n"
     ]
    },
    {
     "name": "stderr",
     "output_type": "stream",
     "text": [
      " 76%|█████████████████████████████████████████████████████████████████                     | 143/189 [02:56<00:56,  1.23s/it]"
     ]
    },
    {
     "name": "stdout",
     "output_type": "stream",
     "text": [
      "[5/200][143/189] ========== Loss_D: 1.4192, Loss_G: 1.7207, Acc_G: 19/32 = 59.3750\n"
     ]
    },
    {
     "name": "stderr",
     "output_type": "stream",
     "text": [
      " 76%|█████████████████████████████████████████████████████████████████▌                    | 144/189 [02:58<00:54,  1.22s/it]"
     ]
    },
    {
     "name": "stdout",
     "output_type": "stream",
     "text": [
      "[5/200][144/189] ========== Loss_D: 1.4440, Loss_G: 1.7433, Acc_G: 19/32 = 59.3750\n"
     ]
    },
    {
     "name": "stderr",
     "output_type": "stream",
     "text": [
      " 77%|█████████████████████████████████████████████████████████████████▉                    | 145/189 [02:59<00:54,  1.24s/it]"
     ]
    },
    {
     "name": "stdout",
     "output_type": "stream",
     "text": [
      "[5/200][145/189] ========== Loss_D: 1.4213, Loss_G: 1.9189, Acc_G: 17/32 = 53.1250\n"
     ]
    },
    {
     "name": "stderr",
     "output_type": "stream",
     "text": [
      " 77%|██████████████████████████████████████████████████████████████████▍                   | 146/189 [03:00<00:51,  1.20s/it]"
     ]
    },
    {
     "name": "stdout",
     "output_type": "stream",
     "text": [
      "[5/200][146/189] ========== Loss_D: 1.4282, Loss_G: 1.7506, Acc_G: 17/32 = 53.1250\n"
     ]
    },
    {
     "name": "stderr",
     "output_type": "stream",
     "text": [
      " 78%|██████████████████████████████████████████████████████████████████▉                   | 147/189 [03:02<00:54,  1.29s/it]"
     ]
    },
    {
     "name": "stdout",
     "output_type": "stream",
     "text": [
      "[5/200][147/189] ========== Loss_D: 1.4393, Loss_G: 1.8999, Acc_G: 22/32 = 68.7500\n"
     ]
    },
    {
     "name": "stderr",
     "output_type": "stream",
     "text": [
      " 78%|███████████████████████████████████████████████████████████████████▎                  | 148/189 [03:03<00:54,  1.33s/it]"
     ]
    },
    {
     "name": "stdout",
     "output_type": "stream",
     "text": [
      "[5/200][148/189] ========== Loss_D: 1.4480, Loss_G: 1.8456, Acc_G: 19/32 = 59.3750\n"
     ]
    },
    {
     "name": "stderr",
     "output_type": "stream",
     "text": [
      " 79%|███████████████████████████████████████████████████████████████████▊                  | 149/189 [03:04<00:55,  1.38s/it]"
     ]
    },
    {
     "name": "stdout",
     "output_type": "stream",
     "text": [
      "[5/200][149/189] ========== Loss_D: 1.4263, Loss_G: 1.8911, Acc_G: 17/32 = 53.1250\n"
     ]
    },
    {
     "name": "stderr",
     "output_type": "stream",
     "text": [
      " 79%|████████████████████████████████████████████████████████████████████▎                 | 150/189 [03:06<00:50,  1.29s/it]"
     ]
    },
    {
     "name": "stdout",
     "output_type": "stream",
     "text": [
      "[5/200][150/189] ========== Loss_D: 1.4302, Loss_G: 1.8059, Acc_G: 20/32 = 62.5000\n"
     ]
    },
    {
     "name": "stderr",
     "output_type": "stream",
     "text": [
      " 80%|████████████████████████████████████████████████████████████████████▋                 | 151/189 [03:07<00:51,  1.36s/it]"
     ]
    },
    {
     "name": "stdout",
     "output_type": "stream",
     "text": [
      "[5/200][151/189] ========== Loss_D: 1.4232, Loss_G: 1.8002, Acc_G: 20/32 = 62.5000\n"
     ]
    },
    {
     "name": "stderr",
     "output_type": "stream",
     "text": [
      " 80%|█████████████████████████████████████████████████████████████████████▏                | 152/189 [03:08<00:50,  1.37s/it]"
     ]
    },
    {
     "name": "stdout",
     "output_type": "stream",
     "text": [
      "[5/200][152/189] ========== Loss_D: 1.4196, Loss_G: 1.8603, Acc_G: 24/32 = 75.0000\n"
     ]
    },
    {
     "name": "stderr",
     "output_type": "stream",
     "text": [
      " 81%|█████████████████████████████████████████████████████████████████████▌                | 153/189 [03:10<00:47,  1.33s/it]"
     ]
    },
    {
     "name": "stdout",
     "output_type": "stream",
     "text": [
      "[5/200][153/189] ========== Loss_D: 1.4320, Loss_G: 1.8427, Acc_G: 21/32 = 65.6250\n"
     ]
    },
    {
     "name": "stderr",
     "output_type": "stream",
     "text": [
      " 81%|██████████████████████████████████████████████████████████████████████                | 154/189 [03:11<00:42,  1.20s/it]"
     ]
    },
    {
     "name": "stdout",
     "output_type": "stream",
     "text": [
      "[5/200][154/189] ========== Loss_D: 1.4113, Loss_G: 1.7417, Acc_G: 20/32 = 62.5000\n"
     ]
    },
    {
     "name": "stderr",
     "output_type": "stream",
     "text": [
      " 82%|██████████████████████████████████████████████████████████████████████▌               | 155/189 [03:12<00:42,  1.25s/it]"
     ]
    },
    {
     "name": "stdout",
     "output_type": "stream",
     "text": [
      "[5/200][155/189] ========== Loss_D: 1.4182, Loss_G: 1.9933, Acc_G: 24/32 = 75.0000\n"
     ]
    },
    {
     "name": "stderr",
     "output_type": "stream",
     "text": [
      " 83%|██████████████████████████████████████████████████████████████████████▉               | 156/189 [03:13<00:40,  1.23s/it]"
     ]
    },
    {
     "name": "stdout",
     "output_type": "stream",
     "text": [
      "[5/200][156/189] ========== Loss_D: 1.4520, Loss_G: 1.7902, Acc_G: 22/32 = 68.7500\n"
     ]
    },
    {
     "name": "stderr",
     "output_type": "stream",
     "text": [
      " 83%|███████████████████████████████████████████████████████████████████████▍              | 157/189 [03:14<00:39,  1.24s/it]"
     ]
    },
    {
     "name": "stdout",
     "output_type": "stream",
     "text": [
      "[5/200][157/189] ========== Loss_D: 1.4038, Loss_G: 1.9669, Acc_G: 23/32 = 71.8750\n"
     ]
    },
    {
     "name": "stderr",
     "output_type": "stream",
     "text": [
      " 84%|███████████████████████████████████████████████████████████████████████▉              | 158/189 [03:16<00:37,  1.21s/it]"
     ]
    },
    {
     "name": "stdout",
     "output_type": "stream",
     "text": [
      "[5/200][158/189] ========== Loss_D: 1.4466, Loss_G: 1.9174, Acc_G: 18/32 = 56.2500\n"
     ]
    },
    {
     "name": "stderr",
     "output_type": "stream",
     "text": [
      " 84%|████████████████████████████████████████████████████████████████████████▎             | 159/189 [03:17<00:36,  1.20s/it]"
     ]
    },
    {
     "name": "stdout",
     "output_type": "stream",
     "text": [
      "[5/200][159/189] ========== Loss_D: 1.4290, Loss_G: 1.8652, Acc_G: 16/32 = 50.0000\n"
     ]
    },
    {
     "name": "stderr",
     "output_type": "stream",
     "text": [
      " 85%|████████████████████████████████████████████████████████████████████████▊             | 160/189 [03:18<00:35,  1.21s/it]"
     ]
    },
    {
     "name": "stdout",
     "output_type": "stream",
     "text": [
      "[5/200][160/189] ========== Loss_D: 1.4320, Loss_G: 1.8465, Acc_G: 17/32 = 53.1250\n"
     ]
    },
    {
     "name": "stderr",
     "output_type": "stream",
     "text": [
      " 85%|█████████████████████████████████████████████████████████████████████████▎            | 161/189 [03:20<00:36,  1.30s/it]"
     ]
    },
    {
     "name": "stdout",
     "output_type": "stream",
     "text": [
      "[5/200][161/189] ========== Loss_D: 1.4146, Loss_G: 1.7521, Acc_G: 21/32 = 65.6250\n"
     ]
    },
    {
     "name": "stderr",
     "output_type": "stream",
     "text": [
      " 86%|█████████████████████████████████████████████████████████████████████████▋            | 162/189 [03:21<00:35,  1.31s/it]"
     ]
    },
    {
     "name": "stdout",
     "output_type": "stream",
     "text": [
      "[5/200][162/189] ========== Loss_D: 1.4166, Loss_G: 1.7926, Acc_G: 21/32 = 65.6250\n"
     ]
    },
    {
     "name": "stderr",
     "output_type": "stream",
     "text": [
      " 86%|██████████████████████████████████████████████████████████████████████████▏           | 163/189 [03:22<00:34,  1.33s/it]"
     ]
    },
    {
     "name": "stdout",
     "output_type": "stream",
     "text": [
      "[5/200][163/189] ========== Loss_D: 1.4264, Loss_G: 1.9262, Acc_G: 18/32 = 56.2500\n"
     ]
    },
    {
     "name": "stderr",
     "output_type": "stream",
     "text": [
      " 87%|██████████████████████████████████████████████████████████████████████████▌           | 164/189 [03:23<00:32,  1.29s/it]"
     ]
    },
    {
     "name": "stdout",
     "output_type": "stream",
     "text": [
      "[5/200][164/189] ========== Loss_D: 1.4134, Loss_G: 1.8113, Acc_G: 22/32 = 68.7500\n"
     ]
    },
    {
     "name": "stderr",
     "output_type": "stream",
     "text": [
      " 87%|███████████████████████████████████████████████████████████████████████████           | 165/189 [03:25<00:30,  1.27s/it]"
     ]
    },
    {
     "name": "stdout",
     "output_type": "stream",
     "text": [
      "[5/200][165/189] ========== Loss_D: 1.4326, Loss_G: 1.8545, Acc_G: 24/32 = 75.0000\n"
     ]
    },
    {
     "name": "stderr",
     "output_type": "stream",
     "text": [
      " 88%|███████████████████████████████████████████████████████████████████████████▌          | 166/189 [03:26<00:27,  1.22s/it]"
     ]
    },
    {
     "name": "stdout",
     "output_type": "stream",
     "text": [
      "[5/200][166/189] ========== Loss_D: 1.4115, Loss_G: 1.8154, Acc_G: 21/32 = 65.6250\n"
     ]
    },
    {
     "name": "stderr",
     "output_type": "stream",
     "text": [
      " 88%|███████████████████████████████████████████████████████████████████████████▉          | 167/189 [03:27<00:27,  1.24s/it]"
     ]
    },
    {
     "name": "stdout",
     "output_type": "stream",
     "text": [
      "[5/200][167/189] ========== Loss_D: 1.4325, Loss_G: 2.0087, Acc_G: 23/32 = 71.8750\n"
     ]
    },
    {
     "name": "stderr",
     "output_type": "stream",
     "text": [
      " 89%|████████████████████████████████████████████████████████████████████████████▍         | 168/189 [03:28<00:24,  1.17s/it]"
     ]
    },
    {
     "name": "stdout",
     "output_type": "stream",
     "text": [
      "[5/200][168/189] ========== Loss_D: 1.4225, Loss_G: 1.7582, Acc_G: 18/32 = 56.2500\n"
     ]
    },
    {
     "name": "stderr",
     "output_type": "stream",
     "text": [
      " 89%|████████████████████████████████████████████████████████████████████████████▉         | 169/189 [03:29<00:23,  1.19s/it]"
     ]
    },
    {
     "name": "stdout",
     "output_type": "stream",
     "text": [
      "[5/200][169/189] ========== Loss_D: 1.4257, Loss_G: 1.7797, Acc_G: 21/32 = 65.6250\n"
     ]
    },
    {
     "name": "stderr",
     "output_type": "stream",
     "text": [
      " 90%|█████████████████████████████████████████████████████████████████████████████▎        | 170/189 [03:30<00:22,  1.17s/it]"
     ]
    },
    {
     "name": "stdout",
     "output_type": "stream",
     "text": [
      "[5/200][170/189] ========== Loss_D: 1.4011, Loss_G: 1.8627, Acc_G: 25/32 = 78.1250\n"
     ]
    },
    {
     "name": "stderr",
     "output_type": "stream",
     "text": [
      " 90%|█████████████████████████████████████████████████████████████████████████████▊        | 171/189 [03:32<00:22,  1.25s/it]"
     ]
    },
    {
     "name": "stdout",
     "output_type": "stream",
     "text": [
      "[5/200][171/189] ========== Loss_D: 1.4270, Loss_G: 1.7799, Acc_G: 25/32 = 78.1250\n"
     ]
    },
    {
     "name": "stderr",
     "output_type": "stream",
     "text": [
      " 91%|██████████████████████████████████████████████████████████████████████████████▎       | 172/189 [03:33<00:21,  1.24s/it]"
     ]
    },
    {
     "name": "stdout",
     "output_type": "stream",
     "text": [
      "[5/200][172/189] ========== Loss_D: 1.4230, Loss_G: 1.8745, Acc_G: 23/32 = 71.8750\n"
     ]
    },
    {
     "name": "stderr",
     "output_type": "stream",
     "text": [
      " 92%|██████████████████████████████████████████████████████████████████████████████▋       | 173/189 [03:34<00:19,  1.20s/it]"
     ]
    },
    {
     "name": "stdout",
     "output_type": "stream",
     "text": [
      "[5/200][173/189] ========== Loss_D: 1.4154, Loss_G: 1.8315, Acc_G: 25/32 = 78.1250\n"
     ]
    },
    {
     "name": "stderr",
     "output_type": "stream",
     "text": [
      " 92%|███████████████████████████████████████████████████████████████████████████████▏      | 174/189 [03:35<00:18,  1.24s/it]"
     ]
    },
    {
     "name": "stdout",
     "output_type": "stream",
     "text": [
      "[5/200][174/189] ========== Loss_D: 1.4193, Loss_G: 1.8687, Acc_G: 21/32 = 65.6250\n"
     ]
    },
    {
     "name": "stderr",
     "output_type": "stream",
     "text": [
      " 93%|███████████████████████████████████████████████████████████████████████████████▋      | 175/189 [03:37<00:16,  1.18s/it]"
     ]
    },
    {
     "name": "stdout",
     "output_type": "stream",
     "text": [
      "[5/200][175/189] ========== Loss_D: 1.4045, Loss_G: 1.8580, Acc_G: 24/32 = 75.0000\n"
     ]
    },
    {
     "name": "stderr",
     "output_type": "stream",
     "text": [
      " 93%|████████████████████████████████████████████████████████████████████████████████      | 176/189 [03:38<00:16,  1.25s/it]"
     ]
    },
    {
     "name": "stdout",
     "output_type": "stream",
     "text": [
      "[5/200][176/189] ========== Loss_D: 1.4255, Loss_G: 1.8580, Acc_G: 21/32 = 65.6250\n"
     ]
    },
    {
     "name": "stderr",
     "output_type": "stream",
     "text": [
      " 94%|████████████████████████████████████████████████████████████████████████████████▌     | 177/189 [03:39<00:14,  1.21s/it]"
     ]
    },
    {
     "name": "stdout",
     "output_type": "stream",
     "text": [
      "[5/200][177/189] ========== Loss_D: 1.4239, Loss_G: 1.8541, Acc_G: 21/32 = 65.6250\n"
     ]
    },
    {
     "name": "stderr",
     "output_type": "stream",
     "text": [
      " 94%|████████████████████████████████████████████████████████████████████████████████▉     | 178/189 [03:40<00:13,  1.25s/it]"
     ]
    },
    {
     "name": "stdout",
     "output_type": "stream",
     "text": [
      "[5/200][178/189] ========== Loss_D: 1.4343, Loss_G: 1.9203, Acc_G: 23/32 = 71.8750\n"
     ]
    },
    {
     "name": "stderr",
     "output_type": "stream",
     "text": [
      " 95%|█████████████████████████████████████████████████████████████████████████████████▍    | 179/189 [03:42<00:12,  1.23s/it]"
     ]
    },
    {
     "name": "stdout",
     "output_type": "stream",
     "text": [
      "[5/200][179/189] ========== Loss_D: 1.4173, Loss_G: 1.8163, Acc_G: 21/32 = 65.6250\n"
     ]
    },
    {
     "name": "stderr",
     "output_type": "stream",
     "text": [
      " 95%|█████████████████████████████████████████████████████████████████████████████████▉    | 180/189 [03:43<00:10,  1.19s/it]"
     ]
    },
    {
     "name": "stdout",
     "output_type": "stream",
     "text": [
      "[5/200][180/189] ========== Loss_D: 1.4281, Loss_G: 1.8722, Acc_G: 23/32 = 71.8750\n"
     ]
    },
    {
     "name": "stderr",
     "output_type": "stream",
     "text": [
      " 96%|██████████████████████████████████████████████████████████████████████████████████▎   | 181/189 [03:44<00:09,  1.15s/it]"
     ]
    },
    {
     "name": "stdout",
     "output_type": "stream",
     "text": [
      "[5/200][181/189] ========== Loss_D: 1.4345, Loss_G: 1.9262, Acc_G: 26/32 = 81.2500\n"
     ]
    },
    {
     "name": "stderr",
     "output_type": "stream",
     "text": [
      " 96%|██████████████████████████████████████████████████████████████████████████████████▊   | 182/189 [03:45<00:08,  1.22s/it]"
     ]
    },
    {
     "name": "stdout",
     "output_type": "stream",
     "text": [
      "[5/200][182/189] ========== Loss_D: 1.4208, Loss_G: 1.8745, Acc_G: 20/32 = 62.5000\n"
     ]
    },
    {
     "name": "stderr",
     "output_type": "stream",
     "text": [
      " 97%|███████████████████████████████████████████████████████████████████████████████████▎  | 183/189 [03:46<00:07,  1.20s/it]"
     ]
    },
    {
     "name": "stdout",
     "output_type": "stream",
     "text": [
      "[5/200][183/189] ========== Loss_D: 1.4286, Loss_G: 1.8355, Acc_G: 23/32 = 71.8750\n"
     ]
    },
    {
     "name": "stderr",
     "output_type": "stream",
     "text": [
      " 97%|███████████████████████████████████████████████████████████████████████████████████▋  | 184/189 [03:48<00:06,  1.27s/it]"
     ]
    },
    {
     "name": "stdout",
     "output_type": "stream",
     "text": [
      "[5/200][184/189] ========== Loss_D: 1.4125, Loss_G: 2.0358, Acc_G: 22/32 = 68.7500\n"
     ]
    },
    {
     "name": "stderr",
     "output_type": "stream",
     "text": [
      " 98%|████████████████████████████████████████████████████████████████████████████████████▏ | 185/189 [03:49<00:04,  1.19s/it]"
     ]
    },
    {
     "name": "stdout",
     "output_type": "stream",
     "text": [
      "[5/200][185/189] ========== Loss_D: 1.4276, Loss_G: 1.7788, Acc_G: 20/32 = 62.5000\n"
     ]
    },
    {
     "name": "stderr",
     "output_type": "stream",
     "text": [
      " 98%|████████████████████████████████████████████████████████████████████████████████████▋ | 186/189 [03:50<00:03,  1.16s/it]"
     ]
    },
    {
     "name": "stdout",
     "output_type": "stream",
     "text": [
      "[5/200][186/189] ========== Loss_D: 1.4202, Loss_G: 1.8955, Acc_G: 21/32 = 65.6250\n"
     ]
    },
    {
     "name": "stderr",
     "output_type": "stream",
     "text": [
      " 99%|█████████████████████████████████████████████████████████████████████████████████████ | 187/189 [03:51<00:02,  1.21s/it]"
     ]
    },
    {
     "name": "stdout",
     "output_type": "stream",
     "text": [
      "[5/200][187/189] ========== Loss_D: 1.4166, Loss_G: 1.7991, Acc_G: 19/32 = 59.3750\n"
     ]
    },
    {
     "name": "stderr",
     "output_type": "stream",
     "text": [
      " 99%|█████████████████████████████████████████████████████████████████████████████████████▌| 188/189 [03:52<00:01,  1.22s/it]"
     ]
    },
    {
     "name": "stdout",
     "output_type": "stream",
     "text": [
      "[5/200][188/189] ========== Loss_D: 1.4164, Loss_G: 1.8156, Acc_G: 21/32 = 65.6250\n"
     ]
    },
    {
     "name": "stderr",
     "output_type": "stream",
     "text": [
      "100%|██████████████████████████████████████████████████████████████████████████████████████| 189/189 [03:53<00:00,  1.23s/it]"
     ]
    },
    {
     "name": "stdout",
     "output_type": "stream",
     "text": [
      "[5/200][189/189] ========== Loss_D: 1.4208, Loss_G: 1.5504, Acc_G: 6/8 = 75.0000\n",
      "---------------------< lowest loss update -> 2.9711623191833496 >---------------------\n"
     ]
    },
    {
     "name": "stderr",
     "output_type": "stream",
     "text": [
      "\n",
      "  1%|▍                                                                                       | 1/189 [00:01<06:14,  1.99s/it]"
     ]
    },
    {
     "name": "stdout",
     "output_type": "stream",
     "text": [
      "[6/200][1/189] ========== Loss_D: 1.4197, Loss_G: 1.9321, Acc_G: 24/32 = 75.0000\n"
     ]
    },
    {
     "name": "stderr",
     "output_type": "stream",
     "text": [
      "  1%|▉                                                                                       | 2/189 [00:03<05:10,  1.66s/it]"
     ]
    },
    {
     "name": "stdout",
     "output_type": "stream",
     "text": [
      "[6/200][2/189] ========== Loss_D: 1.4168, Loss_G: 1.9317, Acc_G: 17/32 = 53.1250\n"
     ]
    },
    {
     "name": "stderr",
     "output_type": "stream",
     "text": [
      "  2%|█▍                                                                                      | 3/189 [00:04<04:08,  1.34s/it]"
     ]
    },
    {
     "name": "stdout",
     "output_type": "stream",
     "text": [
      "[6/200][3/189] ========== Loss_D: 1.4354, Loss_G: 1.8356, Acc_G: 18/32 = 56.2500\n"
     ]
    },
    {
     "name": "stderr",
     "output_type": "stream",
     "text": [
      "  2%|█▊                                                                                      | 4/189 [00:05<04:07,  1.34s/it]"
     ]
    },
    {
     "name": "stdout",
     "output_type": "stream",
     "text": [
      "[6/200][4/189] ========== Loss_D: 1.4061, Loss_G: 1.8456, Acc_G: 22/32 = 68.7500\n"
     ]
    },
    {
     "name": "stderr",
     "output_type": "stream",
     "text": [
      "  3%|██▎                                                                                     | 5/189 [00:06<03:51,  1.26s/it]"
     ]
    },
    {
     "name": "stdout",
     "output_type": "stream",
     "text": [
      "[6/200][5/189] ========== Loss_D: 1.4221, Loss_G: 1.9467, Acc_G: 19/32 = 59.3750\n"
     ]
    },
    {
     "name": "stderr",
     "output_type": "stream",
     "text": [
      "  3%|██▊                                                                                     | 6/189 [00:08<03:48,  1.25s/it]"
     ]
    },
    {
     "name": "stdout",
     "output_type": "stream",
     "text": [
      "[6/200][6/189] ========== Loss_D: 1.4290, Loss_G: 1.9162, Acc_G: 21/32 = 65.6250\n"
     ]
    },
    {
     "name": "stderr",
     "output_type": "stream",
     "text": [
      "  4%|███▎                                                                                    | 7/189 [00:09<03:51,  1.27s/it]"
     ]
    },
    {
     "name": "stdout",
     "output_type": "stream",
     "text": [
      "[6/200][7/189] ========== Loss_D: 1.4259, Loss_G: 1.9196, Acc_G: 16/32 = 50.0000\n"
     ]
    },
    {
     "name": "stderr",
     "output_type": "stream",
     "text": [
      "  4%|███▋                                                                                    | 8/189 [00:10<03:37,  1.20s/it]"
     ]
    },
    {
     "name": "stdout",
     "output_type": "stream",
     "text": [
      "[6/200][8/189] ========== Loss_D: 1.4258, Loss_G: 1.7965, Acc_G: 24/32 = 75.0000\n"
     ]
    },
    {
     "name": "stderr",
     "output_type": "stream",
     "text": [
      "  5%|████▏                                                                                   | 9/189 [00:11<03:37,  1.21s/it]"
     ]
    },
    {
     "name": "stdout",
     "output_type": "stream",
     "text": [
      "[6/200][9/189] ========== Loss_D: 1.4341, Loss_G: 1.7431, Acc_G: 24/32 = 75.0000\n"
     ]
    },
    {
     "name": "stderr",
     "output_type": "stream",
     "text": [
      "  5%|████▌                                                                                  | 10/189 [00:12<03:39,  1.23s/it]"
     ]
    },
    {
     "name": "stdout",
     "output_type": "stream",
     "text": [
      "[6/200][10/189] ========== Loss_D: 1.4195, Loss_G: 1.9409, Acc_G: 23/32 = 71.8750\n"
     ]
    },
    {
     "name": "stderr",
     "output_type": "stream",
     "text": [
      "  6%|█████                                                                                  | 11/189 [00:14<03:57,  1.33s/it]"
     ]
    },
    {
     "name": "stdout",
     "output_type": "stream",
     "text": [
      "[6/200][11/189] ========== Loss_D: 1.4241, Loss_G: 1.8155, Acc_G: 19/32 = 59.3750\n"
     ]
    },
    {
     "name": "stderr",
     "output_type": "stream",
     "text": [
      "  6%|█████▌                                                                                 | 12/189 [00:15<03:53,  1.32s/it]"
     ]
    },
    {
     "name": "stdout",
     "output_type": "stream",
     "text": [
      "[6/200][12/189] ========== Loss_D: 1.4200, Loss_G: 1.7722, Acc_G: 26/32 = 81.2500\n"
     ]
    },
    {
     "name": "stderr",
     "output_type": "stream",
     "text": [
      "  7%|█████▉                                                                                 | 13/189 [00:17<03:56,  1.35s/it]"
     ]
    },
    {
     "name": "stdout",
     "output_type": "stream",
     "text": [
      "[6/200][13/189] ========== Loss_D: 1.4186, Loss_G: 1.8892, Acc_G: 15/32 = 46.8750\n"
     ]
    },
    {
     "name": "stderr",
     "output_type": "stream",
     "text": [
      "  7%|██████▍                                                                                | 14/189 [00:18<03:38,  1.25s/it]"
     ]
    },
    {
     "name": "stdout",
     "output_type": "stream",
     "text": [
      "[6/200][14/189] ========== Loss_D: 1.4078, Loss_G: 1.8658, Acc_G: 19/32 = 59.3750\n"
     ]
    },
    {
     "name": "stderr",
     "output_type": "stream",
     "text": [
      "  8%|██████▉                                                                                | 15/189 [00:19<03:28,  1.20s/it]"
     ]
    },
    {
     "name": "stdout",
     "output_type": "stream",
     "text": [
      "[6/200][15/189] ========== Loss_D: 1.4195, Loss_G: 1.9985, Acc_G: 13/32 = 40.6250\n"
     ]
    },
    {
     "name": "stderr",
     "output_type": "stream",
     "text": [
      "  8%|███████▎                                                                               | 16/189 [00:20<03:27,  1.20s/it]"
     ]
    },
    {
     "name": "stdout",
     "output_type": "stream",
     "text": [
      "[6/200][16/189] ========== Loss_D: 1.4166, Loss_G: 1.9431, Acc_G: 24/32 = 75.0000\n"
     ]
    },
    {
     "name": "stderr",
     "output_type": "stream",
     "text": [
      "  9%|███████▊                                                                               | 17/189 [00:21<03:21,  1.17s/it]"
     ]
    },
    {
     "name": "stdout",
     "output_type": "stream",
     "text": [
      "[6/200][17/189] ========== Loss_D: 1.4373, Loss_G: 1.9094, Acc_G: 19/32 = 59.3750\n"
     ]
    },
    {
     "name": "stderr",
     "output_type": "stream",
     "text": [
      " 10%|████████▎                                                                              | 18/189 [00:23<03:45,  1.32s/it]"
     ]
    },
    {
     "name": "stdout",
     "output_type": "stream",
     "text": [
      "[6/200][18/189] ========== Loss_D: 1.4235, Loss_G: 1.7891, Acc_G: 24/32 = 75.0000\n"
     ]
    },
    {
     "name": "stderr",
     "output_type": "stream",
     "text": [
      " 10%|████████▋                                                                              | 19/189 [00:24<03:33,  1.26s/it]"
     ]
    },
    {
     "name": "stdout",
     "output_type": "stream",
     "text": [
      "[6/200][19/189] ========== Loss_D: 1.4149, Loss_G: 1.9231, Acc_G: 23/32 = 71.8750\n"
     ]
    },
    {
     "name": "stderr",
     "output_type": "stream",
     "text": [
      " 11%|█████████▏                                                                             | 20/189 [00:25<03:37,  1.29s/it]"
     ]
    },
    {
     "name": "stdout",
     "output_type": "stream",
     "text": [
      "[6/200][20/189] ========== Loss_D: 1.4215, Loss_G: 1.7632, Acc_G: 24/32 = 75.0000\n"
     ]
    },
    {
     "name": "stderr",
     "output_type": "stream",
     "text": [
      " 11%|█████████▋                                                                             | 21/189 [00:26<03:09,  1.13s/it]"
     ]
    },
    {
     "name": "stdout",
     "output_type": "stream",
     "text": [
      "[6/200][21/189] ========== Loss_D: 1.4137, Loss_G: 1.9929, Acc_G: 19/32 = 59.3750\n"
     ]
    },
    {
     "name": "stderr",
     "output_type": "stream",
     "text": [
      " 12%|██████████▏                                                                            | 22/189 [00:27<03:15,  1.17s/it]"
     ]
    },
    {
     "name": "stdout",
     "output_type": "stream",
     "text": [
      "[6/200][22/189] ========== Loss_D: 1.4014, Loss_G: 1.7426, Acc_G: 21/32 = 65.6250\n"
     ]
    },
    {
     "name": "stderr",
     "output_type": "stream",
     "text": [
      " 12%|██████████▌                                                                            | 23/189 [00:28<03:12,  1.16s/it]"
     ]
    },
    {
     "name": "stdout",
     "output_type": "stream",
     "text": [
      "[6/200][23/189] ========== Loss_D: 1.4280, Loss_G: 1.8133, Acc_G: 13/32 = 40.6250\n"
     ]
    },
    {
     "name": "stderr",
     "output_type": "stream",
     "text": [
      " 13%|███████████                                                                            | 24/189 [00:30<03:19,  1.21s/it]"
     ]
    },
    {
     "name": "stdout",
     "output_type": "stream",
     "text": [
      "[6/200][24/189] ========== Loss_D: 1.4248, Loss_G: 1.8564, Acc_G: 18/32 = 56.2500\n"
     ]
    },
    {
     "name": "stderr",
     "output_type": "stream",
     "text": [
      " 13%|███████████▌                                                                           | 25/189 [00:31<03:12,  1.17s/it]"
     ]
    },
    {
     "name": "stdout",
     "output_type": "stream",
     "text": [
      "[6/200][25/189] ========== Loss_D: 1.4182, Loss_G: 1.8317, Acc_G: 21/32 = 65.6250\n"
     ]
    },
    {
     "name": "stderr",
     "output_type": "stream",
     "text": [
      " 14%|███████████▉                                                                           | 26/189 [00:32<03:07,  1.15s/it]"
     ]
    },
    {
     "name": "stdout",
     "output_type": "stream",
     "text": [
      "[6/200][26/189] ========== Loss_D: 1.4268, Loss_G: 1.8344, Acc_G: 23/32 = 71.8750\n"
     ]
    },
    {
     "name": "stderr",
     "output_type": "stream",
     "text": [
      " 14%|████████████▍                                                                          | 27/189 [00:33<03:01,  1.12s/it]"
     ]
    },
    {
     "name": "stdout",
     "output_type": "stream",
     "text": [
      "[6/200][27/189] ========== Loss_D: 1.4229, Loss_G: 1.8082, Acc_G: 20/32 = 62.5000\n"
     ]
    },
    {
     "name": "stderr",
     "output_type": "stream",
     "text": [
      " 15%|████████████▉                                                                          | 28/189 [00:34<03:01,  1.13s/it]"
     ]
    },
    {
     "name": "stdout",
     "output_type": "stream",
     "text": [
      "[6/200][28/189] ========== Loss_D: 1.4208, Loss_G: 1.8467, Acc_G: 24/32 = 75.0000\n"
     ]
    },
    {
     "name": "stderr",
     "output_type": "stream",
     "text": [
      " 15%|█████████████▎                                                                         | 29/189 [00:35<03:06,  1.17s/it]"
     ]
    },
    {
     "name": "stdout",
     "output_type": "stream",
     "text": [
      "[6/200][29/189] ========== Loss_D: 1.4139, Loss_G: 1.8846, Acc_G: 24/32 = 75.0000\n"
     ]
    },
    {
     "name": "stderr",
     "output_type": "stream",
     "text": [
      " 16%|█████████████▊                                                                         | 30/189 [00:36<03:03,  1.16s/it]"
     ]
    },
    {
     "name": "stdout",
     "output_type": "stream",
     "text": [
      "[6/200][30/189] ========== Loss_D: 1.4388, Loss_G: 1.8525, Acc_G: 20/32 = 62.5000\n"
     ]
    },
    {
     "name": "stderr",
     "output_type": "stream",
     "text": [
      " 16%|██████████████▎                                                                        | 31/189 [00:38<03:14,  1.23s/it]"
     ]
    },
    {
     "name": "stdout",
     "output_type": "stream",
     "text": [
      "[6/200][31/189] ========== Loss_D: 1.4175, Loss_G: 1.6816, Acc_G: 22/32 = 68.7500\n"
     ]
    },
    {
     "name": "stderr",
     "output_type": "stream",
     "text": [
      " 17%|██████████████▋                                                                        | 32/189 [00:39<03:20,  1.28s/it]"
     ]
    },
    {
     "name": "stdout",
     "output_type": "stream",
     "text": [
      "[6/200][32/189] ========== Loss_D: 1.4147, Loss_G: 1.8718, Acc_G: 17/32 = 53.1250\n"
     ]
    },
    {
     "name": "stderr",
     "output_type": "stream",
     "text": [
      " 17%|███████████████▏                                                                       | 33/189 [00:40<03:12,  1.23s/it]"
     ]
    },
    {
     "name": "stdout",
     "output_type": "stream",
     "text": [
      "[6/200][33/189] ========== Loss_D: 1.4162, Loss_G: 2.0437, Acc_G: 14/32 = 43.7500\n"
     ]
    },
    {
     "name": "stderr",
     "output_type": "stream",
     "text": [
      " 18%|███████████████▋                                                                       | 34/189 [00:42<03:05,  1.19s/it]"
     ]
    },
    {
     "name": "stdout",
     "output_type": "stream",
     "text": [
      "[6/200][34/189] ========== Loss_D: 1.4266, Loss_G: 1.8849, Acc_G: 19/32 = 59.3750\n"
     ]
    },
    {
     "name": "stderr",
     "output_type": "stream",
     "text": [
      " 19%|████████████████                                                                       | 35/189 [00:43<03:12,  1.25s/it]"
     ]
    },
    {
     "name": "stdout",
     "output_type": "stream",
     "text": [
      "[6/200][35/189] ========== Loss_D: 1.4387, Loss_G: 1.9754, Acc_G: 25/32 = 78.1250\n"
     ]
    },
    {
     "name": "stderr",
     "output_type": "stream",
     "text": [
      " 19%|████████████████▌                                                                      | 36/189 [00:44<03:10,  1.25s/it]"
     ]
    },
    {
     "name": "stdout",
     "output_type": "stream",
     "text": [
      "[6/200][36/189] ========== Loss_D: 1.4113, Loss_G: 1.7826, Acc_G: 20/32 = 62.5000\n"
     ]
    },
    {
     "name": "stderr",
     "output_type": "stream",
     "text": [
      " 20%|█████████████████                                                                      | 37/189 [00:46<03:21,  1.33s/it]"
     ]
    },
    {
     "name": "stdout",
     "output_type": "stream",
     "text": [
      "[6/200][37/189] ========== Loss_D: 1.4256, Loss_G: 1.7978, Acc_G: 23/32 = 71.8750\n"
     ]
    },
    {
     "name": "stderr",
     "output_type": "stream",
     "text": [
      " 20%|█████████████████▍                                                                     | 38/189 [00:47<03:24,  1.35s/it]"
     ]
    },
    {
     "name": "stdout",
     "output_type": "stream",
     "text": [
      "[6/200][38/189] ========== Loss_D: 1.4193, Loss_G: 1.7583, Acc_G: 20/32 = 62.5000\n"
     ]
    },
    {
     "name": "stderr",
     "output_type": "stream",
     "text": [
      " 21%|█████████████████▉                                                                     | 39/189 [00:48<03:21,  1.34s/it]"
     ]
    },
    {
     "name": "stdout",
     "output_type": "stream",
     "text": [
      "[6/200][39/189] ========== Loss_D: 1.4312, Loss_G: 1.8873, Acc_G: 20/32 = 62.5000\n"
     ]
    },
    {
     "name": "stderr",
     "output_type": "stream",
     "text": [
      " 21%|██████████████████▍                                                                    | 40/189 [00:49<03:06,  1.25s/it]"
     ]
    },
    {
     "name": "stdout",
     "output_type": "stream",
     "text": [
      "[6/200][40/189] ========== Loss_D: 1.4206, Loss_G: 1.9297, Acc_G: 17/32 = 53.1250\n"
     ]
    },
    {
     "name": "stderr",
     "output_type": "stream",
     "text": [
      " 22%|██████████████████▊                                                                    | 41/189 [00:51<03:01,  1.23s/it]"
     ]
    },
    {
     "name": "stdout",
     "output_type": "stream",
     "text": [
      "[6/200][41/189] ========== Loss_D: 1.4466, Loss_G: 1.8478, Acc_G: 19/32 = 59.3750\n"
     ]
    },
    {
     "name": "stderr",
     "output_type": "stream",
     "text": [
      " 22%|███████████████████▎                                                                   | 42/189 [00:52<02:52,  1.18s/it]"
     ]
    },
    {
     "name": "stdout",
     "output_type": "stream",
     "text": [
      "[6/200][42/189] ========== Loss_D: 1.4171, Loss_G: 1.8623, Acc_G: 20/32 = 62.5000\n"
     ]
    },
    {
     "name": "stderr",
     "output_type": "stream",
     "text": [
      " 23%|███████████████████▊                                                                   | 43/189 [00:53<02:41,  1.11s/it]"
     ]
    },
    {
     "name": "stdout",
     "output_type": "stream",
     "text": [
      "[6/200][43/189] ========== Loss_D: 1.4282, Loss_G: 1.9229, Acc_G: 24/32 = 75.0000\n"
     ]
    },
    {
     "name": "stderr",
     "output_type": "stream",
     "text": [
      " 23%|████████████████████▎                                                                  | 44/189 [00:54<02:36,  1.08s/it]"
     ]
    },
    {
     "name": "stdout",
     "output_type": "stream",
     "text": [
      "[6/200][44/189] ========== Loss_D: 1.4217, Loss_G: 1.8926, Acc_G: 23/32 = 71.8750\n"
     ]
    },
    {
     "name": "stderr",
     "output_type": "stream",
     "text": [
      " 24%|████████████████████▋                                                                  | 45/189 [00:55<02:44,  1.14s/it]"
     ]
    },
    {
     "name": "stdout",
     "output_type": "stream",
     "text": [
      "[6/200][45/189] ========== Loss_D: 1.4241, Loss_G: 1.8006, Acc_G: 19/32 = 59.3750\n"
     ]
    },
    {
     "name": "stderr",
     "output_type": "stream",
     "text": [
      " 24%|█████████████████████▏                                                                 | 46/189 [00:56<02:55,  1.23s/it]"
     ]
    },
    {
     "name": "stdout",
     "output_type": "stream",
     "text": [
      "[6/200][46/189] ========== Loss_D: 1.4395, Loss_G: 1.8012, Acc_G: 23/32 = 71.8750\n"
     ]
    },
    {
     "name": "stderr",
     "output_type": "stream",
     "text": [
      " 25%|█████████████████████▋                                                                 | 47/189 [00:58<03:02,  1.28s/it]"
     ]
    },
    {
     "name": "stdout",
     "output_type": "stream",
     "text": [
      "[6/200][47/189] ========== Loss_D: 1.4297, Loss_G: 1.7404, Acc_G: 19/32 = 59.3750\n"
     ]
    },
    {
     "name": "stderr",
     "output_type": "stream",
     "text": [
      " 25%|██████████████████████                                                                 | 48/189 [00:59<02:48,  1.19s/it]"
     ]
    },
    {
     "name": "stdout",
     "output_type": "stream",
     "text": [
      "[6/200][48/189] ========== Loss_D: 1.4366, Loss_G: 1.8553, Acc_G: 23/32 = 71.8750\n"
     ]
    },
    {
     "name": "stderr",
     "output_type": "stream",
     "text": [
      " 26%|██████████████████████▌                                                                | 49/189 [01:00<02:48,  1.20s/it]"
     ]
    },
    {
     "name": "stdout",
     "output_type": "stream",
     "text": [
      "[6/200][49/189] ========== Loss_D: 1.3962, Loss_G: 1.8762, Acc_G: 18/32 = 56.2500\n"
     ]
    },
    {
     "name": "stderr",
     "output_type": "stream",
     "text": [
      " 26%|███████████████████████                                                                | 50/189 [01:01<02:49,  1.22s/it]"
     ]
    },
    {
     "name": "stdout",
     "output_type": "stream",
     "text": [
      "[6/200][50/189] ========== Loss_D: 1.4277, Loss_G: 1.8958, Acc_G: 23/32 = 71.8750\n"
     ]
    },
    {
     "name": "stderr",
     "output_type": "stream",
     "text": [
      " 27%|███████████████████████▍                                                               | 51/189 [01:02<02:39,  1.16s/it]"
     ]
    },
    {
     "name": "stdout",
     "output_type": "stream",
     "text": [
      "[6/200][51/189] ========== Loss_D: 1.4262, Loss_G: 1.7433, Acc_G: 22/32 = 68.7500\n"
     ]
    },
    {
     "name": "stderr",
     "output_type": "stream",
     "text": [
      " 28%|███████████████████████▉                                                               | 52/189 [01:03<02:38,  1.16s/it]"
     ]
    },
    {
     "name": "stdout",
     "output_type": "stream",
     "text": [
      "[6/200][52/189] ========== Loss_D: 1.4252, Loss_G: 1.7326, Acc_G: 21/32 = 65.6250\n"
     ]
    },
    {
     "name": "stderr",
     "output_type": "stream",
     "text": [
      " 28%|████████████████████████▍                                                              | 53/189 [01:05<02:41,  1.19s/it]"
     ]
    },
    {
     "name": "stdout",
     "output_type": "stream",
     "text": [
      "[6/200][53/189] ========== Loss_D: 1.4036, Loss_G: 1.8483, Acc_G: 25/32 = 78.1250\n"
     ]
    },
    {
     "name": "stderr",
     "output_type": "stream",
     "text": [
      " 29%|████████████████████████▊                                                              | 54/189 [01:06<02:45,  1.22s/it]"
     ]
    },
    {
     "name": "stdout",
     "output_type": "stream",
     "text": [
      "[6/200][54/189] ========== Loss_D: 1.4231, Loss_G: 1.8771, Acc_G: 16/32 = 50.0000\n"
     ]
    },
    {
     "name": "stderr",
     "output_type": "stream",
     "text": [
      " 29%|█████████████████████████▎                                                             | 55/189 [01:07<02:55,  1.31s/it]"
     ]
    },
    {
     "name": "stdout",
     "output_type": "stream",
     "text": [
      "[6/200][55/189] ========== Loss_D: 1.4327, Loss_G: 1.8239, Acc_G: 17/32 = 53.1250\n"
     ]
    },
    {
     "name": "stderr",
     "output_type": "stream",
     "text": [
      " 30%|█████████████████████████▊                                                             | 56/189 [01:09<02:43,  1.23s/it]"
     ]
    },
    {
     "name": "stdout",
     "output_type": "stream",
     "text": [
      "[6/200][56/189] ========== Loss_D: 1.4174, Loss_G: 1.8951, Acc_G: 18/32 = 56.2500\n"
     ]
    },
    {
     "name": "stderr",
     "output_type": "stream",
     "text": [
      " 30%|██████████████████████████▏                                                            | 57/189 [01:10<02:45,  1.26s/it]"
     ]
    },
    {
     "name": "stdout",
     "output_type": "stream",
     "text": [
      "[6/200][57/189] ========== Loss_D: 1.4194, Loss_G: 1.7366, Acc_G: 16/32 = 50.0000\n"
     ]
    },
    {
     "name": "stderr",
     "output_type": "stream",
     "text": [
      " 31%|██████████████████████████▋                                                            | 58/189 [01:11<02:47,  1.28s/it]"
     ]
    },
    {
     "name": "stdout",
     "output_type": "stream",
     "text": [
      "[6/200][58/189] ========== Loss_D: 1.4046, Loss_G: 1.8658, Acc_G: 21/32 = 65.6250\n"
     ]
    },
    {
     "name": "stderr",
     "output_type": "stream",
     "text": [
      " 31%|███████████████████████████▏                                                           | 59/189 [01:12<02:38,  1.22s/it]"
     ]
    },
    {
     "name": "stdout",
     "output_type": "stream",
     "text": [
      "[6/200][59/189] ========== Loss_D: 1.4259, Loss_G: 1.8211, Acc_G: 22/32 = 68.7500\n"
     ]
    },
    {
     "name": "stderr",
     "output_type": "stream",
     "text": [
      " 32%|███████████████████████████▌                                                           | 60/189 [01:14<02:41,  1.25s/it]"
     ]
    },
    {
     "name": "stdout",
     "output_type": "stream",
     "text": [
      "[6/200][60/189] ========== Loss_D: 1.4288, Loss_G: 1.8603, Acc_G: 22/32 = 68.7500\n"
     ]
    },
    {
     "name": "stderr",
     "output_type": "stream",
     "text": [
      " 32%|████████████████████████████                                                           | 61/189 [01:15<02:34,  1.20s/it]"
     ]
    },
    {
     "name": "stdout",
     "output_type": "stream",
     "text": [
      "[6/200][61/189] ========== Loss_D: 1.4036, Loss_G: 1.8230, Acc_G: 16/32 = 50.0000\n"
     ]
    },
    {
     "name": "stderr",
     "output_type": "stream",
     "text": [
      " 33%|████████████████████████████▌                                                          | 62/189 [01:16<02:39,  1.26s/it]"
     ]
    },
    {
     "name": "stdout",
     "output_type": "stream",
     "text": [
      "[6/200][62/189] ========== Loss_D: 1.4091, Loss_G: 1.8025, Acc_G: 22/32 = 68.7500\n"
     ]
    },
    {
     "name": "stderr",
     "output_type": "stream",
     "text": [
      " 33%|█████████████████████████████                                                          | 63/189 [01:17<02:40,  1.28s/it]"
     ]
    },
    {
     "name": "stdout",
     "output_type": "stream",
     "text": [
      "[6/200][63/189] ========== Loss_D: 1.4325, Loss_G: 1.8213, Acc_G: 26/32 = 81.2500\n"
     ]
    },
    {
     "name": "stderr",
     "output_type": "stream",
     "text": [
      " 34%|█████████████████████████████▍                                                         | 64/189 [01:18<02:31,  1.21s/it]"
     ]
    },
    {
     "name": "stdout",
     "output_type": "stream",
     "text": [
      "[6/200][64/189] ========== Loss_D: 1.4104, Loss_G: 1.7970, Acc_G: 21/32 = 65.6250\n"
     ]
    },
    {
     "name": "stderr",
     "output_type": "stream",
     "text": [
      " 34%|█████████████████████████████▉                                                         | 65/189 [01:19<02:24,  1.16s/it]"
     ]
    },
    {
     "name": "stdout",
     "output_type": "stream",
     "text": [
      "[6/200][65/189] ========== Loss_D: 1.4288, Loss_G: 1.8558, Acc_G: 24/32 = 75.0000\n"
     ]
    },
    {
     "name": "stderr",
     "output_type": "stream",
     "text": [
      " 35%|██████████████████████████████▍                                                        | 66/189 [01:21<02:22,  1.16s/it]"
     ]
    },
    {
     "name": "stdout",
     "output_type": "stream",
     "text": [
      "[6/200][66/189] ========== Loss_D: 1.4345, Loss_G: 1.8670, Acc_G: 22/32 = 68.7500\n"
     ]
    },
    {
     "name": "stderr",
     "output_type": "stream",
     "text": [
      " 35%|██████████████████████████████▊                                                        | 67/189 [01:22<02:18,  1.13s/it]"
     ]
    },
    {
     "name": "stdout",
     "output_type": "stream",
     "text": [
      "[6/200][67/189] ========== Loss_D: 1.4349, Loss_G: 1.8029, Acc_G: 16/32 = 50.0000\n"
     ]
    },
    {
     "name": "stderr",
     "output_type": "stream",
     "text": [
      " 36%|███████████████████████████████▎                                                       | 68/189 [01:23<02:21,  1.17s/it]"
     ]
    },
    {
     "name": "stdout",
     "output_type": "stream",
     "text": [
      "[6/200][68/189] ========== Loss_D: 1.4216, Loss_G: 1.7816, Acc_G: 20/32 = 62.5000\n"
     ]
    },
    {
     "name": "stderr",
     "output_type": "stream",
     "text": [
      " 37%|███████████████████████████████▊                                                       | 69/189 [01:24<02:31,  1.26s/it]"
     ]
    },
    {
     "name": "stdout",
     "output_type": "stream",
     "text": [
      "[6/200][69/189] ========== Loss_D: 1.4266, Loss_G: 1.9621, Acc_G: 17/32 = 53.1250\n"
     ]
    },
    {
     "name": "stderr",
     "output_type": "stream",
     "text": [
      " 37%|████████████████████████████████▏                                                      | 70/189 [01:26<02:24,  1.22s/it]"
     ]
    },
    {
     "name": "stdout",
     "output_type": "stream",
     "text": [
      "[6/200][70/189] ========== Loss_D: 1.4158, Loss_G: 1.8605, Acc_G: 24/32 = 75.0000\n"
     ]
    },
    {
     "name": "stderr",
     "output_type": "stream",
     "text": [
      " 38%|████████████████████████████████▋                                                      | 71/189 [01:27<02:32,  1.29s/it]"
     ]
    },
    {
     "name": "stdout",
     "output_type": "stream",
     "text": [
      "[6/200][71/189] ========== Loss_D: 1.4281, Loss_G: 1.8592, Acc_G: 26/32 = 81.2500\n"
     ]
    },
    {
     "name": "stderr",
     "output_type": "stream",
     "text": [
      " 38%|█████████████████████████████████▏                                                     | 72/189 [01:28<02:36,  1.34s/it]"
     ]
    },
    {
     "name": "stdout",
     "output_type": "stream",
     "text": [
      "[6/200][72/189] ========== Loss_D: 1.4193, Loss_G: 1.7656, Acc_G: 20/32 = 62.5000\n"
     ]
    },
    {
     "name": "stderr",
     "output_type": "stream",
     "text": [
      " 39%|█████████████████████████████████▌                                                     | 73/189 [01:30<02:26,  1.26s/it]"
     ]
    },
    {
     "name": "stdout",
     "output_type": "stream",
     "text": [
      "[6/200][73/189] ========== Loss_D: 1.4157, Loss_G: 1.8207, Acc_G: 20/32 = 62.5000\n"
     ]
    },
    {
     "name": "stderr",
     "output_type": "stream",
     "text": [
      " 39%|██████████████████████████████████                                                     | 74/189 [01:31<02:18,  1.20s/it]"
     ]
    },
    {
     "name": "stdout",
     "output_type": "stream",
     "text": [
      "[6/200][74/189] ========== Loss_D: 1.4310, Loss_G: 1.9272, Acc_G: 23/32 = 71.8750\n"
     ]
    },
    {
     "name": "stderr",
     "output_type": "stream",
     "text": [
      " 40%|██████████████████████████████████▌                                                    | 75/189 [01:32<02:33,  1.34s/it]"
     ]
    },
    {
     "name": "stdout",
     "output_type": "stream",
     "text": [
      "[6/200][75/189] ========== Loss_D: 1.4172, Loss_G: 1.6846, Acc_G: 23/32 = 71.8750\n"
     ]
    },
    {
     "name": "stderr",
     "output_type": "stream",
     "text": [
      " 40%|██████████████████████████████████▉                                                    | 76/189 [01:33<02:19,  1.24s/it]"
     ]
    },
    {
     "name": "stdout",
     "output_type": "stream",
     "text": [
      "[6/200][76/189] ========== Loss_D: 1.4303, Loss_G: 1.9156, Acc_G: 21/32 = 65.6250\n"
     ]
    },
    {
     "name": "stderr",
     "output_type": "stream",
     "text": [
      " 41%|███████████████████████████████████▍                                                   | 77/189 [01:35<02:31,  1.36s/it]"
     ]
    },
    {
     "name": "stdout",
     "output_type": "stream",
     "text": [
      "[6/200][77/189] ========== Loss_D: 1.4306, Loss_G: 2.0075, Acc_G: 22/32 = 68.7500\n"
     ]
    },
    {
     "name": "stderr",
     "output_type": "stream",
     "text": [
      " 41%|███████████████████████████████████▉                                                   | 78/189 [01:36<02:13,  1.21s/it]"
     ]
    },
    {
     "name": "stdout",
     "output_type": "stream",
     "text": [
      "[6/200][78/189] ========== Loss_D: 1.4107, Loss_G: 1.8092, Acc_G: 26/32 = 81.2500\n"
     ]
    },
    {
     "name": "stderr",
     "output_type": "stream",
     "text": [
      " 42%|████████████████████████████████████▎                                                  | 79/189 [01:37<02:16,  1.24s/it]"
     ]
    },
    {
     "name": "stdout",
     "output_type": "stream",
     "text": [
      "[6/200][79/189] ========== Loss_D: 1.4119, Loss_G: 1.8387, Acc_G: 17/32 = 53.1250\n"
     ]
    },
    {
     "name": "stderr",
     "output_type": "stream",
     "text": [
      " 42%|████████████████████████████████████▊                                                  | 80/189 [01:38<02:09,  1.19s/it]"
     ]
    },
    {
     "name": "stdout",
     "output_type": "stream",
     "text": [
      "[6/200][80/189] ========== Loss_D: 1.4199, Loss_G: 1.8029, Acc_G: 18/32 = 56.2500\n"
     ]
    },
    {
     "name": "stderr",
     "output_type": "stream",
     "text": [
      " 43%|█████████████████████████████████████▎                                                 | 81/189 [01:39<02:09,  1.20s/it]"
     ]
    },
    {
     "name": "stdout",
     "output_type": "stream",
     "text": [
      "[6/200][81/189] ========== Loss_D: 1.4306, Loss_G: 1.9055, Acc_G: 27/32 = 84.3750\n"
     ]
    },
    {
     "name": "stderr",
     "output_type": "stream",
     "text": [
      " 43%|█████████████████████████████████████▋                                                 | 82/189 [01:41<02:10,  1.22s/it]"
     ]
    },
    {
     "name": "stdout",
     "output_type": "stream",
     "text": [
      "[6/200][82/189] ========== Loss_D: 1.4216, Loss_G: 1.8253, Acc_G: 21/32 = 65.6250\n"
     ]
    },
    {
     "name": "stderr",
     "output_type": "stream",
     "text": [
      " 44%|██████████████████████████████████████▏                                                | 83/189 [01:42<02:07,  1.21s/it]"
     ]
    },
    {
     "name": "stdout",
     "output_type": "stream",
     "text": [
      "[6/200][83/189] ========== Loss_D: 1.4360, Loss_G: 1.7609, Acc_G: 24/32 = 75.0000\n"
     ]
    },
    {
     "name": "stderr",
     "output_type": "stream",
     "text": [
      " 44%|██████████████████████████████████████▋                                                | 84/189 [01:43<02:11,  1.25s/it]"
     ]
    },
    {
     "name": "stdout",
     "output_type": "stream",
     "text": [
      "[6/200][84/189] ========== Loss_D: 1.4159, Loss_G: 1.8140, Acc_G: 21/32 = 65.6250\n"
     ]
    },
    {
     "name": "stderr",
     "output_type": "stream",
     "text": [
      " 45%|███████████████████████████████████████▏                                               | 85/189 [01:45<02:14,  1.29s/it]"
     ]
    },
    {
     "name": "stdout",
     "output_type": "stream",
     "text": [
      "[6/200][85/189] ========== Loss_D: 1.4166, Loss_G: 1.9140, Acc_G: 21/32 = 65.6250\n"
     ]
    },
    {
     "name": "stderr",
     "output_type": "stream",
     "text": [
      " 46%|███████████████████████████████████████▌                                               | 86/189 [01:46<02:16,  1.33s/it]"
     ]
    },
    {
     "name": "stdout",
     "output_type": "stream",
     "text": [
      "[6/200][86/189] ========== Loss_D: 1.4094, Loss_G: 1.8786, Acc_G: 19/32 = 59.3750\n"
     ]
    },
    {
     "name": "stderr",
     "output_type": "stream",
     "text": [
      " 46%|████████████████████████████████████████                                               | 87/189 [01:47<02:16,  1.34s/it]"
     ]
    },
    {
     "name": "stdout",
     "output_type": "stream",
     "text": [
      "[6/200][87/189] ========== Loss_D: 1.4240, Loss_G: 1.7048, Acc_G: 20/32 = 62.5000\n"
     ]
    },
    {
     "name": "stderr",
     "output_type": "stream",
     "text": [
      " 47%|████████████████████████████████████████▌                                              | 88/189 [01:48<02:06,  1.26s/it]"
     ]
    },
    {
     "name": "stdout",
     "output_type": "stream",
     "text": [
      "[6/200][88/189] ========== Loss_D: 1.4189, Loss_G: 1.8021, Acc_G: 23/32 = 71.8750\n"
     ]
    },
    {
     "name": "stderr",
     "output_type": "stream",
     "text": [
      " 47%|████████████████████████████████████████▉                                              | 89/189 [01:50<02:06,  1.26s/it]"
     ]
    },
    {
     "name": "stdout",
     "output_type": "stream",
     "text": [
      "[6/200][89/189] ========== Loss_D: 1.4223, Loss_G: 1.7906, Acc_G: 19/32 = 59.3750\n"
     ]
    },
    {
     "name": "stderr",
     "output_type": "stream",
     "text": [
      " 48%|█████████████████████████████████████████▍                                             | 90/189 [01:51<01:56,  1.17s/it]"
     ]
    },
    {
     "name": "stdout",
     "output_type": "stream",
     "text": [
      "[6/200][90/189] ========== Loss_D: 1.4150, Loss_G: 1.9049, Acc_G: 16/32 = 50.0000\n"
     ]
    },
    {
     "name": "stderr",
     "output_type": "stream",
     "text": [
      " 48%|█████████████████████████████████████████▉                                             | 91/189 [01:52<01:48,  1.10s/it]"
     ]
    },
    {
     "name": "stdout",
     "output_type": "stream",
     "text": [
      "[6/200][91/189] ========== Loss_D: 1.4299, Loss_G: 1.7977, Acc_G: 24/32 = 75.0000\n"
     ]
    },
    {
     "name": "stderr",
     "output_type": "stream",
     "text": [
      " 49%|██████████████████████████████████████████▎                                            | 92/189 [01:53<01:47,  1.11s/it]"
     ]
    },
    {
     "name": "stdout",
     "output_type": "stream",
     "text": [
      "[6/200][92/189] ========== Loss_D: 1.4252, Loss_G: 1.9203, Acc_G: 18/32 = 56.2500\n"
     ]
    },
    {
     "name": "stderr",
     "output_type": "stream",
     "text": [
      " 49%|██████████████████████████████████████████▊                                            | 93/189 [01:54<01:50,  1.16s/it]"
     ]
    },
    {
     "name": "stdout",
     "output_type": "stream",
     "text": [
      "[6/200][93/189] ========== Loss_D: 1.4180, Loss_G: 1.8479, Acc_G: 20/32 = 62.5000\n"
     ]
    },
    {
     "name": "stderr",
     "output_type": "stream",
     "text": [
      " 50%|███████████████████████████████████████████▎                                           | 94/189 [01:55<01:51,  1.17s/it]"
     ]
    },
    {
     "name": "stdout",
     "output_type": "stream",
     "text": [
      "[6/200][94/189] ========== Loss_D: 1.4183, Loss_G: 1.7766, Acc_G: 20/32 = 62.5000\n"
     ]
    },
    {
     "name": "stderr",
     "output_type": "stream",
     "text": [
      " 50%|███████████████████████████████████████████▋                                           | 95/189 [01:56<01:52,  1.19s/it]"
     ]
    },
    {
     "name": "stdout",
     "output_type": "stream",
     "text": [
      "[6/200][95/189] ========== Loss_D: 1.4241, Loss_G: 1.9154, Acc_G: 20/32 = 62.5000\n"
     ]
    },
    {
     "name": "stderr",
     "output_type": "stream",
     "text": [
      " 51%|████████████████████████████████████████████▏                                          | 96/189 [01:58<02:04,  1.34s/it]"
     ]
    },
    {
     "name": "stdout",
     "output_type": "stream",
     "text": [
      "[6/200][96/189] ========== Loss_D: 1.4207, Loss_G: 1.7978, Acc_G: 25/32 = 78.1250\n"
     ]
    },
    {
     "name": "stderr",
     "output_type": "stream",
     "text": [
      " 51%|████████████████████████████████████████████▋                                          | 97/189 [01:59<01:49,  1.19s/it]"
     ]
    },
    {
     "name": "stdout",
     "output_type": "stream",
     "text": [
      "[6/200][97/189] ========== Loss_D: 1.4192, Loss_G: 1.8611, Acc_G: 22/32 = 68.7500\n"
     ]
    },
    {
     "name": "stderr",
     "output_type": "stream",
     "text": [
      " 52%|█████████████████████████████████████████████                                          | 98/189 [02:00<01:50,  1.22s/it]"
     ]
    },
    {
     "name": "stdout",
     "output_type": "stream",
     "text": [
      "[6/200][98/189] ========== Loss_D: 1.4233, Loss_G: 1.9061, Acc_G: 21/32 = 65.6250\n"
     ]
    },
    {
     "name": "stderr",
     "output_type": "stream",
     "text": [
      " 52%|█████████████████████████████████████████████▌                                         | 99/189 [02:01<01:44,  1.16s/it]"
     ]
    },
    {
     "name": "stdout",
     "output_type": "stream",
     "text": [
      "[6/200][99/189] ========== Loss_D: 1.4312, Loss_G: 1.8157, Acc_G: 24/32 = 75.0000\n"
     ]
    },
    {
     "name": "stderr",
     "output_type": "stream",
     "text": [
      " 53%|█████████████████████████████████████████████▌                                        | 100/189 [02:02<01:45,  1.19s/it]"
     ]
    },
    {
     "name": "stdout",
     "output_type": "stream",
     "text": [
      "[6/200][100/189] ========== Loss_D: 1.4267, Loss_G: 1.7604, Acc_G: 23/32 = 71.8750\n"
     ]
    },
    {
     "name": "stderr",
     "output_type": "stream",
     "text": [
      " 53%|█████████████████████████████████████████████▉                                        | 101/189 [02:04<01:42,  1.17s/it]"
     ]
    },
    {
     "name": "stdout",
     "output_type": "stream",
     "text": [
      "[6/200][101/189] ========== Loss_D: 1.4090, Loss_G: 1.8611, Acc_G: 24/32 = 75.0000\n"
     ]
    },
    {
     "name": "stderr",
     "output_type": "stream",
     "text": [
      " 54%|██████████████████████████████████████████████▍                                       | 102/189 [02:05<01:45,  1.22s/it]"
     ]
    },
    {
     "name": "stdout",
     "output_type": "stream",
     "text": [
      "[6/200][102/189] ========== Loss_D: 1.4147, Loss_G: 1.8797, Acc_G: 21/32 = 65.6250\n"
     ]
    },
    {
     "name": "stderr",
     "output_type": "stream",
     "text": [
      " 54%|██████████████████████████████████████████████▊                                       | 103/189 [02:06<01:37,  1.14s/it]"
     ]
    },
    {
     "name": "stdout",
     "output_type": "stream",
     "text": [
      "[6/200][103/189] ========== Loss_D: 1.4187, Loss_G: 1.8107, Acc_G: 21/32 = 65.6250\n"
     ]
    },
    {
     "name": "stderr",
     "output_type": "stream",
     "text": [
      " 55%|███████████████████████████████████████████████▎                                      | 104/189 [02:07<01:38,  1.16s/it]"
     ]
    },
    {
     "name": "stdout",
     "output_type": "stream",
     "text": [
      "[6/200][104/189] ========== Loss_D: 1.4305, Loss_G: 1.8714, Acc_G: 24/32 = 75.0000\n"
     ]
    },
    {
     "name": "stderr",
     "output_type": "stream",
     "text": [
      " 56%|███████████████████████████████████████████████▊                                      | 105/189 [02:08<01:42,  1.22s/it]"
     ]
    },
    {
     "name": "stdout",
     "output_type": "stream",
     "text": [
      "[6/200][105/189] ========== Loss_D: 1.4233, Loss_G: 1.7390, Acc_G: 24/32 = 75.0000\n"
     ]
    },
    {
     "name": "stderr",
     "output_type": "stream",
     "text": [
      " 56%|████████████████████████████████████████████████▏                                     | 106/189 [02:09<01:36,  1.16s/it]"
     ]
    },
    {
     "name": "stdout",
     "output_type": "stream",
     "text": [
      "[6/200][106/189] ========== Loss_D: 1.4263, Loss_G: 1.7327, Acc_G: 25/32 = 78.1250\n"
     ]
    },
    {
     "name": "stderr",
     "output_type": "stream",
     "text": [
      " 57%|████████████████████████████████████████████████▋                                     | 107/189 [02:11<01:35,  1.16s/it]"
     ]
    },
    {
     "name": "stdout",
     "output_type": "stream",
     "text": [
      "[6/200][107/189] ========== Loss_D: 1.4226, Loss_G: 1.8019, Acc_G: 20/32 = 62.5000\n"
     ]
    },
    {
     "name": "stderr",
     "output_type": "stream",
     "text": [
      " 57%|█████████████████████████████████████████████████▏                                    | 108/189 [02:12<01:36,  1.19s/it]"
     ]
    },
    {
     "name": "stdout",
     "output_type": "stream",
     "text": [
      "[6/200][108/189] ========== Loss_D: 1.4286, Loss_G: 1.8436, Acc_G: 22/32 = 68.7500\n"
     ]
    },
    {
     "name": "stderr",
     "output_type": "stream",
     "text": [
      " 58%|█████████████████████████████████████████████████▌                                    | 109/189 [02:13<01:38,  1.23s/it]"
     ]
    },
    {
     "name": "stdout",
     "output_type": "stream",
     "text": [
      "[6/200][109/189] ========== Loss_D: 1.4262, Loss_G: 1.8261, Acc_G: 21/32 = 65.6250\n"
     ]
    },
    {
     "name": "stderr",
     "output_type": "stream",
     "text": [
      " 58%|██████████████████████████████████████████████████                                    | 110/189 [02:14<01:34,  1.20s/it]"
     ]
    },
    {
     "name": "stdout",
     "output_type": "stream",
     "text": [
      "[6/200][110/189] ========== Loss_D: 1.4198, Loss_G: 1.9312, Acc_G: 21/32 = 65.6250\n"
     ]
    },
    {
     "name": "stderr",
     "output_type": "stream",
     "text": [
      " 59%|██████████████████████████████████████████████████▌                                   | 111/189 [02:16<01:34,  1.21s/it]"
     ]
    },
    {
     "name": "stdout",
     "output_type": "stream",
     "text": [
      "[6/200][111/189] ========== Loss_D: 1.4275, Loss_G: 1.8701, Acc_G: 21/32 = 65.6250\n"
     ]
    },
    {
     "name": "stderr",
     "output_type": "stream",
     "text": [
      " 59%|██████████████████████████████████████████████████▉                                   | 112/189 [02:17<01:33,  1.22s/it]"
     ]
    },
    {
     "name": "stdout",
     "output_type": "stream",
     "text": [
      "[6/200][112/189] ========== Loss_D: 1.4245, Loss_G: 1.9038, Acc_G: 27/32 = 84.3750\n"
     ]
    },
    {
     "name": "stderr",
     "output_type": "stream",
     "text": [
      " 60%|███████████████████████████████████████████████████▍                                  | 113/189 [02:18<01:31,  1.20s/it]"
     ]
    },
    {
     "name": "stdout",
     "output_type": "stream",
     "text": [
      "[6/200][113/189] ========== Loss_D: 1.4265, Loss_G: 1.7264, Acc_G: 21/32 = 65.6250\n"
     ]
    },
    {
     "name": "stderr",
     "output_type": "stream",
     "text": [
      " 60%|███████████████████████████████████████████████████▊                                  | 114/189 [02:19<01:30,  1.20s/it]"
     ]
    },
    {
     "name": "stdout",
     "output_type": "stream",
     "text": [
      "[6/200][114/189] ========== Loss_D: 1.4255, Loss_G: 1.8363, Acc_G: 21/32 = 65.6250\n"
     ]
    },
    {
     "name": "stderr",
     "output_type": "stream",
     "text": [
      " 61%|████████████████████████████████████████████████████▎                                 | 115/189 [02:21<01:42,  1.39s/it]"
     ]
    },
    {
     "name": "stdout",
     "output_type": "stream",
     "text": [
      "[6/200][115/189] ========== Loss_D: 1.4082, Loss_G: 1.8406, Acc_G: 20/32 = 62.5000\n"
     ]
    },
    {
     "name": "stderr",
     "output_type": "stream",
     "text": [
      " 61%|████████████████████████████████████████████████████▊                                 | 116/189 [02:23<01:46,  1.46s/it]"
     ]
    },
    {
     "name": "stdout",
     "output_type": "stream",
     "text": [
      "[6/200][116/189] ========== Loss_D: 1.4223, Loss_G: 1.8011, Acc_G: 23/32 = 71.8750\n"
     ]
    },
    {
     "name": "stderr",
     "output_type": "stream",
     "text": [
      " 62%|█████████████████████████████████████████████████████▏                                | 117/189 [02:24<01:36,  1.34s/it]"
     ]
    },
    {
     "name": "stdout",
     "output_type": "stream",
     "text": [
      "[6/200][117/189] ========== Loss_D: 1.4181, Loss_G: 1.9118, Acc_G: 22/32 = 68.7500\n"
     ]
    },
    {
     "name": "stderr",
     "output_type": "stream",
     "text": [
      " 62%|█████████████████████████████████████████████████████▋                                | 118/189 [02:25<01:35,  1.34s/it]"
     ]
    },
    {
     "name": "stdout",
     "output_type": "stream",
     "text": [
      "[6/200][118/189] ========== Loss_D: 1.4185, Loss_G: 1.7939, Acc_G: 20/32 = 62.5000\n"
     ]
    },
    {
     "name": "stderr",
     "output_type": "stream",
     "text": [
      " 63%|██████████████████████████████████████████████████████▏                               | 119/189 [02:26<01:29,  1.28s/it]"
     ]
    },
    {
     "name": "stdout",
     "output_type": "stream",
     "text": [
      "[6/200][119/189] ========== Loss_D: 1.4310, Loss_G: 1.8718, Acc_G: 20/32 = 62.5000\n"
     ]
    },
    {
     "name": "stderr",
     "output_type": "stream",
     "text": [
      " 63%|██████████████████████████████████████████████████████▌                               | 120/189 [02:27<01:26,  1.25s/it]"
     ]
    },
    {
     "name": "stdout",
     "output_type": "stream",
     "text": [
      "[6/200][120/189] ========== Loss_D: 1.4338, Loss_G: 1.8832, Acc_G: 21/32 = 65.6250\n"
     ]
    },
    {
     "name": "stderr",
     "output_type": "stream",
     "text": [
      " 64%|███████████████████████████████████████████████████████                               | 121/189 [02:29<01:30,  1.32s/it]"
     ]
    },
    {
     "name": "stdout",
     "output_type": "stream",
     "text": [
      "[6/200][121/189] ========== Loss_D: 1.4225, Loss_G: 1.8376, Acc_G: 25/32 = 78.1250\n"
     ]
    },
    {
     "name": "stderr",
     "output_type": "stream",
     "text": [
      " 65%|███████████████████████████████████████████████████████▌                              | 122/189 [02:30<01:30,  1.36s/it]"
     ]
    },
    {
     "name": "stdout",
     "output_type": "stream",
     "text": [
      "[6/200][122/189] ========== Loss_D: 1.4246, Loss_G: 1.8999, Acc_G: 22/32 = 68.7500\n"
     ]
    },
    {
     "name": "stderr",
     "output_type": "stream",
     "text": [
      " 65%|███████████████████████████████████████████████████████▉                              | 123/189 [02:32<01:32,  1.40s/it]"
     ]
    },
    {
     "name": "stdout",
     "output_type": "stream",
     "text": [
      "[6/200][123/189] ========== Loss_D: 1.4135, Loss_G: 1.7732, Acc_G: 24/32 = 75.0000\n"
     ]
    },
    {
     "name": "stderr",
     "output_type": "stream",
     "text": [
      " 66%|████████████████████████████████████████████████████████▍                             | 124/189 [02:33<01:27,  1.35s/it]"
     ]
    },
    {
     "name": "stdout",
     "output_type": "stream",
     "text": [
      "[6/200][124/189] ========== Loss_D: 1.4314, Loss_G: 1.7531, Acc_G: 18/32 = 56.2500\n"
     ]
    },
    {
     "name": "stderr",
     "output_type": "stream",
     "text": [
      " 66%|████████████████████████████████████████████████████████▉                             | 125/189 [02:34<01:21,  1.28s/it]"
     ]
    },
    {
     "name": "stdout",
     "output_type": "stream",
     "text": [
      "[6/200][125/189] ========== Loss_D: 1.4187, Loss_G: 1.8948, Acc_G: 19/32 = 59.3750\n"
     ]
    },
    {
     "name": "stderr",
     "output_type": "stream",
     "text": [
      " 67%|█████████████████████████████████████████████████████████▎                            | 126/189 [02:35<01:21,  1.30s/it]"
     ]
    },
    {
     "name": "stdout",
     "output_type": "stream",
     "text": [
      "[6/200][126/189] ========== Loss_D: 1.4312, Loss_G: 1.8656, Acc_G: 26/32 = 81.2500\n"
     ]
    },
    {
     "name": "stderr",
     "output_type": "stream",
     "text": [
      " 67%|█████████████████████████████████████████████████████████▊                            | 127/189 [02:36<01:14,  1.21s/it]"
     ]
    },
    {
     "name": "stdout",
     "output_type": "stream",
     "text": [
      "[6/200][127/189] ========== Loss_D: 1.4196, Loss_G: 1.8959, Acc_G: 21/32 = 65.6250\n"
     ]
    },
    {
     "name": "stderr",
     "output_type": "stream",
     "text": [
      " 68%|██████████████████████████████████████████████████████████▏                           | 128/189 [02:38<01:17,  1.28s/it]"
     ]
    },
    {
     "name": "stdout",
     "output_type": "stream",
     "text": [
      "[6/200][128/189] ========== Loss_D: 1.4241, Loss_G: 1.8078, Acc_G: 24/32 = 75.0000\n"
     ]
    },
    {
     "name": "stderr",
     "output_type": "stream",
     "text": [
      " 68%|██████████████████████████████████████████████████████████▋                           | 129/189 [02:39<01:14,  1.24s/it]"
     ]
    },
    {
     "name": "stdout",
     "output_type": "stream",
     "text": [
      "[6/200][129/189] ========== Loss_D: 1.4194, Loss_G: 1.8024, Acc_G: 23/32 = 71.8750\n"
     ]
    },
    {
     "name": "stderr",
     "output_type": "stream",
     "text": [
      " 69%|███████████████████████████████████████████████████████████▏                          | 130/189 [02:40<01:11,  1.22s/it]"
     ]
    },
    {
     "name": "stdout",
     "output_type": "stream",
     "text": [
      "[6/200][130/189] ========== Loss_D: 1.4182, Loss_G: 1.8047, Acc_G: 20/32 = 62.5000\n"
     ]
    },
    {
     "name": "stderr",
     "output_type": "stream",
     "text": [
      " 69%|███████████████████████████████████████████████████████████▌                          | 131/189 [02:41<01:08,  1.18s/it]"
     ]
    },
    {
     "name": "stdout",
     "output_type": "stream",
     "text": [
      "[6/200][131/189] ========== Loss_D: 1.4219, Loss_G: 1.8619, Acc_G: 17/32 = 53.1250\n"
     ]
    },
    {
     "name": "stderr",
     "output_type": "stream",
     "text": [
      " 70%|████████████████████████████████████████████████████████████                          | 132/189 [02:42<01:05,  1.14s/it]"
     ]
    },
    {
     "name": "stdout",
     "output_type": "stream",
     "text": [
      "[6/200][132/189] ========== Loss_D: 1.4175, Loss_G: 1.7864, Acc_G: 21/32 = 65.6250\n"
     ]
    },
    {
     "name": "stderr",
     "output_type": "stream",
     "text": [
      " 70%|████████████████████████████████████████████████████████████▌                         | 133/189 [02:44<01:06,  1.18s/it]"
     ]
    },
    {
     "name": "stdout",
     "output_type": "stream",
     "text": [
      "[6/200][133/189] ========== Loss_D: 1.4226, Loss_G: 1.8038, Acc_G: 23/32 = 71.8750\n"
     ]
    },
    {
     "name": "stderr",
     "output_type": "stream",
     "text": [
      " 71%|████████████████████████████████████████████████████████████▉                         | 134/189 [02:45<01:12,  1.31s/it]"
     ]
    },
    {
     "name": "stdout",
     "output_type": "stream",
     "text": [
      "[6/200][134/189] ========== Loss_D: 1.4295, Loss_G: 1.8998, Acc_G: 22/32 = 68.7500\n"
     ]
    },
    {
     "name": "stderr",
     "output_type": "stream",
     "text": [
      " 71%|█████████████████████████████████████████████████████████████▍                        | 135/189 [02:46<01:05,  1.21s/it]"
     ]
    },
    {
     "name": "stdout",
     "output_type": "stream",
     "text": [
      "[6/200][135/189] ========== Loss_D: 1.4369, Loss_G: 1.8878, Acc_G: 22/32 = 68.7500\n"
     ]
    },
    {
     "name": "stderr",
     "output_type": "stream",
     "text": [
      " 72%|█████████████████████████████████████████████████████████████▉                        | 136/189 [02:47<01:00,  1.15s/it]"
     ]
    },
    {
     "name": "stdout",
     "output_type": "stream",
     "text": [
      "[6/200][136/189] ========== Loss_D: 1.4298, Loss_G: 1.9019, Acc_G: 24/32 = 75.0000\n"
     ]
    },
    {
     "name": "stderr",
     "output_type": "stream",
     "text": [
      " 72%|██████████████████████████████████████████████████████████████▎                       | 137/189 [02:48<00:59,  1.14s/it]"
     ]
    },
    {
     "name": "stdout",
     "output_type": "stream",
     "text": [
      "[6/200][137/189] ========== Loss_D: 1.4212, Loss_G: 1.8250, Acc_G: 26/32 = 81.2500\n"
     ]
    },
    {
     "name": "stderr",
     "output_type": "stream",
     "text": [
      " 73%|██████████████████████████████████████████████████████████████▊                       | 138/189 [02:49<00:57,  1.12s/it]"
     ]
    },
    {
     "name": "stdout",
     "output_type": "stream",
     "text": [
      "[6/200][138/189] ========== Loss_D: 1.4332, Loss_G: 1.8672, Acc_G: 20/32 = 62.5000\n"
     ]
    },
    {
     "name": "stderr",
     "output_type": "stream",
     "text": [
      " 74%|███████████████████████████████████████████████████████████████▏                      | 139/189 [02:50<00:54,  1.10s/it]"
     ]
    },
    {
     "name": "stdout",
     "output_type": "stream",
     "text": [
      "[6/200][139/189] ========== Loss_D: 1.4081, Loss_G: 1.8173, Acc_G: 20/32 = 62.5000\n"
     ]
    },
    {
     "name": "stderr",
     "output_type": "stream",
     "text": [
      " 74%|███████████████████████████████████████████████████████████████▋                      | 140/189 [02:52<00:55,  1.13s/it]"
     ]
    },
    {
     "name": "stdout",
     "output_type": "stream",
     "text": [
      "[6/200][140/189] ========== Loss_D: 1.4203, Loss_G: 1.7689, Acc_G: 23/32 = 71.8750\n"
     ]
    },
    {
     "name": "stderr",
     "output_type": "stream",
     "text": [
      " 75%|████████████████████████████████████████████████████████████████▏                     | 141/189 [02:53<00:54,  1.13s/it]"
     ]
    },
    {
     "name": "stdout",
     "output_type": "stream",
     "text": [
      "[6/200][141/189] ========== Loss_D: 1.4145, Loss_G: 1.8012, Acc_G: 23/32 = 71.8750\n"
     ]
    },
    {
     "name": "stderr",
     "output_type": "stream",
     "text": [
      " 75%|████████████████████████████████████████████████████████████████▌                     | 142/189 [02:54<01:00,  1.28s/it]"
     ]
    },
    {
     "name": "stdout",
     "output_type": "stream",
     "text": [
      "[6/200][142/189] ========== Loss_D: 1.4111, Loss_G: 1.9305, Acc_G: 24/32 = 75.0000\n"
     ]
    },
    {
     "name": "stderr",
     "output_type": "stream",
     "text": [
      " 76%|█████████████████████████████████████████████████████████████████                     | 143/189 [02:56<00:58,  1.26s/it]"
     ]
    },
    {
     "name": "stdout",
     "output_type": "stream",
     "text": [
      "[6/200][143/189] ========== Loss_D: 1.4091, Loss_G: 1.7956, Acc_G: 22/32 = 68.7500\n"
     ]
    },
    {
     "name": "stderr",
     "output_type": "stream",
     "text": [
      " 76%|█████████████████████████████████████████████████████████████████▌                    | 144/189 [02:57<01:02,  1.40s/it]"
     ]
    },
    {
     "name": "stdout",
     "output_type": "stream",
     "text": [
      "[6/200][144/189] ========== Loss_D: 1.4106, Loss_G: 1.8665, Acc_G: 22/32 = 68.7500\n"
     ]
    },
    {
     "name": "stderr",
     "output_type": "stream",
     "text": [
      " 77%|█████████████████████████████████████████████████████████████████▉                    | 145/189 [02:58<00:56,  1.27s/it]"
     ]
    },
    {
     "name": "stdout",
     "output_type": "stream",
     "text": [
      "[6/200][145/189] ========== Loss_D: 1.4326, Loss_G: 1.9015, Acc_G: 18/32 = 56.2500\n"
     ]
    },
    {
     "name": "stderr",
     "output_type": "stream",
     "text": [
      " 77%|██████████████████████████████████████████████████████████████████▍                   | 146/189 [02:59<00:49,  1.14s/it]"
     ]
    },
    {
     "name": "stdout",
     "output_type": "stream",
     "text": [
      "[6/200][146/189] ========== Loss_D: 1.4390, Loss_G: 1.8303, Acc_G: 21/32 = 65.6250\n"
     ]
    },
    {
     "name": "stderr",
     "output_type": "stream",
     "text": [
      " 78%|██████████████████████████████████████████████████████████████████▉                   | 147/189 [03:00<00:49,  1.19s/it]"
     ]
    },
    {
     "name": "stdout",
     "output_type": "stream",
     "text": [
      "[6/200][147/189] ========== Loss_D: 1.4067, Loss_G: 1.8875, Acc_G: 23/32 = 71.8750\n"
     ]
    },
    {
     "name": "stderr",
     "output_type": "stream",
     "text": [
      " 78%|███████████████████████████████████████████████████████████████████▎                  | 148/189 [03:02<00:50,  1.24s/it]"
     ]
    },
    {
     "name": "stdout",
     "output_type": "stream",
     "text": [
      "[6/200][148/189] ========== Loss_D: 1.4227, Loss_G: 1.7714, Acc_G: 19/32 = 59.3750\n"
     ]
    },
    {
     "name": "stderr",
     "output_type": "stream",
     "text": [
      " 79%|███████████████████████████████████████████████████████████████████▊                  | 149/189 [03:03<00:47,  1.19s/it]"
     ]
    },
    {
     "name": "stdout",
     "output_type": "stream",
     "text": [
      "[6/200][149/189] ========== Loss_D: 1.4224, Loss_G: 1.7977, Acc_G: 17/32 = 53.1250\n"
     ]
    },
    {
     "name": "stderr",
     "output_type": "stream",
     "text": [
      " 79%|████████████████████████████████████████████████████████████████████▎                 | 150/189 [03:04<00:45,  1.17s/it]"
     ]
    },
    {
     "name": "stdout",
     "output_type": "stream",
     "text": [
      "[6/200][150/189] ========== Loss_D: 1.4100, Loss_G: 1.9225, Acc_G: 24/32 = 75.0000\n"
     ]
    },
    {
     "name": "stderr",
     "output_type": "stream",
     "text": [
      " 80%|████████████████████████████████████████████████████████████████████▋                 | 151/189 [03:05<00:45,  1.20s/it]"
     ]
    },
    {
     "name": "stdout",
     "output_type": "stream",
     "text": [
      "[6/200][151/189] ========== Loss_D: 1.4099, Loss_G: 1.8915, Acc_G: 16/32 = 50.0000\n"
     ]
    },
    {
     "name": "stderr",
     "output_type": "stream",
     "text": [
      " 80%|█████████████████████████████████████████████████████████████████████▏                | 152/189 [03:07<00:46,  1.25s/it]"
     ]
    },
    {
     "name": "stdout",
     "output_type": "stream",
     "text": [
      "[6/200][152/189] ========== Loss_D: 1.4406, Loss_G: 1.8172, Acc_G: 15/32 = 46.8750\n"
     ]
    },
    {
     "name": "stderr",
     "output_type": "stream",
     "text": [
      " 81%|█████████████████████████████████████████████████████████████████████▌                | 153/189 [03:08<00:47,  1.31s/it]"
     ]
    },
    {
     "name": "stdout",
     "output_type": "stream",
     "text": [
      "[6/200][153/189] ========== Loss_D: 1.4190, Loss_G: 1.8320, Acc_G: 27/32 = 84.3750\n"
     ]
    },
    {
     "name": "stderr",
     "output_type": "stream",
     "text": [
      " 81%|██████████████████████████████████████████████████████████████████████                | 154/189 [03:09<00:43,  1.25s/it]"
     ]
    },
    {
     "name": "stdout",
     "output_type": "stream",
     "text": [
      "[6/200][154/189] ========== Loss_D: 1.4344, Loss_G: 1.9083, Acc_G: 24/32 = 75.0000\n"
     ]
    },
    {
     "name": "stderr",
     "output_type": "stream",
     "text": [
      " 82%|██████████████████████████████████████████████████████████████████████▌               | 155/189 [03:11<00:42,  1.25s/it]"
     ]
    },
    {
     "name": "stdout",
     "output_type": "stream",
     "text": [
      "[6/200][155/189] ========== Loss_D: 1.4339, Loss_G: 1.9450, Acc_G: 21/32 = 65.6250\n"
     ]
    },
    {
     "name": "stderr",
     "output_type": "stream",
     "text": [
      " 83%|██████████████████████████████████████████████████████████████████████▉               | 156/189 [03:11<00:37,  1.13s/it]"
     ]
    },
    {
     "name": "stdout",
     "output_type": "stream",
     "text": [
      "[6/200][156/189] ========== Loss_D: 1.4257, Loss_G: 1.8475, Acc_G: 21/32 = 65.6250\n"
     ]
    },
    {
     "name": "stderr",
     "output_type": "stream",
     "text": [
      " 83%|███████████████████████████████████████████████████████████████████████▍              | 157/189 [03:12<00:35,  1.11s/it]"
     ]
    },
    {
     "name": "stdout",
     "output_type": "stream",
     "text": [
      "[6/200][157/189] ========== Loss_D: 1.4006, Loss_G: 1.8838, Acc_G: 23/32 = 71.8750\n"
     ]
    },
    {
     "name": "stderr",
     "output_type": "stream",
     "text": [
      " 84%|███████████████████████████████████████████████████████████████████████▉              | 158/189 [03:14<00:38,  1.24s/it]"
     ]
    },
    {
     "name": "stdout",
     "output_type": "stream",
     "text": [
      "[6/200][158/189] ========== Loss_D: 1.4324, Loss_G: 1.9492, Acc_G: 16/32 = 50.0000\n"
     ]
    },
    {
     "name": "stderr",
     "output_type": "stream",
     "text": [
      " 84%|████████████████████████████████████████████████████████████████████████▎             | 159/189 [03:15<00:36,  1.22s/it]"
     ]
    },
    {
     "name": "stdout",
     "output_type": "stream",
     "text": [
      "[6/200][159/189] ========== Loss_D: 1.4073, Loss_G: 1.8854, Acc_G: 22/32 = 68.7500\n"
     ]
    },
    {
     "name": "stderr",
     "output_type": "stream",
     "text": [
      " 85%|████████████████████████████████████████████████████████████████████████▊             | 160/189 [03:16<00:36,  1.25s/it]"
     ]
    },
    {
     "name": "stdout",
     "output_type": "stream",
     "text": [
      "[6/200][160/189] ========== Loss_D: 1.4025, Loss_G: 1.9426, Acc_G: 26/32 = 81.2500\n"
     ]
    },
    {
     "name": "stderr",
     "output_type": "stream",
     "text": [
      " 85%|█████████████████████████████████████████████████████████████████████████▎            | 161/189 [03:18<00:36,  1.30s/it]"
     ]
    },
    {
     "name": "stdout",
     "output_type": "stream",
     "text": [
      "[6/200][161/189] ========== Loss_D: 1.4231, Loss_G: 1.7947, Acc_G: 25/32 = 78.1250\n"
     ]
    },
    {
     "name": "stderr",
     "output_type": "stream",
     "text": [
      " 86%|█████████████████████████████████████████████████████████████████████████▋            | 162/189 [03:19<00:34,  1.28s/it]"
     ]
    },
    {
     "name": "stdout",
     "output_type": "stream",
     "text": [
      "[6/200][162/189] ========== Loss_D: 1.4338, Loss_G: 1.8356, Acc_G: 24/32 = 75.0000\n"
     ]
    },
    {
     "name": "stderr",
     "output_type": "stream",
     "text": [
      " 86%|██████████████████████████████████████████████████████████████████████████▏           | 163/189 [03:20<00:31,  1.19s/it]"
     ]
    },
    {
     "name": "stdout",
     "output_type": "stream",
     "text": [
      "[6/200][163/189] ========== Loss_D: 1.4276, Loss_G: 1.8521, Acc_G: 23/32 = 71.8750\n"
     ]
    },
    {
     "name": "stderr",
     "output_type": "stream",
     "text": [
      " 87%|██████████████████████████████████████████████████████████████████████████▌           | 164/189 [03:22<00:32,  1.29s/it]"
     ]
    },
    {
     "name": "stdout",
     "output_type": "stream",
     "text": [
      "[6/200][164/189] ========== Loss_D: 1.4244, Loss_G: 1.9219, Acc_G: 18/32 = 56.2500\n"
     ]
    },
    {
     "name": "stderr",
     "output_type": "stream",
     "text": [
      " 87%|███████████████████████████████████████████████████████████████████████████           | 165/189 [03:23<00:31,  1.32s/it]"
     ]
    },
    {
     "name": "stdout",
     "output_type": "stream",
     "text": [
      "[6/200][165/189] ========== Loss_D: 1.4178, Loss_G: 1.8833, Acc_G: 21/32 = 65.6250\n"
     ]
    },
    {
     "name": "stderr",
     "output_type": "stream",
     "text": [
      " 88%|███████████████████████████████████████████████████████████████████████████▌          | 166/189 [03:24<00:28,  1.24s/it]"
     ]
    },
    {
     "name": "stdout",
     "output_type": "stream",
     "text": [
      "[6/200][166/189] ========== Loss_D: 1.4182, Loss_G: 1.9190, Acc_G: 19/32 = 59.3750\n"
     ]
    },
    {
     "name": "stderr",
     "output_type": "stream",
     "text": [
      " 88%|███████████████████████████████████████████████████████████████████████████▉          | 167/189 [03:25<00:27,  1.23s/it]"
     ]
    },
    {
     "name": "stdout",
     "output_type": "stream",
     "text": [
      "[6/200][167/189] ========== Loss_D: 1.4036, Loss_G: 1.8663, Acc_G: 27/32 = 84.3750\n"
     ]
    },
    {
     "name": "stderr",
     "output_type": "stream",
     "text": [
      " 89%|████████████████████████████████████████████████████████████████████████████▍         | 168/189 [03:27<00:26,  1.25s/it]"
     ]
    },
    {
     "name": "stdout",
     "output_type": "stream",
     "text": [
      "[6/200][168/189] ========== Loss_D: 1.4161, Loss_G: 1.8329, Acc_G: 20/32 = 62.5000\n"
     ]
    },
    {
     "name": "stderr",
     "output_type": "stream",
     "text": [
      " 89%|████████████████████████████████████████████████████████████████████████████▉         | 169/189 [03:28<00:24,  1.23s/it]"
     ]
    },
    {
     "name": "stdout",
     "output_type": "stream",
     "text": [
      "[6/200][169/189] ========== Loss_D: 1.4220, Loss_G: 1.8230, Acc_G: 21/32 = 65.6250\n"
     ]
    },
    {
     "name": "stderr",
     "output_type": "stream",
     "text": [
      " 90%|█████████████████████████████████████████████████████████████████████████████▎        | 170/189 [03:29<00:22,  1.21s/it]"
     ]
    },
    {
     "name": "stdout",
     "output_type": "stream",
     "text": [
      "[6/200][170/189] ========== Loss_D: 1.4106, Loss_G: 1.8898, Acc_G: 20/32 = 62.5000\n"
     ]
    },
    {
     "name": "stderr",
     "output_type": "stream",
     "text": [
      " 90%|█████████████████████████████████████████████████████████████████████████████▊        | 171/189 [03:31<00:24,  1.34s/it]"
     ]
    },
    {
     "name": "stdout",
     "output_type": "stream",
     "text": [
      "[6/200][171/189] ========== Loss_D: 1.4233, Loss_G: 1.8963, Acc_G: 22/32 = 68.7500\n"
     ]
    },
    {
     "name": "stderr",
     "output_type": "stream",
     "text": [
      " 91%|██████████████████████████████████████████████████████████████████████████████▎       | 172/189 [03:32<00:21,  1.27s/it]"
     ]
    },
    {
     "name": "stdout",
     "output_type": "stream",
     "text": [
      "[6/200][172/189] ========== Loss_D: 1.4106, Loss_G: 1.7470, Acc_G: 27/32 = 84.3750\n"
     ]
    },
    {
     "name": "stderr",
     "output_type": "stream",
     "text": [
      " 92%|██████████████████████████████████████████████████████████████████████████████▋       | 173/189 [03:33<00:19,  1.20s/it]"
     ]
    },
    {
     "name": "stdout",
     "output_type": "stream",
     "text": [
      "[6/200][173/189] ========== Loss_D: 1.4265, Loss_G: 1.7308, Acc_G: 22/32 = 68.7500\n"
     ]
    },
    {
     "name": "stderr",
     "output_type": "stream",
     "text": [
      " 92%|███████████████████████████████████████████████████████████████████████████████▏      | 174/189 [03:34<00:17,  1.16s/it]"
     ]
    },
    {
     "name": "stdout",
     "output_type": "stream",
     "text": [
      "[6/200][174/189] ========== Loss_D: 1.4304, Loss_G: 1.8528, Acc_G: 24/32 = 75.0000\n"
     ]
    },
    {
     "name": "stderr",
     "output_type": "stream",
     "text": [
      " 93%|███████████████████████████████████████████████████████████████████████████████▋      | 175/189 [03:35<00:16,  1.15s/it]"
     ]
    },
    {
     "name": "stdout",
     "output_type": "stream",
     "text": [
      "[6/200][175/189] ========== Loss_D: 1.4179, Loss_G: 1.8110, Acc_G: 21/32 = 65.6250\n"
     ]
    },
    {
     "name": "stderr",
     "output_type": "stream",
     "text": [
      " 93%|████████████████████████████████████████████████████████████████████████████████      | 176/189 [03:36<00:16,  1.24s/it]"
     ]
    },
    {
     "name": "stdout",
     "output_type": "stream",
     "text": [
      "[6/200][176/189] ========== Loss_D: 1.4250, Loss_G: 1.8483, Acc_G: 23/32 = 71.8750\n"
     ]
    },
    {
     "name": "stderr",
     "output_type": "stream",
     "text": [
      " 94%|████████████████████████████████████████████████████████████████████████████████▌     | 177/189 [03:38<00:14,  1.24s/it]"
     ]
    },
    {
     "name": "stdout",
     "output_type": "stream",
     "text": [
      "[6/200][177/189] ========== Loss_D: 1.4115, Loss_G: 1.7590, Acc_G: 20/32 = 62.5000\n"
     ]
    },
    {
     "name": "stderr",
     "output_type": "stream",
     "text": [
      " 94%|████████████████████████████████████████████████████████████████████████████████▉     | 178/189 [03:39<00:14,  1.31s/it]"
     ]
    },
    {
     "name": "stdout",
     "output_type": "stream",
     "text": [
      "[6/200][178/189] ========== Loss_D: 1.4171, Loss_G: 1.7559, Acc_G: 19/32 = 59.3750\n"
     ]
    },
    {
     "name": "stderr",
     "output_type": "stream",
     "text": [
      " 95%|█████████████████████████████████████████████████████████████████████████████████▍    | 179/189 [03:40<00:12,  1.22s/it]"
     ]
    },
    {
     "name": "stdout",
     "output_type": "stream",
     "text": [
      "[6/200][179/189] ========== Loss_D: 1.4247, Loss_G: 1.7630, Acc_G: 22/32 = 68.7500\n"
     ]
    },
    {
     "name": "stderr",
     "output_type": "stream",
     "text": [
      " 95%|█████████████████████████████████████████████████████████████████████████████████▉    | 180/189 [03:41<00:11,  1.25s/it]"
     ]
    },
    {
     "name": "stdout",
     "output_type": "stream",
     "text": [
      "[6/200][180/189] ========== Loss_D: 1.4091, Loss_G: 1.8470, Acc_G: 21/32 = 65.6250\n"
     ]
    },
    {
     "name": "stderr",
     "output_type": "stream",
     "text": [
      " 96%|██████████████████████████████████████████████████████████████████████████████████▎   | 181/189 [03:43<00:10,  1.33s/it]"
     ]
    },
    {
     "name": "stdout",
     "output_type": "stream",
     "text": [
      "[6/200][181/189] ========== Loss_D: 1.4163, Loss_G: 1.8816, Acc_G: 21/32 = 65.6250\n"
     ]
    },
    {
     "name": "stderr",
     "output_type": "stream",
     "text": [
      " 96%|██████████████████████████████████████████████████████████████████████████████████▊   | 182/189 [03:44<00:09,  1.37s/it]"
     ]
    },
    {
     "name": "stdout",
     "output_type": "stream",
     "text": [
      "[6/200][182/189] ========== Loss_D: 1.4186, Loss_G: 1.8758, Acc_G: 21/32 = 65.6250\n"
     ]
    },
    {
     "name": "stderr",
     "output_type": "stream",
     "text": [
      " 97%|███████████████████████████████████████████████████████████████████████████████████▎  | 183/189 [03:45<00:07,  1.25s/it]"
     ]
    },
    {
     "name": "stdout",
     "output_type": "stream",
     "text": [
      "[6/200][183/189] ========== Loss_D: 1.4194, Loss_G: 1.9196, Acc_G: 21/32 = 65.6250\n"
     ]
    },
    {
     "name": "stderr",
     "output_type": "stream",
     "text": [
      " 97%|███████████████████████████████████████████████████████████████████████████████████▋  | 184/189 [03:46<00:06,  1.20s/it]"
     ]
    },
    {
     "name": "stdout",
     "output_type": "stream",
     "text": [
      "[6/200][184/189] ========== Loss_D: 1.4364, Loss_G: 1.8785, Acc_G: 25/32 = 78.1250\n"
     ]
    },
    {
     "name": "stderr",
     "output_type": "stream",
     "text": [
      " 98%|████████████████████████████████████████████████████████████████████████████████████▏ | 185/189 [03:48<00:04,  1.20s/it]"
     ]
    },
    {
     "name": "stdout",
     "output_type": "stream",
     "text": [
      "[6/200][185/189] ========== Loss_D: 1.4244, Loss_G: 1.9262, Acc_G: 21/32 = 65.6250\n"
     ]
    },
    {
     "name": "stderr",
     "output_type": "stream",
     "text": [
      " 98%|████████████████████████████████████████████████████████████████████████████████████▋ | 186/189 [03:49<00:03,  1.26s/it]"
     ]
    },
    {
     "name": "stdout",
     "output_type": "stream",
     "text": [
      "[6/200][186/189] ========== Loss_D: 1.4105, Loss_G: 1.8866, Acc_G: 25/32 = 78.1250\n"
     ]
    },
    {
     "name": "stderr",
     "output_type": "stream",
     "text": [
      " 99%|█████████████████████████████████████████████████████████████████████████████████████ | 187/189 [03:50<00:02,  1.26s/it]"
     ]
    },
    {
     "name": "stdout",
     "output_type": "stream",
     "text": [
      "[6/200][187/189] ========== Loss_D: 1.4353, Loss_G: 1.8268, Acc_G: 17/32 = 53.1250\n"
     ]
    },
    {
     "name": "stderr",
     "output_type": "stream",
     "text": [
      " 99%|█████████████████████████████████████████████████████████████████████████████████████▌| 188/189 [03:51<00:01,  1.17s/it]"
     ]
    },
    {
     "name": "stdout",
     "output_type": "stream",
     "text": [
      "[6/200][188/189] ========== Loss_D: 1.4282, Loss_G: 1.8293, Acc_G: 20/32 = 62.5000\n"
     ]
    },
    {
     "name": "stderr",
     "output_type": "stream",
     "text": [
      "100%|██████████████████████████████████████████████████████████████████████████████████████| 189/189 [03:52<00:00,  1.23s/it]\n"
     ]
    },
    {
     "name": "stdout",
     "output_type": "stream",
     "text": [
      "[6/200][189/189] ========== Loss_D: 1.4330, Loss_G: 2.0054, Acc_G: 4/8 = 50.0000\n",
      "---------------------< no model saved at epoch: 6 >---------------------\n"
     ]
    },
    {
     "name": "stderr",
     "output_type": "stream",
     "text": [
      "  1%|▍                                                                                       | 1/189 [00:02<06:36,  2.11s/it]"
     ]
    },
    {
     "name": "stdout",
     "output_type": "stream",
     "text": [
      "[7/200][1/189] ========== Loss_D: 1.4113, Loss_G: 1.7746, Acc_G: 19/32 = 59.3750\n"
     ]
    },
    {
     "name": "stderr",
     "output_type": "stream",
     "text": [
      "  1%|▉                                                                                       | 2/189 [00:03<04:54,  1.57s/it]"
     ]
    },
    {
     "name": "stdout",
     "output_type": "stream",
     "text": [
      "[7/200][2/189] ========== Loss_D: 1.4224, Loss_G: 1.8537, Acc_G: 22/32 = 68.7500\n"
     ]
    },
    {
     "name": "stderr",
     "output_type": "stream",
     "text": [
      "  2%|█▍                                                                                      | 3/189 [00:04<04:03,  1.31s/it]"
     ]
    },
    {
     "name": "stdout",
     "output_type": "stream",
     "text": [
      "[7/200][3/189] ========== Loss_D: 1.4162, Loss_G: 1.8455, Acc_G: 20/32 = 62.5000\n"
     ]
    },
    {
     "name": "stderr",
     "output_type": "stream",
     "text": [
      "  2%|█▊                                                                                      | 4/189 [00:05<03:41,  1.20s/it]"
     ]
    },
    {
     "name": "stdout",
     "output_type": "stream",
     "text": [
      "[7/200][4/189] ========== Loss_D: 1.4192, Loss_G: 1.7919, Acc_G: 23/32 = 71.8750\n"
     ]
    },
    {
     "name": "stderr",
     "output_type": "stream",
     "text": [
      "  3%|██▎                                                                                     | 5/189 [00:06<03:42,  1.21s/it]"
     ]
    },
    {
     "name": "stdout",
     "output_type": "stream",
     "text": [
      "[7/200][5/189] ========== Loss_D: 1.4179, Loss_G: 1.9060, Acc_G: 22/32 = 68.7500\n"
     ]
    },
    {
     "name": "stderr",
     "output_type": "stream",
     "text": [
      "  3%|██▊                                                                                     | 6/189 [00:07<03:36,  1.18s/it]"
     ]
    },
    {
     "name": "stdout",
     "output_type": "stream",
     "text": [
      "[7/200][6/189] ========== Loss_D: 1.4201, Loss_G: 1.7881, Acc_G: 21/32 = 65.6250\n"
     ]
    },
    {
     "name": "stderr",
     "output_type": "stream",
     "text": [
      "  4%|███▎                                                                                    | 7/189 [00:08<03:42,  1.22s/it]"
     ]
    },
    {
     "name": "stdout",
     "output_type": "stream",
     "text": [
      "[7/200][7/189] ========== Loss_D: 1.4201, Loss_G: 1.8196, Acc_G: 24/32 = 75.0000\n"
     ]
    },
    {
     "name": "stderr",
     "output_type": "stream",
     "text": [
      "  4%|███▋                                                                                    | 8/189 [00:10<03:52,  1.28s/it]"
     ]
    },
    {
     "name": "stdout",
     "output_type": "stream",
     "text": [
      "[7/200][8/189] ========== Loss_D: 1.4254, Loss_G: 1.9636, Acc_G: 23/32 = 71.8750\n"
     ]
    },
    {
     "name": "stderr",
     "output_type": "stream",
     "text": [
      "  5%|████▏                                                                                   | 9/189 [00:11<03:58,  1.33s/it]"
     ]
    },
    {
     "name": "stdout",
     "output_type": "stream",
     "text": [
      "[7/200][9/189] ========== Loss_D: 1.4373, Loss_G: 1.8178, Acc_G: 27/32 = 84.3750\n"
     ]
    },
    {
     "name": "stderr",
     "output_type": "stream",
     "text": [
      "  5%|████▌                                                                                  | 10/189 [00:12<03:43,  1.25s/it]"
     ]
    },
    {
     "name": "stdout",
     "output_type": "stream",
     "text": [
      "[7/200][10/189] ========== Loss_D: 1.4174, Loss_G: 1.8724, Acc_G: 20/32 = 62.5000\n"
     ]
    },
    {
     "name": "stderr",
     "output_type": "stream",
     "text": [
      "  6%|█████                                                                                  | 11/189 [00:14<03:39,  1.23s/it]"
     ]
    },
    {
     "name": "stdout",
     "output_type": "stream",
     "text": [
      "[7/200][11/189] ========== Loss_D: 1.4111, Loss_G: 1.8790, Acc_G: 26/32 = 81.2500\n"
     ]
    },
    {
     "name": "stderr",
     "output_type": "stream",
     "text": [
      "  6%|█████▌                                                                                 | 12/189 [00:15<03:29,  1.18s/it]"
     ]
    },
    {
     "name": "stdout",
     "output_type": "stream",
     "text": [
      "[7/200][12/189] ========== Loss_D: 1.4162, Loss_G: 1.8782, Acc_G: 20/32 = 62.5000\n"
     ]
    },
    {
     "name": "stderr",
     "output_type": "stream",
     "text": [
      "  7%|█████▉                                                                                 | 13/189 [00:16<03:34,  1.22s/it]"
     ]
    },
    {
     "name": "stdout",
     "output_type": "stream",
     "text": [
      "[7/200][13/189] ========== Loss_D: 1.4179, Loss_G: 1.8458, Acc_G: 19/32 = 59.3750\n"
     ]
    },
    {
     "name": "stderr",
     "output_type": "stream",
     "text": [
      "  7%|██████▍                                                                                | 14/189 [00:17<03:45,  1.29s/it]"
     ]
    },
    {
     "name": "stdout",
     "output_type": "stream",
     "text": [
      "[7/200][14/189] ========== Loss_D: 1.4164, Loss_G: 1.7511, Acc_G: 19/32 = 59.3750\n"
     ]
    },
    {
     "name": "stderr",
     "output_type": "stream",
     "text": [
      "  8%|██████▉                                                                                | 15/189 [00:19<03:39,  1.26s/it]"
     ]
    },
    {
     "name": "stdout",
     "output_type": "stream",
     "text": [
      "[7/200][15/189] ========== Loss_D: 1.4290, Loss_G: 1.8582, Acc_G: 26/32 = 81.2500\n"
     ]
    },
    {
     "name": "stderr",
     "output_type": "stream",
     "text": [
      "  8%|███████▎                                                                               | 16/189 [00:20<03:47,  1.32s/it]"
     ]
    },
    {
     "name": "stdout",
     "output_type": "stream",
     "text": [
      "[7/200][16/189] ========== Loss_D: 1.4363, Loss_G: 1.8596, Acc_G: 20/32 = 62.5000\n"
     ]
    },
    {
     "name": "stderr",
     "output_type": "stream",
     "text": [
      "  9%|███████▊                                                                               | 17/189 [00:21<03:21,  1.17s/it]"
     ]
    },
    {
     "name": "stdout",
     "output_type": "stream",
     "text": [
      "[7/200][17/189] ========== Loss_D: 1.4221, Loss_G: 1.8975, Acc_G: 22/32 = 68.7500\n"
     ]
    },
    {
     "name": "stderr",
     "output_type": "stream",
     "text": [
      " 10%|████████▎                                                                              | 18/189 [00:22<03:19,  1.17s/it]"
     ]
    },
    {
     "name": "stdout",
     "output_type": "stream",
     "text": [
      "[7/200][18/189] ========== Loss_D: 1.4084, Loss_G: 1.9473, Acc_G: 25/32 = 78.1250\n"
     ]
    },
    {
     "name": "stderr",
     "output_type": "stream",
     "text": [
      " 10%|████████▋                                                                              | 19/189 [00:24<03:32,  1.25s/it]"
     ]
    },
    {
     "name": "stdout",
     "output_type": "stream",
     "text": [
      "[7/200][19/189] ========== Loss_D: 1.4205, Loss_G: 1.8872, Acc_G: 21/32 = 65.6250\n"
     ]
    },
    {
     "name": "stderr",
     "output_type": "stream",
     "text": [
      " 11%|█████████▏                                                                             | 20/189 [00:25<03:31,  1.25s/it]"
     ]
    },
    {
     "name": "stdout",
     "output_type": "stream",
     "text": [
      "[7/200][20/189] ========== Loss_D: 1.4170, Loss_G: 1.8192, Acc_G: 24/32 = 75.0000\n"
     ]
    },
    {
     "name": "stderr",
     "output_type": "stream",
     "text": [
      " 11%|█████████▋                                                                             | 21/189 [00:26<03:17,  1.18s/it]"
     ]
    },
    {
     "name": "stdout",
     "output_type": "stream",
     "text": [
      "[7/200][21/189] ========== Loss_D: 1.4191, Loss_G: 1.7353, Acc_G: 24/32 = 75.0000\n"
     ]
    },
    {
     "name": "stderr",
     "output_type": "stream",
     "text": [
      " 12%|██████████▏                                                                            | 22/189 [00:27<03:22,  1.21s/it]"
     ]
    },
    {
     "name": "stdout",
     "output_type": "stream",
     "text": [
      "[7/200][22/189] ========== Loss_D: 1.4292, Loss_G: 1.9507, Acc_G: 22/32 = 68.7500\n"
     ]
    },
    {
     "name": "stderr",
     "output_type": "stream",
     "text": [
      " 12%|██████████▌                                                                            | 23/189 [00:28<03:15,  1.18s/it]"
     ]
    },
    {
     "name": "stdout",
     "output_type": "stream",
     "text": [
      "[7/200][23/189] ========== Loss_D: 1.4204, Loss_G: 1.8756, Acc_G: 24/32 = 75.0000\n"
     ]
    },
    {
     "name": "stderr",
     "output_type": "stream",
     "text": [
      " 13%|███████████                                                                            | 24/189 [00:29<03:02,  1.11s/it]"
     ]
    },
    {
     "name": "stdout",
     "output_type": "stream",
     "text": [
      "[7/200][24/189] ========== Loss_D: 1.4219, Loss_G: 1.8798, Acc_G: 20/32 = 62.5000\n"
     ]
    },
    {
     "name": "stderr",
     "output_type": "stream",
     "text": [
      " 13%|███████████▌                                                                           | 25/189 [00:30<03:00,  1.10s/it]"
     ]
    },
    {
     "name": "stdout",
     "output_type": "stream",
     "text": [
      "[7/200][25/189] ========== Loss_D: 1.4371, Loss_G: 1.9658, Acc_G: 23/32 = 71.8750\n"
     ]
    },
    {
     "name": "stderr",
     "output_type": "stream",
     "text": [
      " 14%|███████████▉                                                                           | 26/189 [00:32<03:16,  1.21s/it]"
     ]
    },
    {
     "name": "stdout",
     "output_type": "stream",
     "text": [
      "[7/200][26/189] ========== Loss_D: 1.4310, Loss_G: 1.8303, Acc_G: 18/32 = 56.2500\n"
     ]
    },
    {
     "name": "stderr",
     "output_type": "stream",
     "text": [
      " 14%|████████████▍                                                                          | 27/189 [00:33<03:15,  1.21s/it]"
     ]
    },
    {
     "name": "stdout",
     "output_type": "stream",
     "text": [
      "[7/200][27/189] ========== Loss_D: 1.4332, Loss_G: 1.8661, Acc_G: 19/32 = 59.3750\n"
     ]
    },
    {
     "name": "stderr",
     "output_type": "stream",
     "text": [
      " 15%|████████████▉                                                                          | 28/189 [00:34<03:04,  1.15s/it]"
     ]
    },
    {
     "name": "stdout",
     "output_type": "stream",
     "text": [
      "[7/200][28/189] ========== Loss_D: 1.4321, Loss_G: 1.7730, Acc_G: 24/32 = 75.0000\n"
     ]
    },
    {
     "name": "stderr",
     "output_type": "stream",
     "text": [
      " 15%|█████████████▎                                                                         | 29/189 [00:35<03:00,  1.13s/it]"
     ]
    },
    {
     "name": "stdout",
     "output_type": "stream",
     "text": [
      "[7/200][29/189] ========== Loss_D: 1.4303, Loss_G: 1.8646, Acc_G: 19/32 = 59.3750\n"
     ]
    },
    {
     "name": "stderr",
     "output_type": "stream",
     "text": [
      " 16%|█████████████▊                                                                         | 30/189 [00:36<03:15,  1.23s/it]"
     ]
    },
    {
     "name": "stdout",
     "output_type": "stream",
     "text": [
      "[7/200][30/189] ========== Loss_D: 1.4220, Loss_G: 1.8558, Acc_G: 30/32 = 93.7500\n"
     ]
    },
    {
     "name": "stderr",
     "output_type": "stream",
     "text": [
      " 16%|██████████████▎                                                                        | 31/189 [00:38<03:11,  1.21s/it]"
     ]
    },
    {
     "name": "stdout",
     "output_type": "stream",
     "text": [
      "[7/200][31/189] ========== Loss_D: 1.4235, Loss_G: 1.8204, Acc_G: 22/32 = 68.7500\n"
     ]
    },
    {
     "name": "stderr",
     "output_type": "stream",
     "text": [
      " 17%|██████████████▋                                                                        | 32/189 [00:39<03:08,  1.20s/it]"
     ]
    },
    {
     "name": "stdout",
     "output_type": "stream",
     "text": [
      "[7/200][32/189] ========== Loss_D: 1.4198, Loss_G: 1.9273, Acc_G: 23/32 = 71.8750\n"
     ]
    },
    {
     "name": "stderr",
     "output_type": "stream",
     "text": [
      " 17%|███████████████▏                                                                       | 33/189 [00:40<03:10,  1.22s/it]"
     ]
    },
    {
     "name": "stdout",
     "output_type": "stream",
     "text": [
      "[7/200][33/189] ========== Loss_D: 1.4387, Loss_G: 1.9423, Acc_G: 23/32 = 71.8750\n"
     ]
    },
    {
     "name": "stderr",
     "output_type": "stream",
     "text": [
      " 18%|███████████████▋                                                                       | 34/189 [00:41<03:06,  1.20s/it]"
     ]
    },
    {
     "name": "stdout",
     "output_type": "stream",
     "text": [
      "[7/200][34/189] ========== Loss_D: 1.4192, Loss_G: 1.8014, Acc_G: 20/32 = 62.5000\n"
     ]
    },
    {
     "name": "stderr",
     "output_type": "stream",
     "text": [
      " 19%|████████████████                                                                       | 35/189 [00:42<03:00,  1.17s/it]"
     ]
    },
    {
     "name": "stdout",
     "output_type": "stream",
     "text": [
      "[7/200][35/189] ========== Loss_D: 1.4159, Loss_G: 1.7223, Acc_G: 27/32 = 84.3750\n"
     ]
    },
    {
     "name": "stderr",
     "output_type": "stream",
     "text": [
      " 19%|████████████████▌                                                                      | 36/189 [00:43<02:57,  1.16s/it]"
     ]
    },
    {
     "name": "stdout",
     "output_type": "stream",
     "text": [
      "[7/200][36/189] ========== Loss_D: 1.4355, Loss_G: 1.8848, Acc_G: 26/32 = 81.2500\n"
     ]
    },
    {
     "name": "stderr",
     "output_type": "stream",
     "text": [
      " 20%|█████████████████                                                                      | 37/189 [00:45<03:02,  1.20s/it]"
     ]
    },
    {
     "name": "stdout",
     "output_type": "stream",
     "text": [
      "[7/200][37/189] ========== Loss_D: 1.4286, Loss_G: 1.8578, Acc_G: 19/32 = 59.3750\n"
     ]
    },
    {
     "name": "stderr",
     "output_type": "stream",
     "text": [
      " 20%|█████████████████▍                                                                     | 38/189 [00:46<02:58,  1.18s/it]"
     ]
    },
    {
     "name": "stdout",
     "output_type": "stream",
     "text": [
      "[7/200][38/189] ========== Loss_D: 1.4007, Loss_G: 1.8221, Acc_G: 25/32 = 78.1250\n"
     ]
    },
    {
     "name": "stderr",
     "output_type": "stream",
     "text": [
      " 21%|█████████████████▉                                                                     | 39/189 [00:47<02:51,  1.15s/it]"
     ]
    },
    {
     "name": "stdout",
     "output_type": "stream",
     "text": [
      "[7/200][39/189] ========== Loss_D: 1.4130, Loss_G: 1.8405, Acc_G: 19/32 = 59.3750\n"
     ]
    },
    {
     "name": "stderr",
     "output_type": "stream",
     "text": [
      " 21%|██████████████████▍                                                                    | 40/189 [00:48<02:50,  1.15s/it]"
     ]
    },
    {
     "name": "stdout",
     "output_type": "stream",
     "text": [
      "[7/200][40/189] ========== Loss_D: 1.4112, Loss_G: 1.7637, Acc_G: 23/32 = 71.8750\n"
     ]
    },
    {
     "name": "stderr",
     "output_type": "stream",
     "text": [
      " 22%|██████████████████▊                                                                    | 41/189 [00:49<03:02,  1.23s/it]"
     ]
    },
    {
     "name": "stdout",
     "output_type": "stream",
     "text": [
      "[7/200][41/189] ========== Loss_D: 1.4144, Loss_G: 1.8475, Acc_G: 22/32 = 68.7500\n"
     ]
    },
    {
     "name": "stderr",
     "output_type": "stream",
     "text": [
      " 22%|███████████████████▎                                                                   | 42/189 [00:50<02:48,  1.15s/it]"
     ]
    },
    {
     "name": "stdout",
     "output_type": "stream",
     "text": [
      "[7/200][42/189] ========== Loss_D: 1.4181, Loss_G: 1.9587, Acc_G: 20/32 = 62.5000\n"
     ]
    },
    {
     "name": "stderr",
     "output_type": "stream",
     "text": [
      " 23%|███████████████████▊                                                                   | 43/189 [00:52<02:57,  1.21s/it]"
     ]
    },
    {
     "name": "stdout",
     "output_type": "stream",
     "text": [
      "[7/200][43/189] ========== Loss_D: 1.4303, Loss_G: 1.8133, Acc_G: 25/32 = 78.1250\n"
     ]
    },
    {
     "name": "stderr",
     "output_type": "stream",
     "text": [
      " 23%|████████████████████▎                                                                  | 44/189 [00:53<02:57,  1.23s/it]"
     ]
    },
    {
     "name": "stdout",
     "output_type": "stream",
     "text": [
      "[7/200][44/189] ========== Loss_D: 1.4226, Loss_G: 1.8274, Acc_G: 22/32 = 68.7500\n"
     ]
    },
    {
     "name": "stderr",
     "output_type": "stream",
     "text": [
      " 24%|████████████████████▋                                                                  | 45/189 [00:54<02:58,  1.24s/it]"
     ]
    },
    {
     "name": "stdout",
     "output_type": "stream",
     "text": [
      "[7/200][45/189] ========== Loss_D: 1.4183, Loss_G: 1.7978, Acc_G: 23/32 = 71.8750\n"
     ]
    },
    {
     "name": "stderr",
     "output_type": "stream",
     "text": [
      " 24%|█████████████████████▏                                                                 | 46/189 [00:56<02:59,  1.25s/it]"
     ]
    },
    {
     "name": "stdout",
     "output_type": "stream",
     "text": [
      "[7/200][46/189] ========== Loss_D: 1.4271, Loss_G: 1.8513, Acc_G: 22/32 = 68.7500\n"
     ]
    },
    {
     "name": "stderr",
     "output_type": "stream",
     "text": [
      " 25%|█████████████████████▋                                                                 | 47/189 [00:57<03:01,  1.28s/it]"
     ]
    },
    {
     "name": "stdout",
     "output_type": "stream",
     "text": [
      "[7/200][47/189] ========== Loss_D: 1.4279, Loss_G: 1.7903, Acc_G: 23/32 = 71.8750\n"
     ]
    },
    {
     "name": "stderr",
     "output_type": "stream",
     "text": [
      " 25%|██████████████████████                                                                 | 48/189 [00:58<02:51,  1.21s/it]"
     ]
    },
    {
     "name": "stdout",
     "output_type": "stream",
     "text": [
      "[7/200][48/189] ========== Loss_D: 1.4155, Loss_G: 1.8069, Acc_G: 21/32 = 65.6250\n"
     ]
    },
    {
     "name": "stderr",
     "output_type": "stream",
     "text": [
      " 26%|██████████████████████▌                                                                | 49/189 [00:59<02:51,  1.22s/it]"
     ]
    },
    {
     "name": "stdout",
     "output_type": "stream",
     "text": [
      "[7/200][49/189] ========== Loss_D: 1.4059, Loss_G: 1.7980, Acc_G: 24/32 = 75.0000\n"
     ]
    },
    {
     "name": "stderr",
     "output_type": "stream",
     "text": [
      " 26%|███████████████████████                                                                | 50/189 [01:01<02:53,  1.25s/it]"
     ]
    },
    {
     "name": "stdout",
     "output_type": "stream",
     "text": [
      "[7/200][50/189] ========== Loss_D: 1.4341, Loss_G: 1.7898, Acc_G: 23/32 = 71.8750\n"
     ]
    },
    {
     "name": "stderr",
     "output_type": "stream",
     "text": [
      " 27%|███████████████████████▍                                                               | 51/189 [01:02<02:51,  1.25s/it]"
     ]
    },
    {
     "name": "stdout",
     "output_type": "stream",
     "text": [
      "[7/200][51/189] ========== Loss_D: 1.4114, Loss_G: 1.8476, Acc_G: 16/32 = 50.0000\n"
     ]
    },
    {
     "name": "stderr",
     "output_type": "stream",
     "text": [
      " 28%|███████████████████████▉                                                               | 52/189 [01:03<02:47,  1.22s/it]"
     ]
    },
    {
     "name": "stdout",
     "output_type": "stream",
     "text": [
      "[7/200][52/189] ========== Loss_D: 1.4389, Loss_G: 1.7715, Acc_G: 21/32 = 65.6250\n"
     ]
    },
    {
     "name": "stderr",
     "output_type": "stream",
     "text": [
      " 28%|████████████████████████▍                                                              | 53/189 [01:04<02:57,  1.31s/it]"
     ]
    },
    {
     "name": "stdout",
     "output_type": "stream",
     "text": [
      "[7/200][53/189] ========== Loss_D: 1.4083, Loss_G: 1.8234, Acc_G: 22/32 = 68.7500\n"
     ]
    },
    {
     "name": "stderr",
     "output_type": "stream",
     "text": [
      " 29%|████████████████████████▊                                                              | 54/189 [01:06<02:59,  1.33s/it]"
     ]
    },
    {
     "name": "stdout",
     "output_type": "stream",
     "text": [
      "[7/200][54/189] ========== Loss_D: 1.4251, Loss_G: 1.8683, Acc_G: 25/32 = 78.1250\n"
     ]
    },
    {
     "name": "stderr",
     "output_type": "stream",
     "text": [
      " 29%|█████████████████████████▎                                                             | 55/189 [01:07<02:45,  1.23s/it]"
     ]
    },
    {
     "name": "stdout",
     "output_type": "stream",
     "text": [
      "[7/200][55/189] ========== Loss_D: 1.3974, Loss_G: 1.8645, Acc_G: 26/32 = 81.2500\n"
     ]
    },
    {
     "name": "stderr",
     "output_type": "stream",
     "text": [
      " 30%|█████████████████████████▊                                                             | 56/189 [01:08<02:44,  1.24s/it]"
     ]
    },
    {
     "name": "stdout",
     "output_type": "stream",
     "text": [
      "[7/200][56/189] ========== Loss_D: 1.4052, Loss_G: 1.8355, Acc_G: 21/32 = 65.6250\n"
     ]
    },
    {
     "name": "stderr",
     "output_type": "stream",
     "text": [
      " 30%|██████████████████████████▏                                                            | 57/189 [01:09<02:44,  1.25s/it]"
     ]
    },
    {
     "name": "stdout",
     "output_type": "stream",
     "text": [
      "[7/200][57/189] ========== Loss_D: 1.4240, Loss_G: 1.8295, Acc_G: 27/32 = 84.3750\n"
     ]
    },
    {
     "name": "stderr",
     "output_type": "stream",
     "text": [
      " 31%|██████████████████████████▋                                                            | 58/189 [01:11<02:42,  1.24s/it]"
     ]
    },
    {
     "name": "stdout",
     "output_type": "stream",
     "text": [
      "[7/200][58/189] ========== Loss_D: 1.4238, Loss_G: 1.7413, Acc_G: 21/32 = 65.6250\n"
     ]
    },
    {
     "name": "stderr",
     "output_type": "stream",
     "text": [
      " 31%|███████████████████████████▏                                                           | 59/189 [01:12<02:44,  1.26s/it]"
     ]
    },
    {
     "name": "stdout",
     "output_type": "stream",
     "text": [
      "[7/200][59/189] ========== Loss_D: 1.4223, Loss_G: 1.8291, Acc_G: 22/32 = 68.7500\n"
     ]
    },
    {
     "name": "stderr",
     "output_type": "stream",
     "text": [
      " 32%|███████████████████████████▌                                                           | 60/189 [01:13<02:43,  1.27s/it]"
     ]
    },
    {
     "name": "stdout",
     "output_type": "stream",
     "text": [
      "[7/200][60/189] ========== Loss_D: 1.4399, Loss_G: 1.8548, Acc_G: 21/32 = 65.6250\n"
     ]
    },
    {
     "name": "stderr",
     "output_type": "stream",
     "text": [
      " 32%|████████████████████████████                                                           | 61/189 [01:15<02:59,  1.40s/it]"
     ]
    },
    {
     "name": "stdout",
     "output_type": "stream",
     "text": [
      "[7/200][61/189] ========== Loss_D: 1.4302, Loss_G: 1.8573, Acc_G: 20/32 = 62.5000\n"
     ]
    },
    {
     "name": "stderr",
     "output_type": "stream",
     "text": [
      " 33%|████████████████████████████▌                                                          | 62/189 [01:16<02:40,  1.26s/it]"
     ]
    },
    {
     "name": "stdout",
     "output_type": "stream",
     "text": [
      "[7/200][62/189] ========== Loss_D: 1.4084, Loss_G: 1.8995, Acc_G: 22/32 = 68.7500\n"
     ]
    },
    {
     "name": "stderr",
     "output_type": "stream",
     "text": [
      " 33%|█████████████████████████████                                                          | 63/189 [01:17<02:32,  1.21s/it]"
     ]
    },
    {
     "name": "stdout",
     "output_type": "stream",
     "text": [
      "[7/200][63/189] ========== Loss_D: 1.4186, Loss_G: 1.9511, Acc_G: 21/32 = 65.6250\n"
     ]
    },
    {
     "name": "stderr",
     "output_type": "stream",
     "text": [
      " 34%|█████████████████████████████▍                                                         | 64/189 [01:18<02:32,  1.22s/it]"
     ]
    },
    {
     "name": "stdout",
     "output_type": "stream",
     "text": [
      "[7/200][64/189] ========== Loss_D: 1.4088, Loss_G: 1.8165, Acc_G: 26/32 = 81.2500\n"
     ]
    },
    {
     "name": "stderr",
     "output_type": "stream",
     "text": [
      " 34%|█████████████████████████████▉                                                         | 65/189 [01:19<02:22,  1.15s/it]"
     ]
    },
    {
     "name": "stdout",
     "output_type": "stream",
     "text": [
      "[7/200][65/189] ========== Loss_D: 1.4078, Loss_G: 1.8770, Acc_G: 24/32 = 75.0000\n"
     ]
    },
    {
     "name": "stderr",
     "output_type": "stream",
     "text": [
      " 35%|██████████████████████████████▍                                                        | 66/189 [01:20<02:22,  1.16s/it]"
     ]
    },
    {
     "name": "stdout",
     "output_type": "stream",
     "text": [
      "[7/200][66/189] ========== Loss_D: 1.4125, Loss_G: 1.7894, Acc_G: 18/32 = 56.2500\n"
     ]
    },
    {
     "name": "stderr",
     "output_type": "stream",
     "text": [
      " 35%|██████████████████████████████▊                                                        | 67/189 [01:22<02:21,  1.16s/it]"
     ]
    },
    {
     "name": "stdout",
     "output_type": "stream",
     "text": [
      "[7/200][67/189] ========== Loss_D: 1.4150, Loss_G: 1.8589, Acc_G: 21/32 = 65.6250\n"
     ]
    },
    {
     "name": "stderr",
     "output_type": "stream",
     "text": [
      " 36%|███████████████████████████████▎                                                       | 68/189 [01:23<02:25,  1.21s/it]"
     ]
    },
    {
     "name": "stdout",
     "output_type": "stream",
     "text": [
      "[7/200][68/189] ========== Loss_D: 1.4012, Loss_G: 1.9216, Acc_G: 21/32 = 65.6250\n"
     ]
    },
    {
     "name": "stderr",
     "output_type": "stream",
     "text": [
      " 37%|███████████████████████████████▊                                                       | 69/189 [01:24<02:40,  1.34s/it]"
     ]
    },
    {
     "name": "stdout",
     "output_type": "stream",
     "text": [
      "[7/200][69/189] ========== Loss_D: 1.4250, Loss_G: 1.7953, Acc_G: 19/32 = 59.3750\n"
     ]
    },
    {
     "name": "stderr",
     "output_type": "stream",
     "text": [
      " 37%|████████████████████████████████▏                                                      | 70/189 [01:26<02:41,  1.36s/it]"
     ]
    },
    {
     "name": "stdout",
     "output_type": "stream",
     "text": [
      "[7/200][70/189] ========== Loss_D: 1.4202, Loss_G: 1.8234, Acc_G: 22/32 = 68.7500\n"
     ]
    },
    {
     "name": "stderr",
     "output_type": "stream",
     "text": [
      " 38%|████████████████████████████████▋                                                      | 71/189 [01:27<02:28,  1.26s/it]"
     ]
    },
    {
     "name": "stdout",
     "output_type": "stream",
     "text": [
      "[7/200][71/189] ========== Loss_D: 1.4273, Loss_G: 1.8926, Acc_G: 22/32 = 68.7500\n"
     ]
    },
    {
     "name": "stderr",
     "output_type": "stream",
     "text": [
      " 38%|█████████████████████████████████▏                                                     | 72/189 [01:28<02:21,  1.21s/it]"
     ]
    },
    {
     "name": "stdout",
     "output_type": "stream",
     "text": [
      "[7/200][72/189] ========== Loss_D: 1.4071, Loss_G: 1.8227, Acc_G: 21/32 = 65.6250\n"
     ]
    },
    {
     "name": "stderr",
     "output_type": "stream",
     "text": [
      " 39%|█████████████████████████████████▌                                                     | 73/189 [01:29<02:25,  1.26s/it]"
     ]
    },
    {
     "name": "stdout",
     "output_type": "stream",
     "text": [
      "[7/200][73/189] ========== Loss_D: 1.4208, Loss_G: 1.8389, Acc_G: 19/32 = 59.3750\n"
     ]
    },
    {
     "name": "stderr",
     "output_type": "stream",
     "text": [
      " 39%|██████████████████████████████████                                                     | 74/189 [01:31<02:31,  1.32s/it]"
     ]
    },
    {
     "name": "stdout",
     "output_type": "stream",
     "text": [
      "[7/200][74/189] ========== Loss_D: 1.4162, Loss_G: 1.8496, Acc_G: 24/32 = 75.0000\n"
     ]
    },
    {
     "name": "stderr",
     "output_type": "stream",
     "text": [
      " 40%|██████████████████████████████████▌                                                    | 75/189 [01:32<02:37,  1.38s/it]"
     ]
    },
    {
     "name": "stdout",
     "output_type": "stream",
     "text": [
      "[7/200][75/189] ========== Loss_D: 1.4254, Loss_G: 1.8613, Acc_G: 23/32 = 71.8750\n"
     ]
    },
    {
     "name": "stderr",
     "output_type": "stream",
     "text": [
      " 40%|██████████████████████████████████▉                                                    | 76/189 [01:34<02:35,  1.38s/it]"
     ]
    },
    {
     "name": "stdout",
     "output_type": "stream",
     "text": [
      "[7/200][76/189] ========== Loss_D: 1.4258, Loss_G: 1.7857, Acc_G: 24/32 = 75.0000\n"
     ]
    },
    {
     "name": "stderr",
     "output_type": "stream",
     "text": [
      " 41%|███████████████████████████████████▍                                                   | 77/189 [01:35<02:36,  1.40s/it]"
     ]
    },
    {
     "name": "stdout",
     "output_type": "stream",
     "text": [
      "[7/200][77/189] ========== Loss_D: 1.4258, Loss_G: 1.8254, Acc_G: 24/32 = 75.0000\n"
     ]
    },
    {
     "name": "stderr",
     "output_type": "stream",
     "text": [
      " 41%|███████████████████████████████████▉                                                   | 78/189 [01:36<02:23,  1.29s/it]"
     ]
    },
    {
     "name": "stdout",
     "output_type": "stream",
     "text": [
      "[7/200][78/189] ========== Loss_D: 1.4339, Loss_G: 1.9124, Acc_G: 22/32 = 68.7500\n"
     ]
    },
    {
     "name": "stderr",
     "output_type": "stream",
     "text": [
      " 42%|████████████████████████████████████▎                                                  | 79/189 [01:38<02:25,  1.32s/it]"
     ]
    },
    {
     "name": "stdout",
     "output_type": "stream",
     "text": [
      "[7/200][79/189] ========== Loss_D: 1.4089, Loss_G: 1.9602, Acc_G: 22/32 = 68.7500\n"
     ]
    },
    {
     "name": "stderr",
     "output_type": "stream",
     "text": [
      " 42%|████████████████████████████████████▊                                                  | 80/189 [01:39<02:19,  1.28s/it]"
     ]
    },
    {
     "name": "stdout",
     "output_type": "stream",
     "text": [
      "[7/200][80/189] ========== Loss_D: 1.4261, Loss_G: 1.8428, Acc_G: 21/32 = 65.6250\n"
     ]
    },
    {
     "name": "stderr",
     "output_type": "stream",
     "text": [
      " 43%|█████████████████████████████████████▎                                                 | 81/189 [01:40<02:13,  1.23s/it]"
     ]
    },
    {
     "name": "stdout",
     "output_type": "stream",
     "text": [
      "[7/200][81/189] ========== Loss_D: 1.4246, Loss_G: 1.7996, Acc_G: 27/32 = 84.3750\n"
     ]
    },
    {
     "name": "stderr",
     "output_type": "stream",
     "text": [
      " 43%|█████████████████████████████████████▋                                                 | 82/189 [01:42<02:32,  1.43s/it]"
     ]
    },
    {
     "name": "stdout",
     "output_type": "stream",
     "text": [
      "[7/200][82/189] ========== Loss_D: 1.4207, Loss_G: 1.8560, Acc_G: 28/32 = 87.5000\n"
     ]
    },
    {
     "name": "stderr",
     "output_type": "stream",
     "text": [
      " 44%|██████████████████████████████████████▏                                                | 83/189 [01:43<02:22,  1.35s/it]"
     ]
    },
    {
     "name": "stdout",
     "output_type": "stream",
     "text": [
      "[7/200][83/189] ========== Loss_D: 1.4265, Loss_G: 1.7820, Acc_G: 23/32 = 71.8750\n"
     ]
    },
    {
     "name": "stderr",
     "output_type": "stream",
     "text": [
      " 44%|██████████████████████████████████████▋                                                | 84/189 [01:44<02:20,  1.34s/it]"
     ]
    },
    {
     "name": "stdout",
     "output_type": "stream",
     "text": [
      "[7/200][84/189] ========== Loss_D: 1.4176, Loss_G: 1.7677, Acc_G: 22/32 = 68.7500\n"
     ]
    },
    {
     "name": "stderr",
     "output_type": "stream",
     "text": [
      " 45%|███████████████████████████████████████▏                                               | 85/189 [01:46<02:32,  1.47s/it]"
     ]
    },
    {
     "name": "stdout",
     "output_type": "stream",
     "text": [
      "[7/200][85/189] ========== Loss_D: 1.4080, Loss_G: 1.8868, Acc_G: 23/32 = 71.8750\n"
     ]
    },
    {
     "name": "stderr",
     "output_type": "stream",
     "text": [
      " 46%|███████████████████████████████████████▌                                               | 86/189 [01:47<02:17,  1.34s/it]"
     ]
    },
    {
     "name": "stdout",
     "output_type": "stream",
     "text": [
      "[7/200][86/189] ========== Loss_D: 1.4293, Loss_G: 1.8455, Acc_G: 23/32 = 71.8750\n"
     ]
    },
    {
     "name": "stderr",
     "output_type": "stream",
     "text": [
      " 46%|████████████████████████████████████████                                               | 87/189 [01:48<02:06,  1.24s/it]"
     ]
    },
    {
     "name": "stdout",
     "output_type": "stream",
     "text": [
      "[7/200][87/189] ========== Loss_D: 1.4386, Loss_G: 1.8435, Acc_G: 25/32 = 78.1250\n"
     ]
    },
    {
     "name": "stderr",
     "output_type": "stream",
     "text": [
      " 47%|████████████████████████████████████████▌                                              | 88/189 [01:49<02:06,  1.25s/it]"
     ]
    },
    {
     "name": "stdout",
     "output_type": "stream",
     "text": [
      "[7/200][88/189] ========== Loss_D: 1.4211, Loss_G: 1.7898, Acc_G: 20/32 = 62.5000\n"
     ]
    },
    {
     "name": "stderr",
     "output_type": "stream",
     "text": [
      " 47%|████████████████████████████████████████▉                                              | 89/189 [01:51<02:09,  1.29s/it]"
     ]
    },
    {
     "name": "stdout",
     "output_type": "stream",
     "text": [
      "[7/200][89/189] ========== Loss_D: 1.4388, Loss_G: 1.8047, Acc_G: 22/32 = 68.7500\n"
     ]
    },
    {
     "name": "stderr",
     "output_type": "stream",
     "text": [
      " 48%|█████████████████████████████████████████▍                                             | 90/189 [01:52<02:12,  1.34s/it]"
     ]
    },
    {
     "name": "stdout",
     "output_type": "stream",
     "text": [
      "[7/200][90/189] ========== Loss_D: 1.4299, Loss_G: 1.8763, Acc_G: 23/32 = 71.8750\n"
     ]
    },
    {
     "name": "stderr",
     "output_type": "stream",
     "text": [
      " 48%|█████████████████████████████████████████▉                                             | 91/189 [01:54<02:12,  1.35s/it]"
     ]
    },
    {
     "name": "stdout",
     "output_type": "stream",
     "text": [
      "[7/200][91/189] ========== Loss_D: 1.4193, Loss_G: 1.8597, Acc_G: 18/32 = 56.2500\n"
     ]
    },
    {
     "name": "stderr",
     "output_type": "stream",
     "text": [
      " 49%|██████████████████████████████████████████▎                                            | 92/189 [01:55<02:12,  1.37s/it]"
     ]
    },
    {
     "name": "stdout",
     "output_type": "stream",
     "text": [
      "[7/200][92/189] ========== Loss_D: 1.4248, Loss_G: 1.8878, Acc_G: 22/32 = 68.7500\n"
     ]
    },
    {
     "name": "stderr",
     "output_type": "stream",
     "text": [
      " 49%|██████████████████████████████████████████▊                                            | 93/189 [01:56<02:00,  1.25s/it]"
     ]
    },
    {
     "name": "stdout",
     "output_type": "stream",
     "text": [
      "[7/200][93/189] ========== Loss_D: 1.4272, Loss_G: 1.8957, Acc_G: 26/32 = 81.2500\n"
     ]
    },
    {
     "name": "stderr",
     "output_type": "stream",
     "text": [
      " 50%|███████████████████████████████████████████▎                                           | 94/189 [01:57<02:04,  1.31s/it]"
     ]
    },
    {
     "name": "stdout",
     "output_type": "stream",
     "text": [
      "[7/200][94/189] ========== Loss_D: 1.4259, Loss_G: 1.8228, Acc_G: 20/32 = 62.5000\n"
     ]
    },
    {
     "name": "stderr",
     "output_type": "stream",
     "text": [
      " 50%|███████████████████████████████████████████▋                                           | 95/189 [01:59<01:58,  1.26s/it]"
     ]
    },
    {
     "name": "stdout",
     "output_type": "stream",
     "text": [
      "[7/200][95/189] ========== Loss_D: 1.4492, Loss_G: 1.8226, Acc_G: 24/32 = 75.0000\n"
     ]
    },
    {
     "name": "stderr",
     "output_type": "stream",
     "text": [
      " 51%|████████████████████████████████████████████▏                                          | 96/189 [02:00<02:01,  1.31s/it]"
     ]
    },
    {
     "name": "stdout",
     "output_type": "stream",
     "text": [
      "[7/200][96/189] ========== Loss_D: 1.4204, Loss_G: 1.8224, Acc_G: 23/32 = 71.8750\n"
     ]
    },
    {
     "name": "stderr",
     "output_type": "stream",
     "text": [
      " 51%|████████████████████████████████████████████▋                                          | 97/189 [02:01<02:00,  1.31s/it]"
     ]
    },
    {
     "name": "stdout",
     "output_type": "stream",
     "text": [
      "[7/200][97/189] ========== Loss_D: 1.4361, Loss_G: 1.8958, Acc_G: 22/32 = 68.7500\n"
     ]
    },
    {
     "name": "stderr",
     "output_type": "stream",
     "text": [
      " 52%|█████████████████████████████████████████████                                          | 98/189 [02:03<02:11,  1.44s/it]"
     ]
    },
    {
     "name": "stdout",
     "output_type": "stream",
     "text": [
      "[7/200][98/189] ========== Loss_D: 1.4309, Loss_G: 1.8886, Acc_G: 22/32 = 68.7500\n"
     ]
    },
    {
     "name": "stderr",
     "output_type": "stream",
     "text": [
      " 52%|█████████████████████████████████████████████▌                                         | 99/189 [02:04<01:54,  1.27s/it]"
     ]
    },
    {
     "name": "stdout",
     "output_type": "stream",
     "text": [
      "[7/200][99/189] ========== Loss_D: 1.4088, Loss_G: 1.9240, Acc_G: 21/32 = 65.6250\n"
     ]
    },
    {
     "name": "stderr",
     "output_type": "stream",
     "text": [
      " 53%|█████████████████████████████████████████████▌                                        | 100/189 [02:05<01:50,  1.24s/it]"
     ]
    },
    {
     "name": "stdout",
     "output_type": "stream",
     "text": [
      "[7/200][100/189] ========== Loss_D: 1.4290, Loss_G: 1.8486, Acc_G: 22/32 = 68.7500\n"
     ]
    },
    {
     "name": "stderr",
     "output_type": "stream",
     "text": [
      " 53%|█████████████████████████████████████████████▉                                        | 101/189 [02:06<01:50,  1.25s/it]"
     ]
    },
    {
     "name": "stdout",
     "output_type": "stream",
     "text": [
      "[7/200][101/189] ========== Loss_D: 1.4163, Loss_G: 1.8616, Acc_G: 26/32 = 81.2500\n"
     ]
    },
    {
     "name": "stderr",
     "output_type": "stream",
     "text": [
      " 54%|██████████████████████████████████████████████▍                                       | 102/189 [02:08<01:46,  1.23s/it]"
     ]
    },
    {
     "name": "stdout",
     "output_type": "stream",
     "text": [
      "[7/200][102/189] ========== Loss_D: 1.4079, Loss_G: 1.8918, Acc_G: 26/32 = 81.2500\n"
     ]
    },
    {
     "name": "stderr",
     "output_type": "stream",
     "text": [
      " 54%|██████████████████████████████████████████████▊                                       | 103/189 [02:09<01:44,  1.21s/it]"
     ]
    },
    {
     "name": "stdout",
     "output_type": "stream",
     "text": [
      "[7/200][103/189] ========== Loss_D: 1.4093, Loss_G: 1.7791, Acc_G: 20/32 = 62.5000\n"
     ]
    },
    {
     "name": "stderr",
     "output_type": "stream",
     "text": [
      " 55%|███████████████████████████████████████████████▎                                      | 104/189 [02:10<01:43,  1.21s/it]"
     ]
    },
    {
     "name": "stdout",
     "output_type": "stream",
     "text": [
      "[7/200][104/189] ========== Loss_D: 1.4291, Loss_G: 1.8545, Acc_G: 22/32 = 68.7500\n"
     ]
    },
    {
     "name": "stderr",
     "output_type": "stream",
     "text": [
      " 56%|███████████████████████████████████████████████▊                                      | 105/189 [02:11<01:43,  1.24s/it]"
     ]
    },
    {
     "name": "stdout",
     "output_type": "stream",
     "text": [
      "[7/200][105/189] ========== Loss_D: 1.4208, Loss_G: 1.8888, Acc_G: 25/32 = 78.1250\n"
     ]
    },
    {
     "name": "stderr",
     "output_type": "stream",
     "text": [
      " 56%|████████████████████████████████████████████████▏                                     | 106/189 [02:13<01:45,  1.28s/it]"
     ]
    },
    {
     "name": "stdout",
     "output_type": "stream",
     "text": [
      "[7/200][106/189] ========== Loss_D: 1.4148, Loss_G: 1.7663, Acc_G: 28/32 = 87.5000\n"
     ]
    },
    {
     "name": "stderr",
     "output_type": "stream",
     "text": [
      " 57%|████████████████████████████████████████████████▋                                     | 107/189 [02:14<01:48,  1.32s/it]"
     ]
    },
    {
     "name": "stdout",
     "output_type": "stream",
     "text": [
      "[7/200][107/189] ========== Loss_D: 1.4153, Loss_G: 1.7783, Acc_G: 23/32 = 71.8750\n"
     ]
    },
    {
     "name": "stderr",
     "output_type": "stream",
     "text": [
      " 57%|█████████████████████████████████████████████████▏                                    | 108/189 [02:15<01:49,  1.36s/it]"
     ]
    },
    {
     "name": "stdout",
     "output_type": "stream",
     "text": [
      "[7/200][108/189] ========== Loss_D: 1.4201, Loss_G: 1.8115, Acc_G: 22/32 = 68.7500\n"
     ]
    },
    {
     "name": "stderr",
     "output_type": "stream",
     "text": [
      " 58%|█████████████████████████████████████████████████▌                                    | 109/189 [02:17<01:43,  1.29s/it]"
     ]
    },
    {
     "name": "stdout",
     "output_type": "stream",
     "text": [
      "[7/200][109/189] ========== Loss_D: 1.4238, Loss_G: 1.7901, Acc_G: 22/32 = 68.7500\n"
     ]
    },
    {
     "name": "stderr",
     "output_type": "stream",
     "text": [
      " 58%|██████████████████████████████████████████████████                                    | 110/189 [02:18<01:35,  1.21s/it]"
     ]
    },
    {
     "name": "stdout",
     "output_type": "stream",
     "text": [
      "[7/200][110/189] ========== Loss_D: 1.4228, Loss_G: 1.9250, Acc_G: 27/32 = 84.3750\n"
     ]
    },
    {
     "name": "stderr",
     "output_type": "stream",
     "text": [
      " 59%|██████████████████████████████████████████████████▌                                   | 111/189 [02:19<01:33,  1.20s/it]"
     ]
    },
    {
     "name": "stdout",
     "output_type": "stream",
     "text": [
      "[7/200][111/189] ========== Loss_D: 1.4294, Loss_G: 1.8649, Acc_G: 23/32 = 71.8750\n"
     ]
    },
    {
     "name": "stderr",
     "output_type": "stream",
     "text": [
      " 59%|██████████████████████████████████████████████████▉                                   | 112/189 [02:20<01:26,  1.12s/it]"
     ]
    },
    {
     "name": "stdout",
     "output_type": "stream",
     "text": [
      "[7/200][112/189] ========== Loss_D: 1.4253, Loss_G: 1.7901, Acc_G: 24/32 = 75.0000\n"
     ]
    },
    {
     "name": "stderr",
     "output_type": "stream",
     "text": [
      " 60%|███████████████████████████████████████████████████▍                                  | 113/189 [02:21<01:27,  1.15s/it]"
     ]
    },
    {
     "name": "stdout",
     "output_type": "stream",
     "text": [
      "[7/200][113/189] ========== Loss_D: 1.4232, Loss_G: 1.7666, Acc_G: 20/32 = 62.5000\n"
     ]
    },
    {
     "name": "stderr",
     "output_type": "stream",
     "text": [
      " 60%|███████████████████████████████████████████████████▊                                  | 114/189 [02:22<01:25,  1.14s/it]"
     ]
    },
    {
     "name": "stdout",
     "output_type": "stream",
     "text": [
      "[7/200][114/189] ========== Loss_D: 1.4199, Loss_G: 1.9446, Acc_G: 20/32 = 62.5000\n"
     ]
    },
    {
     "name": "stderr",
     "output_type": "stream",
     "text": [
      " 61%|████████████████████████████████████████████████████▎                                 | 115/189 [02:23<01:25,  1.15s/it]"
     ]
    },
    {
     "name": "stdout",
     "output_type": "stream",
     "text": [
      "[7/200][115/189] ========== Loss_D: 1.4234, Loss_G: 1.7711, Acc_G: 25/32 = 78.1250\n"
     ]
    },
    {
     "name": "stderr",
     "output_type": "stream",
     "text": [
      " 61%|████████████████████████████████████████████████████▊                                 | 116/189 [02:24<01:22,  1.12s/it]"
     ]
    },
    {
     "name": "stdout",
     "output_type": "stream",
     "text": [
      "[7/200][116/189] ========== Loss_D: 1.4203, Loss_G: 1.7781, Acc_G: 20/32 = 62.5000\n"
     ]
    },
    {
     "name": "stderr",
     "output_type": "stream",
     "text": [
      " 62%|█████████████████████████████████████████████████████▏                                | 117/189 [02:26<01:24,  1.17s/it]"
     ]
    },
    {
     "name": "stdout",
     "output_type": "stream",
     "text": [
      "[7/200][117/189] ========== Loss_D: 1.4392, Loss_G: 1.9378, Acc_G: 24/32 = 75.0000\n"
     ]
    },
    {
     "name": "stderr",
     "output_type": "stream",
     "text": [
      " 62%|█████████████████████████████████████████████████████▋                                | 118/189 [02:27<01:22,  1.16s/it]"
     ]
    },
    {
     "name": "stdout",
     "output_type": "stream",
     "text": [
      "[7/200][118/189] ========== Loss_D: 1.4238, Loss_G: 1.8751, Acc_G: 24/32 = 75.0000\n"
     ]
    },
    {
     "name": "stderr",
     "output_type": "stream",
     "text": [
      " 63%|██████████████████████████████████████████████████████▏                               | 119/189 [02:28<01:21,  1.16s/it]"
     ]
    },
    {
     "name": "stdout",
     "output_type": "stream",
     "text": [
      "[7/200][119/189] ========== Loss_D: 1.4283, Loss_G: 1.8229, Acc_G: 24/32 = 75.0000\n"
     ]
    },
    {
     "name": "stderr",
     "output_type": "stream",
     "text": [
      " 63%|██████████████████████████████████████████████████████▌                               | 120/189 [02:29<01:20,  1.17s/it]"
     ]
    },
    {
     "name": "stdout",
     "output_type": "stream",
     "text": [
      "[7/200][120/189] ========== Loss_D: 1.4254, Loss_G: 1.7728, Acc_G: 16/32 = 50.0000\n"
     ]
    },
    {
     "name": "stderr",
     "output_type": "stream",
     "text": [
      " 64%|███████████████████████████████████████████████████████                               | 121/189 [02:30<01:21,  1.20s/it]"
     ]
    },
    {
     "name": "stdout",
     "output_type": "stream",
     "text": [
      "[7/200][121/189] ========== Loss_D: 1.4127, Loss_G: 1.7656, Acc_G: 20/32 = 62.5000\n"
     ]
    },
    {
     "name": "stderr",
     "output_type": "stream",
     "text": [
      " 65%|███████████████████████████████████████████████████████▌                              | 122/189 [02:32<01:22,  1.23s/it]"
     ]
    },
    {
     "name": "stdout",
     "output_type": "stream",
     "text": [
      "[7/200][122/189] ========== Loss_D: 1.4447, Loss_G: 1.7967, Acc_G: 24/32 = 75.0000\n"
     ]
    },
    {
     "name": "stderr",
     "output_type": "stream",
     "text": [
      " 65%|███████████████████████████████████████████████████████▉                              | 123/189 [02:33<01:18,  1.19s/it]"
     ]
    },
    {
     "name": "stdout",
     "output_type": "stream",
     "text": [
      "[7/200][123/189] ========== Loss_D: 1.4316, Loss_G: 1.8501, Acc_G: 24/32 = 75.0000\n"
     ]
    },
    {
     "name": "stderr",
     "output_type": "stream",
     "text": [
      " 66%|████████████████████████████████████████████████████████▍                             | 124/189 [02:34<01:19,  1.23s/it]"
     ]
    },
    {
     "name": "stdout",
     "output_type": "stream",
     "text": [
      "[7/200][124/189] ========== Loss_D: 1.4250, Loss_G: 1.8953, Acc_G: 23/32 = 71.8750\n"
     ]
    },
    {
     "name": "stderr",
     "output_type": "stream",
     "text": [
      " 66%|████████████████████████████████████████████████████████▉                             | 125/189 [02:35<01:15,  1.18s/it]"
     ]
    },
    {
     "name": "stdout",
     "output_type": "stream",
     "text": [
      "[7/200][125/189] ========== Loss_D: 1.4336, Loss_G: 1.8200, Acc_G: 24/32 = 75.0000\n"
     ]
    },
    {
     "name": "stderr",
     "output_type": "stream",
     "text": [
      " 67%|█████████████████████████████████████████████████████████▎                            | 126/189 [02:37<01:20,  1.27s/it]"
     ]
    },
    {
     "name": "stdout",
     "output_type": "stream",
     "text": [
      "[7/200][126/189] ========== Loss_D: 1.4244, Loss_G: 1.8525, Acc_G: 21/32 = 65.6250\n"
     ]
    },
    {
     "name": "stderr",
     "output_type": "stream",
     "text": [
      " 67%|█████████████████████████████████████████████████████████▊                            | 127/189 [02:38<01:16,  1.23s/it]"
     ]
    },
    {
     "name": "stdout",
     "output_type": "stream",
     "text": [
      "[7/200][127/189] ========== Loss_D: 1.4138, Loss_G: 1.9147, Acc_G: 20/32 = 62.5000\n"
     ]
    },
    {
     "name": "stderr",
     "output_type": "stream",
     "text": [
      " 68%|██████████████████████████████████████████████████████████▏                           | 128/189 [02:40<01:26,  1.42s/it]"
     ]
    },
    {
     "name": "stdout",
     "output_type": "stream",
     "text": [
      "[7/200][128/189] ========== Loss_D: 1.4256, Loss_G: 1.7928, Acc_G: 23/32 = 71.8750\n"
     ]
    },
    {
     "name": "stderr",
     "output_type": "stream",
     "text": [
      " 68%|██████████████████████████████████████████████████████████▋                           | 129/189 [02:41<01:22,  1.37s/it]"
     ]
    },
    {
     "name": "stdout",
     "output_type": "stream",
     "text": [
      "[7/200][129/189] ========== Loss_D: 1.4258, Loss_G: 1.8116, Acc_G: 22/32 = 68.7500\n"
     ]
    },
    {
     "name": "stderr",
     "output_type": "stream",
     "text": [
      " 69%|███████████████████████████████████████████████████████████▏                          | 130/189 [02:42<01:18,  1.33s/it]"
     ]
    },
    {
     "name": "stdout",
     "output_type": "stream",
     "text": [
      "[7/200][130/189] ========== Loss_D: 1.4224, Loss_G: 1.9020, Acc_G: 25/32 = 78.1250\n"
     ]
    },
    {
     "name": "stderr",
     "output_type": "stream",
     "text": [
      " 69%|███████████████████████████████████████████████████████████▌                          | 131/189 [02:44<01:20,  1.38s/it]"
     ]
    },
    {
     "name": "stdout",
     "output_type": "stream",
     "text": [
      "[7/200][131/189] ========== Loss_D: 1.4203, Loss_G: 1.8099, Acc_G: 21/32 = 65.6250\n"
     ]
    },
    {
     "name": "stderr",
     "output_type": "stream",
     "text": [
      " 70%|████████████████████████████████████████████████████████████                          | 132/189 [02:45<01:11,  1.25s/it]"
     ]
    },
    {
     "name": "stdout",
     "output_type": "stream",
     "text": [
      "[7/200][132/189] ========== Loss_D: 1.4259, Loss_G: 1.8512, Acc_G: 21/32 = 65.6250\n"
     ]
    },
    {
     "name": "stderr",
     "output_type": "stream",
     "text": [
      " 70%|████████████████████████████████████████████████████████████▌                         | 133/189 [02:46<01:06,  1.19s/it]"
     ]
    },
    {
     "name": "stdout",
     "output_type": "stream",
     "text": [
      "[7/200][133/189] ========== Loss_D: 1.4378, Loss_G: 1.8144, Acc_G: 22/32 = 68.7500\n"
     ]
    },
    {
     "name": "stderr",
     "output_type": "stream",
     "text": [
      " 71%|████████████████████████████████████████████████████████████▉                         | 134/189 [02:47<01:08,  1.25s/it]"
     ]
    },
    {
     "name": "stdout",
     "output_type": "stream",
     "text": [
      "[7/200][134/189] ========== Loss_D: 1.4033, Loss_G: 1.9925, Acc_G: 26/32 = 81.2500\n"
     ]
    },
    {
     "name": "stderr",
     "output_type": "stream",
     "text": [
      " 71%|█████████████████████████████████████████████████████████████▍                        | 135/189 [02:48<01:05,  1.21s/it]"
     ]
    },
    {
     "name": "stdout",
     "output_type": "stream",
     "text": [
      "[7/200][135/189] ========== Loss_D: 1.4119, Loss_G: 1.7375, Acc_G: 25/32 = 78.1250\n"
     ]
    },
    {
     "name": "stderr",
     "output_type": "stream",
     "text": [
      " 72%|█████████████████████████████████████████████████████████████▉                        | 136/189 [02:49<01:01,  1.16s/it]"
     ]
    },
    {
     "name": "stdout",
     "output_type": "stream",
     "text": [
      "[7/200][136/189] ========== Loss_D: 1.4302, Loss_G: 1.8378, Acc_G: 21/32 = 65.6250\n"
     ]
    },
    {
     "name": "stderr",
     "output_type": "stream",
     "text": [
      " 72%|██████████████████████████████████████████████████████████████▎                       | 137/189 [02:50<00:59,  1.15s/it]"
     ]
    },
    {
     "name": "stdout",
     "output_type": "stream",
     "text": [
      "[7/200][137/189] ========== Loss_D: 1.4244, Loss_G: 1.7621, Acc_G: 26/32 = 81.2500\n"
     ]
    },
    {
     "name": "stderr",
     "output_type": "stream",
     "text": [
      " 73%|██████████████████████████████████████████████████████████████▊                       | 138/189 [02:52<01:01,  1.20s/it]"
     ]
    },
    {
     "name": "stdout",
     "output_type": "stream",
     "text": [
      "[7/200][138/189] ========== Loss_D: 1.4364, Loss_G: 1.8899, Acc_G: 22/32 = 68.7500\n"
     ]
    },
    {
     "name": "stderr",
     "output_type": "stream",
     "text": [
      " 74%|███████████████████████████████████████████████████████████████▏                      | 139/189 [02:53<01:02,  1.25s/it]"
     ]
    },
    {
     "name": "stdout",
     "output_type": "stream",
     "text": [
      "[7/200][139/189] ========== Loss_D: 1.4186, Loss_G: 1.8599, Acc_G: 22/32 = 68.7500\n"
     ]
    },
    {
     "name": "stderr",
     "output_type": "stream",
     "text": [
      " 74%|███████████████████████████████████████████████████████████████▋                      | 140/189 [02:54<01:01,  1.25s/it]"
     ]
    },
    {
     "name": "stdout",
     "output_type": "stream",
     "text": [
      "[7/200][140/189] ========== Loss_D: 1.4205, Loss_G: 1.8375, Acc_G: 28/32 = 87.5000\n"
     ]
    },
    {
     "name": "stderr",
     "output_type": "stream",
     "text": [
      " 75%|████████████████████████████████████████████████████████████████▏                     | 141/189 [02:55<00:56,  1.17s/it]"
     ]
    },
    {
     "name": "stdout",
     "output_type": "stream",
     "text": [
      "[7/200][141/189] ========== Loss_D: 1.4242, Loss_G: 1.8657, Acc_G: 22/32 = 68.7500\n"
     ]
    },
    {
     "name": "stderr",
     "output_type": "stream",
     "text": [
      " 75%|████████████████████████████████████████████████████████████████▌                     | 142/189 [02:57<00:58,  1.24s/it]"
     ]
    },
    {
     "name": "stdout",
     "output_type": "stream",
     "text": [
      "[7/200][142/189] ========== Loss_D: 1.4163, Loss_G: 1.9005, Acc_G: 23/32 = 71.8750\n"
     ]
    },
    {
     "name": "stderr",
     "output_type": "stream",
     "text": [
      " 76%|█████████████████████████████████████████████████████████████████                     | 143/189 [02:58<00:54,  1.19s/it]"
     ]
    },
    {
     "name": "stdout",
     "output_type": "stream",
     "text": [
      "[7/200][143/189] ========== Loss_D: 1.4186, Loss_G: 1.8356, Acc_G: 21/32 = 65.6250\n"
     ]
    },
    {
     "name": "stderr",
     "output_type": "stream",
     "text": [
      " 76%|█████████████████████████████████████████████████████████████████▌                    | 144/189 [02:59<00:53,  1.19s/it]"
     ]
    },
    {
     "name": "stdout",
     "output_type": "stream",
     "text": [
      "[7/200][144/189] ========== Loss_D: 1.4341, Loss_G: 1.7507, Acc_G: 19/32 = 59.3750\n"
     ]
    },
    {
     "name": "stderr",
     "output_type": "stream",
     "text": [
      " 77%|█████████████████████████████████████████████████████████████████▉                    | 145/189 [03:00<00:54,  1.24s/it]"
     ]
    },
    {
     "name": "stdout",
     "output_type": "stream",
     "text": [
      "[7/200][145/189] ========== Loss_D: 1.4283, Loss_G: 1.8674, Acc_G: 24/32 = 75.0000\n"
     ]
    },
    {
     "name": "stderr",
     "output_type": "stream",
     "text": [
      " 77%|██████████████████████████████████████████████████████████████████▍                   | 146/189 [03:01<00:50,  1.17s/it]"
     ]
    },
    {
     "name": "stdout",
     "output_type": "stream",
     "text": [
      "[7/200][146/189] ========== Loss_D: 1.4189, Loss_G: 1.8768, Acc_G: 25/32 = 78.1250\n"
     ]
    },
    {
     "name": "stderr",
     "output_type": "stream",
     "text": [
      " 78%|██████████████████████████████████████████████████████████████████▉                   | 147/189 [03:02<00:48,  1.15s/it]"
     ]
    },
    {
     "name": "stdout",
     "output_type": "stream",
     "text": [
      "[7/200][147/189] ========== Loss_D: 1.4102, Loss_G: 1.8139, Acc_G: 22/32 = 68.7500\n"
     ]
    },
    {
     "name": "stderr",
     "output_type": "stream",
     "text": [
      " 78%|███████████████████████████████████████████████████████████████████▎                  | 148/189 [03:04<00:49,  1.21s/it]"
     ]
    },
    {
     "name": "stdout",
     "output_type": "stream",
     "text": [
      "[7/200][148/189] ========== Loss_D: 1.4208, Loss_G: 1.8502, Acc_G: 23/32 = 71.8750\n"
     ]
    },
    {
     "name": "stderr",
     "output_type": "stream",
     "text": [
      " 79%|███████████████████████████████████████████████████████████████████▊                  | 149/189 [03:05<00:48,  1.22s/it]"
     ]
    },
    {
     "name": "stdout",
     "output_type": "stream",
     "text": [
      "[7/200][149/189] ========== Loss_D: 1.4189, Loss_G: 1.8368, Acc_G: 17/32 = 53.1250\n"
     ]
    },
    {
     "name": "stderr",
     "output_type": "stream",
     "text": [
      " 79%|████████████████████████████████████████████████████████████████████▎                 | 150/189 [03:06<00:47,  1.22s/it]"
     ]
    },
    {
     "name": "stdout",
     "output_type": "stream",
     "text": [
      "[7/200][150/189] ========== Loss_D: 1.4060, Loss_G: 1.9650, Acc_G: 30/32 = 93.7500\n"
     ]
    },
    {
     "name": "stderr",
     "output_type": "stream",
     "text": [
      " 80%|████████████████████████████████████████████████████████████████████▋                 | 151/189 [03:07<00:47,  1.24s/it]"
     ]
    },
    {
     "name": "stdout",
     "output_type": "stream",
     "text": [
      "[7/200][151/189] ========== Loss_D: 1.4199, Loss_G: 1.7612, Acc_G: 19/32 = 59.3750\n"
     ]
    },
    {
     "name": "stderr",
     "output_type": "stream",
     "text": [
      " 80%|█████████████████████████████████████████████████████████████████████▏                | 152/189 [03:09<00:45,  1.22s/it]"
     ]
    },
    {
     "name": "stdout",
     "output_type": "stream",
     "text": [
      "[7/200][152/189] ========== Loss_D: 1.4139, Loss_G: 1.9006, Acc_G: 27/32 = 84.3750\n"
     ]
    },
    {
     "name": "stderr",
     "output_type": "stream",
     "text": [
      " 81%|█████████████████████████████████████████████████████████████████████▌                | 153/189 [03:10<00:46,  1.29s/it]"
     ]
    },
    {
     "name": "stdout",
     "output_type": "stream",
     "text": [
      "[7/200][153/189] ========== Loss_D: 1.4222, Loss_G: 1.8826, Acc_G: 25/32 = 78.1250\n"
     ]
    },
    {
     "name": "stderr",
     "output_type": "stream",
     "text": [
      " 81%|██████████████████████████████████████████████████████████████████████                | 154/189 [03:11<00:42,  1.21s/it]"
     ]
    },
    {
     "name": "stdout",
     "output_type": "stream",
     "text": [
      "[7/200][154/189] ========== Loss_D: 1.4138, Loss_G: 1.8036, Acc_G: 25/32 = 78.1250\n"
     ]
    },
    {
     "name": "stderr",
     "output_type": "stream",
     "text": [
      " 82%|██████████████████████████████████████████████████████████████████████▌               | 155/189 [03:12<00:40,  1.20s/it]"
     ]
    },
    {
     "name": "stdout",
     "output_type": "stream",
     "text": [
      "[7/200][155/189] ========== Loss_D: 1.4244, Loss_G: 1.8433, Acc_G: 26/32 = 81.2500\n"
     ]
    },
    {
     "name": "stderr",
     "output_type": "stream",
     "text": [
      " 83%|██████████████████████████████████████████████████████████████████████▉               | 156/189 [03:13<00:37,  1.15s/it]"
     ]
    },
    {
     "name": "stdout",
     "output_type": "stream",
     "text": [
      "[7/200][156/189] ========== Loss_D: 1.4432, Loss_G: 1.8121, Acc_G: 26/32 = 81.2500\n"
     ]
    },
    {
     "name": "stderr",
     "output_type": "stream",
     "text": [
      " 83%|███████████████████████████████████████████████████████████████████████▍              | 157/189 [03:15<00:42,  1.32s/it]"
     ]
    },
    {
     "name": "stdout",
     "output_type": "stream",
     "text": [
      "[7/200][157/189] ========== Loss_D: 1.4295, Loss_G: 1.6713, Acc_G: 23/32 = 71.8750\n"
     ]
    },
    {
     "name": "stderr",
     "output_type": "stream",
     "text": [
      " 84%|███████████████████████████████████████████████████████████████████████▉              | 158/189 [03:16<00:39,  1.27s/it]"
     ]
    },
    {
     "name": "stdout",
     "output_type": "stream",
     "text": [
      "[7/200][158/189] ========== Loss_D: 1.4225, Loss_G: 1.8712, Acc_G: 23/32 = 71.8750\n"
     ]
    },
    {
     "name": "stderr",
     "output_type": "stream",
     "text": [
      " 84%|████████████████████████████████████████████████████████████████████████▎             | 159/189 [03:18<00:40,  1.34s/it]"
     ]
    },
    {
     "name": "stdout",
     "output_type": "stream",
     "text": [
      "[7/200][159/189] ========== Loss_D: 1.4147, Loss_G: 1.8646, Acc_G: 24/32 = 75.0000\n"
     ]
    },
    {
     "name": "stderr",
     "output_type": "stream",
     "text": [
      " 85%|████████████████████████████████████████████████████████████████████████▊             | 160/189 [03:19<00:37,  1.30s/it]"
     ]
    },
    {
     "name": "stdout",
     "output_type": "stream",
     "text": [
      "[7/200][160/189] ========== Loss_D: 1.4139, Loss_G: 1.8936, Acc_G: 26/32 = 81.2500\n"
     ]
    },
    {
     "name": "stderr",
     "output_type": "stream",
     "text": [
      " 85%|█████████████████████████████████████████████████████████████████████████▎            | 161/189 [03:20<00:37,  1.34s/it]"
     ]
    },
    {
     "name": "stdout",
     "output_type": "stream",
     "text": [
      "[7/200][161/189] ========== Loss_D: 1.4119, Loss_G: 1.7676, Acc_G: 25/32 = 78.1250\n"
     ]
    },
    {
     "name": "stderr",
     "output_type": "stream",
     "text": [
      " 86%|█████████████████████████████████████████████████████████████████████████▋            | 162/189 [03:21<00:32,  1.22s/it]"
     ]
    },
    {
     "name": "stdout",
     "output_type": "stream",
     "text": [
      "[7/200][162/189] ========== Loss_D: 1.4127, Loss_G: 1.8822, Acc_G: 25/32 = 78.1250\n"
     ]
    },
    {
     "name": "stderr",
     "output_type": "stream",
     "text": [
      " 86%|██████████████████████████████████████████████████████████████████████████▏           | 163/189 [03:22<00:31,  1.21s/it]"
     ]
    },
    {
     "name": "stdout",
     "output_type": "stream",
     "text": [
      "[7/200][163/189] ========== Loss_D: 1.4034, Loss_G: 1.9090, Acc_G: 19/32 = 59.3750\n"
     ]
    },
    {
     "name": "stderr",
     "output_type": "stream",
     "text": [
      " 87%|██████████████████████████████████████████████████████████████████████████▌           | 164/189 [03:23<00:28,  1.13s/it]"
     ]
    },
    {
     "name": "stdout",
     "output_type": "stream",
     "text": [
      "[7/200][164/189] ========== Loss_D: 1.4436, Loss_G: 1.9512, Acc_G: 25/32 = 78.1250\n"
     ]
    },
    {
     "name": "stderr",
     "output_type": "stream",
     "text": [
      " 87%|███████████████████████████████████████████████████████████████████████████           | 165/189 [03:25<00:28,  1.17s/it]"
     ]
    },
    {
     "name": "stdout",
     "output_type": "stream",
     "text": [
      "[7/200][165/189] ========== Loss_D: 1.4167, Loss_G: 1.8295, Acc_G: 24/32 = 75.0000\n"
     ]
    },
    {
     "name": "stderr",
     "output_type": "stream",
     "text": [
      " 88%|███████████████████████████████████████████████████████████████████████████▌          | 166/189 [03:26<00:26,  1.16s/it]"
     ]
    },
    {
     "name": "stdout",
     "output_type": "stream",
     "text": [
      "[7/200][166/189] ========== Loss_D: 1.4188, Loss_G: 1.8854, Acc_G: 22/32 = 68.7500\n"
     ]
    },
    {
     "name": "stderr",
     "output_type": "stream",
     "text": [
      " 88%|███████████████████████████████████████████████████████████████████████████▉          | 167/189 [03:27<00:27,  1.24s/it]"
     ]
    },
    {
     "name": "stdout",
     "output_type": "stream",
     "text": [
      "[7/200][167/189] ========== Loss_D: 1.4212, Loss_G: 1.8849, Acc_G: 17/32 = 53.1250\n"
     ]
    },
    {
     "name": "stderr",
     "output_type": "stream",
     "text": [
      " 89%|████████████████████████████████████████████████████████████████████████████▍         | 168/189 [03:28<00:26,  1.26s/it]"
     ]
    },
    {
     "name": "stdout",
     "output_type": "stream",
     "text": [
      "[7/200][168/189] ========== Loss_D: 1.4224, Loss_G: 1.7495, Acc_G: 25/32 = 78.1250\n"
     ]
    },
    {
     "name": "stderr",
     "output_type": "stream",
     "text": [
      " 89%|████████████████████████████████████████████████████████████████████████████▉         | 169/189 [03:30<00:24,  1.22s/it]"
     ]
    },
    {
     "name": "stdout",
     "output_type": "stream",
     "text": [
      "[7/200][169/189] ========== Loss_D: 1.4258, Loss_G: 1.7665, Acc_G: 28/32 = 87.5000\n"
     ]
    },
    {
     "name": "stderr",
     "output_type": "stream",
     "text": [
      " 90%|█████████████████████████████████████████████████████████████████████████████▎        | 170/189 [03:31<00:22,  1.16s/it]"
     ]
    },
    {
     "name": "stdout",
     "output_type": "stream",
     "text": [
      "[7/200][170/189] ========== Loss_D: 1.4389, Loss_G: 1.8377, Acc_G: 22/32 = 68.7500\n"
     ]
    },
    {
     "name": "stderr",
     "output_type": "stream",
     "text": [
      " 90%|█████████████████████████████████████████████████████████████████████████████▊        | 171/189 [03:32<00:23,  1.28s/it]"
     ]
    },
    {
     "name": "stdout",
     "output_type": "stream",
     "text": [
      "[7/200][171/189] ========== Loss_D: 1.4233, Loss_G: 1.7666, Acc_G: 20/32 = 62.5000\n"
     ]
    },
    {
     "name": "stderr",
     "output_type": "stream",
     "text": [
      " 91%|██████████████████████████████████████████████████████████████████████████████▎       | 172/189 [03:33<00:20,  1.21s/it]"
     ]
    },
    {
     "name": "stdout",
     "output_type": "stream",
     "text": [
      "[7/200][172/189] ========== Loss_D: 1.4038, Loss_G: 1.6859, Acc_G: 26/32 = 81.2500\n"
     ]
    },
    {
     "name": "stderr",
     "output_type": "stream",
     "text": [
      " 92%|██████████████████████████████████████████████████████████████████████████████▋       | 173/189 [03:34<00:19,  1.21s/it]"
     ]
    },
    {
     "name": "stdout",
     "output_type": "stream",
     "text": [
      "[7/200][173/189] ========== Loss_D: 1.4137, Loss_G: 1.9140, Acc_G: 20/32 = 62.5000\n"
     ]
    },
    {
     "name": "stderr",
     "output_type": "stream",
     "text": [
      " 92%|███████████████████████████████████████████████████████████████████████████████▏      | 174/189 [03:36<00:17,  1.19s/it]"
     ]
    },
    {
     "name": "stdout",
     "output_type": "stream",
     "text": [
      "[7/200][174/189] ========== Loss_D: 1.4182, Loss_G: 1.8477, Acc_G: 28/32 = 87.5000\n"
     ]
    },
    {
     "name": "stderr",
     "output_type": "stream",
     "text": [
      " 93%|███████████████████████████████████████████████████████████████████████████████▋      | 175/189 [03:37<00:16,  1.19s/it]"
     ]
    },
    {
     "name": "stdout",
     "output_type": "stream",
     "text": [
      "[7/200][175/189] ========== Loss_D: 1.4334, Loss_G: 1.8929, Acc_G: 22/32 = 68.7500\n"
     ]
    },
    {
     "name": "stderr",
     "output_type": "stream",
     "text": [
      " 93%|████████████████████████████████████████████████████████████████████████████████      | 176/189 [03:38<00:15,  1.19s/it]"
     ]
    },
    {
     "name": "stdout",
     "output_type": "stream",
     "text": [
      "[7/200][176/189] ========== Loss_D: 1.4289, Loss_G: 1.8774, Acc_G: 23/32 = 71.8750\n"
     ]
    },
    {
     "name": "stderr",
     "output_type": "stream",
     "text": [
      " 94%|████████████████████████████████████████████████████████████████████████████████▌     | 177/189 [03:39<00:14,  1.20s/it]"
     ]
    },
    {
     "name": "stdout",
     "output_type": "stream",
     "text": [
      "[7/200][177/189] ========== Loss_D: 1.4233, Loss_G: 1.7527, Acc_G: 19/32 = 59.3750\n"
     ]
    },
    {
     "name": "stderr",
     "output_type": "stream",
     "text": [
      " 94%|████████████████████████████████████████████████████████████████████████████████▉     | 178/189 [03:40<00:13,  1.21s/it]"
     ]
    },
    {
     "name": "stdout",
     "output_type": "stream",
     "text": [
      "[7/200][178/189] ========== Loss_D: 1.4289, Loss_G: 1.8399, Acc_G: 20/32 = 62.5000\n"
     ]
    },
    {
     "name": "stderr",
     "output_type": "stream",
     "text": [
      " 95%|█████████████████████████████████████████████████████████████████████████████████▍    | 179/189 [03:41<00:11,  1.12s/it]"
     ]
    },
    {
     "name": "stdout",
     "output_type": "stream",
     "text": [
      "[7/200][179/189] ========== Loss_D: 1.4150, Loss_G: 1.7415, Acc_G: 19/32 = 59.3750\n"
     ]
    },
    {
     "name": "stderr",
     "output_type": "stream",
     "text": [
      " 95%|█████████████████████████████████████████████████████████████████████████████████▉    | 180/189 [03:43<00:10,  1.17s/it]"
     ]
    },
    {
     "name": "stdout",
     "output_type": "stream",
     "text": [
      "[7/200][180/189] ========== Loss_D: 1.4058, Loss_G: 1.8563, Acc_G: 24/32 = 75.0000\n"
     ]
    },
    {
     "name": "stderr",
     "output_type": "stream",
     "text": [
      " 96%|██████████████████████████████████████████████████████████████████████████████████▎   | 181/189 [03:44<00:09,  1.14s/it]"
     ]
    },
    {
     "name": "stdout",
     "output_type": "stream",
     "text": [
      "[7/200][181/189] ========== Loss_D: 1.4225, Loss_G: 1.8737, Acc_G: 21/32 = 65.6250\n"
     ]
    },
    {
     "name": "stderr",
     "output_type": "stream",
     "text": [
      " 96%|██████████████████████████████████████████████████████████████████████████████████▊   | 182/189 [03:45<00:08,  1.20s/it]"
     ]
    },
    {
     "name": "stdout",
     "output_type": "stream",
     "text": [
      "[7/200][182/189] ========== Loss_D: 1.4184, Loss_G: 1.8282, Acc_G: 22/32 = 68.7500\n"
     ]
    },
    {
     "name": "stderr",
     "output_type": "stream",
     "text": [
      " 97%|███████████████████████████████████████████████████████████████████████████████████▎  | 183/189 [03:46<00:07,  1.24s/it]"
     ]
    },
    {
     "name": "stdout",
     "output_type": "stream",
     "text": [
      "[7/200][183/189] ========== Loss_D: 1.4064, Loss_G: 1.8231, Acc_G: 22/32 = 68.7500\n"
     ]
    },
    {
     "name": "stderr",
     "output_type": "stream",
     "text": [
      " 97%|███████████████████████████████████████████████████████████████████████████████████▋  | 184/189 [03:47<00:05,  1.13s/it]"
     ]
    },
    {
     "name": "stdout",
     "output_type": "stream",
     "text": [
      "[7/200][184/189] ========== Loss_D: 1.4057, Loss_G: 1.8028, Acc_G: 26/32 = 81.2500\n"
     ]
    },
    {
     "name": "stderr",
     "output_type": "stream",
     "text": [
      " 98%|████████████████████████████████████████████████████████████████████████████████████▏ | 185/189 [03:48<00:04,  1.13s/it]"
     ]
    },
    {
     "name": "stdout",
     "output_type": "stream",
     "text": [
      "[7/200][185/189] ========== Loss_D: 1.3956, Loss_G: 1.8403, Acc_G: 22/32 = 68.7500\n"
     ]
    },
    {
     "name": "stderr",
     "output_type": "stream",
     "text": [
      " 98%|████████████████████████████████████████████████████████████████████████████████████▋ | 186/189 [03:49<00:03,  1.10s/it]"
     ]
    },
    {
     "name": "stdout",
     "output_type": "stream",
     "text": [
      "[7/200][186/189] ========== Loss_D: 1.4237, Loss_G: 1.8216, Acc_G: 24/32 = 75.0000\n"
     ]
    },
    {
     "name": "stderr",
     "output_type": "stream",
     "text": [
      " 99%|█████████████████████████████████████████████████████████████████████████████████████ | 187/189 [03:51<00:02,  1.10s/it]"
     ]
    },
    {
     "name": "stdout",
     "output_type": "stream",
     "text": [
      "[7/200][187/189] ========== Loss_D: 1.4172, Loss_G: 1.7363, Acc_G: 25/32 = 78.1250\n"
     ]
    },
    {
     "name": "stderr",
     "output_type": "stream",
     "text": [
      " 99%|█████████████████████████████████████████████████████████████████████████████████████▌| 188/189 [03:52<00:01,  1.09s/it]"
     ]
    },
    {
     "name": "stdout",
     "output_type": "stream",
     "text": [
      "[7/200][188/189] ========== Loss_D: 1.4262, Loss_G: 1.8347, Acc_G: 20/32 = 62.5000\n"
     ]
    },
    {
     "name": "stderr",
     "output_type": "stream",
     "text": [
      "100%|██████████████████████████████████████████████████████████████████████████████████████| 189/189 [03:52<00:00,  1.23s/it]\n"
     ]
    },
    {
     "name": "stdout",
     "output_type": "stream",
     "text": [
      "[7/200][189/189] ========== Loss_D: 1.4138, Loss_G: 1.9211, Acc_G: 8/8 = 100.0000\n",
      "---------------------< no model saved at epoch: 7 >---------------------\n"
     ]
    },
    {
     "name": "stderr",
     "output_type": "stream",
     "text": [
      "  1%|▍                                                                                       | 1/189 [00:01<05:45,  1.84s/it]"
     ]
    },
    {
     "name": "stdout",
     "output_type": "stream",
     "text": [
      "[8/200][1/189] ========== Loss_D: 1.4103, Loss_G: 1.8037, Acc_G: 24/32 = 75.0000\n"
     ]
    },
    {
     "name": "stderr",
     "output_type": "stream",
     "text": [
      "  1%|▉                                                                                       | 2/189 [00:02<04:06,  1.32s/it]"
     ]
    },
    {
     "name": "stdout",
     "output_type": "stream",
     "text": [
      "[8/200][2/189] ========== Loss_D: 1.4216, Loss_G: 1.8659, Acc_G: 24/32 = 75.0000\n"
     ]
    },
    {
     "name": "stderr",
     "output_type": "stream",
     "text": [
      "  2%|█▍                                                                                      | 3/189 [00:03<03:53,  1.26s/it]"
     ]
    },
    {
     "name": "stdout",
     "output_type": "stream",
     "text": [
      "[8/200][3/189] ========== Loss_D: 1.4171, Loss_G: 1.9033, Acc_G: 27/32 = 84.3750\n"
     ]
    },
    {
     "name": "stderr",
     "output_type": "stream",
     "text": [
      "  2%|█▊                                                                                      | 4/189 [00:05<03:46,  1.23s/it]"
     ]
    },
    {
     "name": "stdout",
     "output_type": "stream",
     "text": [
      "[8/200][4/189] ========== Loss_D: 1.4174, Loss_G: 1.8862, Acc_G: 23/32 = 71.8750\n"
     ]
    },
    {
     "name": "stderr",
     "output_type": "stream",
     "text": [
      "  3%|██▎                                                                                     | 5/189 [00:06<03:47,  1.24s/it]"
     ]
    },
    {
     "name": "stdout",
     "output_type": "stream",
     "text": [
      "[8/200][5/189] ========== Loss_D: 1.4157, Loss_G: 1.7605, Acc_G: 23/32 = 71.8750\n"
     ]
    },
    {
     "name": "stderr",
     "output_type": "stream",
     "text": [
      "  3%|██▊                                                                                     | 6/189 [00:07<04:03,  1.33s/it]"
     ]
    },
    {
     "name": "stdout",
     "output_type": "stream",
     "text": [
      "[8/200][6/189] ========== Loss_D: 1.4157, Loss_G: 1.9074, Acc_G: 29/32 = 90.6250\n"
     ]
    },
    {
     "name": "stderr",
     "output_type": "stream",
     "text": [
      "  4%|███▎                                                                                    | 7/189 [00:09<04:15,  1.40s/it]"
     ]
    },
    {
     "name": "stdout",
     "output_type": "stream",
     "text": [
      "[8/200][7/189] ========== Loss_D: 1.4035, Loss_G: 1.8487, Acc_G: 21/32 = 65.6250\n"
     ]
    },
    {
     "name": "stderr",
     "output_type": "stream",
     "text": [
      "  4%|███▋                                                                                    | 8/189 [00:10<04:08,  1.37s/it]"
     ]
    },
    {
     "name": "stdout",
     "output_type": "stream",
     "text": [
      "[8/200][8/189] ========== Loss_D: 1.4236, Loss_G: 1.8467, Acc_G: 24/32 = 75.0000\n"
     ]
    },
    {
     "name": "stderr",
     "output_type": "stream",
     "text": [
      "  5%|████▏                                                                                   | 9/189 [00:12<04:01,  1.34s/it]"
     ]
    },
    {
     "name": "stdout",
     "output_type": "stream",
     "text": [
      "[8/200][9/189] ========== Loss_D: 1.4147, Loss_G: 1.8505, Acc_G: 28/32 = 87.5000\n"
     ]
    },
    {
     "name": "stderr",
     "output_type": "stream",
     "text": [
      "  5%|████▌                                                                                  | 10/189 [00:13<04:17,  1.44s/it]"
     ]
    },
    {
     "name": "stdout",
     "output_type": "stream",
     "text": [
      "[8/200][10/189] ========== Loss_D: 1.4216, Loss_G: 1.8841, Acc_G: 24/32 = 75.0000\n"
     ]
    },
    {
     "name": "stderr",
     "output_type": "stream",
     "text": [
      "  6%|█████                                                                                  | 11/189 [00:14<03:46,  1.27s/it]"
     ]
    },
    {
     "name": "stdout",
     "output_type": "stream",
     "text": [
      "[8/200][11/189] ========== Loss_D: 1.4195, Loss_G: 1.8064, Acc_G: 25/32 = 78.1250\n"
     ]
    },
    {
     "name": "stderr",
     "output_type": "stream",
     "text": [
      "  6%|█████▌                                                                                 | 12/189 [00:15<03:34,  1.21s/it]"
     ]
    },
    {
     "name": "stdout",
     "output_type": "stream",
     "text": [
      "[8/200][12/189] ========== Loss_D: 1.4163, Loss_G: 1.8583, Acc_G: 28/32 = 87.5000\n"
     ]
    },
    {
     "name": "stderr",
     "output_type": "stream",
     "text": [
      "  7%|█████▉                                                                                 | 13/189 [00:16<03:38,  1.24s/it]"
     ]
    },
    {
     "name": "stdout",
     "output_type": "stream",
     "text": [
      "[8/200][13/189] ========== Loss_D: 1.4321, Loss_G: 1.8071, Acc_G: 25/32 = 78.1250\n"
     ]
    },
    {
     "name": "stderr",
     "output_type": "stream",
     "text": [
      "  7%|██████▍                                                                                | 14/189 [00:18<03:47,  1.30s/it]"
     ]
    },
    {
     "name": "stdout",
     "output_type": "stream",
     "text": [
      "[8/200][14/189] ========== Loss_D: 1.4209, Loss_G: 1.8867, Acc_G: 22/32 = 68.7500\n"
     ]
    },
    {
     "name": "stderr",
     "output_type": "stream",
     "text": [
      "  8%|██████▉                                                                                | 15/189 [00:19<03:40,  1.27s/it]"
     ]
    },
    {
     "name": "stdout",
     "output_type": "stream",
     "text": [
      "[8/200][15/189] ========== Loss_D: 1.4154, Loss_G: 1.7298, Acc_G: 21/32 = 65.6250\n"
     ]
    },
    {
     "name": "stderr",
     "output_type": "stream",
     "text": [
      "  8%|███████▎                                                                               | 16/189 [00:20<03:31,  1.22s/it]"
     ]
    },
    {
     "name": "stdout",
     "output_type": "stream",
     "text": [
      "[8/200][16/189] ========== Loss_D: 1.4269, Loss_G: 1.9066, Acc_G: 23/32 = 71.8750\n"
     ]
    },
    {
     "name": "stderr",
     "output_type": "stream",
     "text": [
      "  9%|███████▊                                                                               | 17/189 [00:22<03:48,  1.33s/it]"
     ]
    },
    {
     "name": "stdout",
     "output_type": "stream",
     "text": [
      "[8/200][17/189] ========== Loss_D: 1.4170, Loss_G: 1.7528, Acc_G: 23/32 = 71.8750\n"
     ]
    },
    {
     "name": "stderr",
     "output_type": "stream",
     "text": [
      " 10%|████████▎                                                                              | 18/189 [00:23<03:41,  1.30s/it]"
     ]
    },
    {
     "name": "stdout",
     "output_type": "stream",
     "text": [
      "[8/200][18/189] ========== Loss_D: 1.4195, Loss_G: 1.8432, Acc_G: 27/32 = 84.3750\n"
     ]
    },
    {
     "name": "stderr",
     "output_type": "stream",
     "text": [
      " 10%|████████▋                                                                              | 19/189 [00:24<03:45,  1.33s/it]"
     ]
    },
    {
     "name": "stdout",
     "output_type": "stream",
     "text": [
      "[8/200][19/189] ========== Loss_D: 1.4382, Loss_G: 1.8314, Acc_G: 22/32 = 68.7500\n"
     ]
    },
    {
     "name": "stderr",
     "output_type": "stream",
     "text": [
      " 11%|█████████▏                                                                             | 20/189 [00:25<03:28,  1.23s/it]"
     ]
    },
    {
     "name": "stdout",
     "output_type": "stream",
     "text": [
      "[8/200][20/189] ========== Loss_D: 1.4268, Loss_G: 1.7643, Acc_G: 25/32 = 78.1250\n"
     ]
    },
    {
     "name": "stderr",
     "output_type": "stream",
     "text": [
      " 11%|█████████▋                                                                             | 21/189 [00:27<03:20,  1.19s/it]"
     ]
    },
    {
     "name": "stdout",
     "output_type": "stream",
     "text": [
      "[8/200][21/189] ========== Loss_D: 1.4281, Loss_G: 1.8248, Acc_G: 22/32 = 68.7500\n"
     ]
    },
    {
     "name": "stderr",
     "output_type": "stream",
     "text": [
      " 12%|██████████▏                                                                            | 22/189 [00:28<03:23,  1.22s/it]"
     ]
    },
    {
     "name": "stdout",
     "output_type": "stream",
     "text": [
      "[8/200][22/189] ========== Loss_D: 1.4172, Loss_G: 1.8322, Acc_G: 25/32 = 78.1250\n"
     ]
    },
    {
     "name": "stderr",
     "output_type": "stream",
     "text": [
      " 12%|██████████▌                                                                            | 23/189 [00:29<03:23,  1.23s/it]"
     ]
    },
    {
     "name": "stdout",
     "output_type": "stream",
     "text": [
      "[8/200][23/189] ========== Loss_D: 1.4190, Loss_G: 1.8329, Acc_G: 21/32 = 65.6250\n"
     ]
    },
    {
     "name": "stderr",
     "output_type": "stream",
     "text": [
      " 13%|███████████                                                                            | 24/189 [00:30<03:17,  1.20s/it]"
     ]
    },
    {
     "name": "stdout",
     "output_type": "stream",
     "text": [
      "[8/200][24/189] ========== Loss_D: 1.4208, Loss_G: 1.9013, Acc_G: 29/32 = 90.6250\n"
     ]
    },
    {
     "name": "stderr",
     "output_type": "stream",
     "text": [
      " 13%|███████████▌                                                                           | 25/189 [00:31<03:12,  1.17s/it]"
     ]
    },
    {
     "name": "stdout",
     "output_type": "stream",
     "text": [
      "[8/200][25/189] ========== Loss_D: 1.4241, Loss_G: 1.8422, Acc_G: 22/32 = 68.7500\n"
     ]
    },
    {
     "name": "stderr",
     "output_type": "stream",
     "text": [
      " 14%|███████████▉                                                                           | 26/189 [00:33<03:13,  1.19s/it]"
     ]
    },
    {
     "name": "stdout",
     "output_type": "stream",
     "text": [
      "[8/200][26/189] ========== Loss_D: 1.4145, Loss_G: 1.8665, Acc_G: 20/32 = 62.5000\n"
     ]
    },
    {
     "name": "stderr",
     "output_type": "stream",
     "text": [
      " 14%|████████████▍                                                                          | 27/189 [00:34<03:02,  1.13s/it]"
     ]
    },
    {
     "name": "stdout",
     "output_type": "stream",
     "text": [
      "[8/200][27/189] ========== Loss_D: 1.4181, Loss_G: 1.8656, Acc_G: 24/32 = 75.0000\n"
     ]
    },
    {
     "name": "stderr",
     "output_type": "stream",
     "text": [
      " 15%|████████████▉                                                                          | 28/189 [00:35<03:31,  1.31s/it]"
     ]
    },
    {
     "name": "stdout",
     "output_type": "stream",
     "text": [
      "[8/200][28/189] ========== Loss_D: 1.4179, Loss_G: 1.8672, Acc_G: 18/32 = 56.2500\n"
     ]
    },
    {
     "name": "stderr",
     "output_type": "stream",
     "text": [
      " 15%|█████████████▎                                                                         | 29/189 [00:37<03:27,  1.29s/it]"
     ]
    },
    {
     "name": "stdout",
     "output_type": "stream",
     "text": [
      "[8/200][29/189] ========== Loss_D: 1.4317, Loss_G: 1.6810, Acc_G: 27/32 = 84.3750\n"
     ]
    },
    {
     "name": "stderr",
     "output_type": "stream",
     "text": [
      " 16%|█████████████▊                                                                         | 30/189 [00:38<03:11,  1.20s/it]"
     ]
    },
    {
     "name": "stdout",
     "output_type": "stream",
     "text": [
      "[8/200][30/189] ========== Loss_D: 1.4161, Loss_G: 1.9092, Acc_G: 20/32 = 62.5000\n"
     ]
    },
    {
     "name": "stderr",
     "output_type": "stream",
     "text": [
      " 16%|██████████████▎                                                                        | 31/189 [00:39<03:19,  1.26s/it]"
     ]
    },
    {
     "name": "stdout",
     "output_type": "stream",
     "text": [
      "[8/200][31/189] ========== Loss_D: 1.4188, Loss_G: 1.9111, Acc_G: 26/32 = 81.2500\n"
     ]
    },
    {
     "name": "stderr",
     "output_type": "stream",
     "text": [
      " 17%|██████████████▋                                                                        | 32/189 [00:40<03:25,  1.31s/it]"
     ]
    },
    {
     "name": "stdout",
     "output_type": "stream",
     "text": [
      "[8/200][32/189] ========== Loss_D: 1.4225, Loss_G: 1.8473, Acc_G: 26/32 = 81.2500\n"
     ]
    },
    {
     "name": "stderr",
     "output_type": "stream",
     "text": [
      " 17%|███████████████▏                                                                       | 33/189 [00:42<03:25,  1.32s/it]"
     ]
    },
    {
     "name": "stdout",
     "output_type": "stream",
     "text": [
      "[8/200][33/189] ========== Loss_D: 1.4220, Loss_G: 1.8143, Acc_G: 22/32 = 68.7500\n"
     ]
    },
    {
     "name": "stderr",
     "output_type": "stream",
     "text": [
      " 18%|███████████████▋                                                                       | 34/189 [00:43<03:03,  1.19s/it]"
     ]
    },
    {
     "name": "stdout",
     "output_type": "stream",
     "text": [
      "[8/200][34/189] ========== Loss_D: 1.4314, Loss_G: 1.8641, Acc_G: 24/32 = 75.0000\n"
     ]
    },
    {
     "name": "stderr",
     "output_type": "stream",
     "text": [
      " 19%|████████████████                                                                       | 35/189 [00:44<02:59,  1.17s/it]"
     ]
    },
    {
     "name": "stdout",
     "output_type": "stream",
     "text": [
      "[8/200][35/189] ========== Loss_D: 1.4184, Loss_G: 1.7692, Acc_G: 24/32 = 75.0000\n"
     ]
    },
    {
     "name": "stderr",
     "output_type": "stream",
     "text": [
      " 19%|████████████████▌                                                                      | 36/189 [00:45<03:06,  1.22s/it]"
     ]
    },
    {
     "name": "stdout",
     "output_type": "stream",
     "text": [
      "[8/200][36/189] ========== Loss_D: 1.4188, Loss_G: 1.8293, Acc_G: 24/32 = 75.0000\n"
     ]
    },
    {
     "name": "stderr",
     "output_type": "stream",
     "text": [
      " 20%|█████████████████                                                                      | 37/189 [00:46<03:10,  1.25s/it]"
     ]
    },
    {
     "name": "stdout",
     "output_type": "stream",
     "text": [
      "[8/200][37/189] ========== Loss_D: 1.4211, Loss_G: 1.8292, Acc_G: 18/32 = 56.2500\n"
     ]
    },
    {
     "name": "stderr",
     "output_type": "stream",
     "text": [
      " 20%|█████████████████▍                                                                     | 38/189 [00:48<03:16,  1.30s/it]"
     ]
    },
    {
     "name": "stdout",
     "output_type": "stream",
     "text": [
      "[8/200][38/189] ========== Loss_D: 1.4238, Loss_G: 1.7355, Acc_G: 22/32 = 68.7500\n"
     ]
    },
    {
     "name": "stderr",
     "output_type": "stream",
     "text": [
      " 21%|█████████████████▉                                                                     | 39/189 [00:49<03:10,  1.27s/it]"
     ]
    },
    {
     "name": "stdout",
     "output_type": "stream",
     "text": [
      "[8/200][39/189] ========== Loss_D: 1.4317, Loss_G: 1.8611, Acc_G: 25/32 = 78.1250\n"
     ]
    },
    {
     "name": "stderr",
     "output_type": "stream",
     "text": [
      " 21%|██████████████████▍                                                                    | 40/189 [00:50<02:54,  1.17s/it]"
     ]
    },
    {
     "name": "stdout",
     "output_type": "stream",
     "text": [
      "[8/200][40/189] ========== Loss_D: 1.4057, Loss_G: 1.8583, Acc_G: 21/32 = 65.6250\n"
     ]
    },
    {
     "name": "stderr",
     "output_type": "stream",
     "text": [
      " 22%|██████████████████▊                                                                    | 41/189 [00:51<02:56,  1.19s/it]"
     ]
    },
    {
     "name": "stdout",
     "output_type": "stream",
     "text": [
      "[8/200][41/189] ========== Loss_D: 1.4066, Loss_G: 1.8796, Acc_G: 25/32 = 78.1250\n"
     ]
    },
    {
     "name": "stderr",
     "output_type": "stream",
     "text": [
      " 22%|███████████████████▎                                                                   | 42/189 [00:53<03:03,  1.25s/it]"
     ]
    },
    {
     "name": "stdout",
     "output_type": "stream",
     "text": [
      "[8/200][42/189] ========== Loss_D: 1.4267, Loss_G: 1.8756, Acc_G: 25/32 = 78.1250\n"
     ]
    },
    {
     "name": "stderr",
     "output_type": "stream",
     "text": [
      " 23%|███████████████████▊                                                                   | 43/189 [00:54<02:55,  1.20s/it]"
     ]
    },
    {
     "name": "stdout",
     "output_type": "stream",
     "text": [
      "[8/200][43/189] ========== Loss_D: 1.4181, Loss_G: 1.7973, Acc_G: 25/32 = 78.1250\n"
     ]
    },
    {
     "name": "stderr",
     "output_type": "stream",
     "text": [
      " 23%|████████████████████▎                                                                  | 44/189 [00:55<02:48,  1.16s/it]"
     ]
    },
    {
     "name": "stdout",
     "output_type": "stream",
     "text": [
      "[8/200][44/189] ========== Loss_D: 1.4107, Loss_G: 1.8221, Acc_G: 25/32 = 78.1250\n"
     ]
    },
    {
     "name": "stderr",
     "output_type": "stream",
     "text": [
      " 24%|████████████████████▋                                                                  | 45/189 [00:56<02:48,  1.17s/it]"
     ]
    },
    {
     "name": "stdout",
     "output_type": "stream",
     "text": [
      "[8/200][45/189] ========== Loss_D: 1.4128, Loss_G: 1.8481, Acc_G: 25/32 = 78.1250\n"
     ]
    },
    {
     "name": "stderr",
     "output_type": "stream",
     "text": [
      " 24%|█████████████████████▏                                                                 | 46/189 [00:57<02:49,  1.18s/it]"
     ]
    },
    {
     "name": "stdout",
     "output_type": "stream",
     "text": [
      "[8/200][46/189] ========== Loss_D: 1.4394, Loss_G: 1.8208, Acc_G: 26/32 = 81.2500\n"
     ]
    },
    {
     "name": "stderr",
     "output_type": "stream",
     "text": [
      " 25%|█████████████████████▋                                                                 | 47/189 [00:58<02:47,  1.18s/it]"
     ]
    },
    {
     "name": "stdout",
     "output_type": "stream",
     "text": [
      "[8/200][47/189] ========== Loss_D: 1.4263, Loss_G: 1.7231, Acc_G: 27/32 = 84.3750\n"
     ]
    },
    {
     "name": "stderr",
     "output_type": "stream",
     "text": [
      " 25%|██████████████████████                                                                 | 48/189 [00:59<02:38,  1.12s/it]"
     ]
    },
    {
     "name": "stdout",
     "output_type": "stream",
     "text": [
      "[8/200][48/189] ========== Loss_D: 1.4047, Loss_G: 1.8147, Acc_G: 26/32 = 81.2500\n"
     ]
    },
    {
     "name": "stderr",
     "output_type": "stream",
     "text": [
      " 26%|██████████████████████▌                                                                | 49/189 [01:01<02:47,  1.20s/it]"
     ]
    },
    {
     "name": "stdout",
     "output_type": "stream",
     "text": [
      "[8/200][49/189] ========== Loss_D: 1.4366, Loss_G: 1.8376, Acc_G: 23/32 = 71.8750\n"
     ]
    },
    {
     "name": "stderr",
     "output_type": "stream",
     "text": [
      " 26%|███████████████████████                                                                | 50/189 [01:02<02:53,  1.25s/it]"
     ]
    },
    {
     "name": "stdout",
     "output_type": "stream",
     "text": [
      "[8/200][50/189] ========== Loss_D: 1.4349, Loss_G: 1.8393, Acc_G: 22/32 = 68.7500\n"
     ]
    },
    {
     "name": "stderr",
     "output_type": "stream",
     "text": [
      " 27%|███████████████████████▍                                                               | 51/189 [01:04<03:04,  1.34s/it]"
     ]
    },
    {
     "name": "stdout",
     "output_type": "stream",
     "text": [
      "[8/200][51/189] ========== Loss_D: 1.4131, Loss_G: 1.7520, Acc_G: 21/32 = 65.6250\n"
     ]
    },
    {
     "name": "stderr",
     "output_type": "stream",
     "text": [
      " 28%|███████████████████████▉                                                               | 52/189 [01:05<02:57,  1.29s/it]"
     ]
    },
    {
     "name": "stdout",
     "output_type": "stream",
     "text": [
      "[8/200][52/189] ========== Loss_D: 1.4005, Loss_G: 1.7221, Acc_G: 23/32 = 71.8750\n"
     ]
    },
    {
     "name": "stderr",
     "output_type": "stream",
     "text": [
      " 28%|████████████████████████▍                                                              | 53/189 [01:06<02:48,  1.24s/it]"
     ]
    },
    {
     "name": "stdout",
     "output_type": "stream",
     "text": [
      "[8/200][53/189] ========== Loss_D: 1.4268, Loss_G: 1.8985, Acc_G: 25/32 = 78.1250\n"
     ]
    },
    {
     "name": "stderr",
     "output_type": "stream",
     "text": [
      " 29%|████████████████████████▊                                                              | 54/189 [01:07<02:46,  1.23s/it]"
     ]
    },
    {
     "name": "stdout",
     "output_type": "stream",
     "text": [
      "[8/200][54/189] ========== Loss_D: 1.4119, Loss_G: 1.8892, Acc_G: 24/32 = 75.0000\n"
     ]
    },
    {
     "name": "stderr",
     "output_type": "stream",
     "text": [
      " 29%|█████████████████████████▎                                                             | 55/189 [01:08<02:48,  1.26s/it]"
     ]
    },
    {
     "name": "stdout",
     "output_type": "stream",
     "text": [
      "[8/200][55/189] ========== Loss_D: 1.4210, Loss_G: 1.9231, Acc_G: 24/32 = 75.0000\n"
     ]
    },
    {
     "name": "stderr",
     "output_type": "stream",
     "text": [
      " 30%|█████████████████████████▊                                                             | 56/189 [01:10<02:49,  1.28s/it]"
     ]
    },
    {
     "name": "stdout",
     "output_type": "stream",
     "text": [
      "[8/200][56/189] ========== Loss_D: 1.4186, Loss_G: 1.8188, Acc_G: 26/32 = 81.2500\n"
     ]
    },
    {
     "name": "stderr",
     "output_type": "stream",
     "text": [
      " 30%|██████████████████████████▏                                                            | 57/189 [01:11<02:45,  1.26s/it]"
     ]
    },
    {
     "name": "stdout",
     "output_type": "stream",
     "text": [
      "[8/200][57/189] ========== Loss_D: 1.4137, Loss_G: 1.8472, Acc_G: 25/32 = 78.1250\n"
     ]
    },
    {
     "name": "stderr",
     "output_type": "stream",
     "text": [
      " 31%|██████████████████████████▋                                                            | 58/189 [01:12<02:42,  1.24s/it]"
     ]
    },
    {
     "name": "stdout",
     "output_type": "stream",
     "text": [
      "[8/200][58/189] ========== Loss_D: 1.4224, Loss_G: 1.8240, Acc_G: 23/32 = 71.8750\n"
     ]
    },
    {
     "name": "stderr",
     "output_type": "stream",
     "text": [
      " 31%|███████████████████████████▏                                                           | 59/189 [01:13<02:26,  1.13s/it]"
     ]
    },
    {
     "name": "stdout",
     "output_type": "stream",
     "text": [
      "[8/200][59/189] ========== Loss_D: 1.4239, Loss_G: 1.8996, Acc_G: 26/32 = 81.2500\n"
     ]
    },
    {
     "name": "stderr",
     "output_type": "stream",
     "text": [
      " 32%|███████████████████████████▌                                                           | 60/189 [01:14<02:22,  1.11s/it]"
     ]
    },
    {
     "name": "stdout",
     "output_type": "stream",
     "text": [
      "[8/200][60/189] ========== Loss_D: 1.4256, Loss_G: 1.7482, Acc_G: 24/32 = 75.0000\n"
     ]
    },
    {
     "name": "stderr",
     "output_type": "stream",
     "text": [
      " 32%|████████████████████████████                                                           | 61/189 [01:15<02:25,  1.13s/it]"
     ]
    },
    {
     "name": "stdout",
     "output_type": "stream",
     "text": [
      "[8/200][61/189] ========== Loss_D: 1.4030, Loss_G: 1.8406, Acc_G: 24/32 = 75.0000\n"
     ]
    },
    {
     "name": "stderr",
     "output_type": "stream",
     "text": [
      " 33%|████████████████████████████▌                                                          | 62/189 [01:16<02:18,  1.09s/it]"
     ]
    },
    {
     "name": "stdout",
     "output_type": "stream",
     "text": [
      "[8/200][62/189] ========== Loss_D: 1.4215, Loss_G: 1.8763, Acc_G: 26/32 = 81.2500\n"
     ]
    },
    {
     "name": "stderr",
     "output_type": "stream",
     "text": [
      " 33%|█████████████████████████████                                                          | 63/189 [01:17<02:15,  1.07s/it]"
     ]
    },
    {
     "name": "stdout",
     "output_type": "stream",
     "text": [
      "[8/200][63/189] ========== Loss_D: 1.4379, Loss_G: 1.8905, Acc_G: 24/32 = 75.0000\n"
     ]
    },
    {
     "name": "stderr",
     "output_type": "stream",
     "text": [
      " 34%|█████████████████████████████▍                                                         | 64/189 [01:19<02:22,  1.14s/it]"
     ]
    },
    {
     "name": "stdout",
     "output_type": "stream",
     "text": [
      "[8/200][64/189] ========== Loss_D: 1.4151, Loss_G: 1.7548, Acc_G: 30/32 = 93.7500\n"
     ]
    },
    {
     "name": "stderr",
     "output_type": "stream",
     "text": [
      " 34%|█████████████████████████████▉                                                         | 65/189 [01:20<02:23,  1.16s/it]"
     ]
    },
    {
     "name": "stdout",
     "output_type": "stream",
     "text": [
      "[8/200][65/189] ========== Loss_D: 1.4233, Loss_G: 1.8467, Acc_G: 26/32 = 81.2500\n"
     ]
    },
    {
     "name": "stderr",
     "output_type": "stream",
     "text": [
      " 35%|██████████████████████████████▍                                                        | 66/189 [01:21<02:23,  1.17s/it]"
     ]
    },
    {
     "name": "stdout",
     "output_type": "stream",
     "text": [
      "[8/200][66/189] ========== Loss_D: 1.4220, Loss_G: 1.7467, Acc_G: 29/32 = 90.6250\n"
     ]
    },
    {
     "name": "stderr",
     "output_type": "stream",
     "text": [
      " 35%|██████████████████████████████▊                                                        | 67/189 [01:22<02:18,  1.14s/it]"
     ]
    },
    {
     "name": "stdout",
     "output_type": "stream",
     "text": [
      "[8/200][67/189] ========== Loss_D: 1.4339, Loss_G: 1.7866, Acc_G: 20/32 = 62.5000\n"
     ]
    },
    {
     "name": "stderr",
     "output_type": "stream",
     "text": [
      " 36%|███████████████████████████████▎                                                       | 68/189 [01:23<02:28,  1.22s/it]"
     ]
    },
    {
     "name": "stdout",
     "output_type": "stream",
     "text": [
      "[8/200][68/189] ========== Loss_D: 1.4329, Loss_G: 1.7834, Acc_G: 23/32 = 71.8750\n"
     ]
    },
    {
     "name": "stderr",
     "output_type": "stream",
     "text": [
      " 37%|███████████████████████████████▊                                                       | 69/189 [01:25<02:31,  1.26s/it]"
     ]
    },
    {
     "name": "stdout",
     "output_type": "stream",
     "text": [
      "[8/200][69/189] ========== Loss_D: 1.4337, Loss_G: 1.8332, Acc_G: 22/32 = 68.7500\n"
     ]
    },
    {
     "name": "stderr",
     "output_type": "stream",
     "text": [
      " 37%|████████████████████████████████▏                                                      | 70/189 [01:26<02:25,  1.23s/it]"
     ]
    },
    {
     "name": "stdout",
     "output_type": "stream",
     "text": [
      "[8/200][70/189] ========== Loss_D: 1.4345, Loss_G: 1.9015, Acc_G: 27/32 = 84.3750\n"
     ]
    },
    {
     "name": "stderr",
     "output_type": "stream",
     "text": [
      " 38%|████████████████████████████████▋                                                      | 71/189 [01:27<02:15,  1.15s/it]"
     ]
    },
    {
     "name": "stdout",
     "output_type": "stream",
     "text": [
      "[8/200][71/189] ========== Loss_D: 1.4178, Loss_G: 1.8517, Acc_G: 20/32 = 62.5000\n"
     ]
    },
    {
     "name": "stderr",
     "output_type": "stream",
     "text": [
      " 38%|█████████████████████████████████▏                                                     | 72/189 [01:28<02:13,  1.14s/it]"
     ]
    },
    {
     "name": "stdout",
     "output_type": "stream",
     "text": [
      "[8/200][72/189] ========== Loss_D: 1.4287, Loss_G: 1.8351, Acc_G: 20/32 = 62.5000\n"
     ]
    },
    {
     "name": "stderr",
     "output_type": "stream",
     "text": [
      " 39%|█████████████████████████████████▌                                                     | 73/189 [01:29<02:08,  1.11s/it]"
     ]
    },
    {
     "name": "stdout",
     "output_type": "stream",
     "text": [
      "[8/200][73/189] ========== Loss_D: 1.4288, Loss_G: 1.8029, Acc_G: 25/32 = 78.1250\n"
     ]
    },
    {
     "name": "stderr",
     "output_type": "stream",
     "text": [
      " 39%|██████████████████████████████████                                                     | 74/189 [01:30<02:10,  1.13s/it]"
     ]
    },
    {
     "name": "stdout",
     "output_type": "stream",
     "text": [
      "[8/200][74/189] ========== Loss_D: 1.4010, Loss_G: 1.8616, Acc_G: 26/32 = 81.2500\n"
     ]
    },
    {
     "name": "stderr",
     "output_type": "stream",
     "text": [
      " 40%|██████████████████████████████████▌                                                    | 75/189 [01:32<02:14,  1.18s/it]"
     ]
    },
    {
     "name": "stdout",
     "output_type": "stream",
     "text": [
      "[8/200][75/189] ========== Loss_D: 1.4222, Loss_G: 1.7891, Acc_G: 21/32 = 65.6250\n"
     ]
    },
    {
     "name": "stderr",
     "output_type": "stream",
     "text": [
      " 40%|██████████████████████████████████▉                                                    | 76/189 [01:33<02:18,  1.23s/it]"
     ]
    },
    {
     "name": "stdout",
     "output_type": "stream",
     "text": [
      "[8/200][76/189] ========== Loss_D: 1.4282, Loss_G: 1.8216, Acc_G: 22/32 = 68.7500\n"
     ]
    },
    {
     "name": "stderr",
     "output_type": "stream",
     "text": [
      " 41%|███████████████████████████████████▍                                                   | 77/189 [01:34<02:19,  1.24s/it]"
     ]
    },
    {
     "name": "stdout",
     "output_type": "stream",
     "text": [
      "[8/200][77/189] ========== Loss_D: 1.4286, Loss_G: 1.8398, Acc_G: 25/32 = 78.1250\n"
     ]
    },
    {
     "name": "stderr",
     "output_type": "stream",
     "text": [
      " 41%|███████████████████████████████████▉                                                   | 78/189 [01:35<02:14,  1.22s/it]"
     ]
    },
    {
     "name": "stdout",
     "output_type": "stream",
     "text": [
      "[8/200][78/189] ========== Loss_D: 1.4184, Loss_G: 1.8171, Acc_G: 22/32 = 68.7500\n"
     ]
    },
    {
     "name": "stderr",
     "output_type": "stream",
     "text": [
      " 42%|████████████████████████████████████▎                                                  | 79/189 [01:36<02:05,  1.14s/it]"
     ]
    },
    {
     "name": "stdout",
     "output_type": "stream",
     "text": [
      "[8/200][79/189] ========== Loss_D: 1.4072, Loss_G: 1.7972, Acc_G: 24/32 = 75.0000\n"
     ]
    },
    {
     "name": "stderr",
     "output_type": "stream",
     "text": [
      " 42%|████████████████████████████████████▊                                                  | 80/189 [01:37<02:04,  1.15s/it]"
     ]
    },
    {
     "name": "stdout",
     "output_type": "stream",
     "text": [
      "[8/200][80/189] ========== Loss_D: 1.4223, Loss_G: 1.7839, Acc_G: 26/32 = 81.2500\n"
     ]
    },
    {
     "name": "stderr",
     "output_type": "stream",
     "text": [
      " 43%|█████████████████████████████████████▎                                                 | 81/189 [01:38<01:56,  1.08s/it]"
     ]
    },
    {
     "name": "stdout",
     "output_type": "stream",
     "text": [
      "[8/200][81/189] ========== Loss_D: 1.4257, Loss_G: 1.7385, Acc_G: 25/32 = 78.1250\n"
     ]
    },
    {
     "name": "stderr",
     "output_type": "stream",
     "text": [
      " 43%|█████████████████████████████████████▋                                                 | 82/189 [01:39<01:55,  1.08s/it]"
     ]
    },
    {
     "name": "stdout",
     "output_type": "stream",
     "text": [
      "[8/200][82/189] ========== Loss_D: 1.4258, Loss_G: 1.7493, Acc_G: 20/32 = 62.5000\n"
     ]
    },
    {
     "name": "stderr",
     "output_type": "stream",
     "text": [
      " 44%|██████████████████████████████████████▏                                                | 83/189 [01:40<01:52,  1.06s/it]"
     ]
    },
    {
     "name": "stdout",
     "output_type": "stream",
     "text": [
      "[8/200][83/189] ========== Loss_D: 1.4155, Loss_G: 1.8355, Acc_G: 24/32 = 75.0000\n"
     ]
    },
    {
     "name": "stderr",
     "output_type": "stream",
     "text": [
      " 44%|██████████████████████████████████████▋                                                | 84/189 [01:42<02:06,  1.20s/it]"
     ]
    },
    {
     "name": "stdout",
     "output_type": "stream",
     "text": [
      "[8/200][84/189] ========== Loss_D: 1.4089, Loss_G: 1.7919, Acc_G: 23/32 = 71.8750\n"
     ]
    },
    {
     "name": "stderr",
     "output_type": "stream",
     "text": [
      " 45%|███████████████████████████████████████▏                                               | 85/189 [01:43<02:09,  1.25s/it]"
     ]
    },
    {
     "name": "stdout",
     "output_type": "stream",
     "text": [
      "[8/200][85/189] ========== Loss_D: 1.4146, Loss_G: 1.8341, Acc_G: 27/32 = 84.3750\n"
     ]
    },
    {
     "name": "stderr",
     "output_type": "stream",
     "text": [
      " 46%|███████████████████████████████████████▌                                               | 86/189 [01:45<02:08,  1.25s/it]"
     ]
    },
    {
     "name": "stdout",
     "output_type": "stream",
     "text": [
      "[8/200][86/189] ========== Loss_D: 1.4254, Loss_G: 1.7933, Acc_G: 21/32 = 65.6250\n"
     ]
    },
    {
     "name": "stderr",
     "output_type": "stream",
     "text": [
      " 46%|████████████████████████████████████████                                               | 87/189 [01:46<02:03,  1.21s/it]"
     ]
    },
    {
     "name": "stdout",
     "output_type": "stream",
     "text": [
      "[8/200][87/189] ========== Loss_D: 1.4011, Loss_G: 1.8309, Acc_G: 23/32 = 71.8750\n"
     ]
    },
    {
     "name": "stderr",
     "output_type": "stream",
     "text": [
      " 47%|████████████████████████████████████████▌                                              | 88/189 [01:47<02:00,  1.19s/it]"
     ]
    },
    {
     "name": "stdout",
     "output_type": "stream",
     "text": [
      "[8/200][88/189] ========== Loss_D: 1.4245, Loss_G: 1.9790, Acc_G: 25/32 = 78.1250\n"
     ]
    },
    {
     "name": "stderr",
     "output_type": "stream",
     "text": [
      " 47%|████████████████████████████████████████▉                                              | 89/189 [01:48<02:02,  1.23s/it]"
     ]
    },
    {
     "name": "stdout",
     "output_type": "stream",
     "text": [
      "[8/200][89/189] ========== Loss_D: 1.4302, Loss_G: 1.9192, Acc_G: 24/32 = 75.0000\n"
     ]
    },
    {
     "name": "stderr",
     "output_type": "stream",
     "text": [
      " 48%|█████████████████████████████████████████▍                                             | 90/189 [01:50<02:06,  1.27s/it]"
     ]
    },
    {
     "name": "stdout",
     "output_type": "stream",
     "text": [
      "[8/200][90/189] ========== Loss_D: 1.4339, Loss_G: 1.7859, Acc_G: 24/32 = 75.0000\n"
     ]
    },
    {
     "name": "stderr",
     "output_type": "stream",
     "text": [
      " 48%|█████████████████████████████████████████▉                                             | 91/189 [01:51<02:11,  1.35s/it]"
     ]
    },
    {
     "name": "stdout",
     "output_type": "stream",
     "text": [
      "[8/200][91/189] ========== Loss_D: 1.4157, Loss_G: 1.7231, Acc_G: 20/32 = 62.5000\n"
     ]
    },
    {
     "name": "stderr",
     "output_type": "stream",
     "text": [
      " 49%|██████████████████████████████████████████▎                                            | 92/189 [01:52<02:06,  1.30s/it]"
     ]
    },
    {
     "name": "stdout",
     "output_type": "stream",
     "text": [
      "[8/200][92/189] ========== Loss_D: 1.4119, Loss_G: 1.7889, Acc_G: 24/32 = 75.0000\n"
     ]
    },
    {
     "name": "stderr",
     "output_type": "stream",
     "text": [
      " 49%|██████████████████████████████████████████▊                                            | 93/189 [01:54<02:12,  1.38s/it]"
     ]
    },
    {
     "name": "stdout",
     "output_type": "stream",
     "text": [
      "[8/200][93/189] ========== Loss_D: 1.4268, Loss_G: 1.7734, Acc_G: 25/32 = 78.1250\n"
     ]
    },
    {
     "name": "stderr",
     "output_type": "stream",
     "text": [
      " 50%|███████████████████████████████████████████▎                                           | 94/189 [01:55<02:14,  1.42s/it]"
     ]
    },
    {
     "name": "stdout",
     "output_type": "stream",
     "text": [
      "[8/200][94/189] ========== Loss_D: 1.4206, Loss_G: 1.8085, Acc_G: 25/32 = 78.1250\n"
     ]
    },
    {
     "name": "stderr",
     "output_type": "stream",
     "text": [
      " 50%|███████████████████████████████████████████▋                                           | 95/189 [01:56<02:03,  1.32s/it]"
     ]
    },
    {
     "name": "stdout",
     "output_type": "stream",
     "text": [
      "[8/200][95/189] ========== Loss_D: 1.4250, Loss_G: 1.7872, Acc_G: 20/32 = 62.5000\n"
     ]
    },
    {
     "name": "stderr",
     "output_type": "stream",
     "text": [
      " 51%|████████████████████████████████████████████▏                                          | 96/189 [01:58<02:14,  1.45s/it]"
     ]
    },
    {
     "name": "stdout",
     "output_type": "stream",
     "text": [
      "[8/200][96/189] ========== Loss_D: 1.4072, Loss_G: 1.8644, Acc_G: 20/32 = 62.5000\n"
     ]
    },
    {
     "name": "stderr",
     "output_type": "stream",
     "text": [
      " 51%|████████████████████████████████████████████▋                                          | 97/189 [02:00<02:10,  1.42s/it]"
     ]
    },
    {
     "name": "stdout",
     "output_type": "stream",
     "text": [
      "[8/200][97/189] ========== Loss_D: 1.4096, Loss_G: 1.9322, Acc_G: 22/32 = 68.7500\n"
     ]
    },
    {
     "name": "stderr",
     "output_type": "stream",
     "text": [
      " 52%|█████████████████████████████████████████████                                          | 98/189 [02:01<02:04,  1.37s/it]"
     ]
    },
    {
     "name": "stdout",
     "output_type": "stream",
     "text": [
      "[8/200][98/189] ========== Loss_D: 1.4132, Loss_G: 1.8722, Acc_G: 26/32 = 81.2500\n"
     ]
    },
    {
     "name": "stderr",
     "output_type": "stream",
     "text": [
      " 52%|█████████████████████████████████████████████▌                                         | 99/189 [02:02<02:05,  1.39s/it]"
     ]
    },
    {
     "name": "stdout",
     "output_type": "stream",
     "text": [
      "[8/200][99/189] ========== Loss_D: 1.4252, Loss_G: 1.8832, Acc_G: 29/32 = 90.6250\n"
     ]
    },
    {
     "name": "stderr",
     "output_type": "stream",
     "text": [
      " 53%|█████████████████████████████████████████████▌                                        | 100/189 [02:03<01:58,  1.33s/it]"
     ]
    },
    {
     "name": "stdout",
     "output_type": "stream",
     "text": [
      "[8/200][100/189] ========== Loss_D: 1.4087, Loss_G: 1.7770, Acc_G: 25/32 = 78.1250\n"
     ]
    },
    {
     "name": "stderr",
     "output_type": "stream",
     "text": [
      " 53%|█████████████████████████████████████████████▉                                        | 101/189 [02:05<01:56,  1.32s/it]"
     ]
    },
    {
     "name": "stdout",
     "output_type": "stream",
     "text": [
      "[8/200][101/189] ========== Loss_D: 1.4231, Loss_G: 1.9810, Acc_G: 26/32 = 81.2500\n"
     ]
    },
    {
     "name": "stderr",
     "output_type": "stream",
     "text": [
      " 54%|██████████████████████████████████████████████▍                                       | 102/189 [02:06<01:51,  1.28s/it]"
     ]
    },
    {
     "name": "stdout",
     "output_type": "stream",
     "text": [
      "[8/200][102/189] ========== Loss_D: 1.4129, Loss_G: 1.8453, Acc_G: 25/32 = 78.1250\n"
     ]
    },
    {
     "name": "stderr",
     "output_type": "stream",
     "text": [
      " 54%|██████████████████████████████████████████████▊                                       | 103/189 [02:07<01:51,  1.29s/it]"
     ]
    },
    {
     "name": "stdout",
     "output_type": "stream",
     "text": [
      "[8/200][103/189] ========== Loss_D: 1.4321, Loss_G: 1.8504, Acc_G: 25/32 = 78.1250\n"
     ]
    },
    {
     "name": "stderr",
     "output_type": "stream",
     "text": [
      " 55%|███████████████████████████████████████████████▎                                      | 104/189 [02:08<01:47,  1.26s/it]"
     ]
    },
    {
     "name": "stdout",
     "output_type": "stream",
     "text": [
      "[8/200][104/189] ========== Loss_D: 1.4234, Loss_G: 1.6580, Acc_G: 19/32 = 59.3750\n"
     ]
    },
    {
     "name": "stderr",
     "output_type": "stream",
     "text": [
      " 56%|███████████████████████████████████████████████▊                                      | 105/189 [02:09<01:41,  1.21s/it]"
     ]
    },
    {
     "name": "stdout",
     "output_type": "stream",
     "text": [
      "[8/200][105/189] ========== Loss_D: 1.4205, Loss_G: 1.8916, Acc_G: 24/32 = 75.0000\n"
     ]
    },
    {
     "name": "stderr",
     "output_type": "stream",
     "text": [
      " 56%|████████████████████████████████████████████████▏                                     | 106/189 [02:11<01:37,  1.17s/it]"
     ]
    },
    {
     "name": "stdout",
     "output_type": "stream",
     "text": [
      "[8/200][106/189] ========== Loss_D: 1.4195, Loss_G: 1.8918, Acc_G: 24/32 = 75.0000\n"
     ]
    },
    {
     "name": "stderr",
     "output_type": "stream",
     "text": [
      " 57%|████████████████████████████████████████████████▋                                     | 107/189 [02:12<01:35,  1.17s/it]"
     ]
    },
    {
     "name": "stdout",
     "output_type": "stream",
     "text": [
      "[8/200][107/189] ========== Loss_D: 1.4261, Loss_G: 1.8729, Acc_G: 23/32 = 71.8750\n"
     ]
    },
    {
     "name": "stderr",
     "output_type": "stream",
     "text": [
      " 57%|█████████████████████████████████████████████████▏                                    | 108/189 [02:13<01:41,  1.25s/it]"
     ]
    },
    {
     "name": "stdout",
     "output_type": "stream",
     "text": [
      "[8/200][108/189] ========== Loss_D: 1.4222, Loss_G: 1.8137, Acc_G: 26/32 = 81.2500\n"
     ]
    },
    {
     "name": "stderr",
     "output_type": "stream",
     "text": [
      " 58%|█████████████████████████████████████████████████▌                                    | 109/189 [02:14<01:40,  1.26s/it]"
     ]
    },
    {
     "name": "stdout",
     "output_type": "stream",
     "text": [
      "[8/200][109/189] ========== Loss_D: 1.4278, Loss_G: 1.8075, Acc_G: 26/32 = 81.2500\n"
     ]
    },
    {
     "name": "stderr",
     "output_type": "stream",
     "text": [
      " 58%|██████████████████████████████████████████████████                                    | 110/189 [02:16<01:38,  1.25s/it]"
     ]
    },
    {
     "name": "stdout",
     "output_type": "stream",
     "text": [
      "[8/200][110/189] ========== Loss_D: 1.4248, Loss_G: 1.7835, Acc_G: 23/32 = 71.8750\n"
     ]
    },
    {
     "name": "stderr",
     "output_type": "stream",
     "text": [
      " 59%|██████████████████████████████████████████████████▌                                   | 111/189 [02:17<01:35,  1.22s/it]"
     ]
    },
    {
     "name": "stdout",
     "output_type": "stream",
     "text": [
      "[8/200][111/189] ========== Loss_D: 1.4080, Loss_G: 1.8642, Acc_G: 19/32 = 59.3750\n"
     ]
    },
    {
     "name": "stderr",
     "output_type": "stream",
     "text": [
      " 59%|██████████████████████████████████████████████████▉                                   | 112/189 [02:19<01:45,  1.38s/it]"
     ]
    },
    {
     "name": "stdout",
     "output_type": "stream",
     "text": [
      "[8/200][112/189] ========== Loss_D: 1.4197, Loss_G: 1.8803, Acc_G: 23/32 = 71.8750\n"
     ]
    },
    {
     "name": "stderr",
     "output_type": "stream",
     "text": [
      " 60%|███████████████████████████████████████████████████▍                                  | 113/189 [02:20<01:40,  1.33s/it]"
     ]
    },
    {
     "name": "stdout",
     "output_type": "stream",
     "text": [
      "[8/200][113/189] ========== Loss_D: 1.4342, Loss_G: 1.7867, Acc_G: 23/32 = 71.8750\n"
     ]
    },
    {
     "name": "stderr",
     "output_type": "stream",
     "text": [
      " 60%|███████████████████████████████████████████████████▊                                  | 114/189 [02:21<01:36,  1.29s/it]"
     ]
    },
    {
     "name": "stdout",
     "output_type": "stream",
     "text": [
      "[8/200][114/189] ========== Loss_D: 1.4299, Loss_G: 1.8876, Acc_G: 24/32 = 75.0000\n"
     ]
    },
    {
     "name": "stderr",
     "output_type": "stream",
     "text": [
      " 61%|████████████████████████████████████████████████████▎                                 | 115/189 [02:22<01:36,  1.30s/it]"
     ]
    },
    {
     "name": "stdout",
     "output_type": "stream",
     "text": [
      "[8/200][115/189] ========== Loss_D: 1.4281, Loss_G: 1.8701, Acc_G: 26/32 = 81.2500\n"
     ]
    },
    {
     "name": "stderr",
     "output_type": "stream",
     "text": [
      " 61%|████████████████████████████████████████████████████▊                                 | 116/189 [02:24<01:38,  1.34s/it]"
     ]
    },
    {
     "name": "stdout",
     "output_type": "stream",
     "text": [
      "[8/200][116/189] ========== Loss_D: 1.4189, Loss_G: 1.7318, Acc_G: 23/32 = 71.8750\n"
     ]
    },
    {
     "name": "stderr",
     "output_type": "stream",
     "text": [
      " 62%|█████████████████████████████████████████████████████▏                                | 117/189 [02:25<01:36,  1.34s/it]"
     ]
    },
    {
     "name": "stdout",
     "output_type": "stream",
     "text": [
      "[8/200][117/189] ========== Loss_D: 1.4147, Loss_G: 1.9183, Acc_G: 23/32 = 71.8750\n"
     ]
    },
    {
     "name": "stderr",
     "output_type": "stream",
     "text": [
      " 62%|█████████████████████████████████████████████████████▋                                | 118/189 [02:26<01:34,  1.33s/it]"
     ]
    },
    {
     "name": "stdout",
     "output_type": "stream",
     "text": [
      "[8/200][118/189] ========== Loss_D: 1.4395, Loss_G: 1.9815, Acc_G: 27/32 = 84.3750\n"
     ]
    },
    {
     "name": "stderr",
     "output_type": "stream",
     "text": [
      " 63%|██████████████████████████████████████████████████████▏                               | 119/189 [02:28<01:34,  1.36s/it]"
     ]
    },
    {
     "name": "stdout",
     "output_type": "stream",
     "text": [
      "[8/200][119/189] ========== Loss_D: 1.4177, Loss_G: 1.8382, Acc_G: 24/32 = 75.0000\n"
     ]
    },
    {
     "name": "stderr",
     "output_type": "stream",
     "text": [
      " 63%|██████████████████████████████████████████████████████▌                               | 120/189 [02:29<01:28,  1.28s/it]"
     ]
    },
    {
     "name": "stdout",
     "output_type": "stream",
     "text": [
      "[8/200][120/189] ========== Loss_D: 1.4231, Loss_G: 1.8057, Acc_G: 19/32 = 59.3750\n"
     ]
    },
    {
     "name": "stderr",
     "output_type": "stream",
     "text": [
      " 64%|███████████████████████████████████████████████████████                               | 121/189 [02:30<01:30,  1.34s/it]"
     ]
    },
    {
     "name": "stdout",
     "output_type": "stream",
     "text": [
      "[8/200][121/189] ========== Loss_D: 1.4249, Loss_G: 1.8440, Acc_G: 24/32 = 75.0000\n"
     ]
    },
    {
     "name": "stderr",
     "output_type": "stream",
     "text": [
      " 65%|███████████████████████████████████████████████████████▌                              | 122/189 [02:32<01:32,  1.39s/it]"
     ]
    },
    {
     "name": "stdout",
     "output_type": "stream",
     "text": [
      "[8/200][122/189] ========== Loss_D: 1.4235, Loss_G: 1.9077, Acc_G: 25/32 = 78.1250\n"
     ]
    },
    {
     "name": "stderr",
     "output_type": "stream",
     "text": [
      " 65%|███████████████████████████████████████████████████████▉                              | 123/189 [02:33<01:22,  1.25s/it]"
     ]
    },
    {
     "name": "stdout",
     "output_type": "stream",
     "text": [
      "[8/200][123/189] ========== Loss_D: 1.4195, Loss_G: 1.8955, Acc_G: 23/32 = 71.8750\n"
     ]
    },
    {
     "name": "stderr",
     "output_type": "stream",
     "text": [
      " 66%|████████████████████████████████████████████████████████▍                             | 124/189 [02:34<01:21,  1.26s/it]"
     ]
    },
    {
     "name": "stdout",
     "output_type": "stream",
     "text": [
      "[8/200][124/189] ========== Loss_D: 1.4272, Loss_G: 1.8327, Acc_G: 29/32 = 90.6250\n"
     ]
    },
    {
     "name": "stderr",
     "output_type": "stream",
     "text": [
      " 66%|████████████████████████████████████████████████████████▉                             | 125/189 [02:35<01:20,  1.25s/it]"
     ]
    },
    {
     "name": "stdout",
     "output_type": "stream",
     "text": [
      "[8/200][125/189] ========== Loss_D: 1.4232, Loss_G: 1.7663, Acc_G: 27/32 = 84.3750\n"
     ]
    },
    {
     "name": "stderr",
     "output_type": "stream",
     "text": [
      " 67%|█████████████████████████████████████████████████████████▎                            | 126/189 [02:37<01:21,  1.29s/it]"
     ]
    },
    {
     "name": "stdout",
     "output_type": "stream",
     "text": [
      "[8/200][126/189] ========== Loss_D: 1.4236, Loss_G: 1.8603, Acc_G: 19/32 = 59.3750\n"
     ]
    },
    {
     "name": "stderr",
     "output_type": "stream",
     "text": [
      " 67%|█████████████████████████████████████████████████████████▊                            | 127/189 [02:38<01:18,  1.26s/it]"
     ]
    },
    {
     "name": "stdout",
     "output_type": "stream",
     "text": [
      "[8/200][127/189] ========== Loss_D: 1.4383, Loss_G: 1.8468, Acc_G: 28/32 = 87.5000\n"
     ]
    },
    {
     "name": "stderr",
     "output_type": "stream",
     "text": [
      " 68%|██████████████████████████████████████████████████████████▏                           | 128/189 [02:39<01:12,  1.20s/it]"
     ]
    },
    {
     "name": "stdout",
     "output_type": "stream",
     "text": [
      "[8/200][128/189] ========== Loss_D: 1.4108, Loss_G: 1.7511, Acc_G: 24/32 = 75.0000\n"
     ]
    },
    {
     "name": "stderr",
     "output_type": "stream",
     "text": [
      " 68%|██████████████████████████████████████████████████████████▋                           | 129/189 [02:40<01:10,  1.18s/it]"
     ]
    },
    {
     "name": "stdout",
     "output_type": "stream",
     "text": [
      "[8/200][129/189] ========== Loss_D: 1.4239, Loss_G: 1.8441, Acc_G: 22/32 = 68.7500\n"
     ]
    },
    {
     "name": "stderr",
     "output_type": "stream",
     "text": [
      " 69%|███████████████████████████████████████████████████████████▏                          | 130/189 [02:41<01:11,  1.22s/it]"
     ]
    },
    {
     "name": "stdout",
     "output_type": "stream",
     "text": [
      "[8/200][130/189] ========== Loss_D: 1.4173, Loss_G: 1.9106, Acc_G: 21/32 = 65.6250\n"
     ]
    },
    {
     "name": "stderr",
     "output_type": "stream",
     "text": [
      " 69%|███████████████████████████████████████████████████████████▌                          | 131/189 [02:43<01:11,  1.23s/it]"
     ]
    },
    {
     "name": "stdout",
     "output_type": "stream",
     "text": [
      "[8/200][131/189] ========== Loss_D: 1.4162, Loss_G: 1.8265, Acc_G: 24/32 = 75.0000\n"
     ]
    },
    {
     "name": "stderr",
     "output_type": "stream",
     "text": [
      " 70%|████████████████████████████████████████████████████████████                          | 132/189 [02:44<01:08,  1.19s/it]"
     ]
    },
    {
     "name": "stdout",
     "output_type": "stream",
     "text": [
      "[8/200][132/189] ========== Loss_D: 1.4346, Loss_G: 1.7849, Acc_G: 26/32 = 81.2500\n"
     ]
    },
    {
     "name": "stderr",
     "output_type": "stream",
     "text": [
      " 70%|████████████████████████████████████████████████████████████▌                         | 133/189 [02:45<01:07,  1.21s/it]"
     ]
    },
    {
     "name": "stdout",
     "output_type": "stream",
     "text": [
      "[8/200][133/189] ========== Loss_D: 1.4315, Loss_G: 1.8493, Acc_G: 17/32 = 53.1250\n"
     ]
    },
    {
     "name": "stderr",
     "output_type": "stream",
     "text": [
      " 71%|████████████████████████████████████████████████████████████▉                         | 134/189 [02:46<01:05,  1.19s/it]"
     ]
    },
    {
     "name": "stdout",
     "output_type": "stream",
     "text": [
      "[8/200][134/189] ========== Loss_D: 1.4229, Loss_G: 1.8087, Acc_G: 22/32 = 68.7500\n"
     ]
    },
    {
     "name": "stderr",
     "output_type": "stream",
     "text": [
      " 71%|█████████████████████████████████████████████████████████████▍                        | 135/189 [02:47<01:01,  1.14s/it]"
     ]
    },
    {
     "name": "stdout",
     "output_type": "stream",
     "text": [
      "[8/200][135/189] ========== Loss_D: 1.4357, Loss_G: 1.8191, Acc_G: 24/32 = 75.0000\n"
     ]
    },
    {
     "name": "stderr",
     "output_type": "stream",
     "text": [
      " 72%|█████████████████████████████████████████████████████████████▉                        | 136/189 [02:49<01:06,  1.26s/it]"
     ]
    },
    {
     "name": "stdout",
     "output_type": "stream",
     "text": [
      "[8/200][136/189] ========== Loss_D: 1.4255, Loss_G: 1.8185, Acc_G: 27/32 = 84.3750\n"
     ]
    },
    {
     "name": "stderr",
     "output_type": "stream",
     "text": [
      " 72%|██████████████████████████████████████████████████████████████▎                       | 137/189 [02:50<01:06,  1.28s/it]"
     ]
    },
    {
     "name": "stdout",
     "output_type": "stream",
     "text": [
      "[8/200][137/189] ========== Loss_D: 1.4151, Loss_G: 1.8834, Acc_G: 24/32 = 75.0000\n"
     ]
    },
    {
     "name": "stderr",
     "output_type": "stream",
     "text": [
      " 73%|██████████████████████████████████████████████████████████████▊                       | 138/189 [02:52<01:09,  1.37s/it]"
     ]
    },
    {
     "name": "stdout",
     "output_type": "stream",
     "text": [
      "[8/200][138/189] ========== Loss_D: 1.4275, Loss_G: 1.7899, Acc_G: 21/32 = 65.6250\n"
     ]
    },
    {
     "name": "stderr",
     "output_type": "stream",
     "text": [
      " 74%|███████████████████████████████████████████████████████████████▏                      | 139/189 [02:53<01:07,  1.35s/it]"
     ]
    },
    {
     "name": "stdout",
     "output_type": "stream",
     "text": [
      "[8/200][139/189] ========== Loss_D: 1.4160, Loss_G: 1.8700, Acc_G: 25/32 = 78.1250\n"
     ]
    },
    {
     "name": "stderr",
     "output_type": "stream",
     "text": [
      " 74%|███████████████████████████████████████████████████████████████▋                      | 140/189 [02:54<01:01,  1.25s/it]"
     ]
    },
    {
     "name": "stdout",
     "output_type": "stream",
     "text": [
      "[8/200][140/189] ========== Loss_D: 1.4089, Loss_G: 1.8361, Acc_G: 26/32 = 81.2500\n"
     ]
    },
    {
     "name": "stderr",
     "output_type": "stream",
     "text": [
      " 75%|████████████████████████████████████████████████████████████████▏                     | 141/189 [02:55<00:59,  1.25s/it]"
     ]
    },
    {
     "name": "stdout",
     "output_type": "stream",
     "text": [
      "[8/200][141/189] ========== Loss_D: 1.4200, Loss_G: 1.7827, Acc_G: 19/32 = 59.3750\n"
     ]
    },
    {
     "name": "stderr",
     "output_type": "stream",
     "text": [
      " 75%|████████████████████████████████████████████████████████████████▌                     | 142/189 [02:56<00:54,  1.16s/it]"
     ]
    },
    {
     "name": "stdout",
     "output_type": "stream",
     "text": [
      "[8/200][142/189] ========== Loss_D: 1.4196, Loss_G: 1.7439, Acc_G: 22/32 = 68.7500\n"
     ]
    },
    {
     "name": "stderr",
     "output_type": "stream",
     "text": [
      " 76%|█████████████████████████████████████████████████████████████████                     | 143/189 [02:57<00:51,  1.13s/it]"
     ]
    },
    {
     "name": "stdout",
     "output_type": "stream",
     "text": [
      "[8/200][143/189] ========== Loss_D: 1.4287, Loss_G: 1.8896, Acc_G: 21/32 = 65.6250\n"
     ]
    },
    {
     "name": "stderr",
     "output_type": "stream",
     "text": [
      " 76%|█████████████████████████████████████████████████████████████████▌                    | 144/189 [02:58<00:52,  1.17s/it]"
     ]
    },
    {
     "name": "stdout",
     "output_type": "stream",
     "text": [
      "[8/200][144/189] ========== Loss_D: 1.4134, Loss_G: 1.8266, Acc_G: 28/32 = 87.5000\n"
     ]
    },
    {
     "name": "stderr",
     "output_type": "stream",
     "text": [
      " 77%|█████████████████████████████████████████████████████████████████▉                    | 145/189 [03:00<00:50,  1.14s/it]"
     ]
    },
    {
     "name": "stdout",
     "output_type": "stream",
     "text": [
      "[8/200][145/189] ========== Loss_D: 1.4169, Loss_G: 1.8365, Acc_G: 26/32 = 81.2500\n"
     ]
    },
    {
     "name": "stderr",
     "output_type": "stream",
     "text": [
      " 77%|██████████████████████████████████████████████████████████████████▍                   | 146/189 [03:01<00:49,  1.16s/it]"
     ]
    },
    {
     "name": "stdout",
     "output_type": "stream",
     "text": [
      "[8/200][146/189] ========== Loss_D: 1.4090, Loss_G: 1.7914, Acc_G: 23/32 = 71.8750\n"
     ]
    },
    {
     "name": "stderr",
     "output_type": "stream",
     "text": [
      " 78%|██████████████████████████████████████████████████████████████████▉                   | 147/189 [03:02<00:50,  1.19s/it]"
     ]
    },
    {
     "name": "stdout",
     "output_type": "stream",
     "text": [
      "[8/200][147/189] ========== Loss_D: 1.4278, Loss_G: 1.6945, Acc_G: 22/32 = 68.7500\n"
     ]
    },
    {
     "name": "stderr",
     "output_type": "stream",
     "text": [
      " 78%|███████████████████████████████████████████████████████████████████▎                  | 148/189 [03:03<00:46,  1.12s/it]"
     ]
    },
    {
     "name": "stdout",
     "output_type": "stream",
     "text": [
      "[8/200][148/189] ========== Loss_D: 1.4227, Loss_G: 1.8042, Acc_G: 27/32 = 84.3750\n"
     ]
    },
    {
     "name": "stderr",
     "output_type": "stream",
     "text": [
      " 79%|███████████████████████████████████████████████████████████████████▊                  | 149/189 [03:04<00:43,  1.09s/it]"
     ]
    },
    {
     "name": "stdout",
     "output_type": "stream",
     "text": [
      "[8/200][149/189] ========== Loss_D: 1.4252, Loss_G: 1.8881, Acc_G: 23/32 = 71.8750\n"
     ]
    },
    {
     "name": "stderr",
     "output_type": "stream",
     "text": [
      " 79%|████████████████████████████████████████████████████████████████████▎                 | 150/189 [03:06<00:48,  1.23s/it]"
     ]
    },
    {
     "name": "stdout",
     "output_type": "stream",
     "text": [
      "[8/200][150/189] ========== Loss_D: 1.4196, Loss_G: 1.8064, Acc_G: 27/32 = 84.3750\n"
     ]
    },
    {
     "name": "stderr",
     "output_type": "stream",
     "text": [
      " 80%|████████████████████████████████████████████████████████████████████▋                 | 151/189 [03:07<00:45,  1.20s/it]"
     ]
    },
    {
     "name": "stdout",
     "output_type": "stream",
     "text": [
      "[8/200][151/189] ========== Loss_D: 1.4158, Loss_G: 1.8602, Acc_G: 26/32 = 81.2500\n"
     ]
    },
    {
     "name": "stderr",
     "output_type": "stream",
     "text": [
      " 80%|█████████████████████████████████████████████████████████████████████▏                | 152/189 [03:08<00:44,  1.21s/it]"
     ]
    },
    {
     "name": "stdout",
     "output_type": "stream",
     "text": [
      "[8/200][152/189] ========== Loss_D: 1.4207, Loss_G: 1.7650, Acc_G: 23/32 = 71.8750\n"
     ]
    },
    {
     "name": "stderr",
     "output_type": "stream",
     "text": [
      " 81%|█████████████████████████████████████████████████████████████████████▌                | 153/189 [03:10<00:48,  1.35s/it]"
     ]
    },
    {
     "name": "stdout",
     "output_type": "stream",
     "text": [
      "[8/200][153/189] ========== Loss_D: 1.4224, Loss_G: 1.8016, Acc_G: 22/32 = 68.7500\n"
     ]
    },
    {
     "name": "stderr",
     "output_type": "stream",
     "text": [
      " 81%|██████████████████████████████████████████████████████████████████████                | 154/189 [03:11<00:45,  1.31s/it]"
     ]
    },
    {
     "name": "stdout",
     "output_type": "stream",
     "text": [
      "[8/200][154/189] ========== Loss_D: 1.4170, Loss_G: 1.8304, Acc_G: 27/32 = 84.3750\n"
     ]
    },
    {
     "name": "stderr",
     "output_type": "stream",
     "text": [
      " 82%|██████████████████████████████████████████████████████████████████████▌               | 155/189 [03:12<00:43,  1.28s/it]"
     ]
    },
    {
     "name": "stdout",
     "output_type": "stream",
     "text": [
      "[8/200][155/189] ========== Loss_D: 1.4281, Loss_G: 1.8082, Acc_G: 23/32 = 71.8750\n"
     ]
    },
    {
     "name": "stderr",
     "output_type": "stream",
     "text": [
      " 83%|██████████████████████████████████████████████████████████████████████▉               | 156/189 [03:13<00:42,  1.29s/it]"
     ]
    },
    {
     "name": "stdout",
     "output_type": "stream",
     "text": [
      "[8/200][156/189] ========== Loss_D: 1.4124, Loss_G: 1.9185, Acc_G: 25/32 = 78.1250\n"
     ]
    },
    {
     "name": "stderr",
     "output_type": "stream",
     "text": [
      " 83%|███████████████████████████████████████████████████████████████████████▍              | 157/189 [03:14<00:38,  1.20s/it]"
     ]
    },
    {
     "name": "stdout",
     "output_type": "stream",
     "text": [
      "[8/200][157/189] ========== Loss_D: 1.4168, Loss_G: 1.7933, Acc_G: 25/32 = 78.1250\n"
     ]
    },
    {
     "name": "stderr",
     "output_type": "stream",
     "text": [
      " 84%|███████████████████████████████████████████████████████████████████████▉              | 158/189 [03:15<00:36,  1.17s/it]"
     ]
    },
    {
     "name": "stdout",
     "output_type": "stream",
     "text": [
      "[8/200][158/189] ========== Loss_D: 1.4298, Loss_G: 1.8723, Acc_G: 25/32 = 78.1250\n"
     ]
    },
    {
     "name": "stderr",
     "output_type": "stream",
     "text": [
      " 84%|████████████████████████████████████████████████████████████████████████▎             | 159/189 [03:17<00:34,  1.16s/it]"
     ]
    },
    {
     "name": "stdout",
     "output_type": "stream",
     "text": [
      "[8/200][159/189] ========== Loss_D: 1.3994, Loss_G: 1.8091, Acc_G: 27/32 = 84.3750\n"
     ]
    },
    {
     "name": "stderr",
     "output_type": "stream",
     "text": [
      " 85%|████████████████████████████████████████████████████████████████████████▊             | 160/189 [03:18<00:36,  1.26s/it]"
     ]
    },
    {
     "name": "stdout",
     "output_type": "stream",
     "text": [
      "[8/200][160/189] ========== Loss_D: 1.4075, Loss_G: 1.7854, Acc_G: 20/32 = 62.5000\n"
     ]
    },
    {
     "name": "stderr",
     "output_type": "stream",
     "text": [
      " 85%|█████████████████████████████████████████████████████████████████████████▎            | 161/189 [03:19<00:34,  1.22s/it]"
     ]
    },
    {
     "name": "stdout",
     "output_type": "stream",
     "text": [
      "[8/200][161/189] ========== Loss_D: 1.4339, Loss_G: 1.7940, Acc_G: 25/32 = 78.1250\n"
     ]
    },
    {
     "name": "stderr",
     "output_type": "stream",
     "text": [
      " 86%|█████████████████████████████████████████████████████████████████████████▋            | 162/189 [03:20<00:32,  1.21s/it]"
     ]
    },
    {
     "name": "stdout",
     "output_type": "stream",
     "text": [
      "[8/200][162/189] ========== Loss_D: 1.4157, Loss_G: 1.9075, Acc_G: 23/32 = 71.8750\n"
     ]
    },
    {
     "name": "stderr",
     "output_type": "stream",
     "text": [
      " 86%|██████████████████████████████████████████████████████████████████████████▏           | 163/189 [03:22<00:32,  1.24s/it]"
     ]
    },
    {
     "name": "stdout",
     "output_type": "stream",
     "text": [
      "[8/200][163/189] ========== Loss_D: 1.4047, Loss_G: 1.7923, Acc_G: 25/32 = 78.1250\n"
     ]
    },
    {
     "name": "stderr",
     "output_type": "stream",
     "text": [
      " 87%|██████████████████████████████████████████████████████████████████████████▌           | 164/189 [03:23<00:29,  1.18s/it]"
     ]
    },
    {
     "name": "stdout",
     "output_type": "stream",
     "text": [
      "[8/200][164/189] ========== Loss_D: 1.4162, Loss_G: 1.8684, Acc_G: 24/32 = 75.0000\n"
     ]
    },
    {
     "name": "stderr",
     "output_type": "stream",
     "text": [
      " 87%|███████████████████████████████████████████████████████████████████████████           | 165/189 [03:24<00:29,  1.22s/it]"
     ]
    },
    {
     "name": "stdout",
     "output_type": "stream",
     "text": [
      "[8/200][165/189] ========== Loss_D: 1.4234, Loss_G: 1.8960, Acc_G: 23/32 = 71.8750\n"
     ]
    },
    {
     "name": "stderr",
     "output_type": "stream",
     "text": [
      " 88%|███████████████████████████████████████████████████████████████████████████▌          | 166/189 [03:25<00:27,  1.18s/it]"
     ]
    },
    {
     "name": "stdout",
     "output_type": "stream",
     "text": [
      "[8/200][166/189] ========== Loss_D: 1.4378, Loss_G: 1.8414, Acc_G: 26/32 = 81.2500\n"
     ]
    },
    {
     "name": "stderr",
     "output_type": "stream",
     "text": [
      " 88%|███████████████████████████████████████████████████████████████████████████▉          | 167/189 [03:27<00:27,  1.25s/it]"
     ]
    },
    {
     "name": "stdout",
     "output_type": "stream",
     "text": [
      "[8/200][167/189] ========== Loss_D: 1.4139, Loss_G: 1.8868, Acc_G: 26/32 = 81.2500\n"
     ]
    },
    {
     "name": "stderr",
     "output_type": "stream",
     "text": [
      " 89%|████████████████████████████████████████████████████████████████████████████▍         | 168/189 [03:28<00:27,  1.30s/it]"
     ]
    },
    {
     "name": "stdout",
     "output_type": "stream",
     "text": [
      "[8/200][168/189] ========== Loss_D: 1.4093, Loss_G: 1.8796, Acc_G: 19/32 = 59.3750\n"
     ]
    },
    {
     "name": "stderr",
     "output_type": "stream",
     "text": [
      " 89%|████████████████████████████████████████████████████████████████████████████▉         | 169/189 [03:29<00:26,  1.35s/it]"
     ]
    },
    {
     "name": "stdout",
     "output_type": "stream",
     "text": [
      "[8/200][169/189] ========== Loss_D: 1.4151, Loss_G: 1.9016, Acc_G: 21/32 = 65.6250\n"
     ]
    },
    {
     "name": "stderr",
     "output_type": "stream",
     "text": [
      " 90%|█████████████████████████████████████████████████████████████████████████████▎        | 170/189 [03:31<00:25,  1.36s/it]"
     ]
    },
    {
     "name": "stdout",
     "output_type": "stream",
     "text": [
      "[8/200][170/189] ========== Loss_D: 1.4221, Loss_G: 1.8134, Acc_G: 21/32 = 65.6250\n"
     ]
    },
    {
     "name": "stderr",
     "output_type": "stream",
     "text": [
      " 90%|█████████████████████████████████████████████████████████████████████████████▊        | 171/189 [03:32<00:24,  1.36s/it]"
     ]
    },
    {
     "name": "stdout",
     "output_type": "stream",
     "text": [
      "[8/200][171/189] ========== Loss_D: 1.4290, Loss_G: 1.8688, Acc_G: 27/32 = 84.3750\n"
     ]
    },
    {
     "name": "stderr",
     "output_type": "stream",
     "text": [
      " 91%|██████████████████████████████████████████████████████████████████████████████▎       | 172/189 [03:33<00:22,  1.35s/it]"
     ]
    },
    {
     "name": "stdout",
     "output_type": "stream",
     "text": [
      "[8/200][172/189] ========== Loss_D: 1.4126, Loss_G: 1.7972, Acc_G: 26/32 = 81.2500\n"
     ]
    },
    {
     "name": "stderr",
     "output_type": "stream",
     "text": [
      " 92%|██████████████████████████████████████████████████████████████████████████████▋       | 173/189 [03:35<00:21,  1.35s/it]"
     ]
    },
    {
     "name": "stdout",
     "output_type": "stream",
     "text": [
      "[8/200][173/189] ========== Loss_D: 1.4273, Loss_G: 1.8368, Acc_G: 24/32 = 75.0000\n"
     ]
    },
    {
     "name": "stderr",
     "output_type": "stream",
     "text": [
      " 92%|███████████████████████████████████████████████████████████████████████████████▏      | 174/189 [03:36<00:18,  1.23s/it]"
     ]
    },
    {
     "name": "stdout",
     "output_type": "stream",
     "text": [
      "[8/200][174/189] ========== Loss_D: 1.4226, Loss_G: 1.9144, Acc_G: 22/32 = 68.7500\n"
     ]
    },
    {
     "name": "stderr",
     "output_type": "stream",
     "text": [
      " 93%|███████████████████████████████████████████████████████████████████████████████▋      | 175/189 [03:37<00:16,  1.17s/it]"
     ]
    },
    {
     "name": "stdout",
     "output_type": "stream",
     "text": [
      "[8/200][175/189] ========== Loss_D: 1.4257, Loss_G: 1.8278, Acc_G: 25/32 = 78.1250\n"
     ]
    },
    {
     "name": "stderr",
     "output_type": "stream",
     "text": [
      " 93%|████████████████████████████████████████████████████████████████████████████████      | 176/189 [03:38<00:17,  1.31s/it]"
     ]
    },
    {
     "name": "stdout",
     "output_type": "stream",
     "text": [
      "[8/200][176/189] ========== Loss_D: 1.4287, Loss_G: 1.8160, Acc_G: 23/32 = 71.8750\n"
     ]
    },
    {
     "name": "stderr",
     "output_type": "stream",
     "text": [
      " 94%|████████████████████████████████████████████████████████████████████████████████▌     | 177/189 [03:40<00:16,  1.39s/it]"
     ]
    },
    {
     "name": "stdout",
     "output_type": "stream",
     "text": [
      "[8/200][177/189] ========== Loss_D: 1.4240, Loss_G: 1.8383, Acc_G: 24/32 = 75.0000\n"
     ]
    },
    {
     "name": "stderr",
     "output_type": "stream",
     "text": [
      " 94%|████████████████████████████████████████████████████████████████████████████████▉     | 178/189 [03:41<00:14,  1.30s/it]"
     ]
    },
    {
     "name": "stdout",
     "output_type": "stream",
     "text": [
      "[8/200][178/189] ========== Loss_D: 1.4153, Loss_G: 1.7872, Acc_G: 30/32 = 93.7500\n"
     ]
    },
    {
     "name": "stderr",
     "output_type": "stream",
     "text": [
      " 95%|█████████████████████████████████████████████████████████████████████████████████▍    | 179/189 [03:42<00:12,  1.29s/it]"
     ]
    },
    {
     "name": "stdout",
     "output_type": "stream",
     "text": [
      "[8/200][179/189] ========== Loss_D: 1.4105, Loss_G: 1.7900, Acc_G: 27/32 = 84.3750\n"
     ]
    },
    {
     "name": "stderr",
     "output_type": "stream",
     "text": [
      " 95%|█████████████████████████████████████████████████████████████████████████████████▉    | 180/189 [03:43<00:11,  1.24s/it]"
     ]
    },
    {
     "name": "stdout",
     "output_type": "stream",
     "text": [
      "[8/200][180/189] ========== Loss_D: 1.4323, Loss_G: 1.7931, Acc_G: 22/32 = 68.7500\n"
     ]
    },
    {
     "name": "stderr",
     "output_type": "stream",
     "text": [
      " 96%|██████████████████████████████████████████████████████████████████████████████████▎   | 181/189 [03:45<00:09,  1.20s/it]"
     ]
    },
    {
     "name": "stdout",
     "output_type": "stream",
     "text": [
      "[8/200][181/189] ========== Loss_D: 1.4229, Loss_G: 1.8014, Acc_G: 25/32 = 78.1250\n"
     ]
    },
    {
     "name": "stderr",
     "output_type": "stream",
     "text": [
      " 96%|██████████████████████████████████████████████████████████████████████████████████▊   | 182/189 [03:46<00:09,  1.29s/it]"
     ]
    },
    {
     "name": "stdout",
     "output_type": "stream",
     "text": [
      "[8/200][182/189] ========== Loss_D: 1.4236, Loss_G: 1.8414, Acc_G: 25/32 = 78.1250\n"
     ]
    },
    {
     "name": "stderr",
     "output_type": "stream",
     "text": [
      " 97%|███████████████████████████████████████████████████████████████████████████████████▎  | 183/189 [03:47<00:07,  1.32s/it]"
     ]
    },
    {
     "name": "stdout",
     "output_type": "stream",
     "text": [
      "[8/200][183/189] ========== Loss_D: 1.4128, Loss_G: 1.8379, Acc_G: 22/32 = 68.7500\n"
     ]
    },
    {
     "name": "stderr",
     "output_type": "stream",
     "text": [
      " 97%|███████████████████████████████████████████████████████████████████████████████████▋  | 184/189 [03:49<00:06,  1.26s/it]"
     ]
    },
    {
     "name": "stdout",
     "output_type": "stream",
     "text": [
      "[8/200][184/189] ========== Loss_D: 1.4205, Loss_G: 1.8056, Acc_G: 24/32 = 75.0000\n"
     ]
    },
    {
     "name": "stderr",
     "output_type": "stream",
     "text": [
      " 98%|████████████████████████████████████████████████████████████████████████████████████▏ | 185/189 [03:50<00:04,  1.22s/it]"
     ]
    },
    {
     "name": "stdout",
     "output_type": "stream",
     "text": [
      "[8/200][185/189] ========== Loss_D: 1.4412, Loss_G: 1.7700, Acc_G: 25/32 = 78.1250\n"
     ]
    },
    {
     "name": "stderr",
     "output_type": "stream",
     "text": [
      " 98%|████████████████████████████████████████████████████████████████████████████████████▋ | 186/189 [03:51<00:03,  1.21s/it]"
     ]
    },
    {
     "name": "stdout",
     "output_type": "stream",
     "text": [
      "[8/200][186/189] ========== Loss_D: 1.4254, Loss_G: 2.0331, Acc_G: 26/32 = 81.2500\n"
     ]
    },
    {
     "name": "stderr",
     "output_type": "stream",
     "text": [
      " 99%|█████████████████████████████████████████████████████████████████████████████████████ | 187/189 [03:52<00:02,  1.26s/it]"
     ]
    },
    {
     "name": "stdout",
     "output_type": "stream",
     "text": [
      "[8/200][187/189] ========== Loss_D: 1.4188, Loss_G: 1.8010, Acc_G: 28/32 = 87.5000\n"
     ]
    },
    {
     "name": "stderr",
     "output_type": "stream",
     "text": [
      " 99%|█████████████████████████████████████████████████████████████████████████████████████▌| 188/189 [03:54<00:01,  1.32s/it]"
     ]
    },
    {
     "name": "stdout",
     "output_type": "stream",
     "text": [
      "[8/200][188/189] ========== Loss_D: 1.4303, Loss_G: 1.8625, Acc_G: 23/32 = 71.8750\n"
     ]
    },
    {
     "name": "stderr",
     "output_type": "stream",
     "text": [
      "100%|██████████████████████████████████████████████████████████████████████████████████████| 189/189 [03:54<00:00,  1.24s/it]\n"
     ]
    },
    {
     "name": "stdout",
     "output_type": "stream",
     "text": [
      "[8/200][189/189] ========== Loss_D: 1.4479, Loss_G: 1.7294, Acc_G: 7/8 = 87.5000\n",
      "---------------------< no model saved at epoch: 8 >---------------------\n"
     ]
    },
    {
     "name": "stderr",
     "output_type": "stream",
     "text": [
      "  1%|▍                                                                                       | 1/189 [00:02<06:59,  2.23s/it]"
     ]
    },
    {
     "name": "stdout",
     "output_type": "stream",
     "text": [
      "[9/200][1/189] ========== Loss_D: 1.4145, Loss_G: 1.7869, Acc_G: 23/32 = 71.8750\n"
     ]
    },
    {
     "name": "stderr",
     "output_type": "stream",
     "text": [
      "  1%|▉                                                                                       | 2/189 [00:03<04:54,  1.58s/it]"
     ]
    },
    {
     "name": "stdout",
     "output_type": "stream",
     "text": [
      "[9/200][2/189] ========== Loss_D: 1.4124, Loss_G: 1.8600, Acc_G: 26/32 = 81.2500\n"
     ]
    },
    {
     "name": "stderr",
     "output_type": "stream",
     "text": [
      "  2%|█▍                                                                                      | 3/189 [00:04<04:01,  1.30s/it]"
     ]
    },
    {
     "name": "stdout",
     "output_type": "stream",
     "text": [
      "[9/200][3/189] ========== Loss_D: 1.4083, Loss_G: 1.9192, Acc_G: 27/32 = 84.3750\n"
     ]
    },
    {
     "name": "stderr",
     "output_type": "stream",
     "text": [
      "  2%|█▊                                                                                      | 4/189 [00:05<03:37,  1.17s/it]"
     ]
    },
    {
     "name": "stdout",
     "output_type": "stream",
     "text": [
      "[9/200][4/189] ========== Loss_D: 1.4258, Loss_G: 1.8641, Acc_G: 25/32 = 78.1250\n"
     ]
    },
    {
     "name": "stderr",
     "output_type": "stream",
     "text": [
      "  3%|██▎                                                                                     | 5/189 [00:06<03:57,  1.29s/it]"
     ]
    },
    {
     "name": "stdout",
     "output_type": "stream",
     "text": [
      "[9/200][5/189] ========== Loss_D: 1.4091, Loss_G: 1.9563, Acc_G: 24/32 = 75.0000\n"
     ]
    },
    {
     "name": "stderr",
     "output_type": "stream",
     "text": [
      "  3%|██▊                                                                                     | 6/189 [00:08<03:59,  1.31s/it]"
     ]
    },
    {
     "name": "stdout",
     "output_type": "stream",
     "text": [
      "[9/200][6/189] ========== Loss_D: 1.4101, Loss_G: 1.8303, Acc_G: 27/32 = 84.3750\n"
     ]
    },
    {
     "name": "stderr",
     "output_type": "stream",
     "text": [
      "  4%|███▎                                                                                    | 7/189 [00:09<03:45,  1.24s/it]"
     ]
    },
    {
     "name": "stdout",
     "output_type": "stream",
     "text": [
      "[9/200][7/189] ========== Loss_D: 1.4144, Loss_G: 1.9096, Acc_G: 25/32 = 78.1250\n"
     ]
    },
    {
     "name": "stderr",
     "output_type": "stream",
     "text": [
      "  4%|███▋                                                                                    | 8/189 [00:10<03:48,  1.26s/it]"
     ]
    },
    {
     "name": "stdout",
     "output_type": "stream",
     "text": [
      "[9/200][8/189] ========== Loss_D: 1.4265, Loss_G: 1.7625, Acc_G: 23/32 = 71.8750\n"
     ]
    },
    {
     "name": "stderr",
     "output_type": "stream",
     "text": [
      "  5%|████▏                                                                                   | 9/189 [00:11<03:31,  1.17s/it]"
     ]
    },
    {
     "name": "stdout",
     "output_type": "stream",
     "text": [
      "[9/200][9/189] ========== Loss_D: 1.4240, Loss_G: 1.9020, Acc_G: 21/32 = 65.6250\n"
     ]
    },
    {
     "name": "stderr",
     "output_type": "stream",
     "text": [
      "  5%|████▌                                                                                  | 10/189 [00:13<03:56,  1.32s/it]"
     ]
    },
    {
     "name": "stdout",
     "output_type": "stream",
     "text": [
      "[9/200][10/189] ========== Loss_D: 1.4163, Loss_G: 1.9627, Acc_G: 26/32 = 81.2500\n"
     ]
    },
    {
     "name": "stderr",
     "output_type": "stream",
     "text": [
      "  6%|█████                                                                                  | 11/189 [00:15<04:28,  1.51s/it]"
     ]
    },
    {
     "name": "stdout",
     "output_type": "stream",
     "text": [
      "[9/200][11/189] ========== Loss_D: 1.4227, Loss_G: 1.8204, Acc_G: 25/32 = 78.1250\n"
     ]
    },
    {
     "name": "stderr",
     "output_type": "stream",
     "text": [
      "  6%|█████▌                                                                                 | 12/189 [00:16<04:02,  1.37s/it]"
     ]
    },
    {
     "name": "stdout",
     "output_type": "stream",
     "text": [
      "[9/200][12/189] ========== Loss_D: 1.4149, Loss_G: 1.8228, Acc_G: 23/32 = 71.8750\n"
     ]
    },
    {
     "name": "stderr",
     "output_type": "stream",
     "text": [
      "  7%|█████▉                                                                                 | 13/189 [00:17<03:42,  1.26s/it]"
     ]
    },
    {
     "name": "stdout",
     "output_type": "stream",
     "text": [
      "[9/200][13/189] ========== Loss_D: 1.4221, Loss_G: 1.9220, Acc_G: 29/32 = 90.6250\n"
     ]
    },
    {
     "name": "stderr",
     "output_type": "stream",
     "text": [
      "  7%|██████▍                                                                                | 14/189 [00:18<03:26,  1.18s/it]"
     ]
    },
    {
     "name": "stdout",
     "output_type": "stream",
     "text": [
      "[9/200][14/189] ========== Loss_D: 1.4236, Loss_G: 1.6883, Acc_G: 25/32 = 78.1250\n"
     ]
    },
    {
     "name": "stderr",
     "output_type": "stream",
     "text": [
      "  8%|██████▉                                                                                | 15/189 [00:19<03:29,  1.21s/it]"
     ]
    },
    {
     "name": "stdout",
     "output_type": "stream",
     "text": [
      "[9/200][15/189] ========== Loss_D: 1.4166, Loss_G: 1.8037, Acc_G: 23/32 = 71.8750\n"
     ]
    },
    {
     "name": "stderr",
     "output_type": "stream",
     "text": [
      "  8%|███████▎                                                                               | 16/189 [00:20<03:30,  1.22s/it]"
     ]
    },
    {
     "name": "stdout",
     "output_type": "stream",
     "text": [
      "[9/200][16/189] ========== Loss_D: 1.4222, Loss_G: 1.7595, Acc_G: 25/32 = 78.1250\n"
     ]
    },
    {
     "name": "stderr",
     "output_type": "stream",
     "text": [
      "  9%|███████▊                                                                               | 17/189 [00:21<03:28,  1.21s/it]"
     ]
    },
    {
     "name": "stdout",
     "output_type": "stream",
     "text": [
      "[9/200][17/189] ========== Loss_D: 1.4174, Loss_G: 1.9541, Acc_G: 26/32 = 81.2500\n"
     ]
    },
    {
     "name": "stderr",
     "output_type": "stream",
     "text": [
      " 10%|████████▎                                                                              | 18/189 [00:22<03:20,  1.17s/it]"
     ]
    },
    {
     "name": "stdout",
     "output_type": "stream",
     "text": [
      "[9/200][18/189] ========== Loss_D: 1.4418, Loss_G: 1.8065, Acc_G: 17/32 = 53.1250\n"
     ]
    },
    {
     "name": "stderr",
     "output_type": "stream",
     "text": [
      " 10%|████████▋                                                                              | 19/189 [00:24<03:31,  1.24s/it]"
     ]
    },
    {
     "name": "stdout",
     "output_type": "stream",
     "text": [
      "[9/200][19/189] ========== Loss_D: 1.4310, Loss_G: 1.8882, Acc_G: 24/32 = 75.0000\n"
     ]
    },
    {
     "name": "stderr",
     "output_type": "stream",
     "text": [
      " 11%|█████████▏                                                                             | 20/189 [00:25<03:33,  1.26s/it]"
     ]
    },
    {
     "name": "stdout",
     "output_type": "stream",
     "text": [
      "[9/200][20/189] ========== Loss_D: 1.4300, Loss_G: 1.8497, Acc_G: 24/32 = 75.0000\n"
     ]
    },
    {
     "name": "stderr",
     "output_type": "stream",
     "text": [
      " 11%|█████████▋                                                                             | 21/189 [00:26<03:23,  1.21s/it]"
     ]
    },
    {
     "name": "stdout",
     "output_type": "stream",
     "text": [
      "[9/200][21/189] ========== Loss_D: 1.4094, Loss_G: 1.8204, Acc_G: 25/32 = 78.1250\n"
     ]
    },
    {
     "name": "stderr",
     "output_type": "stream",
     "text": [
      " 12%|██████████▏                                                                            | 22/189 [00:27<03:15,  1.17s/it]"
     ]
    },
    {
     "name": "stdout",
     "output_type": "stream",
     "text": [
      "[9/200][22/189] ========== Loss_D: 1.4407, Loss_G: 1.9189, Acc_G: 26/32 = 81.2500\n"
     ]
    },
    {
     "name": "stderr",
     "output_type": "stream",
     "text": [
      " 12%|██████████▌                                                                            | 23/189 [00:29<03:22,  1.22s/it]"
     ]
    },
    {
     "name": "stdout",
     "output_type": "stream",
     "text": [
      "[9/200][23/189] ========== Loss_D: 1.4411, Loss_G: 1.9094, Acc_G: 28/32 = 87.5000\n"
     ]
    },
    {
     "name": "stderr",
     "output_type": "stream",
     "text": [
      " 13%|███████████                                                                            | 24/189 [00:30<03:19,  1.21s/it]"
     ]
    },
    {
     "name": "stdout",
     "output_type": "stream",
     "text": [
      "[9/200][24/189] ========== Loss_D: 1.4181, Loss_G: 1.7899, Acc_G: 28/32 = 87.5000\n"
     ]
    },
    {
     "name": "stderr",
     "output_type": "stream",
     "text": [
      " 13%|███████████▌                                                                           | 25/189 [00:31<03:27,  1.27s/it]"
     ]
    },
    {
     "name": "stdout",
     "output_type": "stream",
     "text": [
      "[9/200][25/189] ========== Loss_D: 1.4246, Loss_G: 1.8332, Acc_G: 25/32 = 78.1250\n"
     ]
    },
    {
     "name": "stderr",
     "output_type": "stream",
     "text": [
      " 14%|███████████▉                                                                           | 26/189 [00:32<03:17,  1.21s/it]"
     ]
    },
    {
     "name": "stdout",
     "output_type": "stream",
     "text": [
      "[9/200][26/189] ========== Loss_D: 1.4270, Loss_G: 1.9163, Acc_G: 22/32 = 68.7500\n"
     ]
    },
    {
     "name": "stderr",
     "output_type": "stream",
     "text": [
      " 14%|████████████▍                                                                          | 27/189 [00:34<03:14,  1.20s/it]"
     ]
    },
    {
     "name": "stdout",
     "output_type": "stream",
     "text": [
      "[9/200][27/189] ========== Loss_D: 1.4265, Loss_G: 1.7867, Acc_G: 23/32 = 71.8750\n"
     ]
    },
    {
     "name": "stderr",
     "output_type": "stream",
     "text": [
      " 15%|████████████▉                                                                          | 28/189 [00:35<03:05,  1.15s/it]"
     ]
    },
    {
     "name": "stdout",
     "output_type": "stream",
     "text": [
      "[9/200][28/189] ========== Loss_D: 1.4267, Loss_G: 1.7795, Acc_G: 24/32 = 75.0000\n"
     ]
    },
    {
     "name": "stderr",
     "output_type": "stream",
     "text": [
      " 15%|█████████████▎                                                                         | 29/189 [00:36<02:54,  1.09s/it]"
     ]
    },
    {
     "name": "stdout",
     "output_type": "stream",
     "text": [
      "[9/200][29/189] ========== Loss_D: 1.4106, Loss_G: 1.7490, Acc_G: 22/32 = 68.7500\n"
     ]
    },
    {
     "name": "stderr",
     "output_type": "stream",
     "text": [
      " 16%|█████████████▊                                                                         | 30/189 [00:36<02:45,  1.04s/it]"
     ]
    },
    {
     "name": "stdout",
     "output_type": "stream",
     "text": [
      "[9/200][30/189] ========== Loss_D: 1.4134, Loss_G: 1.7510, Acc_G: 25/32 = 78.1250\n"
     ]
    },
    {
     "name": "stderr",
     "output_type": "stream",
     "text": [
      " 16%|██████████████▎                                                                        | 31/189 [00:38<03:07,  1.19s/it]"
     ]
    },
    {
     "name": "stdout",
     "output_type": "stream",
     "text": [
      "[9/200][31/189] ========== Loss_D: 1.4281, Loss_G: 1.8248, Acc_G: 22/32 = 68.7500\n"
     ]
    },
    {
     "name": "stderr",
     "output_type": "stream",
     "text": [
      " 17%|██████████████▋                                                                        | 32/189 [00:39<03:00,  1.15s/it]"
     ]
    },
    {
     "name": "stdout",
     "output_type": "stream",
     "text": [
      "[9/200][32/189] ========== Loss_D: 1.4387, Loss_G: 1.8078, Acc_G: 25/32 = 78.1250\n"
     ]
    },
    {
     "name": "stderr",
     "output_type": "stream",
     "text": [
      " 17%|███████████████▏                                                                       | 33/189 [00:40<03:01,  1.17s/it]"
     ]
    },
    {
     "name": "stdout",
     "output_type": "stream",
     "text": [
      "[9/200][33/189] ========== Loss_D: 1.4102, Loss_G: 1.8011, Acc_G: 22/32 = 68.7500\n"
     ]
    },
    {
     "name": "stderr",
     "output_type": "stream",
     "text": [
      " 18%|███████████████▋                                                                       | 34/189 [00:41<02:58,  1.15s/it]"
     ]
    },
    {
     "name": "stdout",
     "output_type": "stream",
     "text": [
      "[9/200][34/189] ========== Loss_D: 1.4219, Loss_G: 1.9047, Acc_G: 22/32 = 68.7500\n"
     ]
    },
    {
     "name": "stderr",
     "output_type": "stream",
     "text": [
      " 19%|████████████████                                                                       | 35/189 [00:43<03:19,  1.29s/it]"
     ]
    },
    {
     "name": "stdout",
     "output_type": "stream",
     "text": [
      "[9/200][35/189] ========== Loss_D: 1.4198, Loss_G: 1.8273, Acc_G: 28/32 = 87.5000\n"
     ]
    },
    {
     "name": "stderr",
     "output_type": "stream",
     "text": [
      " 19%|████████████████▌                                                                      | 36/189 [00:45<03:42,  1.45s/it]"
     ]
    },
    {
     "name": "stdout",
     "output_type": "stream",
     "text": [
      "[9/200][36/189] ========== Loss_D: 1.4112, Loss_G: 1.7169, Acc_G: 24/32 = 75.0000\n"
     ]
    },
    {
     "name": "stderr",
     "output_type": "stream",
     "text": [
      " 20%|█████████████████                                                                      | 37/189 [00:46<03:40,  1.45s/it]"
     ]
    },
    {
     "name": "stdout",
     "output_type": "stream",
     "text": [
      "[9/200][37/189] ========== Loss_D: 1.4255, Loss_G: 1.7816, Acc_G: 23/32 = 71.8750\n"
     ]
    },
    {
     "name": "stderr",
     "output_type": "stream",
     "text": [
      " 20%|█████████████████▍                                                                     | 38/189 [00:47<03:11,  1.27s/it]"
     ]
    },
    {
     "name": "stdout",
     "output_type": "stream",
     "text": [
      "[9/200][38/189] ========== Loss_D: 1.4139, Loss_G: 1.9722, Acc_G: 26/32 = 81.2500\n"
     ]
    },
    {
     "name": "stderr",
     "output_type": "stream",
     "text": [
      " 21%|█████████████████▉                                                                     | 39/189 [00:49<03:26,  1.38s/it]"
     ]
    },
    {
     "name": "stdout",
     "output_type": "stream",
     "text": [
      "[9/200][39/189] ========== Loss_D: 1.4327, Loss_G: 1.8907, Acc_G: 19/32 = 59.3750\n"
     ]
    },
    {
     "name": "stderr",
     "output_type": "stream",
     "text": [
      " 21%|██████████████████▍                                                                    | 40/189 [00:50<03:06,  1.25s/it]"
     ]
    },
    {
     "name": "stdout",
     "output_type": "stream",
     "text": [
      "[9/200][40/189] ========== Loss_D: 1.4187, Loss_G: 1.8792, Acc_G: 27/32 = 84.3750\n"
     ]
    },
    {
     "name": "stderr",
     "output_type": "stream",
     "text": [
      " 22%|██████████████████▊                                                                    | 41/189 [00:51<02:53,  1.17s/it]"
     ]
    },
    {
     "name": "stdout",
     "output_type": "stream",
     "text": [
      "[9/200][41/189] ========== Loss_D: 1.4101, Loss_G: 1.8342, Acc_G: 25/32 = 78.1250\n"
     ]
    },
    {
     "name": "stderr",
     "output_type": "stream",
     "text": [
      " 22%|███████████████████▎                                                                   | 42/189 [00:52<02:46,  1.13s/it]"
     ]
    },
    {
     "name": "stdout",
     "output_type": "stream",
     "text": [
      "[9/200][42/189] ========== Loss_D: 1.4322, Loss_G: 1.7963, Acc_G: 26/32 = 81.2500\n"
     ]
    },
    {
     "name": "stderr",
     "output_type": "stream",
     "text": [
      " 23%|███████████████████▊                                                                   | 43/189 [00:53<02:35,  1.07s/it]"
     ]
    },
    {
     "name": "stdout",
     "output_type": "stream",
     "text": [
      "[9/200][43/189] ========== Loss_D: 1.4252, Loss_G: 1.7819, Acc_G: 21/32 = 65.6250\n"
     ]
    },
    {
     "name": "stderr",
     "output_type": "stream",
     "text": [
      " 23%|████████████████████▎                                                                  | 44/189 [00:54<02:33,  1.06s/it]"
     ]
    },
    {
     "name": "stdout",
     "output_type": "stream",
     "text": [
      "[9/200][44/189] ========== Loss_D: 1.4169, Loss_G: 1.8165, Acc_G: 24/32 = 75.0000\n"
     ]
    },
    {
     "name": "stderr",
     "output_type": "stream",
     "text": [
      " 24%|████████████████████▋                                                                  | 45/189 [00:55<02:43,  1.13s/it]"
     ]
    },
    {
     "name": "stdout",
     "output_type": "stream",
     "text": [
      "[9/200][45/189] ========== Loss_D: 1.4329, Loss_G: 1.7528, Acc_G: 21/32 = 65.6250\n"
     ]
    },
    {
     "name": "stderr",
     "output_type": "stream",
     "text": [
      " 24%|█████████████████████▏                                                                 | 46/189 [00:56<02:50,  1.19s/it]"
     ]
    },
    {
     "name": "stdout",
     "output_type": "stream",
     "text": [
      "[9/200][46/189] ========== Loss_D: 1.4424, Loss_G: 1.8653, Acc_G: 25/32 = 78.1250\n"
     ]
    },
    {
     "name": "stderr",
     "output_type": "stream",
     "text": [
      " 25%|█████████████████████▋                                                                 | 47/189 [00:57<02:49,  1.19s/it]"
     ]
    },
    {
     "name": "stdout",
     "output_type": "stream",
     "text": [
      "[9/200][47/189] ========== Loss_D: 1.4164, Loss_G: 1.8574, Acc_G: 28/32 = 87.5000\n"
     ]
    },
    {
     "name": "stderr",
     "output_type": "stream",
     "text": [
      " 25%|██████████████████████                                                                 | 48/189 [00:59<02:42,  1.15s/it]"
     ]
    },
    {
     "name": "stdout",
     "output_type": "stream",
     "text": [
      "[9/200][48/189] ========== Loss_D: 1.4288, Loss_G: 1.8108, Acc_G: 21/32 = 65.6250\n"
     ]
    },
    {
     "name": "stderr",
     "output_type": "stream",
     "text": [
      " 26%|██████████████████████▌                                                                | 49/189 [01:00<02:49,  1.21s/it]"
     ]
    },
    {
     "name": "stdout",
     "output_type": "stream",
     "text": [
      "[9/200][49/189] ========== Loss_D: 1.4250, Loss_G: 1.8245, Acc_G: 25/32 = 78.1250\n"
     ]
    },
    {
     "name": "stderr",
     "output_type": "stream",
     "text": [
      " 26%|███████████████████████                                                                | 50/189 [01:01<02:51,  1.23s/it]"
     ]
    },
    {
     "name": "stdout",
     "output_type": "stream",
     "text": [
      "[9/200][50/189] ========== Loss_D: 1.4147, Loss_G: 1.8115, Acc_G: 25/32 = 78.1250\n"
     ]
    },
    {
     "name": "stderr",
     "output_type": "stream",
     "text": [
      " 27%|███████████████████████▍                                                               | 51/189 [01:02<02:51,  1.24s/it]"
     ]
    },
    {
     "name": "stdout",
     "output_type": "stream",
     "text": [
      "[9/200][51/189] ========== Loss_D: 1.4191, Loss_G: 1.7636, Acc_G: 26/32 = 81.2500\n"
     ]
    },
    {
     "name": "stderr",
     "output_type": "stream",
     "text": [
      " 28%|███████████████████████▉                                                               | 52/189 [01:03<02:39,  1.17s/it]"
     ]
    },
    {
     "name": "stdout",
     "output_type": "stream",
     "text": [
      "[9/200][52/189] ========== Loss_D: 1.4169, Loss_G: 1.7960, Acc_G: 24/32 = 75.0000\n"
     ]
    },
    {
     "name": "stderr",
     "output_type": "stream",
     "text": [
      " 28%|████████████████████████▍                                                              | 53/189 [01:05<02:42,  1.20s/it]"
     ]
    },
    {
     "name": "stdout",
     "output_type": "stream",
     "text": [
      "[9/200][53/189] ========== Loss_D: 1.4198, Loss_G: 1.7488, Acc_G: 25/32 = 78.1250\n"
     ]
    },
    {
     "name": "stderr",
     "output_type": "stream",
     "text": [
      " 29%|████████████████████████▊                                                              | 54/189 [01:06<02:35,  1.15s/it]"
     ]
    },
    {
     "name": "stdout",
     "output_type": "stream",
     "text": [
      "[9/200][54/189] ========== Loss_D: 1.4267, Loss_G: 1.8344, Acc_G: 25/32 = 78.1250\n"
     ]
    },
    {
     "name": "stderr",
     "output_type": "stream",
     "text": [
      " 29%|█████████████████████████▎                                                             | 55/189 [01:07<02:31,  1.13s/it]"
     ]
    },
    {
     "name": "stdout",
     "output_type": "stream",
     "text": [
      "[9/200][55/189] ========== Loss_D: 1.4149, Loss_G: 1.8279, Acc_G: 26/32 = 81.2500\n"
     ]
    },
    {
     "name": "stderr",
     "output_type": "stream",
     "text": [
      " 30%|█████████████████████████▊                                                             | 56/189 [01:08<02:49,  1.27s/it]"
     ]
    },
    {
     "name": "stdout",
     "output_type": "stream",
     "text": [
      "[9/200][56/189] ========== Loss_D: 1.4252, Loss_G: 1.8074, Acc_G: 17/32 = 53.1250\n"
     ]
    },
    {
     "name": "stderr",
     "output_type": "stream",
     "text": [
      " 30%|██████████████████████████▏                                                            | 57/189 [01:10<02:44,  1.25s/it]"
     ]
    },
    {
     "name": "stdout",
     "output_type": "stream",
     "text": [
      "[9/200][57/189] ========== Loss_D: 1.4065, Loss_G: 1.7424, Acc_G: 23/32 = 71.8750\n"
     ]
    },
    {
     "name": "stderr",
     "output_type": "stream",
     "text": [
      " 31%|██████████████████████████▋                                                            | 58/189 [01:11<02:55,  1.34s/it]"
     ]
    },
    {
     "name": "stdout",
     "output_type": "stream",
     "text": [
      "[9/200][58/189] ========== Loss_D: 1.4189, Loss_G: 1.8277, Acc_G: 25/32 = 78.1250\n"
     ]
    },
    {
     "name": "stderr",
     "output_type": "stream",
     "text": [
      " 31%|███████████████████████████▏                                                           | 59/189 [01:12<02:43,  1.26s/it]"
     ]
    },
    {
     "name": "stdout",
     "output_type": "stream",
     "text": [
      "[9/200][59/189] ========== Loss_D: 1.4007, Loss_G: 1.8567, Acc_G: 18/32 = 56.2500\n"
     ]
    },
    {
     "name": "stderr",
     "output_type": "stream",
     "text": [
      " 32%|███████████████████████████▌                                                           | 60/189 [01:13<02:34,  1.20s/it]"
     ]
    },
    {
     "name": "stdout",
     "output_type": "stream",
     "text": [
      "[9/200][60/189] ========== Loss_D: 1.4311, Loss_G: 1.7888, Acc_G: 30/32 = 93.7500\n"
     ]
    },
    {
     "name": "stderr",
     "output_type": "stream",
     "text": [
      " 32%|████████████████████████████                                                           | 61/189 [01:14<02:24,  1.13s/it]"
     ]
    },
    {
     "name": "stdout",
     "output_type": "stream",
     "text": [
      "[9/200][61/189] ========== Loss_D: 1.4211, Loss_G: 1.7064, Acc_G: 24/32 = 75.0000\n"
     ]
    },
    {
     "name": "stderr",
     "output_type": "stream",
     "text": [
      " 33%|████████████████████████████▌                                                          | 62/189 [01:15<02:27,  1.16s/it]"
     ]
    },
    {
     "name": "stdout",
     "output_type": "stream",
     "text": [
      "[9/200][62/189] ========== Loss_D: 1.4129, Loss_G: 1.8422, Acc_G: 22/32 = 68.7500\n"
     ]
    },
    {
     "name": "stderr",
     "output_type": "stream",
     "text": [
      " 33%|█████████████████████████████                                                          | 63/189 [01:17<02:38,  1.26s/it]"
     ]
    },
    {
     "name": "stdout",
     "output_type": "stream",
     "text": [
      "[9/200][63/189] ========== Loss_D: 1.4202, Loss_G: 1.7929, Acc_G: 27/32 = 84.3750\n"
     ]
    },
    {
     "name": "stderr",
     "output_type": "stream",
     "text": [
      " 34%|█████████████████████████████▍                                                         | 64/189 [01:18<02:31,  1.21s/it]"
     ]
    },
    {
     "name": "stdout",
     "output_type": "stream",
     "text": [
      "[9/200][64/189] ========== Loss_D: 1.4280, Loss_G: 1.7859, Acc_G: 25/32 = 78.1250\n"
     ]
    },
    {
     "name": "stderr",
     "output_type": "stream",
     "text": [
      " 34%|█████████████████████████████▉                                                         | 65/189 [01:19<02:37,  1.27s/it]"
     ]
    },
    {
     "name": "stdout",
     "output_type": "stream",
     "text": [
      "[9/200][65/189] ========== Loss_D: 1.4182, Loss_G: 1.8613, Acc_G: 26/32 = 81.2500\n"
     ]
    },
    {
     "name": "stderr",
     "output_type": "stream",
     "text": [
      " 35%|██████████████████████████████▍                                                        | 66/189 [01:21<02:34,  1.26s/it]"
     ]
    },
    {
     "name": "stdout",
     "output_type": "stream",
     "text": [
      "[9/200][66/189] ========== Loss_D: 1.4189, Loss_G: 1.8798, Acc_G: 24/32 = 75.0000\n"
     ]
    },
    {
     "name": "stderr",
     "output_type": "stream",
     "text": [
      " 35%|██████████████████████████████▊                                                        | 67/189 [01:22<02:35,  1.28s/it]"
     ]
    },
    {
     "name": "stdout",
     "output_type": "stream",
     "text": [
      "[9/200][67/189] ========== Loss_D: 1.4056, Loss_G: 1.7961, Acc_G: 25/32 = 78.1250\n"
     ]
    },
    {
     "name": "stderr",
     "output_type": "stream",
     "text": [
      " 36%|███████████████████████████████▎                                                       | 68/189 [01:23<02:36,  1.30s/it]"
     ]
    },
    {
     "name": "stdout",
     "output_type": "stream",
     "text": [
      "[9/200][68/189] ========== Loss_D: 1.4275, Loss_G: 1.7688, Acc_G: 27/32 = 84.3750\n"
     ]
    },
    {
     "name": "stderr",
     "output_type": "stream",
     "text": [
      " 37%|███████████████████████████████▊                                                       | 69/189 [01:24<02:27,  1.23s/it]"
     ]
    },
    {
     "name": "stdout",
     "output_type": "stream",
     "text": [
      "[9/200][69/189] ========== Loss_D: 1.4195, Loss_G: 1.8031, Acc_G: 26/32 = 81.2500\n"
     ]
    },
    {
     "name": "stderr",
     "output_type": "stream",
     "text": [
      " 37%|████████████████████████████████▏                                                      | 70/189 [01:26<02:26,  1.23s/it]"
     ]
    },
    {
     "name": "stdout",
     "output_type": "stream",
     "text": [
      "[9/200][70/189] ========== Loss_D: 1.4326, Loss_G: 1.8957, Acc_G: 23/32 = 71.8750\n"
     ]
    },
    {
     "name": "stderr",
     "output_type": "stream",
     "text": [
      " 38%|████████████████████████████████▋                                                      | 71/189 [01:27<02:27,  1.25s/it]"
     ]
    },
    {
     "name": "stdout",
     "output_type": "stream",
     "text": [
      "[9/200][71/189] ========== Loss_D: 1.4233, Loss_G: 1.6633, Acc_G: 23/32 = 71.8750\n"
     ]
    },
    {
     "name": "stderr",
     "output_type": "stream",
     "text": [
      " 38%|█████████████████████████████████▏                                                     | 72/189 [01:28<02:18,  1.18s/it]"
     ]
    },
    {
     "name": "stdout",
     "output_type": "stream",
     "text": [
      "[9/200][72/189] ========== Loss_D: 1.4275, Loss_G: 1.8385, Acc_G: 27/32 = 84.3750\n"
     ]
    },
    {
     "name": "stderr",
     "output_type": "stream",
     "text": [
      " 39%|█████████████████████████████████▌                                                     | 73/189 [01:29<02:20,  1.21s/it]"
     ]
    },
    {
     "name": "stdout",
     "output_type": "stream",
     "text": [
      "[9/200][73/189] ========== Loss_D: 1.4087, Loss_G: 1.7809, Acc_G: 24/32 = 75.0000\n"
     ]
    },
    {
     "name": "stderr",
     "output_type": "stream",
     "text": [
      " 39%|██████████████████████████████████                                                     | 74/189 [01:30<02:17,  1.19s/it]"
     ]
    },
    {
     "name": "stdout",
     "output_type": "stream",
     "text": [
      "[9/200][74/189] ========== Loss_D: 1.4102, Loss_G: 1.8039, Acc_G: 20/32 = 62.5000\n"
     ]
    },
    {
     "name": "stderr",
     "output_type": "stream",
     "text": [
      " 40%|██████████████████████████████████▌                                                    | 75/189 [01:32<02:14,  1.18s/it]"
     ]
    },
    {
     "name": "stdout",
     "output_type": "stream",
     "text": [
      "[9/200][75/189] ========== Loss_D: 1.4170, Loss_G: 1.8493, Acc_G: 23/32 = 71.8750\n"
     ]
    },
    {
     "name": "stderr",
     "output_type": "stream",
     "text": [
      " 40%|██████████████████████████████████▉                                                    | 76/189 [01:33<02:20,  1.25s/it]"
     ]
    },
    {
     "name": "stdout",
     "output_type": "stream",
     "text": [
      "[9/200][76/189] ========== Loss_D: 1.4057, Loss_G: 1.7094, Acc_G: 22/32 = 68.7500\n"
     ]
    },
    {
     "name": "stderr",
     "output_type": "stream",
     "text": [
      " 41%|███████████████████████████████████▍                                                   | 77/189 [01:34<02:27,  1.32s/it]"
     ]
    },
    {
     "name": "stdout",
     "output_type": "stream",
     "text": [
      "[9/200][77/189] ========== Loss_D: 1.4197, Loss_G: 1.7740, Acc_G: 23/32 = 71.8750\n"
     ]
    },
    {
     "name": "stderr",
     "output_type": "stream",
     "text": [
      " 41%|███████████████████████████████████▉                                                   | 78/189 [01:35<02:13,  1.20s/it]"
     ]
    },
    {
     "name": "stdout",
     "output_type": "stream",
     "text": [
      "[9/200][78/189] ========== Loss_D: 1.4335, Loss_G: 1.8664, Acc_G: 26/32 = 81.2500\n"
     ]
    },
    {
     "name": "stderr",
     "output_type": "stream",
     "text": [
      " 42%|████████████████████████████████████▎                                                  | 79/189 [01:37<02:11,  1.19s/it]"
     ]
    },
    {
     "name": "stdout",
     "output_type": "stream",
     "text": [
      "[9/200][79/189] ========== Loss_D: 1.4233, Loss_G: 1.8934, Acc_G: 24/32 = 75.0000\n"
     ]
    },
    {
     "name": "stderr",
     "output_type": "stream",
     "text": [
      " 42%|████████████████████████████████████▊                                                  | 80/189 [01:38<02:21,  1.29s/it]"
     ]
    },
    {
     "name": "stdout",
     "output_type": "stream",
     "text": [
      "[9/200][80/189] ========== Loss_D: 1.4096, Loss_G: 1.8093, Acc_G: 26/32 = 81.2500\n"
     ]
    },
    {
     "name": "stderr",
     "output_type": "stream",
     "text": [
      " 43%|█████████████████████████████████████▎                                                 | 81/189 [01:39<02:15,  1.26s/it]"
     ]
    },
    {
     "name": "stdout",
     "output_type": "stream",
     "text": [
      "[9/200][81/189] ========== Loss_D: 1.4353, Loss_G: 1.8447, Acc_G: 26/32 = 81.2500\n"
     ]
    },
    {
     "name": "stderr",
     "output_type": "stream",
     "text": [
      " 43%|█████████████████████████████████████▋                                                 | 82/189 [01:40<02:05,  1.17s/it]"
     ]
    },
    {
     "name": "stdout",
     "output_type": "stream",
     "text": [
      "[9/200][82/189] ========== Loss_D: 1.4095, Loss_G: 1.8425, Acc_G: 26/32 = 81.2500\n"
     ]
    },
    {
     "name": "stderr",
     "output_type": "stream",
     "text": [
      " 44%|██████████████████████████████████████▏                                                | 83/189 [01:41<01:56,  1.10s/it]"
     ]
    },
    {
     "name": "stdout",
     "output_type": "stream",
     "text": [
      "[9/200][83/189] ========== Loss_D: 1.4272, Loss_G: 1.8158, Acc_G: 20/32 = 62.5000\n"
     ]
    },
    {
     "name": "stderr",
     "output_type": "stream",
     "text": [
      " 44%|██████████████████████████████████████▋                                                | 84/189 [01:43<02:10,  1.24s/it]"
     ]
    },
    {
     "name": "stdout",
     "output_type": "stream",
     "text": [
      "[9/200][84/189] ========== Loss_D: 1.4120, Loss_G: 1.7625, Acc_G: 25/32 = 78.1250\n"
     ]
    },
    {
     "name": "stderr",
     "output_type": "stream",
     "text": [
      " 45%|███████████████████████████████████████▏                                               | 85/189 [01:44<02:13,  1.28s/it]"
     ]
    },
    {
     "name": "stdout",
     "output_type": "stream",
     "text": [
      "[9/200][85/189] ========== Loss_D: 1.4195, Loss_G: 1.6920, Acc_G: 25/32 = 78.1250\n"
     ]
    },
    {
     "name": "stderr",
     "output_type": "stream",
     "text": [
      " 46%|███████████████████████████████████████▌                                               | 86/189 [01:45<02:13,  1.30s/it]"
     ]
    },
    {
     "name": "stdout",
     "output_type": "stream",
     "text": [
      "[9/200][86/189] ========== Loss_D: 1.4071, Loss_G: 1.7523, Acc_G: 22/32 = 68.7500\n"
     ]
    },
    {
     "name": "stderr",
     "output_type": "stream",
     "text": [
      " 46%|████████████████████████████████████████                                               | 87/189 [01:47<02:23,  1.41s/it]"
     ]
    },
    {
     "name": "stdout",
     "output_type": "stream",
     "text": [
      "[9/200][87/189] ========== Loss_D: 1.4006, Loss_G: 1.8734, Acc_G: 25/32 = 78.1250\n"
     ]
    },
    {
     "name": "stderr",
     "output_type": "stream",
     "text": [
      " 47%|████████████████████████████████████████▌                                              | 88/189 [01:48<02:15,  1.34s/it]"
     ]
    },
    {
     "name": "stdout",
     "output_type": "stream",
     "text": [
      "[9/200][88/189] ========== Loss_D: 1.3986, Loss_G: 1.8730, Acc_G: 20/32 = 62.5000\n"
     ]
    },
    {
     "name": "stderr",
     "output_type": "stream",
     "text": [
      " 47%|████████████████████████████████████████▉                                              | 89/189 [01:49<02:09,  1.30s/it]"
     ]
    },
    {
     "name": "stdout",
     "output_type": "stream",
     "text": [
      "[9/200][89/189] ========== Loss_D: 1.4282, Loss_G: 1.8707, Acc_G: 24/32 = 75.0000\n"
     ]
    },
    {
     "name": "stderr",
     "output_type": "stream",
     "text": [
      " 48%|█████████████████████████████████████████▍                                             | 90/189 [01:51<02:08,  1.30s/it]"
     ]
    },
    {
     "name": "stdout",
     "output_type": "stream",
     "text": [
      "[9/200][90/189] ========== Loss_D: 1.4234, Loss_G: 1.8012, Acc_G: 22/32 = 68.7500\n"
     ]
    },
    {
     "name": "stderr",
     "output_type": "stream",
     "text": [
      " 48%|█████████████████████████████████████████▉                                             | 91/189 [01:52<02:06,  1.29s/it]"
     ]
    },
    {
     "name": "stdout",
     "output_type": "stream",
     "text": [
      "[9/200][91/189] ========== Loss_D: 1.4129, Loss_G: 1.6658, Acc_G: 29/32 = 90.6250\n"
     ]
    },
    {
     "name": "stderr",
     "output_type": "stream",
     "text": [
      " 49%|██████████████████████████████████████████▎                                            | 92/189 [01:53<02:06,  1.30s/it]"
     ]
    },
    {
     "name": "stdout",
     "output_type": "stream",
     "text": [
      "[9/200][92/189] ========== Loss_D: 1.4243, Loss_G: 1.7320, Acc_G: 23/32 = 71.8750\n"
     ]
    },
    {
     "name": "stderr",
     "output_type": "stream",
     "text": [
      " 49%|██████████████████████████████████████████▊                                            | 93/189 [01:55<02:02,  1.28s/it]"
     ]
    },
    {
     "name": "stdout",
     "output_type": "stream",
     "text": [
      "[9/200][93/189] ========== Loss_D: 1.4259, Loss_G: 1.8879, Acc_G: 21/32 = 65.6250\n"
     ]
    },
    {
     "name": "stderr",
     "output_type": "stream",
     "text": [
      " 50%|███████████████████████████████████████████▎                                           | 94/189 [01:56<01:53,  1.20s/it]"
     ]
    },
    {
     "name": "stdout",
     "output_type": "stream",
     "text": [
      "[9/200][94/189] ========== Loss_D: 1.4090, Loss_G: 1.8267, Acc_G: 30/32 = 93.7500\n"
     ]
    },
    {
     "name": "stderr",
     "output_type": "stream",
     "text": [
      " 50%|███████████████████████████████████████████▋                                           | 95/189 [01:57<01:55,  1.23s/it]"
     ]
    },
    {
     "name": "stdout",
     "output_type": "stream",
     "text": [
      "[9/200][95/189] ========== Loss_D: 1.4191, Loss_G: 1.8240, Acc_G: 25/32 = 78.1250\n"
     ]
    },
    {
     "name": "stderr",
     "output_type": "stream",
     "text": [
      " 51%|████████████████████████████████████████████▏                                          | 96/189 [01:58<01:50,  1.18s/it]"
     ]
    },
    {
     "name": "stdout",
     "output_type": "stream",
     "text": [
      "[9/200][96/189] ========== Loss_D: 1.4198, Loss_G: 1.8641, Acc_G: 26/32 = 81.2500\n"
     ]
    },
    {
     "name": "stderr",
     "output_type": "stream",
     "text": [
      " 51%|████████████████████████████████████████████▋                                          | 97/189 [01:59<01:44,  1.13s/it]"
     ]
    },
    {
     "name": "stdout",
     "output_type": "stream",
     "text": [
      "[9/200][97/189] ========== Loss_D: 1.4165, Loss_G: 1.8714, Acc_G: 21/32 = 65.6250\n"
     ]
    },
    {
     "name": "stderr",
     "output_type": "stream",
     "text": [
      " 52%|█████████████████████████████████████████████                                          | 98/189 [02:00<01:44,  1.15s/it]"
     ]
    },
    {
     "name": "stdout",
     "output_type": "stream",
     "text": [
      "[9/200][98/189] ========== Loss_D: 1.4110, Loss_G: 1.8927, Acc_G: 26/32 = 81.2500\n"
     ]
    },
    {
     "name": "stderr",
     "output_type": "stream",
     "text": [
      " 52%|█████████████████████████████████████████████▌                                         | 99/189 [02:02<01:51,  1.24s/it]"
     ]
    },
    {
     "name": "stdout",
     "output_type": "stream",
     "text": [
      "[9/200][99/189] ========== Loss_D: 1.4102, Loss_G: 1.8022, Acc_G: 29/32 = 90.6250\n"
     ]
    },
    {
     "name": "stderr",
     "output_type": "stream",
     "text": [
      " 53%|█████████████████████████████████████████████▌                                        | 100/189 [02:03<01:52,  1.26s/it]"
     ]
    },
    {
     "name": "stdout",
     "output_type": "stream",
     "text": [
      "[9/200][100/189] ========== Loss_D: 1.4289, Loss_G: 1.9093, Acc_G: 25/32 = 78.1250\n"
     ]
    },
    {
     "name": "stderr",
     "output_type": "stream",
     "text": [
      " 53%|█████████████████████████████████████████████▉                                        | 101/189 [02:04<01:49,  1.24s/it]"
     ]
    },
    {
     "name": "stdout",
     "output_type": "stream",
     "text": [
      "[9/200][101/189] ========== Loss_D: 1.4250, Loss_G: 1.7382, Acc_G: 25/32 = 78.1250\n"
     ]
    },
    {
     "name": "stderr",
     "output_type": "stream",
     "text": [
      " 54%|██████████████████████████████████████████████▍                                       | 102/189 [02:05<01:41,  1.17s/it]"
     ]
    },
    {
     "name": "stdout",
     "output_type": "stream",
     "text": [
      "[9/200][102/189] ========== Loss_D: 1.4154, Loss_G: 1.7873, Acc_G: 25/32 = 78.1250\n"
     ]
    },
    {
     "name": "stderr",
     "output_type": "stream",
     "text": [
      " 54%|██████████████████████████████████████████████▊                                       | 103/189 [02:07<01:47,  1.25s/it]"
     ]
    },
    {
     "name": "stdout",
     "output_type": "stream",
     "text": [
      "[9/200][103/189] ========== Loss_D: 1.4255, Loss_G: 1.7933, Acc_G: 22/32 = 68.7500\n"
     ]
    },
    {
     "name": "stderr",
     "output_type": "stream",
     "text": [
      " 55%|███████████████████████████████████████████████▎                                      | 104/189 [02:08<01:41,  1.20s/it]"
     ]
    },
    {
     "name": "stdout",
     "output_type": "stream",
     "text": [
      "[9/200][104/189] ========== Loss_D: 1.4190, Loss_G: 1.8487, Acc_G: 25/32 = 78.1250\n"
     ]
    },
    {
     "name": "stderr",
     "output_type": "stream",
     "text": [
      " 56%|███████████████████████████████████████████████▊                                      | 105/189 [02:09<01:39,  1.18s/it]"
     ]
    },
    {
     "name": "stdout",
     "output_type": "stream",
     "text": [
      "[9/200][105/189] ========== Loss_D: 1.4264, Loss_G: 1.8089, Acc_G: 21/32 = 65.6250\n"
     ]
    },
    {
     "name": "stderr",
     "output_type": "stream",
     "text": [
      " 56%|████████████████████████████████████████████████▏                                     | 106/189 [02:10<01:35,  1.15s/it]"
     ]
    },
    {
     "name": "stdout",
     "output_type": "stream",
     "text": [
      "[9/200][106/189] ========== Loss_D: 1.4199, Loss_G: 1.8982, Acc_G: 26/32 = 81.2500\n"
     ]
    },
    {
     "name": "stderr",
     "output_type": "stream",
     "text": [
      " 57%|████████████████████████████████████████████████▋                                     | 107/189 [02:11<01:44,  1.27s/it]"
     ]
    },
    {
     "name": "stdout",
     "output_type": "stream",
     "text": [
      "[9/200][107/189] ========== Loss_D: 1.4189, Loss_G: 1.9118, Acc_G: 24/32 = 75.0000\n"
     ]
    },
    {
     "name": "stderr",
     "output_type": "stream",
     "text": [
      " 57%|█████████████████████████████████████████████████▏                                    | 108/189 [02:13<01:44,  1.29s/it]"
     ]
    },
    {
     "name": "stdout",
     "output_type": "stream",
     "text": [
      "[9/200][108/189] ========== Loss_D: 1.4179, Loss_G: 1.7596, Acc_G: 27/32 = 84.3750\n"
     ]
    },
    {
     "name": "stderr",
     "output_type": "stream",
     "text": [
      " 58%|█████████████████████████████████████████████████▌                                    | 109/189 [02:14<01:40,  1.26s/it]"
     ]
    },
    {
     "name": "stdout",
     "output_type": "stream",
     "text": [
      "[9/200][109/189] ========== Loss_D: 1.4088, Loss_G: 1.7519, Acc_G: 27/32 = 84.3750\n"
     ]
    },
    {
     "name": "stderr",
     "output_type": "stream",
     "text": [
      " 58%|██████████████████████████████████████████████████                                    | 110/189 [02:15<01:43,  1.30s/it]"
     ]
    },
    {
     "name": "stdout",
     "output_type": "stream",
     "text": [
      "[9/200][110/189] ========== Loss_D: 1.4126, Loss_G: 1.9169, Acc_G: 25/32 = 78.1250\n"
     ]
    },
    {
     "name": "stderr",
     "output_type": "stream",
     "text": [
      " 59%|██████████████████████████████████████████████████▌                                   | 111/189 [02:17<01:48,  1.40s/it]"
     ]
    },
    {
     "name": "stdout",
     "output_type": "stream",
     "text": [
      "[9/200][111/189] ========== Loss_D: 1.4182, Loss_G: 1.8476, Acc_G: 27/32 = 84.3750\n"
     ]
    },
    {
     "name": "stderr",
     "output_type": "stream",
     "text": [
      " 59%|██████████████████████████████████████████████████▉                                   | 112/189 [02:19<01:54,  1.48s/it]"
     ]
    },
    {
     "name": "stdout",
     "output_type": "stream",
     "text": [
      "[9/200][112/189] ========== Loss_D: 1.4295, Loss_G: 1.8237, Acc_G: 25/32 = 78.1250\n"
     ]
    },
    {
     "name": "stderr",
     "output_type": "stream",
     "text": [
      " 60%|███████████████████████████████████████████████████▍                                  | 113/189 [02:20<01:42,  1.36s/it]"
     ]
    },
    {
     "name": "stdout",
     "output_type": "stream",
     "text": [
      "[9/200][113/189] ========== Loss_D: 1.4326, Loss_G: 1.8689, Acc_G: 26/32 = 81.2500\n"
     ]
    },
    {
     "name": "stderr",
     "output_type": "stream",
     "text": [
      " 60%|███████████████████████████████████████████████████▊                                  | 114/189 [02:21<01:32,  1.23s/it]"
     ]
    },
    {
     "name": "stdout",
     "output_type": "stream",
     "text": [
      "[9/200][114/189] ========== Loss_D: 1.4198, Loss_G: 1.8831, Acc_G: 22/32 = 68.7500\n"
     ]
    },
    {
     "name": "stderr",
     "output_type": "stream",
     "text": [
      " 61%|████████████████████████████████████████████████████▎                                 | 115/189 [02:22<01:29,  1.20s/it]"
     ]
    },
    {
     "name": "stdout",
     "output_type": "stream",
     "text": [
      "[9/200][115/189] ========== Loss_D: 1.4196, Loss_G: 1.9526, Acc_G: 24/32 = 75.0000\n"
     ]
    },
    {
     "name": "stderr",
     "output_type": "stream",
     "text": [
      " 61%|████████████████████████████████████████████████████▊                                 | 116/189 [02:23<01:30,  1.24s/it]"
     ]
    },
    {
     "name": "stdout",
     "output_type": "stream",
     "text": [
      "[9/200][116/189] ========== Loss_D: 1.4181, Loss_G: 1.7202, Acc_G: 28/32 = 87.5000\n"
     ]
    },
    {
     "name": "stderr",
     "output_type": "stream",
     "text": [
      " 62%|█████████████████████████████████████████████████████▏                                | 117/189 [02:24<01:28,  1.24s/it]"
     ]
    },
    {
     "name": "stdout",
     "output_type": "stream",
     "text": [
      "[9/200][117/189] ========== Loss_D: 1.4193, Loss_G: 1.8963, Acc_G: 27/32 = 84.3750\n"
     ]
    },
    {
     "name": "stderr",
     "output_type": "stream",
     "text": [
      " 62%|█████████████████████████████████████████████████████▋                                | 118/189 [02:25<01:18,  1.10s/it]"
     ]
    },
    {
     "name": "stdout",
     "output_type": "stream",
     "text": [
      "[9/200][118/189] ========== Loss_D: 1.4114, Loss_G: 1.8039, Acc_G: 28/32 = 87.5000\n"
     ]
    },
    {
     "name": "stderr",
     "output_type": "stream",
     "text": [
      " 63%|██████████████████████████████████████████████████████▏                               | 119/189 [02:26<01:17,  1.11s/it]"
     ]
    },
    {
     "name": "stdout",
     "output_type": "stream",
     "text": [
      "[9/200][119/189] ========== Loss_D: 1.4091, Loss_G: 1.7622, Acc_G: 29/32 = 90.6250\n"
     ]
    },
    {
     "name": "stderr",
     "output_type": "stream",
     "text": [
      " 63%|██████████████████████████████████████████████████████▌                               | 120/189 [02:28<01:27,  1.27s/it]"
     ]
    },
    {
     "name": "stdout",
     "output_type": "stream",
     "text": [
      "[9/200][120/189] ========== Loss_D: 1.4269, Loss_G: 1.8656, Acc_G: 25/32 = 78.1250\n"
     ]
    },
    {
     "name": "stderr",
     "output_type": "stream",
     "text": [
      " 64%|███████████████████████████████████████████████████████                               | 121/189 [02:29<01:23,  1.23s/it]"
     ]
    },
    {
     "name": "stdout",
     "output_type": "stream",
     "text": [
      "[9/200][121/189] ========== Loss_D: 1.4142, Loss_G: 1.8923, Acc_G: 23/32 = 71.8750\n"
     ]
    },
    {
     "name": "stderr",
     "output_type": "stream",
     "text": [
      " 65%|███████████████████████████████████████████████████████▌                              | 122/189 [02:31<01:31,  1.37s/it]"
     ]
    },
    {
     "name": "stdout",
     "output_type": "stream",
     "text": [
      "[9/200][122/189] ========== Loss_D: 1.4208, Loss_G: 1.8329, Acc_G: 23/32 = 71.8750\n"
     ]
    },
    {
     "name": "stderr",
     "output_type": "stream",
     "text": [
      " 65%|███████████████████████████████████████████████████████▉                              | 123/189 [02:32<01:22,  1.26s/it]"
     ]
    },
    {
     "name": "stdout",
     "output_type": "stream",
     "text": [
      "[9/200][123/189] ========== Loss_D: 1.4273, Loss_G: 1.7593, Acc_G: 21/32 = 65.6250\n"
     ]
    },
    {
     "name": "stderr",
     "output_type": "stream",
     "text": [
      " 66%|████████████████████████████████████████████████████████▍                             | 124/189 [02:33<01:19,  1.23s/it]"
     ]
    },
    {
     "name": "stdout",
     "output_type": "stream",
     "text": [
      "[9/200][124/189] ========== Loss_D: 1.4244, Loss_G: 1.8214, Acc_G: 27/32 = 84.3750\n"
     ]
    },
    {
     "name": "stderr",
     "output_type": "stream",
     "text": [
      " 66%|████████████████████████████████████████████████████████▉                             | 125/189 [02:34<01:18,  1.23s/it]"
     ]
    },
    {
     "name": "stdout",
     "output_type": "stream",
     "text": [
      "[9/200][125/189] ========== Loss_D: 1.3979, Loss_G: 1.6887, Acc_G: 22/32 = 68.7500\n"
     ]
    },
    {
     "name": "stderr",
     "output_type": "stream",
     "text": [
      " 67%|█████████████████████████████████████████████████████████▎                            | 126/189 [02:36<01:23,  1.32s/it]"
     ]
    },
    {
     "name": "stdout",
     "output_type": "stream",
     "text": [
      "[9/200][126/189] ========== Loss_D: 1.4271, Loss_G: 1.7398, Acc_G: 26/32 = 81.2500\n"
     ]
    },
    {
     "name": "stderr",
     "output_type": "stream",
     "text": [
      " 67%|█████████████████████████████████████████████████████████▊                            | 127/189 [02:37<01:25,  1.38s/it]"
     ]
    },
    {
     "name": "stdout",
     "output_type": "stream",
     "text": [
      "[9/200][127/189] ========== Loss_D: 1.4206, Loss_G: 1.8504, Acc_G: 27/32 = 84.3750\n"
     ]
    },
    {
     "name": "stderr",
     "output_type": "stream",
     "text": [
      " 68%|██████████████████████████████████████████████████████████▏                           | 128/189 [02:38<01:20,  1.31s/it]"
     ]
    },
    {
     "name": "stdout",
     "output_type": "stream",
     "text": [
      "[9/200][128/189] ========== Loss_D: 1.4108, Loss_G: 1.7231, Acc_G: 24/32 = 75.0000\n"
     ]
    },
    {
     "name": "stderr",
     "output_type": "stream",
     "text": [
      " 68%|██████████████████████████████████████████████████████████▋                           | 129/189 [02:40<01:15,  1.26s/it]"
     ]
    },
    {
     "name": "stdout",
     "output_type": "stream",
     "text": [
      "[9/200][129/189] ========== Loss_D: 1.4211, Loss_G: 1.8779, Acc_G: 24/32 = 75.0000\n"
     ]
    },
    {
     "name": "stderr",
     "output_type": "stream",
     "text": [
      " 69%|███████████████████████████████████████████████████████████▏                          | 130/189 [02:41<01:10,  1.19s/it]"
     ]
    },
    {
     "name": "stdout",
     "output_type": "stream",
     "text": [
      "[9/200][130/189] ========== Loss_D: 1.4046, Loss_G: 1.8850, Acc_G: 27/32 = 84.3750\n"
     ]
    },
    {
     "name": "stderr",
     "output_type": "stream",
     "text": [
      " 69%|███████████████████████████████████████████████████████████▌                          | 131/189 [02:41<01:02,  1.08s/it]"
     ]
    },
    {
     "name": "stdout",
     "output_type": "stream",
     "text": [
      "[9/200][131/189] ========== Loss_D: 1.4314, Loss_G: 1.8473, Acc_G: 20/32 = 62.5000\n"
     ]
    },
    {
     "name": "stderr",
     "output_type": "stream",
     "text": [
      " 70%|████████████████████████████████████████████████████████████                          | 132/189 [02:43<01:03,  1.11s/it]"
     ]
    },
    {
     "name": "stdout",
     "output_type": "stream",
     "text": [
      "[9/200][132/189] ========== Loss_D: 1.4203, Loss_G: 1.7845, Acc_G: 28/32 = 87.5000\n"
     ]
    },
    {
     "name": "stderr",
     "output_type": "stream",
     "text": [
      " 70%|████████████████████████████████████████████████████████████▌                         | 133/189 [02:44<01:04,  1.15s/it]"
     ]
    },
    {
     "name": "stdout",
     "output_type": "stream",
     "text": [
      "[9/200][133/189] ========== Loss_D: 1.4095, Loss_G: 1.7833, Acc_G: 26/32 = 81.2500\n"
     ]
    },
    {
     "name": "stderr",
     "output_type": "stream",
     "text": [
      " 71%|████████████████████████████████████████████████████████████▉                         | 134/189 [02:45<01:03,  1.15s/it]"
     ]
    },
    {
     "name": "stdout",
     "output_type": "stream",
     "text": [
      "[9/200][134/189] ========== Loss_D: 1.4203, Loss_G: 1.8506, Acc_G: 27/32 = 84.3750\n"
     ]
    },
    {
     "name": "stderr",
     "output_type": "stream",
     "text": [
      " 71%|█████████████████████████████████████████████████████████████▍                        | 135/189 [02:46<01:04,  1.20s/it]"
     ]
    },
    {
     "name": "stdout",
     "output_type": "stream",
     "text": [
      "[9/200][135/189] ========== Loss_D: 1.4176, Loss_G: 1.8411, Acc_G: 26/32 = 81.2500\n"
     ]
    },
    {
     "name": "stderr",
     "output_type": "stream",
     "text": [
      " 72%|█████████████████████████████████████████████████████████████▉                        | 136/189 [02:47<00:59,  1.12s/it]"
     ]
    },
    {
     "name": "stdout",
     "output_type": "stream",
     "text": [
      "[9/200][136/189] ========== Loss_D: 1.4261, Loss_G: 1.7690, Acc_G: 24/32 = 75.0000\n"
     ]
    },
    {
     "name": "stderr",
     "output_type": "stream",
     "text": [
      " 72%|██████████████████████████████████████████████████████████████▎                       | 137/189 [02:48<00:59,  1.15s/it]"
     ]
    },
    {
     "name": "stdout",
     "output_type": "stream",
     "text": [
      "[9/200][137/189] ========== Loss_D: 1.4161, Loss_G: 1.7840, Acc_G: 27/32 = 84.3750\n"
     ]
    },
    {
     "name": "stderr",
     "output_type": "stream",
     "text": [
      " 73%|██████████████████████████████████████████████████████████████▊                       | 138/189 [02:50<00:58,  1.15s/it]"
     ]
    },
    {
     "name": "stdout",
     "output_type": "stream",
     "text": [
      "[9/200][138/189] ========== Loss_D: 1.4227, Loss_G: 1.8277, Acc_G: 24/32 = 75.0000\n"
     ]
    },
    {
     "name": "stderr",
     "output_type": "stream",
     "text": [
      " 74%|███████████████████████████████████████████████████████████████▏                      | 139/189 [02:51<00:57,  1.15s/it]"
     ]
    },
    {
     "name": "stdout",
     "output_type": "stream",
     "text": [
      "[9/200][139/189] ========== Loss_D: 1.4309, Loss_G: 1.8251, Acc_G: 23/32 = 71.8750\n"
     ]
    },
    {
     "name": "stderr",
     "output_type": "stream",
     "text": [
      " 74%|███████████████████████████████████████████████████████████████▋                      | 140/189 [02:52<00:55,  1.13s/it]"
     ]
    },
    {
     "name": "stdout",
     "output_type": "stream",
     "text": [
      "[9/200][140/189] ========== Loss_D: 1.4183, Loss_G: 1.7700, Acc_G: 24/32 = 75.0000\n"
     ]
    },
    {
     "name": "stderr",
     "output_type": "stream",
     "text": [
      " 75%|████████████████████████████████████████████████████████████████▏                     | 141/189 [02:53<00:59,  1.24s/it]"
     ]
    },
    {
     "name": "stdout",
     "output_type": "stream",
     "text": [
      "[9/200][141/189] ========== Loss_D: 1.4064, Loss_G: 1.7758, Acc_G: 27/32 = 84.3750\n"
     ]
    },
    {
     "name": "stderr",
     "output_type": "stream",
     "text": [
      " 75%|████████████████████████████████████████████████████████████████▌                     | 142/189 [02:55<00:58,  1.24s/it]"
     ]
    },
    {
     "name": "stdout",
     "output_type": "stream",
     "text": [
      "[9/200][142/189] ========== Loss_D: 1.4142, Loss_G: 1.9040, Acc_G: 25/32 = 78.1250\n"
     ]
    },
    {
     "name": "stderr",
     "output_type": "stream",
     "text": [
      " 76%|█████████████████████████████████████████████████████████████████                     | 143/189 [02:56<00:59,  1.29s/it]"
     ]
    },
    {
     "name": "stdout",
     "output_type": "stream",
     "text": [
      "[9/200][143/189] ========== Loss_D: 1.4187, Loss_G: 1.8417, Acc_G: 22/32 = 68.7500\n"
     ]
    },
    {
     "name": "stderr",
     "output_type": "stream",
     "text": [
      " 76%|█████████████████████████████████████████████████████████████████▌                    | 144/189 [02:57<00:58,  1.29s/it]"
     ]
    },
    {
     "name": "stdout",
     "output_type": "stream",
     "text": [
      "[9/200][144/189] ========== Loss_D: 1.4308, Loss_G: 1.7865, Acc_G: 27/32 = 84.3750\n"
     ]
    },
    {
     "name": "stderr",
     "output_type": "stream",
     "text": [
      " 77%|█████████████████████████████████████████████████████████████████▉                    | 145/189 [02:58<00:51,  1.18s/it]"
     ]
    },
    {
     "name": "stdout",
     "output_type": "stream",
     "text": [
      "[9/200][145/189] ========== Loss_D: 1.4096, Loss_G: 1.7803, Acc_G: 22/32 = 68.7500\n"
     ]
    },
    {
     "name": "stderr",
     "output_type": "stream",
     "text": [
      " 77%|██████████████████████████████████████████████████████████████████▍                   | 146/189 [02:59<00:48,  1.13s/it]"
     ]
    },
    {
     "name": "stdout",
     "output_type": "stream",
     "text": [
      "[9/200][146/189] ========== Loss_D: 1.4325, Loss_G: 1.8334, Acc_G: 26/32 = 81.2500\n"
     ]
    },
    {
     "name": "stderr",
     "output_type": "stream",
     "text": [
      " 78%|██████████████████████████████████████████████████████████████████▉                   | 147/189 [03:00<00:46,  1.10s/it]"
     ]
    },
    {
     "name": "stdout",
     "output_type": "stream",
     "text": [
      "[9/200][147/189] ========== Loss_D: 1.4204, Loss_G: 1.7721, Acc_G: 24/32 = 75.0000\n"
     ]
    },
    {
     "name": "stderr",
     "output_type": "stream",
     "text": [
      " 78%|███████████████████████████████████████████████████████████████████▎                  | 148/189 [03:01<00:46,  1.14s/it]"
     ]
    },
    {
     "name": "stdout",
     "output_type": "stream",
     "text": [
      "[9/200][148/189] ========== Loss_D: 1.4249, Loss_G: 1.8389, Acc_G: 25/32 = 78.1250\n"
     ]
    },
    {
     "name": "stderr",
     "output_type": "stream",
     "text": [
      " 79%|███████████████████████████████████████████████████████████████████▊                  | 149/189 [03:03<00:45,  1.15s/it]"
     ]
    },
    {
     "name": "stdout",
     "output_type": "stream",
     "text": [
      "[9/200][149/189] ========== Loss_D: 1.4356, Loss_G: 1.7365, Acc_G: 21/32 = 65.6250\n"
     ]
    },
    {
     "name": "stderr",
     "output_type": "stream",
     "text": [
      " 79%|████████████████████████████████████████████████████████████████████▎                 | 150/189 [03:04<00:49,  1.26s/it]"
     ]
    },
    {
     "name": "stdout",
     "output_type": "stream",
     "text": [
      "[9/200][150/189] ========== Loss_D: 1.4152, Loss_G: 1.8897, Acc_G: 26/32 = 81.2500\n"
     ]
    },
    {
     "name": "stderr",
     "output_type": "stream",
     "text": [
      " 80%|████████████████████████████████████████████████████████████████████▋                 | 151/189 [03:05<00:47,  1.26s/it]"
     ]
    },
    {
     "name": "stdout",
     "output_type": "stream",
     "text": [
      "[9/200][151/189] ========== Loss_D: 1.4195, Loss_G: 1.8738, Acc_G: 22/32 = 68.7500\n"
     ]
    },
    {
     "name": "stderr",
     "output_type": "stream",
     "text": [
      " 80%|█████████████████████████████████████████████████████████████████████▏                | 152/189 [03:07<00:45,  1.24s/it]"
     ]
    },
    {
     "name": "stdout",
     "output_type": "stream",
     "text": [
      "[9/200][152/189] ========== Loss_D: 1.4258, Loss_G: 1.8730, Acc_G: 25/32 = 78.1250\n"
     ]
    },
    {
     "name": "stderr",
     "output_type": "stream",
     "text": [
      " 81%|█████████████████████████████████████████████████████████████████████▌                | 153/189 [03:08<00:48,  1.34s/it]"
     ]
    },
    {
     "name": "stdout",
     "output_type": "stream",
     "text": [
      "[9/200][153/189] ========== Loss_D: 1.4178, Loss_G: 1.8757, Acc_G: 24/32 = 75.0000\n"
     ]
    },
    {
     "name": "stderr",
     "output_type": "stream",
     "text": [
      " 81%|██████████████████████████████████████████████████████████████████████                | 154/189 [03:09<00:44,  1.27s/it]"
     ]
    },
    {
     "name": "stdout",
     "output_type": "stream",
     "text": [
      "[9/200][154/189] ========== Loss_D: 1.4342, Loss_G: 1.8927, Acc_G: 23/32 = 71.8750\n"
     ]
    },
    {
     "name": "stderr",
     "output_type": "stream",
     "text": [
      " 82%|██████████████████████████████████████████████████████████████████████▌               | 155/189 [03:11<00:45,  1.35s/it]"
     ]
    },
    {
     "name": "stdout",
     "output_type": "stream",
     "text": [
      "[9/200][155/189] ========== Loss_D: 1.4166, Loss_G: 1.8342, Acc_G: 25/32 = 78.1250\n"
     ]
    },
    {
     "name": "stderr",
     "output_type": "stream",
     "text": [
      " 83%|██████████████████████████████████████████████████████████████████████▉               | 156/189 [03:12<00:42,  1.28s/it]"
     ]
    },
    {
     "name": "stdout",
     "output_type": "stream",
     "text": [
      "[9/200][156/189] ========== Loss_D: 1.4063, Loss_G: 1.8106, Acc_G: 21/32 = 65.6250\n"
     ]
    },
    {
     "name": "stderr",
     "output_type": "stream",
     "text": [
      " 83%|███████████████████████████████████████████████████████████████████████▍              | 157/189 [03:13<00:40,  1.27s/it]"
     ]
    },
    {
     "name": "stdout",
     "output_type": "stream",
     "text": [
      "[9/200][157/189] ========== Loss_D: 1.4127, Loss_G: 1.8268, Acc_G: 22/32 = 68.7500\n"
     ]
    },
    {
     "name": "stderr",
     "output_type": "stream",
     "text": [
      " 84%|███████████████████████████████████████████████████████████████████████▉              | 158/189 [03:14<00:39,  1.29s/it]"
     ]
    },
    {
     "name": "stdout",
     "output_type": "stream",
     "text": [
      "[9/200][158/189] ========== Loss_D: 1.4229, Loss_G: 1.7969, Acc_G: 26/32 = 81.2500\n"
     ]
    },
    {
     "name": "stderr",
     "output_type": "stream",
     "text": [
      " 84%|████████████████████████████████████████████████████████████████████████▎             | 159/189 [03:16<00:36,  1.23s/it]"
     ]
    },
    {
     "name": "stdout",
     "output_type": "stream",
     "text": [
      "[9/200][159/189] ========== Loss_D: 1.4240, Loss_G: 1.7916, Acc_G: 27/32 = 84.3750\n"
     ]
    },
    {
     "name": "stderr",
     "output_type": "stream",
     "text": [
      " 85%|████████████████████████████████████████████████████████████████████████▊             | 160/189 [03:17<00:36,  1.26s/it]"
     ]
    },
    {
     "name": "stdout",
     "output_type": "stream",
     "text": [
      "[9/200][160/189] ========== Loss_D: 1.4216, Loss_G: 1.8377, Acc_G: 25/32 = 78.1250\n"
     ]
    },
    {
     "name": "stderr",
     "output_type": "stream",
     "text": [
      " 85%|█████████████████████████████████████████████████████████████████████████▎            | 161/189 [03:18<00:36,  1.32s/it]"
     ]
    },
    {
     "name": "stdout",
     "output_type": "stream",
     "text": [
      "[9/200][161/189] ========== Loss_D: 1.4217, Loss_G: 1.8571, Acc_G: 26/32 = 81.2500\n"
     ]
    },
    {
     "name": "stderr",
     "output_type": "stream",
     "text": [
      " 86%|█████████████████████████████████████████████████████████████████████████▋            | 162/189 [03:20<00:38,  1.41s/it]"
     ]
    },
    {
     "name": "stdout",
     "output_type": "stream",
     "text": [
      "[9/200][162/189] ========== Loss_D: 1.4127, Loss_G: 1.9711, Acc_G: 27/32 = 84.3750\n"
     ]
    },
    {
     "name": "stderr",
     "output_type": "stream",
     "text": [
      " 86%|██████████████████████████████████████████████████████████████████████████▏           | 163/189 [03:21<00:35,  1.37s/it]"
     ]
    },
    {
     "name": "stdout",
     "output_type": "stream",
     "text": [
      "[9/200][163/189] ========== Loss_D: 1.4311, Loss_G: 1.8155, Acc_G: 26/32 = 81.2500\n"
     ]
    },
    {
     "name": "stderr",
     "output_type": "stream",
     "text": [
      " 87%|██████████████████████████████████████████████████████████████████████████▌           | 164/189 [03:23<00:33,  1.34s/it]"
     ]
    },
    {
     "name": "stdout",
     "output_type": "stream",
     "text": [
      "[9/200][164/189] ========== Loss_D: 1.4282, Loss_G: 1.7778, Acc_G: 24/32 = 75.0000\n"
     ]
    },
    {
     "name": "stderr",
     "output_type": "stream",
     "text": [
      " 87%|███████████████████████████████████████████████████████████████████████████           | 165/189 [03:23<00:28,  1.21s/it]"
     ]
    },
    {
     "name": "stdout",
     "output_type": "stream",
     "text": [
      "[9/200][165/189] ========== Loss_D: 1.4360, Loss_G: 1.7872, Acc_G: 28/32 = 87.5000\n"
     ]
    },
    {
     "name": "stderr",
     "output_type": "stream",
     "text": [
      " 88%|███████████████████████████████████████████████████████████████████████████▌          | 166/189 [03:25<00:28,  1.25s/it]"
     ]
    },
    {
     "name": "stdout",
     "output_type": "stream",
     "text": [
      "[9/200][166/189] ========== Loss_D: 1.4162, Loss_G: 1.7736, Acc_G: 25/32 = 78.1250\n"
     ]
    },
    {
     "name": "stderr",
     "output_type": "stream",
     "text": [
      " 88%|███████████████████████████████████████████████████████████████████████████▉          | 167/189 [03:26<00:24,  1.13s/it]"
     ]
    },
    {
     "name": "stdout",
     "output_type": "stream",
     "text": [
      "[9/200][167/189] ========== Loss_D: 1.4238, Loss_G: 1.8760, Acc_G: 18/32 = 56.2500\n"
     ]
    },
    {
     "name": "stderr",
     "output_type": "stream",
     "text": [
      " 89%|████████████████████████████████████████████████████████████████████████████▍         | 168/189 [03:27<00:23,  1.11s/it]"
     ]
    },
    {
     "name": "stdout",
     "output_type": "stream",
     "text": [
      "[9/200][168/189] ========== Loss_D: 1.4100, Loss_G: 1.8356, Acc_G: 25/32 = 78.1250\n"
     ]
    },
    {
     "name": "stderr",
     "output_type": "stream",
     "text": [
      " 89%|████████████████████████████████████████████████████████████████████████████▉         | 169/189 [03:28<00:24,  1.21s/it]"
     ]
    },
    {
     "name": "stdout",
     "output_type": "stream",
     "text": [
      "[9/200][169/189] ========== Loss_D: 1.4124, Loss_G: 1.7999, Acc_G: 20/32 = 62.5000\n"
     ]
    },
    {
     "name": "stderr",
     "output_type": "stream",
     "text": [
      " 90%|█████████████████████████████████████████████████████████████████████████████▎        | 170/189 [03:30<00:25,  1.35s/it]"
     ]
    },
    {
     "name": "stdout",
     "output_type": "stream",
     "text": [
      "[9/200][170/189] ========== Loss_D: 1.4131, Loss_G: 1.7628, Acc_G: 28/32 = 87.5000\n"
     ]
    },
    {
     "name": "stderr",
     "output_type": "stream",
     "text": [
      " 90%|█████████████████████████████████████████████████████████████████████████████▊        | 171/189 [03:31<00:22,  1.27s/it]"
     ]
    },
    {
     "name": "stdout",
     "output_type": "stream",
     "text": [
      "[9/200][171/189] ========== Loss_D: 1.4230, Loss_G: 1.9903, Acc_G: 27/32 = 84.3750\n"
     ]
    },
    {
     "name": "stderr",
     "output_type": "stream",
     "text": [
      " 91%|██████████████████████████████████████████████████████████████████████████████▎       | 172/189 [03:32<00:20,  1.19s/it]"
     ]
    },
    {
     "name": "stdout",
     "output_type": "stream",
     "text": [
      "[9/200][172/189] ========== Loss_D: 1.4204, Loss_G: 1.7680, Acc_G: 25/32 = 78.1250\n"
     ]
    },
    {
     "name": "stderr",
     "output_type": "stream",
     "text": [
      " 92%|██████████████████████████████████████████████████████████████████████████████▋       | 173/189 [03:33<00:18,  1.14s/it]"
     ]
    },
    {
     "name": "stdout",
     "output_type": "stream",
     "text": [
      "[9/200][173/189] ========== Loss_D: 1.4193, Loss_G: 1.8312, Acc_G: 24/32 = 75.0000\n"
     ]
    },
    {
     "name": "stderr",
     "output_type": "stream",
     "text": [
      " 92%|███████████████████████████████████████████████████████████████████████████████▏      | 174/189 [03:35<00:21,  1.41s/it]"
     ]
    },
    {
     "name": "stdout",
     "output_type": "stream",
     "text": [
      "[9/200][174/189] ========== Loss_D: 1.4316, Loss_G: 1.7830, Acc_G: 25/32 = 78.1250\n"
     ]
    },
    {
     "name": "stderr",
     "output_type": "stream",
     "text": [
      " 93%|███████████████████████████████████████████████████████████████████████████████▋      | 175/189 [03:36<00:18,  1.35s/it]"
     ]
    },
    {
     "name": "stdout",
     "output_type": "stream",
     "text": [
      "[9/200][175/189] ========== Loss_D: 1.4094, Loss_G: 1.8522, Acc_G: 28/32 = 87.5000\n"
     ]
    },
    {
     "name": "stderr",
     "output_type": "stream",
     "text": [
      " 93%|████████████████████████████████████████████████████████████████████████████████      | 176/189 [03:38<00:17,  1.36s/it]"
     ]
    },
    {
     "name": "stdout",
     "output_type": "stream",
     "text": [
      "[9/200][176/189] ========== Loss_D: 1.4272, Loss_G: 1.8241, Acc_G: 23/32 = 71.8750\n"
     ]
    },
    {
     "name": "stderr",
     "output_type": "stream",
     "text": [
      " 94%|████████████████████████████████████████████████████████████████████████████████▌     | 177/189 [03:39<00:15,  1.28s/it]"
     ]
    },
    {
     "name": "stdout",
     "output_type": "stream",
     "text": [
      "[9/200][177/189] ========== Loss_D: 1.4177, Loss_G: 1.9482, Acc_G: 27/32 = 84.3750\n"
     ]
    },
    {
     "name": "stderr",
     "output_type": "stream",
     "text": [
      " 94%|████████████████████████████████████████████████████████████████████████████████▉     | 178/189 [03:40<00:14,  1.31s/it]"
     ]
    },
    {
     "name": "stdout",
     "output_type": "stream",
     "text": [
      "[9/200][178/189] ========== Loss_D: 1.4434, Loss_G: 1.7447, Acc_G: 26/32 = 81.2500\n"
     ]
    },
    {
     "name": "stderr",
     "output_type": "stream",
     "text": [
      " 95%|█████████████████████████████████████████████████████████████████████████████████▍    | 179/189 [03:41<00:12,  1.23s/it]"
     ]
    },
    {
     "name": "stdout",
     "output_type": "stream",
     "text": [
      "[9/200][179/189] ========== Loss_D: 1.4164, Loss_G: 1.8592, Acc_G: 21/32 = 65.6250\n"
     ]
    },
    {
     "name": "stderr",
     "output_type": "stream",
     "text": [
      " 95%|█████████████████████████████████████████████████████████████████████████████████▉    | 180/189 [03:42<00:10,  1.19s/it]"
     ]
    },
    {
     "name": "stdout",
     "output_type": "stream",
     "text": [
      "[9/200][180/189] ========== Loss_D: 1.4190, Loss_G: 1.6994, Acc_G: 27/32 = 84.3750\n"
     ]
    },
    {
     "name": "stderr",
     "output_type": "stream",
     "text": [
      " 96%|██████████████████████████████████████████████████████████████████████████████████▎   | 181/189 [03:43<00:09,  1.16s/it]"
     ]
    },
    {
     "name": "stdout",
     "output_type": "stream",
     "text": [
      "[9/200][181/189] ========== Loss_D: 1.4271, Loss_G: 1.9083, Acc_G: 26/32 = 81.2500\n"
     ]
    },
    {
     "name": "stderr",
     "output_type": "stream",
     "text": [
      " 96%|██████████████████████████████████████████████████████████████████████████████████▊   | 182/189 [03:45<00:08,  1.25s/it]"
     ]
    },
    {
     "name": "stdout",
     "output_type": "stream",
     "text": [
      "[9/200][182/189] ========== Loss_D: 1.4318, Loss_G: 1.7826, Acc_G: 28/32 = 87.5000\n"
     ]
    },
    {
     "name": "stderr",
     "output_type": "stream",
     "text": [
      " 97%|███████████████████████████████████████████████████████████████████████████████████▎  | 183/189 [03:46<00:07,  1.27s/it]"
     ]
    },
    {
     "name": "stdout",
     "output_type": "stream",
     "text": [
      "[9/200][183/189] ========== Loss_D: 1.4334, Loss_G: 1.7969, Acc_G: 26/32 = 81.2500\n"
     ]
    },
    {
     "name": "stderr",
     "output_type": "stream",
     "text": [
      " 97%|███████████████████████████████████████████████████████████████████████████████████▋  | 184/189 [03:47<00:06,  1.27s/it]"
     ]
    },
    {
     "name": "stdout",
     "output_type": "stream",
     "text": [
      "[9/200][184/189] ========== Loss_D: 1.4146, Loss_G: 1.8417, Acc_G: 23/32 = 71.8750\n"
     ]
    },
    {
     "name": "stderr",
     "output_type": "stream",
     "text": [
      " 98%|████████████████████████████████████████████████████████████████████████████████████▏ | 185/189 [03:49<00:05,  1.27s/it]"
     ]
    },
    {
     "name": "stdout",
     "output_type": "stream",
     "text": [
      "[9/200][185/189] ========== Loss_D: 1.4242, Loss_G: 1.8038, Acc_G: 26/32 = 81.2500\n"
     ]
    },
    {
     "name": "stderr",
     "output_type": "stream",
     "text": [
      " 98%|████████████████████████████████████████████████████████████████████████████████████▋ | 186/189 [03:50<00:03,  1.18s/it]"
     ]
    },
    {
     "name": "stdout",
     "output_type": "stream",
     "text": [
      "[9/200][186/189] ========== Loss_D: 1.4220, Loss_G: 1.7636, Acc_G: 26/32 = 81.2500\n"
     ]
    },
    {
     "name": "stderr",
     "output_type": "stream",
     "text": [
      " 99%|█████████████████████████████████████████████████████████████████████████████████████ | 187/189 [03:51<00:02,  1.14s/it]"
     ]
    },
    {
     "name": "stdout",
     "output_type": "stream",
     "text": [
      "[9/200][187/189] ========== Loss_D: 1.4287, Loss_G: 1.9297, Acc_G: 26/32 = 81.2500\n"
     ]
    },
    {
     "name": "stderr",
     "output_type": "stream",
     "text": [
      " 99%|█████████████████████████████████████████████████████████████████████████████████████▌| 188/189 [03:52<00:01,  1.19s/it]"
     ]
    },
    {
     "name": "stdout",
     "output_type": "stream",
     "text": [
      "[9/200][188/189] ========== Loss_D: 1.4315, Loss_G: 1.8757, Acc_G: 24/32 = 75.0000\n"
     ]
    },
    {
     "name": "stderr",
     "output_type": "stream",
     "text": [
      "100%|██████████████████████████████████████████████████████████████████████████████████████| 189/189 [03:52<00:00,  1.23s/it]\n"
     ]
    },
    {
     "name": "stdout",
     "output_type": "stream",
     "text": [
      "[9/200][189/189] ========== Loss_D: 1.4289, Loss_G: 1.8988, Acc_G: 7/8 = 87.5000\n",
      "---------------------< no model saved at epoch: 9 >---------------------\n"
     ]
    },
    {
     "name": "stderr",
     "output_type": "stream",
     "text": [
      "  1%|▍                                                                                       | 1/189 [00:01<05:05,  1.63s/it]"
     ]
    },
    {
     "name": "stdout",
     "output_type": "stream",
     "text": [
      "[10/200][1/189] ========== Loss_D: 1.4303, Loss_G: 1.8288, Acc_G: 26/32 = 81.2500\n"
     ]
    },
    {
     "name": "stderr",
     "output_type": "stream",
     "text": [
      "  1%|▉                                                                                       | 2/189 [00:02<04:21,  1.40s/it]"
     ]
    },
    {
     "name": "stdout",
     "output_type": "stream",
     "text": [
      "[10/200][2/189] ========== Loss_D: 1.4052, Loss_G: 1.8799, Acc_G: 22/32 = 68.7500\n"
     ]
    },
    {
     "name": "stderr",
     "output_type": "stream",
     "text": [
      "  2%|█▍                                                                                      | 3/189 [00:04<04:05,  1.32s/it]"
     ]
    },
    {
     "name": "stdout",
     "output_type": "stream",
     "text": [
      "[10/200][3/189] ========== Loss_D: 1.4194, Loss_G: 1.7984, Acc_G: 26/32 = 81.2500\n"
     ]
    },
    {
     "name": "stderr",
     "output_type": "stream",
     "text": [
      "  2%|█▊                                                                                      | 4/189 [00:05<03:41,  1.20s/it]"
     ]
    },
    {
     "name": "stdout",
     "output_type": "stream",
     "text": [
      "[10/200][4/189] ========== Loss_D: 1.4270, Loss_G: 1.6737, Acc_G: 26/32 = 81.2500\n"
     ]
    },
    {
     "name": "stderr",
     "output_type": "stream",
     "text": [
      "  3%|██▎                                                                                     | 5/189 [00:06<03:52,  1.27s/it]"
     ]
    },
    {
     "name": "stdout",
     "output_type": "stream",
     "text": [
      "[10/200][5/189] ========== Loss_D: 1.4125, Loss_G: 1.7559, Acc_G: 27/32 = 84.3750\n"
     ]
    },
    {
     "name": "stderr",
     "output_type": "stream",
     "text": [
      "  3%|██▊                                                                                     | 6/189 [00:07<03:50,  1.26s/it]"
     ]
    },
    {
     "name": "stdout",
     "output_type": "stream",
     "text": [
      "[10/200][6/189] ========== Loss_D: 1.4116, Loss_G: 1.7620, Acc_G: 25/32 = 78.1250\n"
     ]
    },
    {
     "name": "stderr",
     "output_type": "stream",
     "text": [
      "  4%|███▎                                                                                    | 7/189 [00:09<04:00,  1.32s/it]"
     ]
    },
    {
     "name": "stdout",
     "output_type": "stream",
     "text": [
      "[10/200][7/189] ========== Loss_D: 1.4203, Loss_G: 1.8904, Acc_G: 25/32 = 78.1250\n"
     ]
    },
    {
     "name": "stderr",
     "output_type": "stream",
     "text": [
      "  4%|███▋                                                                                    | 8/189 [00:10<03:54,  1.29s/it]"
     ]
    },
    {
     "name": "stdout",
     "output_type": "stream",
     "text": [
      "[10/200][8/189] ========== Loss_D: 1.4391, Loss_G: 1.7731, Acc_G: 30/32 = 93.7500\n"
     ]
    },
    {
     "name": "stderr",
     "output_type": "stream",
     "text": [
      "  5%|████▏                                                                                   | 9/189 [00:11<03:57,  1.32s/it]"
     ]
    },
    {
     "name": "stdout",
     "output_type": "stream",
     "text": [
      "[10/200][9/189] ========== Loss_D: 1.4233, Loss_G: 1.7663, Acc_G: 23/32 = 71.8750\n"
     ]
    },
    {
     "name": "stderr",
     "output_type": "stream",
     "text": [
      "  5%|████▌                                                                                  | 10/189 [00:13<03:57,  1.33s/it]"
     ]
    },
    {
     "name": "stdout",
     "output_type": "stream",
     "text": [
      "[10/200][10/189] ========== Loss_D: 1.4135, Loss_G: 1.8120, Acc_G: 23/32 = 71.8750\n"
     ]
    },
    {
     "name": "stderr",
     "output_type": "stream",
     "text": [
      "  6%|█████                                                                                  | 11/189 [00:14<03:52,  1.31s/it]"
     ]
    },
    {
     "name": "stdout",
     "output_type": "stream",
     "text": [
      "[10/200][11/189] ========== Loss_D: 1.4141, Loss_G: 1.8653, Acc_G: 26/32 = 81.2500\n"
     ]
    },
    {
     "name": "stderr",
     "output_type": "stream",
     "text": [
      "  6%|█████▌                                                                                 | 12/189 [00:15<03:47,  1.28s/it]"
     ]
    },
    {
     "name": "stdout",
     "output_type": "stream",
     "text": [
      "[10/200][12/189] ========== Loss_D: 1.4197, Loss_G: 1.7554, Acc_G: 28/32 = 87.5000\n"
     ]
    },
    {
     "name": "stderr",
     "output_type": "stream",
     "text": [
      "  7%|█████▉                                                                                 | 13/189 [00:16<03:44,  1.27s/it]"
     ]
    },
    {
     "name": "stdout",
     "output_type": "stream",
     "text": [
      "[10/200][13/189] ========== Loss_D: 1.4183, Loss_G: 1.8503, Acc_G: 26/32 = 81.2500\n"
     ]
    },
    {
     "name": "stderr",
     "output_type": "stream",
     "text": [
      "  7%|██████▍                                                                                | 14/189 [00:18<04:02,  1.39s/it]"
     ]
    },
    {
     "name": "stdout",
     "output_type": "stream",
     "text": [
      "[10/200][14/189] ========== Loss_D: 1.4155, Loss_G: 1.7512, Acc_G: 28/32 = 87.5000\n"
     ]
    },
    {
     "name": "stderr",
     "output_type": "stream",
     "text": [
      "  8%|██████▉                                                                                | 15/189 [00:19<04:00,  1.38s/it]"
     ]
    },
    {
     "name": "stdout",
     "output_type": "stream",
     "text": [
      "[10/200][15/189] ========== Loss_D: 1.4300, Loss_G: 1.8050, Acc_G: 28/32 = 87.5000\n"
     ]
    },
    {
     "name": "stderr",
     "output_type": "stream",
     "text": [
      "  8%|███████▎                                                                               | 16/189 [00:21<03:50,  1.33s/it]"
     ]
    },
    {
     "name": "stdout",
     "output_type": "stream",
     "text": [
      "[10/200][16/189] ========== Loss_D: 1.4275, Loss_G: 1.7666, Acc_G: 25/32 = 78.1250\n"
     ]
    },
    {
     "name": "stderr",
     "output_type": "stream",
     "text": [
      "  9%|███████▊                                                                               | 17/189 [00:22<03:36,  1.26s/it]"
     ]
    },
    {
     "name": "stdout",
     "output_type": "stream",
     "text": [
      "[10/200][17/189] ========== Loss_D: 1.4094, Loss_G: 1.8447, Acc_G: 23/32 = 71.8750\n"
     ]
    },
    {
     "name": "stderr",
     "output_type": "stream",
     "text": [
      " 10%|████████▎                                                                              | 18/189 [00:23<03:36,  1.27s/it]"
     ]
    },
    {
     "name": "stdout",
     "output_type": "stream",
     "text": [
      "[10/200][18/189] ========== Loss_D: 1.4043, Loss_G: 1.7787, Acc_G: 28/32 = 87.5000\n"
     ]
    },
    {
     "name": "stderr",
     "output_type": "stream",
     "text": [
      " 10%|████████▋                                                                              | 19/189 [00:24<03:29,  1.23s/it]"
     ]
    },
    {
     "name": "stdout",
     "output_type": "stream",
     "text": [
      "[10/200][19/189] ========== Loss_D: 1.4165, Loss_G: 1.8578, Acc_G: 24/32 = 75.0000\n"
     ]
    },
    {
     "name": "stderr",
     "output_type": "stream",
     "text": [
      " 11%|█████████▏                                                                             | 20/189 [00:26<03:35,  1.27s/it]"
     ]
    },
    {
     "name": "stdout",
     "output_type": "stream",
     "text": [
      "[10/200][20/189] ========== Loss_D: 1.4192, Loss_G: 1.8425, Acc_G: 26/32 = 81.2500\n"
     ]
    },
    {
     "name": "stderr",
     "output_type": "stream",
     "text": [
      " 11%|█████████▋                                                                             | 21/189 [00:26<03:17,  1.17s/it]"
     ]
    },
    {
     "name": "stdout",
     "output_type": "stream",
     "text": [
      "[10/200][21/189] ========== Loss_D: 1.4206, Loss_G: 1.8201, Acc_G: 28/32 = 87.5000\n"
     ]
    },
    {
     "name": "stderr",
     "output_type": "stream",
     "text": [
      " 12%|██████████▏                                                                            | 22/189 [00:28<03:14,  1.16s/it]"
     ]
    },
    {
     "name": "stdout",
     "output_type": "stream",
     "text": [
      "[10/200][22/189] ========== Loss_D: 1.4202, Loss_G: 1.7583, Acc_G: 27/32 = 84.3750\n"
     ]
    },
    {
     "name": "stderr",
     "output_type": "stream",
     "text": [
      " 12%|██████████▌                                                                            | 23/189 [00:29<03:22,  1.22s/it]"
     ]
    },
    {
     "name": "stdout",
     "output_type": "stream",
     "text": [
      "[10/200][23/189] ========== Loss_D: 1.4184, Loss_G: 1.7849, Acc_G: 25/32 = 78.1250\n"
     ]
    },
    {
     "name": "stderr",
     "output_type": "stream",
     "text": [
      " 13%|███████████                                                                            | 24/189 [00:30<03:11,  1.16s/it]"
     ]
    },
    {
     "name": "stdout",
     "output_type": "stream",
     "text": [
      "[10/200][24/189] ========== Loss_D: 1.4325, Loss_G: 1.8095, Acc_G: 25/32 = 78.1250\n"
     ]
    },
    {
     "name": "stderr",
     "output_type": "stream",
     "text": [
      " 13%|███████████▌                                                                           | 25/189 [00:31<03:07,  1.15s/it]"
     ]
    },
    {
     "name": "stdout",
     "output_type": "stream",
     "text": [
      "[10/200][25/189] ========== Loss_D: 1.4181, Loss_G: 1.7773, Acc_G: 26/32 = 81.2500\n"
     ]
    },
    {
     "name": "stderr",
     "output_type": "stream",
     "text": [
      " 14%|███████████▉                                                                           | 26/189 [00:32<03:05,  1.14s/it]"
     ]
    },
    {
     "name": "stdout",
     "output_type": "stream",
     "text": [
      "[10/200][26/189] ========== Loss_D: 1.4081, Loss_G: 1.8396, Acc_G: 24/32 = 75.0000\n"
     ]
    },
    {
     "name": "stderr",
     "output_type": "stream",
     "text": [
      " 14%|████████████▍                                                                          | 27/189 [00:33<03:06,  1.15s/it]"
     ]
    },
    {
     "name": "stdout",
     "output_type": "stream",
     "text": [
      "[10/200][27/189] ========== Loss_D: 1.4128, Loss_G: 1.8915, Acc_G: 25/32 = 78.1250\n"
     ]
    },
    {
     "name": "stderr",
     "output_type": "stream",
     "text": [
      " 15%|████████████▉                                                                          | 28/189 [00:35<03:18,  1.23s/it]"
     ]
    },
    {
     "name": "stdout",
     "output_type": "stream",
     "text": [
      "[10/200][28/189] ========== Loss_D: 1.4196, Loss_G: 1.6647, Acc_G: 28/32 = 87.5000\n"
     ]
    },
    {
     "name": "stderr",
     "output_type": "stream",
     "text": [
      " 15%|█████████████▎                                                                         | 29/189 [00:36<03:11,  1.20s/it]"
     ]
    },
    {
     "name": "stdout",
     "output_type": "stream",
     "text": [
      "[10/200][29/189] ========== Loss_D: 1.4178, Loss_G: 1.7498, Acc_G: 24/32 = 75.0000\n"
     ]
    },
    {
     "name": "stderr",
     "output_type": "stream",
     "text": [
      " 16%|█████████████▊                                                                         | 30/189 [00:37<03:06,  1.17s/it]"
     ]
    },
    {
     "name": "stdout",
     "output_type": "stream",
     "text": [
      "[10/200][30/189] ========== Loss_D: 1.4084, Loss_G: 1.8177, Acc_G: 22/32 = 68.7500\n"
     ]
    },
    {
     "name": "stderr",
     "output_type": "stream",
     "text": [
      " 16%|██████████████▎                                                                        | 31/189 [00:38<03:13,  1.23s/it]"
     ]
    },
    {
     "name": "stdout",
     "output_type": "stream",
     "text": [
      "[10/200][31/189] ========== Loss_D: 1.4283, Loss_G: 1.8930, Acc_G: 27/32 = 84.3750\n"
     ]
    },
    {
     "name": "stderr",
     "output_type": "stream",
     "text": [
      " 17%|██████████████▋                                                                        | 32/189 [00:40<03:10,  1.22s/it]"
     ]
    },
    {
     "name": "stdout",
     "output_type": "stream",
     "text": [
      "[10/200][32/189] ========== Loss_D: 1.4441, Loss_G: 1.9038, Acc_G: 27/32 = 84.3750\n"
     ]
    },
    {
     "name": "stderr",
     "output_type": "stream",
     "text": [
      " 17%|███████████████▏                                                                       | 33/189 [00:41<03:07,  1.20s/it]"
     ]
    },
    {
     "name": "stdout",
     "output_type": "stream",
     "text": [
      "[10/200][33/189] ========== Loss_D: 1.4101, Loss_G: 1.8629, Acc_G: 26/32 = 81.2500\n"
     ]
    },
    {
     "name": "stderr",
     "output_type": "stream",
     "text": [
      " 18%|███████████████▋                                                                       | 34/189 [00:42<03:12,  1.24s/it]"
     ]
    },
    {
     "name": "stdout",
     "output_type": "stream",
     "text": [
      "[10/200][34/189] ========== Loss_D: 1.4260, Loss_G: 1.8153, Acc_G: 22/32 = 68.7500\n"
     ]
    },
    {
     "name": "stderr",
     "output_type": "stream",
     "text": [
      " 19%|████████████████                                                                       | 35/189 [00:43<03:03,  1.19s/it]"
     ]
    },
    {
     "name": "stdout",
     "output_type": "stream",
     "text": [
      "[10/200][35/189] ========== Loss_D: 1.4071, Loss_G: 1.7998, Acc_G: 24/32 = 75.0000\n"
     ]
    },
    {
     "name": "stderr",
     "output_type": "stream",
     "text": [
      " 19%|████████████████▌                                                                      | 36/189 [00:44<02:47,  1.10s/it]"
     ]
    },
    {
     "name": "stdout",
     "output_type": "stream",
     "text": [
      "[10/200][36/189] ========== Loss_D: 1.4261, Loss_G: 1.7074, Acc_G: 28/32 = 87.5000\n"
     ]
    },
    {
     "name": "stderr",
     "output_type": "stream",
     "text": [
      " 20%|█████████████████                                                                      | 37/189 [00:45<02:45,  1.09s/it]"
     ]
    },
    {
     "name": "stdout",
     "output_type": "stream",
     "text": [
      "[10/200][37/189] ========== Loss_D: 1.4094, Loss_G: 1.7588, Acc_G: 25/32 = 78.1250\n"
     ]
    },
    {
     "name": "stderr",
     "output_type": "stream",
     "text": [
      " 20%|█████████████████▍                                                                     | 38/189 [00:46<02:55,  1.16s/it]"
     ]
    },
    {
     "name": "stdout",
     "output_type": "stream",
     "text": [
      "[10/200][38/189] ========== Loss_D: 1.4192, Loss_G: 1.8448, Acc_G: 27/32 = 84.3750\n"
     ]
    },
    {
     "name": "stderr",
     "output_type": "stream",
     "text": [
      " 21%|█████████████████▉                                                                     | 39/189 [00:48<03:13,  1.29s/it]"
     ]
    },
    {
     "name": "stdout",
     "output_type": "stream",
     "text": [
      "[10/200][39/189] ========== Loss_D: 1.4102, Loss_G: 1.8088, Acc_G: 26/32 = 81.2500\n"
     ]
    },
    {
     "name": "stderr",
     "output_type": "stream",
     "text": [
      " 21%|██████████████████▍                                                                    | 40/189 [00:49<03:15,  1.31s/it]"
     ]
    },
    {
     "name": "stdout",
     "output_type": "stream",
     "text": [
      "[10/200][40/189] ========== Loss_D: 1.4134, Loss_G: 1.8547, Acc_G: 27/32 = 84.3750\n"
     ]
    },
    {
     "name": "stderr",
     "output_type": "stream",
     "text": [
      " 22%|██████████████████▊                                                                    | 41/189 [00:50<03:01,  1.22s/it]"
     ]
    },
    {
     "name": "stdout",
     "output_type": "stream",
     "text": [
      "[10/200][41/189] ========== Loss_D: 1.4189, Loss_G: 1.7959, Acc_G: 24/32 = 75.0000\n"
     ]
    },
    {
     "name": "stderr",
     "output_type": "stream",
     "text": [
      " 22%|███████████████████▎                                                                   | 42/189 [00:51<02:53,  1.18s/it]"
     ]
    },
    {
     "name": "stdout",
     "output_type": "stream",
     "text": [
      "[10/200][42/189] ========== Loss_D: 1.4120, Loss_G: 1.8064, Acc_G: 29/32 = 90.6250\n"
     ]
    },
    {
     "name": "stderr",
     "output_type": "stream",
     "text": [
      " 23%|███████████████████▊                                                                   | 43/189 [00:53<02:59,  1.23s/it]"
     ]
    },
    {
     "name": "stdout",
     "output_type": "stream",
     "text": [
      "[10/200][43/189] ========== Loss_D: 1.4025, Loss_G: 1.9004, Acc_G: 24/32 = 75.0000\n"
     ]
    },
    {
     "name": "stderr",
     "output_type": "stream",
     "text": [
      " 23%|████████████████████▎                                                                  | 44/189 [00:54<02:57,  1.22s/it]"
     ]
    },
    {
     "name": "stdout",
     "output_type": "stream",
     "text": [
      "[10/200][44/189] ========== Loss_D: 1.4121, Loss_G: 1.6782, Acc_G: 25/32 = 78.1250\n"
     ]
    },
    {
     "name": "stderr",
     "output_type": "stream",
     "text": [
      " 24%|████████████████████▋                                                                  | 45/189 [00:55<03:00,  1.25s/it]"
     ]
    },
    {
     "name": "stdout",
     "output_type": "stream",
     "text": [
      "[10/200][45/189] ========== Loss_D: 1.4210, Loss_G: 1.7114, Acc_G: 25/32 = 78.1250\n"
     ]
    },
    {
     "name": "stderr",
     "output_type": "stream",
     "text": [
      " 24%|█████████████████████▏                                                                 | 46/189 [00:57<02:58,  1.25s/it]"
     ]
    },
    {
     "name": "stdout",
     "output_type": "stream",
     "text": [
      "[10/200][46/189] ========== Loss_D: 1.4210, Loss_G: 1.7034, Acc_G: 23/32 = 71.8750\n"
     ]
    },
    {
     "name": "stderr",
     "output_type": "stream",
     "text": [
      " 25%|█████████████████████▋                                                                 | 47/189 [00:58<02:45,  1.17s/it]"
     ]
    },
    {
     "name": "stdout",
     "output_type": "stream",
     "text": [
      "[10/200][47/189] ========== Loss_D: 1.4208, Loss_G: 1.7175, Acc_G: 27/32 = 84.3750\n"
     ]
    },
    {
     "name": "stderr",
     "output_type": "stream",
     "text": [
      " 25%|██████████████████████                                                                 | 48/189 [00:59<02:41,  1.15s/it]"
     ]
    },
    {
     "name": "stdout",
     "output_type": "stream",
     "text": [
      "[10/200][48/189] ========== Loss_D: 1.4187, Loss_G: 1.9080, Acc_G: 25/32 = 78.1250\n"
     ]
    },
    {
     "name": "stderr",
     "output_type": "stream",
     "text": [
      " 26%|██████████████████████▌                                                                | 49/189 [01:00<02:54,  1.24s/it]"
     ]
    },
    {
     "name": "stdout",
     "output_type": "stream",
     "text": [
      "[10/200][49/189] ========== Loss_D: 1.4340, Loss_G: 1.7795, Acc_G: 25/32 = 78.1250\n"
     ]
    },
    {
     "name": "stderr",
     "output_type": "stream",
     "text": [
      " 26%|███████████████████████                                                                | 50/189 [01:01<02:38,  1.14s/it]"
     ]
    },
    {
     "name": "stdout",
     "output_type": "stream",
     "text": [
      "[10/200][50/189] ========== Loss_D: 1.4172, Loss_G: 1.8208, Acc_G: 28/32 = 87.5000\n"
     ]
    },
    {
     "name": "stderr",
     "output_type": "stream",
     "text": [
      " 27%|███████████████████████▍                                                               | 51/189 [01:02<02:43,  1.19s/it]"
     ]
    },
    {
     "name": "stdout",
     "output_type": "stream",
     "text": [
      "[10/200][51/189] ========== Loss_D: 1.4162, Loss_G: 1.7172, Acc_G: 19/32 = 59.3750\n"
     ]
    },
    {
     "name": "stderr",
     "output_type": "stream",
     "text": [
      " 28%|███████████████████████▉                                                               | 52/189 [01:04<02:48,  1.23s/it]"
     ]
    },
    {
     "name": "stdout",
     "output_type": "stream",
     "text": [
      "[10/200][52/189] ========== Loss_D: 1.4054, Loss_G: 1.8213, Acc_G: 27/32 = 84.3750\n"
     ]
    },
    {
     "name": "stderr",
     "output_type": "stream",
     "text": [
      " 28%|████████████████████████▍                                                              | 53/189 [01:05<02:35,  1.15s/it]"
     ]
    },
    {
     "name": "stdout",
     "output_type": "stream",
     "text": [
      "[10/200][53/189] ========== Loss_D: 1.4151, Loss_G: 1.7680, Acc_G: 25/32 = 78.1250\n"
     ]
    },
    {
     "name": "stderr",
     "output_type": "stream",
     "text": [
      " 29%|████████████████████████▊                                                              | 54/189 [01:06<02:35,  1.15s/it]"
     ]
    },
    {
     "name": "stdout",
     "output_type": "stream",
     "text": [
      "[10/200][54/189] ========== Loss_D: 1.4183, Loss_G: 1.8540, Acc_G: 23/32 = 71.8750\n"
     ]
    },
    {
     "name": "stderr",
     "output_type": "stream",
     "text": [
      " 29%|█████████████████████████▎                                                             | 55/189 [01:07<02:52,  1.28s/it]"
     ]
    },
    {
     "name": "stdout",
     "output_type": "stream",
     "text": [
      "[10/200][55/189] ========== Loss_D: 1.4270, Loss_G: 1.9039, Acc_G: 24/32 = 75.0000\n"
     ]
    },
    {
     "name": "stderr",
     "output_type": "stream",
     "text": [
      " 30%|█████████████████████████▊                                                             | 56/189 [01:09<02:48,  1.27s/it]"
     ]
    },
    {
     "name": "stdout",
     "output_type": "stream",
     "text": [
      "[10/200][56/189] ========== Loss_D: 1.4210, Loss_G: 1.7896, Acc_G: 27/32 = 84.3750\n"
     ]
    },
    {
     "name": "stderr",
     "output_type": "stream",
     "text": [
      " 30%|██████████████████████████▏                                                            | 57/189 [01:10<03:05,  1.40s/it]"
     ]
    },
    {
     "name": "stdout",
     "output_type": "stream",
     "text": [
      "[10/200][57/189] ========== Loss_D: 1.4130, Loss_G: 1.8885, Acc_G: 23/32 = 71.8750\n"
     ]
    },
    {
     "name": "stderr",
     "output_type": "stream",
     "text": [
      " 31%|██████████████████████████▋                                                            | 58/189 [01:12<03:01,  1.39s/it]"
     ]
    },
    {
     "name": "stdout",
     "output_type": "stream",
     "text": [
      "[10/200][58/189] ========== Loss_D: 1.4410, Loss_G: 1.8878, Acc_G: 24/32 = 75.0000\n"
     ]
    },
    {
     "name": "stderr",
     "output_type": "stream",
     "text": [
      " 31%|███████████████████████████▏                                                           | 59/189 [01:12<02:38,  1.22s/it]"
     ]
    },
    {
     "name": "stdout",
     "output_type": "stream",
     "text": [
      "[10/200][59/189] ========== Loss_D: 1.4052, Loss_G: 1.8178, Acc_G: 26/32 = 81.2500\n"
     ]
    },
    {
     "name": "stderr",
     "output_type": "stream",
     "text": [
      " 32%|███████████████████████████▌                                                           | 60/189 [01:14<02:37,  1.22s/it]"
     ]
    },
    {
     "name": "stdout",
     "output_type": "stream",
     "text": [
      "[10/200][60/189] ========== Loss_D: 1.4140, Loss_G: 1.8697, Acc_G: 26/32 = 81.2500\n"
     ]
    },
    {
     "name": "stderr",
     "output_type": "stream",
     "text": [
      " 32%|████████████████████████████                                                           | 61/189 [01:15<02:44,  1.28s/it]"
     ]
    },
    {
     "name": "stdout",
     "output_type": "stream",
     "text": [
      "[10/200][61/189] ========== Loss_D: 1.4285, Loss_G: 1.8146, Acc_G: 24/32 = 75.0000\n"
     ]
    },
    {
     "name": "stderr",
     "output_type": "stream",
     "text": [
      " 33%|████████████████████████████▌                                                          | 62/189 [01:17<02:47,  1.32s/it]"
     ]
    },
    {
     "name": "stdout",
     "output_type": "stream",
     "text": [
      "[10/200][62/189] ========== Loss_D: 1.4132, Loss_G: 1.7758, Acc_G: 24/32 = 75.0000\n"
     ]
    },
    {
     "name": "stderr",
     "output_type": "stream",
     "text": [
      " 33%|█████████████████████████████                                                          | 63/189 [01:18<02:35,  1.24s/it]"
     ]
    },
    {
     "name": "stdout",
     "output_type": "stream",
     "text": [
      "[10/200][63/189] ========== Loss_D: 1.4224, Loss_G: 1.8572, Acc_G: 27/32 = 84.3750\n"
     ]
    },
    {
     "name": "stderr",
     "output_type": "stream",
     "text": [
      " 34%|█████████████████████████████▍                                                         | 64/189 [01:19<02:29,  1.20s/it]"
     ]
    },
    {
     "name": "stdout",
     "output_type": "stream",
     "text": [
      "[10/200][64/189] ========== Loss_D: 1.4232, Loss_G: 1.8446, Acc_G: 23/32 = 71.8750\n"
     ]
    },
    {
     "name": "stderr",
     "output_type": "stream",
     "text": [
      " 34%|█████████████████████████████▉                                                         | 65/189 [01:20<02:29,  1.20s/it]"
     ]
    },
    {
     "name": "stdout",
     "output_type": "stream",
     "text": [
      "[10/200][65/189] ========== Loss_D: 1.4188, Loss_G: 1.9023, Acc_G: 24/32 = 75.0000\n"
     ]
    },
    {
     "name": "stderr",
     "output_type": "stream",
     "text": [
      " 35%|██████████████████████████████▍                                                        | 66/189 [01:21<02:40,  1.30s/it]"
     ]
    },
    {
     "name": "stdout",
     "output_type": "stream",
     "text": [
      "[10/200][66/189] ========== Loss_D: 1.4171, Loss_G: 1.8442, Acc_G: 25/32 = 78.1250\n"
     ]
    },
    {
     "name": "stderr",
     "output_type": "stream",
     "text": [
      " 35%|██████████████████████████████▊                                                        | 67/189 [01:23<02:38,  1.30s/it]"
     ]
    },
    {
     "name": "stdout",
     "output_type": "stream",
     "text": [
      "[10/200][67/189] ========== Loss_D: 1.4167, Loss_G: 1.9112, Acc_G: 25/32 = 78.1250\n"
     ]
    },
    {
     "name": "stderr",
     "output_type": "stream",
     "text": [
      " 36%|███████████████████████████████▎                                                       | 68/189 [01:24<02:29,  1.24s/it]"
     ]
    },
    {
     "name": "stdout",
     "output_type": "stream",
     "text": [
      "[10/200][68/189] ========== Loss_D: 1.4013, Loss_G: 1.8660, Acc_G: 25/32 = 78.1250\n"
     ]
    },
    {
     "name": "stderr",
     "output_type": "stream",
     "text": [
      " 37%|███████████████████████████████▊                                                       | 69/189 [01:25<02:24,  1.20s/it]"
     ]
    },
    {
     "name": "stdout",
     "output_type": "stream",
     "text": [
      "[10/200][69/189] ========== Loss_D: 1.4235, Loss_G: 1.8939, Acc_G: 26/32 = 81.2500\n"
     ]
    },
    {
     "name": "stderr",
     "output_type": "stream",
     "text": [
      " 37%|████████████████████████████████▏                                                      | 70/189 [01:26<02:29,  1.25s/it]"
     ]
    },
    {
     "name": "stdout",
     "output_type": "stream",
     "text": [
      "[10/200][70/189] ========== Loss_D: 1.4030, Loss_G: 1.7035, Acc_G: 26/32 = 81.2500\n"
     ]
    },
    {
     "name": "stderr",
     "output_type": "stream",
     "text": [
      " 38%|████████████████████████████████▋                                                      | 71/189 [01:28<02:25,  1.23s/it]"
     ]
    },
    {
     "name": "stdout",
     "output_type": "stream",
     "text": [
      "[10/200][71/189] ========== Loss_D: 1.4221, Loss_G: 1.8538, Acc_G: 26/32 = 81.2500\n"
     ]
    },
    {
     "name": "stderr",
     "output_type": "stream",
     "text": [
      " 38%|█████████████████████████████████▏                                                     | 72/189 [01:29<02:31,  1.29s/it]"
     ]
    },
    {
     "name": "stdout",
     "output_type": "stream",
     "text": [
      "[10/200][72/189] ========== Loss_D: 1.4136, Loss_G: 1.6972, Acc_G: 26/32 = 81.2500\n"
     ]
    },
    {
     "name": "stderr",
     "output_type": "stream",
     "text": [
      " 39%|█████████████████████████████████▌                                                     | 73/189 [01:30<02:23,  1.24s/it]"
     ]
    },
    {
     "name": "stdout",
     "output_type": "stream",
     "text": [
      "[10/200][73/189] ========== Loss_D: 1.4137, Loss_G: 1.9216, Acc_G: 31/32 = 96.8750\n"
     ]
    },
    {
     "name": "stderr",
     "output_type": "stream",
     "text": [
      " 39%|██████████████████████████████████                                                     | 74/189 [01:31<02:27,  1.29s/it]"
     ]
    },
    {
     "name": "stdout",
     "output_type": "stream",
     "text": [
      "[10/200][74/189] ========== Loss_D: 1.4103, Loss_G: 1.8902, Acc_G: 28/32 = 87.5000\n"
     ]
    },
    {
     "name": "stderr",
     "output_type": "stream",
     "text": [
      " 40%|██████████████████████████████████▌                                                    | 75/189 [01:33<02:33,  1.35s/it]"
     ]
    },
    {
     "name": "stdout",
     "output_type": "stream",
     "text": [
      "[10/200][75/189] ========== Loss_D: 1.4170, Loss_G: 1.8491, Acc_G: 24/32 = 75.0000\n"
     ]
    }
   ],
   "source": [
    "for epoch in range(num_epochs):\n",
    "    epoch += 1\n",
    "    for i, data in enumerate(tqdm(train_loader, 0)):\n",
    "        ###########################\n",
    "        # (1) Update D network\n",
    "        ###########################\n",
    "        # train with real\n",
    "        discriminator.zero_grad()\n",
    "        img, label = data\n",
    "        batch_size = img.size(0)\n",
    "        with torch.no_grad():\n",
    "            img, label = img.to(device), label.to(device)\n",
    "            label = one_hot(label, num_classes=nb_label)\n",
    "            s_label.resize_(batch_size).fill_(real_label)\n",
    "            c_label.resize_(batch_size, 3).copy_(label)\n",
    "        s_output, c_output = discriminator(img)\n",
    "        s_errD_real = s_criterion(s_output[:,0], s_label.resize_(batch_size))\n",
    "        c_errD_real = c_criterion(c_output, c_label)\n",
    "        errD_real = s_errD_real + c_errD_real\n",
    "        errD_real.backward()\n",
    "        \n",
    "        correct, length = test(c_output, c_label)\n",
    "\n",
    "        # train with fake\n",
    "        noise_data = np.random.normal(0, 1, (batch_size, nz))\n",
    "        noise.resize_(batch_size, nz).data.copy_(torch.tensor(noise_data))\n",
    "        label = np.random.randint(0, nb_label, batch_size)\n",
    "        noise_ = np.random.normal(0, 1, (batch_size, nz))\n",
    "        label_onehot = np.zeros((batch_size, nb_label))\n",
    "        label_onehot[np.arange(batch_size), label] = 1\n",
    "        c_label.resize_(batch_size, nb_label).data.copy_(torch.tensor(label_onehot))\n",
    "        fake = generator(noise, c_label)\n",
    "        s_label.data.fill_(fake_label)\n",
    "        s_output,c_output = discriminator(fake)\n",
    "        s_errD_fake = s_criterion(s_output[:,0], s_label.resize_(batch_size))\n",
    "        c_errD_fake = c_criterion(c_output, c_label)\n",
    "        errD_fake = s_errD_fake + c_errD_fake\n",
    "        errD_fake.backward()\n",
    "\n",
    "        errD = s_errD_real + s_errD_fake\n",
    "        # errD.backward()\n",
    "        optimizerD.step()\n",
    "\n",
    "        ###########################\n",
    "        # (2) Update G network\n",
    "        ###########################\n",
    "        generator.zero_grad()\n",
    "        s_label.resize_(batch_size, 1).data.fill_(real_label)\n",
    "        fake = generator(noise, c_label)\n",
    "        s_output, c_output = discriminator(fake)\n",
    "        s_errG = s_criterion(s_output[:,0], s_label.resize_(batch_size))\n",
    "        c_errG = c_criterion(c_output, c_label)\n",
    "\n",
    "        errG = s_errG + c_errG\n",
    "        errG.backward()\n",
    "        optimizerG.step()\n",
    "        metrics['G_losses'].append(errG.item())\n",
    "        metrics['G_class_losses'].append(c_errG.item())\n",
    "        metrics['G_syn_losses'].append(s_errG.item())\n",
    "        metrics['D_losses'].append(errD.item())\n",
    "        metrics['D_real_losses'].append(errD_real.item())\n",
    "        metrics['D_fake_losses'].append(errD_fake.item())\n",
    "        metrics['D_class_losses'].append((c_errD_real + c_errD_fake).item())\n",
    "        metrics['D_syn_losses'].append((s_errD_real + s_errD_fake).item())\n",
    "        metrics['Losses'].append((errG + errD).item())\n",
    "        metrics['Accuracy'].append(correct/length)\n",
    "\n",
    "        print('[%d/%d][%d/%d] ========== Loss_D: %.4f, Loss_G: %.4f, Acc_G: %d/%d = %.4f'\n",
    "              % (epoch, num_epochs, i + 1, len(train_loader),\n",
    "                 errD.data, errG.data, correct, length, 100.0*correct/length))\n",
    "    \n",
    "        if best_batch_loss < 0:\n",
    "            best_batch_loss = (errG + errD).item()\n",
    "            early_stop_count = 0\n",
    "        else:\n",
    "            if best_batch_loss >= (errG + errD).item():\n",
    "                best_batch_loss = (errG + errD).item()\n",
    "                early_stop_count = 0\n",
    "                print(\"---------------------< lowest loss update ->\", best_batch_loss, \">---------------------\")\n",
    "                save_model = True\n",
    "            else:\n",
    "                early_stop_count += 1\n",
    "                if early_stop_count >= early_stop_patient:\n",
    "                    print(\"---------------------< early stopping ... >---------------------\")\n",
    "                    early_stop = True\n",
    "                    break\n",
    "        \n",
    "        if i % round(len(train_loader)/10) == 0:\n",
    "            vutils.save_image(img, './GANAug/output_images/ACGAN/real_samples_e' + str(epoch) + '_d' + str(i) + '.jpg', normalize=True)\n",
    "            fake = generator(noise_fixed, label_fixed)\n",
    "            for j in range(len(fake)):\n",
    "                vutils.save_image(fake[j].data,\n",
    "                        '%s/fake_samples_epoch_%03d.jpg' % ('./GANAug/output_images/ACGAN/' + label_dict[label_fixed_data[j]], epoch), \n",
    "                                  normalize=True)\n",
    "\n",
    "    # do checkpointing\n",
    "    if save_model == True:\n",
    "        save_model = False\n",
    "        torch.save(generator.state_dict(), '%s/G_epoch_%d_save_model.pth' % (os.path.join('.', 'GANAug/model/ACGAN'), epoch))\n",
    "        torch.save(discriminator.state_dict(), '%s/D_epoch_%d_save_model.pth' % (os.path.join('.', 'GANAug/model/ACGAN'), epoch))\n",
    "    elif early_stop:\n",
    "        torch.save(generator.state_dict(), '%s/G_epoch_%d_early_stop.pth' % (os.path.join('.', 'GANAug/model/ACGAN'), epoch))\n",
    "        torch.save(discriminator.state_dict(), '%s/D_epoch_%d_early_stop.pth' % (os.path.join('.', 'GANAug/model/ACGAN'), epoch))\n",
    "        break\n",
    "    elif epoch % round(num_epochs/10) == 0:\n",
    "        save_model = False\n",
    "        torch.save(generator.state_dict(), '%s/G_epoch_%d.pth' % (os.path.join('.', 'GANAug/model/ACGAN'), epoch))\n",
    "        torch.save(discriminator.state_dict(), '%s/D_epoch_%d.pth' % (os.path.join('.', 'GANAug/model/ACGAN'), epoch))\n",
    "    else:\n",
    "        print(\"---------------------< no model saved at epoch:\", epoch, \">---------------------\")\n",
    "    \n",
    "    if len(os.listdir(os.path.join('.', 'GANAug/model/ACGAN'))) > 10:\n",
    "        delete_list = get_file_list(os.path.join('.', 'GANAug/model/ACGAN'), len(os.listdir(os.path.join('.', 'GANAug/model/ACGAN'))) - 10)\n",
    "        for file in delete_list:\n",
    "            if os.path.exists(os.path.join(os.path.join('.', 'GANAug/model/ACGAN'), file)):\n",
    "                os.remove(os.path.join(os.path.join('.', 'GANAug/model/ACGAN'), file))\n",
    "            else:\n",
    "                print(\"file ->\", os.path.join(os.path.join('.', 'GANAug/model/ACGAN'), file), \"does not exist\")"
   ]
  },
  {
   "cell_type": "code",
   "execution_count": null,
   "id": "7b6d9c4c",
   "metadata": {},
   "outputs": [],
   "source": [
    "def tr_plot(tr_data, start_epoch):\n",
    "    Epoch_count=len(metrics['G_losses']) + start_epoch\n",
    "    Epochs=[i + 1 for i in range (start_epoch ,Epoch_count)]  \n",
    "    plt.figure(figsize=(20, 20))\n",
    "    plt.style.use('fivethirtyeight')\n",
    "    \n",
    "    plt.subplot(2, 2, 1)\n",
    "    plt.plot(Epochs, metrics['G_losses'], 'r', label='G_losses')\n",
    "    plt.plot(Epochs, metrics['D_losses'], 'g',label='D_losses' )\n",
    "    plt.title('G&D_losses')\n",
    "    plt.xlabel('Epochs')\n",
    "    plt.ylabel('Loss')\n",
    "    plt.legend()\n",
    "    \n",
    "    plt.subplot(2, 2, 2)\n",
    "    plt.plot(Epochs, metrics['G_class_losses'], 'r', label='G_class_losses')\n",
    "    plt.plot(Epochs, metrics['G_syn_losses'], 'g',label='G_syn_losses' )\n",
    "    plt.title('G_class&syn_losses')\n",
    "    plt.xlabel('Epochs')\n",
    "    plt.ylabel('Loss')\n",
    "    plt.legend()\n",
    "\n",
    "    plt.subplot(2, 2, 3)\n",
    "    plt.plot(Epochs, metrics['D_class_losses'], 'r', label='D_class_losses')\n",
    "    plt.plot(Epochs, metrics['D_syn_losses'], 'g',label='D_syn_losses' )\n",
    "    plt.title('D_class&syn_losses')\n",
    "    plt.xlabel('Epochs')\n",
    "    plt.ylabel('Loss')\n",
    "    plt.legend()\n",
    "\n",
    "    plt.subplot(2, 2, 4)\n",
    "    plt.plot(Epochs, metrics['D_real_losses'], 'r', label='D_real_losses')\n",
    "    plt.plot(Epochs, metrics['D_fake_losses'], 'g',label='D_fake_losses' )\n",
    "    plt.title('D_real&fake_losses')\n",
    "    plt.xlabel('Epochs')\n",
    "    plt.ylabel('Loss')\n",
    "    plt.legend()\n",
    "    \n",
    "    plt.tight_layout\n",
    "    plt.show()"
   ]
  },
  {
   "cell_type": "code",
   "execution_count": null,
   "id": "235fede4",
   "metadata": {},
   "outputs": [],
   "source": [
    "tr_plot(metrics, 0)"
   ]
  },
  {
   "cell_type": "code",
   "execution_count": null,
   "id": "9ec852c4",
   "metadata": {},
   "outputs": [],
   "source": [
    "def tr_plot(tr_data, start_epoch):\n",
    "    Epoch_count=len(metrics['Losses']) + start_epoch\n",
    "    Epochs=[i + 1 for i in range (start_epoch ,Epoch_count)]  \n",
    "    plt.figure(figsize=(20, 10))\n",
    "    plt.style.use('fivethirtyeight')\n",
    "    \n",
    "    plt.subplot(2, 2, 1)\n",
    "    plt.plot(Epochs, metrics['Losses'], 'blue', label='Loss')\n",
    "    plt.title('Losses')\n",
    "    plt.xlabel('Epochs')\n",
    "    plt.ylabel('Loss')\n",
    "    plt.legend()\n",
    "    \n",
    "    plt.subplot(2, 2, 2)\n",
    "    plt.plot(Epochs, metrics['Accuracy'], 'orange', label='Accuracy')\n",
    "    plt.title('Accuracy')\n",
    "    plt.xlabel('Epochs')\n",
    "    plt.ylabel('Accuracy')\n",
    "    plt.legend()\n",
    "    \n",
    "    plt.tight_layout\n",
    "    plt.show()"
   ]
  },
  {
   "cell_type": "code",
   "execution_count": null,
   "id": "44c508b1",
   "metadata": {},
   "outputs": [],
   "source": [
    "tr_plot(metrics, 0)"
   ]
  },
  {
   "cell_type": "code",
   "execution_count": null,
   "id": "09e18531",
   "metadata": {},
   "outputs": [],
   "source": [
    "def test_gan(generator, discriminator, num_epochs, metrics, loader):\n",
    "    now = datetime.datetime.now()\n",
    "    g_losses = metrics['G_losses'][-1]\n",
    "    d_losses = metrics['D_losses'][-1]\n",
    "    path='GANAug/output_images/ACGAN'\n",
    "    try:\n",
    "        os.mkdir(os.path.join('.', path))\n",
    "    except Exception as error:\n",
    "        print(error)\n",
    "\n",
    "    real_batch = next(iter(loader))\n",
    "    \n",
    "    test_img_list = []\n",
    "    test_noise = torch.randn(batch_size, nz, device=device)\n",
    "    test_label = torch.randn(batch_size, nb_label, device=device)\n",
    "    test_fake = generator(test_noise, test_label).detach().cpu()\n",
    "    test_img_list.append(vutils.make_grid(test_fake, padding=2, normalize=True))\n",
    "\n",
    "    fig = plt.figure(figsize=(20, 20))\n",
    "    ax1 = plt.subplot(1,2,1)\n",
    "    ax1 = plt.axis(\"off\")\n",
    "    ax1 = plt.title(\"Real Images\")\n",
    "    ax1 = plt.imshow(np.transpose(vutils.make_grid(real_batch[0].to(device)[:64], padding=5, normalize=True).cpu(),(1,2,0)))\n",
    "\n",
    "    ax2 = plt.subplot(1,2,2)\n",
    "    ax2 = plt.axis(\"off\")\n",
    "    ax2 = plt.title(\"Fake Images\")\n",
    "    ax2 = plt.imshow(np.transpose(test_img_list[-1],(1,2,0)))\n",
    "    plt.show()\n",
    "    fig.savefig('%s/image_%.3f_%.3f_%d_%s.png' %\n",
    "                   (path, g_losses, d_losses, num_epochs, now.strftime(\"%Y-%m-%d_%H:%M:%S\")))"
   ]
  },
  {
   "cell_type": "code",
   "execution_count": null,
   "id": "03814c7f",
   "metadata": {},
   "outputs": [],
   "source": [
    "test_gan(generator, discriminator, num_epochs, metrics, train_loader)"
   ]
  },
  {
   "cell_type": "code",
   "execution_count": null,
   "id": "f9cca5ce",
   "metadata": {},
   "outputs": [],
   "source": [
    "def plot_gan(name, train_epoch, values, path, save):\n",
    "    clear_output(wait=True)\n",
    "    plt.close('all')\n",
    "    fig = plt.figure()\n",
    "    fig = plt.ion()\n",
    "    fig = plt.subplot(1, 1, 1)\n",
    "    fig = plt.title('epoch: %s -> %s: %s' % (train_epoch, name, values[-1]))\n",
    "    fig = plt.ylabel(name)\n",
    "    fig = plt.xlabel('train_set')\n",
    "    fig = plt.plot(values)\n",
    "    fig = plt.grid()\n",
    "    get_fig = plt.gcf()\n",
    "    fig = plt.draw()  # draw the plot\n",
    "    fig = plt.pause(1)  # show it for 1 second\n",
    "    plt.show()\n",
    "    if save:\n",
    "        now = datetime.datetime.now()\n",
    "        get_fig.savefig('%s/%s_%.3f_%d_%s.png' %\n",
    "                        (path, name, train_epoch, values[-1], now.strftime(\"%Y-%m-%d_%H:%M:%S\")))"
   ]
  },
  {
   "cell_type": "code",
   "execution_count": null,
   "id": "2d5e7892",
   "metadata": {},
   "outputs": [],
   "source": [
    "def save_model(generator, discriminator, gen_optimizer, dis_optimizer, metrics, num_epochs):\n",
    "    now = datetime.datetime.now()\n",
    "    g_losses = metrics['G_losses'][-1]\n",
    "    d_losses = metrics['D_losses'][-1]\n",
    "    path='GANAug/plots/ACGAN/train_%+.3f_%+.3f_%s'% (g_losses, d_losses, now.strftime(\"%Y-%m-%d_%H-%M-%S\"))\n",
    "    try:\n",
    "        os.mkdir(os.path.join('.', path))\n",
    "    except Exception as error:\n",
    "        print(error)\n",
    "    plot_gan('G_losses', num_epochs, metrics['G_losses'], path, True)\n",
    "    plot_gan('D_losses', num_epochs, metrics['D_losses'], path, True)\n",
    "    plot_gan('G_syn_losses', num_epochs, metrics['G_syn_losses'], path, True)\n",
    "    plot_gan('G_class_losses', num_epochs, metrics['G_class_losses'], path, True)\n",
    "    plot_gan('G_syn_losses', num_epochs, metrics['G_syn_losses'], path, True)\n",
    "    plot_gan('D_class_losses', num_epochs, metrics['D_class_losses'], path, True)\n",
    "    plot_gan('D_syn_losses', num_epochs, metrics['D_syn_losses'], path, True)\n",
    "    plot_gan('Losses', num_epochs, metrics['Losses'], path, True)\n",
    "    plot_gan('Accuracy', num_epochs, metrics['Accuracy'], path, True)"
   ]
  },
  {
   "cell_type": "code",
   "execution_count": null,
   "id": "f66ad873",
   "metadata": {},
   "outputs": [],
   "source": [
    "save_model(generator, discriminator, optimizerG, optimizerD, metrics, num_epochs)"
   ]
  },
  {
   "cell_type": "code",
   "execution_count": null,
   "id": "c56cd9c9",
   "metadata": {},
   "outputs": [],
   "source": [
    "test_img_list = []\n",
    "test_noise = torch.randn(batch_size, nz, device=device)\n",
    "test_label = torch.randn(batch_size, nb_label, device=device)\n",
    "test_img = generator(test_noise, test_label)\n",
    "\n",
    "s_output, c_label_op = discriminator(test_img.detach().to(device))\n",
    "print('Discriminator s', s_output)\n",
    "print('Discriminator c', c_label_op)\n",
    "\n",
    "test_img = test_img.detach().cpu()\n",
    "test_img_list.append(vutils.make_grid(test_img, padding=2, normalize=True))\n",
    "plt.imshow(np.transpose(test_img_list[-1],(1,2,0)))"
   ]
  },
  {
   "cell_type": "code",
   "execution_count": null,
   "id": "d45fe52a",
   "metadata": {},
   "outputs": [],
   "source": [
    "data = next(iter(test_loader))\n",
    "test_noise, test_class_lable = data\n",
    "test_img = test_noise\n",
    "print('class label for real', test_class_lable)\n",
    "\n",
    "s_output,c_label_op = discriminator(test_img.detach().to(device))\n",
    "print('Discriminator s', s_output)\n",
    "print('Discriminator c', c_label_op)\n",
    "\n",
    "test_img = test_img.detach().cpu()\n",
    "test_img_list.append(vutils.make_grid(test_img, padding=2, normalize=True))\n",
    "plt.imshow(np.transpose(test_img_list[-1],(1,2,0)))"
   ]
  }
 ],
 "metadata": {
  "kernelspec": {
   "display_name": "Python 3 (ipykernel)",
   "language": "python",
   "name": "python3"
  },
  "language_info": {
   "codemirror_mode": {
    "name": "ipython",
    "version": 3
   },
   "file_extension": ".py",
   "mimetype": "text/x-python",
   "name": "python",
   "nbconvert_exporter": "python",
   "pygments_lexer": "ipython3",
   "version": "3.8.10"
  }
 },
 "nbformat": 4,
 "nbformat_minor": 5
}
