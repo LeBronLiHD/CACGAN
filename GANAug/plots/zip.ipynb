{
 "cells": [
  {
   "cell_type": "code",
   "execution_count": 1,
   "id": "1f2cb451",
   "metadata": {},
   "outputs": [
    {
     "name": "stdout",
     "output_type": "stream",
     "text": [
      "ACGAN/\r\n",
      "ACGAN/train_+3.453_+3.646_2022-05-29_16-16-48/\r\n",
      "ACGAN/train_+3.453_+3.646_2022-05-29_16-16-48/G_losses_20.000_3_2022-05-29_16:16:49.png\r\n",
      "ACGAN/train_+3.453_+3.646_2022-05-29_16-16-48/D_losses_20.000_3_2022-05-29_16:16:50.png\r\n",
      "ACGAN/train_+3.453_+3.646_2022-05-29_16-16-48/G_syn_losses_20.000_3_2022-05-29_16:16:51.png\r\n",
      "ACGAN/train_+3.453_+3.646_2022-05-29_16-16-48/G_class_losses_20.000_0_2022-05-29_16:16:52.png\r\n",
      "ACGAN/train_+3.453_+3.646_2022-05-29_16-16-48/G_syn_losses_20.000_3_2022-05-29_16:16:54.png\r\n",
      "ACGAN/train_+3.453_+3.646_2022-05-29_16-16-48/D_class_losses_20.000_1_2022-05-29_16:16:55.png\r\n",
      "ACGAN/train_+3.453_+3.646_2022-05-29_16-16-48/D_syn_losses_20.000_3_2022-05-29_16:16:56.png\r\n",
      "ACGAN/train_+3.453_+3.646_2022-05-29_16-16-48/Losses_20.000_7_2022-05-29_16:16:57.png\r\n",
      "ACGAN/train_+3.453_+3.646_2022-05-29_16-16-48/Accuracy_20.000_0_2022-05-29_16:16:58.png\r\n",
      "plots.zip\r\n",
      "zip.ipynb\r\n"
     ]
    }
   ],
   "source": [
    "!tar chvfz plots.tar.gz *"
   ]
  },
  {
   "cell_type": "code",
   "execution_count": null,
   "id": "ee89411b",
   "metadata": {},
   "outputs": [],
   "source": []
  }
 ],
 "metadata": {
  "kernelspec": {
   "display_name": "Python 3 (ipykernel)",
   "language": "python",
   "name": "python3"
  },
  "language_info": {
   "codemirror_mode": {
    "name": "ipython",
    "version": 3
   },
   "file_extension": ".py",
   "mimetype": "text/x-python",
   "name": "python",
   "nbconvert_exporter": "python",
   "pygments_lexer": "ipython3",
   "version": "3.8.10"
  }
 },
 "nbformat": 4,
 "nbformat_minor": 5
}
